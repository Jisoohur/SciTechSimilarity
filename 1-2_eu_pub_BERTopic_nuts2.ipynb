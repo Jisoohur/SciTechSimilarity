{
 "cells": [
  {
   "cell_type": "markdown",
   "metadata": {},
   "source": [
    "# **European journal publications BERTopic**"
   ]
  },
  {
   "cell_type": "code",
   "execution_count": 1,
   "metadata": {},
   "outputs": [
    {
     "name": "stderr",
     "output_type": "stream",
     "text": [
      "c:\\Users\\user\\anaconda3\\envs\\bertopic_2\\lib\\site-packages\\tqdm\\auto.py:21: TqdmWarning: IProgress not found. Please update jupyter and ipywidgets. See https://ipywidgets.readthedocs.io/en/stable/user_install.html\n",
      "  from .autonotebook import tqdm as notebook_tqdm\n"
     ]
    }
   ],
   "source": [
    "import torch"
   ]
  },
  {
   "cell_type": "code",
   "execution_count": 2,
   "metadata": {},
   "outputs": [
    {
     "name": "stdout",
     "output_type": "stream",
     "text": [
      "Is CUDA available: True\n",
      "CUDA device count: 1\n",
      "Current device: 0\n",
      "Device name: NVIDIA GeForce RTX 4070 Laptop GPU\n"
     ]
    }
   ],
   "source": [
    "print(\"Is CUDA available:\", torch.cuda.is_available())\n",
    "print(\"CUDA device count:\", torch.cuda.device_count())\n",
    "print(\"Current device:\", torch.cuda.current_device())\n",
    "print(\"Device name:\", torch.cuda.get_device_name(0)) "
   ]
  },
  {
   "cell_type": "code",
   "execution_count": 3,
   "metadata": {},
   "outputs": [],
   "source": [
    "import pandas as pd\n",
    "import numpy as np\n",
    "from bertopic import BERTopic\n",
    "from umap import UMAP\n",
    "from hdbscan import HDBSCAN\n",
    "from sklearn.metrics import silhouette_score\n",
    "import re"
   ]
  },
  {
   "cell_type": "code",
   "execution_count": 4,
   "metadata": {},
   "outputs": [],
   "source": [
    "from sklearn.feature_extraction.text import CountVectorizer\n",
    "from sentence_transformers import SentenceTransformer\n",
    "from bertopic.vectorizers import ClassTfidfTransformer\n",
    "from sklearn.feature_extraction.text import CountVectorizer\n",
    "from sklearn.feature_extraction import text"
   ]
  },
  {
   "cell_type": "code",
   "execution_count": 5,
   "metadata": {},
   "outputs": [
    {
     "data": {
      "text/plain": [
       "'c:\\\\Users\\\\user\\\\OneDrive - TUM\\\\1. 연구\\\\In Progress\\\\Sci-tech semantic proximity and regional competitiveness\\\\Data\\\\Queries\\\\Sci-Tech Similarity'"
      ]
     },
     "execution_count": 5,
     "metadata": {},
     "output_type": "execute_result"
    }
   ],
   "source": [
    "import os\n",
    "os.getcwd()"
   ]
  },
  {
   "cell_type": "code",
   "execution_count": 6,
   "metadata": {},
   "outputs": [
    {
     "name": "stderr",
     "output_type": "stream",
     "text": [
      "C:\\Users\\user\\AppData\\Local\\Temp\\ipykernel_40432\\2166497544.py:2: DtypeWarning: Columns (2) have mixed types. Specify dtype option on import or set low_memory=False.\n",
      "  pub_publication = pd.read_csv('eu_pub_prox_publication.csv')\n"
     ]
    },
    {
     "data": {
      "text/html": [
       "<div>\n",
       "<style scoped>\n",
       "    .dataframe tbody tr th:only-of-type {\n",
       "        vertical-align: middle;\n",
       "    }\n",
       "\n",
       "    .dataframe tbody tr th {\n",
       "        vertical-align: top;\n",
       "    }\n",
       "\n",
       "    .dataframe thead th {\n",
       "        text-align: right;\n",
       "    }\n",
       "</style>\n",
       "<table border=\"1\" class=\"dataframe\">\n",
       "  <thead>\n",
       "    <tr style=\"text-align: right;\">\n",
       "      <th></th>\n",
       "      <th>pubid</th>\n",
       "      <th>pubyear</th>\n",
       "      <th>abstract</th>\n",
       "      <th>itemtitle</th>\n",
       "      <th>source</th>\n",
       "    </tr>\n",
       "  </thead>\n",
       "  <tbody>\n",
       "    <tr>\n",
       "      <th>0</th>\n",
       "      <td>2.0</td>\n",
       "      <td>1992</td>\n",
       "      <td>\\r\\n&lt;p&gt;Applications to release genetically mod...</td>\n",
       "      <td>Environmental risks from the release of geneti...</td>\n",
       "      <td>MOLECULAR ECOLOGY</td>\n",
       "    </tr>\n",
       "    <tr>\n",
       "      <th>1</th>\n",
       "      <td>3.0</td>\n",
       "      <td>1992</td>\n",
       "      <td>\\r\\n&lt;p&gt;A vector system was developed employing...</td>\n",
       "      <td>The construction of recA-deficient Rhizobium m...</td>\n",
       "      <td>MOLECULAR ECOLOGY</td>\n",
       "    </tr>\n",
       "    <tr>\n",
       "      <th>2</th>\n",
       "      <td>4.0</td>\n",
       "      <td>1992</td>\n",
       "      <td>\\r\\n&lt;p&gt;The use of DNA fingerprinting to identi...</td>\n",
       "      <td>DNA fingerprinting in clonal organisms</td>\n",
       "      <td>MOLECULAR ECOLOGY</td>\n",
       "    </tr>\n",
       "    <tr>\n",
       "      <th>3</th>\n",
       "      <td>5.0</td>\n",
       "      <td>1992</td>\n",
       "      <td>\\r\\n&lt;p&gt;Mitochondrial DNA (mtDNA) from 25 blue ...</td>\n",
       "      <td>Unusual mitochondrial DNA polymorphism in two ...</td>\n",
       "      <td>MOLECULAR ECOLOGY</td>\n",
       "    </tr>\n",
       "    <tr>\n",
       "      <th>4</th>\n",
       "      <td>7.0</td>\n",
       "      <td>1992</td>\n",
       "      <td>\\r\\n&lt;p&gt;Males of the bushcricket Poecilimon vel...</td>\n",
       "      <td>Last-male sperm precedence in the bushcricket ...</td>\n",
       "      <td>MOLECULAR ECOLOGY</td>\n",
       "    </tr>\n",
       "  </tbody>\n",
       "</table>\n",
       "</div>"
      ],
      "text/plain": [
       "   pubid  pubyear                                           abstract  \\\n",
       "0    2.0     1992  \\r\\n<p>Applications to release genetically mod...   \n",
       "1    3.0     1992  \\r\\n<p>A vector system was developed employing...   \n",
       "2    4.0     1992  \\r\\n<p>The use of DNA fingerprinting to identi...   \n",
       "3    5.0     1992  \\r\\n<p>Mitochondrial DNA (mtDNA) from 25 blue ...   \n",
       "4    7.0     1992  \\r\\n<p>Males of the bushcricket Poecilimon vel...   \n",
       "\n",
       "                                           itemtitle             source  \n",
       "0  Environmental risks from the release of geneti...  MOLECULAR ECOLOGY  \n",
       "1  The construction of recA-deficient Rhizobium m...  MOLECULAR ECOLOGY  \n",
       "2             DNA fingerprinting in clonal organisms  MOLECULAR ECOLOGY  \n",
       "3  Unusual mitochondrial DNA polymorphism in two ...  MOLECULAR ECOLOGY  \n",
       "4  Last-male sperm precedence in the bushcricket ...  MOLECULAR ECOLOGY  "
      ]
     },
     "execution_count": 6,
     "metadata": {},
     "output_type": "execute_result"
    }
   ],
   "source": [
    "import pandas as pd\n",
    "pub_publication = pd.read_csv('eu_pub_prox_publication.csv')\n",
    "pub_publication.head()"
   ]
  },
  {
   "cell_type": "code",
   "execution_count": 7,
   "metadata": {},
   "outputs": [
    {
     "data": {
      "text/plain": [
       "pubyear\n",
       "1980     48454\n",
       "1981     52298\n",
       "1982     56122\n",
       "1983     62820\n",
       "1984     67034\n",
       "1985     71256\n",
       "1986     73766\n",
       "1987     77961\n",
       "1988     83830\n",
       "1989     88437\n",
       "1990     94818\n",
       "1991    103016\n",
       "1992     73907\n",
       "1993       986\n",
       "1994      1023\n",
       "1995       795\n",
       "1996      1155\n",
       "1997     34417\n",
       "1998    271457\n",
       "1999    277423\n",
       "2000    281163\n",
       "2001    283183\n",
       "2002    284335\n",
       "2003    291954\n",
       "2004    301536\n",
       "2005    312048\n",
       "2006    328168\n",
       "2007    349233\n",
       "2008    364407\n",
       "2009    372445\n",
       "2010    386176\n",
       "2011    453469\n",
       "2012    472901\n",
       "2013    496512\n",
       "2014    500520\n",
       "2015    514727\n",
       "2016    530416\n",
       "2017    540196\n",
       "2018    551802\n",
       "2019    569131\n",
       "2020    621721\n",
       "2021    677744\n",
       "2022      8843\n",
       "Name: pubid, dtype: int64"
      ]
     },
     "execution_count": 7,
     "metadata": {},
     "output_type": "execute_result"
    }
   ],
   "source": [
    "# check the number of unique pubid in each pubyear\n",
    "pub_publication.groupby('pubyear')['pubid'].nunique()"
   ]
  },
  {
   "cell_type": "code",
   "execution_count": 8,
   "metadata": {},
   "outputs": [
    {
     "name": "stderr",
     "output_type": "stream",
     "text": [
      "C:\\Users\\user\\AppData\\Local\\Temp\\ipykernel_40432\\1327335224.py:2: DtypeWarning: Columns (3,4,5) have mixed types. Specify dtype option on import or set low_memory=False.\n",
      "  pub_institution = pd.read_csv('eu_pub_prox_institution.csv')\n"
     ]
    },
    {
     "data": {
      "text/html": [
       "<div>\n",
       "<style scoped>\n",
       "    .dataframe tbody tr th:only-of-type {\n",
       "        vertical-align: middle;\n",
       "    }\n",
       "\n",
       "    .dataframe tbody tr th {\n",
       "        vertical-align: top;\n",
       "    }\n",
       "\n",
       "    .dataframe thead th {\n",
       "        text-align: right;\n",
       "    }\n",
       "</style>\n",
       "<table border=\"1\" class=\"dataframe\">\n",
       "  <thead>\n",
       "    <tr style=\"text-align: right;\">\n",
       "      <th></th>\n",
       "      <th>pubid</th>\n",
       "      <th>pubyear</th>\n",
       "      <th>institution_id_te</th>\n",
       "      <th>organization</th>\n",
       "      <th>country</th>\n",
       "      <th>eu_nuts_id</th>\n",
       "    </tr>\n",
       "  </thead>\n",
       "  <tbody>\n",
       "    <tr>\n",
       "      <th>0</th>\n",
       "      <td>2.0</td>\n",
       "      <td>1992</td>\n",
       "      <td>81734973.0</td>\n",
       "      <td>UNIV YORK</td>\n",
       "      <td>ENGLAND</td>\n",
       "      <td>UKE21</td>\n",
       "    </tr>\n",
       "    <tr>\n",
       "      <th>1</th>\n",
       "      <td>2.0</td>\n",
       "      <td>1992</td>\n",
       "      <td>81889854.0</td>\n",
       "      <td>UNIVERSITY OF YORK - UK</td>\n",
       "      <td>ENGLAND</td>\n",
       "      <td>UKE21</td>\n",
       "    </tr>\n",
       "    <tr>\n",
       "      <th>2</th>\n",
       "      <td>3.0</td>\n",
       "      <td>1992</td>\n",
       "      <td>82583283.0</td>\n",
       "      <td>UNIVERSITY OF BIELEFELD</td>\n",
       "      <td>GERMANY</td>\n",
       "      <td>DEA41</td>\n",
       "    </tr>\n",
       "    <tr>\n",
       "      <th>3</th>\n",
       "      <td>3.0</td>\n",
       "      <td>1992</td>\n",
       "      <td>68681333.0</td>\n",
       "      <td>UNIV BIELEFELD</td>\n",
       "      <td>GERMANY</td>\n",
       "      <td>DEA41</td>\n",
       "    </tr>\n",
       "    <tr>\n",
       "      <th>4</th>\n",
       "      <td>4.0</td>\n",
       "      <td>1992</td>\n",
       "      <td>76491407.0</td>\n",
       "      <td>UNIV NOTTINGHAM</td>\n",
       "      <td>ENGLAND</td>\n",
       "      <td>UKF14</td>\n",
       "    </tr>\n",
       "  </tbody>\n",
       "</table>\n",
       "</div>"
      ],
      "text/plain": [
       "   pubid  pubyear  institution_id_te             organization  country  \\\n",
       "0    2.0     1992         81734973.0                UNIV YORK  ENGLAND   \n",
       "1    2.0     1992         81889854.0  UNIVERSITY OF YORK - UK  ENGLAND   \n",
       "2    3.0     1992         82583283.0  UNIVERSITY OF BIELEFELD  GERMANY   \n",
       "3    3.0     1992         68681333.0           UNIV BIELEFELD  GERMANY   \n",
       "4    4.0     1992         76491407.0          UNIV NOTTINGHAM  ENGLAND   \n",
       "\n",
       "  eu_nuts_id  \n",
       "0      UKE21  \n",
       "1      UKE21  \n",
       "2      DEA41  \n",
       "3      DEA41  \n",
       "4      UKF14  "
      ]
     },
     "execution_count": 8,
     "metadata": {},
     "output_type": "execute_result"
    }
   ],
   "source": [
    "import pandas as pd\n",
    "pub_institution = pd.read_csv('eu_pub_prox_institution.csv')\n",
    "pub_institution.head()"
   ]
  },
  {
   "cell_type": "code",
   "execution_count": 9,
   "metadata": {},
   "outputs": [
    {
     "data": {
      "text/plain": [
       "pubyear\n",
       "1980     48454\n",
       "1981     52298\n",
       "1982     56122\n",
       "1983     62820\n",
       "1984     67034\n",
       "1985     71256\n",
       "1986     73766\n",
       "1987     77961\n",
       "1988     83830\n",
       "1989     88437\n",
       "1990     94818\n",
       "1991    103016\n",
       "1992     73907\n",
       "1993       986\n",
       "1994      1023\n",
       "1995       795\n",
       "1996      1155\n",
       "1997     34417\n",
       "1998    271457\n",
       "1999    277423\n",
       "2000    281163\n",
       "2001    283183\n",
       "2002    284335\n",
       "2003    291954\n",
       "2004    301536\n",
       "2005    312048\n",
       "2006    328168\n",
       "2007    349233\n",
       "2008    364407\n",
       "2009    372445\n",
       "2010    386176\n",
       "2011    453469\n",
       "2012    472901\n",
       "2013    496512\n",
       "2014    500520\n",
       "2015    514727\n",
       "2016    530416\n",
       "2017    540196\n",
       "2018    551802\n",
       "2019    569131\n",
       "2020    621721\n",
       "2021    677744\n",
       "2022      8843\n",
       "Name: pubid, dtype: int64"
      ]
     },
     "execution_count": 9,
     "metadata": {},
     "output_type": "execute_result"
    }
   ],
   "source": [
    "# check the number of unique pubid in each pubyear\n",
    "pub_institution.groupby('pubyear')['pubid'].nunique()"
   ]
  },
  {
   "cell_type": "code",
   "execution_count": 10,
   "metadata": {},
   "outputs": [
    {
     "data": {
      "text/html": [
       "<div>\n",
       "<style scoped>\n",
       "    .dataframe tbody tr th:only-of-type {\n",
       "        vertical-align: middle;\n",
       "    }\n",
       "\n",
       "    .dataframe tbody tr th {\n",
       "        vertical-align: top;\n",
       "    }\n",
       "\n",
       "    .dataframe thead th {\n",
       "        text-align: right;\n",
       "    }\n",
       "</style>\n",
       "<table border=\"1\" class=\"dataframe\">\n",
       "  <thead>\n",
       "    <tr style=\"text-align: right;\">\n",
       "      <th></th>\n",
       "      <th>pubid</th>\n",
       "      <th>eu_nuts_id</th>\n",
       "    </tr>\n",
       "  </thead>\n",
       "  <tbody>\n",
       "    <tr>\n",
       "      <th>0</th>\n",
       "      <td>2.0</td>\n",
       "      <td>UKE21</td>\n",
       "    </tr>\n",
       "    <tr>\n",
       "      <th>2</th>\n",
       "      <td>3.0</td>\n",
       "      <td>DEA41</td>\n",
       "    </tr>\n",
       "    <tr>\n",
       "      <th>4</th>\n",
       "      <td>4.0</td>\n",
       "      <td>UKF14</td>\n",
       "    </tr>\n",
       "    <tr>\n",
       "      <th>8</th>\n",
       "      <td>5.0</td>\n",
       "      <td>FR714</td>\n",
       "    </tr>\n",
       "    <tr>\n",
       "      <th>14</th>\n",
       "      <td>7.0</td>\n",
       "      <td>DE252</td>\n",
       "    </tr>\n",
       "  </tbody>\n",
       "</table>\n",
       "</div>"
      ],
      "text/plain": [
       "    pubid eu_nuts_id\n",
       "0     2.0      UKE21\n",
       "2     3.0      DEA41\n",
       "4     4.0      UKF14\n",
       "8     5.0      FR714\n",
       "14    7.0      DE252"
      ]
     },
     "execution_count": 10,
     "metadata": {},
     "output_type": "execute_result"
    }
   ],
   "source": [
    "pub_institution = pub_institution[['pubid', 'eu_nuts_id']]\n",
    "pub_institution = pub_institution.drop_duplicates()\n",
    "pub_institution = pub_institution.dropna() \n",
    "pub_institution.head()"
   ]
  },
  {
   "cell_type": "code",
   "execution_count": 11,
   "metadata": {},
   "outputs": [
    {
     "data": {
      "text/html": [
       "<div>\n",
       "<style scoped>\n",
       "    .dataframe tbody tr th:only-of-type {\n",
       "        vertical-align: middle;\n",
       "    }\n",
       "\n",
       "    .dataframe tbody tr th {\n",
       "        vertical-align: top;\n",
       "    }\n",
       "\n",
       "    .dataframe thead th {\n",
       "        text-align: right;\n",
       "    }\n",
       "</style>\n",
       "<table border=\"1\" class=\"dataframe\">\n",
       "  <thead>\n",
       "    <tr style=\"text-align: right;\">\n",
       "      <th></th>\n",
       "      <th>pubid</th>\n",
       "      <th>eu_nuts_id</th>\n",
       "    </tr>\n",
       "  </thead>\n",
       "  <tbody>\n",
       "    <tr>\n",
       "      <th>0</th>\n",
       "      <td>2.0</td>\n",
       "      <td>UKE2</td>\n",
       "    </tr>\n",
       "    <tr>\n",
       "      <th>2</th>\n",
       "      <td>3.0</td>\n",
       "      <td>DEA4</td>\n",
       "    </tr>\n",
       "    <tr>\n",
       "      <th>4</th>\n",
       "      <td>4.0</td>\n",
       "      <td>UKF1</td>\n",
       "    </tr>\n",
       "    <tr>\n",
       "      <th>8</th>\n",
       "      <td>5.0</td>\n",
       "      <td>FR71</td>\n",
       "    </tr>\n",
       "    <tr>\n",
       "      <th>14</th>\n",
       "      <td>7.0</td>\n",
       "      <td>DE25</td>\n",
       "    </tr>\n",
       "    <tr>\n",
       "      <th>...</th>\n",
       "      <td>...</td>\n",
       "      <td>...</td>\n",
       "    </tr>\n",
       "    <tr>\n",
       "      <th>16384009</th>\n",
       "      <td>10637056.0</td>\n",
       "      <td>BE10</td>\n",
       "    </tr>\n",
       "    <tr>\n",
       "      <th>16384011</th>\n",
       "      <td>10637061.0</td>\n",
       "      <td>FR10</td>\n",
       "    </tr>\n",
       "    <tr>\n",
       "      <th>16384012</th>\n",
       "      <td>10637061.0</td>\n",
       "      <td>FR71</td>\n",
       "    </tr>\n",
       "    <tr>\n",
       "      <th>16384014</th>\n",
       "      <td>10637061.0</td>\n",
       "      <td>DEA1</td>\n",
       "    </tr>\n",
       "    <tr>\n",
       "      <th>16384016</th>\n",
       "      <td>10637062.0</td>\n",
       "      <td>ITI4</td>\n",
       "    </tr>\n",
       "  </tbody>\n",
       "</table>\n",
       "<p>3708810 rows × 2 columns</p>\n",
       "</div>"
      ],
      "text/plain": [
       "               pubid eu_nuts_id\n",
       "0                2.0       UKE2\n",
       "2                3.0       DEA4\n",
       "4                4.0       UKF1\n",
       "8                5.0       FR71\n",
       "14               7.0       DE25\n",
       "...              ...        ...\n",
       "16384009  10637056.0       BE10\n",
       "16384011  10637061.0       FR10\n",
       "16384012  10637061.0       FR71\n",
       "16384014  10637061.0       DEA1\n",
       "16384016  10637062.0       ITI4\n",
       "\n",
       "[3708810 rows x 2 columns]"
      ]
     },
     "execution_count": 11,
     "metadata": {},
     "output_type": "execute_result"
    }
   ],
   "source": [
    "# slice eu_nuts_id to 4 digits \n",
    "pub_institution['eu_nuts_id'] = pub_institution['eu_nuts_id'].str.slice(0, 4)\n",
    "pub_institution"
   ]
  },
  {
   "cell_type": "code",
   "execution_count": 12,
   "metadata": {},
   "outputs": [
    {
     "data": {
      "text/html": [
       "<div>\n",
       "<style scoped>\n",
       "    .dataframe tbody tr th:only-of-type {\n",
       "        vertical-align: middle;\n",
       "    }\n",
       "\n",
       "    .dataframe tbody tr th {\n",
       "        vertical-align: top;\n",
       "    }\n",
       "\n",
       "    .dataframe thead th {\n",
       "        text-align: right;\n",
       "    }\n",
       "</style>\n",
       "<table border=\"1\" class=\"dataframe\">\n",
       "  <thead>\n",
       "    <tr style=\"text-align: right;\">\n",
       "      <th></th>\n",
       "      <th>pubid</th>\n",
       "      <th>pubyear</th>\n",
       "      <th>abstract</th>\n",
       "      <th>itemtitle</th>\n",
       "      <th>source</th>\n",
       "      <th>eu_nuts_id</th>\n",
       "    </tr>\n",
       "  </thead>\n",
       "  <tbody>\n",
       "    <tr>\n",
       "      <th>0</th>\n",
       "      <td>2.0</td>\n",
       "      <td>1992</td>\n",
       "      <td>\\r\\n&lt;p&gt;Applications to release genetically mod...</td>\n",
       "      <td>Environmental risks from the release of geneti...</td>\n",
       "      <td>MOLECULAR ECOLOGY</td>\n",
       "      <td>UKE2</td>\n",
       "    </tr>\n",
       "    <tr>\n",
       "      <th>1</th>\n",
       "      <td>3.0</td>\n",
       "      <td>1992</td>\n",
       "      <td>\\r\\n&lt;p&gt;A vector system was developed employing...</td>\n",
       "      <td>The construction of recA-deficient Rhizobium m...</td>\n",
       "      <td>MOLECULAR ECOLOGY</td>\n",
       "      <td>DEA4</td>\n",
       "    </tr>\n",
       "    <tr>\n",
       "      <th>2</th>\n",
       "      <td>4.0</td>\n",
       "      <td>1992</td>\n",
       "      <td>\\r\\n&lt;p&gt;The use of DNA fingerprinting to identi...</td>\n",
       "      <td>DNA fingerprinting in clonal organisms</td>\n",
       "      <td>MOLECULAR ECOLOGY</td>\n",
       "      <td>UKF1</td>\n",
       "    </tr>\n",
       "    <tr>\n",
       "      <th>3</th>\n",
       "      <td>5.0</td>\n",
       "      <td>1992</td>\n",
       "      <td>\\r\\n&lt;p&gt;Mitochondrial DNA (mtDNA) from 25 blue ...</td>\n",
       "      <td>Unusual mitochondrial DNA polymorphism in two ...</td>\n",
       "      <td>MOLECULAR ECOLOGY</td>\n",
       "      <td>FR71</td>\n",
       "    </tr>\n",
       "    <tr>\n",
       "      <th>4</th>\n",
       "      <td>7.0</td>\n",
       "      <td>1992</td>\n",
       "      <td>\\r\\n&lt;p&gt;Males of the bushcricket Poecilimon vel...</td>\n",
       "      <td>Last-male sperm precedence in the bushcricket ...</td>\n",
       "      <td>MOLECULAR ECOLOGY</td>\n",
       "      <td>DE25</td>\n",
       "    </tr>\n",
       "  </tbody>\n",
       "</table>\n",
       "</div>"
      ],
      "text/plain": [
       "   pubid  pubyear                                           abstract  \\\n",
       "0    2.0     1992  \\r\\n<p>Applications to release genetically mod...   \n",
       "1    3.0     1992  \\r\\n<p>A vector system was developed employing...   \n",
       "2    4.0     1992  \\r\\n<p>The use of DNA fingerprinting to identi...   \n",
       "3    5.0     1992  \\r\\n<p>Mitochondrial DNA (mtDNA) from 25 blue ...   \n",
       "4    7.0     1992  \\r\\n<p>Males of the bushcricket Poecilimon vel...   \n",
       "\n",
       "                                           itemtitle             source  \\\n",
       "0  Environmental risks from the release of geneti...  MOLECULAR ECOLOGY   \n",
       "1  The construction of recA-deficient Rhizobium m...  MOLECULAR ECOLOGY   \n",
       "2             DNA fingerprinting in clonal organisms  MOLECULAR ECOLOGY   \n",
       "3  Unusual mitochondrial DNA polymorphism in two ...  MOLECULAR ECOLOGY   \n",
       "4  Last-male sperm precedence in the bushcricket ...  MOLECULAR ECOLOGY   \n",
       "\n",
       "  eu_nuts_id  \n",
       "0       UKE2  \n",
       "1       DEA4  \n",
       "2       UKF1  \n",
       "3       FR71  \n",
       "4       DE25  "
      ]
     },
     "execution_count": 12,
     "metadata": {},
     "output_type": "execute_result"
    }
   ],
   "source": [
    "# merge publication and institution on pubid \n",
    "df = pd.merge(pub_publication, pub_institution, on='pubid', how = 'outer')\n",
    "df.head()"
   ]
  },
  {
   "cell_type": "code",
   "execution_count": 13,
   "metadata": {},
   "outputs": [
    {
     "data": {
      "text/plain": [
       "(1980, 2022)"
      ]
     },
     "execution_count": 13,
     "metadata": {},
     "output_type": "execute_result"
    }
   ],
   "source": [
    "# check the lowest and highest pubyear \n",
    "df['pubyear'].min(), df['pubyear'].max()"
   ]
  },
  {
   "cell_type": "code",
   "execution_count": 14,
   "metadata": {},
   "outputs": [
    {
     "data": {
      "text/plain": [
       "530416"
      ]
     },
     "execution_count": 14,
     "metadata": {},
     "output_type": "execute_result"
    }
   ],
   "source": [
    "# check how many unique pubid there are in year 2017\n",
    "df[df['pubyear'] == 2016]['pubid'].nunique()"
   ]
  },
  {
   "cell_type": "code",
   "execution_count": 15,
   "metadata": {},
   "outputs": [
    {
     "data": {
      "text/plain": [
       "pubyear\n",
       "1980     48454\n",
       "1981     52298\n",
       "1982     56122\n",
       "1983     62820\n",
       "1984     67034\n",
       "1985     71256\n",
       "1986     73766\n",
       "1987     77961\n",
       "1988     83830\n",
       "1989     88437\n",
       "1990     94818\n",
       "1991    103016\n",
       "1992     73907\n",
       "1993       986\n",
       "1994      1023\n",
       "1995       795\n",
       "1996      1155\n",
       "1997     34417\n",
       "1998    271457\n",
       "1999    277423\n",
       "2000    281163\n",
       "2001    283183\n",
       "2002    284335\n",
       "2003    291954\n",
       "2004    301536\n",
       "2005    312048\n",
       "2006    328168\n",
       "2007    349233\n",
       "2008    364407\n",
       "2009    372445\n",
       "2010    386176\n",
       "2011    453469\n",
       "2012    472901\n",
       "2013    496512\n",
       "2014    500520\n",
       "2015    514727\n",
       "2016    530416\n",
       "2017    540196\n",
       "2018    551802\n",
       "2019    569131\n",
       "2020    621721\n",
       "2021    677744\n",
       "2022      8843\n",
       "Name: pubid, dtype: int64"
      ]
     },
     "execution_count": 15,
     "metadata": {},
     "output_type": "execute_result"
    }
   ],
   "source": [
    "# check the number of unique pubid in each year\n",
    "df.groupby('pubyear')['pubid'].nunique()"
   ]
  },
  {
   "cell_type": "code",
   "execution_count": 16,
   "metadata": {},
   "outputs": [
    {
     "data": {
      "text/plain": [
       "array([1992, 1996, 1997, 1998, 1999, 2000, 2001, 1995, 2002, 2003, 2004,\n",
       "       2006, 1994, 2005, 1989, 1986, 1993, 1990, 1987, 1988, 1991, 1985,\n",
       "       2007, 1981, 2008, 1982, 1984, 1983, 2009, 1980, 2010, 2012, 2011,\n",
       "       2013, 2015, 2014, 2017, 2016, 2018, 2019, 2020, 2021], dtype=int64)"
      ]
     },
     "execution_count": 16,
     "metadata": {},
     "output_type": "execute_result"
    }
   ],
   "source": [
    "# slice the data to only include data from 1980 to 2021\n",
    "df = df[(df['pubyear'] >= 1980) & (df['pubyear'] <= 2021)]\n",
    "df['pubyear'].unique()"
   ]
  },
  {
   "cell_type": "code",
   "execution_count": 17,
   "metadata": {},
   "outputs": [
    {
     "data": {
      "text/html": [
       "<div>\n",
       "<style scoped>\n",
       "    .dataframe tbody tr th:only-of-type {\n",
       "        vertical-align: middle;\n",
       "    }\n",
       "\n",
       "    .dataframe tbody tr th {\n",
       "        vertical-align: top;\n",
       "    }\n",
       "\n",
       "    .dataframe thead th {\n",
       "        text-align: right;\n",
       "    }\n",
       "</style>\n",
       "<table border=\"1\" class=\"dataframe\">\n",
       "  <thead>\n",
       "    <tr style=\"text-align: right;\">\n",
       "      <th></th>\n",
       "      <th>pubid</th>\n",
       "      <th>pubyear</th>\n",
       "      <th>abstract</th>\n",
       "      <th>itemtitle</th>\n",
       "      <th>source</th>\n",
       "      <th>eu_nuts_id</th>\n",
       "      <th>period</th>\n",
       "    </tr>\n",
       "  </thead>\n",
       "  <tbody>\n",
       "    <tr>\n",
       "      <th>0</th>\n",
       "      <td>2.0</td>\n",
       "      <td>1992</td>\n",
       "      <td>\\r\\n&lt;p&gt;Applications to release genetically mod...</td>\n",
       "      <td>Environmental risks from the release of geneti...</td>\n",
       "      <td>MOLECULAR ECOLOGY</td>\n",
       "      <td>UKE2</td>\n",
       "      <td>3</td>\n",
       "    </tr>\n",
       "    <tr>\n",
       "      <th>1</th>\n",
       "      <td>3.0</td>\n",
       "      <td>1992</td>\n",
       "      <td>\\r\\n&lt;p&gt;A vector system was developed employing...</td>\n",
       "      <td>The construction of recA-deficient Rhizobium m...</td>\n",
       "      <td>MOLECULAR ECOLOGY</td>\n",
       "      <td>DEA4</td>\n",
       "      <td>3</td>\n",
       "    </tr>\n",
       "    <tr>\n",
       "      <th>2</th>\n",
       "      <td>4.0</td>\n",
       "      <td>1992</td>\n",
       "      <td>\\r\\n&lt;p&gt;The use of DNA fingerprinting to identi...</td>\n",
       "      <td>DNA fingerprinting in clonal organisms</td>\n",
       "      <td>MOLECULAR ECOLOGY</td>\n",
       "      <td>UKF1</td>\n",
       "      <td>3</td>\n",
       "    </tr>\n",
       "    <tr>\n",
       "      <th>3</th>\n",
       "      <td>5.0</td>\n",
       "      <td>1992</td>\n",
       "      <td>\\r\\n&lt;p&gt;Mitochondrial DNA (mtDNA) from 25 blue ...</td>\n",
       "      <td>Unusual mitochondrial DNA polymorphism in two ...</td>\n",
       "      <td>MOLECULAR ECOLOGY</td>\n",
       "      <td>FR71</td>\n",
       "      <td>3</td>\n",
       "    </tr>\n",
       "    <tr>\n",
       "      <th>4</th>\n",
       "      <td>7.0</td>\n",
       "      <td>1992</td>\n",
       "      <td>\\r\\n&lt;p&gt;Males of the bushcricket Poecilimon vel...</td>\n",
       "      <td>Last-male sperm precedence in the bushcricket ...</td>\n",
       "      <td>MOLECULAR ECOLOGY</td>\n",
       "      <td>DE25</td>\n",
       "      <td>3</td>\n",
       "    </tr>\n",
       "  </tbody>\n",
       "</table>\n",
       "</div>"
      ],
      "text/plain": [
       "   pubid  pubyear                                           abstract  \\\n",
       "0    2.0     1992  \\r\\n<p>Applications to release genetically mod...   \n",
       "1    3.0     1992  \\r\\n<p>A vector system was developed employing...   \n",
       "2    4.0     1992  \\r\\n<p>The use of DNA fingerprinting to identi...   \n",
       "3    5.0     1992  \\r\\n<p>Mitochondrial DNA (mtDNA) from 25 blue ...   \n",
       "4    7.0     1992  \\r\\n<p>Males of the bushcricket Poecilimon vel...   \n",
       "\n",
       "                                           itemtitle             source  \\\n",
       "0  Environmental risks from the release of geneti...  MOLECULAR ECOLOGY   \n",
       "1  The construction of recA-deficient Rhizobium m...  MOLECULAR ECOLOGY   \n",
       "2             DNA fingerprinting in clonal organisms  MOLECULAR ECOLOGY   \n",
       "3  Unusual mitochondrial DNA polymorphism in two ...  MOLECULAR ECOLOGY   \n",
       "4  Last-male sperm precedence in the bushcricket ...  MOLECULAR ECOLOGY   \n",
       "\n",
       "  eu_nuts_id  period  \n",
       "0       UKE2       3  \n",
       "1       DEA4       3  \n",
       "2       UKF1       3  \n",
       "3       FR71       3  \n",
       "4       DE25       3  "
      ]
     },
     "execution_count": 17,
     "metadata": {},
     "output_type": "execute_result"
    }
   ],
   "source": [
    "# create 'period' column \n",
    "def assign_period(pubyear):\n",
    "    if 1981 <= pubyear <= 1985:\n",
    "        return 1\n",
    "    elif 1986 <= pubyear <= 1990:\n",
    "        return 2 \n",
    "    elif 1991 <= pubyear <= 1995:\n",
    "        return 3 \n",
    "    elif 1996 <= pubyear <= 2000:\n",
    "        return 4\n",
    "    elif 2001 <= pubyear <= 2005:\n",
    "        return 5\n",
    "    elif 2006 <= pubyear <= 2010:\n",
    "        return 6\n",
    "    elif 2011 <= pubyear <= 2015:\n",
    "        return 7\n",
    "    elif 2016 <= pubyear <= 2020:\n",
    "        return 8\n",
    "    else:\n",
    "        return 0 \n",
    "    \n",
    "df['period'] = df['pubyear'].apply(assign_period)\n",
    "df.head()"
   ]
  },
  {
   "cell_type": "code",
   "execution_count": 18,
   "metadata": {},
   "outputs": [
    {
     "data": {
      "text/html": [
       "<div>\n",
       "<style scoped>\n",
       "    .dataframe tbody tr th:only-of-type {\n",
       "        vertical-align: middle;\n",
       "    }\n",
       "\n",
       "    .dataframe tbody tr th {\n",
       "        vertical-align: top;\n",
       "    }\n",
       "\n",
       "    .dataframe thead th {\n",
       "        text-align: right;\n",
       "    }\n",
       "</style>\n",
       "<table border=\"1\" class=\"dataframe\">\n",
       "  <thead>\n",
       "    <tr style=\"text-align: right;\">\n",
       "      <th></th>\n",
       "      <th>pubid</th>\n",
       "      <th>pubyear</th>\n",
       "      <th>abstract</th>\n",
       "      <th>itemtitle</th>\n",
       "      <th>source</th>\n",
       "      <th>eu_nuts_id</th>\n",
       "      <th>period</th>\n",
       "    </tr>\n",
       "  </thead>\n",
       "  <tbody>\n",
       "    <tr>\n",
       "      <th>0</th>\n",
       "      <td>2.0</td>\n",
       "      <td>1992</td>\n",
       "      <td>Applications to release genetically modified o...</td>\n",
       "      <td>Environmental risks from the release of geneti...</td>\n",
       "      <td>MOLECULAR ECOLOGY</td>\n",
       "      <td>UKE2</td>\n",
       "      <td>3</td>\n",
       "    </tr>\n",
       "    <tr>\n",
       "      <th>1</th>\n",
       "      <td>3.0</td>\n",
       "      <td>1992</td>\n",
       "      <td>A vector system was developed employing the re...</td>\n",
       "      <td>The construction of recA-deficient Rhizobium m...</td>\n",
       "      <td>MOLECULAR ECOLOGY</td>\n",
       "      <td>DEA4</td>\n",
       "      <td>3</td>\n",
       "    </tr>\n",
       "    <tr>\n",
       "      <th>2</th>\n",
       "      <td>4.0</td>\n",
       "      <td>1992</td>\n",
       "      <td>The use of DNA fingerprinting to identify memb...</td>\n",
       "      <td>DNA fingerprinting in clonal organisms</td>\n",
       "      <td>MOLECULAR ECOLOGY</td>\n",
       "      <td>UKF1</td>\n",
       "      <td>3</td>\n",
       "    </tr>\n",
       "    <tr>\n",
       "      <th>3</th>\n",
       "      <td>5.0</td>\n",
       "      <td>1992</td>\n",
       "      <td>Mitochondrial DNA (mtDNA) from 25 blue tits Pa...</td>\n",
       "      <td>Unusual mitochondrial DNA polymorphism in two ...</td>\n",
       "      <td>MOLECULAR ECOLOGY</td>\n",
       "      <td>FR71</td>\n",
       "      <td>3</td>\n",
       "    </tr>\n",
       "    <tr>\n",
       "      <th>4</th>\n",
       "      <td>7.0</td>\n",
       "      <td>1992</td>\n",
       "      <td>Males of the bushcricket Poecilimon veluchianu...</td>\n",
       "      <td>Last-male sperm precedence in the bushcricket ...</td>\n",
       "      <td>MOLECULAR ECOLOGY</td>\n",
       "      <td>DE25</td>\n",
       "      <td>3</td>\n",
       "    </tr>\n",
       "  </tbody>\n",
       "</table>\n",
       "</div>"
      ],
      "text/plain": [
       "   pubid  pubyear                                           abstract  \\\n",
       "0    2.0     1992  Applications to release genetically modified o...   \n",
       "1    3.0     1992  A vector system was developed employing the re...   \n",
       "2    4.0     1992  The use of DNA fingerprinting to identify memb...   \n",
       "3    5.0     1992  Mitochondrial DNA (mtDNA) from 25 blue tits Pa...   \n",
       "4    7.0     1992  Males of the bushcricket Poecilimon veluchianu...   \n",
       "\n",
       "                                           itemtitle             source  \\\n",
       "0  Environmental risks from the release of geneti...  MOLECULAR ECOLOGY   \n",
       "1  The construction of recA-deficient Rhizobium m...  MOLECULAR ECOLOGY   \n",
       "2             DNA fingerprinting in clonal organisms  MOLECULAR ECOLOGY   \n",
       "3  Unusual mitochondrial DNA polymorphism in two ...  MOLECULAR ECOLOGY   \n",
       "4  Last-male sperm precedence in the bushcricket ...  MOLECULAR ECOLOGY   \n",
       "\n",
       "  eu_nuts_id  period  \n",
       "0       UKE2       3  \n",
       "1       DEA4       3  \n",
       "2       UKF1       3  \n",
       "3       FR71       3  \n",
       "4       DE25       3  "
      ]
     },
     "execution_count": 18,
     "metadata": {},
     "output_type": "execute_result"
    }
   ],
   "source": [
    "# remove '\\r\\n<p>' from the abstracts \n",
    "df['abstract'] = df['abstract'].str.replace('\\r\\n<p>', '')\n",
    "df.head()"
   ]
  },
  {
   "cell_type": "markdown",
   "metadata": {},
   "source": [
    "# **특정 기준 이상 논문 보유한 지역, 기간 선정**"
   ]
  },
  {
   "cell_type": "code",
   "execution_count": 19,
   "metadata": {},
   "outputs": [
    {
     "data": {
      "text/html": [
       "<div>\n",
       "<style scoped>\n",
       "    .dataframe tbody tr th:only-of-type {\n",
       "        vertical-align: middle;\n",
       "    }\n",
       "\n",
       "    .dataframe tbody tr th {\n",
       "        vertical-align: top;\n",
       "    }\n",
       "\n",
       "    .dataframe thead th {\n",
       "        text-align: right;\n",
       "    }\n",
       "</style>\n",
       "<table border=\"1\" class=\"dataframe\">\n",
       "  <thead>\n",
       "    <tr style=\"text-align: right;\">\n",
       "      <th></th>\n",
       "      <th>eu_nuts_id</th>\n",
       "      <th>period</th>\n",
       "      <th>pubid</th>\n",
       "    </tr>\n",
       "  </thead>\n",
       "  <tbody>\n",
       "    <tr>\n",
       "      <th>0</th>\n",
       "      <td>AT11</td>\n",
       "      <td>4</td>\n",
       "      <td>34</td>\n",
       "    </tr>\n",
       "    <tr>\n",
       "      <th>1</th>\n",
       "      <td>AT11</td>\n",
       "      <td>5</td>\n",
       "      <td>64</td>\n",
       "    </tr>\n",
       "    <tr>\n",
       "      <th>2</th>\n",
       "      <td>AT11</td>\n",
       "      <td>6</td>\n",
       "      <td>2</td>\n",
       "    </tr>\n",
       "    <tr>\n",
       "      <th>3</th>\n",
       "      <td>AT11</td>\n",
       "      <td>7</td>\n",
       "      <td>4</td>\n",
       "    </tr>\n",
       "    <tr>\n",
       "      <th>4</th>\n",
       "      <td>AT12</td>\n",
       "      <td>2</td>\n",
       "      <td>2</td>\n",
       "    </tr>\n",
       "  </tbody>\n",
       "</table>\n",
       "</div>"
      ],
      "text/plain": [
       "  eu_nuts_id  period  pubid\n",
       "0       AT11       4     34\n",
       "1       AT11       5     64\n",
       "2       AT11       6      2\n",
       "3       AT11       7      4\n",
       "4       AT12       2      2"
      ]
     },
     "execution_count": 19,
     "metadata": {},
     "output_type": "execute_result"
    }
   ],
   "source": [
    "# group by eu_nuts_id and period and count the number of unique pubid \n",
    "df_grouped = df.groupby(['eu_nuts_id', 'period'])['pubid'].nunique().reset_index()\n",
    "df_grouped.head()"
   ]
  },
  {
   "cell_type": "code",
   "execution_count": 20,
   "metadata": {},
   "outputs": [
    {
     "data": {
      "text/html": [
       "<div>\n",
       "<style scoped>\n",
       "    .dataframe tbody tr th:only-of-type {\n",
       "        vertical-align: middle;\n",
       "    }\n",
       "\n",
       "    .dataframe tbody tr th {\n",
       "        vertical-align: top;\n",
       "    }\n",
       "\n",
       "    .dataframe thead th {\n",
       "        text-align: right;\n",
       "    }\n",
       "</style>\n",
       "<table border=\"1\" class=\"dataframe\">\n",
       "  <thead>\n",
       "    <tr style=\"text-align: right;\">\n",
       "      <th></th>\n",
       "      <th>period</th>\n",
       "      <th>pubid</th>\n",
       "    </tr>\n",
       "  </thead>\n",
       "  <tbody>\n",
       "    <tr>\n",
       "      <th>count</th>\n",
       "      <td>1792.000000</td>\n",
       "      <td>1792.000000</td>\n",
       "    </tr>\n",
       "    <tr>\n",
       "      <th>mean</th>\n",
       "      <td>4.308036</td>\n",
       "      <td>1993.296875</td>\n",
       "    </tr>\n",
       "    <tr>\n",
       "      <th>std</th>\n",
       "      <td>1.994404</td>\n",
       "      <td>5352.149497</td>\n",
       "    </tr>\n",
       "    <tr>\n",
       "      <th>min</th>\n",
       "      <td>0.000000</td>\n",
       "      <td>1.000000</td>\n",
       "    </tr>\n",
       "    <tr>\n",
       "      <th>25%</th>\n",
       "      <td>3.000000</td>\n",
       "      <td>9.750000</td>\n",
       "    </tr>\n",
       "    <tr>\n",
       "      <th>50%</th>\n",
       "      <td>4.000000</td>\n",
       "      <td>99.000000</td>\n",
       "    </tr>\n",
       "    <tr>\n",
       "      <th>75%</th>\n",
       "      <td>6.000000</td>\n",
       "      <td>1167.750000</td>\n",
       "    </tr>\n",
       "    <tr>\n",
       "      <th>max</th>\n",
       "      <td>8.000000</td>\n",
       "      <td>94877.000000</td>\n",
       "    </tr>\n",
       "  </tbody>\n",
       "</table>\n",
       "</div>"
      ],
      "text/plain": [
       "            period         pubid\n",
       "count  1792.000000   1792.000000\n",
       "mean      4.308036   1993.296875\n",
       "std       1.994404   5352.149497\n",
       "min       0.000000      1.000000\n",
       "25%       3.000000      9.750000\n",
       "50%       4.000000     99.000000\n",
       "75%       6.000000   1167.750000\n",
       "max       8.000000  94877.000000"
      ]
     },
     "execution_count": 20,
     "metadata": {},
     "output_type": "execute_result"
    }
   ],
   "source": [
    "df_grouped.describe()"
   ]
  },
  {
   "cell_type": "code",
   "execution_count": 21,
   "metadata": {},
   "outputs": [
    {
     "data": {
      "text/html": [
       "<div>\n",
       "<style scoped>\n",
       "    .dataframe tbody tr th:only-of-type {\n",
       "        vertical-align: middle;\n",
       "    }\n",
       "\n",
       "    .dataframe tbody tr th {\n",
       "        vertical-align: top;\n",
       "    }\n",
       "\n",
       "    .dataframe thead th {\n",
       "        text-align: right;\n",
       "    }\n",
       "</style>\n",
       "<table border=\"1\" class=\"dataframe\">\n",
       "  <thead>\n",
       "    <tr style=\"text-align: right;\">\n",
       "      <th></th>\n",
       "      <th>eu_nuts_id</th>\n",
       "      <th>period</th>\n",
       "      <th>pubid</th>\n",
       "    </tr>\n",
       "  </thead>\n",
       "  <tbody>\n",
       "    <tr>\n",
       "      <th>6</th>\n",
       "      <td>AT12</td>\n",
       "      <td>4</td>\n",
       "      <td>597</td>\n",
       "    </tr>\n",
       "    <tr>\n",
       "      <th>7</th>\n",
       "      <td>AT12</td>\n",
       "      <td>5</td>\n",
       "      <td>1309</td>\n",
       "    </tr>\n",
       "    <tr>\n",
       "      <th>8</th>\n",
       "      <td>AT12</td>\n",
       "      <td>6</td>\n",
       "      <td>116</td>\n",
       "    </tr>\n",
       "    <tr>\n",
       "      <th>13</th>\n",
       "      <td>AT13</td>\n",
       "      <td>4</td>\n",
       "      <td>11735</td>\n",
       "    </tr>\n",
       "    <tr>\n",
       "      <th>14</th>\n",
       "      <td>AT13</td>\n",
       "      <td>5</td>\n",
       "      <td>21362</td>\n",
       "    </tr>\n",
       "    <tr>\n",
       "      <th>...</th>\n",
       "      <td>...</td>\n",
       "      <td>...</td>\n",
       "      <td>...</td>\n",
       "    </tr>\n",
       "    <tr>\n",
       "      <th>1782</th>\n",
       "      <td>UKM6</td>\n",
       "      <td>5</td>\n",
       "      <td>661</td>\n",
       "    </tr>\n",
       "    <tr>\n",
       "      <th>1788</th>\n",
       "      <td>UKN0</td>\n",
       "      <td>4</td>\n",
       "      <td>3851</td>\n",
       "    </tr>\n",
       "    <tr>\n",
       "      <th>1789</th>\n",
       "      <td>UKN0</td>\n",
       "      <td>5</td>\n",
       "      <td>6627</td>\n",
       "    </tr>\n",
       "    <tr>\n",
       "      <th>1790</th>\n",
       "      <td>UKN0</td>\n",
       "      <td>6</td>\n",
       "      <td>575</td>\n",
       "    </tr>\n",
       "    <tr>\n",
       "      <th>1791</th>\n",
       "      <td>UKN0</td>\n",
       "      <td>7</td>\n",
       "      <td>110</td>\n",
       "    </tr>\n",
       "  </tbody>\n",
       "</table>\n",
       "<p>896 rows × 3 columns</p>\n",
       "</div>"
      ],
      "text/plain": [
       "     eu_nuts_id  period  pubid\n",
       "6          AT12       4    597\n",
       "7          AT12       5   1309\n",
       "8          AT12       6    116\n",
       "13         AT13       4  11735\n",
       "14         AT13       5  21362\n",
       "...         ...     ...    ...\n",
       "1782       UKM6       5    661\n",
       "1788       UKN0       4   3851\n",
       "1789       UKN0       5   6627\n",
       "1790       UKN0       6    575\n",
       "1791       UKN0       7    110\n",
       "\n",
       "[896 rows x 3 columns]"
      ]
     },
     "execution_count": 21,
     "metadata": {},
     "output_type": "execute_result"
    }
   ],
   "source": [
    "# drop rows where pubid is less than 50 \n",
    "df_grouped = df_grouped[df_grouped['pubid'] >= 100]\n",
    "df_grouped"
   ]
  },
  {
   "cell_type": "code",
   "execution_count": 22,
   "metadata": {},
   "outputs": [
    {
     "data": {
      "text/plain": [
       "281"
      ]
     },
     "execution_count": 22,
     "metadata": {},
     "output_type": "execute_result"
    }
   ],
   "source": [
    "df_grouped['eu_nuts_id'].nunique()"
   ]
  },
  {
   "cell_type": "code",
   "execution_count": 23,
   "metadata": {},
   "outputs": [],
   "source": [
    "df_grouped.to_csv('pub_above_100.csv', index=False)"
   ]
  },
  {
   "cell_type": "code",
   "execution_count": 24,
   "metadata": {},
   "outputs": [
    {
     "data": {
      "text/html": [
       "<div>\n",
       "<style scoped>\n",
       "    .dataframe tbody tr th:only-of-type {\n",
       "        vertical-align: middle;\n",
       "    }\n",
       "\n",
       "    .dataframe tbody tr th {\n",
       "        vertical-align: top;\n",
       "    }\n",
       "\n",
       "    .dataframe thead th {\n",
       "        text-align: right;\n",
       "    }\n",
       "</style>\n",
       "<table border=\"1\" class=\"dataframe\">\n",
       "  <thead>\n",
       "    <tr style=\"text-align: right;\">\n",
       "      <th></th>\n",
       "      <th>pubid</th>\n",
       "      <th>pubyear</th>\n",
       "      <th>abstract</th>\n",
       "      <th>itemtitle</th>\n",
       "      <th>source</th>\n",
       "      <th>eu_nuts_id</th>\n",
       "      <th>period</th>\n",
       "    </tr>\n",
       "  </thead>\n",
       "  <tbody>\n",
       "    <tr>\n",
       "      <th>0</th>\n",
       "      <td>5.0</td>\n",
       "      <td>1992</td>\n",
       "      <td>Mitochondrial DNA (mtDNA) from 25 blue tits Pa...</td>\n",
       "      <td>Unusual mitochondrial DNA polymorphism in two ...</td>\n",
       "      <td>MOLECULAR ECOLOGY</td>\n",
       "      <td>FR71</td>\n",
       "      <td>3</td>\n",
       "    </tr>\n",
       "    <tr>\n",
       "      <th>1</th>\n",
       "      <td>3798739.0</td>\n",
       "      <td>1995</td>\n",
       "      <td>A number of surface modification methods using...</td>\n",
       "      <td>Adhesion science and surface analysis. Typical...</td>\n",
       "      <td>JOURNAL OF ADHESION</td>\n",
       "      <td>FR71</td>\n",
       "      <td>3</td>\n",
       "    </tr>\n",
       "    <tr>\n",
       "      <th>2</th>\n",
       "      <td>3798867.0</td>\n",
       "      <td>1995</td>\n",
       "      <td>This paper describes the prototype of an exper...</td>\n",
       "      <td>An expert system for cement kilns analysis usi...</td>\n",
       "      <td>CHEMICAL ENGINEERING COMMUNICATIONS</td>\n",
       "      <td>FR71</td>\n",
       "      <td>3</td>\n",
       "    </tr>\n",
       "    <tr>\n",
       "      <th>3</th>\n",
       "      <td>3813535.0</td>\n",
       "      <td>1995</td>\n",
       "      <td>Since the work of Pauwels, the forces exerted ...</td>\n",
       "      <td>Biomechanics of the hip: forces exerted during...</td>\n",
       "      <td>SURGICAL AND RADIOLOGIC ANATOMY</td>\n",
       "      <td>FR71</td>\n",
       "      <td>3</td>\n",
       "    </tr>\n",
       "    <tr>\n",
       "      <th>4</th>\n",
       "      <td>7083096.0</td>\n",
       "      <td>1993</td>\n",
       "      <td>Throughout manufacturing history, management h...</td>\n",
       "      <td>Direct value added and economic weight factors...</td>\n",
       "      <td>INTERNATIONAL JOURNAL OF ADVANCED MANUFACTURIN...</td>\n",
       "      <td>FR71</td>\n",
       "      <td>3</td>\n",
       "    </tr>\n",
       "    <tr>\n",
       "      <th>...</th>\n",
       "      <td>...</td>\n",
       "      <td>...</td>\n",
       "      <td>...</td>\n",
       "      <td>...</td>\n",
       "      <td>...</td>\n",
       "      <td>...</td>\n",
       "      <td>...</td>\n",
       "    </tr>\n",
       "    <tr>\n",
       "      <th>3690762</th>\n",
       "      <td>7676856.0</td>\n",
       "      <td>2015</td>\n",
       "      <td>This paper provides recommendations of one nam...</td>\n",
       "      <td>Recommended names for pleomorphic genera in Do...</td>\n",
       "      <td>IMA FUNGUS</td>\n",
       "      <td>DEE0</td>\n",
       "      <td>7</td>\n",
       "    </tr>\n",
       "    <tr>\n",
       "      <th>3690763</th>\n",
       "      <td>7684153.0</td>\n",
       "      <td>2015</td>\n",
       "      <td>Background: In pediatric Hodgkin's lymphoma (p...</td>\n",
       "      <td>FDG-PET Response Prediction in Pediatric Hodgk...</td>\n",
       "      <td>CANCERS</td>\n",
       "      <td>DEE0</td>\n",
       "      <td>7</td>\n",
       "    </tr>\n",
       "    <tr>\n",
       "      <th>3690764</th>\n",
       "      <td>7690432.0</td>\n",
       "      <td>2015</td>\n",
       "      <td>Background: In this work, two-dimensional (2D)...</td>\n",
       "      <td>Evaluation of 2D spatially selective MR spectr...</td>\n",
       "      <td>QUANTITATIVE IMAGING IN MEDICINE AND SURGERY</td>\n",
       "      <td>DEE0</td>\n",
       "      <td>7</td>\n",
       "    </tr>\n",
       "    <tr>\n",
       "      <th>3690765</th>\n",
       "      <td>7698533.0</td>\n",
       "      <td>2015</td>\n",
       "      <td>Feedback is generally accepted as a suitable i...</td>\n",
       "      <td>An analysis of smart metering information syst...</td>\n",
       "      <td>ENERGY RESEARCH &amp; SOCIAL SCIENCE</td>\n",
       "      <td>DEE0</td>\n",
       "      <td>7</td>\n",
       "    </tr>\n",
       "    <tr>\n",
       "      <th>3690766</th>\n",
       "      <td>7698996.0</td>\n",
       "      <td>2014</td>\n",
       "      <td>In breeding programs wild strawberry species a...</td>\n",
       "      <td>Diversity of metabolite patterns and sensory c...</td>\n",
       "      <td>JOURNAL OF BERRY RESEARCH</td>\n",
       "      <td>DEE0</td>\n",
       "      <td>7</td>\n",
       "    </tr>\n",
       "  </tbody>\n",
       "</table>\n",
       "<p>3690767 rows × 7 columns</p>\n",
       "</div>"
      ],
      "text/plain": [
       "             pubid  pubyear  \\\n",
       "0              5.0     1992   \n",
       "1        3798739.0     1995   \n",
       "2        3798867.0     1995   \n",
       "3        3813535.0     1995   \n",
       "4        7083096.0     1993   \n",
       "...            ...      ...   \n",
       "3690762  7676856.0     2015   \n",
       "3690763  7684153.0     2015   \n",
       "3690764  7690432.0     2015   \n",
       "3690765  7698533.0     2015   \n",
       "3690766  7698996.0     2014   \n",
       "\n",
       "                                                  abstract  \\\n",
       "0        Mitochondrial DNA (mtDNA) from 25 blue tits Pa...   \n",
       "1        A number of surface modification methods using...   \n",
       "2        This paper describes the prototype of an exper...   \n",
       "3        Since the work of Pauwels, the forces exerted ...   \n",
       "4        Throughout manufacturing history, management h...   \n",
       "...                                                    ...   \n",
       "3690762  This paper provides recommendations of one nam...   \n",
       "3690763  Background: In pediatric Hodgkin's lymphoma (p...   \n",
       "3690764  Background: In this work, two-dimensional (2D)...   \n",
       "3690765  Feedback is generally accepted as a suitable i...   \n",
       "3690766  In breeding programs wild strawberry species a...   \n",
       "\n",
       "                                                 itemtitle  \\\n",
       "0        Unusual mitochondrial DNA polymorphism in two ...   \n",
       "1        Adhesion science and surface analysis. Typical...   \n",
       "2        An expert system for cement kilns analysis usi...   \n",
       "3        Biomechanics of the hip: forces exerted during...   \n",
       "4        Direct value added and economic weight factors...   \n",
       "...                                                    ...   \n",
       "3690762  Recommended names for pleomorphic genera in Do...   \n",
       "3690763  FDG-PET Response Prediction in Pediatric Hodgk...   \n",
       "3690764  Evaluation of 2D spatially selective MR spectr...   \n",
       "3690765  An analysis of smart metering information syst...   \n",
       "3690766  Diversity of metabolite patterns and sensory c...   \n",
       "\n",
       "                                                    source eu_nuts_id  period  \n",
       "0                                        MOLECULAR ECOLOGY       FR71       3  \n",
       "1                                      JOURNAL OF ADHESION       FR71       3  \n",
       "2                      CHEMICAL ENGINEERING COMMUNICATIONS       FR71       3  \n",
       "3                          SURGICAL AND RADIOLOGIC ANATOMY       FR71       3  \n",
       "4        INTERNATIONAL JOURNAL OF ADVANCED MANUFACTURIN...       FR71       3  \n",
       "...                                                    ...        ...     ...  \n",
       "3690762                                         IMA FUNGUS       DEE0       7  \n",
       "3690763                                            CANCERS       DEE0       7  \n",
       "3690764       QUANTITATIVE IMAGING IN MEDICINE AND SURGERY       DEE0       7  \n",
       "3690765                   ENERGY RESEARCH & SOCIAL SCIENCE       DEE0       7  \n",
       "3690766                          JOURNAL OF BERRY RESEARCH       DEE0       7  \n",
       "\n",
       "[3690767 rows x 7 columns]"
      ]
     },
     "execution_count": 24,
     "metadata": {},
     "output_type": "execute_result"
    }
   ],
   "source": [
    "# drop rows in df where each pair of eu_nuts_id and period is not in df_grouped\n",
    "df = df.merge(df_grouped[['eu_nuts_id', 'period']], on=['eu_nuts_id', 'period'], how='inner')\n",
    "df"
   ]
  },
  {
   "cell_type": "code",
   "execution_count": 25,
   "metadata": {},
   "outputs": [],
   "source": [
    "# customize stop words list\n",
    "custom_stop_words = [\"determining\", \"method\", \"includes\", \"based\", \"second\", \"using\", 'showed', 'problem', \"study\", \"non\"\n",
    "                     \"12\", \"14\", \"15\", \"2014\", \"iii\", \"ii\", \"10\", \"1a\", \"11\", \"cm\", \"60\", '28', '250', '17',\n",
    "                     \"25\", \"40\", \"model\", \"2005\", \"ar\", \"rh\", \"kv\", \"sb\", \"ac\", \"www\", \"nm\", 'srr', 'xy', 'sigma',\n",
    "                     \"mo\", \"nm\", \"18\", \"ee\", \"pb\", \"gev\", \"mu\", \"rh\", \"ln\", \"a15\", \"13\", \"ag\", '55', 'effect','nd3',\n",
    "                     \"nm\", \"qds\", \"iv\", \"ag\", \"rms\", \"le\", \"p53\", \"pl\", \"fe\", \"ir\", \"4abn\", \"nmr\", \"ni\", '05', '74',\n",
    "                     \"ta\", \"tio2\"< \"thz\", \"db\", \"hz\", \"iso\", \"pss\", \"1310\", \"nu\", \"tf\", \"tf\", '33', '350',\n",
    "                     \"km\", \"tev\", \"gev\", \"fb\", \"tl\", \"t2dm\", \"nlc\", \"dot\", \"si\", \"cb7\", \"mc\", \"soi\", '100', \n",
    "                     \"dots\", \"pi\", \"qd\", \"la\", \"cdw\", \"iqp\", \"ccl4\", \"no2\", \"mm\", \"p1\", \"bi\", \"ho\", \"rs\", '00',\n",
    "                     \"qh\", \"tio2\", \"nu\", \"nir\", \"time\", \"bm12\", \"ssi\", \"u6\", \"current\", \"nmr\", 'hs', 'sp',\n",
    "                     \"gev\", \"tot\", \"1h\", \"hh\", \"hi\", \"qds\", \"pss\", \"no2\", \"zb\", \"wz\", \"al\", \"ge\", 'ff', 'der',\n",
    "                     \"ect\", \"mdd\", \"95\", \"girls\", \"uc\", \"cpe\", \"di\", \"uc\", \"er3\", \"new\", 's190', 's208', '44',\n",
    "                     \"od\", \"ch3\", \"yb\", \"eu\", \"tb\", \"nr\", \"ope3\", \"4tp\", \"mu\", \"center\", \"la\", '3b', 'eag1',\n",
    "                     \"number\", \"su\", \"ch4\", \"fe\", \"cr\", \"ni\", \"eat\", \"ws\", \"spp\", \"mn2\", \"mm\", 'ss', 'oc',\n",
    "                     \"rf\", \"li\", \"2016\", \"16\", \"sic\", \"si\", \"von\", \"sept3\", \"0d\", \"36\", 'igf1r', 'ma', 'mnc', ''\n",
    "                     'o3', 'correctly', 'tb', 'te', 'il', 'cd39', 'cd73', 'au', 'ou', 'ml', 'mg', 'puo2', '298',\n",
    "                     'sec', 'eta', 'ba122', 'al', 'cgm', 'h2s', 'ir', 'sni', '45', '75', 'tio2', '60', 'sp', '4000', \n",
    "                     'ge', 'si', '5p', '120', '2d', 'random', 'theory', 'li', 'qds', 'qd', 'p3ht', 'mu', '69', '71',\n",
    "                     'p2', 'gw', '511', '3885', 'yb3', '25', 'sir', '240', 'ro', 't34', '10', '6p', 'bbb', 'c1', 'c3',\n",
    "                     'nno', 'nlo', 'ag', 'sb', 'naf', 'ga', 'se', 'cu', 'gd', 'pf6', 'dots', 'dat', '4f', \n",
    "                     'ch3', 'center', 'centre', 'mc3t3', 'e1', '1064', 'jc', 'ga', 'cf3', 'bu', 'zn', 'near', \n",
    "                     'np', 'zn', 'cp', 'fr', 'nmc', 'nca', 'oco', 'dsb', 'ssb', 'oe', 'mn', '300', '80', 'b12x12',\n",
    "                     'nh', 'br', 'mw', '77', 'ig', '24', 'sigma', '700', 'ij', '1h', 'approach', '4b', '343', \n",
    "                     's6', 'ce3', 'advantages', 'phase', '001', 'ad', 'dy3', '111', '2000', 'matter', '99',\n",
    "                     'results', 'used', 'methods', 'analysis', 'used', 'associated', 'different', 'argue', 'article', \n",
    "                     'let', 'research', 'data', 'paper', 'examines', 'prove', 'proposed', 'samples', 'study', 'similar', \n",
    "                     'compared', 'significantly', 'high', 'publication', 'significant', 'use', 'studies', 'category', \n",
    "                     'use', 'field', 'group', 'years', '000', '2024', 'field', 'risk', 'non', 'age'\n",
    "                     ]  \n",
    "\n",
    "# 기본 영어 stop words (서술어, 조사 등) 목록 가져오기\n",
    "default_stop_words = text.ENGLISH_STOP_WORDS\n",
    "\n",
    "# 기본 영어 stop words에 추가할 단어들 합치기\n",
    "all_stop_words = list(default_stop_words.union(custom_stop_words))"
   ]
  },
  {
   "cell_type": "code",
   "execution_count": 26,
   "metadata": {},
   "outputs": [
    {
     "data": {
      "text/html": [
       "<div>\n",
       "<style scoped>\n",
       "    .dataframe tbody tr th:only-of-type {\n",
       "        vertical-align: middle;\n",
       "    }\n",
       "\n",
       "    .dataframe tbody tr th {\n",
       "        vertical-align: top;\n",
       "    }\n",
       "\n",
       "    .dataframe thead th {\n",
       "        text-align: right;\n",
       "    }\n",
       "</style>\n",
       "<table border=\"1\" class=\"dataframe\">\n",
       "  <thead>\n",
       "    <tr style=\"text-align: right;\">\n",
       "      <th></th>\n",
       "      <th>pubid</th>\n",
       "      <th>pubyear</th>\n",
       "      <th>abstract</th>\n",
       "      <th>itemtitle</th>\n",
       "      <th>source</th>\n",
       "      <th>eu_nuts_id</th>\n",
       "      <th>period</th>\n",
       "    </tr>\n",
       "  </thead>\n",
       "  <tbody>\n",
       "    <tr>\n",
       "      <th>0</th>\n",
       "      <td>5.0</td>\n",
       "      <td>1992</td>\n",
       "      <td>Mitochondrial DNA (mtDNA) from 25 blue tits Pa...</td>\n",
       "      <td>Unusual mitochondrial DNA polymorphism in two ...</td>\n",
       "      <td>MOLECULAR ECOLOGY</td>\n",
       "      <td>FR71</td>\n",
       "      <td>3</td>\n",
       "    </tr>\n",
       "    <tr>\n",
       "      <th>1</th>\n",
       "      <td>3798739.0</td>\n",
       "      <td>1995</td>\n",
       "      <td>A number of surface modification methods using...</td>\n",
       "      <td>Adhesion science and surface analysis. Typical...</td>\n",
       "      <td>JOURNAL OF ADHESION</td>\n",
       "      <td>FR71</td>\n",
       "      <td>3</td>\n",
       "    </tr>\n",
       "    <tr>\n",
       "      <th>2</th>\n",
       "      <td>3798867.0</td>\n",
       "      <td>1995</td>\n",
       "      <td>This paper describes the prototype of an exper...</td>\n",
       "      <td>An expert system for cement kilns analysis usi...</td>\n",
       "      <td>CHEMICAL ENGINEERING COMMUNICATIONS</td>\n",
       "      <td>FR71</td>\n",
       "      <td>3</td>\n",
       "    </tr>\n",
       "    <tr>\n",
       "      <th>3</th>\n",
       "      <td>3813535.0</td>\n",
       "      <td>1995</td>\n",
       "      <td>Since the work of Pauwels, the forces exerted ...</td>\n",
       "      <td>Biomechanics of the hip: forces exerted during...</td>\n",
       "      <td>SURGICAL AND RADIOLOGIC ANATOMY</td>\n",
       "      <td>FR71</td>\n",
       "      <td>3</td>\n",
       "    </tr>\n",
       "    <tr>\n",
       "      <th>4</th>\n",
       "      <td>7083096.0</td>\n",
       "      <td>1993</td>\n",
       "      <td>Throughout manufacturing history, management h...</td>\n",
       "      <td>Direct value added and economic weight factors...</td>\n",
       "      <td>INTERNATIONAL JOURNAL OF ADVANCED MANUFACTURIN...</td>\n",
       "      <td>FR71</td>\n",
       "      <td>3</td>\n",
       "    </tr>\n",
       "  </tbody>\n",
       "</table>\n",
       "</div>"
      ],
      "text/plain": [
       "       pubid  pubyear                                           abstract  \\\n",
       "0        5.0     1992  Mitochondrial DNA (mtDNA) from 25 blue tits Pa...   \n",
       "1  3798739.0     1995  A number of surface modification methods using...   \n",
       "2  3798867.0     1995  This paper describes the prototype of an exper...   \n",
       "3  3813535.0     1995  Since the work of Pauwels, the forces exerted ...   \n",
       "4  7083096.0     1993  Throughout manufacturing history, management h...   \n",
       "\n",
       "                                           itemtitle  \\\n",
       "0  Unusual mitochondrial DNA polymorphism in two ...   \n",
       "1  Adhesion science and surface analysis. Typical...   \n",
       "2  An expert system for cement kilns analysis usi...   \n",
       "3  Biomechanics of the hip: forces exerted during...   \n",
       "4  Direct value added and economic weight factors...   \n",
       "\n",
       "                                              source eu_nuts_id  period  \n",
       "0                                  MOLECULAR ECOLOGY       FR71       3  \n",
       "1                                JOURNAL OF ADHESION       FR71       3  \n",
       "2                CHEMICAL ENGINEERING COMMUNICATIONS       FR71       3  \n",
       "3                    SURGICAL AND RADIOLOGIC ANATOMY       FR71       3  \n",
       "4  INTERNATIONAL JOURNAL OF ADVANCED MANUFACTURIN...       FR71       3  "
      ]
     },
     "execution_count": 26,
     "metadata": {},
     "output_type": "execute_result"
    }
   ],
   "source": [
    "df.head()"
   ]
  },
  {
   "cell_type": "code",
   "execution_count": 45,
   "metadata": {},
   "outputs": [
    {
     "name": "stderr",
     "output_type": "stream",
     "text": [
      "NUTS regions:   0%|          | 0/281 [00:00<?, ?it/s]"
     ]
    },
    {
     "name": "stdout",
     "output_type": "stream",
     "text": [
      "No valid documents for NUTS region FR71 and period 1\n",
      "No valid documents for NUTS region FR71 and period 2\n"
     ]
    },
    {
     "name": "stderr",
     "output_type": "stream",
     "text": [
      "Batches: 100%|██████████| 4/4 [00:00<00:00,  7.10it/s]\n"
     ]
    },
    {
     "name": "stdout",
     "output_type": "stream",
     "text": [
      "Processed topic information for NUTS region FR71 and period 3\n"
     ]
    },
    {
     "name": "stderr",
     "output_type": "stream",
     "text": [
      "Batches: 100%|██████████| 680/680 [02:54<00:00,  3.90it/s]\n"
     ]
    },
    {
     "name": "stdout",
     "output_type": "stream",
     "text": [
      "Processed topic information for NUTS region FR71 and period 4\n"
     ]
    },
    {
     "name": "stderr",
     "output_type": "stream",
     "text": [
      "Batches: 100%|██████████| 1199/1199 [01:36<00:00, 12.46it/s]\n"
     ]
    },
    {
     "name": "stdout",
     "output_type": "stream",
     "text": [
      "Processed topic information for NUTS region FR71 and period 5\n"
     ]
    },
    {
     "name": "stderr",
     "output_type": "stream",
     "text": [
      "Batches: 100%|██████████| 105/105 [00:09<00:00, 11.17it/s]\n"
     ]
    },
    {
     "name": "stdout",
     "output_type": "stream",
     "text": [
      "Processed topic information for NUTS region FR71 and period 6\n"
     ]
    },
    {
     "name": "stderr",
     "output_type": "stream",
     "text": [
      "Batches: 100%|██████████| 13/13 [00:01<00:00,  7.31it/s]\n",
      "NUTS regions:   0%|          | 1/281 [05:22<25:03:39, 322.21s/it]"
     ]
    },
    {
     "name": "stdout",
     "output_type": "stream",
     "text": [
      "Processed topic information for NUTS region FR71 and period 7\n",
      "No valid documents for NUTS region FR71 and period 8\n",
      "No valid documents for NUTS region UKN0 and period 1\n",
      "No valid documents for NUTS region UKN0 and period 2\n",
      "No valid documents for NUTS region UKN0 and period 3\n"
     ]
    },
    {
     "name": "stderr",
     "output_type": "stream",
     "text": [
      "Batches: 100%|██████████| 119/119 [00:20<00:00,  5.78it/s]\n"
     ]
    },
    {
     "name": "stdout",
     "output_type": "stream",
     "text": [
      "Processed topic information for NUTS region UKN0 and period 4\n"
     ]
    },
    {
     "name": "stderr",
     "output_type": "stream",
     "text": [
      "Batches: 100%|██████████| 215/215 [00:51<00:00,  4.21it/s]\n"
     ]
    },
    {
     "name": "stdout",
     "output_type": "stream",
     "text": [
      "Processed topic information for NUTS region UKN0 and period 5\n"
     ]
    },
    {
     "name": "stderr",
     "output_type": "stream",
     "text": [
      "Batches: 100%|██████████| 19/19 [00:08<00:00,  2.17it/s]\n"
     ]
    },
    {
     "name": "stdout",
     "output_type": "stream",
     "text": [
      "Processed topic information for NUTS region UKN0 and period 6\n"
     ]
    },
    {
     "name": "stderr",
     "output_type": "stream",
     "text": [
      "Batches: 100%|██████████| 4/4 [00:00<00:00,  7.20it/s]\n",
      "NUTS regions:   1%|          | 2/281 [07:04<14:56:04, 192.70s/it]"
     ]
    },
    {
     "name": "stdout",
     "output_type": "stream",
     "text": [
      "Processed topic information for NUTS region UKN0 and period 7\n",
      "No valid documents for NUTS region UKN0 and period 8\n",
      "No valid documents for NUTS region UKM3 and period 1\n",
      "No valid documents for NUTS region UKM3 and period 2\n",
      "No valid documents for NUTS region UKM3 and period 3\n"
     ]
    },
    {
     "name": "stderr",
     "output_type": "stream",
     "text": [
      "Batches: 100%|██████████| 263/263 [00:15<00:00, 17.13it/s]\n"
     ]
    },
    {
     "name": "stdout",
     "output_type": "stream",
     "text": [
      "Processed topic information for NUTS region UKM3 and period 4\n"
     ]
    },
    {
     "name": "stderr",
     "output_type": "stream",
     "text": [
      "Batches: 100%|██████████| 434/434 [00:28<00:00, 15.11it/s]\n"
     ]
    },
    {
     "name": "stdout",
     "output_type": "stream",
     "text": [
      "Processed topic information for NUTS region UKM3 and period 5\n"
     ]
    },
    {
     "name": "stderr",
     "output_type": "stream",
     "text": [
      "Batches: 100%|██████████| 37/37 [00:03<00:00, 12.11it/s]\n"
     ]
    },
    {
     "name": "stdout",
     "output_type": "stream",
     "text": [
      "Processed topic information for NUTS region UKM3 and period 6\n"
     ]
    },
    {
     "name": "stderr",
     "output_type": "stream",
     "text": [
      "Batches: 100%|██████████| 7/7 [00:00<00:00,  9.01it/s]\n",
      "NUTS regions:   1%|          | 3/281 [08:10<10:24:24, 134.77s/it]"
     ]
    },
    {
     "name": "stdout",
     "output_type": "stream",
     "text": [
      "Processed topic information for NUTS region UKM3 and period 7\n",
      "No valid documents for NUTS region UKM3 and period 8\n",
      "No valid documents for NUTS region ITC4 and period 1\n",
      "No valid documents for NUTS region ITC4 and period 2\n",
      "No valid documents for NUTS region ITC4 and period 3\n"
     ]
    },
    {
     "name": "stderr",
     "output_type": "stream",
     "text": [
      "Batches: 100%|██████████| 667/667 [00:46<00:00, 14.40it/s]\n"
     ]
    },
    {
     "name": "stdout",
     "output_type": "stream",
     "text": [
      "Processed topic information for NUTS region ITC4 and period 4\n"
     ]
    },
    {
     "name": "stderr",
     "output_type": "stream",
     "text": [
      "Batches: 100%|██████████| 1229/1229 [01:46<00:00, 11.51it/s]\n"
     ]
    },
    {
     "name": "stdout",
     "output_type": "stream",
     "text": [
      "Processed topic information for NUTS region ITC4 and period 5\n"
     ]
    },
    {
     "name": "stderr",
     "output_type": "stream",
     "text": [
      "Batches: 100%|██████████| 115/115 [00:15<00:00,  7.53it/s]\n"
     ]
    },
    {
     "name": "stdout",
     "output_type": "stream",
     "text": [
      "Processed topic information for NUTS region ITC4 and period 6\n"
     ]
    },
    {
     "name": "stderr",
     "output_type": "stream",
     "text": [
      "Batches: 100%|██████████| 22/22 [00:03<00:00,  6.13it/s]\n",
      "NUTS regions:   1%|▏         | 4/281 [11:36<12:32:06, 162.91s/it]"
     ]
    },
    {
     "name": "stdout",
     "output_type": "stream",
     "text": [
      "Processed topic information for NUTS region ITC4 and period 7\n",
      "No valid documents for NUTS region ITC4 and period 8\n",
      "No valid documents for NUTS region DE30 and period 1\n",
      "No valid documents for NUTS region DE30 and period 2\n",
      "No valid documents for NUTS region DE30 and period 3\n"
     ]
    },
    {
     "name": "stderr",
     "output_type": "stream",
     "text": [
      "Batches: 100%|██████████| 572/572 [02:16<00:00,  4.21it/s]\n"
     ]
    },
    {
     "name": "stdout",
     "output_type": "stream",
     "text": [
      "Processed topic information for NUTS region DE30 and period 4\n"
     ]
    },
    {
     "name": "stderr",
     "output_type": "stream",
     "text": [
      "Batches: 100%|██████████| 972/972 [02:04<00:00,  7.78it/s]\n"
     ]
    },
    {
     "name": "stdout",
     "output_type": "stream",
     "text": [
      "Processed topic information for NUTS region DE30 and period 5\n"
     ]
    },
    {
     "name": "stderr",
     "output_type": "stream",
     "text": [
      "Batches: 100%|██████████| 84/84 [00:12<00:00,  6.89it/s]\n"
     ]
    },
    {
     "name": "stdout",
     "output_type": "stream",
     "text": [
      "Processed topic information for NUTS region DE30 and period 6\n"
     ]
    },
    {
     "name": "stderr",
     "output_type": "stream",
     "text": [
      "Batches: 100%|██████████| 16/16 [00:04<00:00,  3.97it/s]\n",
      "NUTS regions:   2%|▏         | 5/281 [16:41<16:24:53, 214.11s/it]"
     ]
    },
    {
     "name": "stdout",
     "output_type": "stream",
     "text": [
      "Processed topic information for NUTS region DE30 and period 7\n",
      "No valid documents for NUTS region DE30 and period 8\n",
      "No valid documents for NUTS region UKM2 and period 1\n",
      "No valid documents for NUTS region UKM2 and period 2\n",
      "No valid documents for NUTS region UKM2 and period 3\n"
     ]
    },
    {
     "name": "stderr",
     "output_type": "stream",
     "text": [
      "Batches: 100%|██████████| 421/421 [02:24<00:00,  2.91it/s]\n"
     ]
    },
    {
     "name": "stdout",
     "output_type": "stream",
     "text": [
      "Processed topic information for NUTS region UKM2 and period 4\n"
     ]
    },
    {
     "name": "stderr",
     "output_type": "stream",
     "text": [
      "Batches: 100%|██████████| 729/729 [01:43<00:00,  7.08it/s]\n"
     ]
    },
    {
     "name": "stdout",
     "output_type": "stream",
     "text": [
      "Processed topic information for NUTS region UKM2 and period 5\n"
     ]
    },
    {
     "name": "stderr",
     "output_type": "stream",
     "text": [
      "Batches: 100%|██████████| 62/62 [00:04<00:00, 13.26it/s]\n"
     ]
    },
    {
     "name": "stdout",
     "output_type": "stream",
     "text": [
      "Processed topic information for NUTS region UKM2 and period 6\n"
     ]
    },
    {
     "name": "stderr",
     "output_type": "stream",
     "text": [
      "Batches: 100%|██████████| 12/12 [00:01<00:00, 11.90it/s]\n",
      "NUTS regions:   2%|▏         | 6/281 [21:16<17:56:45, 234.93s/it]"
     ]
    },
    {
     "name": "stdout",
     "output_type": "stream",
     "text": [
      "Processed topic information for NUTS region UKM2 and period 7\n",
      "No valid documents for NUTS region UKM2 and period 8\n",
      "No valid documents for NUTS region BE24 and period 1\n",
      "No valid documents for NUTS region BE24 and period 2\n",
      "No valid documents for NUTS region BE24 and period 3\n"
     ]
    },
    {
     "name": "stderr",
     "output_type": "stream",
     "text": [
      "Batches: 100%|██████████| 259/259 [00:15<00:00, 16.65it/s]\n"
     ]
    },
    {
     "name": "stdout",
     "output_type": "stream",
     "text": [
      "Processed topic information for NUTS region BE24 and period 4\n"
     ]
    },
    {
     "name": "stderr",
     "output_type": "stream",
     "text": [
      "Batches: 100%|██████████| 487/487 [00:31<00:00, 15.51it/s]\n"
     ]
    },
    {
     "name": "stdout",
     "output_type": "stream",
     "text": [
      "Processed topic information for NUTS region BE24 and period 5\n"
     ]
    },
    {
     "name": "stderr",
     "output_type": "stream",
     "text": [
      "Batches: 100%|██████████| 46/46 [00:03<00:00, 13.94it/s]\n"
     ]
    },
    {
     "name": "stdout",
     "output_type": "stream",
     "text": [
      "Processed topic information for NUTS region BE24 and period 6\n"
     ]
    },
    {
     "name": "stderr",
     "output_type": "stream",
     "text": [
      "Batches: 100%|██████████| 8/8 [00:00<00:00,  8.86it/s]\n",
      "NUTS regions:   2%|▏         | 7/281 [22:24<13:44:14, 180.49s/it]"
     ]
    },
    {
     "name": "stdout",
     "output_type": "stream",
     "text": [
      "Processed topic information for NUTS region BE24 and period 7\n",
      "No valid documents for NUTS region BE24 and period 8\n",
      "No valid documents for NUTS region PL12 and period 1\n",
      "No valid documents for NUTS region PL12 and period 2\n",
      "No valid documents for NUTS region PL12 and period 3\n"
     ]
    },
    {
     "name": "stderr",
     "output_type": "stream",
     "text": [
      "Batches: 100%|██████████| 278/278 [00:31<00:00,  8.91it/s]\n"
     ]
    },
    {
     "name": "stdout",
     "output_type": "stream",
     "text": [
      "Processed topic information for NUTS region PL12 and period 4\n"
     ]
    },
    {
     "name": "stderr",
     "output_type": "stream",
     "text": [
      "Batches: 100%|██████████| 558/558 [01:22<00:00,  6.73it/s]\n"
     ]
    },
    {
     "name": "stdout",
     "output_type": "stream",
     "text": [
      "Processed topic information for NUTS region PL12 and period 5\n"
     ]
    },
    {
     "name": "stderr",
     "output_type": "stream",
     "text": [
      "Batches: 100%|██████████| 51/51 [00:10<00:00,  5.09it/s]\n"
     ]
    },
    {
     "name": "stdout",
     "output_type": "stream",
     "text": [
      "Processed topic information for NUTS region PL12 and period 6\n"
     ]
    },
    {
     "name": "stderr",
     "output_type": "stream",
     "text": [
      "Batches: 100%|██████████| 8/8 [00:02<00:00,  3.53it/s]\n",
      "NUTS regions:   3%|▎         | 8/281 [24:48<12:48:15, 168.85s/it]"
     ]
    },
    {
     "name": "stdout",
     "output_type": "stream",
     "text": [
      "Processed topic information for NUTS region PL12 and period 7\n",
      "No valid documents for NUTS region PL12 and period 8\n",
      "No valid documents for NUTS region UKK1 and period 1\n",
      "No valid documents for NUTS region UKK1 and period 2\n",
      "No valid documents for NUTS region UKK1 and period 3\n"
     ]
    },
    {
     "name": "stderr",
     "output_type": "stream",
     "text": [
      "Batches: 100%|██████████| 249/249 [00:30<00:00,  8.04it/s]\n"
     ]
    },
    {
     "name": "stdout",
     "output_type": "stream",
     "text": [
      "Processed topic information for NUTS region UKK1 and period 4\n"
     ]
    },
    {
     "name": "stderr",
     "output_type": "stream",
     "text": [
      "Batches: 100%|██████████| 460/460 [00:28<00:00, 15.98it/s]\n"
     ]
    },
    {
     "name": "stdout",
     "output_type": "stream",
     "text": [
      "Processed topic information for NUTS region UKK1 and period 5\n"
     ]
    },
    {
     "name": "stderr",
     "output_type": "stream",
     "text": [
      "Batches: 100%|██████████| 45/45 [00:03<00:00, 13.73it/s]\n"
     ]
    },
    {
     "name": "stdout",
     "output_type": "stream",
     "text": [
      "Processed topic information for NUTS region UKK1 and period 6\n"
     ]
    },
    {
     "name": "stderr",
     "output_type": "stream",
     "text": [
      "Batches: 100%|██████████| 7/7 [00:00<00:00, 11.36it/s]\n",
      "NUTS regions:   3%|▎         | 9/281 [26:09<10:40:48, 141.36s/it]"
     ]
    },
    {
     "name": "stdout",
     "output_type": "stream",
     "text": [
      "Processed topic information for NUTS region UKK1 and period 7\n",
      "No valid documents for NUTS region UKK1 and period 8\n",
      "No valid documents for NUTS region DE72 and period 1\n",
      "No valid documents for NUTS region DE72 and period 2\n",
      "No valid documents for NUTS region DE72 and period 3\n"
     ]
    },
    {
     "name": "stderr",
     "output_type": "stream",
     "text": [
      "Batches: 100%|██████████| 193/193 [00:11<00:00, 16.94it/s]\n"
     ]
    },
    {
     "name": "stdout",
     "output_type": "stream",
     "text": [
      "Processed topic information for NUTS region DE72 and period 4\n"
     ]
    },
    {
     "name": "stderr",
     "output_type": "stream",
     "text": [
      "Batches: 100%|██████████| 318/318 [00:22<00:00, 14.30it/s]\n",
      "c:\\Users\\user\\anaconda3\\envs\\bertopic_2\\lib\\site-packages\\hdbscan\\prediction.py:658: RuntimeWarning: All-NaN slice encountered\n",
      "  outlier_vecs = all_points_outlier_membership_vector(\n",
      "c:\\Users\\user\\anaconda3\\envs\\bertopic_2\\lib\\site-packages\\hdbscan\\prediction.py:663: RuntimeWarning: invalid value encountered in scalar divide\n",
      "  in_cluster_probs = all_points_prob_in_some_cluster(\n"
     ]
    },
    {
     "name": "stdout",
     "output_type": "stream",
     "text": [
      "Processed topic information for NUTS region DE72 and period 5\n"
     ]
    },
    {
     "name": "stderr",
     "output_type": "stream",
     "text": [
      "Batches: 100%|██████████| 25/25 [00:02<00:00, 12.14it/s]\n"
     ]
    },
    {
     "name": "stdout",
     "output_type": "stream",
     "text": [
      "Processed topic information for NUTS region DE72 and period 6\n"
     ]
    },
    {
     "name": "stderr",
     "output_type": "stream",
     "text": [
      "Batches: 100%|██████████| 4/4 [00:00<00:00,  6.51it/s]\n",
      "NUTS regions:   4%|▎         | 10/281 [27:02<8:34:36, 113.93s/it]"
     ]
    },
    {
     "name": "stdout",
     "output_type": "stream",
     "text": [
      "Processed topic information for NUTS region DE72 and period 7\n",
      "No valid documents for NUTS region DE72 and period 8\n",
      "No valid documents for NUTS region CH03 and period 1\n",
      "No valid documents for NUTS region CH03 and period 2\n",
      "No valid documents for NUTS region CH03 and period 3\n"
     ]
    },
    {
     "name": "stderr",
     "output_type": "stream",
     "text": [
      "Batches: 100%|██████████| 242/242 [00:34<00:00,  7.06it/s]\n"
     ]
    },
    {
     "name": "stdout",
     "output_type": "stream",
     "text": [
      "Processed topic information for NUTS region CH03 and period 4\n"
     ]
    },
    {
     "name": "stderr",
     "output_type": "stream",
     "text": [
      "Batches: 100%|██████████| 412/412 [01:06<00:00,  6.22it/s]\n"
     ]
    },
    {
     "name": "stdout",
     "output_type": "stream",
     "text": [
      "Processed topic information for NUTS region CH03 and period 5\n"
     ]
    },
    {
     "name": "stderr",
     "output_type": "stream",
     "text": [
      "Batches: 100%|██████████| 37/37 [00:08<00:00,  4.20it/s]\n"
     ]
    },
    {
     "name": "stdout",
     "output_type": "stream",
     "text": [
      "Processed topic information for NUTS region CH03 and period 6\n"
     ]
    },
    {
     "name": "stderr",
     "output_type": "stream",
     "text": [
      "Batches: 100%|██████████| 6/6 [00:02<00:00,  2.76it/s]\n",
      "NUTS regions:   4%|▍         | 11/281 [29:12<8:55:12, 118.94s/it]"
     ]
    },
    {
     "name": "stdout",
     "output_type": "stream",
     "text": [
      "Processed topic information for NUTS region CH03 and period 7\n",
      "No valid documents for NUTS region CH03 and period 8\n",
      "No valid documents for NUTS region DE91 and period 1\n",
      "No valid documents for NUTS region DE91 and period 2\n",
      "No valid documents for NUTS region DE91 and period 3\n"
     ]
    },
    {
     "name": "stderr",
     "output_type": "stream",
     "text": [
      "Batches: 100%|██████████| 311/311 [00:18<00:00, 16.90it/s]\n"
     ]
    },
    {
     "name": "stdout",
     "output_type": "stream",
     "text": [
      "Processed topic information for NUTS region DE91 and period 4\n"
     ]
    },
    {
     "name": "stderr",
     "output_type": "stream",
     "text": [
      "Batches: 100%|██████████| 503/503 [00:29<00:00, 17.22it/s]\n"
     ]
    },
    {
     "name": "stdout",
     "output_type": "stream",
     "text": [
      "Processed topic information for NUTS region DE91 and period 5\n"
     ]
    },
    {
     "name": "stderr",
     "output_type": "stream",
     "text": [
      "Batches: 100%|██████████| 42/42 [00:02<00:00, 16.28it/s]\n"
     ]
    },
    {
     "name": "stdout",
     "output_type": "stream",
     "text": [
      "Processed topic information for NUTS region DE91 and period 6\n"
     ]
    },
    {
     "name": "stderr",
     "output_type": "stream",
     "text": [
      "Batches: 100%|██████████| 5/5 [00:00<00:00,  7.30it/s]\n",
      "NUTS regions:   4%|▍         | 12/281 [30:22<7:47:09, 104.20s/it]"
     ]
    },
    {
     "name": "stdout",
     "output_type": "stream",
     "text": [
      "Processed topic information for NUTS region DE91 and period 7\n",
      "No valid documents for NUTS region DE91 and period 8\n",
      "No valid documents for NUTS region DE14 and period 1\n",
      "No valid documents for NUTS region DE14 and period 2\n",
      "No valid documents for NUTS region DE14 and period 3\n"
     ]
    },
    {
     "name": "stderr",
     "output_type": "stream",
     "text": [
      "Batches: 100%|██████████| 288/288 [00:16<00:00, 17.04it/s]\n"
     ]
    },
    {
     "name": "stdout",
     "output_type": "stream",
     "text": [
      "Processed topic information for NUTS region DE14 and period 4\n"
     ]
    },
    {
     "name": "stderr",
     "output_type": "stream",
     "text": [
      "Batches: 100%|██████████| 482/482 [00:28<00:00, 16.84it/s]\n"
     ]
    },
    {
     "name": "stdout",
     "output_type": "stream",
     "text": [
      "Processed topic information for NUTS region DE14 and period 5\n"
     ]
    },
    {
     "name": "stderr",
     "output_type": "stream",
     "text": [
      "Batches: 100%|██████████| 39/39 [00:02<00:00, 14.50it/s]\n"
     ]
    },
    {
     "name": "stdout",
     "output_type": "stream",
     "text": [
      "Processed topic information for NUTS region DE14 and period 6\n"
     ]
    },
    {
     "name": "stderr",
     "output_type": "stream",
     "text": [
      "Batches: 100%|██████████| 6/6 [00:00<00:00,  7.74it/s]\n",
      "NUTS regions:   5%|▍         | 13/281 [31:28<6:53:50, 92.65s/it] "
     ]
    },
    {
     "name": "stdout",
     "output_type": "stream",
     "text": [
      "Processed topic information for NUTS region DE14 and period 7\n",
      "No valid documents for NUTS region DE14 and period 8\n",
      "No valid documents for NUTS region DE23 and period 1\n",
      "No valid documents for NUTS region DE23 and period 2\n",
      "No valid documents for NUTS region DE23 and period 3\n"
     ]
    },
    {
     "name": "stderr",
     "output_type": "stream",
     "text": [
      "Batches: 100%|██████████| 74/74 [00:04<00:00, 16.73it/s]\n"
     ]
    },
    {
     "name": "stdout",
     "output_type": "stream",
     "text": [
      "Processed topic information for NUTS region DE23 and period 4\n"
     ]
    },
    {
     "name": "stderr",
     "output_type": "stream",
     "text": [
      "Batches: 100%|██████████| 147/147 [00:08<00:00, 16.97it/s]\n"
     ]
    },
    {
     "name": "stdout",
     "output_type": "stream",
     "text": [
      "Processed topic information for NUTS region DE23 and period 5\n"
     ]
    },
    {
     "name": "stderr",
     "output_type": "stream",
     "text": [
      "Batches: 100%|██████████| 12/12 [00:01<00:00,  8.63it/s]\n"
     ]
    },
    {
     "name": "stdout",
     "output_type": "stream",
     "text": [
      "Processed topic information for NUTS region DE23 and period 6\n",
      "No valid documents for NUTS region DE23 and period 7\n"
     ]
    },
    {
     "name": "stderr",
     "output_type": "stream",
     "text": [
      "NUTS regions:   5%|▍         | 14/281 [31:55<5:23:16, 72.65s/it]"
     ]
    },
    {
     "name": "stdout",
     "output_type": "stream",
     "text": [
      "No valid documents for NUTS region DE23 and period 8\n",
      "No valid documents for NUTS region DE13 and period 1\n",
      "No valid documents for NUTS region DE13 and period 2\n",
      "No valid documents for NUTS region DE13 and period 3\n"
     ]
    },
    {
     "name": "stderr",
     "output_type": "stream",
     "text": [
      "Batches: 100%|██████████| 218/218 [00:25<00:00,  8.70it/s]\n"
     ]
    },
    {
     "name": "stdout",
     "output_type": "stream",
     "text": [
      "Processed topic information for NUTS region DE13 and period 4\n"
     ]
    },
    {
     "name": "stderr",
     "output_type": "stream",
     "text": [
      "Batches: 100%|██████████| 365/365 [00:56<00:00,  6.45it/s]\n"
     ]
    },
    {
     "name": "stdout",
     "output_type": "stream",
     "text": [
      "Processed topic information for NUTS region DE13 and period 5\n"
     ]
    },
    {
     "name": "stderr",
     "output_type": "stream",
     "text": [
      "Batches: 100%|██████████| 34/34 [00:07<00:00,  4.72it/s]\n"
     ]
    },
    {
     "name": "stdout",
     "output_type": "stream",
     "text": [
      "Processed topic information for NUTS region DE13 and period 6\n"
     ]
    },
    {
     "name": "stderr",
     "output_type": "stream",
     "text": [
      "Batches: 100%|██████████| 6/6 [00:02<00:00,  2.51it/s]\n",
      "NUTS regions:   5%|▌         | 15/281 [33:42<6:08:03, 83.02s/it]"
     ]
    },
    {
     "name": "stdout",
     "output_type": "stream",
     "text": [
      "Processed topic information for NUTS region DE13 and period 7\n",
      "No valid documents for NUTS region DE13 and period 8\n",
      "No valid documents for NUTS region DEB3 and period 1\n",
      "No valid documents for NUTS region DEB3 and period 2\n",
      "No valid documents for NUTS region DEB3 and period 3\n"
     ]
    },
    {
     "name": "stderr",
     "output_type": "stream",
     "text": [
      "Batches: 100%|██████████| 236/236 [00:13<00:00, 17.32it/s]\n"
     ]
    },
    {
     "name": "stdout",
     "output_type": "stream",
     "text": [
      "Processed topic information for NUTS region DEB3 and period 4\n"
     ]
    },
    {
     "name": "stderr",
     "output_type": "stream",
     "text": [
      "Batches: 100%|██████████| 393/393 [00:22<00:00, 17.33it/s]\n",
      "c:\\Users\\user\\anaconda3\\envs\\bertopic_2\\lib\\site-packages\\hdbscan\\prediction.py:658: RuntimeWarning: All-NaN slice encountered\n",
      "  outlier_vecs = all_points_outlier_membership_vector(\n",
      "c:\\Users\\user\\anaconda3\\envs\\bertopic_2\\lib\\site-packages\\hdbscan\\prediction.py:663: RuntimeWarning: invalid value encountered in scalar divide\n",
      "  in_cluster_probs = all_points_prob_in_some_cluster(\n"
     ]
    },
    {
     "name": "stdout",
     "output_type": "stream",
     "text": [
      "Processed topic information for NUTS region DEB3 and period 5\n"
     ]
    },
    {
     "name": "stderr",
     "output_type": "stream",
     "text": [
      "Batches: 100%|██████████| 31/31 [00:02<00:00, 15.04it/s]\n"
     ]
    },
    {
     "name": "stdout",
     "output_type": "stream",
     "text": [
      "Processed topic information for NUTS region DEB3 and period 6\n"
     ]
    },
    {
     "name": "stderr",
     "output_type": "stream",
     "text": [
      "Batches: 100%|██████████| 4/4 [00:00<00:00, 10.22it/s]\n",
      "NUTS regions:   6%|▌         | 16/281 [34:37<5:29:40, 74.64s/it]"
     ]
    },
    {
     "name": "stdout",
     "output_type": "stream",
     "text": [
      "Processed topic information for NUTS region DEB3 and period 7\n",
      "No valid documents for NUTS region DEB3 and period 8\n",
      "No valid documents for NUTS region DEG0 and period 1\n",
      "No valid documents for NUTS region DEG0 and period 2\n",
      "No valid documents for NUTS region DEG0 and period 3\n"
     ]
    },
    {
     "name": "stderr",
     "output_type": "stream",
     "text": [
      "Batches: 100%|██████████| 130/130 [00:07<00:00, 17.23it/s]\n"
     ]
    },
    {
     "name": "stdout",
     "output_type": "stream",
     "text": [
      "Processed topic information for NUTS region DEG0 and period 4\n"
     ]
    },
    {
     "name": "stderr",
     "output_type": "stream",
     "text": [
      "Batches: 100%|██████████| 244/244 [00:14<00:00, 17.16it/s]\n"
     ]
    },
    {
     "name": "stdout",
     "output_type": "stream",
     "text": [
      "Processed topic information for NUTS region DEG0 and period 5\n"
     ]
    },
    {
     "name": "stderr",
     "output_type": "stream",
     "text": [
      "Batches: 100%|██████████| 24/24 [00:01<00:00, 14.03it/s]\n"
     ]
    },
    {
     "name": "stdout",
     "output_type": "stream",
     "text": [
      "Processed topic information for NUTS region DEG0 and period 6\n"
     ]
    },
    {
     "name": "stderr",
     "output_type": "stream",
     "text": [
      "Batches: 100%|██████████| 4/4 [00:00<00:00,  8.99it/s]\n",
      "NUTS regions:   6%|▌         | 17/281 [35:15<4:39:50, 63.60s/it]"
     ]
    },
    {
     "name": "stdout",
     "output_type": "stream",
     "text": [
      "Processed topic information for NUTS region DEG0 and period 7\n",
      "No valid documents for NUTS region DEG0 and period 8\n",
      "No valid documents for NUTS region DE12 and period 1\n",
      "No valid documents for NUTS region DE12 and period 2\n",
      "No valid documents for NUTS region DE12 and period 3\n"
     ]
    },
    {
     "name": "stderr",
     "output_type": "stream",
     "text": [
      "Batches: 100%|██████████| 343/343 [00:24<00:00, 14.14it/s]\n"
     ]
    },
    {
     "name": "stdout",
     "output_type": "stream",
     "text": [
      "Processed topic information for NUTS region DE12 and period 4\n"
     ]
    },
    {
     "name": "stderr",
     "output_type": "stream",
     "text": [
      "Batches: 100%|██████████| 606/606 [00:36<00:00, 16.45it/s]\n"
     ]
    },
    {
     "name": "stdout",
     "output_type": "stream",
     "text": [
      "Processed topic information for NUTS region DE12 and period 5\n"
     ]
    },
    {
     "name": "stderr",
     "output_type": "stream",
     "text": [
      "Batches: 100%|██████████| 57/57 [00:04<00:00, 12.95it/s]\n"
     ]
    },
    {
     "name": "stdout",
     "output_type": "stream",
     "text": [
      "Processed topic information for NUTS region DE12 and period 6\n"
     ]
    },
    {
     "name": "stderr",
     "output_type": "stream",
     "text": [
      "Batches: 100%|██████████| 8/8 [00:00<00:00,  8.24it/s]\n",
      "NUTS regions:   6%|▋         | 18/281 [36:42<5:09:58, 70.72s/it]"
     ]
    },
    {
     "name": "stdout",
     "output_type": "stream",
     "text": [
      "Processed topic information for NUTS region DE12 and period 7\n",
      "No valid documents for NUTS region DE12 and period 8\n",
      "No valid documents for NUTS region CH04 and period 1\n",
      "No valid documents for NUTS region CH04 and period 2\n",
      "No valid documents for NUTS region CH04 and period 3\n"
     ]
    },
    {
     "name": "stderr",
     "output_type": "stream",
     "text": [
      "Batches: 100%|██████████| 375/375 [00:47<00:00,  7.90it/s]\n"
     ]
    },
    {
     "name": "stdout",
     "output_type": "stream",
     "text": [
      "Processed topic information for NUTS region CH04 and period 4\n"
     ]
    },
    {
     "name": "stderr",
     "output_type": "stream",
     "text": [
      "Batches: 100%|██████████| 679/679 [01:40<00:00,  6.75it/s]\n"
     ]
    },
    {
     "name": "stdout",
     "output_type": "stream",
     "text": [
      "Processed topic information for NUTS region CH04 and period 5\n"
     ]
    },
    {
     "name": "stderr",
     "output_type": "stream",
     "text": [
      "Batches: 100%|██████████| 66/66 [00:16<00:00,  4.11it/s]\n"
     ]
    },
    {
     "name": "stdout",
     "output_type": "stream",
     "text": [
      "Processed topic information for NUTS region CH04 and period 6\n"
     ]
    },
    {
     "name": "stderr",
     "output_type": "stream",
     "text": [
      "Batches: 100%|██████████| 11/11 [00:04<00:00,  2.42it/s]\n",
      "NUTS regions:   7%|▋         | 19/281 [39:53<7:46:17, 106.78s/it]"
     ]
    },
    {
     "name": "stdout",
     "output_type": "stream",
     "text": [
      "Processed topic information for NUTS region CH04 and period 7\n",
      "No valid documents for NUTS region CH04 and period 8\n",
      "No valid documents for NUTS region DE21 and period 1\n",
      "No valid documents for NUTS region DE21 and period 2\n",
      "No valid documents for NUTS region DE21 and period 3\n"
     ]
    },
    {
     "name": "stderr",
     "output_type": "stream",
     "text": [
      "Batches: 100%|██████████| 658/658 [01:02<00:00, 10.56it/s]\n"
     ]
    },
    {
     "name": "stdout",
     "output_type": "stream",
     "text": [
      "Processed topic information for NUTS region DE21 and period 4\n"
     ]
    },
    {
     "name": "stderr",
     "output_type": "stream",
     "text": [
      "Batches: 100%|██████████| 1168/1168 [01:15<00:00, 15.51it/s]\n"
     ]
    },
    {
     "name": "stdout",
     "output_type": "stream",
     "text": [
      "Processed topic information for NUTS region DE21 and period 5\n"
     ]
    },
    {
     "name": "stderr",
     "output_type": "stream",
     "text": [
      "Batches: 100%|██████████| 96/96 [00:17<00:00,  5.52it/s]\n"
     ]
    },
    {
     "name": "stdout",
     "output_type": "stream",
     "text": [
      "Processed topic information for NUTS region DE21 and period 6\n"
     ]
    },
    {
     "name": "stderr",
     "output_type": "stream",
     "text": [
      "Batches: 100%|██████████| 13/13 [00:00<00:00, 13.50it/s]\n",
      "NUTS regions:   7%|▋         | 20/281 [43:02<9:32:06, 131.52s/it]"
     ]
    },
    {
     "name": "stdout",
     "output_type": "stream",
     "text": [
      "Processed topic information for NUTS region DE21 and period 7\n",
      "No valid documents for NUTS region DE21 and period 8\n",
      "No valid documents for NUTS region DEA3 and period 1\n",
      "No valid documents for NUTS region DEA3 and period 2\n",
      "No valid documents for NUTS region DEA3 and period 3\n"
     ]
    },
    {
     "name": "stderr",
     "output_type": "stream",
     "text": [
      "Batches: 100%|██████████| 98/98 [00:09<00:00, 10.48it/s]\n"
     ]
    },
    {
     "name": "stdout",
     "output_type": "stream",
     "text": [
      "Processed topic information for NUTS region DEA3 and period 4\n"
     ]
    },
    {
     "name": "stderr",
     "output_type": "stream",
     "text": [
      "Batches: 100%|██████████| 181/181 [00:22<00:00,  8.09it/s]\n"
     ]
    },
    {
     "name": "stdout",
     "output_type": "stream",
     "text": [
      "Processed topic information for NUTS region DEA3 and period 5\n"
     ]
    },
    {
     "name": "stderr",
     "output_type": "stream",
     "text": [
      "Batches: 100%|██████████| 16/16 [00:02<00:00,  6.14it/s]\n"
     ]
    },
    {
     "name": "stdout",
     "output_type": "stream",
     "text": [
      "Processed topic information for NUTS region DEA3 and period 6\n",
      "No valid documents for NUTS region DEA3 and period 7\n"
     ]
    },
    {
     "name": "stderr",
     "output_type": "stream",
     "text": [
      "NUTS regions:   7%|▋         | 21/281 [43:52<7:43:31, 106.97s/it]"
     ]
    },
    {
     "name": "stdout",
     "output_type": "stream",
     "text": [
      "No valid documents for NUTS region DEA3 and period 8\n",
      "No valid documents for NUTS region DE60 and period 1\n",
      "No valid documents for NUTS region DE60 and period 2\n",
      "No valid documents for NUTS region DE60 and period 3\n"
     ]
    },
    {
     "name": "stderr",
     "output_type": "stream",
     "text": [
      "Batches: 100%|██████████| 231/231 [00:44<00:00,  5.20it/s]\n"
     ]
    },
    {
     "name": "stdout",
     "output_type": "stream",
     "text": [
      "Processed topic information for NUTS region DE60 and period 4\n"
     ]
    },
    {
     "name": "stderr",
     "output_type": "stream",
     "text": [
      "Batches: 100%|██████████| 394/394 [00:40<00:00,  9.64it/s]\n"
     ]
    },
    {
     "name": "stdout",
     "output_type": "stream",
     "text": [
      "Processed topic information for NUTS region DE60 and period 5\n"
     ]
    },
    {
     "name": "stderr",
     "output_type": "stream",
     "text": [
      "Batches: 100%|██████████| 36/36 [00:02<00:00, 16.46it/s]\n"
     ]
    },
    {
     "name": "stdout",
     "output_type": "stream",
     "text": [
      "Processed topic information for NUTS region DE60 and period 6\n"
     ]
    },
    {
     "name": "stderr",
     "output_type": "stream",
     "text": [
      "Batches: 100%|██████████| 6/6 [00:00<00:00,  8.95it/s]\n",
      "NUTS regions:   8%|▊         | 22/281 [45:36<7:37:36, 106.01s/it]"
     ]
    },
    {
     "name": "stdout",
     "output_type": "stream",
     "text": [
      "Processed topic information for NUTS region DE60 and period 7\n",
      "No valid documents for NUTS region DE60 and period 8\n",
      "No valid documents for NUTS region DED2 and period 1\n",
      "No valid documents for NUTS region DED2 and period 2\n",
      "No valid documents for NUTS region DED2 and period 3\n"
     ]
    },
    {
     "name": "stderr",
     "output_type": "stream",
     "text": [
      "Batches: 100%|██████████| 248/248 [00:13<00:00, 18.67it/s]\n"
     ]
    },
    {
     "name": "stdout",
     "output_type": "stream",
     "text": [
      "Processed topic information for NUTS region DED2 and period 4\n"
     ]
    },
    {
     "name": "stderr",
     "output_type": "stream",
     "text": [
      "Batches: 100%|██████████| 509/509 [00:27<00:00, 18.27it/s]\n"
     ]
    },
    {
     "name": "stdout",
     "output_type": "stream",
     "text": [
      "Processed topic information for NUTS region DED2 and period 5\n"
     ]
    },
    {
     "name": "stderr",
     "output_type": "stream",
     "text": [
      "Batches: 100%|██████████| 43/43 [00:03<00:00, 14.25it/s]\n"
     ]
    },
    {
     "name": "stdout",
     "output_type": "stream",
     "text": [
      "Processed topic information for NUTS region DED2 and period 6\n"
     ]
    },
    {
     "name": "stderr",
     "output_type": "stream",
     "text": [
      "Batches: 100%|██████████| 7/7 [00:00<00:00, 10.85it/s]\n",
      "NUTS regions:   8%|▊         | 23/281 [46:37<6:38:18, 92.63s/it] "
     ]
    },
    {
     "name": "stdout",
     "output_type": "stream",
     "text": [
      "Processed topic information for NUTS region DED2 and period 7\n",
      "No valid documents for NUTS region DED2 and period 8\n",
      "No valid documents for NUTS region DEF0 and period 1\n",
      "No valid documents for NUTS region DEF0 and period 2\n",
      "No valid documents for NUTS region DEF0 and period 3\n"
     ]
    },
    {
     "name": "stderr",
     "output_type": "stream",
     "text": [
      "Batches: 100%|██████████| 204/204 [00:11<00:00, 17.01it/s]\n"
     ]
    },
    {
     "name": "stdout",
     "output_type": "stream",
     "text": [
      "Processed topic information for NUTS region DEF0 and period 4\n"
     ]
    },
    {
     "name": "stderr",
     "output_type": "stream",
     "text": [
      "Batches: 100%|██████████| 372/372 [00:24<00:00, 15.41it/s]\n"
     ]
    },
    {
     "name": "stdout",
     "output_type": "stream",
     "text": [
      "Processed topic information for NUTS region DEF0 and period 5\n"
     ]
    },
    {
     "name": "stderr",
     "output_type": "stream",
     "text": [
      "Batches: 100%|██████████| 33/33 [00:03<00:00, 10.03it/s]\n"
     ]
    },
    {
     "name": "stdout",
     "output_type": "stream",
     "text": [
      "Processed topic information for NUTS region DEF0 and period 6\n"
     ]
    },
    {
     "name": "stderr",
     "output_type": "stream",
     "text": [
      "Batches: 100%|██████████| 5/5 [00:00<00:00,  6.32it/s]\n",
      "NUTS regions:   9%|▊         | 24/281 [47:34<5:50:34, 81.84s/it]"
     ]
    },
    {
     "name": "stdout",
     "output_type": "stream",
     "text": [
      "Processed topic information for NUTS region DEF0 and period 7\n",
      "No valid documents for NUTS region DEF0 and period 8\n",
      "No valid documents for NUTS region DEA1 and period 1\n",
      "No valid documents for NUTS region DEA1 and period 2\n",
      "No valid documents for NUTS region DEA1 and period 3\n"
     ]
    },
    {
     "name": "stderr",
     "output_type": "stream",
     "text": [
      "Batches: 100%|██████████| 292/292 [00:47<00:00,  6.19it/s]\n"
     ]
    },
    {
     "name": "stdout",
     "output_type": "stream",
     "text": [
      "Processed topic information for NUTS region DEA1 and period 4\n"
     ]
    },
    {
     "name": "stderr",
     "output_type": "stream",
     "text": [
      "Batches: 100%|██████████| 498/498 [01:52<00:00,  4.41it/s]\n"
     ]
    },
    {
     "name": "stdout",
     "output_type": "stream",
     "text": [
      "Processed topic information for NUTS region DEA1 and period 5\n"
     ]
    },
    {
     "name": "stderr",
     "output_type": "stream",
     "text": [
      "Batches: 100%|██████████| 43/43 [00:17<00:00,  2.40it/s]\n"
     ]
    },
    {
     "name": "stdout",
     "output_type": "stream",
     "text": [
      "Processed topic information for NUTS region DEA1 and period 6\n"
     ]
    },
    {
     "name": "stderr",
     "output_type": "stream",
     "text": [
      "Batches: 100%|██████████| 6/6 [00:00<00:00, 10.14it/s]\n",
      "NUTS regions:   9%|▉         | 25/281 [50:50<8:15:30, 116.14s/it]"
     ]
    },
    {
     "name": "stdout",
     "output_type": "stream",
     "text": [
      "Processed topic information for NUTS region DEA1 and period 7\n",
      "No valid documents for NUTS region DEA1 and period 8\n",
      "No valid documents for NUTS region DE94 and period 1\n",
      "No valid documents for NUTS region DE94 and period 2\n",
      "No valid documents for NUTS region DE94 and period 3\n"
     ]
    },
    {
     "name": "stderr",
     "output_type": "stream",
     "text": [
      "Batches: 100%|██████████| 106/106 [00:06<00:00, 15.36it/s]\n"
     ]
    },
    {
     "name": "stdout",
     "output_type": "stream",
     "text": [
      "Processed topic information for NUTS region DE94 and period 4\n"
     ]
    },
    {
     "name": "stderr",
     "output_type": "stream",
     "text": [
      "Batches: 100%|██████████| 175/175 [00:11<00:00, 14.85it/s]\n"
     ]
    },
    {
     "name": "stdout",
     "output_type": "stream",
     "text": [
      "Processed topic information for NUTS region DE94 and period 5\n"
     ]
    },
    {
     "name": "stderr",
     "output_type": "stream",
     "text": [
      "Batches: 100%|██████████| 15/15 [00:01<00:00, 11.35it/s]\n"
     ]
    },
    {
     "name": "stdout",
     "output_type": "stream",
     "text": [
      "Processed topic information for NUTS region DE94 and period 6\n",
      "No valid documents for NUTS region DE94 and period 7\n"
     ]
    },
    {
     "name": "stderr",
     "output_type": "stream",
     "text": [
      "NUTS regions:   9%|▉         | 26/281 [51:25<6:29:51, 91.73s/it] "
     ]
    },
    {
     "name": "stdout",
     "output_type": "stream",
     "text": [
      "No valid documents for NUTS region DE94 and period 8\n",
      "No valid documents for NUTS region DE80 and period 1\n",
      "No valid documents for NUTS region DE80 and period 2\n",
      "No valid documents for NUTS region DE80 and period 3\n"
     ]
    },
    {
     "name": "stderr",
     "output_type": "stream",
     "text": [
      "Batches: 100%|██████████| 89/89 [00:05<00:00, 16.14it/s]\n"
     ]
    },
    {
     "name": "stdout",
     "output_type": "stream",
     "text": [
      "Processed topic information for NUTS region DE80 and period 4\n"
     ]
    },
    {
     "name": "stderr",
     "output_type": "stream",
     "text": [
      "Batches: 100%|██████████| 208/208 [00:13<00:00, 15.75it/s]\n"
     ]
    },
    {
     "name": "stdout",
     "output_type": "stream",
     "text": [
      "Processed topic information for NUTS region DE80 and period 5\n"
     ]
    },
    {
     "name": "stderr",
     "output_type": "stream",
     "text": [
      "Batches: 100%|██████████| 21/21 [00:01<00:00, 12.91it/s]\n"
     ]
    },
    {
     "name": "stdout",
     "output_type": "stream",
     "text": [
      "Processed topic information for NUTS region DE80 and period 6\n",
      "No valid documents for NUTS region DE80 and period 7\n"
     ]
    },
    {
     "name": "stderr",
     "output_type": "stream",
     "text": [
      "NUTS regions:  10%|▉         | 27/281 [51:59<5:15:32, 74.54s/it]"
     ]
    },
    {
     "name": "stdout",
     "output_type": "stream",
     "text": [
      "No valid documents for NUTS region DE80 and period 8\n",
      "No valid documents for NUTS region DEA4 and period 1\n",
      "No valid documents for NUTS region DEA4 and period 2\n",
      "No valid documents for NUTS region DEA4 and period 3\n"
     ]
    },
    {
     "name": "stderr",
     "output_type": "stream",
     "text": [
      "Batches: 100%|██████████| 74/74 [00:04<00:00, 18.33it/s]\n"
     ]
    },
    {
     "name": "stdout",
     "output_type": "stream",
     "text": [
      "Processed topic information for NUTS region DEA4 and period 4\n"
     ]
    },
    {
     "name": "stderr",
     "output_type": "stream",
     "text": [
      "Batches: 100%|██████████| 131/131 [00:07<00:00, 17.43it/s]\n"
     ]
    },
    {
     "name": "stdout",
     "output_type": "stream",
     "text": [
      "Processed topic information for NUTS region DEA4 and period 5\n"
     ]
    },
    {
     "name": "stderr",
     "output_type": "stream",
     "text": [
      "Batches: 100%|██████████| 12/12 [00:01<00:00,  8.12it/s]\n"
     ]
    },
    {
     "name": "stdout",
     "output_type": "stream",
     "text": [
      "Processed topic information for NUTS region DEA4 and period 6\n",
      "No valid documents for NUTS region DEA4 and period 7\n"
     ]
    },
    {
     "name": "stderr",
     "output_type": "stream",
     "text": [
      "NUTS regions:  10%|▉         | 28/281 [52:24<4:11:42, 59.69s/it]"
     ]
    },
    {
     "name": "stdout",
     "output_type": "stream",
     "text": [
      "No valid documents for NUTS region DEA4 and period 8\n",
      "No valid documents for NUTS region DEE0 and period 1\n",
      "No valid documents for NUTS region DEE0 and period 2\n",
      "No valid documents for NUTS region DEE0 and period 3\n"
     ]
    },
    {
     "name": "stderr",
     "output_type": "stream",
     "text": [
      "Batches: 100%|██████████| 147/147 [00:08<00:00, 16.34it/s]\n"
     ]
    },
    {
     "name": "stdout",
     "output_type": "stream",
     "text": [
      "Processed topic information for NUTS region DEE0 and period 4\n"
     ]
    },
    {
     "name": "stderr",
     "output_type": "stream",
     "text": [
      "Batches: 100%|██████████| 302/302 [00:19<00:00, 15.54it/s]\n"
     ]
    },
    {
     "name": "stdout",
     "output_type": "stream",
     "text": [
      "Processed topic information for NUTS region DEE0 and period 5\n"
     ]
    },
    {
     "name": "stderr",
     "output_type": "stream",
     "text": [
      "Batches: 100%|██████████| 24/24 [00:01<00:00, 13.66it/s]\n"
     ]
    },
    {
     "name": "stdout",
     "output_type": "stream",
     "text": [
      "Processed topic information for NUTS region DEE0 and period 6\n"
     ]
    },
    {
     "name": "stderr",
     "output_type": "stream",
     "text": [
      "Batches: 100%|██████████| 4/4 [00:00<00:00,  9.67it/s]\n",
      "NUTS regions:  10%|█         | 29/281 [53:10<3:53:35, 55.62s/it]"
     ]
    },
    {
     "name": "stdout",
     "output_type": "stream",
     "text": [
      "Processed topic information for NUTS region DEE0 and period 7\n",
      "No valid documents for NUTS region DEE0 and period 8\n",
      "No valid documents for NUTS region DEA2 and period 1\n",
      "No valid documents for NUTS region DEA2 and period 2\n",
      "No valid documents for NUTS region DEA2 and period 3\n"
     ]
    },
    {
     "name": "stderr",
     "output_type": "stream",
     "text": [
      "Batches: 100%|██████████| 536/536 [01:10<00:00,  7.65it/s]\n"
     ]
    },
    {
     "name": "stdout",
     "output_type": "stream",
     "text": [
      "Processed topic information for NUTS region DEA2 and period 4\n"
     ]
    },
    {
     "name": "stderr",
     "output_type": "stream",
     "text": [
      "Batches: 100%|██████████| 968/968 [02:18<00:00,  6.98it/s]\n"
     ]
    },
    {
     "name": "stdout",
     "output_type": "stream",
     "text": [
      "Processed topic information for NUTS region DEA2 and period 5\n"
     ]
    },
    {
     "name": "stderr",
     "output_type": "stream",
     "text": [
      "Batches: 100%|██████████| 87/87 [00:23<00:00,  3.73it/s]\n"
     ]
    },
    {
     "name": "stdout",
     "output_type": "stream",
     "text": [
      "Processed topic information for NUTS region DEA2 and period 6\n"
     ]
    },
    {
     "name": "stderr",
     "output_type": "stream",
     "text": [
      "Batches: 100%|██████████| 12/12 [00:04<00:00,  2.60it/s]\n",
      "NUTS regions:  11%|█         | 30/281 [57:35<8:14:43, 118.26s/it]"
     ]
    },
    {
     "name": "stdout",
     "output_type": "stream",
     "text": [
      "Processed topic information for NUTS region DEA2 and period 7\n",
      "No valid documents for NUTS region DEA2 and period 8\n",
      "No valid documents for NUTS region DE71 and period 1\n",
      "No valid documents for NUTS region DE71 and period 2\n",
      "No valid documents for NUTS region DE71 and period 3\n"
     ]
    },
    {
     "name": "stderr",
     "output_type": "stream",
     "text": [
      "Batches: 100%|██████████| 235/235 [00:22<00:00, 10.28it/s]\n"
     ]
    },
    {
     "name": "stdout",
     "output_type": "stream",
     "text": [
      "Processed topic information for NUTS region DE71 and period 4\n"
     ]
    },
    {
     "name": "stderr",
     "output_type": "stream",
     "text": [
      "Batches: 100%|██████████| 421/421 [00:24<00:00, 17.08it/s]\n"
     ]
    },
    {
     "name": "stdout",
     "output_type": "stream",
     "text": [
      "Processed topic information for NUTS region DE71 and period 5\n"
     ]
    },
    {
     "name": "stderr",
     "output_type": "stream",
     "text": [
      "Batches: 100%|██████████| 38/38 [00:02<00:00, 14.04it/s]\n"
     ]
    },
    {
     "name": "stdout",
     "output_type": "stream",
     "text": [
      "Processed topic information for NUTS region DE71 and period 6\n"
     ]
    },
    {
     "name": "stderr",
     "output_type": "stream",
     "text": [
      "Batches: 100%|██████████| 7/7 [00:00<00:00,  7.57it/s]\n",
      "NUTS regions:  11%|█         | 31/281 [58:43<7:09:29, 103.08s/it]"
     ]
    },
    {
     "name": "stdout",
     "output_type": "stream",
     "text": [
      "Processed topic information for NUTS region DE71 and period 7\n",
      "No valid documents for NUTS region DE71 and period 8\n",
      "No valid documents for NUTS region DE25 and period 1\n",
      "No valid documents for NUTS region DE25 and period 2\n",
      "No valid documents for NUTS region DE25 and period 3\n"
     ]
    },
    {
     "name": "stderr",
     "output_type": "stream",
     "text": [
      "Batches: 100%|██████████| 239/239 [00:15<00:00, 15.66it/s]\n"
     ]
    },
    {
     "name": "stdout",
     "output_type": "stream",
     "text": [
      "Processed topic information for NUTS region DE25 and period 4\n"
     ]
    },
    {
     "name": "stderr",
     "output_type": "stream",
     "text": [
      "Batches: 100%|██████████| 430/430 [00:26<00:00, 16.52it/s]\n"
     ]
    },
    {
     "name": "stdout",
     "output_type": "stream",
     "text": [
      "Processed topic information for NUTS region DE25 and period 5\n"
     ]
    },
    {
     "name": "stderr",
     "output_type": "stream",
     "text": [
      "Batches: 100%|██████████| 37/37 [00:02<00:00, 12.41it/s]\n"
     ]
    },
    {
     "name": "stdout",
     "output_type": "stream",
     "text": [
      "Processed topic information for NUTS region DE25 and period 6\n"
     ]
    },
    {
     "name": "stderr",
     "output_type": "stream",
     "text": [
      "Batches: 100%|██████████| 5/5 [00:00<00:00,  7.19it/s]\n",
      "NUTS regions:  11%|█▏        | 32/281 [59:45<6:17:21, 90.93s/it] "
     ]
    },
    {
     "name": "stdout",
     "output_type": "stream",
     "text": [
      "Processed topic information for NUTS region DE25 and period 7\n",
      "No valid documents for NUTS region DE25 and period 8\n",
      "No valid documents for NUTS region SE11 and period 1\n",
      "No valid documents for NUTS region SE11 and period 2\n",
      "No valid documents for NUTS region SE11 and period 3\n"
     ]
    },
    {
     "name": "stderr",
     "output_type": "stream",
     "text": [
      "Batches: 100%|██████████| 467/467 [01:04<00:00,  7.20it/s]\n"
     ]
    },
    {
     "name": "stdout",
     "output_type": "stream",
     "text": [
      "Processed topic information for NUTS region SE11 and period 4\n"
     ]
    },
    {
     "name": "stderr",
     "output_type": "stream",
     "text": [
      "Batches: 100%|██████████| 807/807 [03:03<00:00,  4.40it/s]\n"
     ]
    },
    {
     "name": "stdout",
     "output_type": "stream",
     "text": [
      "Processed topic information for NUTS region SE11 and period 5\n"
     ]
    },
    {
     "name": "stderr",
     "output_type": "stream",
     "text": [
      "Batches: 100%|██████████| 70/70 [00:21<00:00,  3.23it/s]\n"
     ]
    },
    {
     "name": "stdout",
     "output_type": "stream",
     "text": [
      "Processed topic information for NUTS region SE11 and period 6\n"
     ]
    },
    {
     "name": "stderr",
     "output_type": "stream",
     "text": [
      "Batches: 100%|██████████| 13/13 [00:02<00:00,  6.38it/s]\n",
      "NUTS regions:  12%|█▏        | 33/281 [1:04:41<10:30:23, 152.51s/it]"
     ]
    },
    {
     "name": "stdout",
     "output_type": "stream",
     "text": [
      "Processed topic information for NUTS region SE11 and period 7\n",
      "No valid documents for NUTS region SE11 and period 8\n",
      "No valid documents for NUTS region DE11 and period 1\n",
      "No valid documents for NUTS region DE11 and period 2\n",
      "No valid documents for NUTS region DE11 and period 3\n"
     ]
    },
    {
     "name": "stderr",
     "output_type": "stream",
     "text": [
      "Batches: 100%|██████████| 254/254 [00:13<00:00, 19.29it/s]\n"
     ]
    },
    {
     "name": "stdout",
     "output_type": "stream",
     "text": [
      "Processed topic information for NUTS region DE11 and period 4\n"
     ]
    },
    {
     "name": "stderr",
     "output_type": "stream",
     "text": [
      "Batches: 100%|██████████| 425/425 [00:22<00:00, 18.80it/s]\n"
     ]
    },
    {
     "name": "stdout",
     "output_type": "stream",
     "text": [
      "Processed topic information for NUTS region DE11 and period 5\n"
     ]
    },
    {
     "name": "stderr",
     "output_type": "stream",
     "text": [
      "Batches: 100%|██████████| 37/37 [00:02<00:00, 16.44it/s]\n"
     ]
    },
    {
     "name": "stdout",
     "output_type": "stream",
     "text": [
      "Processed topic information for NUTS region DE11 and period 6\n"
     ]
    },
    {
     "name": "stderr",
     "output_type": "stream",
     "text": [
      "Batches: 100%|██████████| 5/5 [00:00<00:00,  9.60it/s]\n",
      "NUTS regions:  12%|█▏        | 34/281 [1:05:37<8:27:50, 123.36s/it] "
     ]
    },
    {
     "name": "stdout",
     "output_type": "stream",
     "text": [
      "Processed topic information for NUTS region DE11 and period 7\n",
      "No valid documents for NUTS region DE11 and period 8\n",
      "No valid documents for NUTS region AT13 and period 1\n",
      "No valid documents for NUTS region AT13 and period 2\n",
      "No valid documents for NUTS region AT13 and period 3\n"
     ]
    },
    {
     "name": "stderr",
     "output_type": "stream",
     "text": [
      "Batches: 100%|██████████| 347/347 [00:35<00:00,  9.83it/s]\n"
     ]
    },
    {
     "name": "stdout",
     "output_type": "stream",
     "text": [
      "Processed topic information for NUTS region AT13 and period 4\n"
     ]
    },
    {
     "name": "stderr",
     "output_type": "stream",
     "text": [
      "Batches: 100%|██████████| 647/647 [01:50<00:00,  5.83it/s]\n"
     ]
    },
    {
     "name": "stdout",
     "output_type": "stream",
     "text": [
      "Processed topic information for NUTS region AT13 and period 5\n"
     ]
    },
    {
     "name": "stderr",
     "output_type": "stream",
     "text": [
      "Batches: 100%|██████████| 51/51 [00:11<00:00,  4.29it/s]\n"
     ]
    },
    {
     "name": "stdout",
     "output_type": "stream",
     "text": [
      "Processed topic information for NUTS region AT13 and period 6\n"
     ]
    },
    {
     "name": "stderr",
     "output_type": "stream",
     "text": [
      "Batches: 100%|██████████| 9/9 [00:02<00:00,  3.37it/s]\n",
      "NUTS regions:  12%|█▏        | 35/281 [1:08:37<9:36:14, 140.55s/it]"
     ]
    },
    {
     "name": "stdout",
     "output_type": "stream",
     "text": [
      "Processed topic information for NUTS region AT13 and period 7\n",
      "No valid documents for NUTS region AT13 and period 8\n",
      "No valid documents for NUTS region LV00 and period 1\n",
      "No valid documents for NUTS region LV00 and period 2\n",
      "No valid documents for NUTS region LV00 and period 3\n"
     ]
    },
    {
     "name": "stderr",
     "output_type": "stream",
     "text": [
      "Batches: 100%|██████████| 30/30 [00:08<00:00,  3.66it/s]\n"
     ]
    },
    {
     "name": "stdout",
     "output_type": "stream",
     "text": [
      "Processed topic information for NUTS region LV00 and period 4\n"
     ]
    },
    {
     "name": "stderr",
     "output_type": "stream",
     "text": [
      "Batches: 100%|██████████| 46/46 [00:02<00:00, 16.28it/s]\n"
     ]
    },
    {
     "name": "stdout",
     "output_type": "stream",
     "text": [
      "Processed topic information for NUTS region LV00 and period 5\n",
      "No valid documents for NUTS region LV00 and period 6\n"
     ]
    },
    {
     "name": "stderr",
     "output_type": "stream",
     "text": [
      "NUTS regions:  13%|█▎        | 36/281 [1:08:57<7:05:22, 104.17s/it]"
     ]
    },
    {
     "name": "stdout",
     "output_type": "stream",
     "text": [
      "No valid documents for NUTS region LV00 and period 7\n",
      "No valid documents for NUTS region LV00 and period 8\n",
      "No valid documents for NUTS region LT00 and period 1\n",
      "No valid documents for NUTS region LT00 and period 2\n",
      "No valid documents for NUTS region LT00 and period 3\n"
     ]
    },
    {
     "name": "stderr",
     "output_type": "stream",
     "text": [
      "Batches: 100%|██████████| 41/41 [00:02<00:00, 17.80it/s]\n"
     ]
    },
    {
     "name": "stdout",
     "output_type": "stream",
     "text": [
      "Processed topic information for NUTS region LT00 and period 4\n"
     ]
    },
    {
     "name": "stderr",
     "output_type": "stream",
     "text": [
      "Batches: 100%|██████████| 105/105 [00:05<00:00, 19.13it/s]\n"
     ]
    },
    {
     "name": "stdout",
     "output_type": "stream",
     "text": [
      "Processed topic information for NUTS region LT00 and period 5\n"
     ]
    },
    {
     "name": "stderr",
     "output_type": "stream",
     "text": [
      "Batches: 100%|██████████| 12/12 [00:00<00:00, 15.88it/s]\n"
     ]
    },
    {
     "name": "stdout",
     "output_type": "stream",
     "text": [
      "Processed topic information for NUTS region LT00 and period 6\n",
      "No valid documents for NUTS region LT00 and period 7\n"
     ]
    },
    {
     "name": "stderr",
     "output_type": "stream",
     "text": [
      "NUTS regions:  13%|█▎        | 37/281 [1:09:19<5:23:23, 79.52s/it] "
     ]
    },
    {
     "name": "stdout",
     "output_type": "stream",
     "text": [
      "No valid documents for NUTS region LT00 and period 8\n",
      "No valid documents for NUTS region UKL2 and period 1\n",
      "No valid documents for NUTS region UKL2 and period 2\n",
      "No valid documents for NUTS region UKL2 and period 3\n"
     ]
    },
    {
     "name": "stderr",
     "output_type": "stream",
     "text": [
      "Batches: 100%|██████████| 122/122 [00:08<00:00, 14.56it/s]\n"
     ]
    },
    {
     "name": "stdout",
     "output_type": "stream",
     "text": [
      "Processed topic information for NUTS region UKL2 and period 4\n"
     ]
    },
    {
     "name": "stderr",
     "output_type": "stream",
     "text": [
      "Batches: 100%|██████████| 225/225 [00:14<00:00, 15.21it/s]\n"
     ]
    },
    {
     "name": "stdout",
     "output_type": "stream",
     "text": [
      "Processed topic information for NUTS region UKL2 and period 5\n"
     ]
    },
    {
     "name": "stderr",
     "output_type": "stream",
     "text": [
      "Batches: 100%|██████████| 21/21 [00:01<00:00, 14.18it/s]\n"
     ]
    },
    {
     "name": "stdout",
     "output_type": "stream",
     "text": [
      "Processed topic information for NUTS region UKL2 and period 6\n"
     ]
    },
    {
     "name": "stderr",
     "output_type": "stream",
     "text": [
      "Batches: 100%|██████████| 4/4 [00:00<00:00, 10.60it/s]\n",
      "NUTS regions:  14%|█▎        | 38/281 [1:10:03<4:39:41, 69.06s/it]"
     ]
    },
    {
     "name": "stdout",
     "output_type": "stream",
     "text": [
      "Processed topic information for NUTS region UKL2 and period 7\n",
      "No valid documents for NUTS region UKL2 and period 8\n",
      "No valid documents for NUTS region DE50 and period 1\n",
      "No valid documents for NUTS region DE50 and period 2\n",
      "No valid documents for NUTS region DE50 and period 3\n"
     ]
    },
    {
     "name": "stderr",
     "output_type": "stream",
     "text": [
      "Batches: 100%|██████████| 71/71 [00:04<00:00, 16.69it/s]\n"
     ]
    },
    {
     "name": "stdout",
     "output_type": "stream",
     "text": [
      "Processed topic information for NUTS region DE50 and period 4\n"
     ]
    },
    {
     "name": "stderr",
     "output_type": "stream",
     "text": [
      "Batches: 100%|██████████| 156/156 [00:09<00:00, 16.12it/s]\n"
     ]
    },
    {
     "name": "stdout",
     "output_type": "stream",
     "text": [
      "Processed topic information for NUTS region DE50 and period 5\n"
     ]
    },
    {
     "name": "stderr",
     "output_type": "stream",
     "text": [
      "Batches: 100%|██████████| 16/16 [00:01<00:00, 14.57it/s]\n"
     ]
    },
    {
     "name": "stdout",
     "output_type": "stream",
     "text": [
      "Processed topic information for NUTS region DE50 and period 6\n",
      "No valid documents for NUTS region DE50 and period 7\n"
     ]
    },
    {
     "name": "stderr",
     "output_type": "stream",
     "text": [
      "NUTS regions:  14%|█▍        | 39/281 [1:10:32<3:50:08, 57.06s/it]"
     ]
    },
    {
     "name": "stdout",
     "output_type": "stream",
     "text": [
      "No valid documents for NUTS region DE50 and period 8\n",
      "No valid documents for NUTS region UKI4 and period 1\n",
      "No valid documents for NUTS region UKI4 and period 2\n",
      "No valid documents for NUTS region UKI4 and period 3\n"
     ]
    },
    {
     "name": "stderr",
     "output_type": "stream",
     "text": [
      "Batches: 100%|██████████| 302/302 [00:19<00:00, 15.67it/s]\n"
     ]
    },
    {
     "name": "stdout",
     "output_type": "stream",
     "text": [
      "Processed topic information for NUTS region UKI4 and period 4\n"
     ]
    },
    {
     "name": "stderr",
     "output_type": "stream",
     "text": [
      "Batches: 100%|██████████| 505/505 [00:31<00:00, 15.82it/s]\n"
     ]
    },
    {
     "name": "stdout",
     "output_type": "stream",
     "text": [
      "Processed topic information for NUTS region UKI4 and period 5\n"
     ]
    },
    {
     "name": "stderr",
     "output_type": "stream",
     "text": [
      "Batches: 100%|██████████| 47/47 [00:03<00:00, 15.49it/s]\n"
     ]
    },
    {
     "name": "stdout",
     "output_type": "stream",
     "text": [
      "Processed topic information for NUTS region UKI4 and period 6\n"
     ]
    },
    {
     "name": "stderr",
     "output_type": "stream",
     "text": [
      "Batches: 100%|██████████| 9/9 [00:00<00:00, 13.63it/s]\n",
      "NUTS regions:  14%|█▍        | 40/281 [1:11:50<4:13:54, 63.21s/it]"
     ]
    },
    {
     "name": "stdout",
     "output_type": "stream",
     "text": [
      "Processed topic information for NUTS region UKI4 and period 7\n",
      "No valid documents for NUTS region UKI4 and period 8\n",
      "No valid documents for NUTS region UKI3 and period 1\n",
      "No valid documents for NUTS region UKI3 and period 2\n"
     ]
    },
    {
     "name": "stderr",
     "output_type": "stream",
     "text": [
      "Batches: 100%|██████████| 4/4 [00:00<00:00,  8.19it/s]\n"
     ]
    },
    {
     "name": "stdout",
     "output_type": "stream",
     "text": [
      "Processed topic information for NUTS region UKI3 and period 3\n"
     ]
    },
    {
     "name": "stderr",
     "output_type": "stream",
     "text": [
      "Batches: 100%|██████████| 947/947 [02:15<00:00,  7.01it/s]\n"
     ]
    },
    {
     "name": "stdout",
     "output_type": "stream",
     "text": [
      "Processed topic information for NUTS region UKI3 and period 4\n"
     ]
    },
    {
     "name": "stderr",
     "output_type": "stream",
     "text": [
      "Batches: 100%|██████████| 1717/1717 [06:26<00:00,  4.44it/s]\n"
     ]
    },
    {
     "name": "stdout",
     "output_type": "stream",
     "text": [
      "Processed topic information for NUTS region UKI3 and period 5\n"
     ]
    },
    {
     "name": "stderr",
     "output_type": "stream",
     "text": [
      "Batches: 100%|██████████| 159/159 [00:18<00:00,  8.74it/s]\n"
     ]
    },
    {
     "name": "stdout",
     "output_type": "stream",
     "text": [
      "Processed topic information for NUTS region UKI3 and period 6\n"
     ]
    },
    {
     "name": "stderr",
     "output_type": "stream",
     "text": [
      "Batches: 100%|██████████| 35/35 [00:05<00:00,  6.22it/s]\n",
      "NUTS regions:  15%|█▍        | 41/281 [1:21:38<14:43:11, 220.80s/it]"
     ]
    },
    {
     "name": "stdout",
     "output_type": "stream",
     "text": [
      "Processed topic information for NUTS region UKI3 and period 7\n",
      "No valid documents for NUTS region UKI3 and period 8\n",
      "No valid documents for NUTS region UKF1 and period 1\n",
      "No valid documents for NUTS region UKF1 and period 2\n",
      "No valid documents for NUTS region UKF1 and period 3\n"
     ]
    },
    {
     "name": "stderr",
     "output_type": "stream",
     "text": [
      "Batches: 100%|██████████| 180/180 [00:42<00:00,  4.23it/s]\n",
      "c:\\Users\\user\\anaconda3\\envs\\bertopic_2\\lib\\site-packages\\hdbscan\\prediction.py:658: RuntimeWarning: All-NaN slice encountered\n",
      "  outlier_vecs = all_points_outlier_membership_vector(\n",
      "c:\\Users\\user\\anaconda3\\envs\\bertopic_2\\lib\\site-packages\\hdbscan\\prediction.py:663: RuntimeWarning: invalid value encountered in scalar divide\n",
      "  in_cluster_probs = all_points_prob_in_some_cluster(\n"
     ]
    },
    {
     "name": "stdout",
     "output_type": "stream",
     "text": [
      "Processed topic information for NUTS region UKF1 and period 4\n"
     ]
    },
    {
     "name": "stderr",
     "output_type": "stream",
     "text": [
      "Batches: 100%|██████████| 311/311 [02:12<00:00,  2.35it/s]\n"
     ]
    },
    {
     "name": "stdout",
     "output_type": "stream",
     "text": [
      "Processed topic information for NUTS region UKF1 and period 5\n"
     ]
    },
    {
     "name": "stderr",
     "output_type": "stream",
     "text": [
      "Batches: 100%|██████████| 28/28 [00:02<00:00, 12.78it/s]\n"
     ]
    },
    {
     "name": "stdout",
     "output_type": "stream",
     "text": [
      "Processed topic information for NUTS region UKF1 and period 6\n"
     ]
    },
    {
     "name": "stderr",
     "output_type": "stream",
     "text": [
      "Batches: 100%|██████████| 5/5 [00:00<00:00,  9.68it/s]\n",
      "NUTS regions:  15%|█▍        | 42/281 [1:24:51<14:05:46, 212.33s/it]"
     ]
    },
    {
     "name": "stdout",
     "output_type": "stream",
     "text": [
      "Processed topic information for NUTS region UKF1 and period 7\n",
      "No valid documents for NUTS region UKF1 and period 8\n",
      "No valid documents for NUTS region FR41 and period 1\n",
      "No valid documents for NUTS region FR41 and period 2\n",
      "No valid documents for NUTS region FR41 and period 3\n"
     ]
    },
    {
     "name": "stderr",
     "output_type": "stream",
     "text": [
      "Batches: 100%|██████████| 149/149 [00:08<00:00, 17.37it/s]\n"
     ]
    },
    {
     "name": "stdout",
     "output_type": "stream",
     "text": [
      "Processed topic information for NUTS region FR41 and period 4\n"
     ]
    },
    {
     "name": "stderr",
     "output_type": "stream",
     "text": [
      "Batches: 100%|██████████| 251/251 [00:15<00:00, 16.30it/s]\n"
     ]
    },
    {
     "name": "stdout",
     "output_type": "stream",
     "text": [
      "Processed topic information for NUTS region FR41 and period 5\n"
     ]
    },
    {
     "name": "stderr",
     "output_type": "stream",
     "text": [
      "Batches: 100%|██████████| 25/25 [00:01<00:00, 14.56it/s]\n"
     ]
    },
    {
     "name": "stdout",
     "output_type": "stream",
     "text": [
      "Processed topic information for NUTS region FR41 and period 6\n"
     ]
    },
    {
     "name": "stderr",
     "output_type": "stream",
     "text": [
      "Batches: 100%|██████████| 4/4 [00:00<00:00,  9.97it/s]\n",
      "NUTS regions:  15%|█▌        | 43/281 [1:25:32<10:38:08, 160.88s/it]"
     ]
    },
    {
     "name": "stdout",
     "output_type": "stream",
     "text": [
      "Processed topic information for NUTS region FR41 and period 7\n",
      "No valid documents for NUTS region FR41 and period 8\n",
      "No valid documents for NUTS region NL31 and period 1\n",
      "No valid documents for NUTS region NL31 and period 2\n",
      "No valid documents for NUTS region NL31 and period 3\n"
     ]
    },
    {
     "name": "stderr",
     "output_type": "stream",
     "text": [
      "Batches: 100%|██████████| 254/254 [00:16<00:00, 15.10it/s]\n"
     ]
    },
    {
     "name": "stdout",
     "output_type": "stream",
     "text": [
      "Processed topic information for NUTS region NL31 and period 4\n"
     ]
    },
    {
     "name": "stderr",
     "output_type": "stream",
     "text": [
      "Batches: 100%|██████████| 494/494 [00:33<00:00, 14.69it/s]\n"
     ]
    },
    {
     "name": "stdout",
     "output_type": "stream",
     "text": [
      "Processed topic information for NUTS region NL31 and period 5\n"
     ]
    },
    {
     "name": "stderr",
     "output_type": "stream",
     "text": [
      "Batches: 100%|██████████| 45/45 [00:03<00:00, 12.97it/s]\n"
     ]
    },
    {
     "name": "stdout",
     "output_type": "stream",
     "text": [
      "Processed topic information for NUTS region NL31 and period 6\n"
     ]
    },
    {
     "name": "stderr",
     "output_type": "stream",
     "text": [
      "Batches: 100%|██████████| 10/10 [00:00<00:00, 11.77it/s]\n",
      "NUTS regions:  16%|█▌        | 44/281 [1:26:44<8:50:53, 134.41s/it] "
     ]
    },
    {
     "name": "stdout",
     "output_type": "stream",
     "text": [
      "Processed topic information for NUTS region NL31 and period 7\n",
      "No valid documents for NUTS region NL31 and period 8\n",
      "No valid documents for NUTS region ITH3 and period 1\n",
      "No valid documents for NUTS region ITH3 and period 2\n",
      "No valid documents for NUTS region ITH3 and period 3\n"
     ]
    },
    {
     "name": "stderr",
     "output_type": "stream",
     "text": [
      "Batches: 100%|██████████| 257/257 [00:16<00:00, 15.55it/s]\n"
     ]
    },
    {
     "name": "stdout",
     "output_type": "stream",
     "text": [
      "Processed topic information for NUTS region ITH3 and period 4\n"
     ]
    },
    {
     "name": "stderr",
     "output_type": "stream",
     "text": [
      "Batches: 100%|██████████| 507/507 [00:35<00:00, 14.35it/s]\n"
     ]
    },
    {
     "name": "stdout",
     "output_type": "stream",
     "text": [
      "Processed topic information for NUTS region ITH3 and period 5\n"
     ]
    },
    {
     "name": "stderr",
     "output_type": "stream",
     "text": [
      "Batches: 100%|██████████| 49/49 [00:03<00:00, 13.05it/s]\n"
     ]
    },
    {
     "name": "stdout",
     "output_type": "stream",
     "text": [
      "Processed topic information for NUTS region ITH3 and period 6\n"
     ]
    },
    {
     "name": "stderr",
     "output_type": "stream",
     "text": [
      "Batches: 100%|██████████| 8/8 [00:00<00:00, 10.04it/s]\n",
      "NUTS regions:  16%|█▌        | 45/281 [1:27:59<7:37:29, 116.31s/it]"
     ]
    },
    {
     "name": "stdout",
     "output_type": "stream",
     "text": [
      "Processed topic information for NUTS region ITH3 and period 7\n",
      "No valid documents for NUTS region ITH3 and period 8\n",
      "No valid documents for NUTS region FR10 and period 1\n"
     ]
    },
    {
     "name": "stderr",
     "output_type": "stream",
     "text": [
      "Batches: 100%|██████████| 5/5 [00:00<00:00,  8.19it/s]\n"
     ]
    },
    {
     "name": "stdout",
     "output_type": "stream",
     "text": [
      "Processed topic information for NUTS region FR10 and period 2\n"
     ]
    },
    {
     "name": "stderr",
     "output_type": "stream",
     "text": [
      "Batches: 100%|██████████| 10/10 [00:01<00:00,  8.39it/s]\n"
     ]
    },
    {
     "name": "stdout",
     "output_type": "stream",
     "text": [
      "Processed topic information for NUTS region FR10 and period 3\n"
     ]
    },
    {
     "name": "stderr",
     "output_type": "stream",
     "text": [
      "Batches: 100%|██████████| 1982/1982 [07:22<00:00,  4.48it/s]\n"
     ]
    },
    {
     "name": "stdout",
     "output_type": "stream",
     "text": [
      "Processed topic information for NUTS region FR10 and period 4\n"
     ]
    },
    {
     "name": "stderr",
     "output_type": "stream",
     "text": [
      "Batches: 100%|██████████| 3286/3286 [18:22<00:00,  2.98it/s]\n"
     ]
    },
    {
     "name": "stdout",
     "output_type": "stream",
     "text": [
      "Processed topic information for NUTS region FR10 and period 5\n"
     ]
    },
    {
     "name": "stderr",
     "output_type": "stream",
     "text": [
      "Batches: 100%|██████████| 277/277 [00:25<00:00, 11.05it/s]\n"
     ]
    },
    {
     "name": "stdout",
     "output_type": "stream",
     "text": [
      "Processed topic information for NUTS region FR10 and period 6\n"
     ]
    },
    {
     "name": "stderr",
     "output_type": "stream",
     "text": [
      "Batches: 100%|██████████| 43/43 [00:03<00:00, 13.36it/s]\n",
      "NUTS regions:  16%|█▋        | 46/281 [1:55:45<37:56:54, 581.34s/it]"
     ]
    },
    {
     "name": "stdout",
     "output_type": "stream",
     "text": [
      "Processed topic information for NUTS region FR10 and period 7\n",
      "No valid documents for NUTS region FR10 and period 8\n",
      "No valid documents for NUTS region BG41 and period 1\n",
      "No valid documents for NUTS region BG41 and period 2\n",
      "No valid documents for NUTS region BG41 and period 3\n"
     ]
    },
    {
     "name": "stderr",
     "output_type": "stream",
     "text": [
      "Batches: 100%|██████████| 127/127 [00:07<00:00, 17.06it/s]\n"
     ]
    },
    {
     "name": "stdout",
     "output_type": "stream",
     "text": [
      "Processed topic information for NUTS region BG41 and period 4\n"
     ]
    },
    {
     "name": "stderr",
     "output_type": "stream",
     "text": [
      "Batches: 100%|██████████| 202/202 [00:13<00:00, 14.52it/s]\n"
     ]
    },
    {
     "name": "stdout",
     "output_type": "stream",
     "text": [
      "Processed topic information for NUTS region BG41 and period 5\n"
     ]
    },
    {
     "name": "stderr",
     "output_type": "stream",
     "text": [
      "Batches: 100%|██████████| 19/19 [00:01<00:00, 12.43it/s]\n"
     ]
    },
    {
     "name": "stdout",
     "output_type": "stream",
     "text": [
      "Processed topic information for NUTS region BG41 and period 6\n"
     ]
    },
    {
     "name": "stderr",
     "output_type": "stream",
     "text": [
      "Batches: 100%|██████████| 5/5 [00:00<00:00, 11.02it/s]\n",
      "NUTS regions:  17%|█▋        | 47/281 [1:56:26<27:15:19, 419.31s/it]"
     ]
    },
    {
     "name": "stdout",
     "output_type": "stream",
     "text": [
      "Processed topic information for NUTS region BG41 and period 7\n",
      "No valid documents for NUTS region BG41 and period 8\n",
      "No valid documents for NUTS region UKH1 and period 1\n",
      "No valid documents for NUTS region UKH1 and period 2\n"
     ]
    },
    {
     "name": "stderr",
     "output_type": "stream",
     "text": [
      "Batches: 100%|██████████| 4/4 [00:00<00:00, 14.88it/s]\n"
     ]
    },
    {
     "name": "stdout",
     "output_type": "stream",
     "text": [
      "Processed topic information for NUTS region UKH1 and period 3\n"
     ]
    },
    {
     "name": "stderr",
     "output_type": "stream",
     "text": [
      "Batches: 100%|██████████| 559/559 [00:38<00:00, 14.49it/s]\n"
     ]
    },
    {
     "name": "stdout",
     "output_type": "stream",
     "text": [
      "Processed topic information for NUTS region UKH1 and period 4\n"
     ]
    },
    {
     "name": "stderr",
     "output_type": "stream",
     "text": [
      "Batches: 100%|██████████| 957/957 [01:09<00:00, 13.78it/s]\n"
     ]
    },
    {
     "name": "stdout",
     "output_type": "stream",
     "text": [
      "Processed topic information for NUTS region UKH1 and period 5\n"
     ]
    },
    {
     "name": "stderr",
     "output_type": "stream",
     "text": [
      "Batches: 100%|██████████| 85/85 [00:06<00:00, 13.59it/s]\n"
     ]
    },
    {
     "name": "stdout",
     "output_type": "stream",
     "text": [
      "Processed topic information for NUTS region UKH1 and period 6\n"
     ]
    },
    {
     "name": "stderr",
     "output_type": "stream",
     "text": [
      "Batches: 100%|██████████| 15/15 [00:01<00:00,  9.98it/s]\n",
      "NUTS regions:  17%|█▋        | 48/281 [1:58:52<21:49:09, 337.12s/it]"
     ]
    },
    {
     "name": "stdout",
     "output_type": "stream",
     "text": [
      "Processed topic information for NUTS region UKH1 and period 7\n",
      "No valid documents for NUTS region UKH1 and period 8\n",
      "No valid documents for NUTS region UKD3 and period 1\n",
      "No valid documents for NUTS region UKD3 and period 2\n",
      "No valid documents for NUTS region UKD3 and period 3\n"
     ]
    },
    {
     "name": "stderr",
     "output_type": "stream",
     "text": [
      "Batches: 100%|██████████| 274/274 [00:19<00:00, 14.24it/s]\n"
     ]
    },
    {
     "name": "stdout",
     "output_type": "stream",
     "text": [
      "Processed topic information for NUTS region UKD3 and period 4\n"
     ]
    },
    {
     "name": "stderr",
     "output_type": "stream",
     "text": [
      "Batches: 100%|██████████| 479/479 [00:34<00:00, 13.84it/s]\n"
     ]
    },
    {
     "name": "stdout",
     "output_type": "stream",
     "text": [
      "Processed topic information for NUTS region UKD3 and period 5\n"
     ]
    },
    {
     "name": "stderr",
     "output_type": "stream",
     "text": [
      "Batches: 100%|██████████| 44/44 [00:04<00:00,  9.42it/s]\n"
     ]
    },
    {
     "name": "stdout",
     "output_type": "stream",
     "text": [
      "Processed topic information for NUTS region UKD3 and period 6\n"
     ]
    },
    {
     "name": "stderr",
     "output_type": "stream",
     "text": [
      "Batches: 100%|██████████| 9/9 [00:01<00:00,  6.86it/s]\n",
      "NUTS regions:  17%|█▋        | 49/281 [2:00:10<16:42:57, 259.39s/it]"
     ]
    },
    {
     "name": "stdout",
     "output_type": "stream",
     "text": [
      "Processed topic information for NUTS region UKD3 and period 7\n",
      "No valid documents for NUTS region UKD3 and period 8\n",
      "No valid documents for NUTS region DEC0 and period 1\n",
      "No valid documents for NUTS region DEC0 and period 2\n",
      "No valid documents for NUTS region DEC0 and period 3\n"
     ]
    },
    {
     "name": "stderr",
     "output_type": "stream",
     "text": [
      "Batches: 100%|██████████| 71/71 [00:11<00:00,  6.07it/s]\n"
     ]
    },
    {
     "name": "stdout",
     "output_type": "stream",
     "text": [
      "Processed topic information for NUTS region DEC0 and period 4\n"
     ]
    },
    {
     "name": "stderr",
     "output_type": "stream",
     "text": [
      "Batches: 100%|██████████| 136/136 [00:35<00:00,  3.88it/s]\n"
     ]
    },
    {
     "name": "stdout",
     "output_type": "stream",
     "text": [
      "Processed topic information for NUTS region DEC0 and period 5\n"
     ]
    },
    {
     "name": "stderr",
     "output_type": "stream",
     "text": [
      "Batches: 100%|██████████| 13/13 [00:04<00:00,  2.67it/s]\n"
     ]
    },
    {
     "name": "stdout",
     "output_type": "stream",
     "text": [
      "Processed topic information for NUTS region DEC0 and period 6\n",
      "No valid documents for NUTS region DEC0 and period 7\n"
     ]
    },
    {
     "name": "stderr",
     "output_type": "stream",
     "text": [
      "NUTS regions:  18%|█▊        | 50/281 [2:01:13<12:52:23, 200.62s/it]"
     ]
    },
    {
     "name": "stdout",
     "output_type": "stream",
     "text": [
      "No valid documents for NUTS region DEC0 and period 8\n",
      "No valid documents for NUTS region DE73 and period 1\n",
      "No valid documents for NUTS region DE73 and period 2\n",
      "No valid documents for NUTS region DE73 and period 3\n"
     ]
    },
    {
     "name": "stderr",
     "output_type": "stream",
     "text": [
      "Batches: 100%|██████████| 27/27 [00:01<00:00, 14.19it/s]\n"
     ]
    },
    {
     "name": "stdout",
     "output_type": "stream",
     "text": [
      "Processed topic information for NUTS region DE73 and period 4\n"
     ]
    },
    {
     "name": "stderr",
     "output_type": "stream",
     "text": [
      "Batches: 100%|██████████| 47/47 [00:03<00:00, 14.38it/s]\n"
     ]
    },
    {
     "name": "stdout",
     "output_type": "stream",
     "text": [
      "Processed topic information for NUTS region DE73 and period 5\n"
     ]
    },
    {
     "name": "stderr",
     "output_type": "stream",
     "text": [
      "Batches: 100%|██████████| 4/4 [00:00<00:00, 10.14it/s]\n"
     ]
    },
    {
     "name": "stdout",
     "output_type": "stream",
     "text": [
      "Processed topic information for NUTS region DE73 and period 6\n",
      "No valid documents for NUTS region DE73 and period 7\n"
     ]
    },
    {
     "name": "stderr",
     "output_type": "stream",
     "text": [
      "NUTS regions:  18%|█▊        | 51/281 [2:01:28<9:16:02, 145.06s/it] "
     ]
    },
    {
     "name": "stdout",
     "output_type": "stream",
     "text": [
      "No valid documents for NUTS region DE73 and period 8\n",
      "No valid documents for NUTS region DEA5 and period 1\n",
      "No valid documents for NUTS region DEA5 and period 2\n",
      "No valid documents for NUTS region DEA5 and period 3\n"
     ]
    },
    {
     "name": "stderr",
     "output_type": "stream",
     "text": [
      "Batches: 100%|██████████| 209/209 [00:13<00:00, 16.05it/s]\n"
     ]
    },
    {
     "name": "stdout",
     "output_type": "stream",
     "text": [
      "Processed topic information for NUTS region DEA5 and period 4\n"
     ]
    },
    {
     "name": "stderr",
     "output_type": "stream",
     "text": [
      "Batches: 100%|██████████| 353/353 [00:23<00:00, 15.22it/s]\n"
     ]
    },
    {
     "name": "stdout",
     "output_type": "stream",
     "text": [
      "Processed topic information for NUTS region DEA5 and period 5\n"
     ]
    },
    {
     "name": "stderr",
     "output_type": "stream",
     "text": [
      "Batches: 100%|██████████| 32/32 [00:02<00:00, 14.03it/s]\n"
     ]
    },
    {
     "name": "stdout",
     "output_type": "stream",
     "text": [
      "Processed topic information for NUTS region DEA5 and period 6\n"
     ]
    },
    {
     "name": "stderr",
     "output_type": "stream",
     "text": [
      "Batches: 100%|██████████| 5/5 [00:00<00:00,  7.00it/s]\n",
      "NUTS regions:  19%|█▊        | 52/281 [2:02:23<7:30:26, 118.02s/it]"
     ]
    },
    {
     "name": "stdout",
     "output_type": "stream",
     "text": [
      "Processed topic information for NUTS region DEA5 and period 7\n",
      "No valid documents for NUTS region DEA5 and period 8\n",
      "No valid documents for NUTS region UKE3 and period 1\n",
      "No valid documents for NUTS region UKE3 and period 2\n",
      "No valid documents for NUTS region UKE3 and period 3\n"
     ]
    },
    {
     "name": "stderr",
     "output_type": "stream",
     "text": [
      "Batches: 100%|██████████| 154/154 [00:10<00:00, 15.03it/s]\n"
     ]
    },
    {
     "name": "stdout",
     "output_type": "stream",
     "text": [
      "Processed topic information for NUTS region UKE3 and period 4\n"
     ]
    },
    {
     "name": "stderr",
     "output_type": "stream",
     "text": [
      "Batches: 100%|██████████| 283/283 [00:19<00:00, 14.26it/s]\n"
     ]
    },
    {
     "name": "stdout",
     "output_type": "stream",
     "text": [
      "Processed topic information for NUTS region UKE3 and period 5\n"
     ]
    },
    {
     "name": "stderr",
     "output_type": "stream",
     "text": [
      "Batches: 100%|██████████| 27/27 [00:02<00:00, 11.83it/s]\n"
     ]
    },
    {
     "name": "stdout",
     "output_type": "stream",
     "text": [
      "Processed topic information for NUTS region UKE3 and period 6\n"
     ]
    },
    {
     "name": "stderr",
     "output_type": "stream",
     "text": [
      "Batches: 100%|██████████| 5/5 [00:00<00:00,  8.45it/s]\n",
      "NUTS regions:  19%|█▉        | 53/281 [2:03:12<6:08:53, 97.08s/it] "
     ]
    },
    {
     "name": "stdout",
     "output_type": "stream",
     "text": [
      "Processed topic information for NUTS region UKE3 and period 7\n",
      "No valid documents for NUTS region UKE3 and period 8\n",
      "No valid documents for NUTS region UKE4 and period 1\n",
      "No valid documents for NUTS region UKE4 and period 2\n",
      "No valid documents for NUTS region UKE4 and period 3\n"
     ]
    },
    {
     "name": "stderr",
     "output_type": "stream",
     "text": [
      "Batches: 100%|██████████| 190/190 [00:12<00:00, 14.74it/s]\n"
     ]
    },
    {
     "name": "stdout",
     "output_type": "stream",
     "text": [
      "Processed topic information for NUTS region UKE4 and period 4\n"
     ]
    },
    {
     "name": "stderr",
     "output_type": "stream",
     "text": [
      "Batches: 100%|██████████| 339/339 [00:24<00:00, 13.83it/s]\n"
     ]
    },
    {
     "name": "stdout",
     "output_type": "stream",
     "text": [
      "Processed topic information for NUTS region UKE4 and period 5\n"
     ]
    },
    {
     "name": "stderr",
     "output_type": "stream",
     "text": [
      "Batches: 100%|██████████| 30/30 [00:02<00:00, 12.80it/s]\n"
     ]
    },
    {
     "name": "stdout",
     "output_type": "stream",
     "text": [
      "Processed topic information for NUTS region UKE4 and period 6\n"
     ]
    },
    {
     "name": "stderr",
     "output_type": "stream",
     "text": [
      "Batches: 100%|██████████| 6/6 [00:01<00:00,  5.87it/s]\n",
      "NUTS regions:  19%|█▉        | 54/281 [2:04:09<5:21:55, 85.09s/it]"
     ]
    },
    {
     "name": "stdout",
     "output_type": "stream",
     "text": [
      "Processed topic information for NUTS region UKE4 and period 7\n",
      "No valid documents for NUTS region UKE4 and period 8\n",
      "No valid documents for NUTS region UKJ2 and period 1\n",
      "No valid documents for NUTS region UKJ2 and period 2\n",
      "No valid documents for NUTS region UKJ2 and period 3\n"
     ]
    },
    {
     "name": "stderr",
     "output_type": "stream",
     "text": [
      "Batches: 100%|██████████| 200/200 [00:25<00:00,  7.96it/s]\n"
     ]
    },
    {
     "name": "stdout",
     "output_type": "stream",
     "text": [
      "Processed topic information for NUTS region UKJ2 and period 4\n"
     ]
    },
    {
     "name": "stderr",
     "output_type": "stream",
     "text": [
      "Batches: 100%|██████████| 357/357 [00:55<00:00,  6.39it/s]\n"
     ]
    },
    {
     "name": "stdout",
     "output_type": "stream",
     "text": [
      "Processed topic information for NUTS region UKJ2 and period 5\n"
     ]
    },
    {
     "name": "stderr",
     "output_type": "stream",
     "text": [
      "Batches: 100%|██████████| 31/31 [00:07<00:00,  4.32it/s]\n"
     ]
    },
    {
     "name": "stdout",
     "output_type": "stream",
     "text": [
      "Processed topic information for NUTS region UKJ2 and period 6\n"
     ]
    },
    {
     "name": "stderr",
     "output_type": "stream",
     "text": [
      "Batches: 100%|██████████| 7/7 [00:02<00:00,  2.85it/s]\n",
      "NUTS regions:  20%|█▉        | 55/281 [2:05:55<5:44:18, 91.41s/it]"
     ]
    },
    {
     "name": "stdout",
     "output_type": "stream",
     "text": [
      "Processed topic information for NUTS region UKJ2 and period 7\n",
      "No valid documents for NUTS region UKJ2 and period 8\n",
      "No valid documents for NUTS region NO01 and period 1\n",
      "No valid documents for NUTS region NO01 and period 2\n",
      "No valid documents for NUTS region NO01 and period 3\n"
     ]
    },
    {
     "name": "stderr",
     "output_type": "stream",
     "text": [
      "Batches: 100%|██████████| 228/228 [00:26<00:00,  8.66it/s]\n"
     ]
    },
    {
     "name": "stdout",
     "output_type": "stream",
     "text": [
      "Processed topic information for NUTS region NO01 and period 4\n"
     ]
    },
    {
     "name": "stderr",
     "output_type": "stream",
     "text": [
      "Batches: 100%|██████████| 417/417 [00:30<00:00, 13.49it/s]\n"
     ]
    },
    {
     "name": "stdout",
     "output_type": "stream",
     "text": [
      "Processed topic information for NUTS region NO01 and period 5\n"
     ]
    },
    {
     "name": "stderr",
     "output_type": "stream",
     "text": [
      "Batches: 100%|██████████| 42/42 [00:03<00:00, 12.47it/s]\n"
     ]
    },
    {
     "name": "stdout",
     "output_type": "stream",
     "text": [
      "Processed topic information for NUTS region NO01 and period 6\n"
     ]
    },
    {
     "name": "stderr",
     "output_type": "stream",
     "text": [
      "Batches: 100%|██████████| 9/9 [00:00<00:00,  9.47it/s]\n",
      "NUTS regions:  20%|█▉        | 56/281 [2:07:13<5:28:08, 87.51s/it]"
     ]
    },
    {
     "name": "stdout",
     "output_type": "stream",
     "text": [
      "Processed topic information for NUTS region NO01 and period 7\n",
      "No valid documents for NUTS region NO01 and period 8\n",
      "No valid documents for NUTS region UKG3 and period 1\n",
      "No valid documents for NUTS region UKG3 and period 2\n",
      "No valid documents for NUTS region UKG3 and period 3\n"
     ]
    },
    {
     "name": "stderr",
     "output_type": "stream",
     "text": [
      "Batches: 100%|██████████| 256/256 [00:17<00:00, 15.05it/s]\n"
     ]
    },
    {
     "name": "stdout",
     "output_type": "stream",
     "text": [
      "Processed topic information for NUTS region UKG3 and period 4\n"
     ]
    },
    {
     "name": "stderr",
     "output_type": "stream",
     "text": [
      "Batches: 100%|██████████| 469/469 [00:32<00:00, 14.47it/s]\n"
     ]
    },
    {
     "name": "stdout",
     "output_type": "stream",
     "text": [
      "Processed topic information for NUTS region UKG3 and period 5\n"
     ]
    },
    {
     "name": "stderr",
     "output_type": "stream",
     "text": [
      "Batches: 100%|██████████| 43/43 [00:03<00:00, 13.56it/s]\n"
     ]
    },
    {
     "name": "stdout",
     "output_type": "stream",
     "text": [
      "Processed topic information for NUTS region UKG3 and period 6\n"
     ]
    },
    {
     "name": "stderr",
     "output_type": "stream",
     "text": [
      "Batches: 100%|██████████| 9/9 [00:00<00:00, 10.56it/s]\n",
      "NUTS regions:  20%|██        | 57/281 [2:08:24<5:07:56, 82.48s/it]"
     ]
    },
    {
     "name": "stdout",
     "output_type": "stream",
     "text": [
      "Processed topic information for NUTS region UKG3 and period 7\n",
      "No valid documents for NUTS region UKG3 and period 8\n",
      "No valid documents for NUTS region UKJ1 and period 1\n",
      "No valid documents for NUTS region UKJ1 and period 2\n",
      "No valid documents for NUTS region UKJ1 and period 3\n"
     ]
    },
    {
     "name": "stderr",
     "output_type": "stream",
     "text": [
      "Batches: 100%|██████████| 606/606 [00:40<00:00, 14.97it/s]\n"
     ]
    },
    {
     "name": "stdout",
     "output_type": "stream",
     "text": [
      "Processed topic information for NUTS region UKJ1 and period 4\n"
     ]
    },
    {
     "name": "stderr",
     "output_type": "stream",
     "text": [
      "Batches: 100%|██████████| 1025/1025 [01:10<00:00, 14.53it/s]\n"
     ]
    },
    {
     "name": "stdout",
     "output_type": "stream",
     "text": [
      "Processed topic information for NUTS region UKJ1 and period 5\n"
     ]
    },
    {
     "name": "stderr",
     "output_type": "stream",
     "text": [
      "Batches: 100%|██████████| 86/86 [00:05<00:00, 15.54it/s]\n"
     ]
    },
    {
     "name": "stdout",
     "output_type": "stream",
     "text": [
      "Processed topic information for NUTS region UKJ1 and period 6\n"
     ]
    },
    {
     "name": "stderr",
     "output_type": "stream",
     "text": [
      "Batches: 100%|██████████| 17/17 [00:02<00:00,  7.86it/s]\n",
      "NUTS regions:  21%|██        | 58/281 [2:10:53<6:20:39, 102.42s/it]"
     ]
    },
    {
     "name": "stdout",
     "output_type": "stream",
     "text": [
      "Processed topic information for NUTS region UKJ1 and period 7\n",
      "No valid documents for NUTS region UKJ1 and period 8\n",
      "No valid documents for NUTS region IE02 and period 1\n",
      "No valid documents for NUTS region IE02 and period 2\n",
      "No valid documents for NUTS region IE02 and period 3\n"
     ]
    },
    {
     "name": "stderr",
     "output_type": "stream",
     "text": [
      "Batches: 100%|██████████| 192/192 [00:29<00:00,  6.42it/s]\n"
     ]
    },
    {
     "name": "stdout",
     "output_type": "stream",
     "text": [
      "Processed topic information for NUTS region IE02 and period 4\n"
     ]
    },
    {
     "name": "stderr",
     "output_type": "stream",
     "text": [
      "Batches: 100%|██████████| 408/408 [01:08<00:00,  5.97it/s]\n"
     ]
    },
    {
     "name": "stdout",
     "output_type": "stream",
     "text": [
      "Processed topic information for NUTS region IE02 and period 5\n"
     ]
    },
    {
     "name": "stderr",
     "output_type": "stream",
     "text": [
      "Batches: 100%|██████████| 47/47 [00:10<00:00,  4.39it/s]\n"
     ]
    },
    {
     "name": "stdout",
     "output_type": "stream",
     "text": [
      "Processed topic information for NUTS region IE02 and period 6\n"
     ]
    },
    {
     "name": "stderr",
     "output_type": "stream",
     "text": [
      "Batches: 100%|██████████| 11/11 [00:03<00:00,  2.93it/s]\n",
      "NUTS regions:  21%|██        | 59/281 [2:13:03<6:49:40, 110.73s/it]"
     ]
    },
    {
     "name": "stdout",
     "output_type": "stream",
     "text": [
      "Processed topic information for NUTS region IE02 and period 7\n",
      "No valid documents for NUTS region IE02 and period 8\n",
      "No valid documents for NUTS region UKK4 and period 1\n",
      "No valid documents for NUTS region UKK4 and period 2\n",
      "No valid documents for NUTS region UKK4 and period 3\n"
     ]
    },
    {
     "name": "stderr",
     "output_type": "stream",
     "text": [
      "Batches: 100%|██████████| 88/88 [00:05<00:00, 15.59it/s]\n"
     ]
    },
    {
     "name": "stdout",
     "output_type": "stream",
     "text": [
      "Processed topic information for NUTS region UKK4 and period 4\n"
     ]
    },
    {
     "name": "stderr",
     "output_type": "stream",
     "text": [
      "Batches: 100%|██████████| 167/167 [00:11<00:00, 14.84it/s]\n"
     ]
    },
    {
     "name": "stdout",
     "output_type": "stream",
     "text": [
      "Processed topic information for NUTS region UKK4 and period 5\n"
     ]
    },
    {
     "name": "stderr",
     "output_type": "stream",
     "text": [
      "Batches: 100%|██████████| 18/18 [00:01<00:00, 11.71it/s]\n"
     ]
    },
    {
     "name": "stdout",
     "output_type": "stream",
     "text": [
      "Processed topic information for NUTS region UKK4 and period 6\n"
     ]
    },
    {
     "name": "stderr",
     "output_type": "stream",
     "text": [
      "Batches: 100%|██████████| 5/5 [00:00<00:00, 10.19it/s]\n",
      "NUTS regions:  21%|██▏       | 60/281 [2:13:37<5:22:51, 87.66s/it] "
     ]
    },
    {
     "name": "stdout",
     "output_type": "stream",
     "text": [
      "Processed topic information for NUTS region UKK4 and period 7\n",
      "No valid documents for NUTS region UKK4 and period 8\n",
      "No valid documents for NUTS region UKD6 and period 1\n",
      "No valid documents for NUTS region UKD6 and period 2\n",
      "No valid documents for NUTS region UKD6 and period 3\n"
     ]
    },
    {
     "name": "stderr",
     "output_type": "stream",
     "text": [
      "Batches: 100%|██████████| 44/44 [00:03<00:00, 13.57it/s]\n"
     ]
    },
    {
     "name": "stdout",
     "output_type": "stream",
     "text": [
      "Processed topic information for NUTS region UKD6 and period 4\n"
     ]
    },
    {
     "name": "stderr",
     "output_type": "stream",
     "text": [
      "Batches: 100%|██████████| 84/84 [00:06<00:00, 13.62it/s]\n"
     ]
    },
    {
     "name": "stdout",
     "output_type": "stream",
     "text": [
      "Processed topic information for NUTS region UKD6 and period 5\n"
     ]
    },
    {
     "name": "stderr",
     "output_type": "stream",
     "text": [
      "Batches: 100%|██████████| 7/7 [00:00<00:00,  7.68it/s]\n"
     ]
    },
    {
     "name": "stdout",
     "output_type": "stream",
     "text": [
      "Processed topic information for NUTS region UKD6 and period 6\n",
      "No valid documents for NUTS region UKD6 and period 7\n"
     ]
    },
    {
     "name": "stderr",
     "output_type": "stream",
     "text": [
      "NUTS regions:  22%|██▏       | 61/281 [2:14:00<4:10:12, 68.24s/it]"
     ]
    },
    {
     "name": "stdout",
     "output_type": "stream",
     "text": [
      "No valid documents for NUTS region UKD6 and period 8\n",
      "No valid documents for NUTS region ITI1 and period 1\n",
      "No valid documents for NUTS region ITI1 and period 2\n",
      "No valid documents for NUTS region ITI1 and period 3\n"
     ]
    },
    {
     "name": "stderr",
     "output_type": "stream",
     "text": [
      "Batches: 100%|██████████| 375/375 [00:24<00:00, 15.30it/s]\n"
     ]
    },
    {
     "name": "stdout",
     "output_type": "stream",
     "text": [
      "Processed topic information for NUTS region ITI1 and period 4\n"
     ]
    },
    {
     "name": "stderr",
     "output_type": "stream",
     "text": [
      "Batches: 100%|██████████| 722/722 [00:45<00:00, 15.82it/s]\n"
     ]
    },
    {
     "name": "stdout",
     "output_type": "stream",
     "text": [
      "Processed topic information for NUTS region ITI1 and period 5\n"
     ]
    },
    {
     "name": "stderr",
     "output_type": "stream",
     "text": [
      "Batches: 100%|██████████| 65/65 [00:04<00:00, 14.08it/s]\n"
     ]
    },
    {
     "name": "stdout",
     "output_type": "stream",
     "text": [
      "Processed topic information for NUTS region ITI1 and period 6\n"
     ]
    },
    {
     "name": "stderr",
     "output_type": "stream",
     "text": [
      "Batches: 100%|██████████| 10/10 [00:01<00:00,  7.15it/s]\n",
      "NUTS regions:  22%|██▏       | 62/281 [2:15:37<4:41:18, 77.07s/it]"
     ]
    },
    {
     "name": "stdout",
     "output_type": "stream",
     "text": [
      "Processed topic information for NUTS region ITI1 and period 7\n",
      "No valid documents for NUTS region ITI1 and period 8\n",
      "No valid documents for NUTS region HU21 and period 1\n",
      "No valid documents for NUTS region HU21 and period 2\n",
      "No valid documents for NUTS region HU21 and period 3\n"
     ]
    },
    {
     "name": "stderr",
     "output_type": "stream",
     "text": [
      "Batches: 100%|██████████| 19/19 [00:02<00:00,  6.88it/s]\n"
     ]
    },
    {
     "name": "stdout",
     "output_type": "stream",
     "text": [
      "Processed topic information for NUTS region HU21 and period 4\n"
     ]
    },
    {
     "name": "stderr",
     "output_type": "stream",
     "text": [
      "Batches: 100%|██████████| 26/26 [00:06<00:00,  4.24it/s]\n"
     ]
    },
    {
     "name": "stdout",
     "output_type": "stream",
     "text": [
      "Processed topic information for NUTS region HU21 and period 5\n",
      "No valid documents for NUTS region HU21 and period 6\n"
     ]
    },
    {
     "name": "stderr",
     "output_type": "stream",
     "text": [
      "NUTS regions:  22%|██▏       | 63/281 [2:15:54<3:33:40, 58.81s/it]"
     ]
    },
    {
     "name": "stdout",
     "output_type": "stream",
     "text": [
      "No valid documents for NUTS region HU21 and period 7\n",
      "No valid documents for NUTS region HU21 and period 8\n",
      "No valid documents for NUTS region AT22 and period 1\n",
      "No valid documents for NUTS region AT22 and period 2\n",
      "No valid documents for NUTS region AT22 and period 3\n"
     ]
    },
    {
     "name": "stderr",
     "output_type": "stream",
     "text": [
      "Batches: 100%|██████████| 111/111 [00:30<00:00,  3.63it/s]\n"
     ]
    },
    {
     "name": "stdout",
     "output_type": "stream",
     "text": [
      "Processed topic information for NUTS region AT22 and period 4\n"
     ]
    },
    {
     "name": "stderr",
     "output_type": "stream",
     "text": [
      "Batches: 100%|██████████| 216/216 [00:39<00:00,  5.46it/s]\n"
     ]
    },
    {
     "name": "stdout",
     "output_type": "stream",
     "text": [
      "Processed topic information for NUTS region AT22 and period 5\n"
     ]
    },
    {
     "name": "stderr",
     "output_type": "stream",
     "text": [
      "Batches: 100%|██████████| 18/18 [00:01<00:00, 14.00it/s]\n"
     ]
    },
    {
     "name": "stdout",
     "output_type": "stream",
     "text": [
      "Processed topic information for NUTS region AT22 and period 6\n"
     ]
    },
    {
     "name": "stderr",
     "output_type": "stream",
     "text": [
      "Batches: 100%|██████████| 4/4 [00:00<00:00,  7.91it/s]\n",
      "NUTS regions:  23%|██▎       | 64/281 [2:17:25<4:07:26, 68.42s/it]"
     ]
    },
    {
     "name": "stdout",
     "output_type": "stream",
     "text": [
      "Processed topic information for NUTS region AT22 and period 7\n",
      "No valid documents for NUTS region AT22 and period 8\n",
      "No valid documents for NUTS region EE00 and period 1\n",
      "No valid documents for NUTS region EE00 and period 2\n",
      "No valid documents for NUTS region EE00 and period 3\n"
     ]
    },
    {
     "name": "stderr",
     "output_type": "stream",
     "text": [
      "Batches: 100%|██████████| 52/52 [00:03<00:00, 15.81it/s]\n"
     ]
    },
    {
     "name": "stdout",
     "output_type": "stream",
     "text": [
      "Processed topic information for NUTS region EE00 and period 4\n"
     ]
    },
    {
     "name": "stderr",
     "output_type": "stream",
     "text": [
      "Batches: 100%|██████████| 98/98 [00:06<00:00, 14.93it/s]\n"
     ]
    },
    {
     "name": "stdout",
     "output_type": "stream",
     "text": [
      "Processed topic information for NUTS region EE00 and period 5\n"
     ]
    },
    {
     "name": "stderr",
     "output_type": "stream",
     "text": [
      "Batches: 100%|██████████| 10/10 [00:00<00:00, 10.80it/s]\n"
     ]
    },
    {
     "name": "stdout",
     "output_type": "stream",
     "text": [
      "Processed topic information for NUTS region EE00 and period 6\n",
      "No valid documents for NUTS region EE00 and period 7\n"
     ]
    },
    {
     "name": "stderr",
     "output_type": "stream",
     "text": [
      "NUTS regions:  23%|██▎       | 65/281 [2:17:49<3:18:36, 55.17s/it]"
     ]
    },
    {
     "name": "stdout",
     "output_type": "stream",
     "text": [
      "No valid documents for NUTS region EE00 and period 8\n",
      "No valid documents for NUTS region NL32 and period 1\n",
      "No valid documents for NUTS region NL32 and period 2\n",
      "No valid documents for NUTS region NL32 and period 3\n"
     ]
    },
    {
     "name": "stderr",
     "output_type": "stream",
     "text": [
      "Batches: 100%|██████████| 399/399 [00:28<00:00, 14.09it/s]\n"
     ]
    },
    {
     "name": "stdout",
     "output_type": "stream",
     "text": [
      "Processed topic information for NUTS region NL32 and period 4\n"
     ]
    },
    {
     "name": "stderr",
     "output_type": "stream",
     "text": [
      "Batches: 100%|██████████| 737/737 [00:53<00:00, 13.71it/s]\n"
     ]
    },
    {
     "name": "stdout",
     "output_type": "stream",
     "text": [
      "Processed topic information for NUTS region NL32 and period 5\n"
     ]
    },
    {
     "name": "stderr",
     "output_type": "stream",
     "text": [
      "Batches: 100%|██████████| 66/66 [00:04<00:00, 14.31it/s]\n"
     ]
    },
    {
     "name": "stdout",
     "output_type": "stream",
     "text": [
      "Processed topic information for NUTS region NL32 and period 6\n"
     ]
    },
    {
     "name": "stderr",
     "output_type": "stream",
     "text": [
      "Batches: 100%|██████████| 16/16 [00:01<00:00, 15.23it/s]\n",
      "NUTS regions:  23%|██▎       | 66/281 [2:19:46<4:24:08, 73.72s/it]"
     ]
    },
    {
     "name": "stdout",
     "output_type": "stream",
     "text": [
      "Processed topic information for NUTS region NL32 and period 7\n",
      "No valid documents for NUTS region NL32 and period 8\n",
      "No valid documents for NUTS region ES52 and period 1\n",
      "No valid documents for NUTS region ES52 and period 2\n",
      "No valid documents for NUTS region ES52 and period 3\n"
     ]
    },
    {
     "name": "stderr",
     "output_type": "stream",
     "text": [
      "Batches: 100%|██████████| 182/182 [00:14<00:00, 12.86it/s]\n"
     ]
    },
    {
     "name": "stdout",
     "output_type": "stream",
     "text": [
      "Processed topic information for NUTS region ES52 and period 4\n"
     ]
    },
    {
     "name": "stderr",
     "output_type": "stream",
     "text": [
      "Batches: 100%|██████████| 394/394 [00:47<00:00,  8.24it/s]\n"
     ]
    },
    {
     "name": "stdout",
     "output_type": "stream",
     "text": [
      "Processed topic information for NUTS region ES52 and period 5\n"
     ]
    },
    {
     "name": "stderr",
     "output_type": "stream",
     "text": [
      "Batches: 100%|██████████| 40/40 [00:06<00:00,  5.96it/s]\n"
     ]
    },
    {
     "name": "stdout",
     "output_type": "stream",
     "text": [
      "Processed topic information for NUTS region ES52 and period 6\n"
     ]
    },
    {
     "name": "stderr",
     "output_type": "stream",
     "text": [
      "Batches: 100%|██████████| 5/5 [00:01<00:00,  3.74it/s]\n",
      "NUTS regions:  24%|██▍       | 67/281 [2:21:12<4:35:50, 77.34s/it]"
     ]
    },
    {
     "name": "stdout",
     "output_type": "stream",
     "text": [
      "Processed topic information for NUTS region ES52 and period 7\n",
      "No valid documents for NUTS region ES52 and period 8\n",
      "No valid documents for NUTS region SI04 and period 1\n",
      "No valid documents for NUTS region SI04 and period 2\n",
      "No valid documents for NUTS region SI04 and period 3\n"
     ]
    },
    {
     "name": "stderr",
     "output_type": "stream",
     "text": [
      "Batches: 100%|██████████| 110/110 [00:40<00:00,  2.72it/s]\n"
     ]
    },
    {
     "name": "stdout",
     "output_type": "stream",
     "text": [
      "Processed topic information for NUTS region SI04 and period 4\n"
     ]
    },
    {
     "name": "stderr",
     "output_type": "stream",
     "text": [
      "Batches: 100%|██████████| 233/233 [00:14<00:00, 16.34it/s]\n"
     ]
    },
    {
     "name": "stdout",
     "output_type": "stream",
     "text": [
      "Processed topic information for NUTS region SI04 and period 5\n"
     ]
    },
    {
     "name": "stderr",
     "output_type": "stream",
     "text": [
      "Batches: 100%|██████████| 21/21 [00:01<00:00, 14.54it/s]\n"
     ]
    },
    {
     "name": "stdout",
     "output_type": "stream",
     "text": [
      "Processed topic information for NUTS region SI04 and period 6\n"
     ]
    },
    {
     "name": "stderr",
     "output_type": "stream",
     "text": [
      "Batches: 100%|██████████| 4/4 [00:00<00:00,  9.14it/s]\n",
      "NUTS regions:  24%|██▍       | 68/281 [2:22:26<4:31:25, 76.46s/it]"
     ]
    },
    {
     "name": "stdout",
     "output_type": "stream",
     "text": [
      "Processed topic information for NUTS region SI04 and period 7\n",
      "No valid documents for NUTS region SI04 and period 8\n",
      "No valid documents for NUTS region NL33 and period 1\n",
      "No valid documents for NUTS region NL33 and period 2\n",
      "No valid documents for NUTS region NL33 and period 3\n"
     ]
    },
    {
     "name": "stderr",
     "output_type": "stream",
     "text": [
      "Batches: 100%|██████████| 438/438 [00:28<00:00, 15.42it/s]\n"
     ]
    },
    {
     "name": "stdout",
     "output_type": "stream",
     "text": [
      "Processed topic information for NUTS region NL33 and period 4\n"
     ]
    },
    {
     "name": "stderr",
     "output_type": "stream",
     "text": [
      "Batches: 100%|██████████| 801/801 [00:52<00:00, 15.16it/s]\n"
     ]
    },
    {
     "name": "stdout",
     "output_type": "stream",
     "text": [
      "Processed topic information for NUTS region NL33 and period 5\n"
     ]
    },
    {
     "name": "stderr",
     "output_type": "stream",
     "text": [
      "Batches: 100%|██████████| 73/73 [00:04<00:00, 14.96it/s]\n"
     ]
    },
    {
     "name": "stdout",
     "output_type": "stream",
     "text": [
      "Processed topic information for NUTS region NL33 and period 6\n"
     ]
    },
    {
     "name": "stderr",
     "output_type": "stream",
     "text": [
      "Batches: 100%|██████████| 14/14 [00:01<00:00, 11.07it/s]\n",
      "NUTS regions:  25%|██▍       | 69/281 [2:24:17<5:07:19, 86.98s/it]"
     ]
    },
    {
     "name": "stdout",
     "output_type": "stream",
     "text": [
      "Processed topic information for NUTS region NL33 and period 7\n",
      "No valid documents for NUTS region NL33 and period 8\n",
      "No valid documents for NUTS region ES30 and period 1\n",
      "No valid documents for NUTS region ES30 and period 2\n",
      "No valid documents for NUTS region ES30 and period 3\n"
     ]
    },
    {
     "name": "stderr",
     "output_type": "stream",
     "text": [
      "Batches: 100%|██████████| 534/534 [00:29<00:00, 17.81it/s]\n"
     ]
    },
    {
     "name": "stdout",
     "output_type": "stream",
     "text": [
      "Processed topic information for NUTS region ES30 and period 4\n"
     ]
    },
    {
     "name": "stderr",
     "output_type": "stream",
     "text": [
      "Batches: 100%|██████████| 1016/1016 [01:01<00:00, 16.53it/s]\n"
     ]
    },
    {
     "name": "stdout",
     "output_type": "stream",
     "text": [
      "Processed topic information for NUTS region ES30 and period 5\n"
     ]
    },
    {
     "name": "stderr",
     "output_type": "stream",
     "text": [
      "Batches: 100%|██████████| 89/89 [00:06<00:00, 12.80it/s]\n"
     ]
    },
    {
     "name": "stdout",
     "output_type": "stream",
     "text": [
      "Processed topic information for NUTS region ES30 and period 6\n"
     ]
    },
    {
     "name": "stderr",
     "output_type": "stream",
     "text": [
      "Batches: 100%|██████████| 16/16 [00:01<00:00,  8.34it/s]\n",
      "NUTS regions:  25%|██▍       | 70/281 [2:26:26<5:50:00, 99.53s/it]"
     ]
    },
    {
     "name": "stdout",
     "output_type": "stream",
     "text": [
      "Processed topic information for NUTS region ES30 and period 7\n",
      "No valid documents for NUTS region ES30 and period 8\n",
      "No valid documents for NUTS region ITH5 and period 1\n",
      "No valid documents for NUTS region ITH5 and period 2\n",
      "No valid documents for NUTS region ITH5 and period 3\n"
     ]
    },
    {
     "name": "stderr",
     "output_type": "stream",
     "text": [
      "Batches: 100%|██████████| 410/410 [01:03<00:00,  6.44it/s]\n",
      "c:\\Users\\user\\anaconda3\\envs\\bertopic_2\\lib\\site-packages\\hdbscan\\prediction.py:658: RuntimeWarning: All-NaN slice encountered\n",
      "  outlier_vecs = all_points_outlier_membership_vector(\n",
      "c:\\Users\\user\\anaconda3\\envs\\bertopic_2\\lib\\site-packages\\hdbscan\\prediction.py:663: RuntimeWarning: invalid value encountered in scalar divide\n",
      "  in_cluster_probs = all_points_prob_in_some_cluster(\n"
     ]
    },
    {
     "name": "stdout",
     "output_type": "stream",
     "text": [
      "Processed topic information for NUTS region ITH5 and period 4\n"
     ]
    },
    {
     "name": "stderr",
     "output_type": "stream",
     "text": [
      "Batches: 100%|██████████| 798/798 [02:49<00:00,  4.70it/s]\n"
     ]
    },
    {
     "name": "stdout",
     "output_type": "stream",
     "text": [
      "Processed topic information for NUTS region ITH5 and period 5\n"
     ]
    },
    {
     "name": "stderr",
     "output_type": "stream",
     "text": [
      "Batches: 100%|██████████| 71/71 [00:26<00:00,  2.65it/s]\n"
     ]
    },
    {
     "name": "stdout",
     "output_type": "stream",
     "text": [
      "Processed topic information for NUTS region ITH5 and period 6\n"
     ]
    },
    {
     "name": "stderr",
     "output_type": "stream",
     "text": [
      "Batches: 100%|██████████| 17/17 [00:01<00:00, 13.43it/s]\n",
      "NUTS regions:  25%|██▌       | 71/281 [2:31:11<9:02:17, 154.94s/it]"
     ]
    },
    {
     "name": "stdout",
     "output_type": "stream",
     "text": [
      "Processed topic information for NUTS region ITH5 and period 7\n",
      "No valid documents for NUTS region ITH5 and period 8\n",
      "No valid documents for NUTS region ITC1 and period 1\n",
      "No valid documents for NUTS region ITC1 and period 2\n",
      "No valid documents for NUTS region ITC1 and period 3\n"
     ]
    },
    {
     "name": "stderr",
     "output_type": "stream",
     "text": [
      "Batches: 100%|██████████| 196/196 [00:11<00:00, 17.13it/s]\n"
     ]
    },
    {
     "name": "stdout",
     "output_type": "stream",
     "text": [
      "Processed topic information for NUTS region ITC1 and period 4\n"
     ]
    },
    {
     "name": "stderr",
     "output_type": "stream",
     "text": [
      "Batches: 100%|██████████| 403/403 [00:24<00:00, 16.18it/s]\n"
     ]
    },
    {
     "name": "stdout",
     "output_type": "stream",
     "text": [
      "Processed topic information for NUTS region ITC1 and period 5\n"
     ]
    },
    {
     "name": "stderr",
     "output_type": "stream",
     "text": [
      "Batches: 100%|██████████| 40/40 [00:03<00:00, 12.11it/s]\n"
     ]
    },
    {
     "name": "stdout",
     "output_type": "stream",
     "text": [
      "Processed topic information for NUTS region ITC1 and period 6\n"
     ]
    },
    {
     "name": "stderr",
     "output_type": "stream",
     "text": [
      "Batches: 100%|██████████| 7/7 [00:01<00:00,  6.81it/s]\n",
      "NUTS regions:  26%|██▌       | 72/281 [2:32:07<7:16:50, 125.41s/it]"
     ]
    },
    {
     "name": "stdout",
     "output_type": "stream",
     "text": [
      "Processed topic information for NUTS region ITC1 and period 7\n",
      "No valid documents for NUTS region ITC1 and period 8\n",
      "No valid documents for NUTS region RO21 and period 1\n",
      "No valid documents for NUTS region RO21 and period 2\n",
      "No valid documents for NUTS region RO21 and period 3\n"
     ]
    },
    {
     "name": "stderr",
     "output_type": "stream",
     "text": [
      "Batches: 100%|██████████| 30/30 [00:03<00:00,  9.35it/s]\n"
     ]
    },
    {
     "name": "stdout",
     "output_type": "stream",
     "text": [
      "Processed topic information for NUTS region RO21 and period 4\n"
     ]
    },
    {
     "name": "stderr",
     "output_type": "stream",
     "text": [
      "Batches: 100%|██████████| 62/62 [00:12<00:00,  5.03it/s]\n"
     ]
    },
    {
     "name": "stdout",
     "output_type": "stream",
     "text": [
      "Processed topic information for NUTS region RO21 and period 5\n"
     ]
    },
    {
     "name": "stderr",
     "output_type": "stream",
     "text": [
      "Batches: 100%|██████████| 8/8 [00:02<00:00,  3.81it/s]\n"
     ]
    },
    {
     "name": "stdout",
     "output_type": "stream",
     "text": [
      "Processed topic information for NUTS region RO21 and period 6\n"
     ]
    },
    {
     "name": "stderr",
     "output_type": "stream",
     "text": [
      "NUTS regions:  26%|██▌       | 73/281 [2:32:35<5:33:20, 96.16s/it] "
     ]
    },
    {
     "name": "stdout",
     "output_type": "stream",
     "text": [
      "No valid documents for NUTS region RO21 and period 7\n",
      "No valid documents for NUTS region RO21 and period 8\n",
      "No valid documents for NUTS region BE10 and period 1\n",
      "No valid documents for NUTS region BE10 and period 2\n",
      "No valid documents for NUTS region BE10 and period 3\n"
     ]
    },
    {
     "name": "stderr",
     "output_type": "stream",
     "text": [
      "Batches: 100%|██████████| 226/226 [00:32<00:00,  7.03it/s]\n"
     ]
    },
    {
     "name": "stdout",
     "output_type": "stream",
     "text": [
      "Processed topic information for NUTS region BE10 and period 4\n"
     ]
    },
    {
     "name": "stderr",
     "output_type": "stream",
     "text": [
      "Batches: 100%|██████████| 403/403 [00:27<00:00, 14.48it/s]\n"
     ]
    },
    {
     "name": "stdout",
     "output_type": "stream",
     "text": [
      "Processed topic information for NUTS region BE10 and period 5\n"
     ]
    },
    {
     "name": "stderr",
     "output_type": "stream",
     "text": [
      "Batches: 100%|██████████| 36/36 [00:02<00:00, 14.13it/s]\n"
     ]
    },
    {
     "name": "stdout",
     "output_type": "stream",
     "text": [
      "Processed topic information for NUTS region BE10 and period 6\n"
     ]
    },
    {
     "name": "stderr",
     "output_type": "stream",
     "text": [
      "Batches: 100%|██████████| 8/8 [00:00<00:00, 10.52it/s]\n",
      "NUTS regions:  26%|██▋       | 74/281 [2:33:55<5:15:24, 91.42s/it]"
     ]
    },
    {
     "name": "stdout",
     "output_type": "stream",
     "text": [
      "Processed topic information for NUTS region BE10 and period 7\n",
      "No valid documents for NUTS region BE10 and period 8\n",
      "No valid documents for NUTS region BE21 and period 1\n",
      "No valid documents for NUTS region BE21 and period 2\n",
      "No valid documents for NUTS region BE21 and period 3\n"
     ]
    },
    {
     "name": "stderr",
     "output_type": "stream",
     "text": [
      "Batches: 100%|██████████| 119/119 [00:08<00:00, 14.46it/s]\n"
     ]
    },
    {
     "name": "stdout",
     "output_type": "stream",
     "text": [
      "Processed topic information for NUTS region BE21 and period 4\n"
     ]
    },
    {
     "name": "stderr",
     "output_type": "stream",
     "text": [
      "Batches: 100%|██████████| 226/226 [00:15<00:00, 14.16it/s]\n"
     ]
    },
    {
     "name": "stdout",
     "output_type": "stream",
     "text": [
      "Processed topic information for NUTS region BE21 and period 5\n"
     ]
    },
    {
     "name": "stderr",
     "output_type": "stream",
     "text": [
      "Batches: 100%|██████████| 20/20 [00:01<00:00, 13.35it/s]\n"
     ]
    },
    {
     "name": "stdout",
     "output_type": "stream",
     "text": [
      "Processed topic information for NUTS region BE21 and period 6\n"
     ]
    },
    {
     "name": "stderr",
     "output_type": "stream",
     "text": [
      "Batches: 100%|██████████| 4/4 [00:00<00:00, 10.60it/s]\n",
      "NUTS regions:  27%|██▋       | 75/281 [2:34:41<4:26:55, 77.75s/it]"
     ]
    },
    {
     "name": "stdout",
     "output_type": "stream",
     "text": [
      "Processed topic information for NUTS region BE21 and period 7\n",
      "No valid documents for NUTS region BE21 and period 8\n",
      "No valid documents for NUTS region BE33 and period 1\n",
      "No valid documents for NUTS region BE33 and period 2\n",
      "No valid documents for NUTS region BE33 and period 3\n"
     ]
    },
    {
     "name": "stderr",
     "output_type": "stream",
     "text": [
      "Batches: 100%|██████████| 81/81 [00:05<00:00, 14.19it/s]\n"
     ]
    },
    {
     "name": "stdout",
     "output_type": "stream",
     "text": [
      "Processed topic information for NUTS region BE33 and period 4\n"
     ]
    },
    {
     "name": "stderr",
     "output_type": "stream",
     "text": [
      "Batches: 100%|██████████| 143/143 [00:10<00:00, 14.01it/s]\n"
     ]
    },
    {
     "name": "stdout",
     "output_type": "stream",
     "text": [
      "Processed topic information for NUTS region BE33 and period 5\n"
     ]
    },
    {
     "name": "stderr",
     "output_type": "stream",
     "text": [
      "Batches: 100%|██████████| 13/13 [00:01<00:00, 12.33it/s]\n"
     ]
    },
    {
     "name": "stdout",
     "output_type": "stream",
     "text": [
      "Processed topic information for NUTS region BE33 and period 6\n",
      "No valid documents for NUTS region BE33 and period 7\n"
     ]
    },
    {
     "name": "stderr",
     "output_type": "stream",
     "text": [
      "NUTS regions:  27%|██▋       | 76/281 [2:35:12<3:37:05, 63.54s/it]"
     ]
    },
    {
     "name": "stdout",
     "output_type": "stream",
     "text": [
      "No valid documents for NUTS region BE33 and period 8\n",
      "No valid documents for NUTS region BE23 and period 1\n",
      "No valid documents for NUTS region BE23 and period 2\n",
      "No valid documents for NUTS region BE23 and period 3\n"
     ]
    },
    {
     "name": "stderr",
     "output_type": "stream",
     "text": [
      "Batches: 100%|██████████| 136/136 [00:08<00:00, 16.06it/s]\n"
     ]
    },
    {
     "name": "stdout",
     "output_type": "stream",
     "text": [
      "Processed topic information for NUTS region BE23 and period 4\n"
     ]
    },
    {
     "name": "stderr",
     "output_type": "stream",
     "text": [
      "Batches: 100%|██████████| 311/311 [00:21<00:00, 14.56it/s]\n"
     ]
    },
    {
     "name": "stdout",
     "output_type": "stream",
     "text": [
      "Processed topic information for NUTS region BE23 and period 5\n"
     ]
    },
    {
     "name": "stderr",
     "output_type": "stream",
     "text": [
      "Batches: 100%|██████████| 31/31 [00:02<00:00, 13.51it/s]\n"
     ]
    },
    {
     "name": "stdout",
     "output_type": "stream",
     "text": [
      "Processed topic information for NUTS region BE23 and period 6\n"
     ]
    },
    {
     "name": "stderr",
     "output_type": "stream",
     "text": [
      "Batches: 100%|██████████| 5/5 [00:00<00:00,  9.22it/s]\n",
      "NUTS regions:  27%|██▋       | 77/281 [2:35:59<3:19:56, 58.81s/it]"
     ]
    },
    {
     "name": "stdout",
     "output_type": "stream",
     "text": [
      "Processed topic information for NUTS region BE23 and period 7\n",
      "No valid documents for NUTS region BE23 and period 8\n",
      "No valid documents for NUTS region BE32 and period 1\n",
      "No valid documents for NUTS region BE32 and period 2\n",
      "No valid documents for NUTS region BE32 and period 3\n"
     ]
    },
    {
     "name": "stderr",
     "output_type": "stream",
     "text": [
      "Batches: 100%|██████████| 30/30 [00:02<00:00, 14.83it/s]\n"
     ]
    },
    {
     "name": "stdout",
     "output_type": "stream",
     "text": [
      "Processed topic information for NUTS region BE32 and period 4\n"
     ]
    },
    {
     "name": "stderr",
     "output_type": "stream",
     "text": [
      "Batches: 100%|██████████| 59/59 [00:04<00:00, 14.39it/s]\n"
     ]
    },
    {
     "name": "stdout",
     "output_type": "stream",
     "text": [
      "Processed topic information for NUTS region BE32 and period 5\n"
     ]
    },
    {
     "name": "stderr",
     "output_type": "stream",
     "text": [
      "Batches: 100%|██████████| 5/5 [00:00<00:00, 10.32it/s]\n"
     ]
    },
    {
     "name": "stdout",
     "output_type": "stream",
     "text": [
      "Processed topic information for NUTS region BE32 and period 6\n",
      "No valid documents for NUTS region BE32 and period 7\n"
     ]
    },
    {
     "name": "stderr",
     "output_type": "stream",
     "text": [
      "NUTS regions:  28%|██▊       | 78/281 [2:36:17<2:36:45, 46.33s/it]"
     ]
    },
    {
     "name": "stdout",
     "output_type": "stream",
     "text": [
      "No valid documents for NUTS region BE32 and period 8\n",
      "No valid documents for NUTS region FR30 and period 1\n",
      "No valid documents for NUTS region FR30 and period 2\n",
      "No valid documents for NUTS region FR30 and period 3\n"
     ]
    },
    {
     "name": "stderr",
     "output_type": "stream",
     "text": [
      "Batches: 100%|██████████| 175/175 [00:11<00:00, 14.90it/s]\n"
     ]
    },
    {
     "name": "stdout",
     "output_type": "stream",
     "text": [
      "Processed topic information for NUTS region FR30 and period 4\n"
     ]
    },
    {
     "name": "stderr",
     "output_type": "stream",
     "text": [
      "Batches: 100%|██████████| 299/299 [00:20<00:00, 14.62it/s]\n"
     ]
    },
    {
     "name": "stdout",
     "output_type": "stream",
     "text": [
      "Processed topic information for NUTS region FR30 and period 5\n"
     ]
    },
    {
     "name": "stderr",
     "output_type": "stream",
     "text": [
      "Batches: 100%|██████████| 29/29 [00:02<00:00, 13.68it/s]\n"
     ]
    },
    {
     "name": "stdout",
     "output_type": "stream",
     "text": [
      "Processed topic information for NUTS region FR30 and period 6\n"
     ]
    },
    {
     "name": "stderr",
     "output_type": "stream",
     "text": [
      "Batches: 100%|██████████| 5/5 [00:00<00:00,  9.66it/s]\n",
      "NUTS regions:  28%|██▊       | 79/281 [2:37:08<2:40:55, 47.80s/it]"
     ]
    },
    {
     "name": "stdout",
     "output_type": "stream",
     "text": [
      "Processed topic information for NUTS region FR30 and period 7\n",
      "No valid documents for NUTS region FR30 and period 8\n",
      "No valid documents for NUTS region FR24 and period 1\n",
      "No valid documents for NUTS region FR24 and period 2\n",
      "No valid documents for NUTS region FR24 and period 3\n"
     ]
    },
    {
     "name": "stderr",
     "output_type": "stream",
     "text": [
      "Batches: 100%|██████████| 137/137 [00:15<00:00,  8.68it/s]\n"
     ]
    },
    {
     "name": "stdout",
     "output_type": "stream",
     "text": [
      "Processed topic information for NUTS region FR24 and period 4\n"
     ]
    },
    {
     "name": "stderr",
     "output_type": "stream",
     "text": [
      "Batches: 100%|██████████| 238/238 [00:36<00:00,  6.44it/s]\n"
     ]
    },
    {
     "name": "stdout",
     "output_type": "stream",
     "text": [
      "Processed topic information for NUTS region FR24 and period 5\n"
     ]
    },
    {
     "name": "stderr",
     "output_type": "stream",
     "text": [
      "Batches: 100%|██████████| 21/21 [00:04<00:00,  4.32it/s]\n"
     ]
    },
    {
     "name": "stdout",
     "output_type": "stream",
     "text": [
      "Processed topic information for NUTS region FR24 and period 6\n"
     ]
    },
    {
     "name": "stderr",
     "output_type": "stream",
     "text": [
      "Batches: 100%|██████████| 4/4 [00:01<00:00,  3.03it/s]\n",
      "NUTS regions:  28%|██▊       | 80/281 [2:38:21<3:05:17, 55.31s/it]"
     ]
    },
    {
     "name": "stdout",
     "output_type": "stream",
     "text": [
      "Processed topic information for NUTS region FR24 and period 7\n",
      "No valid documents for NUTS region FR24 and period 8\n",
      "No valid documents for NUTS region FR61 and period 1\n",
      "No valid documents for NUTS region FR61 and period 2\n",
      "No valid documents for NUTS region FR61 and period 3\n"
     ]
    },
    {
     "name": "stderr",
     "output_type": "stream",
     "text": [
      "Batches: 100%|██████████| 202/202 [00:11<00:00, 17.60it/s]\n"
     ]
    },
    {
     "name": "stdout",
     "output_type": "stream",
     "text": [
      "Processed topic information for NUTS region FR61 and period 4\n"
     ]
    },
    {
     "name": "stderr",
     "output_type": "stream",
     "text": [
      "Batches: 100%|██████████| 349/349 [00:20<00:00, 17.18it/s]\n"
     ]
    },
    {
     "name": "stdout",
     "output_type": "stream",
     "text": [
      "Processed topic information for NUTS region FR61 and period 5\n"
     ]
    },
    {
     "name": "stderr",
     "output_type": "stream",
     "text": [
      "Batches: 100%|██████████| 29/29 [00:02<00:00, 14.37it/s]\n"
     ]
    },
    {
     "name": "stdout",
     "output_type": "stream",
     "text": [
      "Processed topic information for NUTS region FR61 and period 6\n"
     ]
    },
    {
     "name": "stderr",
     "output_type": "stream",
     "text": [
      "Batches: 100%|██████████| 5/5 [00:00<00:00, 10.82it/s]\n",
      "NUTS regions:  29%|██▉       | 81/281 [2:39:09<2:57:57, 53.39s/it]"
     ]
    },
    {
     "name": "stdout",
     "output_type": "stream",
     "text": [
      "Processed topic information for NUTS region FR61 and period 7\n",
      "No valid documents for NUTS region FR61 and period 8\n",
      "No valid documents for NUTS region FR53 and period 1\n",
      "No valid documents for NUTS region FR53 and period 2\n",
      "No valid documents for NUTS region FR53 and period 3\n"
     ]
    },
    {
     "name": "stderr",
     "output_type": "stream",
     "text": [
      "Batches: 100%|██████████| 68/68 [00:04<00:00, 16.05it/s]\n"
     ]
    },
    {
     "name": "stdout",
     "output_type": "stream",
     "text": [
      "Processed topic information for NUTS region FR53 and period 4\n"
     ]
    },
    {
     "name": "stderr",
     "output_type": "stream",
     "text": [
      "Batches: 100%|██████████| 118/118 [00:07<00:00, 16.40it/s]\n"
     ]
    },
    {
     "name": "stdout",
     "output_type": "stream",
     "text": [
      "Processed topic information for NUTS region FR53 and period 5\n"
     ]
    },
    {
     "name": "stderr",
     "output_type": "stream",
     "text": [
      "Batches: 100%|██████████| 12/12 [00:01<00:00, 10.71it/s]\n"
     ]
    },
    {
     "name": "stdout",
     "output_type": "stream",
     "text": [
      "Processed topic information for NUTS region FR53 and period 6\n",
      "No valid documents for NUTS region FR53 and period 7\n"
     ]
    },
    {
     "name": "stderr",
     "output_type": "stream",
     "text": [
      "NUTS regions:  29%|██▉       | 82/281 [2:39:38<2:32:16, 45.91s/it]"
     ]
    },
    {
     "name": "stdout",
     "output_type": "stream",
     "text": [
      "No valid documents for NUTS region FR53 and period 8\n",
      "No valid documents for NUTS region FR82 and period 1\n",
      "No valid documents for NUTS region FR82 and period 2\n",
      "No valid documents for NUTS region FR82 and period 3\n"
     ]
    },
    {
     "name": "stderr",
     "output_type": "stream",
     "text": [
      "Batches: 100%|██████████| 351/351 [00:19<00:00, 17.75it/s]\n"
     ]
    },
    {
     "name": "stdout",
     "output_type": "stream",
     "text": [
      "Processed topic information for NUTS region FR82 and period 4\n"
     ]
    },
    {
     "name": "stderr",
     "output_type": "stream",
     "text": [
      "Batches: 100%|██████████| 642/642 [00:36<00:00, 17.61it/s]\n"
     ]
    },
    {
     "name": "stdout",
     "output_type": "stream",
     "text": [
      "Processed topic information for NUTS region FR82 and period 5\n"
     ]
    },
    {
     "name": "stderr",
     "output_type": "stream",
     "text": [
      "Batches: 100%|██████████| 55/55 [00:03<00:00, 15.95it/s]\n"
     ]
    },
    {
     "name": "stdout",
     "output_type": "stream",
     "text": [
      "Processed topic information for NUTS region FR82 and period 6\n"
     ]
    },
    {
     "name": "stderr",
     "output_type": "stream",
     "text": [
      "Batches: 100%|██████████| 9/9 [00:00<00:00, 12.10it/s]\n",
      "NUTS regions:  30%|██▉       | 83/281 [2:40:59<3:05:53, 56.33s/it]"
     ]
    },
    {
     "name": "stdout",
     "output_type": "stream",
     "text": [
      "Processed topic information for NUTS region FR82 and period 7\n",
      "No valid documents for NUTS region FR82 and period 8\n",
      "No valid documents for NUTS region NL42 and period 1\n",
      "No valid documents for NUTS region NL42 and period 2\n",
      "No valid documents for NUTS region NL42 and period 3\n"
     ]
    },
    {
     "name": "stderr",
     "output_type": "stream",
     "text": [
      "Batches: 100%|██████████| 83/83 [00:05<00:00, 14.98it/s]\n"
     ]
    },
    {
     "name": "stdout",
     "output_type": "stream",
     "text": [
      "Processed topic information for NUTS region NL42 and period 4\n"
     ]
    },
    {
     "name": "stderr",
     "output_type": "stream",
     "text": [
      "Batches: 100%|██████████| 177/177 [00:11<00:00, 15.16it/s]\n"
     ]
    },
    {
     "name": "stdout",
     "output_type": "stream",
     "text": [
      "Processed topic information for NUTS region NL42 and period 5\n"
     ]
    },
    {
     "name": "stderr",
     "output_type": "stream",
     "text": [
      "Batches: 100%|██████████| 19/19 [00:01<00:00, 12.80it/s]\n"
     ]
    },
    {
     "name": "stdout",
     "output_type": "stream",
     "text": [
      "Processed topic information for NUTS region NL42 and period 6\n"
     ]
    },
    {
     "name": "stderr",
     "output_type": "stream",
     "text": [
      "Batches: 100%|██████████| 5/5 [00:00<00:00,  6.84it/s]\n",
      "NUTS regions:  30%|██▉       | 84/281 [2:41:33<2:43:20, 49.75s/it]"
     ]
    },
    {
     "name": "stdout",
     "output_type": "stream",
     "text": [
      "Processed topic information for NUTS region NL42 and period 7\n",
      "No valid documents for NUTS region NL42 and period 8\n",
      "No valid documents for NUTS region NL13 and period 1\n",
      "No valid documents for NUTS region NL13 and period 2\n",
      "No valid documents for NUTS region NL13 and period 3\n"
     ]
    },
    {
     "name": "stderr",
     "output_type": "stream",
     "text": [
      "Batches: 100%|██████████| 8/8 [00:01<00:00,  7.02it/s]\n"
     ]
    },
    {
     "name": "stdout",
     "output_type": "stream",
     "text": [
      "Processed topic information for NUTS region NL13 and period 4\n"
     ]
    },
    {
     "name": "stderr",
     "output_type": "stream",
     "text": [
      "Batches: 100%|██████████| 17/17 [00:02<00:00,  7.40it/s]\n"
     ]
    },
    {
     "name": "stdout",
     "output_type": "stream",
     "text": [
      "Processed topic information for NUTS region NL13 and period 5\n",
      "No valid documents for NUTS region NL13 and period 6\n"
     ]
    },
    {
     "name": "stderr",
     "output_type": "stream",
     "text": [
      "NUTS regions:  30%|███       | 85/281 [2:41:43<2:03:45, 37.89s/it]"
     ]
    },
    {
     "name": "stdout",
     "output_type": "stream",
     "text": [
      "No valid documents for NUTS region NL13 and period 7\n",
      "No valid documents for NUTS region NL13 and period 8\n",
      "No valid documents for NUTS region NL41 and period 1\n",
      "No valid documents for NUTS region NL41 and period 2\n",
      "No valid documents for NUTS region NL41 and period 3\n"
     ]
    },
    {
     "name": "stderr",
     "output_type": "stream",
     "text": [
      "Batches: 100%|██████████| 119/119 [00:24<00:00,  4.83it/s]\n"
     ]
    },
    {
     "name": "stdout",
     "output_type": "stream",
     "text": [
      "Processed topic information for NUTS region NL41 and period 4\n"
     ]
    },
    {
     "name": "stderr",
     "output_type": "stream",
     "text": [
      "Batches: 100%|██████████| 239/239 [01:15<00:00,  3.18it/s]\n"
     ]
    },
    {
     "name": "stdout",
     "output_type": "stream",
     "text": [
      "Processed topic information for NUTS region NL41 and period 5\n"
     ]
    },
    {
     "name": "stderr",
     "output_type": "stream",
     "text": [
      "Batches: 100%|██████████| 25/25 [00:02<00:00, 10.38it/s]\n"
     ]
    },
    {
     "name": "stdout",
     "output_type": "stream",
     "text": [
      "Processed topic information for NUTS region NL41 and period 6\n"
     ]
    },
    {
     "name": "stderr",
     "output_type": "stream",
     "text": [
      "Batches: 100%|██████████| 5/5 [00:00<00:00, 11.34it/s]\n",
      "NUTS regions:  31%|███       | 86/281 [2:43:44<3:23:47, 62.71s/it]"
     ]
    },
    {
     "name": "stdout",
     "output_type": "stream",
     "text": [
      "Processed topic information for NUTS region NL41 and period 7\n",
      "No valid documents for NUTS region NL41 and period 8\n",
      "No valid documents for NUTS region NL23 and period 1\n",
      "No valid documents for NUTS region NL23 and period 2\n",
      "No valid documents for NUTS region NL23 and period 3\n"
     ]
    },
    {
     "name": "stderr",
     "output_type": "stream",
     "text": [
      "Batches: 100%|██████████| 22/22 [00:01<00:00, 13.73it/s]\n"
     ]
    },
    {
     "name": "stdout",
     "output_type": "stream",
     "text": [
      "Processed topic information for NUTS region NL23 and period 4\n"
     ]
    },
    {
     "name": "stderr",
     "output_type": "stream",
     "text": [
      "Batches: 100%|██████████| 31/31 [00:02<00:00, 14.03it/s]\n"
     ]
    },
    {
     "name": "stdout",
     "output_type": "stream",
     "text": [
      "Processed topic information for NUTS region NL23 and period 5\n",
      "No valid documents for NUTS region NL23 and period 6\n"
     ]
    },
    {
     "name": "stderr",
     "output_type": "stream",
     "text": [
      "NUTS regions:  31%|███       | 87/281 [2:43:55<2:32:40, 47.22s/it]"
     ]
    },
    {
     "name": "stdout",
     "output_type": "stream",
     "text": [
      "No valid documents for NUTS region NL23 and period 7\n",
      "No valid documents for NUTS region NL23 and period 8\n",
      "No valid documents for NUTS region NL21 and period 1\n",
      "No valid documents for NUTS region NL21 and period 2\n",
      "No valid documents for NUTS region NL21 and period 3\n"
     ]
    },
    {
     "name": "stderr",
     "output_type": "stream",
     "text": [
      "Batches: 100%|██████████| 61/61 [00:03<00:00, 17.16it/s]\n"
     ]
    },
    {
     "name": "stdout",
     "output_type": "stream",
     "text": [
      "Processed topic information for NUTS region NL21 and period 4\n"
     ]
    },
    {
     "name": "stderr",
     "output_type": "stream",
     "text": [
      "Batches: 100%|██████████| 124/124 [00:07<00:00, 16.62it/s]\n"
     ]
    },
    {
     "name": "stdout",
     "output_type": "stream",
     "text": [
      "Processed topic information for NUTS region NL21 and period 5\n"
     ]
    },
    {
     "name": "stderr",
     "output_type": "stream",
     "text": [
      "Batches: 100%|██████████| 13/13 [00:01<00:00, 12.04it/s]\n"
     ]
    },
    {
     "name": "stdout",
     "output_type": "stream",
     "text": [
      "Processed topic information for NUTS region NL21 and period 6\n",
      "No valid documents for NUTS region NL21 and period 7\n"
     ]
    },
    {
     "name": "stderr",
     "output_type": "stream",
     "text": [
      "NUTS regions:  31%|███▏      | 88/281 [2:44:23<2:13:36, 41.54s/it]"
     ]
    },
    {
     "name": "stdout",
     "output_type": "stream",
     "text": [
      "No valid documents for NUTS region NL21 and period 8\n",
      "No valid documents for NUTS region NL22 and period 1\n",
      "No valid documents for NUTS region NL22 and period 2\n",
      "No valid documents for NUTS region NL22 and period 3\n"
     ]
    },
    {
     "name": "stderr",
     "output_type": "stream",
     "text": [
      "Batches: 100%|██████████| 275/275 [00:17<00:00, 15.78it/s]\n"
     ]
    },
    {
     "name": "stdout",
     "output_type": "stream",
     "text": [
      "Processed topic information for NUTS region NL22 and period 4\n"
     ]
    },
    {
     "name": "stderr",
     "output_type": "stream",
     "text": [
      "Batches: 100%|██████████| 487/487 [00:32<00:00, 14.92it/s]\n"
     ]
    },
    {
     "name": "stdout",
     "output_type": "stream",
     "text": [
      "Processed topic information for NUTS region NL22 and period 5\n"
     ]
    },
    {
     "name": "stderr",
     "output_type": "stream",
     "text": [
      "Batches: 100%|██████████| 45/45 [00:03<00:00, 14.14it/s]\n"
     ]
    },
    {
     "name": "stdout",
     "output_type": "stream",
     "text": [
      "Processed topic information for NUTS region NL22 and period 6\n"
     ]
    },
    {
     "name": "stderr",
     "output_type": "stream",
     "text": [
      "Batches: 100%|██████████| 10/10 [00:00<00:00, 12.98it/s]\n",
      "NUTS regions:  32%|███▏      | 89/281 [2:45:36<2:43:23, 51.06s/it]"
     ]
    },
    {
     "name": "stdout",
     "output_type": "stream",
     "text": [
      "Processed topic information for NUTS region NL22 and period 7\n",
      "No valid documents for NUTS region NL22 and period 8\n",
      "No valid documents for NUTS region NL11 and period 1\n",
      "No valid documents for NUTS region NL11 and period 2\n",
      "No valid documents for NUTS region NL11 and period 3\n"
     ]
    },
    {
     "name": "stderr",
     "output_type": "stream",
     "text": [
      "Batches: 100%|██████████| 144/144 [00:09<00:00, 15.91it/s]\n"
     ]
    },
    {
     "name": "stdout",
     "output_type": "stream",
     "text": [
      "Processed topic information for NUTS region NL11 and period 4\n"
     ]
    },
    {
     "name": "stderr",
     "output_type": "stream",
     "text": [
      "Batches: 100%|██████████| 256/256 [00:15<00:00, 16.10it/s]\n"
     ]
    },
    {
     "name": "stdout",
     "output_type": "stream",
     "text": [
      "Processed topic information for NUTS region NL11 and period 5\n"
     ]
    },
    {
     "name": "stderr",
     "output_type": "stream",
     "text": [
      "Batches: 100%|██████████| 25/25 [00:01<00:00, 14.59it/s]\n"
     ]
    },
    {
     "name": "stdout",
     "output_type": "stream",
     "text": [
      "Processed topic information for NUTS region NL11 and period 6\n"
     ]
    },
    {
     "name": "stderr",
     "output_type": "stream",
     "text": [
      "Batches: 100%|██████████| 5/5 [00:00<00:00, 11.59it/s]\n",
      "NUTS regions:  32%|███▏      | 90/281 [2:46:18<2:33:14, 48.14s/it]"
     ]
    },
    {
     "name": "stdout",
     "output_type": "stream",
     "text": [
      "Processed topic information for NUTS region NL11 and period 7\n",
      "No valid documents for NUTS region NL11 and period 8\n",
      "No valid documents for NUTS region NL12 and period 1\n",
      "No valid documents for NUTS region NL12 and period 2\n",
      "No valid documents for NUTS region NL12 and period 3\n"
     ]
    },
    {
     "name": "stderr",
     "output_type": "stream",
     "text": [
      "Batches: 100%|██████████| 6/6 [00:00<00:00, 11.43it/s]\n"
     ]
    },
    {
     "name": "stdout",
     "output_type": "stream",
     "text": [
      "Processed topic information for NUTS region NL12 and period 4\n"
     ]
    },
    {
     "name": "stderr",
     "output_type": "stream",
     "text": [
      "Batches: 100%|██████████| 10/10 [00:00<00:00, 12.80it/s]\n"
     ]
    },
    {
     "name": "stdout",
     "output_type": "stream",
     "text": [
      "Processed topic information for NUTS region NL12 and period 5\n",
      "No valid documents for NUTS region NL12 and period 6\n"
     ]
    },
    {
     "name": "stderr",
     "output_type": "stream",
     "text": [
      "NUTS regions:  32%|███▏      | 91/281 [2:46:26<1:54:05, 36.03s/it]"
     ]
    },
    {
     "name": "stdout",
     "output_type": "stream",
     "text": [
      "No valid documents for NUTS region NL12 and period 7\n",
      "No valid documents for NUTS region NL12 and period 8\n",
      "No valid documents for NUTS region ITI2 and period 1\n",
      "No valid documents for NUTS region ITI2 and period 2\n",
      "No valid documents for NUTS region ITI2 and period 3\n"
     ]
    },
    {
     "name": "stderr",
     "output_type": "stream",
     "text": [
      "Batches: 100%|██████████| 69/69 [00:04<00:00, 16.39it/s]\n"
     ]
    },
    {
     "name": "stdout",
     "output_type": "stream",
     "text": [
      "Processed topic information for NUTS region ITI2 and period 4\n"
     ]
    },
    {
     "name": "stderr",
     "output_type": "stream",
     "text": [
      "Batches: 100%|██████████| 129/129 [00:07<00:00, 16.51it/s]\n"
     ]
    },
    {
     "name": "stdout",
     "output_type": "stream",
     "text": [
      "Processed topic information for NUTS region ITI2 and period 5\n"
     ]
    },
    {
     "name": "stderr",
     "output_type": "stream",
     "text": [
      "Batches: 100%|██████████| 13/13 [00:00<00:00, 15.28it/s]\n"
     ]
    },
    {
     "name": "stdout",
     "output_type": "stream",
     "text": [
      "Processed topic information for NUTS region ITI2 and period 6\n",
      "No valid documents for NUTS region ITI2 and period 7\n"
     ]
    },
    {
     "name": "stderr",
     "output_type": "stream",
     "text": [
      "NUTS regions:  33%|███▎      | 92/281 [2:46:50<1:42:50, 32.65s/it]"
     ]
    },
    {
     "name": "stdout",
     "output_type": "stream",
     "text": [
      "No valid documents for NUTS region ITI2 and period 8\n",
      "No valid documents for NUTS region PT17 and period 1\n",
      "No valid documents for NUTS region PT17 and period 2\n",
      "No valid documents for NUTS region PT17 and period 3\n"
     ]
    },
    {
     "name": "stderr",
     "output_type": "stream",
     "text": [
      "Batches: 100%|██████████| 131/131 [00:07<00:00, 17.75it/s]\n"
     ]
    },
    {
     "name": "stdout",
     "output_type": "stream",
     "text": [
      "Processed topic information for NUTS region PT17 and period 4\n"
     ]
    },
    {
     "name": "stderr",
     "output_type": "stream",
     "text": [
      "Batches: 100%|██████████| 301/301 [00:17<00:00, 16.94it/s]\n"
     ]
    },
    {
     "name": "stdout",
     "output_type": "stream",
     "text": [
      "Processed topic information for NUTS region PT17 and period 5\n"
     ]
    },
    {
     "name": "stderr",
     "output_type": "stream",
     "text": [
      "Batches: 100%|██████████| 33/33 [00:02<00:00, 15.54it/s]\n"
     ]
    },
    {
     "name": "stdout",
     "output_type": "stream",
     "text": [
      "Processed topic information for NUTS region PT17 and period 6\n"
     ]
    },
    {
     "name": "stderr",
     "output_type": "stream",
     "text": [
      "Batches: 100%|██████████| 6/6 [00:00<00:00,  7.11it/s]\n",
      "NUTS regions:  33%|███▎      | 93/281 [2:47:33<1:52:06, 35.78s/it]"
     ]
    },
    {
     "name": "stdout",
     "output_type": "stream",
     "text": [
      "Processed topic information for NUTS region PT17 and period 7\n",
      "No valid documents for NUTS region PT17 and period 8\n",
      "No valid documents for NUTS region NL34 and period 1\n",
      "No valid documents for NUTS region NL34 and period 2\n",
      "No valid documents for NUTS region NL34 and period 3\n"
     ]
    },
    {
     "name": "stderr",
     "output_type": "stream",
     "text": [
      "Batches: 100%|██████████| 8/8 [00:01<00:00,  6.82it/s]\n"
     ]
    },
    {
     "name": "stdout",
     "output_type": "stream",
     "text": [
      "Processed topic information for NUTS region NL34 and period 4\n"
     ]
    },
    {
     "name": "stderr",
     "output_type": "stream",
     "text": [
      "Batches: 100%|██████████| 12/12 [00:02<00:00,  5.76it/s]\n"
     ]
    },
    {
     "name": "stdout",
     "output_type": "stream",
     "text": [
      "Processed topic information for NUTS region NL34 and period 5\n",
      "No valid documents for NUTS region NL34 and period 6\n"
     ]
    },
    {
     "name": "stderr",
     "output_type": "stream",
     "text": [
      "NUTS regions:  33%|███▎      | 94/281 [2:47:43<1:27:20, 28.03s/it]"
     ]
    },
    {
     "name": "stdout",
     "output_type": "stream",
     "text": [
      "No valid documents for NUTS region NL34 and period 7\n",
      "No valid documents for NUTS region NL34 and period 8\n",
      "No valid documents for NUTS region ITC3 and period 1\n",
      "No valid documents for NUTS region ITC3 and period 2\n",
      "No valid documents for NUTS region ITC3 and period 3\n"
     ]
    },
    {
     "name": "stderr",
     "output_type": "stream",
     "text": [
      "Batches: 100%|██████████| 133/133 [00:29<00:00,  4.47it/s]\n"
     ]
    },
    {
     "name": "stdout",
     "output_type": "stream",
     "text": [
      "Processed topic information for NUTS region ITC3 and period 4\n"
     ]
    },
    {
     "name": "stderr",
     "output_type": "stream",
     "text": [
      "Batches: 100%|██████████| 238/238 [01:28<00:00,  2.69it/s]\n"
     ]
    },
    {
     "name": "stdout",
     "output_type": "stream",
     "text": [
      "Processed topic information for NUTS region ITC3 and period 5\n"
     ]
    },
    {
     "name": "stderr",
     "output_type": "stream",
     "text": [
      "Batches: 100%|██████████| 21/21 [00:01<00:00, 13.58it/s]\n"
     ]
    },
    {
     "name": "stdout",
     "output_type": "stream",
     "text": [
      "Processed topic information for NUTS region ITC3 and period 6\n",
      "No valid documents for NUTS region ITC3 and period 7\n"
     ]
    },
    {
     "name": "stderr",
     "output_type": "stream",
     "text": [
      "NUTS regions:  34%|███▍      | 95/281 [2:49:55<3:03:27, 59.18s/it]"
     ]
    },
    {
     "name": "stdout",
     "output_type": "stream",
     "text": [
      "No valid documents for NUTS region ITC3 and period 8\n",
      "No valid documents for NUTS region FR81 and period 1\n",
      "No valid documents for NUTS region FR81 and period 2\n",
      "No valid documents for NUTS region FR81 and period 3\n"
     ]
    },
    {
     "name": "stderr",
     "output_type": "stream",
     "text": [
      "Batches: 100%|██████████| 243/243 [00:14<00:00, 16.89it/s]\n"
     ]
    },
    {
     "name": "stdout",
     "output_type": "stream",
     "text": [
      "Processed topic information for NUTS region FR81 and period 4\n"
     ]
    },
    {
     "name": "stderr",
     "output_type": "stream",
     "text": [
      "Batches: 100%|██████████| 444/444 [00:27<00:00, 16.32it/s]\n"
     ]
    },
    {
     "name": "stdout",
     "output_type": "stream",
     "text": [
      "Processed topic information for NUTS region FR81 and period 5\n"
     ]
    },
    {
     "name": "stderr",
     "output_type": "stream",
     "text": [
      "Batches: 100%|██████████| 37/37 [00:02<00:00, 13.83it/s]\n"
     ]
    },
    {
     "name": "stdout",
     "output_type": "stream",
     "text": [
      "Processed topic information for NUTS region FR81 and period 6\n"
     ]
    },
    {
     "name": "stderr",
     "output_type": "stream",
     "text": [
      "Batches: 100%|██████████| 6/6 [00:00<00:00, 11.85it/s]\n",
      "NUTS regions:  34%|███▍      | 96/281 [2:50:57<3:04:46, 59.93s/it]"
     ]
    },
    {
     "name": "stdout",
     "output_type": "stream",
     "text": [
      "Processed topic information for NUTS region FR81 and period 7\n",
      "No valid documents for NUTS region FR81 and period 8\n",
      "No valid documents for NUTS region ES21 and period 1\n",
      "No valid documents for NUTS region ES21 and period 2\n",
      "No valid documents for NUTS region ES21 and period 3\n"
     ]
    },
    {
     "name": "stderr",
     "output_type": "stream",
     "text": [
      "Batches: 100%|██████████| 79/79 [00:04<00:00, 17.31it/s]\n"
     ]
    },
    {
     "name": "stdout",
     "output_type": "stream",
     "text": [
      "Processed topic information for NUTS region ES21 and period 4\n"
     ]
    },
    {
     "name": "stderr",
     "output_type": "stream",
     "text": [
      "Batches: 100%|██████████| 158/158 [00:08<00:00, 17.78it/s]\n"
     ]
    },
    {
     "name": "stdout",
     "output_type": "stream",
     "text": [
      "Processed topic information for NUTS region ES21 and period 5\n"
     ]
    },
    {
     "name": "stderr",
     "output_type": "stream",
     "text": [
      "Batches: 100%|██████████| 17/17 [00:01<00:00, 14.91it/s]\n"
     ]
    },
    {
     "name": "stdout",
     "output_type": "stream",
     "text": [
      "Processed topic information for NUTS region ES21 and period 6\n"
     ]
    },
    {
     "name": "stderr",
     "output_type": "stream",
     "text": [
      "Batches: 100%|██████████| 4/4 [00:00<00:00, 10.30it/s]\n",
      "NUTS regions:  35%|███▍      | 97/281 [2:51:26<2:35:26, 50.69s/it]"
     ]
    },
    {
     "name": "stdout",
     "output_type": "stream",
     "text": [
      "Processed topic information for NUTS region ES21 and period 7\n",
      "No valid documents for NUTS region ES21 and period 8\n",
      "No valid documents for NUTS region DE26 and period 1\n",
      "No valid documents for NUTS region DE26 and period 2\n",
      "No valid documents for NUTS region DE26 and period 3\n"
     ]
    },
    {
     "name": "stderr",
     "output_type": "stream",
     "text": [
      "Batches: 100%|██████████| 152/152 [00:09<00:00, 15.75it/s]\n"
     ]
    },
    {
     "name": "stdout",
     "output_type": "stream",
     "text": [
      "Processed topic information for NUTS region DE26 and period 4\n"
     ]
    },
    {
     "name": "stderr",
     "output_type": "stream",
     "text": [
      "Batches: 100%|██████████| 241/241 [00:14<00:00, 16.22it/s]\n"
     ]
    },
    {
     "name": "stdout",
     "output_type": "stream",
     "text": [
      "Processed topic information for NUTS region DE26 and period 5\n"
     ]
    },
    {
     "name": "stderr",
     "output_type": "stream",
     "text": [
      "Batches: 100%|██████████| 20/20 [00:01<00:00, 13.38it/s]\n"
     ]
    },
    {
     "name": "stdout",
     "output_type": "stream",
     "text": [
      "Processed topic information for NUTS region DE26 and period 6\n",
      "No valid documents for NUTS region DE26 and period 7\n"
     ]
    },
    {
     "name": "stderr",
     "output_type": "stream",
     "text": [
      "NUTS regions:  35%|███▍      | 98/281 [2:52:04<2:23:09, 46.94s/it]"
     ]
    },
    {
     "name": "stdout",
     "output_type": "stream",
     "text": [
      "No valid documents for NUTS region DE26 and period 8\n",
      "No valid documents for NUTS region ES51 and period 1\n",
      "No valid documents for NUTS region ES51 and period 2\n",
      "No valid documents for NUTS region ES51 and period 3\n"
     ]
    },
    {
     "name": "stderr",
     "output_type": "stream",
     "text": [
      "Batches: 100%|██████████| 435/435 [00:26<00:00, 16.53it/s]\n"
     ]
    },
    {
     "name": "stdout",
     "output_type": "stream",
     "text": [
      "Processed topic information for NUTS region ES51 and period 4\n"
     ]
    },
    {
     "name": "stderr",
     "output_type": "stream",
     "text": [
      "Batches: 100%|██████████| 889/889 [00:57<00:00, 15.53it/s]\n"
     ]
    },
    {
     "name": "stdout",
     "output_type": "stream",
     "text": [
      "Processed topic information for NUTS region ES51 and period 5\n"
     ]
    },
    {
     "name": "stderr",
     "output_type": "stream",
     "text": [
      "Batches: 100%|██████████| 91/91 [00:06<00:00, 14.23it/s]\n"
     ]
    },
    {
     "name": "stdout",
     "output_type": "stream",
     "text": [
      "Processed topic information for NUTS region ES51 and period 6\n"
     ]
    },
    {
     "name": "stderr",
     "output_type": "stream",
     "text": [
      "Batches: 100%|██████████| 15/15 [00:01<00:00, 12.22it/s]\n",
      "NUTS regions:  35%|███▌      | 99/281 [2:54:02<3:27:12, 68.31s/it]"
     ]
    },
    {
     "name": "stdout",
     "output_type": "stream",
     "text": [
      "Processed topic information for NUTS region ES51 and period 7\n",
      "No valid documents for NUTS region ES51 and period 8\n",
      "No valid documents for NUTS region ITG1 and period 1\n",
      "No valid documents for NUTS region ITG1 and period 2\n",
      "No valid documents for NUTS region ITG1 and period 3\n"
     ]
    },
    {
     "name": "stderr",
     "output_type": "stream",
     "text": [
      "Batches: 100%|██████████| 170/170 [00:19<00:00,  8.69it/s]\n"
     ]
    },
    {
     "name": "stdout",
     "output_type": "stream",
     "text": [
      "Processed topic information for NUTS region ITG1 and period 4\n"
     ]
    },
    {
     "name": "stderr",
     "output_type": "stream",
     "text": [
      "Batches: 100%|██████████| 365/365 [00:49<00:00,  7.43it/s]\n"
     ]
    },
    {
     "name": "stdout",
     "output_type": "stream",
     "text": [
      "Processed topic information for NUTS region ITG1 and period 5\n"
     ]
    },
    {
     "name": "stderr",
     "output_type": "stream",
     "text": [
      "Batches: 100%|██████████| 40/40 [00:09<00:00,  4.23it/s]\n"
     ]
    },
    {
     "name": "stdout",
     "output_type": "stream",
     "text": [
      "Processed topic information for NUTS region ITG1 and period 6\n"
     ]
    },
    {
     "name": "stderr",
     "output_type": "stream",
     "text": [
      "Batches: 100%|██████████| 7/7 [00:02<00:00,  3.38it/s]\n",
      "NUTS regions:  36%|███▌      | 100/281 [2:55:38<3:51:06, 76.61s/it]"
     ]
    },
    {
     "name": "stdout",
     "output_type": "stream",
     "text": [
      "Processed topic information for NUTS region ITG1 and period 7\n",
      "No valid documents for NUTS region ITG1 and period 8\n",
      "No valid documents for NUTS region SE22 and period 1\n",
      "No valid documents for NUTS region SE22 and period 2\n",
      "No valid documents for NUTS region SE22 and period 3\n"
     ]
    },
    {
     "name": "stderr",
     "output_type": "stream",
     "text": [
      "Batches: 100%|██████████| 258/258 [00:44<00:00,  5.81it/s]\n"
     ]
    },
    {
     "name": "stdout",
     "output_type": "stream",
     "text": [
      "Processed topic information for NUTS region SE22 and period 4\n"
     ]
    },
    {
     "name": "stderr",
     "output_type": "stream",
     "text": [
      "Batches: 100%|██████████| 447/447 [00:27<00:00, 16.00it/s]\n"
     ]
    },
    {
     "name": "stdout",
     "output_type": "stream",
     "text": [
      "Processed topic information for NUTS region SE22 and period 5\n"
     ]
    },
    {
     "name": "stderr",
     "output_type": "stream",
     "text": [
      "Batches: 100%|██████████| 38/38 [00:03<00:00, 12.61it/s]\n"
     ]
    },
    {
     "name": "stdout",
     "output_type": "stream",
     "text": [
      "Processed topic information for NUTS region SE22 and period 6\n"
     ]
    },
    {
     "name": "stderr",
     "output_type": "stream",
     "text": [
      "Batches: 100%|██████████| 6/6 [00:00<00:00,  8.06it/s]\n",
      "NUTS regions:  36%|███▌      | 101/281 [2:57:11<4:04:29, 81.50s/it]"
     ]
    },
    {
     "name": "stdout",
     "output_type": "stream",
     "text": [
      "Processed topic information for NUTS region SE22 and period 7\n",
      "No valid documents for NUTS region SE22 and period 8\n",
      "No valid documents for NUTS region SE23 and period 1\n",
      "No valid documents for NUTS region SE23 and period 2\n",
      "No valid documents for NUTS region SE23 and period 3\n"
     ]
    },
    {
     "name": "stderr",
     "output_type": "stream",
     "text": [
      "Batches: 100%|██████████| 251/251 [00:15<00:00, 15.94it/s]\n"
     ]
    },
    {
     "name": "stdout",
     "output_type": "stream",
     "text": [
      "Processed topic information for NUTS region SE23 and period 4\n"
     ]
    },
    {
     "name": "stderr",
     "output_type": "stream",
     "text": [
      "Batches: 100%|██████████| 442/442 [00:27<00:00, 15.86it/s]\n"
     ]
    },
    {
     "name": "stdout",
     "output_type": "stream",
     "text": [
      "Processed topic information for NUTS region SE23 and period 5\n"
     ]
    },
    {
     "name": "stderr",
     "output_type": "stream",
     "text": [
      "Batches: 100%|██████████| 38/38 [00:02<00:00, 12.92it/s]\n"
     ]
    },
    {
     "name": "stdout",
     "output_type": "stream",
     "text": [
      "Processed topic information for NUTS region SE23 and period 6\n"
     ]
    },
    {
     "name": "stderr",
     "output_type": "stream",
     "text": [
      "Batches: 100%|██████████| 8/8 [00:00<00:00,  9.45it/s]\n",
      "NUTS regions:  36%|███▋      | 102/281 [2:58:15<3:47:28, 76.25s/it]"
     ]
    },
    {
     "name": "stdout",
     "output_type": "stream",
     "text": [
      "Processed topic information for NUTS region SE23 and period 7\n",
      "No valid documents for NUTS region SE23 and period 8\n",
      "No valid documents for NUTS region ES12 and period 1\n",
      "No valid documents for NUTS region ES12 and period 2\n",
      "No valid documents for NUTS region ES12 and period 3\n"
     ]
    },
    {
     "name": "stderr",
     "output_type": "stream",
     "text": [
      "Batches: 100%|██████████| 56/56 [00:06<00:00,  8.45it/s]\n"
     ]
    },
    {
     "name": "stdout",
     "output_type": "stream",
     "text": [
      "Processed topic information for NUTS region ES12 and period 4\n"
     ]
    },
    {
     "name": "stderr",
     "output_type": "stream",
     "text": [
      "Batches: 100%|██████████| 111/111 [00:17<00:00,  6.19it/s]\n"
     ]
    },
    {
     "name": "stdout",
     "output_type": "stream",
     "text": [
      "Processed topic information for NUTS region ES12 and period 5\n"
     ]
    },
    {
     "name": "stderr",
     "output_type": "stream",
     "text": [
      "Batches: 100%|██████████| 10/10 [00:02<00:00,  4.08it/s]\n"
     ]
    },
    {
     "name": "stdout",
     "output_type": "stream",
     "text": [
      "Processed topic information for NUTS region ES12 and period 6\n",
      "No valid documents for NUTS region ES12 and period 7\n"
     ]
    },
    {
     "name": "stderr",
     "output_type": "stream",
     "text": [
      "NUTS regions:  37%|███▋      | 103/281 [2:58:57<3:15:19, 65.84s/it]"
     ]
    },
    {
     "name": "stdout",
     "output_type": "stream",
     "text": [
      "No valid documents for NUTS region ES12 and period 8\n",
      "No valid documents for NUTS region ES61 and period 1\n",
      "No valid documents for NUTS region ES61 and period 2\n",
      "No valid documents for NUTS region ES61 and period 3\n"
     ]
    },
    {
     "name": "stderr",
     "output_type": "stream",
     "text": [
      "Batches: 100%|██████████| 292/292 [01:52<00:00,  2.60it/s]\n"
     ]
    },
    {
     "name": "stdout",
     "output_type": "stream",
     "text": [
      "Processed topic information for NUTS region ES61 and period 4\n"
     ]
    },
    {
     "name": "stderr",
     "output_type": "stream",
     "text": [
      "Batches: 100%|██████████| 613/613 [00:36<00:00, 17.02it/s]\n"
     ]
    },
    {
     "name": "stdout",
     "output_type": "stream",
     "text": [
      "Processed topic information for NUTS region ES61 and period 5\n"
     ]
    },
    {
     "name": "stderr",
     "output_type": "stream",
     "text": [
      "Batches: 100%|██████████| 59/59 [00:03<00:00, 16.44it/s]\n"
     ]
    },
    {
     "name": "stdout",
     "output_type": "stream",
     "text": [
      "Processed topic information for NUTS region ES61 and period 6\n"
     ]
    },
    {
     "name": "stderr",
     "output_type": "stream",
     "text": [
      "Batches: 100%|██████████| 10/10 [00:00<00:00, 12.85it/s]\n",
      "NUTS regions:  37%|███▋      | 104/281 [3:01:51<4:49:43, 98.21s/it]"
     ]
    },
    {
     "name": "stdout",
     "output_type": "stream",
     "text": [
      "Processed topic information for NUTS region ES61 and period 7\n",
      "No valid documents for NUTS region ES61 and period 8\n",
      "No valid documents for NUTS region AT33 and period 1\n",
      "No valid documents for NUTS region AT33 and period 2\n",
      "No valid documents for NUTS region AT33 and period 3\n"
     ]
    },
    {
     "name": "stderr",
     "output_type": "stream",
     "text": [
      "Batches: 100%|██████████| 85/85 [00:05<00:00, 15.93it/s]\n"
     ]
    },
    {
     "name": "stdout",
     "output_type": "stream",
     "text": [
      "Processed topic information for NUTS region AT33 and period 4\n"
     ]
    },
    {
     "name": "stderr",
     "output_type": "stream",
     "text": [
      "Batches: 100%|██████████| 176/176 [00:10<00:00, 16.12it/s]\n"
     ]
    },
    {
     "name": "stdout",
     "output_type": "stream",
     "text": [
      "Processed topic information for NUTS region AT33 and period 5\n"
     ]
    },
    {
     "name": "stderr",
     "output_type": "stream",
     "text": [
      "Batches: 100%|██████████| 15/15 [00:01<00:00, 13.00it/s]\n"
     ]
    },
    {
     "name": "stdout",
     "output_type": "stream",
     "text": [
      "Processed topic information for NUTS region AT33 and period 6\n",
      "No valid documents for NUTS region AT33 and period 7\n"
     ]
    },
    {
     "name": "stderr",
     "output_type": "stream",
     "text": [
      "NUTS regions:  37%|███▋      | 105/281 [3:02:21<3:48:21, 77.85s/it]"
     ]
    },
    {
     "name": "stdout",
     "output_type": "stream",
     "text": [
      "No valid documents for NUTS region AT33 and period 8\n",
      "No valid documents for NUTS region FR43 and period 1\n",
      "No valid documents for NUTS region FR43 and period 2\n",
      "No valid documents for NUTS region FR43 and period 3\n"
     ]
    },
    {
     "name": "stderr",
     "output_type": "stream",
     "text": [
      "Batches: 100%|██████████| 50/50 [00:03<00:00, 16.40it/s]\n"
     ]
    },
    {
     "name": "stdout",
     "output_type": "stream",
     "text": [
      "Processed topic information for NUTS region FR43 and period 4\n"
     ]
    },
    {
     "name": "stderr",
     "output_type": "stream",
     "text": [
      "Batches: 100%|██████████| 91/91 [00:05<00:00, 17.96it/s]\n"
     ]
    },
    {
     "name": "stdout",
     "output_type": "stream",
     "text": [
      "Processed topic information for NUTS region FR43 and period 5\n"
     ]
    },
    {
     "name": "stderr",
     "output_type": "stream",
     "text": [
      "Batches: 100%|██████████| 11/11 [00:00<00:00, 13.71it/s]\n"
     ]
    },
    {
     "name": "stdout",
     "output_type": "stream",
     "text": [
      "Processed topic information for NUTS region FR43 and period 6\n",
      "No valid documents for NUTS region FR43 and period 7\n"
     ]
    },
    {
     "name": "stderr",
     "output_type": "stream",
     "text": [
      "NUTS regions:  38%|███▊      | 106/281 [3:02:42<2:57:46, 60.95s/it]"
     ]
    },
    {
     "name": "stdout",
     "output_type": "stream",
     "text": [
      "No valid documents for NUTS region FR43 and period 8\n",
      "No valid documents for NUTS region IE01 and period 1\n",
      "No valid documents for NUTS region IE01 and period 2\n",
      "No valid documents for NUTS region IE01 and period 3\n"
     ]
    },
    {
     "name": "stderr",
     "output_type": "stream",
     "text": [
      "Batches: 100%|██████████| 27/27 [00:01<00:00, 15.46it/s]\n"
     ]
    },
    {
     "name": "stdout",
     "output_type": "stream",
     "text": [
      "Processed topic information for NUTS region IE01 and period 4\n"
     ]
    },
    {
     "name": "stderr",
     "output_type": "stream",
     "text": [
      "Batches: 100%|██████████| 51/51 [00:03<00:00, 15.43it/s]\n"
     ]
    },
    {
     "name": "stdout",
     "output_type": "stream",
     "text": [
      "Processed topic information for NUTS region IE01 and period 5\n"
     ]
    },
    {
     "name": "stderr",
     "output_type": "stream",
     "text": [
      "Batches: 100%|██████████| 7/7 [00:00<00:00, 12.67it/s]\n"
     ]
    },
    {
     "name": "stdout",
     "output_type": "stream",
     "text": [
      "Processed topic information for NUTS region IE01 and period 6\n",
      "No valid documents for NUTS region IE01 and period 7\n"
     ]
    },
    {
     "name": "stderr",
     "output_type": "stream",
     "text": [
      "NUTS regions:  38%|███▊      | 107/281 [3:02:58<2:17:06, 47.28s/it]"
     ]
    },
    {
     "name": "stdout",
     "output_type": "stream",
     "text": [
      "No valid documents for NUTS region IE01 and period 8\n",
      "No valid documents for NUTS region CH01 and period 1\n",
      "No valid documents for NUTS region CH01 and period 2\n",
      "No valid documents for NUTS region CH01 and period 3\n"
     ]
    },
    {
     "name": "stderr",
     "output_type": "stream",
     "text": [
      "Batches: 100%|██████████| 425/425 [00:23<00:00, 17.94it/s]\n"
     ]
    },
    {
     "name": "stdout",
     "output_type": "stream",
     "text": [
      "Processed topic information for NUTS region CH01 and period 4\n"
     ]
    },
    {
     "name": "stderr",
     "output_type": "stream",
     "text": [
      "Batches: 100%|██████████| 759/759 [00:43<00:00, 17.27it/s]\n"
     ]
    },
    {
     "name": "stdout",
     "output_type": "stream",
     "text": [
      "Processed topic information for NUTS region CH01 and period 5\n"
     ]
    },
    {
     "name": "stderr",
     "output_type": "stream",
     "text": [
      "Batches: 100%|██████████| 67/67 [00:04<00:00, 15.47it/s]\n"
     ]
    },
    {
     "name": "stdout",
     "output_type": "stream",
     "text": [
      "Processed topic information for NUTS region CH01 and period 6\n"
     ]
    },
    {
     "name": "stderr",
     "output_type": "stream",
     "text": [
      "Batches: 100%|██████████| 14/14 [00:01<00:00, 13.96it/s]\n",
      "NUTS regions:  38%|███▊      | 108/281 [3:04:33<2:57:36, 61.60s/it]"
     ]
    },
    {
     "name": "stdout",
     "output_type": "stream",
     "text": [
      "Processed topic information for NUTS region CH01 and period 7\n",
      "No valid documents for NUTS region CH01 and period 8\n",
      "No valid documents for NUTS region FR42 and period 1\n",
      "No valid documents for NUTS region FR42 and period 2\n",
      "No valid documents for NUTS region FR42 and period 3\n"
     ]
    },
    {
     "name": "stderr",
     "output_type": "stream",
     "text": [
      "Batches: 100%|██████████| 226/226 [00:25<00:00,  8.82it/s]\n"
     ]
    },
    {
     "name": "stdout",
     "output_type": "stream",
     "text": [
      "Processed topic information for NUTS region FR42 and period 4\n"
     ]
    },
    {
     "name": "stderr",
     "output_type": "stream",
     "text": [
      "Batches: 100%|██████████| 359/359 [00:47<00:00,  7.58it/s]\n"
     ]
    },
    {
     "name": "stdout",
     "output_type": "stream",
     "text": [
      "Processed topic information for NUTS region FR42 and period 5\n"
     ]
    },
    {
     "name": "stderr",
     "output_type": "stream",
     "text": [
      "Batches: 100%|██████████| 29/29 [00:06<00:00,  4.68it/s]\n"
     ]
    },
    {
     "name": "stdout",
     "output_type": "stream",
     "text": [
      "Processed topic information for NUTS region FR42 and period 6\n"
     ]
    },
    {
     "name": "stderr",
     "output_type": "stream",
     "text": [
      "Batches: 100%|██████████| 3/3 [00:00<00:00,  3.26it/s]\n",
      "NUTS regions:  39%|███▉      | 109/281 [3:06:08<3:25:52, 71.82s/it]"
     ]
    },
    {
     "name": "stdout",
     "output_type": "stream",
     "text": [
      "Processed topic information for NUTS region FR42 and period 7\n",
      "No valid documents for NUTS region FR42 and period 8\n",
      "No valid documents for NUTS region FR51 and period 1\n",
      "No valid documents for NUTS region FR51 and period 2\n",
      "No valid documents for NUTS region FR51 and period 3\n"
     ]
    },
    {
     "name": "stderr",
     "output_type": "stream",
     "text": [
      "Batches: 100%|██████████| 148/148 [00:22<00:00,  6.64it/s]\n"
     ]
    },
    {
     "name": "stdout",
     "output_type": "stream",
     "text": [
      "Processed topic information for NUTS region FR51 and period 4\n"
     ]
    },
    {
     "name": "stderr",
     "output_type": "stream",
     "text": [
      "Batches: 100%|██████████| 271/271 [00:15<00:00, 17.02it/s]\n"
     ]
    },
    {
     "name": "stdout",
     "output_type": "stream",
     "text": [
      "Processed topic information for NUTS region FR51 and period 5\n"
     ]
    },
    {
     "name": "stderr",
     "output_type": "stream",
     "text": [
      "Batches: 100%|██████████| 26/26 [00:01<00:00, 14.76it/s]\n"
     ]
    },
    {
     "name": "stdout",
     "output_type": "stream",
     "text": [
      "Processed topic information for NUTS region FR51 and period 6\n"
     ]
    },
    {
     "name": "stderr",
     "output_type": "stream",
     "text": [
      "Batches: 100%|██████████| 4/4 [00:00<00:00,  9.54it/s]\n",
      "NUTS regions:  39%|███▉      | 110/281 [3:07:03<3:09:38, 66.54s/it]"
     ]
    },
    {
     "name": "stdout",
     "output_type": "stream",
     "text": [
      "Processed topic information for NUTS region FR51 and period 7\n",
      "No valid documents for NUTS region FR51 and period 8\n",
      "No valid documents for NUTS region SE12 and period 1\n",
      "No valid documents for NUTS region SE12 and period 2\n",
      "No valid documents for NUTS region SE12 and period 3\n"
     ]
    },
    {
     "name": "stderr",
     "output_type": "stream",
     "text": [
      "Batches: 100%|██████████| 375/375 [00:22<00:00, 16.53it/s]\n"
     ]
    },
    {
     "name": "stdout",
     "output_type": "stream",
     "text": [
      "Processed topic information for NUTS region SE12 and period 4\n"
     ]
    },
    {
     "name": "stderr",
     "output_type": "stream",
     "text": [
      "Batches: 100%|██████████| 651/651 [00:40<00:00, 16.25it/s]\n"
     ]
    },
    {
     "name": "stdout",
     "output_type": "stream",
     "text": [
      "Processed topic information for NUTS region SE12 and period 5\n"
     ]
    },
    {
     "name": "stderr",
     "output_type": "stream",
     "text": [
      "Batches: 100%|██████████| 54/54 [00:03<00:00, 14.54it/s]\n"
     ]
    },
    {
     "name": "stdout",
     "output_type": "stream",
     "text": [
      "Processed topic information for NUTS region SE12 and period 6\n"
     ]
    },
    {
     "name": "stderr",
     "output_type": "stream",
     "text": [
      "Batches: 100%|██████████| 10/10 [00:01<00:00,  7.86it/s]\n",
      "NUTS regions:  40%|███▉      | 111/281 [3:08:31<3:26:46, 72.98s/it]"
     ]
    },
    {
     "name": "stdout",
     "output_type": "stream",
     "text": [
      "Processed topic information for NUTS region SE12 and period 7\n",
      "No valid documents for NUTS region SE12 and period 8\n",
      "No valid documents for NUTS region CH05 and period 1\n",
      "No valid documents for NUTS region CH05 and period 2\n",
      "No valid documents for NUTS region CH05 and period 3\n"
     ]
    },
    {
     "name": "stderr",
     "output_type": "stream",
     "text": [
      "Batches: 100%|██████████| 24/24 [00:03<00:00,  7.86it/s]\n"
     ]
    },
    {
     "name": "stdout",
     "output_type": "stream",
     "text": [
      "Processed topic information for NUTS region CH05 and period 4\n"
     ]
    },
    {
     "name": "stderr",
     "output_type": "stream",
     "text": [
      "Batches: 100%|██████████| 50/50 [00:08<00:00,  6.24it/s]\n"
     ]
    },
    {
     "name": "stdout",
     "output_type": "stream",
     "text": [
      "Processed topic information for NUTS region CH05 and period 5\n"
     ]
    },
    {
     "name": "stderr",
     "output_type": "stream",
     "text": [
      "Batches: 100%|██████████| 5/5 [00:01<00:00,  4.28it/s]\n"
     ]
    },
    {
     "name": "stdout",
     "output_type": "stream",
     "text": [
      "Processed topic information for NUTS region CH05 and period 6\n",
      "No valid documents for NUTS region CH05 and period 7\n"
     ]
    },
    {
     "name": "stderr",
     "output_type": "stream",
     "text": [
      "NUTS regions:  40%|███▉      | 112/281 [3:08:53<2:42:51, 57.82s/it]"
     ]
    },
    {
     "name": "stdout",
     "output_type": "stream",
     "text": [
      "No valid documents for NUTS region CH05 and period 8\n",
      "No valid documents for NUTS region UKJ3 and period 1\n",
      "No valid documents for NUTS region UKJ3 and period 2\n",
      "No valid documents for NUTS region UKJ3 and period 3\n"
     ]
    },
    {
     "name": "stderr",
     "output_type": "stream",
     "text": [
      "Batches: 100%|██████████| 203/203 [01:11<00:00,  2.84it/s]\n"
     ]
    },
    {
     "name": "stdout",
     "output_type": "stream",
     "text": [
      "Processed topic information for NUTS region UKJ3 and period 4\n"
     ]
    },
    {
     "name": "stderr",
     "output_type": "stream",
     "text": [
      "Batches: 100%|██████████| 375/375 [00:22<00:00, 16.93it/s]\n"
     ]
    },
    {
     "name": "stdout",
     "output_type": "stream",
     "text": [
      "Processed topic information for NUTS region UKJ3 and period 5\n"
     ]
    },
    {
     "name": "stderr",
     "output_type": "stream",
     "text": [
      "Batches: 100%|██████████| 33/33 [00:02<00:00, 14.60it/s]\n"
     ]
    },
    {
     "name": "stdout",
     "output_type": "stream",
     "text": [
      "Processed topic information for NUTS region UKJ3 and period 6\n"
     ]
    },
    {
     "name": "stderr",
     "output_type": "stream",
     "text": [
      "Batches: 100%|██████████| 8/8 [00:00<00:00, 12.35it/s]\n",
      "NUTS regions:  40%|████      | 113/281 [3:10:45<3:27:29, 74.10s/it]"
     ]
    },
    {
     "name": "stdout",
     "output_type": "stream",
     "text": [
      "Processed topic information for NUTS region UKJ3 and period 7\n",
      "No valid documents for NUTS region UKJ3 and period 8\n",
      "No valid documents for NUTS region DK04 and period 1\n",
      "No valid documents for NUTS region DK04 and period 2\n",
      "No valid documents for NUTS region DK04 and period 3\n"
     ]
    },
    {
     "name": "stderr",
     "output_type": "stream",
     "text": [
      "Batches: 100%|██████████| 154/154 [00:09<00:00, 15.95it/s]\n"
     ]
    },
    {
     "name": "stdout",
     "output_type": "stream",
     "text": [
      "Processed topic information for NUTS region DK04 and period 4\n"
     ]
    },
    {
     "name": "stderr",
     "output_type": "stream",
     "text": [
      "Batches: 100%|██████████| 293/293 [00:19<00:00, 15.11it/s]\n"
     ]
    },
    {
     "name": "stdout",
     "output_type": "stream",
     "text": [
      "Processed topic information for NUTS region DK04 and period 5\n"
     ]
    },
    {
     "name": "stderr",
     "output_type": "stream",
     "text": [
      "Batches: 100%|██████████| 27/27 [00:01<00:00, 13.91it/s]\n"
     ]
    },
    {
     "name": "stdout",
     "output_type": "stream",
     "text": [
      "Processed topic information for NUTS region DK04 and period 6\n"
     ]
    },
    {
     "name": "stderr",
     "output_type": "stream",
     "text": [
      "Batches: 100%|██████████| 7/7 [00:00<00:00, 11.27it/s]\n",
      "NUTS regions:  41%|████      | 114/281 [3:11:31<3:02:53, 65.71s/it]"
     ]
    },
    {
     "name": "stdout",
     "output_type": "stream",
     "text": [
      "Processed topic information for NUTS region DK04 and period 7\n",
      "No valid documents for NUTS region DK04 and period 8\n",
      "No valid documents for NUTS region AT31 and period 1\n",
      "No valid documents for NUTS region AT31 and period 2\n",
      "No valid documents for NUTS region AT31 and period 3\n"
     ]
    },
    {
     "name": "stderr",
     "output_type": "stream",
     "text": [
      "Batches: 100%|██████████| 36/36 [00:02<00:00, 17.25it/s]\n"
     ]
    },
    {
     "name": "stdout",
     "output_type": "stream",
     "text": [
      "Processed topic information for NUTS region AT31 and period 4\n"
     ]
    },
    {
     "name": "stderr",
     "output_type": "stream",
     "text": [
      "Batches: 100%|██████████| 73/73 [00:04<00:00, 17.85it/s]\n"
     ]
    },
    {
     "name": "stdout",
     "output_type": "stream",
     "text": [
      "Processed topic information for NUTS region AT31 and period 5\n"
     ]
    },
    {
     "name": "stderr",
     "output_type": "stream",
     "text": [
      "Batches: 100%|██████████| 7/7 [00:00<00:00, 10.40it/s]\n"
     ]
    },
    {
     "name": "stdout",
     "output_type": "stream",
     "text": [
      "Processed topic information for NUTS region AT31 and period 6\n",
      "No valid documents for NUTS region AT31 and period 7\n"
     ]
    },
    {
     "name": "stderr",
     "output_type": "stream",
     "text": [
      "NUTS regions:  41%|████      | 115/281 [3:11:49<2:22:14, 51.41s/it]"
     ]
    },
    {
     "name": "stdout",
     "output_type": "stream",
     "text": [
      "No valid documents for NUTS region AT31 and period 8\n",
      "No valid documents for NUTS region FI1D and period 1\n",
      "No valid documents for NUTS region FI1D and period 2\n",
      "No valid documents for NUTS region FI1D and period 3\n"
     ]
    },
    {
     "name": "stderr",
     "output_type": "stream",
     "text": [
      "Batches: 100%|██████████| 168/168 [00:10<00:00, 15.56it/s]\n"
     ]
    },
    {
     "name": "stdout",
     "output_type": "stream",
     "text": [
      "Processed topic information for NUTS region FI1D and period 4\n"
     ]
    },
    {
     "name": "stderr",
     "output_type": "stream",
     "text": [
      "Batches: 100%|██████████| 308/308 [00:19<00:00, 15.53it/s]\n"
     ]
    },
    {
     "name": "stdout",
     "output_type": "stream",
     "text": [
      "Processed topic information for NUTS region FI1D and period 5\n"
     ]
    },
    {
     "name": "stderr",
     "output_type": "stream",
     "text": [
      "Batches: 100%|██████████| 25/25 [00:01<00:00, 13.31it/s]\n"
     ]
    },
    {
     "name": "stdout",
     "output_type": "stream",
     "text": [
      "Processed topic information for NUTS region FI1D and period 6\n"
     ]
    },
    {
     "name": "stderr",
     "output_type": "stream",
     "text": [
      "Batches: 100%|██████████| 5/5 [00:00<00:00, 13.03it/s]\n",
      "NUTS regions:  41%|████▏     | 116/281 [3:12:37<2:18:24, 50.33s/it]"
     ]
    },
    {
     "name": "stdout",
     "output_type": "stream",
     "text": [
      "Processed topic information for NUTS region FI1D and period 7\n",
      "No valid documents for NUTS region FI1D and period 8\n",
      "No valid documents for NUTS region FI1C and period 1\n",
      "No valid documents for NUTS region FI1C and period 2\n",
      "No valid documents for NUTS region FI1C and period 3\n"
     ]
    },
    {
     "name": "stderr",
     "output_type": "stream",
     "text": [
      "Batches: 100%|██████████| 147/147 [00:09<00:00, 15.97it/s]\n"
     ]
    },
    {
     "name": "stdout",
     "output_type": "stream",
     "text": [
      "Processed topic information for NUTS region FI1C and period 4\n"
     ]
    },
    {
     "name": "stderr",
     "output_type": "stream",
     "text": [
      "Batches: 100%|██████████| 252/252 [00:15<00:00, 15.83it/s]\n"
     ]
    },
    {
     "name": "stdout",
     "output_type": "stream",
     "text": [
      "Processed topic information for NUTS region FI1C and period 5\n"
     ]
    },
    {
     "name": "stderr",
     "output_type": "stream",
     "text": [
      "Batches: 100%|██████████| 22/22 [00:01<00:00, 14.21it/s]\n"
     ]
    },
    {
     "name": "stdout",
     "output_type": "stream",
     "text": [
      "Processed topic information for NUTS region FI1C and period 6\n"
     ]
    },
    {
     "name": "stderr",
     "output_type": "stream",
     "text": [
      "Batches: 100%|██████████| 4/4 [00:00<00:00, 11.32it/s]\n",
      "NUTS regions:  42%|████▏     | 117/281 [3:13:18<2:09:28, 47.37s/it]"
     ]
    },
    {
     "name": "stdout",
     "output_type": "stream",
     "text": [
      "Processed topic information for NUTS region FI1C and period 7\n",
      "No valid documents for NUTS region FI1C and period 8\n",
      "No valid documents for NUTS region FR63 and period 1\n",
      "No valid documents for NUTS region FR63 and period 2\n",
      "No valid documents for NUTS region FR63 and period 3\n"
     ]
    },
    {
     "name": "stderr",
     "output_type": "stream",
     "text": [
      "Batches: 100%|██████████| 31/31 [00:01<00:00, 16.08it/s]\n"
     ]
    },
    {
     "name": "stdout",
     "output_type": "stream",
     "text": [
      "Processed topic information for NUTS region FR63 and period 4\n"
     ]
    },
    {
     "name": "stderr",
     "output_type": "stream",
     "text": [
      "Batches: 100%|██████████| 51/51 [00:03<00:00, 14.85it/s]\n"
     ]
    },
    {
     "name": "stdout",
     "output_type": "stream",
     "text": [
      "Processed topic information for NUTS region FR63 and period 5\n"
     ]
    },
    {
     "name": "stderr",
     "output_type": "stream",
     "text": [
      "Batches: 100%|██████████| 6/6 [00:00<00:00,  7.85it/s]\n"
     ]
    },
    {
     "name": "stdout",
     "output_type": "stream",
     "text": [
      "Processed topic information for NUTS region FR63 and period 6\n",
      "No valid documents for NUTS region FR63 and period 7\n"
     ]
    },
    {
     "name": "stderr",
     "output_type": "stream",
     "text": [
      "NUTS regions:  42%|████▏     | 118/281 [3:13:35<1:44:18, 38.39s/it]"
     ]
    },
    {
     "name": "stdout",
     "output_type": "stream",
     "text": [
      "No valid documents for NUTS region FR63 and period 8\n",
      "No valid documents for NUTS region DK01 and period 1\n",
      "No valid documents for NUTS region DK01 and period 2\n"
     ]
    },
    {
     "name": "stderr",
     "output_type": "stream",
     "text": [
      "Batches: 100%|██████████| 4/4 [00:00<00:00, 12.82it/s]\n"
     ]
    },
    {
     "name": "stdout",
     "output_type": "stream",
     "text": [
      "Processed topic information for NUTS region DK01 and period 3\n"
     ]
    },
    {
     "name": "stderr",
     "output_type": "stream",
     "text": [
      "Batches: 100%|██████████| 474/474 [00:59<00:00,  8.00it/s]\n"
     ]
    },
    {
     "name": "stdout",
     "output_type": "stream",
     "text": [
      "Processed topic information for NUTS region DK01 and period 4\n"
     ]
    },
    {
     "name": "stderr",
     "output_type": "stream",
     "text": [
      "Batches: 100%|██████████| 829/829 [02:08<00:00,  6.47it/s]\n"
     ]
    },
    {
     "name": "stdout",
     "output_type": "stream",
     "text": [
      "Processed topic information for NUTS region DK01 and period 5\n"
     ]
    },
    {
     "name": "stderr",
     "output_type": "stream",
     "text": [
      "Batches: 100%|██████████| 71/71 [00:17<00:00,  4.10it/s]\n"
     ]
    },
    {
     "name": "stdout",
     "output_type": "stream",
     "text": [
      "Processed topic information for NUTS region DK01 and period 6\n"
     ]
    },
    {
     "name": "stderr",
     "output_type": "stream",
     "text": [
      "Batches: 100%|██████████| 14/14 [00:04<00:00,  3.32it/s]\n",
      "NUTS regions:  42%|████▏     | 119/281 [3:17:33<4:24:52, 98.10s/it]"
     ]
    },
    {
     "name": "stdout",
     "output_type": "stream",
     "text": [
      "Processed topic information for NUTS region DK01 and period 7\n",
      "No valid documents for NUTS region DK01 and period 8\n",
      "No valid documents for NUTS region UKF2 and period 1\n",
      "No valid documents for NUTS region UKF2 and period 2\n",
      "No valid documents for NUTS region UKF2 and period 3\n"
     ]
    },
    {
     "name": "stderr",
     "output_type": "stream",
     "text": [
      "Batches: 100%|██████████| 165/165 [00:26<00:00,  6.12it/s]\n"
     ]
    },
    {
     "name": "stdout",
     "output_type": "stream",
     "text": [
      "Processed topic information for NUTS region UKF2 and period 4\n"
     ]
    },
    {
     "name": "stderr",
     "output_type": "stream",
     "text": [
      "Batches: 100%|██████████| 284/284 [00:16<00:00, 17.13it/s]\n"
     ]
    },
    {
     "name": "stdout",
     "output_type": "stream",
     "text": [
      "Processed topic information for NUTS region UKF2 and period 5\n"
     ]
    },
    {
     "name": "stderr",
     "output_type": "stream",
     "text": [
      "Batches: 100%|██████████| 25/25 [00:01<00:00, 13.73it/s]\n"
     ]
    },
    {
     "name": "stdout",
     "output_type": "stream",
     "text": [
      "Processed topic information for NUTS region UKF2 and period 6\n"
     ]
    },
    {
     "name": "stderr",
     "output_type": "stream",
     "text": [
      "Batches: 100%|██████████| 5/5 [00:00<00:00,  8.51it/s]\n",
      "NUTS regions:  43%|████▎     | 120/281 [3:18:33<3:53:09, 86.89s/it]"
     ]
    },
    {
     "name": "stdout",
     "output_type": "stream",
     "text": [
      "Processed topic information for NUTS region UKF2 and period 7\n",
      "No valid documents for NUTS region UKF2 and period 8\n",
      "No valid documents for NUTS region ES24 and period 1\n",
      "No valid documents for NUTS region ES24 and period 2\n",
      "No valid documents for NUTS region ES24 and period 3\n"
     ]
    },
    {
     "name": "stderr",
     "output_type": "stream",
     "text": [
      "Batches: 100%|██████████| 70/70 [00:03<00:00, 17.51it/s]\n"
     ]
    },
    {
     "name": "stdout",
     "output_type": "stream",
     "text": [
      "Processed topic information for NUTS region ES24 and period 4\n"
     ]
    },
    {
     "name": "stderr",
     "output_type": "stream",
     "text": [
      "Batches: 100%|██████████| 136/136 [00:07<00:00, 17.30it/s]\n"
     ]
    },
    {
     "name": "stdout",
     "output_type": "stream",
     "text": [
      "Processed topic information for NUTS region ES24 and period 5\n"
     ]
    },
    {
     "name": "stderr",
     "output_type": "stream",
     "text": [
      "Batches: 100%|██████████| 15/15 [00:01<00:00,  9.93it/s]\n"
     ]
    },
    {
     "name": "stdout",
     "output_type": "stream",
     "text": [
      "Processed topic information for NUTS region ES24 and period 6\n",
      "No valid documents for NUTS region ES24 and period 7\n"
     ]
    },
    {
     "name": "stderr",
     "output_type": "stream",
     "text": [
      "NUTS regions:  43%|████▎     | 121/281 [3:18:58<3:02:16, 68.35s/it]"
     ]
    },
    {
     "name": "stdout",
     "output_type": "stream",
     "text": [
      "No valid documents for NUTS region ES24 and period 8\n",
      "No valid documents for NUTS region UKM5 and period 1\n",
      "No valid documents for NUTS region UKM5 and period 2\n",
      "No valid documents for NUTS region UKM5 and period 3\n"
     ]
    },
    {
     "name": "stderr",
     "output_type": "stream",
     "text": [
      "Batches: 100%|██████████| 106/106 [00:08<00:00, 12.87it/s]\n"
     ]
    },
    {
     "name": "stdout",
     "output_type": "stream",
     "text": [
      "Processed topic information for NUTS region UKM5 and period 4\n"
     ]
    },
    {
     "name": "stderr",
     "output_type": "stream",
     "text": [
      "Batches: 100%|██████████| 186/186 [00:13<00:00, 14.03it/s]\n"
     ]
    },
    {
     "name": "stdout",
     "output_type": "stream",
     "text": [
      "Processed topic information for NUTS region UKM5 and period 5\n"
     ]
    },
    {
     "name": "stderr",
     "output_type": "stream",
     "text": [
      "Batches: 100%|██████████| 18/18 [00:01<00:00, 12.60it/s]\n"
     ]
    },
    {
     "name": "stdout",
     "output_type": "stream",
     "text": [
      "Processed topic information for NUTS region UKM5 and period 6\n",
      "No valid documents for NUTS region UKM5 and period 7\n"
     ]
    },
    {
     "name": "stderr",
     "output_type": "stream",
     "text": [
      "NUTS regions:  43%|████▎     | 122/281 [3:19:37<2:37:21, 59.38s/it]"
     ]
    },
    {
     "name": "stdout",
     "output_type": "stream",
     "text": [
      "No valid documents for NUTS region UKM5 and period 8\n",
      "No valid documents for NUTS region FR62 and period 1\n",
      "No valid documents for NUTS region FR62 and period 2\n",
      "No valid documents for NUTS region FR62 and period 3\n"
     ]
    },
    {
     "name": "stderr",
     "output_type": "stream",
     "text": [
      "Batches: 100%|██████████| 260/260 [00:19<00:00, 13.55it/s]\n"
     ]
    },
    {
     "name": "stdout",
     "output_type": "stream",
     "text": [
      "Processed topic information for NUTS region FR62 and period 4\n"
     ]
    },
    {
     "name": "stderr",
     "output_type": "stream",
     "text": [
      "Batches: 100%|██████████| 462/462 [00:34<00:00, 13.28it/s]\n"
     ]
    },
    {
     "name": "stdout",
     "output_type": "stream",
     "text": [
      "Processed topic information for NUTS region FR62 and period 5\n"
     ]
    },
    {
     "name": "stderr",
     "output_type": "stream",
     "text": [
      "Batches: 100%|██████████| 39/39 [00:04<00:00,  9.38it/s]\n"
     ]
    },
    {
     "name": "stdout",
     "output_type": "stream",
     "text": [
      "Processed topic information for NUTS region FR62 and period 6\n"
     ]
    },
    {
     "name": "stderr",
     "output_type": "stream",
     "text": [
      "Batches: 100%|██████████| 6/6 [00:00<00:00,  6.20it/s]\n",
      "NUTS regions:  44%|████▍     | 123/281 [3:20:52<2:49:14, 64.27s/it]"
     ]
    },
    {
     "name": "stdout",
     "output_type": "stream",
     "text": [
      "Processed topic information for NUTS region FR62 and period 7\n",
      "No valid documents for NUTS region FR62 and period 8\n",
      "No valid documents for NUTS region CZ01 and period 1\n",
      "No valid documents for NUTS region CZ01 and period 2\n",
      "No valid documents for NUTS region CZ01 and period 3\n"
     ]
    },
    {
     "name": "stderr",
     "output_type": "stream",
     "text": [
      "Batches: 100%|██████████| 230/230 [00:34<00:00,  6.64it/s]\n"
     ]
    },
    {
     "name": "stdout",
     "output_type": "stream",
     "text": [
      "Processed topic information for NUTS region CZ01 and period 4\n"
     ]
    },
    {
     "name": "stderr",
     "output_type": "stream",
     "text": [
      "Batches: 100%|██████████| 472/472 [01:53<00:00,  4.17it/s]\n"
     ]
    },
    {
     "name": "stdout",
     "output_type": "stream",
     "text": [
      "Processed topic information for NUTS region CZ01 and period 5\n"
     ]
    },
    {
     "name": "stderr",
     "output_type": "stream",
     "text": [
      "Batches: 100%|██████████| 46/46 [00:21<00:00,  2.11it/s]\n"
     ]
    },
    {
     "name": "stdout",
     "output_type": "stream",
     "text": [
      "Processed topic information for NUTS region CZ01 and period 6\n"
     ]
    },
    {
     "name": "stderr",
     "output_type": "stream",
     "text": [
      "Batches: 100%|██████████| 6/6 [00:01<00:00,  4.29it/s]\n",
      "NUTS regions:  44%|████▍     | 124/281 [3:24:00<4:25:12, 101.35s/it]"
     ]
    },
    {
     "name": "stdout",
     "output_type": "stream",
     "text": [
      "Processed topic information for NUTS region CZ01 and period 7\n",
      "No valid documents for NUTS region CZ01 and period 8\n",
      "No valid documents for NUTS region ITI4 and period 1\n",
      "No valid documents for NUTS region ITI4 and period 2\n",
      "No valid documents for NUTS region ITI4 and period 3\n"
     ]
    },
    {
     "name": "stderr",
     "output_type": "stream",
     "text": [
      "Batches: 100%|██████████| 546/546 [00:40<00:00, 13.39it/s]\n"
     ]
    },
    {
     "name": "stdout",
     "output_type": "stream",
     "text": [
      "Processed topic information for NUTS region ITI4 and period 4\n"
     ]
    },
    {
     "name": "stderr",
     "output_type": "stream",
     "text": [
      "Batches: 100%|██████████| 1028/1028 [01:19<00:00, 12.99it/s]\n"
     ]
    },
    {
     "name": "stdout",
     "output_type": "stream",
     "text": [
      "Processed topic information for NUTS region ITI4 and period 5\n"
     ]
    },
    {
     "name": "stderr",
     "output_type": "stream",
     "text": [
      "Batches: 100%|██████████| 96/96 [00:07<00:00, 12.81it/s]\n"
     ]
    },
    {
     "name": "stdout",
     "output_type": "stream",
     "text": [
      "Processed topic information for NUTS region ITI4 and period 6\n"
     ]
    },
    {
     "name": "stderr",
     "output_type": "stream",
     "text": [
      "Batches: 100%|██████████| 16/16 [00:01<00:00, 11.87it/s]\n",
      "NUTS regions:  44%|████▍     | 125/281 [3:26:39<5:08:01, 118.47s/it]"
     ]
    },
    {
     "name": "stdout",
     "output_type": "stream",
     "text": [
      "Processed topic information for NUTS region ITI4 and period 7\n",
      "No valid documents for NUTS region ITI4 and period 8\n",
      "No valid documents for NUTS region UKI6 and period 1\n",
      "No valid documents for NUTS region UKI6 and period 2\n",
      "No valid documents for NUTS region UKI6 and period 3\n"
     ]
    },
    {
     "name": "stderr",
     "output_type": "stream",
     "text": [
      "Batches: 100%|██████████| 49/49 [00:07<00:00,  6.58it/s]\n"
     ]
    },
    {
     "name": "stdout",
     "output_type": "stream",
     "text": [
      "Processed topic information for NUTS region UKI6 and period 4\n"
     ]
    },
    {
     "name": "stderr",
     "output_type": "stream",
     "text": [
      "Batches: 100%|██████████| 70/70 [00:13<00:00,  5.04it/s]\n"
     ]
    },
    {
     "name": "stdout",
     "output_type": "stream",
     "text": [
      "Processed topic information for NUTS region UKI6 and period 5\n"
     ]
    },
    {
     "name": "stderr",
     "output_type": "stream",
     "text": [
      "Batches: 100%|██████████| 7/7 [00:02<00:00,  3.29it/s]\n"
     ]
    },
    {
     "name": "stdout",
     "output_type": "stream",
     "text": [
      "Processed topic information for NUTS region UKI6 and period 6\n",
      "No valid documents for NUTS region UKI6 and period 7\n"
     ]
    },
    {
     "name": "stderr",
     "output_type": "stream",
     "text": [
      "NUTS regions:  45%|████▍     | 126/281 [3:27:14<4:01:28, 93.48s/it] "
     ]
    },
    {
     "name": "stdout",
     "output_type": "stream",
     "text": [
      "No valid documents for NUTS region UKI6 and period 8\n",
      "No valid documents for NUTS region ITF4 and period 1\n",
      "No valid documents for NUTS region ITF4 and period 2\n",
      "No valid documents for NUTS region ITF4 and period 3\n"
     ]
    },
    {
     "name": "stderr",
     "output_type": "stream",
     "text": [
      "Batches: 100%|██████████| 131/131 [00:47<00:00,  2.78it/s]\n"
     ]
    },
    {
     "name": "stdout",
     "output_type": "stream",
     "text": [
      "Processed topic information for NUTS region ITF4 and period 4\n"
     ]
    },
    {
     "name": "stderr",
     "output_type": "stream",
     "text": [
      "Batches: 100%|██████████| 289/289 [01:16<00:00,  3.77it/s]\n"
     ]
    },
    {
     "name": "stdout",
     "output_type": "stream",
     "text": [
      "Processed topic information for NUTS region ITF4 and period 5\n"
     ]
    },
    {
     "name": "stderr",
     "output_type": "stream",
     "text": [
      "Batches: 100%|██████████| 30/30 [00:03<00:00,  9.96it/s]\n"
     ]
    },
    {
     "name": "stdout",
     "output_type": "stream",
     "text": [
      "Processed topic information for NUTS region ITF4 and period 6\n"
     ]
    },
    {
     "name": "stderr",
     "output_type": "stream",
     "text": [
      "Batches: 100%|██████████| 4/4 [00:00<00:00,  7.86it/s]\n",
      "NUTS regions:  45%|████▌     | 127/281 [3:29:36<4:37:07, 107.97s/it]"
     ]
    },
    {
     "name": "stdout",
     "output_type": "stream",
     "text": [
      "Processed topic information for NUTS region ITF4 and period 7\n",
      "No valid documents for NUTS region ITF4 and period 8\n",
      "No valid documents for NUTS region FI1B and period 1\n",
      "No valid documents for NUTS region FI1B and period 2\n",
      "No valid documents for NUTS region FI1B and period 3\n"
     ]
    },
    {
     "name": "stderr",
     "output_type": "stream",
     "text": [
      "Batches: 100%|██████████| 319/319 [00:25<00:00, 12.62it/s]\n"
     ]
    },
    {
     "name": "stdout",
     "output_type": "stream",
     "text": [
      "Processed topic information for NUTS region FI1B and period 4\n"
     ]
    },
    {
     "name": "stderr",
     "output_type": "stream",
     "text": [
      "Batches: 100%|██████████| 609/609 [00:48<00:00, 12.53it/s]\n"
     ]
    },
    {
     "name": "stdout",
     "output_type": "stream",
     "text": [
      "Processed topic information for NUTS region FI1B and period 5\n"
     ]
    },
    {
     "name": "stderr",
     "output_type": "stream",
     "text": [
      "Batches: 100%|██████████| 54/54 [00:04<00:00, 12.31it/s]\n"
     ]
    },
    {
     "name": "stdout",
     "output_type": "stream",
     "text": [
      "Processed topic information for NUTS region FI1B and period 6\n"
     ]
    },
    {
     "name": "stderr",
     "output_type": "stream",
     "text": [
      "Batches: 100%|██████████| 9/9 [00:00<00:00, 10.41it/s]\n",
      "NUTS regions:  46%|████▌     | 128/281 [3:31:14<4:27:51, 105.04s/it]"
     ]
    },
    {
     "name": "stdout",
     "output_type": "stream",
     "text": [
      "Processed topic information for NUTS region FI1B and period 7\n",
      "No valid documents for NUTS region FI1B and period 8\n",
      "No valid documents for NUTS region FI19 and period 1\n",
      "No valid documents for NUTS region FI19 and period 2\n",
      "No valid documents for NUTS region FI19 and period 3\n"
     ]
    },
    {
     "name": "stderr",
     "output_type": "stream",
     "text": [
      "Batches: 100%|██████████| 106/106 [00:08<00:00, 12.70it/s]\n"
     ]
    },
    {
     "name": "stdout",
     "output_type": "stream",
     "text": [
      "Processed topic information for NUTS region FI19 and period 4\n"
     ]
    },
    {
     "name": "stderr",
     "output_type": "stream",
     "text": [
      "Batches: 100%|██████████| 213/213 [00:16<00:00, 13.04it/s]\n"
     ]
    },
    {
     "name": "stdout",
     "output_type": "stream",
     "text": [
      "Processed topic information for NUTS region FI19 and period 5\n"
     ]
    },
    {
     "name": "stderr",
     "output_type": "stream",
     "text": [
      "Batches: 100%|██████████| 20/20 [00:01<00:00, 10.63it/s]\n"
     ]
    },
    {
     "name": "stdout",
     "output_type": "stream",
     "text": [
      "Processed topic information for NUTS region FI19 and period 6\n"
     ]
    },
    {
     "name": "stderr",
     "output_type": "stream",
     "text": [
      "Batches: 100%|██████████| 5/5 [00:00<00:00,  7.95it/s]\n",
      "NUTS regions:  46%|████▌     | 129/281 [3:31:58<3:39:48, 86.77s/it] "
     ]
    },
    {
     "name": "stdout",
     "output_type": "stream",
     "text": [
      "Processed topic information for NUTS region FI19 and period 7\n",
      "No valid documents for NUTS region FI19 and period 8\n",
      "No valid documents for NUTS region FR22 and period 1\n",
      "No valid documents for NUTS region FR22 and period 2\n",
      "No valid documents for NUTS region FR22 and period 3\n"
     ]
    },
    {
     "name": "stderr",
     "output_type": "stream",
     "text": [
      "Batches: 100%|██████████| 51/51 [00:03<00:00, 13.70it/s]\n"
     ]
    },
    {
     "name": "stdout",
     "output_type": "stream",
     "text": [
      "Processed topic information for NUTS region FR22 and period 4\n"
     ]
    },
    {
     "name": "stderr",
     "output_type": "stream",
     "text": [
      "Batches: 100%|██████████| 94/94 [00:07<00:00, 12.91it/s]\n"
     ]
    },
    {
     "name": "stdout",
     "output_type": "stream",
     "text": [
      "Processed topic information for NUTS region FR22 and period 5\n"
     ]
    },
    {
     "name": "stderr",
     "output_type": "stream",
     "text": [
      "Batches: 100%|██████████| 8/8 [00:00<00:00,  8.65it/s]\n"
     ]
    },
    {
     "name": "stdout",
     "output_type": "stream",
     "text": [
      "Processed topic information for NUTS region FR22 and period 6\n",
      "No valid documents for NUTS region FR22 and period 7\n"
     ]
    },
    {
     "name": "stderr",
     "output_type": "stream",
     "text": [
      "NUTS regions:  46%|████▋     | 130/281 [3:32:23<2:51:52, 68.30s/it]"
     ]
    },
    {
     "name": "stdout",
     "output_type": "stream",
     "text": [
      "No valid documents for NUTS region FR22 and period 8\n",
      "No valid documents for NUTS region UKK2 and period 1\n",
      "No valid documents for NUTS region UKK2 and period 2\n",
      "No valid documents for NUTS region UKK2 and period 3\n"
     ]
    },
    {
     "name": "stderr",
     "output_type": "stream",
     "text": [
      "Batches: 100%|██████████| 19/19 [00:01<00:00, 12.00it/s]\n"
     ]
    },
    {
     "name": "stdout",
     "output_type": "stream",
     "text": [
      "Processed topic information for NUTS region UKK2 and period 4\n"
     ]
    },
    {
     "name": "stderr",
     "output_type": "stream",
     "text": [
      "Batches: 100%|██████████| 36/36 [00:02<00:00, 12.20it/s]\n"
     ]
    },
    {
     "name": "stdout",
     "output_type": "stream",
     "text": [
      "Processed topic information for NUTS region UKK2 and period 5\n"
     ]
    },
    {
     "name": "stderr",
     "output_type": "stream",
     "text": [
      "Batches: 100%|██████████| 4/4 [00:00<00:00,  8.16it/s]\n"
     ]
    },
    {
     "name": "stdout",
     "output_type": "stream",
     "text": [
      "Processed topic information for NUTS region UKK2 and period 6\n",
      "No valid documents for NUTS region UKK2 and period 7\n"
     ]
    },
    {
     "name": "stderr",
     "output_type": "stream",
     "text": [
      "NUTS regions:  47%|████▋     | 131/281 [3:32:38<2:10:19, 52.13s/it]"
     ]
    },
    {
     "name": "stdout",
     "output_type": "stream",
     "text": [
      "No valid documents for NUTS region UKK2 and period 8\n",
      "No valid documents for NUTS region UKJ4 and period 1\n",
      "No valid documents for NUTS region UKJ4 and period 2\n",
      "No valid documents for NUTS region UKJ4 and period 3\n"
     ]
    },
    {
     "name": "stderr",
     "output_type": "stream",
     "text": [
      "Batches: 100%|██████████| 80/80 [00:06<00:00, 12.69it/s]\n"
     ]
    },
    {
     "name": "stdout",
     "output_type": "stream",
     "text": [
      "Processed topic information for NUTS region UKJ4 and period 4\n"
     ]
    },
    {
     "name": "stderr",
     "output_type": "stream",
     "text": [
      "Batches: 100%|██████████| 136/136 [00:11<00:00, 12.34it/s]\n"
     ]
    },
    {
     "name": "stdout",
     "output_type": "stream",
     "text": [
      "Processed topic information for NUTS region UKJ4 and period 5\n"
     ]
    },
    {
     "name": "stderr",
     "output_type": "stream",
     "text": [
      "Batches: 100%|██████████| 12/12 [00:01<00:00, 11.21it/s]\n"
     ]
    },
    {
     "name": "stdout",
     "output_type": "stream",
     "text": [
      "Processed topic information for NUTS region UKJ4 and period 6\n"
     ]
    },
    {
     "name": "stderr",
     "output_type": "stream",
     "text": [
      "Batches: 100%|██████████| 4/4 [00:00<00:00,  8.40it/s]\n",
      "NUTS regions:  47%|████▋     | 132/281 [3:33:11<1:55:28, 46.50s/it]"
     ]
    },
    {
     "name": "stdout",
     "output_type": "stream",
     "text": [
      "Processed topic information for NUTS region UKJ4 and period 7\n",
      "No valid documents for NUTS region UKJ4 and period 8\n",
      "No valid documents for NUTS region PL51 and period 1\n",
      "No valid documents for NUTS region PL51 and period 2\n",
      "No valid documents for NUTS region PL51 and period 3\n"
     ]
    },
    {
     "name": "stderr",
     "output_type": "stream",
     "text": [
      "Batches: 100%|██████████| 117/117 [00:16<00:00,  6.91it/s]\n"
     ]
    },
    {
     "name": "stdout",
     "output_type": "stream",
     "text": [
      "Processed topic information for NUTS region PL51 and period 4\n"
     ]
    },
    {
     "name": "stderr",
     "output_type": "stream",
     "text": [
      "Batches: 100%|██████████| 249/249 [00:41<00:00,  6.03it/s]\n"
     ]
    },
    {
     "name": "stdout",
     "output_type": "stream",
     "text": [
      "Processed topic information for NUTS region PL51 and period 5\n"
     ]
    },
    {
     "name": "stderr",
     "output_type": "stream",
     "text": [
      "Batches: 100%|██████████| 22/22 [00:06<00:00,  3.56it/s]\n"
     ]
    },
    {
     "name": "stdout",
     "output_type": "stream",
     "text": [
      "Processed topic information for NUTS region PL51 and period 6\n",
      "No valid documents for NUTS region PL51 and period 7\n"
     ]
    },
    {
     "name": "stderr",
     "output_type": "stream",
     "text": [
      "NUTS regions:  47%|████▋     | 133/281 [3:34:32<2:20:02, 56.77s/it]"
     ]
    },
    {
     "name": "stdout",
     "output_type": "stream",
     "text": [
      "No valid documents for NUTS region PL51 and period 8\n",
      "No valid documents for NUTS region UKH2 and period 1\n",
      "No valid documents for NUTS region UKH2 and period 2\n",
      "No valid documents for NUTS region UKH2 and period 3\n"
     ]
    },
    {
     "name": "stderr",
     "output_type": "stream",
     "text": [
      "Batches: 100%|██████████| 136/136 [00:53<00:00,  2.52it/s]\n"
     ]
    },
    {
     "name": "stdout",
     "output_type": "stream",
     "text": [
      "Processed topic information for NUTS region UKH2 and period 4\n"
     ]
    },
    {
     "name": "stderr",
     "output_type": "stream",
     "text": [
      "Batches: 100%|██████████| 225/225 [00:51<00:00,  4.40it/s]\n"
     ]
    },
    {
     "name": "stdout",
     "output_type": "stream",
     "text": [
      "Processed topic information for NUTS region UKH2 and period 5\n"
     ]
    },
    {
     "name": "stderr",
     "output_type": "stream",
     "text": [
      "Batches: 100%|██████████| 17/17 [00:01<00:00, 10.83it/s]\n"
     ]
    },
    {
     "name": "stdout",
     "output_type": "stream",
     "text": [
      "Processed topic information for NUTS region UKH2 and period 6\n",
      "No valid documents for NUTS region UKH2 and period 7\n"
     ]
    },
    {
     "name": "stderr",
     "output_type": "stream",
     "text": [
      "NUTS regions:  48%|████▊     | 134/281 [3:36:30<3:04:21, 75.25s/it]"
     ]
    },
    {
     "name": "stdout",
     "output_type": "stream",
     "text": [
      "No valid documents for NUTS region UKH2 and period 8\n",
      "No valid documents for NUTS region BG33 and period 1\n",
      "No valid documents for NUTS region BG33 and period 2\n",
      "No valid documents for NUTS region BG33 and period 3\n"
     ]
    },
    {
     "name": "stderr",
     "output_type": "stream",
     "text": [
      "Batches: 100%|██████████| 4/4 [00:00<00:00,  8.41it/s]\n"
     ]
    },
    {
     "name": "stdout",
     "output_type": "stream",
     "text": [
      "Processed topic information for NUTS region BG33 and period 4\n"
     ]
    },
    {
     "name": "stderr",
     "output_type": "stream",
     "text": [
      "Batches: 100%|██████████| 7/7 [00:00<00:00, 11.85it/s]\n"
     ]
    },
    {
     "name": "stdout",
     "output_type": "stream",
     "text": [
      "Processed topic information for NUTS region BG33 and period 5\n",
      "No valid documents for NUTS region BG33 and period 6\n"
     ]
    },
    {
     "name": "stderr",
     "output_type": "stream",
     "text": [
      "NUTS regions:  48%|████▊     | 135/281 [3:36:37<2:13:32, 54.88s/it]"
     ]
    },
    {
     "name": "stdout",
     "output_type": "stream",
     "text": [
      "No valid documents for NUTS region BG33 and period 7\n",
      "No valid documents for NUTS region BG33 and period 8\n",
      "No valid documents for NUTS region RO32 and period 1\n",
      "No valid documents for NUTS region RO32 and period 2\n",
      "No valid documents for NUTS region RO32 and period 3\n"
     ]
    },
    {
     "name": "stderr",
     "output_type": "stream",
     "text": [
      "Batches: 100%|██████████| 101/101 [00:06<00:00, 15.71it/s]\n"
     ]
    },
    {
     "name": "stdout",
     "output_type": "stream",
     "text": [
      "Processed topic information for NUTS region RO32 and period 4\n"
     ]
    },
    {
     "name": "stderr",
     "output_type": "stream",
     "text": [
      "Batches: 100%|██████████| 179/179 [00:11<00:00, 15.24it/s]\n"
     ]
    },
    {
     "name": "stdout",
     "output_type": "stream",
     "text": [
      "Processed topic information for NUTS region RO32 and period 5\n"
     ]
    },
    {
     "name": "stderr",
     "output_type": "stream",
     "text": [
      "Batches: 100%|██████████| 20/20 [00:01<00:00, 14.21it/s]\n"
     ]
    },
    {
     "name": "stdout",
     "output_type": "stream",
     "text": [
      "Processed topic information for NUTS region RO32 and period 6\n",
      "No valid documents for NUTS region RO32 and period 7\n"
     ]
    },
    {
     "name": "stderr",
     "output_type": "stream",
     "text": [
      "NUTS regions:  48%|████▊     | 136/281 [3:37:11<1:57:12, 48.50s/it]"
     ]
    },
    {
     "name": "stdout",
     "output_type": "stream",
     "text": [
      "No valid documents for NUTS region RO32 and period 8\n",
      "No valid documents for NUTS region ITH2 and period 1\n",
      "No valid documents for NUTS region ITH2 and period 2\n",
      "No valid documents for NUTS region ITH2 and period 3\n"
     ]
    },
    {
     "name": "stderr",
     "output_type": "stream",
     "text": [
      "Batches: 100%|██████████| 33/33 [00:02<00:00, 14.31it/s]\n"
     ]
    },
    {
     "name": "stdout",
     "output_type": "stream",
     "text": [
      "Processed topic information for NUTS region ITH2 and period 4\n"
     ]
    },
    {
     "name": "stderr",
     "output_type": "stream",
     "text": [
      "Batches: 100%|██████████| 76/76 [00:05<00:00, 14.06it/s]\n"
     ]
    },
    {
     "name": "stdout",
     "output_type": "stream",
     "text": [
      "Processed topic information for NUTS region ITH2 and period 5\n"
     ]
    },
    {
     "name": "stderr",
     "output_type": "stream",
     "text": [
      "Batches: 100%|██████████| 8/8 [00:00<00:00, 10.50it/s]\n"
     ]
    },
    {
     "name": "stdout",
     "output_type": "stream",
     "text": [
      "Processed topic information for NUTS region ITH2 and period 6\n",
      "No valid documents for NUTS region ITH2 and period 7\n"
     ]
    },
    {
     "name": "stderr",
     "output_type": "stream",
     "text": [
      "NUTS regions:  49%|████▉     | 137/281 [3:37:31<1:35:31, 39.80s/it]"
     ]
    },
    {
     "name": "stdout",
     "output_type": "stream",
     "text": [
      "No valid documents for NUTS region ITH2 and period 8\n",
      "No valid documents for NUTS region UKH3 and period 1\n",
      "No valid documents for NUTS region UKH3 and period 2\n",
      "No valid documents for NUTS region UKH3 and period 3\n"
     ]
    },
    {
     "name": "stderr",
     "output_type": "stream",
     "text": [
      "Batches: 100%|██████████| 55/55 [00:04<00:00, 13.03it/s]\n"
     ]
    },
    {
     "name": "stdout",
     "output_type": "stream",
     "text": [
      "Processed topic information for NUTS region UKH3 and period 4\n"
     ]
    },
    {
     "name": "stderr",
     "output_type": "stream",
     "text": [
      "Batches: 100%|██████████| 90/90 [00:06<00:00, 12.99it/s]\n"
     ]
    },
    {
     "name": "stdout",
     "output_type": "stream",
     "text": [
      "Processed topic information for NUTS region UKH3 and period 5\n"
     ]
    },
    {
     "name": "stderr",
     "output_type": "stream",
     "text": [
      "Batches: 100%|██████████| 8/8 [00:00<00:00,  9.07it/s]\n"
     ]
    },
    {
     "name": "stdout",
     "output_type": "stream",
     "text": [
      "Processed topic information for NUTS region UKH3 and period 6\n",
      "No valid documents for NUTS region UKH3 and period 7\n"
     ]
    },
    {
     "name": "stderr",
     "output_type": "stream",
     "text": [
      "NUTS regions:  49%|████▉     | 138/281 [3:37:56<1:24:39, 35.52s/it]"
     ]
    },
    {
     "name": "stdout",
     "output_type": "stream",
     "text": [
      "No valid documents for NUTS region UKH3 and period 8\n",
      "No valid documents for NUTS region SE33 and period 1\n",
      "No valid documents for NUTS region SE33 and period 2\n",
      "No valid documents for NUTS region SE33 and period 3\n"
     ]
    },
    {
     "name": "stderr",
     "output_type": "stream",
     "text": [
      "Batches: 100%|██████████| 114/114 [00:09<00:00, 12.54it/s]\n"
     ]
    },
    {
     "name": "stdout",
     "output_type": "stream",
     "text": [
      "Processed topic information for NUTS region SE33 and period 4\n"
     ]
    },
    {
     "name": "stderr",
     "output_type": "stream",
     "text": [
      "Batches: 100%|██████████| 207/207 [00:17<00:00, 11.96it/s]\n"
     ]
    },
    {
     "name": "stdout",
     "output_type": "stream",
     "text": [
      "Processed topic information for NUTS region SE33 and period 5\n"
     ]
    },
    {
     "name": "stderr",
     "output_type": "stream",
     "text": [
      "Batches: 100%|██████████| 19/19 [00:01<00:00, 10.78it/s]\n"
     ]
    },
    {
     "name": "stdout",
     "output_type": "stream",
     "text": [
      "Processed topic information for NUTS region SE33 and period 6\n"
     ]
    },
    {
     "name": "stderr",
     "output_type": "stream",
     "text": [
      "Batches: 100%|██████████| 4/4 [00:00<00:00,  8.37it/s]\n",
      "NUTS regions:  49%|████▉     | 139/281 [3:38:42<1:31:24, 38.62s/it]"
     ]
    },
    {
     "name": "stdout",
     "output_type": "stream",
     "text": [
      "Processed topic information for NUTS region SE33 and period 7\n",
      "No valid documents for NUTS region SE33 and period 8\n",
      "No valid documents for NUTS region ES13 and period 1\n",
      "No valid documents for NUTS region ES13 and period 2\n",
      "No valid documents for NUTS region ES13 and period 3\n"
     ]
    },
    {
     "name": "stderr",
     "output_type": "stream",
     "text": [
      "Batches: 100%|██████████| 33/33 [00:02<00:00, 12.57it/s]\n"
     ]
    },
    {
     "name": "stdout",
     "output_type": "stream",
     "text": [
      "Processed topic information for NUTS region ES13 and period 4\n"
     ]
    },
    {
     "name": "stderr",
     "output_type": "stream",
     "text": [
      "Batches: 100%|██████████| 57/57 [00:04<00:00, 12.73it/s]\n"
     ]
    },
    {
     "name": "stdout",
     "output_type": "stream",
     "text": [
      "Processed topic information for NUTS region ES13 and period 5\n"
     ]
    },
    {
     "name": "stderr",
     "output_type": "stream",
     "text": [
      "Batches: 100%|██████████| 6/6 [00:00<00:00,  9.74it/s]\n"
     ]
    },
    {
     "name": "stdout",
     "output_type": "stream",
     "text": [
      "Processed topic information for NUTS region ES13 and period 6\n",
      "No valid documents for NUTS region ES13 and period 7\n"
     ]
    },
    {
     "name": "stderr",
     "output_type": "stream",
     "text": [
      "NUTS regions:  50%|████▉     | 140/281 [3:39:00<1:16:04, 32.37s/it]"
     ]
    },
    {
     "name": "stdout",
     "output_type": "stream",
     "text": [
      "No valid documents for NUTS region ES13 and period 8\n",
      "No valid documents for NUTS region SE21 and period 1\n",
      "No valid documents for NUTS region SE21 and period 2\n",
      "No valid documents for NUTS region SE21 and period 3\n"
     ]
    },
    {
     "name": "stderr",
     "output_type": "stream",
     "text": [
      "Batches: 100%|██████████| 16/16 [00:01<00:00, 11.38it/s]\n"
     ]
    },
    {
     "name": "stdout",
     "output_type": "stream",
     "text": [
      "Processed topic information for NUTS region SE21 and period 4\n"
     ]
    },
    {
     "name": "stderr",
     "output_type": "stream",
     "text": [
      "Batches: 100%|██████████| 37/37 [00:03<00:00, 11.64it/s]\n"
     ]
    },
    {
     "name": "stdout",
     "output_type": "stream",
     "text": [
      "Processed topic information for NUTS region SE21 and period 5\n"
     ]
    },
    {
     "name": "stderr",
     "output_type": "stream",
     "text": [
      "Batches: 100%|██████████| 4/4 [00:00<00:00,  8.35it/s]\n"
     ]
    },
    {
     "name": "stdout",
     "output_type": "stream",
     "text": [
      "Processed topic information for NUTS region SE21 and period 6\n",
      "No valid documents for NUTS region SE21 and period 7\n"
     ]
    },
    {
     "name": "stderr",
     "output_type": "stream",
     "text": [
      "NUTS regions:  50%|█████     | 141/281 [3:39:14<1:02:34, 26.82s/it]"
     ]
    },
    {
     "name": "stdout",
     "output_type": "stream",
     "text": [
      "No valid documents for NUTS region SE21 and period 8\n",
      "No valid documents for NUTS region SK01 and period 1\n",
      "No valid documents for NUTS region SK01 and period 2\n",
      "No valid documents for NUTS region SK01 and period 3\n"
     ]
    },
    {
     "name": "stderr",
     "output_type": "stream",
     "text": [
      "Batches: 100%|██████████| 114/114 [00:08<00:00, 13.99it/s]\n"
     ]
    },
    {
     "name": "stdout",
     "output_type": "stream",
     "text": [
      "Processed topic information for NUTS region SK01 and period 4\n"
     ]
    },
    {
     "name": "stderr",
     "output_type": "stream",
     "text": [
      "Batches: 100%|██████████| 184/184 [00:13<00:00, 14.15it/s]\n"
     ]
    },
    {
     "name": "stdout",
     "output_type": "stream",
     "text": [
      "Processed topic information for NUTS region SK01 and period 5\n"
     ]
    },
    {
     "name": "stderr",
     "output_type": "stream",
     "text": [
      "Batches: 100%|██████████| 15/15 [00:01<00:00, 10.67it/s]\n"
     ]
    },
    {
     "name": "stdout",
     "output_type": "stream",
     "text": [
      "Processed topic information for NUTS region SK01 and period 6\n",
      "No valid documents for NUTS region SK01 and period 7\n"
     ]
    },
    {
     "name": "stderr",
     "output_type": "stream",
     "text": [
      "NUTS regions:  51%|█████     | 142/281 [3:39:52<1:10:00, 30.22s/it]"
     ]
    },
    {
     "name": "stdout",
     "output_type": "stream",
     "text": [
      "No valid documents for NUTS region SK01 and period 8\n",
      "No valid documents for NUTS region ES41 and period 1\n",
      "No valid documents for NUTS region ES41 and period 2\n",
      "No valid documents for NUTS region ES41 and period 3\n"
     ]
    },
    {
     "name": "stderr",
     "output_type": "stream",
     "text": [
      "Batches: 100%|██████████| 89/89 [00:06<00:00, 13.91it/s]\n"
     ]
    },
    {
     "name": "stdout",
     "output_type": "stream",
     "text": [
      "Processed topic information for NUTS region ES41 and period 4\n"
     ]
    },
    {
     "name": "stderr",
     "output_type": "stream",
     "text": [
      "Batches: 100%|██████████| 187/187 [00:13<00:00, 13.39it/s]\n"
     ]
    },
    {
     "name": "stdout",
     "output_type": "stream",
     "text": [
      "Processed topic information for NUTS region ES41 and period 5\n"
     ]
    },
    {
     "name": "stderr",
     "output_type": "stream",
     "text": [
      "Batches: 100%|██████████| 19/19 [00:01<00:00, 10.33it/s]\n"
     ]
    },
    {
     "name": "stdout",
     "output_type": "stream",
     "text": [
      "Processed topic information for NUTS region ES41 and period 6\n",
      "No valid documents for NUTS region ES41 and period 7\n"
     ]
    },
    {
     "name": "stderr",
     "output_type": "stream",
     "text": [
      "NUTS regions:  51%|█████     | 143/281 [3:40:29<1:14:02, 32.19s/it]"
     ]
    },
    {
     "name": "stdout",
     "output_type": "stream",
     "text": [
      "No valid documents for NUTS region ES41 and period 8\n",
      "No valid documents for NUTS region ES11 and period 1\n",
      "No valid documents for NUTS region ES11 and period 2\n",
      "No valid documents for NUTS region ES11 and period 3\n"
     ]
    },
    {
     "name": "stderr",
     "output_type": "stream",
     "text": [
      "Batches: 100%|██████████| 125/125 [00:09<00:00, 13.55it/s]\n"
     ]
    },
    {
     "name": "stdout",
     "output_type": "stream",
     "text": [
      "Processed topic information for NUTS region ES11 and period 4\n"
     ]
    },
    {
     "name": "stderr",
     "output_type": "stream",
     "text": [
      "Batches: 100%|██████████| 271/271 [00:21<00:00, 12.53it/s]\n"
     ]
    },
    {
     "name": "stdout",
     "output_type": "stream",
     "text": [
      "Processed topic information for NUTS region ES11 and period 5\n"
     ]
    },
    {
     "name": "stderr",
     "output_type": "stream",
     "text": [
      "Batches: 100%|██████████| 26/26 [00:02<00:00, 10.92it/s]\n"
     ]
    },
    {
     "name": "stdout",
     "output_type": "stream",
     "text": [
      "Processed topic information for NUTS region ES11 and period 6\n"
     ]
    },
    {
     "name": "stderr",
     "output_type": "stream",
     "text": [
      "Batches: 100%|██████████| 4/4 [00:00<00:00,  7.21it/s]\n",
      "NUTS regions:  51%|█████     | 144/281 [3:41:21<1:27:38, 38.38s/it]"
     ]
    },
    {
     "name": "stdout",
     "output_type": "stream",
     "text": [
      "Processed topic information for NUTS region ES11 and period 7\n",
      "No valid documents for NUTS region ES11 and period 8\n",
      "No valid documents for NUTS region PL33 and period 1\n",
      "No valid documents for NUTS region PL33 and period 2\n",
      "No valid documents for NUTS region PL33 and period 3\n"
     ]
    },
    {
     "name": "stderr",
     "output_type": "stream",
     "text": [
      "Batches: 100%|██████████| 7/7 [00:01<00:00,  6.80it/s]\n"
     ]
    },
    {
     "name": "stdout",
     "output_type": "stream",
     "text": [
      "Processed topic information for NUTS region PL33 and period 4\n"
     ]
    },
    {
     "name": "stderr",
     "output_type": "stream",
     "text": [
      "Batches: 100%|██████████| 15/15 [00:02<00:00,  5.33it/s]\n"
     ]
    },
    {
     "name": "stdout",
     "output_type": "stream",
     "text": [
      "Processed topic information for NUTS region PL33 and period 5\n",
      "No valid documents for NUTS region PL33 and period 6\n"
     ]
    },
    {
     "name": "stderr",
     "output_type": "stream",
     "text": [
      "NUTS regions:  52%|█████▏    | 145/281 [3:41:32<1:08:10, 30.08s/it]"
     ]
    },
    {
     "name": "stdout",
     "output_type": "stream",
     "text": [
      "No valid documents for NUTS region PL33 and period 7\n",
      "No valid documents for NUTS region PL33 and period 8\n",
      "No valid documents for NUTS region EL63 and period 1\n",
      "No valid documents for NUTS region EL63 and period 2\n",
      "No valid documents for NUTS region EL63 and period 3\n"
     ]
    },
    {
     "name": "stderr",
     "output_type": "stream",
     "text": [
      "Batches: 100%|██████████| 46/46 [00:13<00:00,  3.36it/s]\n"
     ]
    },
    {
     "name": "stdout",
     "output_type": "stream",
     "text": [
      "Processed topic information for NUTS region EL63 and period 4\n"
     ]
    },
    {
     "name": "stderr",
     "output_type": "stream",
     "text": [
      "Batches: 100%|██████████| 104/104 [00:52<00:00,  2.00it/s]\n"
     ]
    },
    {
     "name": "stdout",
     "output_type": "stream",
     "text": [
      "Processed topic information for NUTS region EL63 and period 5\n"
     ]
    },
    {
     "name": "stderr",
     "output_type": "stream",
     "text": [
      "Batches: 100%|██████████| 12/12 [00:01<00:00,  6.93it/s]\n"
     ]
    },
    {
     "name": "stdout",
     "output_type": "stream",
     "text": [
      "Processed topic information for NUTS region EL63 and period 6\n",
      "No valid documents for NUTS region EL63 and period 7\n"
     ]
    },
    {
     "name": "stderr",
     "output_type": "stream",
     "text": [
      "NUTS regions:  52%|█████▏    | 146/281 [3:42:53<1:42:17, 45.46s/it]"
     ]
    },
    {
     "name": "stdout",
     "output_type": "stream",
     "text": [
      "No valid documents for NUTS region EL63 and period 8\n",
      "No valid documents for NUTS region EL30 and period 1\n",
      "No valid documents for NUTS region EL30 and period 2\n",
      "No valid documents for NUTS region EL30 and period 3\n"
     ]
    },
    {
     "name": "stderr",
     "output_type": "stream",
     "text": [
      "Batches: 100%|██████████| 223/223 [00:17<00:00, 13.09it/s]\n"
     ]
    },
    {
     "name": "stdout",
     "output_type": "stream",
     "text": [
      "Processed topic information for NUTS region EL30 and period 4\n"
     ]
    },
    {
     "name": "stderr",
     "output_type": "stream",
     "text": [
      "Batches: 100%|██████████| 494/494 [00:39<00:00, 12.62it/s]\n"
     ]
    },
    {
     "name": "stdout",
     "output_type": "stream",
     "text": [
      "Processed topic information for NUTS region EL30 and period 5\n"
     ]
    },
    {
     "name": "stderr",
     "output_type": "stream",
     "text": [
      "Batches: 100%|██████████| 53/53 [00:04<00:00, 11.49it/s]\n"
     ]
    },
    {
     "name": "stdout",
     "output_type": "stream",
     "text": [
      "Processed topic information for NUTS region EL30 and period 6\n"
     ]
    },
    {
     "name": "stderr",
     "output_type": "stream",
     "text": [
      "Batches: 100%|██████████| 9/9 [00:00<00:00,  9.09it/s]\n",
      "NUTS regions:  52%|█████▏    | 147/281 [3:44:13<2:04:10, 55.60s/it]"
     ]
    },
    {
     "name": "stdout",
     "output_type": "stream",
     "text": [
      "Processed topic information for NUTS region EL30 and period 7\n",
      "No valid documents for NUTS region EL30 and period 8\n",
      "No valid documents for NUTS region NO05 and period 1\n",
      "No valid documents for NUTS region NO05 and period 2\n",
      "No valid documents for NUTS region NO05 and period 3\n"
     ]
    },
    {
     "name": "stderr",
     "output_type": "stream",
     "text": [
      "Batches: 100%|██████████| 86/86 [00:07<00:00, 11.59it/s]\n"
     ]
    },
    {
     "name": "stdout",
     "output_type": "stream",
     "text": [
      "Processed topic information for NUTS region NO05 and period 4\n"
     ]
    },
    {
     "name": "stderr",
     "output_type": "stream",
     "text": [
      "Batches: 100%|██████████| 170/170 [00:15<00:00, 11.21it/s]\n"
     ]
    },
    {
     "name": "stdout",
     "output_type": "stream",
     "text": [
      "Processed topic information for NUTS region NO05 and period 5\n"
     ]
    },
    {
     "name": "stderr",
     "output_type": "stream",
     "text": [
      "Batches: 100%|██████████| 18/18 [00:01<00:00, 10.48it/s]\n"
     ]
    },
    {
     "name": "stdout",
     "output_type": "stream",
     "text": [
      "Processed topic information for NUTS region NO05 and period 6\n"
     ]
    },
    {
     "name": "stderr",
     "output_type": "stream",
     "text": [
      "Batches: 100%|██████████| 4/4 [00:00<00:00,  7.83it/s]\n",
      "NUTS regions:  53%|█████▎    | 148/281 [3:44:53<1:53:11, 51.06s/it]"
     ]
    },
    {
     "name": "stdout",
     "output_type": "stream",
     "text": [
      "Processed topic information for NUTS region NO05 and period 7\n",
      "No valid documents for NUTS region NO05 and period 8\n",
      "No valid documents for NUTS region ITF3 and period 1\n",
      "No valid documents for NUTS region ITF3 and period 2\n",
      "No valid documents for NUTS region ITF3 and period 3\n"
     ]
    },
    {
     "name": "stderr",
     "output_type": "stream",
     "text": [
      "Batches: 100%|██████████| 247/247 [00:18<00:00, 13.00it/s]\n"
     ]
    },
    {
     "name": "stdout",
     "output_type": "stream",
     "text": [
      "Processed topic information for NUTS region ITF3 and period 4\n"
     ]
    },
    {
     "name": "stderr",
     "output_type": "stream",
     "text": [
      "Batches: 100%|██████████| 514/514 [00:41<00:00, 12.53it/s]\n"
     ]
    },
    {
     "name": "stdout",
     "output_type": "stream",
     "text": [
      "Processed topic information for NUTS region ITF3 and period 5\n"
     ]
    },
    {
     "name": "stderr",
     "output_type": "stream",
     "text": [
      "Batches: 100%|██████████| 53/53 [00:04<00:00, 11.64it/s]\n"
     ]
    },
    {
     "name": "stdout",
     "output_type": "stream",
     "text": [
      "Processed topic information for NUTS region ITF3 and period 6\n"
     ]
    },
    {
     "name": "stderr",
     "output_type": "stream",
     "text": [
      "Batches: 100%|██████████| 9/9 [00:00<00:00,  9.25it/s]\n",
      "NUTS regions:  53%|█████▎    | 149/281 [3:46:19<2:15:04, 61.40s/it]"
     ]
    },
    {
     "name": "stdout",
     "output_type": "stream",
     "text": [
      "Processed topic information for NUTS region ITF3 and period 7\n",
      "No valid documents for NUTS region ITF3 and period 8\n",
      "No valid documents for NUTS region ITI3 and period 1\n",
      "No valid documents for NUTS region ITI3 and period 2\n",
      "No valid documents for NUTS region ITI3 and period 3\n"
     ]
    },
    {
     "name": "stderr",
     "output_type": "stream",
     "text": [
      "Batches: 100%|██████████| 77/77 [00:06<00:00, 12.22it/s]\n"
     ]
    },
    {
     "name": "stdout",
     "output_type": "stream",
     "text": [
      "Processed topic information for NUTS region ITI3 and period 4\n"
     ]
    },
    {
     "name": "stderr",
     "output_type": "stream",
     "text": [
      "Batches: 100%|██████████| 148/148 [00:11<00:00, 12.68it/s]\n"
     ]
    },
    {
     "name": "stdout",
     "output_type": "stream",
     "text": [
      "Processed topic information for NUTS region ITI3 and period 5\n"
     ]
    },
    {
     "name": "stderr",
     "output_type": "stream",
     "text": [
      "Batches: 100%|██████████| 14/14 [00:01<00:00, 10.79it/s]\n"
     ]
    },
    {
     "name": "stdout",
     "output_type": "stream",
     "text": [
      "Processed topic information for NUTS region ITI3 and period 6\n",
      "No valid documents for NUTS region ITI3 and period 7\n"
     ]
    },
    {
     "name": "stderr",
     "output_type": "stream",
     "text": [
      "NUTS regions:  53%|█████▎    | 150/281 [3:46:50<1:54:32, 52.46s/it]"
     ]
    },
    {
     "name": "stdout",
     "output_type": "stream",
     "text": [
      "No valid documents for NUTS region ITI3 and period 8\n",
      "No valid documents for NUTS region EL61 and period 1\n",
      "No valid documents for NUTS region EL61 and period 2\n",
      "No valid documents for NUTS region EL61 and period 3\n"
     ]
    },
    {
     "name": "stderr",
     "output_type": "stream",
     "text": [
      "Batches: 100%|██████████| 8/8 [00:00<00:00, 10.84it/s]\n"
     ]
    },
    {
     "name": "stdout",
     "output_type": "stream",
     "text": [
      "Processed topic information for NUTS region EL61 and period 4\n"
     ]
    },
    {
     "name": "stderr",
     "output_type": "stream",
     "text": [
      "Batches: 100%|██████████| 31/31 [00:02<00:00, 11.45it/s]\n"
     ]
    },
    {
     "name": "stdout",
     "output_type": "stream",
     "text": [
      "Processed topic information for NUTS region EL61 and period 5\n"
     ]
    },
    {
     "name": "stderr",
     "output_type": "stream",
     "text": [
      "Batches: 100%|██████████| 5/5 [00:00<00:00,  8.42it/s]\n"
     ]
    },
    {
     "name": "stdout",
     "output_type": "stream",
     "text": [
      "Processed topic information for NUTS region EL61 and period 6\n",
      "No valid documents for NUTS region EL61 and period 7\n"
     ]
    },
    {
     "name": "stderr",
     "output_type": "stream",
     "text": [
      "NUTS regions:  54%|█████▎    | 151/281 [3:47:03<1:27:42, 40.48s/it]"
     ]
    },
    {
     "name": "stdout",
     "output_type": "stream",
     "text": [
      "No valid documents for NUTS region EL61 and period 8\n",
      "No valid documents for NUTS region DE92 and period 1\n",
      "No valid documents for NUTS region DE92 and period 2\n",
      "No valid documents for NUTS region DE92 and period 3\n"
     ]
    },
    {
     "name": "stderr",
     "output_type": "stream",
     "text": [
      "Batches: 100%|██████████| 200/200 [00:15<00:00, 12.63it/s]\n"
     ]
    },
    {
     "name": "stdout",
     "output_type": "stream",
     "text": [
      "Processed topic information for NUTS region DE92 and period 4\n"
     ]
    },
    {
     "name": "stderr",
     "output_type": "stream",
     "text": [
      "Batches: 100%|██████████| 308/308 [00:25<00:00, 11.88it/s]\n"
     ]
    },
    {
     "name": "stdout",
     "output_type": "stream",
     "text": [
      "Processed topic information for NUTS region DE92 and period 5\n"
     ]
    },
    {
     "name": "stderr",
     "output_type": "stream",
     "text": [
      "Batches: 100%|██████████| 29/29 [00:03<00:00,  8.46it/s]\n"
     ]
    },
    {
     "name": "stdout",
     "output_type": "stream",
     "text": [
      "Processed topic information for NUTS region DE92 and period 6\n"
     ]
    },
    {
     "name": "stderr",
     "output_type": "stream",
     "text": [
      "Batches: 100%|██████████| 5/5 [00:01<00:00,  4.92it/s]\n",
      "NUTS regions:  54%|█████▍    | 152/281 [3:48:05<1:40:51, 46.91s/it]"
     ]
    },
    {
     "name": "stdout",
     "output_type": "stream",
     "text": [
      "Processed topic information for NUTS region DE92 and period 7\n",
      "No valid documents for NUTS region DE92 and period 8\n",
      "No valid documents for NUTS region BE35 and period 1\n",
      "No valid documents for NUTS region BE35 and period 2\n",
      "No valid documents for NUTS region BE35 and period 3\n"
     ]
    },
    {
     "name": "stderr",
     "output_type": "stream",
     "text": [
      "Batches: 100%|██████████| 31/31 [00:06<00:00,  4.56it/s]\n"
     ]
    },
    {
     "name": "stdout",
     "output_type": "stream",
     "text": [
      "Processed topic information for NUTS region BE35 and period 4\n"
     ]
    },
    {
     "name": "stderr",
     "output_type": "stream",
     "text": [
      "Batches: 100%|██████████| 54/54 [00:15<00:00,  3.49it/s]\n"
     ]
    },
    {
     "name": "stdout",
     "output_type": "stream",
     "text": [
      "Processed topic information for NUTS region BE35 and period 5\n"
     ]
    },
    {
     "name": "stderr",
     "output_type": "stream",
     "text": [
      "Batches: 100%|██████████| 5/5 [00:02<00:00,  1.77it/s]\n"
     ]
    },
    {
     "name": "stdout",
     "output_type": "stream",
     "text": [
      "Processed topic information for NUTS region BE35 and period 6\n",
      "No valid documents for NUTS region BE35 and period 7\n"
     ]
    },
    {
     "name": "stderr",
     "output_type": "stream",
     "text": [
      "NUTS regions:  54%|█████▍    | 153/281 [3:48:40<1:32:25, 43.32s/it]"
     ]
    },
    {
     "name": "stdout",
     "output_type": "stream",
     "text": [
      "No valid documents for NUTS region BE35 and period 8\n",
      "No valid documents for NUTS region ES22 and period 1\n",
      "No valid documents for NUTS region ES22 and period 2\n",
      "No valid documents for NUTS region ES22 and period 3\n"
     ]
    },
    {
     "name": "stderr",
     "output_type": "stream",
     "text": [
      "Batches: 100%|██████████| 35/35 [00:02<00:00, 12.45it/s]\n"
     ]
    },
    {
     "name": "stdout",
     "output_type": "stream",
     "text": [
      "Processed topic information for NUTS region ES22 and period 4\n"
     ]
    },
    {
     "name": "stderr",
     "output_type": "stream",
     "text": [
      "Batches: 100%|██████████| 76/76 [00:06<00:00, 11.82it/s]\n"
     ]
    },
    {
     "name": "stdout",
     "output_type": "stream",
     "text": [
      "Processed topic information for NUTS region ES22 and period 5\n"
     ]
    },
    {
     "name": "stderr",
     "output_type": "stream",
     "text": [
      "Batches: 100%|██████████| 8/8 [00:00<00:00,  9.34it/s]\n"
     ]
    },
    {
     "name": "stdout",
     "output_type": "stream",
     "text": [
      "Processed topic information for NUTS region ES22 and period 6\n",
      "No valid documents for NUTS region ES22 and period 7\n"
     ]
    },
    {
     "name": "stderr",
     "output_type": "stream",
     "text": [
      "NUTS regions:  55%|█████▍    | 154/281 [3:49:01<1:17:53, 36.80s/it]"
     ]
    },
    {
     "name": "stdout",
     "output_type": "stream",
     "text": [
      "No valid documents for NUTS region ES22 and period 8\n",
      "No valid documents for NUTS region DED5 and period 1\n",
      "No valid documents for NUTS region DED5 and period 2\n",
      "No valid documents for NUTS region DED5 and period 3\n"
     ]
    },
    {
     "name": "stderr",
     "output_type": "stream",
     "text": [
      "Batches: 100%|██████████| 116/116 [00:09<00:00, 12.34it/s]\n"
     ]
    },
    {
     "name": "stdout",
     "output_type": "stream",
     "text": [
      "Processed topic information for NUTS region DED5 and period 4\n"
     ]
    },
    {
     "name": "stderr",
     "output_type": "stream",
     "text": [
      "Batches: 100%|██████████| 248/248 [00:20<00:00, 12.21it/s]\n",
      "c:\\Users\\user\\anaconda3\\envs\\bertopic_2\\lib\\site-packages\\hdbscan\\prediction.py:658: RuntimeWarning: All-NaN slice encountered\n",
      "  outlier_vecs = all_points_outlier_membership_vector(\n",
      "c:\\Users\\user\\anaconda3\\envs\\bertopic_2\\lib\\site-packages\\hdbscan\\prediction.py:663: RuntimeWarning: invalid value encountered in scalar divide\n",
      "  in_cluster_probs = all_points_prob_in_some_cluster(\n"
     ]
    },
    {
     "name": "stdout",
     "output_type": "stream",
     "text": [
      "Processed topic information for NUTS region DED5 and period 5\n"
     ]
    },
    {
     "name": "stderr",
     "output_type": "stream",
     "text": [
      "Batches: 100%|██████████| 23/23 [00:01<00:00, 12.14it/s]\n"
     ]
    },
    {
     "name": "stdout",
     "output_type": "stream",
     "text": [
      "Processed topic information for NUTS region DED5 and period 6\n"
     ]
    },
    {
     "name": "stderr",
     "output_type": "stream",
     "text": [
      "Batches: 100%|██████████| 4/4 [00:00<00:00,  6.74it/s]\n",
      "NUTS regions:  55%|█████▌    | 155/281 [3:49:53<1:26:33, 41.22s/it]"
     ]
    },
    {
     "name": "stdout",
     "output_type": "stream",
     "text": [
      "Processed topic information for NUTS region DED5 and period 7\n",
      "No valid documents for NUTS region DED5 and period 8\n",
      "No valid documents for NUTS region PL42 and period 1\n",
      "No valid documents for NUTS region PL42 and period 2\n",
      "No valid documents for NUTS region PL42 and period 3\n"
     ]
    },
    {
     "name": "stderr",
     "output_type": "stream",
     "text": [
      "Batches: 100%|██████████| 17/17 [00:01<00:00, 11.78it/s]\n"
     ]
    },
    {
     "name": "stdout",
     "output_type": "stream",
     "text": [
      "Processed topic information for NUTS region PL42 and period 4\n"
     ]
    },
    {
     "name": "stderr",
     "output_type": "stream",
     "text": [
      "Batches: 100%|██████████| 47/47 [00:03<00:00, 12.98it/s]\n"
     ]
    },
    {
     "name": "stdout",
     "output_type": "stream",
     "text": [
      "Processed topic information for NUTS region PL42 and period 5\n"
     ]
    },
    {
     "name": "stderr",
     "output_type": "stream",
     "text": [
      "Batches: 100%|██████████| 6/6 [00:00<00:00,  8.61it/s]\n"
     ]
    },
    {
     "name": "stdout",
     "output_type": "stream",
     "text": [
      "Processed topic information for NUTS region PL42 and period 6\n",
      "No valid documents for NUTS region PL42 and period 7\n"
     ]
    },
    {
     "name": "stderr",
     "output_type": "stream",
     "text": [
      "NUTS regions:  56%|█████▌    | 156/281 [3:50:08<1:09:42, 33.46s/it]"
     ]
    },
    {
     "name": "stdout",
     "output_type": "stream",
     "text": [
      "No valid documents for NUTS region PL42 and period 8\n",
      "No valid documents for NUTS region PL22 and period 1\n",
      "No valid documents for NUTS region PL22 and period 2\n",
      "No valid documents for NUTS region PL22 and period 3\n"
     ]
    },
    {
     "name": "stderr",
     "output_type": "stream",
     "text": [
      "Batches: 100%|██████████| 59/59 [00:04<00:00, 14.22it/s]\n"
     ]
    },
    {
     "name": "stdout",
     "output_type": "stream",
     "text": [
      "Processed topic information for NUTS region PL22 and period 4\n"
     ]
    },
    {
     "name": "stderr",
     "output_type": "stream",
     "text": [
      "Batches: 100%|██████████| 164/164 [00:11<00:00, 14.19it/s]\n"
     ]
    },
    {
     "name": "stdout",
     "output_type": "stream",
     "text": [
      "Processed topic information for NUTS region PL22 and period 5\n"
     ]
    },
    {
     "name": "stderr",
     "output_type": "stream",
     "text": [
      "Batches: 100%|██████████| 16/16 [00:01<00:00, 10.89it/s]\n"
     ]
    },
    {
     "name": "stdout",
     "output_type": "stream",
     "text": [
      "Processed topic information for NUTS region PL22 and period 6\n",
      "No valid documents for NUTS region PL22 and period 7\n"
     ]
    },
    {
     "name": "stderr",
     "output_type": "stream",
     "text": [
      "NUTS regions:  56%|█████▌    | 157/281 [3:50:38<1:06:35, 32.22s/it]"
     ]
    },
    {
     "name": "stdout",
     "output_type": "stream",
     "text": [
      "No valid documents for NUTS region PL22 and period 8\n",
      "No valid documents for NUTS region FR25 and period 1\n",
      "No valid documents for NUTS region FR25 and period 2\n",
      "No valid documents for NUTS region FR25 and period 3\n"
     ]
    },
    {
     "name": "stderr",
     "output_type": "stream",
     "text": [
      "Batches: 100%|██████████| 70/70 [00:05<00:00, 13.38it/s]\n"
     ]
    },
    {
     "name": "stdout",
     "output_type": "stream",
     "text": [
      "Processed topic information for NUTS region FR25 and period 4\n"
     ]
    },
    {
     "name": "stderr",
     "output_type": "stream",
     "text": [
      "Batches: 100%|██████████| 125/125 [00:09<00:00, 13.56it/s]\n"
     ]
    },
    {
     "name": "stdout",
     "output_type": "stream",
     "text": [
      "Processed topic information for NUTS region FR25 and period 5\n"
     ]
    },
    {
     "name": "stderr",
     "output_type": "stream",
     "text": [
      "Batches: 100%|██████████| 11/11 [00:01<00:00, 10.89it/s]\n"
     ]
    },
    {
     "name": "stdout",
     "output_type": "stream",
     "text": [
      "Processed topic information for NUTS region FR25 and period 6\n",
      "No valid documents for NUTS region FR25 and period 7\n"
     ]
    },
    {
     "name": "stderr",
     "output_type": "stream",
     "text": [
      "NUTS regions:  56%|█████▌    | 158/281 [3:51:10<1:06:21, 32.37s/it]"
     ]
    },
    {
     "name": "stdout",
     "output_type": "stream",
     "text": [
      "No valid documents for NUTS region FR25 and period 8\n",
      "No valid documents for NUTS region ITF2 and period 1\n",
      "No valid documents for NUTS region ITF2 and period 2\n",
      "No valid documents for NUTS region ITF2 and period 3\n"
     ]
    },
    {
     "name": "stderr",
     "output_type": "stream",
     "text": [
      "Batches: 100%|██████████| 13/13 [00:01<00:00, 10.15it/s]\n"
     ]
    },
    {
     "name": "stdout",
     "output_type": "stream",
     "text": [
      "Processed topic information for NUTS region ITF2 and period 4\n"
     ]
    },
    {
     "name": "stderr",
     "output_type": "stream",
     "text": [
      "Batches: 100%|██████████| 31/31 [00:02<00:00, 11.11it/s]\n"
     ]
    },
    {
     "name": "stdout",
     "output_type": "stream",
     "text": [
      "Processed topic information for NUTS region ITF2 and period 5\n"
     ]
    },
    {
     "name": "stderr",
     "output_type": "stream",
     "text": [
      "Batches: 100%|██████████| 4/4 [00:00<00:00,  8.09it/s]\n"
     ]
    },
    {
     "name": "stdout",
     "output_type": "stream",
     "text": [
      "Processed topic information for NUTS region ITF2 and period 6\n",
      "No valid documents for NUTS region ITF2 and period 7\n"
     ]
    },
    {
     "name": "stderr",
     "output_type": "stream",
     "text": [
      "NUTS regions:  57%|█████▋    | 159/281 [3:51:23<53:56, 26.53s/it]  "
     ]
    },
    {
     "name": "stdout",
     "output_type": "stream",
     "text": [
      "No valid documents for NUTS region ITF2 and period 8\n",
      "No valid documents for NUTS region ES53 and period 1\n",
      "No valid documents for NUTS region ES53 and period 2\n",
      "No valid documents for NUTS region ES53 and period 3\n"
     ]
    },
    {
     "name": "stderr",
     "output_type": "stream",
     "text": [
      "Batches: 100%|██████████| 23/23 [00:01<00:00, 12.82it/s]\n"
     ]
    },
    {
     "name": "stdout",
     "output_type": "stream",
     "text": [
      "Processed topic information for NUTS region ES53 and period 4\n"
     ]
    },
    {
     "name": "stderr",
     "output_type": "stream",
     "text": [
      "Batches: 100%|██████████| 54/54 [00:04<00:00, 12.71it/s]\n"
     ]
    },
    {
     "name": "stdout",
     "output_type": "stream",
     "text": [
      "Processed topic information for NUTS region ES53 and period 5\n"
     ]
    },
    {
     "name": "stderr",
     "output_type": "stream",
     "text": [
      "Batches: 100%|██████████| 6/6 [00:00<00:00,  9.29it/s]\n"
     ]
    },
    {
     "name": "stdout",
     "output_type": "stream",
     "text": [
      "Processed topic information for NUTS region ES53 and period 6\n",
      "No valid documents for NUTS region ES53 and period 7\n"
     ]
    },
    {
     "name": "stderr",
     "output_type": "stream",
     "text": [
      "NUTS regions:  57%|█████▋    | 160/281 [3:51:40<47:24, 23.51s/it]"
     ]
    },
    {
     "name": "stdout",
     "output_type": "stream",
     "text": [
      "No valid documents for NUTS region ES53 and period 8\n",
      "No valid documents for NUTS region FR21 and period 1\n",
      "No valid documents for NUTS region FR21 and period 2\n",
      "No valid documents for NUTS region FR21 and period 3\n"
     ]
    },
    {
     "name": "stderr",
     "output_type": "stream",
     "text": [
      "Batches: 100%|██████████| 42/42 [00:03<00:00, 13.08it/s]\n"
     ]
    },
    {
     "name": "stdout",
     "output_type": "stream",
     "text": [
      "Processed topic information for NUTS region FR21 and period 4\n"
     ]
    },
    {
     "name": "stderr",
     "output_type": "stream",
     "text": [
      "Batches: 100%|██████████| 78/78 [00:05<00:00, 13.17it/s]\n"
     ]
    },
    {
     "name": "stdout",
     "output_type": "stream",
     "text": [
      "Processed topic information for NUTS region FR21 and period 5\n"
     ]
    },
    {
     "name": "stderr",
     "output_type": "stream",
     "text": [
      "Batches: 100%|██████████| 8/8 [00:00<00:00,  8.19it/s]\n"
     ]
    },
    {
     "name": "stdout",
     "output_type": "stream",
     "text": [
      "Processed topic information for NUTS region FR21 and period 6\n",
      "No valid documents for NUTS region FR21 and period 7\n"
     ]
    },
    {
     "name": "stderr",
     "output_type": "stream",
     "text": [
      "NUTS regions:  57%|█████▋    | 161/281 [3:52:02<46:06, 23.06s/it]"
     ]
    },
    {
     "name": "stdout",
     "output_type": "stream",
     "text": [
      "No valid documents for NUTS region FR21 and period 8\n",
      "No valid documents for NUTS region UKE2 and period 1\n",
      "No valid documents for NUTS region UKE2 and period 2\n",
      "No valid documents for NUTS region UKE2 and period 3\n"
     ]
    },
    {
     "name": "stderr",
     "output_type": "stream",
     "text": [
      "Batches: 100%|██████████| 61/61 [00:04<00:00, 13.20it/s]\n"
     ]
    },
    {
     "name": "stdout",
     "output_type": "stream",
     "text": [
      "Processed topic information for NUTS region UKE2 and period 4\n"
     ]
    },
    {
     "name": "stderr",
     "output_type": "stream",
     "text": [
      "Batches: 100%|██████████| 125/125 [00:09<00:00, 12.95it/s]\n"
     ]
    },
    {
     "name": "stdout",
     "output_type": "stream",
     "text": [
      "Processed topic information for NUTS region UKE2 and period 5\n"
     ]
    },
    {
     "name": "stderr",
     "output_type": "stream",
     "text": [
      "Batches: 100%|██████████| 14/14 [00:01<00:00, 11.07it/s]\n"
     ]
    },
    {
     "name": "stdout",
     "output_type": "stream",
     "text": [
      "Processed topic information for NUTS region UKE2 and period 6\n"
     ]
    },
    {
     "name": "stderr",
     "output_type": "stream",
     "text": [
      "Batches: 100%|██████████| 3/3 [00:00<00:00,  7.61it/s]\n",
      "NUTS regions:  58%|█████▊    | 162/281 [3:52:35<52:04, 26.25s/it]"
     ]
    },
    {
     "name": "stdout",
     "output_type": "stream",
     "text": [
      "Processed topic information for NUTS region UKE2 and period 7\n",
      "No valid documents for NUTS region UKE2 and period 8\n",
      "No valid documents for NUTS region UKD7 and period 1\n",
      "No valid documents for NUTS region UKD7 and period 2\n",
      "No valid documents for NUTS region UKD7 and period 3\n"
     ]
    },
    {
     "name": "stderr",
     "output_type": "stream",
     "text": [
      "Batches: 100%|██████████| 146/146 [00:11<00:00, 12.80it/s]\n"
     ]
    },
    {
     "name": "stdout",
     "output_type": "stream",
     "text": [
      "Processed topic information for NUTS region UKD7 and period 4\n"
     ]
    },
    {
     "name": "stderr",
     "output_type": "stream",
     "text": [
      "Batches: 100%|██████████| 277/277 [00:22<00:00, 12.22it/s]\n"
     ]
    },
    {
     "name": "stdout",
     "output_type": "stream",
     "text": [
      "Processed topic information for NUTS region UKD7 and period 5\n"
     ]
    },
    {
     "name": "stderr",
     "output_type": "stream",
     "text": [
      "Batches: 100%|██████████| 25/25 [00:02<00:00, 12.49it/s]\n"
     ]
    },
    {
     "name": "stdout",
     "output_type": "stream",
     "text": [
      "Processed topic information for NUTS region UKD7 and period 6\n",
      "No valid documents for NUTS region UKD7 and period 7\n"
     ]
    },
    {
     "name": "stderr",
     "output_type": "stream",
     "text": [
      "NUTS regions:  58%|█████▊    | 163/281 [3:53:24<1:04:42, 32.91s/it]"
     ]
    },
    {
     "name": "stdout",
     "output_type": "stream",
     "text": [
      "No valid documents for NUTS region UKD7 and period 8\n",
      "No valid documents for NUTS region UKL1 and period 1\n",
      "No valid documents for NUTS region UKL1 and period 2\n",
      "No valid documents for NUTS region UKL1 and period 3\n"
     ]
    },
    {
     "name": "stderr",
     "output_type": "stream",
     "text": [
      "Batches: 100%|██████████| 111/111 [00:09<00:00, 12.21it/s]\n"
     ]
    },
    {
     "name": "stdout",
     "output_type": "stream",
     "text": [
      "Processed topic information for NUTS region UKL1 and period 4\n"
     ]
    },
    {
     "name": "stderr",
     "output_type": "stream",
     "text": [
      "Batches: 100%|██████████| 171/171 [00:14<00:00, 11.82it/s]\n"
     ]
    },
    {
     "name": "stdout",
     "output_type": "stream",
     "text": [
      "Processed topic information for NUTS region UKL1 and period 5\n"
     ]
    },
    {
     "name": "stderr",
     "output_type": "stream",
     "text": [
      "Batches: 100%|██████████| 15/15 [00:01<00:00,  9.65it/s]\n"
     ]
    },
    {
     "name": "stdout",
     "output_type": "stream",
     "text": [
      "Processed topic information for NUTS region UKL1 and period 6\n"
     ]
    },
    {
     "name": "stderr",
     "output_type": "stream",
     "text": [
      "Batches: 100%|██████████| 5/5 [00:00<00:00,  8.14it/s]\n",
      "NUTS regions:  58%|█████▊    | 164/281 [3:54:07<1:10:03, 35.92s/it]"
     ]
    },
    {
     "name": "stdout",
     "output_type": "stream",
     "text": [
      "Processed topic information for NUTS region UKL1 and period 7\n",
      "No valid documents for NUTS region UKL1 and period 8\n",
      "No valid documents for NUTS region UKD4 and period 1\n",
      "No valid documents for NUTS region UKD4 and period 2\n",
      "No valid documents for NUTS region UKD4 and period 3\n"
     ]
    },
    {
     "name": "stderr",
     "output_type": "stream",
     "text": [
      "Batches: 100%|██████████| 70/70 [00:07<00:00,  9.67it/s]\n"
     ]
    },
    {
     "name": "stdout",
     "output_type": "stream",
     "text": [
      "Processed topic information for NUTS region UKD4 and period 4\n"
     ]
    },
    {
     "name": "stderr",
     "output_type": "stream",
     "text": [
      "Batches: 100%|██████████| 118/118 [00:18<00:00,  6.28it/s]\n"
     ]
    },
    {
     "name": "stdout",
     "output_type": "stream",
     "text": [
      "Processed topic information for NUTS region UKD4 and period 5\n"
     ]
    },
    {
     "name": "stderr",
     "output_type": "stream",
     "text": [
      "Batches: 100%|██████████| 12/12 [00:02<00:00,  5.77it/s]\n"
     ]
    },
    {
     "name": "stdout",
     "output_type": "stream",
     "text": [
      "Processed topic information for NUTS region UKD4 and period 6\n"
     ]
    },
    {
     "name": "stderr",
     "output_type": "stream",
     "text": [
      "Batches: 100%|██████████| 4/4 [00:00<00:00,  4.33it/s]\n",
      "NUTS regions:  59%|█████▊    | 165/281 [3:54:54<1:16:18, 39.47s/it]"
     ]
    },
    {
     "name": "stdout",
     "output_type": "stream",
     "text": [
      "Processed topic information for NUTS region UKD4 and period 7\n",
      "No valid documents for NUTS region UKD4 and period 8\n",
      "No valid documents for NUTS region EL52 and period 1\n",
      "No valid documents for NUTS region EL52 and period 2\n",
      "No valid documents for NUTS region EL52 and period 3\n"
     ]
    },
    {
     "name": "stderr",
     "output_type": "stream",
     "text": [
      "Batches: 100%|██████████| 84/84 [00:28<00:00,  2.98it/s]\n"
     ]
    },
    {
     "name": "stdout",
     "output_type": "stream",
     "text": [
      "Processed topic information for NUTS region EL52 and period 4\n"
     ]
    },
    {
     "name": "stderr",
     "output_type": "stream",
     "text": [
      "Batches: 100%|██████████| 187/187 [00:42<00:00,  4.40it/s]\n"
     ]
    },
    {
     "name": "stdout",
     "output_type": "stream",
     "text": [
      "Processed topic information for NUTS region EL52 and period 5\n"
     ]
    },
    {
     "name": "stderr",
     "output_type": "stream",
     "text": [
      "Batches: 100%|██████████| 20/20 [00:01<00:00, 11.37it/s]\n"
     ]
    },
    {
     "name": "stdout",
     "output_type": "stream",
     "text": [
      "Processed topic information for NUTS region EL52 and period 6\n",
      "No valid documents for NUTS region EL52 and period 7\n"
     ]
    },
    {
     "name": "stderr",
     "output_type": "stream",
     "text": [
      "NUTS regions:  59%|█████▉    | 166/281 [3:56:22<1:43:03, 53.77s/it]"
     ]
    },
    {
     "name": "stdout",
     "output_type": "stream",
     "text": [
      "No valid documents for NUTS region EL52 and period 8\n",
      "No valid documents for NUTS region UKI7 and period 1\n",
      "No valid documents for NUTS region UKI7 and period 2\n",
      "No valid documents for NUTS region UKI7 and period 3\n"
     ]
    },
    {
     "name": "stderr",
     "output_type": "stream",
     "text": [
      "Batches: 100%|██████████| 137/137 [00:09<00:00, 14.73it/s]\n"
     ]
    },
    {
     "name": "stdout",
     "output_type": "stream",
     "text": [
      "Processed topic information for NUTS region UKI7 and period 4\n"
     ]
    },
    {
     "name": "stderr",
     "output_type": "stream",
     "text": [
      "Batches: 100%|██████████| 222/222 [00:17<00:00, 13.02it/s]\n"
     ]
    },
    {
     "name": "stdout",
     "output_type": "stream",
     "text": [
      "Processed topic information for NUTS region UKI7 and period 5\n"
     ]
    },
    {
     "name": "stderr",
     "output_type": "stream",
     "text": [
      "Batches: 100%|██████████| 21/21 [00:01<00:00, 12.23it/s]\n"
     ]
    },
    {
     "name": "stdout",
     "output_type": "stream",
     "text": [
      "Processed topic information for NUTS region UKI7 and period 6\n"
     ]
    },
    {
     "name": "stderr",
     "output_type": "stream",
     "text": [
      "Batches: 100%|██████████| 4/4 [00:00<00:00,  8.55it/s]\n",
      "NUTS regions:  59%|█████▉    | 167/281 [3:57:04<1:35:53, 50.47s/it]"
     ]
    },
    {
     "name": "stdout",
     "output_type": "stream",
     "text": [
      "Processed topic information for NUTS region UKI7 and period 7\n",
      "No valid documents for NUTS region UKI7 and period 8\n",
      "No valid documents for NUTS region UKG2 and period 1\n",
      "No valid documents for NUTS region UKG2 and period 2\n",
      "No valid documents for NUTS region UKG2 and period 3\n"
     ]
    },
    {
     "name": "stderr",
     "output_type": "stream",
     "text": [
      "Batches: 100%|██████████| 44/44 [00:03<00:00, 13.48it/s]\n"
     ]
    },
    {
     "name": "stdout",
     "output_type": "stream",
     "text": [
      "Processed topic information for NUTS region UKG2 and period 4\n"
     ]
    },
    {
     "name": "stderr",
     "output_type": "stream",
     "text": [
      "Batches: 100%|██████████| 80/80 [00:05<00:00, 14.69it/s]\n"
     ]
    },
    {
     "name": "stdout",
     "output_type": "stream",
     "text": [
      "Processed topic information for NUTS region UKG2 and period 5\n"
     ]
    },
    {
     "name": "stderr",
     "output_type": "stream",
     "text": [
      "Batches: 100%|██████████| 8/8 [00:00<00:00, 10.51it/s]\n"
     ]
    },
    {
     "name": "stdout",
     "output_type": "stream",
     "text": [
      "Processed topic information for NUTS region UKG2 and period 6\n",
      "No valid documents for NUTS region UKG2 and period 7\n"
     ]
    },
    {
     "name": "stderr",
     "output_type": "stream",
     "text": [
      "NUTS regions:  60%|█████▉    | 168/281 [3:57:26<1:18:39, 41.77s/it]"
     ]
    },
    {
     "name": "stdout",
     "output_type": "stream",
     "text": [
      "No valid documents for NUTS region UKG2 and period 8\n",
      "No valid documents for NUTS region DK05 and period 1\n",
      "No valid documents for NUTS region DK05 and period 2\n",
      "No valid documents for NUTS region DK05 and period 3\n"
     ]
    },
    {
     "name": "stderr",
     "output_type": "stream",
     "text": [
      "Batches: 100%|██████████| 29/29 [00:02<00:00, 13.96it/s]\n"
     ]
    },
    {
     "name": "stdout",
     "output_type": "stream",
     "text": [
      "Processed topic information for NUTS region DK05 and period 4\n"
     ]
    },
    {
     "name": "stderr",
     "output_type": "stream",
     "text": [
      "Batches: 100%|██████████| 66/66 [00:04<00:00, 13.81it/s]\n"
     ]
    },
    {
     "name": "stdout",
     "output_type": "stream",
     "text": [
      "Processed topic information for NUTS region DK05 and period 5\n"
     ]
    },
    {
     "name": "stderr",
     "output_type": "stream",
     "text": [
      "Batches: 100%|██████████| 8/8 [00:00<00:00, 11.85it/s]\n"
     ]
    },
    {
     "name": "stdout",
     "output_type": "stream",
     "text": [
      "Processed topic information for NUTS region DK05 and period 6\n",
      "No valid documents for NUTS region DK05 and period 7\n"
     ]
    },
    {
     "name": "stderr",
     "output_type": "stream",
     "text": [
      "NUTS regions:  60%|██████    | 169/281 [3:57:44<1:04:47, 34.71s/it]"
     ]
    },
    {
     "name": "stdout",
     "output_type": "stream",
     "text": [
      "No valid documents for NUTS region DK05 and period 8\n",
      "No valid documents for NUTS region ITH4 and period 1\n",
      "No valid documents for NUTS region ITH4 and period 2\n",
      "No valid documents for NUTS region ITH4 and period 3\n"
     ]
    },
    {
     "name": "stderr",
     "output_type": "stream",
     "text": [
      "Batches: 100%|██████████| 175/175 [00:10<00:00, 17.14it/s]\n"
     ]
    },
    {
     "name": "stdout",
     "output_type": "stream",
     "text": [
      "Processed topic information for NUTS region ITH4 and period 4\n"
     ]
    },
    {
     "name": "stderr",
     "output_type": "stream",
     "text": [
      "Batches: 100%|██████████| 324/324 [00:19<00:00, 16.64it/s]\n"
     ]
    },
    {
     "name": "stdout",
     "output_type": "stream",
     "text": [
      "Processed topic information for NUTS region ITH4 and period 5\n"
     ]
    },
    {
     "name": "stderr",
     "output_type": "stream",
     "text": [
      "Batches: 100%|██████████| 29/29 [00:02<00:00, 14.50it/s]\n"
     ]
    },
    {
     "name": "stdout",
     "output_type": "stream",
     "text": [
      "Processed topic information for NUTS region ITH4 and period 6\n",
      "No valid documents for NUTS region ITH4 and period 7\n"
     ]
    },
    {
     "name": "stderr",
     "output_type": "stream",
     "text": [
      "NUTS regions:  60%|██████    | 170/281 [3:58:28<1:09:26, 37.54s/it]"
     ]
    },
    {
     "name": "stdout",
     "output_type": "stream",
     "text": [
      "No valid documents for NUTS region ITH4 and period 8\n",
      "No valid documents for NUTS region FR52 and period 1\n",
      "No valid documents for NUTS region FR52 and period 2\n",
      "No valid documents for NUTS region FR52 and period 3\n"
     ]
    },
    {
     "name": "stderr",
     "output_type": "stream",
     "text": [
      "Batches: 100%|██████████| 177/177 [00:10<00:00, 16.37it/s]\n"
     ]
    },
    {
     "name": "stdout",
     "output_type": "stream",
     "text": [
      "Processed topic information for NUTS region FR52 and period 4\n"
     ]
    },
    {
     "name": "stderr",
     "output_type": "stream",
     "text": [
      "Batches: 100%|██████████| 320/320 [00:20<00:00, 15.81it/s]\n"
     ]
    },
    {
     "name": "stdout",
     "output_type": "stream",
     "text": [
      "Processed topic information for NUTS region FR52 and period 5\n"
     ]
    },
    {
     "name": "stderr",
     "output_type": "stream",
     "text": [
      "Batches: 100%|██████████| 29/29 [00:02<00:00, 13.88it/s]\n"
     ]
    },
    {
     "name": "stdout",
     "output_type": "stream",
     "text": [
      "Processed topic information for NUTS region FR52 and period 6\n"
     ]
    },
    {
     "name": "stderr",
     "output_type": "stream",
     "text": [
      "Batches: 100%|██████████| 5/5 [00:00<00:00,  9.69it/s]\n",
      "NUTS regions:  61%|██████    | 171/281 [3:59:17<1:14:58, 40.89s/it]"
     ]
    },
    {
     "name": "stdout",
     "output_type": "stream",
     "text": [
      "Processed topic information for NUTS region FR52 and period 7\n",
      "No valid documents for NUTS region FR52 and period 8\n",
      "No valid documents for NUTS region PL34 and period 1\n",
      "No valid documents for NUTS region PL34 and period 2\n",
      "No valid documents for NUTS region PL34 and period 3\n"
     ]
    },
    {
     "name": "stderr",
     "output_type": "stream",
     "text": [
      "Batches: 100%|██████████| 18/18 [00:01<00:00, 14.59it/s]\n"
     ]
    },
    {
     "name": "stdout",
     "output_type": "stream",
     "text": [
      "Processed topic information for NUTS region PL34 and period 4\n"
     ]
    },
    {
     "name": "stderr",
     "output_type": "stream",
     "text": [
      "Batches: 100%|██████████| 50/50 [00:03<00:00, 15.26it/s]\n"
     ]
    },
    {
     "name": "stdout",
     "output_type": "stream",
     "text": [
      "Processed topic information for NUTS region PL34 and period 5\n"
     ]
    },
    {
     "name": "stderr",
     "output_type": "stream",
     "text": [
      "Batches: 100%|██████████| 5/5 [00:00<00:00, 10.42it/s]\n"
     ]
    },
    {
     "name": "stdout",
     "output_type": "stream",
     "text": [
      "Processed topic information for NUTS region PL34 and period 6\n",
      "No valid documents for NUTS region PL34 and period 7\n"
     ]
    },
    {
     "name": "stderr",
     "output_type": "stream",
     "text": [
      "NUTS regions:  61%|██████    | 172/281 [3:59:32<1:00:26, 33.27s/it]"
     ]
    },
    {
     "name": "stdout",
     "output_type": "stream",
     "text": [
      "No valid documents for NUTS region PL34 and period 8\n",
      "No valid documents for NUTS region FR23 and period 1\n",
      "No valid documents for NUTS region FR23 and period 2\n",
      "No valid documents for NUTS region FR23 and period 3\n"
     ]
    },
    {
     "name": "stderr",
     "output_type": "stream",
     "text": [
      "Batches: 100%|██████████| 60/60 [00:03<00:00, 15.83it/s]\n"
     ]
    },
    {
     "name": "stdout",
     "output_type": "stream",
     "text": [
      "Processed topic information for NUTS region FR23 and period 4\n"
     ]
    },
    {
     "name": "stderr",
     "output_type": "stream",
     "text": [
      "Batches: 100%|██████████| 98/98 [00:05<00:00, 16.46it/s]\n"
     ]
    },
    {
     "name": "stdout",
     "output_type": "stream",
     "text": [
      "Processed topic information for NUTS region FR23 and period 5\n"
     ]
    },
    {
     "name": "stderr",
     "output_type": "stream",
     "text": [
      "Batches: 100%|██████████| 8/8 [00:00<00:00, 10.07it/s]\n"
     ]
    },
    {
     "name": "stdout",
     "output_type": "stream",
     "text": [
      "Processed topic information for NUTS region FR23 and period 6\n",
      "No valid documents for NUTS region FR23 and period 7\n"
     ]
    },
    {
     "name": "stderr",
     "output_type": "stream",
     "text": [
      "NUTS regions:  62%|██████▏   | 173/281 [3:59:57<55:06, 30.62s/it]  "
     ]
    },
    {
     "name": "stdout",
     "output_type": "stream",
     "text": [
      "No valid documents for NUTS region FR23 and period 8\n",
      "No valid documents for NUTS region NO06 and period 1\n",
      "No valid documents for NUTS region NO06 and period 2\n",
      "No valid documents for NUTS region NO06 and period 3\n"
     ]
    },
    {
     "name": "stderr",
     "output_type": "stream",
     "text": [
      "Batches: 100%|██████████| 81/81 [00:05<00:00, 14.86it/s]\n"
     ]
    },
    {
     "name": "stdout",
     "output_type": "stream",
     "text": [
      "Processed topic information for NUTS region NO06 and period 4\n"
     ]
    },
    {
     "name": "stderr",
     "output_type": "stream",
     "text": [
      "Batches: 100%|██████████| 146/146 [00:09<00:00, 15.08it/s]\n"
     ]
    },
    {
     "name": "stdout",
     "output_type": "stream",
     "text": [
      "Processed topic information for NUTS region NO06 and period 5\n"
     ]
    },
    {
     "name": "stderr",
     "output_type": "stream",
     "text": [
      "Batches: 100%|██████████| 17/17 [00:01<00:00, 13.81it/s]\n"
     ]
    },
    {
     "name": "stdout",
     "output_type": "stream",
     "text": [
      "Processed topic information for NUTS region NO06 and period 6\n"
     ]
    },
    {
     "name": "stderr",
     "output_type": "stream",
     "text": [
      "Batches: 100%|██████████| 4/4 [00:00<00:00, 11.57it/s]\n",
      "NUTS regions:  62%|██████▏   | 174/281 [4:00:28<54:53, 30.78s/it]"
     ]
    },
    {
     "name": "stdout",
     "output_type": "stream",
     "text": [
      "Processed topic information for NUTS region NO06 and period 7\n",
      "No valid documents for NUTS region NO06 and period 8\n",
      "No valid documents for NUTS region DK02 and period 1\n",
      "No valid documents for NUTS region DK02 and period 2\n",
      "No valid documents for NUTS region DK02 and period 3\n"
     ]
    },
    {
     "name": "stderr",
     "output_type": "stream",
     "text": [
      "Batches: 100%|██████████| 57/57 [00:03<00:00, 14.30it/s]\n"
     ]
    },
    {
     "name": "stdout",
     "output_type": "stream",
     "text": [
      "Processed topic information for NUTS region DK02 and period 4\n"
     ]
    },
    {
     "name": "stderr",
     "output_type": "stream",
     "text": [
      "Batches: 100%|██████████| 92/92 [00:06<00:00, 15.07it/s]\n"
     ]
    },
    {
     "name": "stdout",
     "output_type": "stream",
     "text": [
      "Processed topic information for NUTS region DK02 and period 5\n"
     ]
    },
    {
     "name": "stderr",
     "output_type": "stream",
     "text": [
      "Batches: 100%|██████████| 9/9 [00:00<00:00,  9.49it/s]\n"
     ]
    },
    {
     "name": "stdout",
     "output_type": "stream",
     "text": [
      "Processed topic information for NUTS region DK02 and period 6\n",
      "No valid documents for NUTS region DK02 and period 7\n"
     ]
    },
    {
     "name": "stderr",
     "output_type": "stream",
     "text": [
      "NUTS regions:  62%|██████▏   | 175/281 [4:00:53<51:04, 28.91s/it]"
     ]
    },
    {
     "name": "stdout",
     "output_type": "stream",
     "text": [
      "No valid documents for NUTS region DK02 and period 8\n",
      "No valid documents for NUTS region UKC1 and period 1\n",
      "No valid documents for NUTS region UKC1 and period 2\n",
      "No valid documents for NUTS region UKC1 and period 3\n"
     ]
    },
    {
     "name": "stderr",
     "output_type": "stream",
     "text": [
      "Batches: 100%|██████████| 83/83 [00:09<00:00,  8.70it/s]\n"
     ]
    },
    {
     "name": "stdout",
     "output_type": "stream",
     "text": [
      "Processed topic information for NUTS region UKC1 and period 4\n"
     ]
    },
    {
     "name": "stderr",
     "output_type": "stream",
     "text": [
      "Batches: 100%|██████████| 151/151 [00:23<00:00,  6.37it/s]\n"
     ]
    },
    {
     "name": "stdout",
     "output_type": "stream",
     "text": [
      "Processed topic information for NUTS region UKC1 and period 5\n"
     ]
    },
    {
     "name": "stderr",
     "output_type": "stream",
     "text": [
      "Batches: 100%|██████████| 14/14 [00:03<00:00,  4.44it/s]\n"
     ]
    },
    {
     "name": "stdout",
     "output_type": "stream",
     "text": [
      "Processed topic information for NUTS region UKC1 and period 6\n",
      "No valid documents for NUTS region UKC1 and period 7\n"
     ]
    },
    {
     "name": "stderr",
     "output_type": "stream",
     "text": [
      "NUTS regions:  63%|██████▎   | 176/281 [4:01:42<1:01:10, 34.95s/it]"
     ]
    },
    {
     "name": "stdout",
     "output_type": "stream",
     "text": [
      "No valid documents for NUTS region UKC1 and period 8\n",
      "No valid documents for NUTS region HU23 and period 1\n",
      "No valid documents for NUTS region HU23 and period 2\n",
      "No valid documents for NUTS region HU23 and period 3\n"
     ]
    },
    {
     "name": "stderr",
     "output_type": "stream",
     "text": [
      "Batches: 100%|██████████| 20/20 [00:08<00:00,  2.43it/s]\n"
     ]
    },
    {
     "name": "stdout",
     "output_type": "stream",
     "text": [
      "Processed topic information for NUTS region HU23 and period 4\n"
     ]
    },
    {
     "name": "stderr",
     "output_type": "stream",
     "text": [
      "Batches: 100%|██████████| 46/46 [00:03<00:00, 12.79it/s]\n"
     ]
    },
    {
     "name": "stdout",
     "output_type": "stream",
     "text": [
      "Processed topic information for NUTS region HU23 and period 5\n"
     ]
    },
    {
     "name": "stderr",
     "output_type": "stream",
     "text": [
      "Batches: 100%|██████████| 5/5 [00:00<00:00,  6.61it/s]\n"
     ]
    },
    {
     "name": "stdout",
     "output_type": "stream",
     "text": [
      "Processed topic information for NUTS region HU23 and period 6\n",
      "No valid documents for NUTS region HU23 and period 7\n"
     ]
    },
    {
     "name": "stderr",
     "output_type": "stream",
     "text": [
      "NUTS regions:  63%|██████▎   | 177/281 [4:02:03<53:45, 31.02s/it]  "
     ]
    },
    {
     "name": "stdout",
     "output_type": "stream",
     "text": [
      "No valid documents for NUTS region HU23 and period 8\n",
      "No valid documents for NUTS region CH02 and period 1\n",
      "No valid documents for NUTS region CH02 and period 2\n",
      "No valid documents for NUTS region CH02 and period 3\n"
     ]
    },
    {
     "name": "stderr",
     "output_type": "stream",
     "text": [
      "Batches: 100%|██████████| 186/186 [00:12<00:00, 15.29it/s]\n"
     ]
    },
    {
     "name": "stdout",
     "output_type": "stream",
     "text": [
      "Processed topic information for NUTS region CH02 and period 4\n"
     ]
    },
    {
     "name": "stderr",
     "output_type": "stream",
     "text": [
      "Batches: 100%|██████████| 324/324 [00:24<00:00, 13.36it/s]\n",
      "c:\\Users\\user\\anaconda3\\envs\\bertopic_2\\lib\\site-packages\\hdbscan\\prediction.py:658: RuntimeWarning: All-NaN slice encountered\n",
      "  outlier_vecs = all_points_outlier_membership_vector(\n",
      "c:\\Users\\user\\anaconda3\\envs\\bertopic_2\\lib\\site-packages\\hdbscan\\prediction.py:663: RuntimeWarning: invalid value encountered in scalar divide\n",
      "  in_cluster_probs = all_points_prob_in_some_cluster(\n"
     ]
    },
    {
     "name": "stdout",
     "output_type": "stream",
     "text": [
      "Processed topic information for NUTS region CH02 and period 5\n"
     ]
    },
    {
     "name": "stderr",
     "output_type": "stream",
     "text": [
      "Batches: 100%|██████████| 30/30 [00:02<00:00, 12.58it/s]\n"
     ]
    },
    {
     "name": "stdout",
     "output_type": "stream",
     "text": [
      "Processed topic information for NUTS region CH02 and period 6\n"
     ]
    },
    {
     "name": "stderr",
     "output_type": "stream",
     "text": [
      "Batches: 100%|██████████| 6/6 [00:00<00:00, 10.26it/s]\n",
      "NUTS regions:  63%|██████▎   | 178/281 [4:02:58<1:05:18, 38.05s/it]"
     ]
    },
    {
     "name": "stdout",
     "output_type": "stream",
     "text": [
      "Processed topic information for NUTS region CH02 and period 7\n",
      "No valid documents for NUTS region CH02 and period 8\n",
      "No valid documents for NUTS region HU32 and period 1\n",
      "No valid documents for NUTS region HU32 and period 2\n",
      "No valid documents for NUTS region HU32 and period 3\n"
     ]
    },
    {
     "name": "stderr",
     "output_type": "stream",
     "text": [
      "Batches: 100%|██████████| 51/51 [00:03<00:00, 16.12it/s]\n"
     ]
    },
    {
     "name": "stdout",
     "output_type": "stream",
     "text": [
      "Processed topic information for NUTS region HU32 and period 4\n"
     ]
    },
    {
     "name": "stderr",
     "output_type": "stream",
     "text": [
      "Batches: 100%|██████████| 90/90 [00:06<00:00, 14.83it/s]\n"
     ]
    },
    {
     "name": "stdout",
     "output_type": "stream",
     "text": [
      "Processed topic information for NUTS region HU32 and period 5\n"
     ]
    },
    {
     "name": "stderr",
     "output_type": "stream",
     "text": [
      "Batches: 100%|██████████| 8/8 [00:00<00:00, 10.47it/s]\n"
     ]
    },
    {
     "name": "stdout",
     "output_type": "stream",
     "text": [
      "Processed topic information for NUTS region HU32 and period 6\n",
      "No valid documents for NUTS region HU32 and period 7\n"
     ]
    },
    {
     "name": "stderr",
     "output_type": "stream",
     "text": [
      "NUTS regions:  64%|██████▎   | 179/281 [4:03:20<56:42, 33.36s/it]  "
     ]
    },
    {
     "name": "stdout",
     "output_type": "stream",
     "text": [
      "No valid documents for NUTS region HU32 and period 8\n",
      "No valid documents for NUTS region ITF1 and period 1\n",
      "No valid documents for NUTS region ITF1 and period 2\n",
      "No valid documents for NUTS region ITF1 and period 3\n"
     ]
    },
    {
     "name": "stderr",
     "output_type": "stream",
     "text": [
      "Batches: 100%|██████████| 85/85 [00:05<00:00, 14.73it/s]\n"
     ]
    },
    {
     "name": "stdout",
     "output_type": "stream",
     "text": [
      "Processed topic information for NUTS region ITF1 and period 4\n"
     ]
    },
    {
     "name": "stderr",
     "output_type": "stream",
     "text": [
      "Batches: 100%|██████████| 160/160 [00:10<00:00, 14.64it/s]\n"
     ]
    },
    {
     "name": "stdout",
     "output_type": "stream",
     "text": [
      "Processed topic information for NUTS region ITF1 and period 5\n"
     ]
    },
    {
     "name": "stderr",
     "output_type": "stream",
     "text": [
      "Batches: 100%|██████████| 14/14 [00:01<00:00, 11.13it/s]\n"
     ]
    },
    {
     "name": "stdout",
     "output_type": "stream",
     "text": [
      "Processed topic information for NUTS region ITF1 and period 6\n"
     ]
    },
    {
     "name": "stderr",
     "output_type": "stream",
     "text": [
      "Batches: 100%|██████████| 5/5 [00:00<00:00, 10.51it/s]\n",
      "NUTS regions:  64%|██████▍   | 180/281 [4:03:54<56:10, 33.37s/it]"
     ]
    },
    {
     "name": "stdout",
     "output_type": "stream",
     "text": [
      "Processed topic information for NUTS region ITF1 and period 7\n",
      "No valid documents for NUTS region ITF1 and period 8\n",
      "No valid documents for NUTS region HU10 and period 1\n",
      "No valid documents for NUTS region HU10 and period 2\n",
      "No valid documents for NUTS region HU10 and period 3\n"
     ]
    },
    {
     "name": "stderr",
     "output_type": "stream",
     "text": [
      "Batches: 100%|██████████| 235/235 [00:14<00:00, 15.90it/s]\n"
     ]
    },
    {
     "name": "stdout",
     "output_type": "stream",
     "text": [
      "Processed topic information for NUTS region HU10 and period 4\n"
     ]
    },
    {
     "name": "stderr",
     "output_type": "stream",
     "text": [
      "Batches: 100%|██████████| 425/425 [00:27<00:00, 15.68it/s]\n"
     ]
    },
    {
     "name": "stdout",
     "output_type": "stream",
     "text": [
      "Processed topic information for NUTS region HU10 and period 5\n"
     ]
    },
    {
     "name": "stderr",
     "output_type": "stream",
     "text": [
      "Batches: 100%|██████████| 35/35 [00:02<00:00, 14.97it/s]\n"
     ]
    },
    {
     "name": "stdout",
     "output_type": "stream",
     "text": [
      "Processed topic information for NUTS region HU10 and period 6\n"
     ]
    },
    {
     "name": "stderr",
     "output_type": "stream",
     "text": [
      "Batches: 100%|██████████| 6/6 [00:00<00:00, 10.14it/s]\n",
      "NUTS regions:  64%|██████▍   | 181/281 [4:04:55<1:09:20, 41.60s/it]"
     ]
    },
    {
     "name": "stdout",
     "output_type": "stream",
     "text": [
      "Processed topic information for NUTS region HU10 and period 7\n",
      "No valid documents for NUTS region HU10 and period 8\n",
      "No valid documents for NUTS region ES43 and period 1\n",
      "No valid documents for NUTS region ES43 and period 2\n",
      "No valid documents for NUTS region ES43 and period 3\n"
     ]
    },
    {
     "name": "stderr",
     "output_type": "stream",
     "text": [
      "Batches: 100%|██████████| 25/25 [00:01<00:00, 13.50it/s]\n"
     ]
    },
    {
     "name": "stdout",
     "output_type": "stream",
     "text": [
      "Processed topic information for NUTS region ES43 and period 4\n"
     ]
    },
    {
     "name": "stderr",
     "output_type": "stream",
     "text": [
      "Batches: 100%|██████████| 58/58 [00:03<00:00, 14.93it/s]\n"
     ]
    },
    {
     "name": "stdout",
     "output_type": "stream",
     "text": [
      "Processed topic information for NUTS region ES43 and period 5\n"
     ]
    },
    {
     "name": "stderr",
     "output_type": "stream",
     "text": [
      "Batches: 100%|██████████| 6/6 [00:00<00:00,  9.79it/s]\n"
     ]
    },
    {
     "name": "stdout",
     "output_type": "stream",
     "text": [
      "Processed topic information for NUTS region ES43 and period 6\n",
      "No valid documents for NUTS region ES43 and period 7\n"
     ]
    },
    {
     "name": "stderr",
     "output_type": "stream",
     "text": [
      "NUTS regions:  65%|██████▍   | 182/281 [4:05:11<56:08, 34.03s/it]  "
     ]
    },
    {
     "name": "stdout",
     "output_type": "stream",
     "text": [
      "No valid documents for NUTS region ES43 and period 8\n",
      "No valid documents for NUTS region SK04 and period 1\n",
      "No valid documents for NUTS region SK04 and period 2\n",
      "No valid documents for NUTS region SK04 and period 3\n"
     ]
    },
    {
     "name": "stderr",
     "output_type": "stream",
     "text": [
      "Batches: 100%|██████████| 38/38 [00:02<00:00, 16.90it/s]\n"
     ]
    },
    {
     "name": "stdout",
     "output_type": "stream",
     "text": [
      "Processed topic information for NUTS region SK04 and period 4\n"
     ]
    },
    {
     "name": "stderr",
     "output_type": "stream",
     "text": [
      "Batches: 100%|██████████| 71/71 [00:04<00:00, 15.40it/s]\n"
     ]
    },
    {
     "name": "stdout",
     "output_type": "stream",
     "text": [
      "Processed topic information for NUTS region SK04 and period 5\n"
     ]
    },
    {
     "name": "stderr",
     "output_type": "stream",
     "text": [
      "Batches: 100%|██████████| 7/7 [00:00<00:00, 10.01it/s]\n"
     ]
    },
    {
     "name": "stdout",
     "output_type": "stream",
     "text": [
      "Processed topic information for NUTS region SK04 and period 6\n",
      "No valid documents for NUTS region SK04 and period 7\n"
     ]
    },
    {
     "name": "stderr",
     "output_type": "stream",
     "text": [
      "NUTS regions:  65%|██████▌   | 183/281 [4:05:30<48:15, 29.55s/it]"
     ]
    },
    {
     "name": "stdout",
     "output_type": "stream",
     "text": [
      "No valid documents for NUTS region SK04 and period 8\n",
      "No valid documents for NUTS region SK03 and period 1\n",
      "No valid documents for NUTS region SK03 and period 2\n",
      "No valid documents for NUTS region SK03 and period 3\n"
     ]
    },
    {
     "name": "stderr",
     "output_type": "stream",
     "text": [
      "Batches: 100%|██████████| 8/8 [00:00<00:00, 11.12it/s]\n"
     ]
    },
    {
     "name": "stdout",
     "output_type": "stream",
     "text": [
      "Processed topic information for NUTS region SK03 and period 4\n"
     ]
    },
    {
     "name": "stderr",
     "output_type": "stream",
     "text": [
      "Batches: 100%|██████████| 16/16 [00:01<00:00, 13.46it/s]\n"
     ]
    },
    {
     "name": "stdout",
     "output_type": "stream",
     "text": [
      "Processed topic information for NUTS region SK03 and period 5\n",
      "No valid documents for NUTS region SK03 and period 6\n"
     ]
    },
    {
     "name": "stderr",
     "output_type": "stream",
     "text": [
      "NUTS regions:  65%|██████▌   | 184/281 [4:05:38<37:29, 23.19s/it]"
     ]
    },
    {
     "name": "stdout",
     "output_type": "stream",
     "text": [
      "No valid documents for NUTS region SK03 and period 7\n",
      "No valid documents for NUTS region SK03 and period 8\n",
      "No valid documents for NUTS region DEB1 and period 1\n",
      "No valid documents for NUTS region DEB1 and period 2\n",
      "No valid documents for NUTS region DEB1 and period 3\n"
     ]
    },
    {
     "name": "stderr",
     "output_type": "stream",
     "text": [
      "Batches: 100%|██████████| 9/9 [00:00<00:00, 10.87it/s]\n"
     ]
    },
    {
     "name": "stdout",
     "output_type": "stream",
     "text": [
      "Processed topic information for NUTS region DEB1 and period 4\n"
     ]
    },
    {
     "name": "stderr",
     "output_type": "stream",
     "text": [
      "Batches: 100%|██████████| 18/18 [00:01<00:00, 12.18it/s]\n"
     ]
    },
    {
     "name": "stdout",
     "output_type": "stream",
     "text": [
      "Processed topic information for NUTS region DEB1 and period 5\n",
      "No valid documents for NUTS region DEB1 and period 6\n"
     ]
    },
    {
     "name": "stderr",
     "output_type": "stream",
     "text": [
      "NUTS regions:  66%|██████▌   | 185/281 [4:05:47<30:21, 18.98s/it]"
     ]
    },
    {
     "name": "stdout",
     "output_type": "stream",
     "text": [
      "No valid documents for NUTS region DEB1 and period 7\n",
      "No valid documents for NUTS region DEB1 and period 8\n",
      "No valid documents for NUTS region SE31 and period 1\n",
      "No valid documents for NUTS region SE31 and period 2\n",
      "No valid documents for NUTS region SE31 and period 3\n"
     ]
    },
    {
     "name": "stderr",
     "output_type": "stream",
     "text": [
      "Batches: 100%|██████████| 16/16 [00:01<00:00, 13.64it/s]\n"
     ]
    },
    {
     "name": "stdout",
     "output_type": "stream",
     "text": [
      "Processed topic information for NUTS region SE31 and period 4\n"
     ]
    },
    {
     "name": "stderr",
     "output_type": "stream",
     "text": [
      "Batches: 100%|██████████| 33/33 [00:02<00:00, 13.46it/s]\n"
     ]
    },
    {
     "name": "stdout",
     "output_type": "stream",
     "text": [
      "Processed topic information for NUTS region SE31 and period 5\n"
     ]
    },
    {
     "name": "stderr",
     "output_type": "stream",
     "text": [
      "Batches: 100%|██████████| 4/4 [00:00<00:00,  8.41it/s]\n"
     ]
    },
    {
     "name": "stdout",
     "output_type": "stream",
     "text": [
      "Processed topic information for NUTS region SE31 and period 6\n",
      "No valid documents for NUTS region SE31 and period 7\n"
     ]
    },
    {
     "name": "stderr",
     "output_type": "stream",
     "text": [
      "NUTS regions:  66%|██████▌   | 186/281 [4:06:00<27:09, 17.15s/it]"
     ]
    },
    {
     "name": "stdout",
     "output_type": "stream",
     "text": [
      "No valid documents for NUTS region SE31 and period 8\n",
      "No valid documents for NUTS region PT16 and period 1\n",
      "No valid documents for NUTS region PT16 and period 2\n",
      "No valid documents for NUTS region PT16 and period 3\n"
     ]
    },
    {
     "name": "stderr",
     "output_type": "stream",
     "text": [
      "Batches: 100%|██████████| 62/62 [00:04<00:00, 15.45it/s]\n"
     ]
    },
    {
     "name": "stdout",
     "output_type": "stream",
     "text": [
      "Processed topic information for NUTS region PT16 and period 4\n"
     ]
    },
    {
     "name": "stderr",
     "output_type": "stream",
     "text": [
      "Batches: 100%|██████████| 168/168 [00:10<00:00, 15.44it/s]\n"
     ]
    },
    {
     "name": "stdout",
     "output_type": "stream",
     "text": [
      "Processed topic information for NUTS region PT16 and period 5\n"
     ]
    },
    {
     "name": "stderr",
     "output_type": "stream",
     "text": [
      "Batches: 100%|██████████| 22/22 [00:02<00:00, 10.63it/s]\n"
     ]
    },
    {
     "name": "stdout",
     "output_type": "stream",
     "text": [
      "Processed topic information for NUTS region PT16 and period 6\n"
     ]
    },
    {
     "name": "stderr",
     "output_type": "stream",
     "text": [
      "Batches: 100%|██████████| 4/4 [00:00<00:00,  6.12it/s]\n",
      "NUTS regions:  67%|██████▋   | 187/281 [4:06:32<33:37, 21.46s/it]"
     ]
    },
    {
     "name": "stdout",
     "output_type": "stream",
     "text": [
      "Processed topic information for NUTS region PT16 and period 7\n",
      "No valid documents for NUTS region PT16 and period 8\n",
      "No valid documents for NUTS region FR72 and period 1\n",
      "No valid documents for NUTS region FR72 and period 2\n",
      "No valid documents for NUTS region FR72 and period 3\n"
     ]
    },
    {
     "name": "stderr",
     "output_type": "stream",
     "text": [
      "Batches: 100%|██████████| 82/82 [00:12<00:00,  6.43it/s]\n"
     ]
    },
    {
     "name": "stdout",
     "output_type": "stream",
     "text": [
      "Processed topic information for NUTS region FR72 and period 4\n"
     ]
    },
    {
     "name": "stderr",
     "output_type": "stream",
     "text": [
      "Batches: 100%|██████████| 142/142 [00:36<00:00,  3.88it/s]\n"
     ]
    },
    {
     "name": "stdout",
     "output_type": "stream",
     "text": [
      "Processed topic information for NUTS region FR72 and period 5\n"
     ]
    },
    {
     "name": "stderr",
     "output_type": "stream",
     "text": [
      "Batches: 100%|██████████| 14/14 [00:04<00:00,  2.86it/s]\n"
     ]
    },
    {
     "name": "stdout",
     "output_type": "stream",
     "text": [
      "Processed topic information for NUTS region FR72 and period 6\n",
      "No valid documents for NUTS region FR72 and period 7\n"
     ]
    },
    {
     "name": "stderr",
     "output_type": "stream",
     "text": [
      "NUTS regions:  67%|██████▋   | 188/281 [4:07:39<54:37, 35.24s/it]"
     ]
    },
    {
     "name": "stdout",
     "output_type": "stream",
     "text": [
      "No valid documents for NUTS region FR72 and period 8\n",
      "No valid documents for NUTS region DE40 and period 1\n",
      "No valid documents for NUTS region DE40 and period 2\n",
      "No valid documents for NUTS region DE40 and period 3\n"
     ]
    },
    {
     "name": "stderr",
     "output_type": "stream",
     "text": [
      "Batches: 100%|██████████| 105/105 [00:11<00:00,  8.90it/s]\n"
     ]
    },
    {
     "name": "stdout",
     "output_type": "stream",
     "text": [
      "Processed topic information for NUTS region DE40 and period 4\n"
     ]
    },
    {
     "name": "stderr",
     "output_type": "stream",
     "text": [
      "Batches: 100%|██████████| 237/237 [00:14<00:00, 15.97it/s]\n"
     ]
    },
    {
     "name": "stdout",
     "output_type": "stream",
     "text": [
      "Processed topic information for NUTS region DE40 and period 5\n"
     ]
    },
    {
     "name": "stderr",
     "output_type": "stream",
     "text": [
      "Batches: 100%|██████████| 22/22 [00:01<00:00, 11.99it/s]\n"
     ]
    },
    {
     "name": "stdout",
     "output_type": "stream",
     "text": [
      "Processed topic information for NUTS region DE40 and period 6\n"
     ]
    },
    {
     "name": "stderr",
     "output_type": "stream",
     "text": [
      "Batches: 100%|██████████| 4/4 [00:00<00:00,  8.14it/s]\n",
      "NUTS regions:  67%|██████▋   | 189/281 [4:08:28<1:00:13, 39.28s/it]"
     ]
    },
    {
     "name": "stdout",
     "output_type": "stream",
     "text": [
      "Processed topic information for NUTS region DE40 and period 7\n",
      "No valid documents for NUTS region DE40 and period 8\n",
      "No valid documents for NUTS region PL21 and period 1\n",
      "No valid documents for NUTS region PL21 and period 2\n",
      "No valid documents for NUTS region PL21 and period 3\n"
     ]
    },
    {
     "name": "stderr",
     "output_type": "stream",
     "text": [
      "Batches: 100%|██████████| 140/140 [00:08<00:00, 15.76it/s]\n"
     ]
    },
    {
     "name": "stdout",
     "output_type": "stream",
     "text": [
      "Processed topic information for NUTS region PL21 and period 4\n"
     ]
    },
    {
     "name": "stderr",
     "output_type": "stream",
     "text": [
      "Batches: 100%|██████████| 300/300 [00:18<00:00, 15.93it/s]\n"
     ]
    },
    {
     "name": "stdout",
     "output_type": "stream",
     "text": [
      "Processed topic information for NUTS region PL21 and period 5\n"
     ]
    },
    {
     "name": "stderr",
     "output_type": "stream",
     "text": [
      "Batches: 100%|██████████| 27/27 [00:01<00:00, 14.70it/s]\n"
     ]
    },
    {
     "name": "stdout",
     "output_type": "stream",
     "text": [
      "Processed topic information for NUTS region PL21 and period 6\n"
     ]
    },
    {
     "name": "stderr",
     "output_type": "stream",
     "text": [
      "Batches: 100%|██████████| 5/5 [00:00<00:00, 11.13it/s]\n",
      "NUTS regions:  68%|██████▊   | 190/281 [4:09:13<1:02:19, 41.09s/it]"
     ]
    },
    {
     "name": "stdout",
     "output_type": "stream",
     "text": [
      "Processed topic information for NUTS region PL21 and period 7\n",
      "No valid documents for NUTS region PL21 and period 8\n",
      "No valid documents for NUTS region PL32 and period 1\n",
      "No valid documents for NUTS region PL32 and period 2\n",
      "No valid documents for NUTS region PL32 and period 3\n"
     ]
    },
    {
     "name": "stderr",
     "output_type": "stream",
     "text": [
      "Batches: 100%|██████████| 8/8 [00:00<00:00, 14.36it/s]\n"
     ]
    },
    {
     "name": "stdout",
     "output_type": "stream",
     "text": [
      "Processed topic information for NUTS region PL32 and period 4\n"
     ]
    },
    {
     "name": "stderr",
     "output_type": "stream",
     "text": [
      "Batches: 100%|██████████| 23/23 [00:01<00:00, 17.35it/s]\n"
     ]
    },
    {
     "name": "stdout",
     "output_type": "stream",
     "text": [
      "Processed topic information for NUTS region PL32 and period 5\n",
      "No valid documents for NUTS region PL32 and period 6\n"
     ]
    },
    {
     "name": "stderr",
     "output_type": "stream",
     "text": [
      "NUTS regions:  68%|██████▊   | 191/281 [4:09:22<47:15, 31.51s/it]  "
     ]
    },
    {
     "name": "stdout",
     "output_type": "stream",
     "text": [
      "No valid documents for NUTS region PL32 and period 7\n",
      "No valid documents for NUTS region PL32 and period 8\n",
      "No valid documents for NUTS region AT32 and period 1\n",
      "No valid documents for NUTS region AT32 and period 2\n",
      "No valid documents for NUTS region AT32 and period 3\n"
     ]
    },
    {
     "name": "stderr",
     "output_type": "stream",
     "text": [
      "Batches: 100%|██████████| 22/22 [00:01<00:00, 13.30it/s]\n"
     ]
    },
    {
     "name": "stdout",
     "output_type": "stream",
     "text": [
      "Processed topic information for NUTS region AT32 and period 4\n"
     ]
    },
    {
     "name": "stderr",
     "output_type": "stream",
     "text": [
      "Batches: 100%|██████████| 42/42 [00:03<00:00, 13.03it/s]\n"
     ]
    },
    {
     "name": "stdout",
     "output_type": "stream",
     "text": [
      "Processed topic information for NUTS region AT32 and period 5\n"
     ]
    },
    {
     "name": "stderr",
     "output_type": "stream",
     "text": [
      "Batches: 100%|██████████| 4/4 [00:00<00:00,  9.72it/s]\n"
     ]
    },
    {
     "name": "stdout",
     "output_type": "stream",
     "text": [
      "Processed topic information for NUTS region AT32 and period 6\n",
      "No valid documents for NUTS region AT32 and period 7\n"
     ]
    },
    {
     "name": "stderr",
     "output_type": "stream",
     "text": [
      "NUTS regions:  68%|██████▊   | 192/281 [4:09:38<39:26, 26.59s/it]"
     ]
    },
    {
     "name": "stdout",
     "output_type": "stream",
     "text": [
      "No valid documents for NUTS region AT32 and period 8\n",
      "No valid documents for NUTS region CY00 and period 1\n",
      "No valid documents for NUTS region CY00 and period 2\n",
      "No valid documents for NUTS region CY00 and period 3\n"
     ]
    },
    {
     "name": "stderr",
     "output_type": "stream",
     "text": [
      "Batches: 100%|██████████| 13/13 [00:00<00:00, 15.47it/s]\n"
     ]
    },
    {
     "name": "stdout",
     "output_type": "stream",
     "text": [
      "Processed topic information for NUTS region CY00 and period 4\n"
     ]
    },
    {
     "name": "stderr",
     "output_type": "stream",
     "text": [
      "Batches: 100%|██████████| 28/28 [00:01<00:00, 15.58it/s]\n"
     ]
    },
    {
     "name": "stdout",
     "output_type": "stream",
     "text": [
      "Processed topic information for NUTS region CY00 and period 5\n"
     ]
    },
    {
     "name": "stderr",
     "output_type": "stream",
     "text": [
      "Batches: 100%|██████████| 4/4 [00:00<00:00,  8.75it/s]\n"
     ]
    },
    {
     "name": "stdout",
     "output_type": "stream",
     "text": [
      "Processed topic information for NUTS region CY00 and period 6\n",
      "No valid documents for NUTS region CY00 and period 7\n"
     ]
    },
    {
     "name": "stderr",
     "output_type": "stream",
     "text": [
      "NUTS regions:  69%|██████▊   | 193/281 [4:09:49<32:33, 22.20s/it]"
     ]
    },
    {
     "name": "stdout",
     "output_type": "stream",
     "text": [
      "No valid documents for NUTS region CY00 and period 8\n",
      "No valid documents for NUTS region FR26 and period 1\n",
      "No valid documents for NUTS region FR26 and period 2\n",
      "No valid documents for NUTS region FR26 and period 3\n"
     ]
    },
    {
     "name": "stderr",
     "output_type": "stream",
     "text": [
      "Batches: 100%|██████████| 70/70 [00:04<00:00, 14.06it/s]\n"
     ]
    },
    {
     "name": "stdout",
     "output_type": "stream",
     "text": [
      "Processed topic information for NUTS region FR26 and period 4\n"
     ]
    },
    {
     "name": "stderr",
     "output_type": "stream",
     "text": [
      "Batches: 100%|██████████| 129/129 [00:09<00:00, 12.92it/s]\n"
     ]
    },
    {
     "name": "stdout",
     "output_type": "stream",
     "text": [
      "Processed topic information for NUTS region FR26 and period 5\n"
     ]
    },
    {
     "name": "stderr",
     "output_type": "stream",
     "text": [
      "Batches: 100%|██████████| 11/11 [00:01<00:00, 10.63it/s]\n"
     ]
    },
    {
     "name": "stdout",
     "output_type": "stream",
     "text": [
      "Processed topic information for NUTS region FR26 and period 6\n",
      "No valid documents for NUTS region FR26 and period 7\n"
     ]
    },
    {
     "name": "stderr",
     "output_type": "stream",
     "text": [
      "NUTS regions:  69%|██████▉   | 194/281 [4:10:17<34:36, 23.87s/it]"
     ]
    },
    {
     "name": "stdout",
     "output_type": "stream",
     "text": [
      "No valid documents for NUTS region FR26 and period 8\n",
      "No valid documents for NUTS region UKE1 and period 1\n",
      "No valid documents for NUTS region UKE1 and period 2\n",
      "No valid documents for NUTS region UKE1 and period 3\n"
     ]
    },
    {
     "name": "stderr",
     "output_type": "stream",
     "text": [
      "Batches: 100%|██████████| 35/35 [00:02<00:00, 14.04it/s]\n"
     ]
    },
    {
     "name": "stdout",
     "output_type": "stream",
     "text": [
      "Processed topic information for NUTS region UKE1 and period 4\n"
     ]
    },
    {
     "name": "stderr",
     "output_type": "stream",
     "text": [
      "Batches: 100%|██████████| 58/58 [00:03<00:00, 15.12it/s]\n"
     ]
    },
    {
     "name": "stdout",
     "output_type": "stream",
     "text": [
      "Processed topic information for NUTS region UKE1 and period 5\n"
     ]
    },
    {
     "name": "stderr",
     "output_type": "stream",
     "text": [
      "Batches: 100%|██████████| 7/7 [00:00<00:00, 12.42it/s]\n"
     ]
    },
    {
     "name": "stdout",
     "output_type": "stream",
     "text": [
      "Processed topic information for NUTS region UKE1 and period 6\n",
      "No valid documents for NUTS region UKE1 and period 7\n"
     ]
    },
    {
     "name": "stderr",
     "output_type": "stream",
     "text": [
      "NUTS regions:  69%|██████▉   | 195/281 [4:10:35<31:34, 22.03s/it]"
     ]
    },
    {
     "name": "stdout",
     "output_type": "stream",
     "text": [
      "No valid documents for NUTS region UKE1 and period 8\n",
      "No valid documents for NUTS region PT11 and period 1\n",
      "No valid documents for NUTS region PT11 and period 2\n",
      "No valid documents for NUTS region PT11 and period 3\n"
     ]
    },
    {
     "name": "stderr",
     "output_type": "stream",
     "text": [
      "Batches: 100%|██████████| 72/72 [00:05<00:00, 14.18it/s]\n"
     ]
    },
    {
     "name": "stdout",
     "output_type": "stream",
     "text": [
      "Processed topic information for NUTS region PT11 and period 4\n"
     ]
    },
    {
     "name": "stderr",
     "output_type": "stream",
     "text": [
      "Batches: 100%|██████████| 204/204 [00:12<00:00, 15.94it/s]\n"
     ]
    },
    {
     "name": "stdout",
     "output_type": "stream",
     "text": [
      "Processed topic information for NUTS region PT11 and period 5\n"
     ]
    },
    {
     "name": "stderr",
     "output_type": "stream",
     "text": [
      "Batches: 100%|██████████| 26/26 [00:02<00:00, 10.59it/s]\n"
     ]
    },
    {
     "name": "stdout",
     "output_type": "stream",
     "text": [
      "Processed topic information for NUTS region PT11 and period 6\n"
     ]
    },
    {
     "name": "stderr",
     "output_type": "stream",
     "text": [
      "Batches: 100%|██████████| 5/5 [00:00<00:00, 10.53it/s]\n",
      "NUTS regions:  70%|██████▉   | 196/281 [4:11:11<37:19, 26.35s/it]"
     ]
    },
    {
     "name": "stdout",
     "output_type": "stream",
     "text": [
      "Processed topic information for NUTS region PT11 and period 7\n",
      "No valid documents for NUTS region PT11 and period 8\n",
      "No valid documents for NUTS region DED4 and period 1\n",
      "No valid documents for NUTS region DED4 and period 2\n",
      "No valid documents for NUTS region DED4 and period 3\n"
     ]
    },
    {
     "name": "stderr",
     "output_type": "stream",
     "text": [
      "Batches: 100%|██████████| 35/35 [00:02<00:00, 15.47it/s]\n"
     ]
    },
    {
     "name": "stdout",
     "output_type": "stream",
     "text": [
      "Processed topic information for NUTS region DED4 and period 4\n"
     ]
    },
    {
     "name": "stderr",
     "output_type": "stream",
     "text": [
      "Batches: 100%|██████████| 61/61 [00:03<00:00, 15.32it/s]\n"
     ]
    },
    {
     "name": "stdout",
     "output_type": "stream",
     "text": [
      "Processed topic information for NUTS region DED4 and period 5\n"
     ]
    },
    {
     "name": "stderr",
     "output_type": "stream",
     "text": [
      "Batches: 100%|██████████| 6/6 [00:00<00:00, 11.57it/s]\n"
     ]
    },
    {
     "name": "stdout",
     "output_type": "stream",
     "text": [
      "Processed topic information for NUTS region DED4 and period 6\n",
      "No valid documents for NUTS region DED4 and period 7\n"
     ]
    },
    {
     "name": "stderr",
     "output_type": "stream",
     "text": [
      "NUTS regions:  70%|███████   | 197/281 [4:11:29<33:17, 23.78s/it]"
     ]
    },
    {
     "name": "stdout",
     "output_type": "stream",
     "text": [
      "No valid documents for NUTS region DED4 and period 8\n",
      "No valid documents for NUTS region UKG1 and period 1\n",
      "No valid documents for NUTS region UKG1 and period 2\n",
      "No valid documents for NUTS region UKG1 and period 3\n"
     ]
    },
    {
     "name": "stderr",
     "output_type": "stream",
     "text": [
      "Batches: 100%|██████████| 31/31 [00:02<00:00, 13.74it/s]\n"
     ]
    },
    {
     "name": "stdout",
     "output_type": "stream",
     "text": [
      "Processed topic information for NUTS region UKG1 and period 4\n"
     ]
    },
    {
     "name": "stderr",
     "output_type": "stream",
     "text": [
      "Batches: 100%|██████████| 46/46 [00:03<00:00, 14.92it/s]\n"
     ]
    },
    {
     "name": "stdout",
     "output_type": "stream",
     "text": [
      "Processed topic information for NUTS region UKG1 and period 5\n"
     ]
    },
    {
     "name": "stderr",
     "output_type": "stream",
     "text": [
      "Batches: 100%|██████████| 5/5 [00:00<00:00, 10.48it/s]\n"
     ]
    },
    {
     "name": "stdout",
     "output_type": "stream",
     "text": [
      "Processed topic information for NUTS region UKG1 and period 6\n",
      "No valid documents for NUTS region UKG1 and period 7\n"
     ]
    },
    {
     "name": "stderr",
     "output_type": "stream",
     "text": [
      "NUTS regions:  70%|███████   | 198/281 [4:11:45<29:46, 21.53s/it]"
     ]
    },
    {
     "name": "stdout",
     "output_type": "stream",
     "text": [
      "No valid documents for NUTS region UKG1 and period 8\n",
      "No valid documents for NUTS region UKC2 and period 1\n",
      "No valid documents for NUTS region UKC2 and period 2\n",
      "No valid documents for NUTS region UKC2 and period 3\n"
     ]
    },
    {
     "name": "stderr",
     "output_type": "stream",
     "text": [
      "Batches: 100%|██████████| 137/137 [00:09<00:00, 15.11it/s]\n"
     ]
    },
    {
     "name": "stdout",
     "output_type": "stream",
     "text": [
      "Processed topic information for NUTS region UKC2 and period 4\n"
     ]
    },
    {
     "name": "stderr",
     "output_type": "stream",
     "text": [
      "Batches: 100%|██████████| 241/241 [00:16<00:00, 14.80it/s]\n"
     ]
    },
    {
     "name": "stdout",
     "output_type": "stream",
     "text": [
      "Processed topic information for NUTS region UKC2 and period 5\n"
     ]
    },
    {
     "name": "stderr",
     "output_type": "stream",
     "text": [
      "Batches: 100%|██████████| 23/23 [00:01<00:00, 13.20it/s]\n"
     ]
    },
    {
     "name": "stdout",
     "output_type": "stream",
     "text": [
      "Processed topic information for NUTS region UKC2 and period 6\n"
     ]
    },
    {
     "name": "stderr",
     "output_type": "stream",
     "text": [
      "Batches: 100%|██████████| 5/5 [00:00<00:00, 10.42it/s]\n",
      "NUTS regions:  71%|███████   | 199/281 [4:12:27<37:39, 27.56s/it]"
     ]
    },
    {
     "name": "stdout",
     "output_type": "stream",
     "text": [
      "Processed topic information for NUTS region UKC2 and period 7\n",
      "No valid documents for NUTS region UKC2 and period 8\n",
      "No valid documents for NUTS region HU33 and period 1\n",
      "No valid documents for NUTS region HU33 and period 2\n",
      "No valid documents for NUTS region HU33 and period 3\n"
     ]
    },
    {
     "name": "stderr",
     "output_type": "stream",
     "text": [
      "Batches: 100%|██████████| 55/55 [00:07<00:00,  7.76it/s]\n"
     ]
    },
    {
     "name": "stdout",
     "output_type": "stream",
     "text": [
      "Processed topic information for NUTS region HU33 and period 4\n"
     ]
    },
    {
     "name": "stderr",
     "output_type": "stream",
     "text": [
      "Batches: 100%|██████████| 105/105 [00:15<00:00,  6.76it/s]\n"
     ]
    },
    {
     "name": "stdout",
     "output_type": "stream",
     "text": [
      "Processed topic information for NUTS region HU33 and period 5\n"
     ]
    },
    {
     "name": "stderr",
     "output_type": "stream",
     "text": [
      "Batches: 100%|██████████| 9/9 [00:02<00:00,  4.36it/s]\n"
     ]
    },
    {
     "name": "stdout",
     "output_type": "stream",
     "text": [
      "Processed topic information for NUTS region HU33 and period 6\n",
      "No valid documents for NUTS region HU33 and period 7\n"
     ]
    },
    {
     "name": "stderr",
     "output_type": "stream",
     "text": [
      "NUTS regions:  71%|███████   | 200/281 [4:13:06<41:54, 31.04s/it]"
     ]
    },
    {
     "name": "stdout",
     "output_type": "stream",
     "text": [
      "No valid documents for NUTS region HU33 and period 8\n",
      "No valid documents for NUTS region PL41 and period 1\n",
      "No valid documents for NUTS region PL41 and period 2\n",
      "No valid documents for NUTS region PL41 and period 3\n"
     ]
    },
    {
     "name": "stderr",
     "output_type": "stream",
     "text": [
      "Batches: 100%|██████████| 89/89 [00:32<00:00,  2.77it/s]\n"
     ]
    },
    {
     "name": "stdout",
     "output_type": "stream",
     "text": [
      "Processed topic information for NUTS region PL41 and period 4\n"
     ]
    },
    {
     "name": "stderr",
     "output_type": "stream",
     "text": [
      "Batches: 100%|██████████| 199/199 [00:20<00:00,  9.49it/s]\n"
     ]
    },
    {
     "name": "stdout",
     "output_type": "stream",
     "text": [
      "Processed topic information for NUTS region PL41 and period 5\n"
     ]
    },
    {
     "name": "stderr",
     "output_type": "stream",
     "text": [
      "Batches: 100%|██████████| 17/17 [00:01<00:00, 10.63it/s]\n"
     ]
    },
    {
     "name": "stdout",
     "output_type": "stream",
     "text": [
      "Processed topic information for NUTS region PL41 and period 6\n"
     ]
    },
    {
     "name": "stderr",
     "output_type": "stream",
     "text": [
      "Batches: 100%|██████████| 4/4 [00:00<00:00, 12.02it/s]\n",
      "NUTS regions:  72%|███████▏  | 201/281 [4:14:17<57:06, 42.84s/it]"
     ]
    },
    {
     "name": "stdout",
     "output_type": "stream",
     "text": [
      "Processed topic information for NUTS region PL41 and period 7\n",
      "No valid documents for NUTS region PL41 and period 8\n",
      "No valid documents for NUTS region RO11 and period 1\n",
      "No valid documents for NUTS region RO11 and period 2\n",
      "No valid documents for NUTS region RO11 and period 3\n"
     ]
    },
    {
     "name": "stderr",
     "output_type": "stream",
     "text": [
      "Batches: 100%|██████████| 25/25 [00:01<00:00, 18.35it/s]\n"
     ]
    },
    {
     "name": "stdout",
     "output_type": "stream",
     "text": [
      "Processed topic information for NUTS region RO11 and period 4\n"
     ]
    },
    {
     "name": "stderr",
     "output_type": "stream",
     "text": [
      "Batches: 100%|██████████| 49/49 [00:02<00:00, 16.37it/s]\n"
     ]
    },
    {
     "name": "stdout",
     "output_type": "stream",
     "text": [
      "Processed topic information for NUTS region RO11 and period 5\n"
     ]
    },
    {
     "name": "stderr",
     "output_type": "stream",
     "text": [
      "Batches: 100%|██████████| 8/8 [00:00<00:00, 10.79it/s]\n"
     ]
    },
    {
     "name": "stdout",
     "output_type": "stream",
     "text": [
      "Processed topic information for NUTS region RO11 and period 6\n",
      "No valid documents for NUTS region RO11 and period 7\n"
     ]
    },
    {
     "name": "stderr",
     "output_type": "stream",
     "text": [
      "NUTS regions:  72%|███████▏  | 202/281 [4:14:32<45:21, 34.45s/it]"
     ]
    },
    {
     "name": "stdout",
     "output_type": "stream",
     "text": [
      "No valid documents for NUTS region RO11 and period 8\n",
      "No valid documents for NUTS region PT15 and period 1\n",
      "No valid documents for NUTS region PT15 and period 2\n",
      "No valid documents for NUTS region PT15 and period 3\n"
     ]
    },
    {
     "name": "stderr",
     "output_type": "stream",
     "text": [
      "Batches: 100%|██████████| 8/8 [00:00<00:00, 10.18it/s]\n"
     ]
    },
    {
     "name": "stdout",
     "output_type": "stream",
     "text": [
      "Processed topic information for NUTS region PT15 and period 4\n"
     ]
    },
    {
     "name": "stderr",
     "output_type": "stream",
     "text": [
      "Batches: 100%|██████████| 26/26 [00:02<00:00, 12.36it/s]\n"
     ]
    },
    {
     "name": "stdout",
     "output_type": "stream",
     "text": [
      "Processed topic information for NUTS region PT15 and period 5\n"
     ]
    },
    {
     "name": "stderr",
     "output_type": "stream",
     "text": [
      "Batches: 100%|██████████| 4/4 [00:00<00:00,  7.54it/s]\n"
     ]
    },
    {
     "name": "stdout",
     "output_type": "stream",
     "text": [
      "Processed topic information for NUTS region PT15 and period 6\n",
      "No valid documents for NUTS region PT15 and period 7\n"
     ]
    },
    {
     "name": "stderr",
     "output_type": "stream",
     "text": [
      "NUTS regions:  72%|███████▏  | 203/281 [4:14:43<35:56, 27.65s/it]"
     ]
    },
    {
     "name": "stdout",
     "output_type": "stream",
     "text": [
      "No valid documents for NUTS region PT15 and period 8\n",
      "No valid documents for NUTS region ES70 and period 1\n",
      "No valid documents for NUTS region ES70 and period 2\n",
      "No valid documents for NUTS region ES70 and period 3\n"
     ]
    },
    {
     "name": "stderr",
     "output_type": "stream",
     "text": [
      "Batches: 100%|██████████| 58/58 [00:04<00:00, 13.80it/s]\n"
     ]
    },
    {
     "name": "stdout",
     "output_type": "stream",
     "text": [
      "Processed topic information for NUTS region ES70 and period 4\n"
     ]
    },
    {
     "name": "stderr",
     "output_type": "stream",
     "text": [
      "Batches: 100%|██████████| 124/124 [00:08<00:00, 13.95it/s]\n"
     ]
    },
    {
     "name": "stdout",
     "output_type": "stream",
     "text": [
      "Processed topic information for NUTS region ES70 and period 5\n"
     ]
    },
    {
     "name": "stderr",
     "output_type": "stream",
     "text": [
      "Batches: 100%|██████████| 13/13 [00:01<00:00, 11.27it/s]\n"
     ]
    },
    {
     "name": "stdout",
     "output_type": "stream",
     "text": [
      "Processed topic information for NUTS region ES70 and period 6\n",
      "No valid documents for NUTS region ES70 and period 7\n"
     ]
    },
    {
     "name": "stderr",
     "output_type": "stream",
     "text": [
      "NUTS regions:  73%|███████▎  | 204/281 [4:15:14<36:46, 28.65s/it]"
     ]
    },
    {
     "name": "stdout",
     "output_type": "stream",
     "text": [
      "No valid documents for NUTS region ES70 and period 8\n",
      "No valid documents for NUTS region HR04 and period 1\n",
      "No valid documents for NUTS region HR04 and period 2\n",
      "No valid documents for NUTS region HR04 and period 3\n"
     ]
    },
    {
     "name": "stderr",
     "output_type": "stream",
     "text": [
      "Batches: 100%|██████████| 89/89 [00:05<00:00, 15.72it/s]\n"
     ]
    },
    {
     "name": "stdout",
     "output_type": "stream",
     "text": [
      "Processed topic information for NUTS region HR04 and period 4\n"
     ]
    },
    {
     "name": "stderr",
     "output_type": "stream",
     "text": [
      "Batches: 100%|██████████| 180/180 [00:11<00:00, 16.32it/s]\n"
     ]
    },
    {
     "name": "stdout",
     "output_type": "stream",
     "text": [
      "Processed topic information for NUTS region HR04 and period 5\n"
     ]
    },
    {
     "name": "stderr",
     "output_type": "stream",
     "text": [
      "Batches: 100%|██████████| 19/19 [00:01<00:00, 13.03it/s]\n"
     ]
    },
    {
     "name": "stdout",
     "output_type": "stream",
     "text": [
      "Processed topic information for NUTS region HR04 and period 6\n"
     ]
    },
    {
     "name": "stderr",
     "output_type": "stream",
     "text": [
      "Batches: 100%|██████████| 5/5 [00:00<00:00, 10.67it/s]\n",
      "NUTS regions:  73%|███████▎  | 205/281 [4:15:48<38:14, 30.20s/it]"
     ]
    },
    {
     "name": "stdout",
     "output_type": "stream",
     "text": [
      "Processed topic information for NUTS region HR04 and period 7\n",
      "No valid documents for NUTS region HR04 and period 8\n",
      "No valid documents for NUTS region PL61 and period 1\n",
      "No valid documents for NUTS region PL61 and period 2\n",
      "No valid documents for NUTS region PL61 and period 3\n"
     ]
    },
    {
     "name": "stderr",
     "output_type": "stream",
     "text": [
      "Batches: 100%|██████████| 30/30 [00:01<00:00, 16.45it/s]\n"
     ]
    },
    {
     "name": "stdout",
     "output_type": "stream",
     "text": [
      "Processed topic information for NUTS region PL61 and period 4\n"
     ]
    },
    {
     "name": "stderr",
     "output_type": "stream",
     "text": [
      "Batches: 100%|██████████| 63/63 [00:03<00:00, 17.09it/s]\n"
     ]
    },
    {
     "name": "stdout",
     "output_type": "stream",
     "text": [
      "Processed topic information for NUTS region PL61 and period 5\n"
     ]
    },
    {
     "name": "stderr",
     "output_type": "stream",
     "text": [
      "Batches: 100%|██████████| 8/8 [00:00<00:00, 11.68it/s]\n"
     ]
    },
    {
     "name": "stdout",
     "output_type": "stream",
     "text": [
      "Processed topic information for NUTS region PL61 and period 6\n",
      "No valid documents for NUTS region PL61 and period 7\n"
     ]
    },
    {
     "name": "stderr",
     "output_type": "stream",
     "text": [
      "NUTS regions:  73%|███████▎  | 206/281 [4:16:05<32:36, 26.09s/it]"
     ]
    },
    {
     "name": "stdout",
     "output_type": "stream",
     "text": [
      "No valid documents for NUTS region PL61 and period 8\n",
      "No valid documents for NUTS region ITG2 and period 1\n",
      "No valid documents for NUTS region ITG2 and period 2\n",
      "No valid documents for NUTS region ITG2 and period 3\n"
     ]
    },
    {
     "name": "stderr",
     "output_type": "stream",
     "text": [
      "Batches: 100%|██████████| 76/76 [00:04<00:00, 15.38it/s]\n"
     ]
    },
    {
     "name": "stdout",
     "output_type": "stream",
     "text": [
      "Processed topic information for NUTS region ITG2 and period 4\n"
     ]
    },
    {
     "name": "stderr",
     "output_type": "stream",
     "text": [
      "Batches: 100%|██████████| 138/138 [00:08<00:00, 15.65it/s]\n"
     ]
    },
    {
     "name": "stdout",
     "output_type": "stream",
     "text": [
      "Processed topic information for NUTS region ITG2 and period 5\n"
     ]
    },
    {
     "name": "stderr",
     "output_type": "stream",
     "text": [
      "Batches: 100%|██████████| 14/14 [00:01<00:00, 13.22it/s]\n"
     ]
    },
    {
     "name": "stdout",
     "output_type": "stream",
     "text": [
      "Processed topic information for NUTS region ITG2 and period 6\n",
      "No valid documents for NUTS region ITG2 and period 7\n"
     ]
    },
    {
     "name": "stderr",
     "output_type": "stream",
     "text": [
      "NUTS regions:  74%|███████▎  | 207/281 [4:16:32<32:29, 26.35s/it]"
     ]
    },
    {
     "name": "stdout",
     "output_type": "stream",
     "text": [
      "No valid documents for NUTS region ITG2 and period 8\n",
      "No valid documents for NUTS region ITF6 and period 1\n",
      "No valid documents for NUTS region ITF6 and period 2\n",
      "No valid documents for NUTS region ITF6 and period 3\n"
     ]
    },
    {
     "name": "stderr",
     "output_type": "stream",
     "text": [
      "Batches: 100%|██████████| 47/47 [00:02<00:00, 15.77it/s]\n"
     ]
    },
    {
     "name": "stdout",
     "output_type": "stream",
     "text": [
      "Processed topic information for NUTS region ITF6 and period 4\n"
     ]
    },
    {
     "name": "stderr",
     "output_type": "stream",
     "text": [
      "Batches: 100%|██████████| 112/112 [00:06<00:00, 16.17it/s]\n"
     ]
    },
    {
     "name": "stdout",
     "output_type": "stream",
     "text": [
      "Processed topic information for NUTS region ITF6 and period 5\n"
     ]
    },
    {
     "name": "stderr",
     "output_type": "stream",
     "text": [
      "Batches: 100%|██████████| 13/13 [00:01<00:00, 12.23it/s]\n"
     ]
    },
    {
     "name": "stdout",
     "output_type": "stream",
     "text": [
      "Processed topic information for NUTS region ITF6 and period 6\n",
      "No valid documents for NUTS region ITF6 and period 7\n"
     ]
    },
    {
     "name": "stderr",
     "output_type": "stream",
     "text": [
      "NUTS regions:  74%|███████▍  | 208/281 [4:16:57<31:38, 26.00s/it]"
     ]
    },
    {
     "name": "stdout",
     "output_type": "stream",
     "text": [
      "No valid documents for NUTS region ITF6 and period 8\n",
      "No valid documents for NUTS region DK03 and period 1\n",
      "No valid documents for NUTS region DK03 and period 2\n",
      "No valid documents for NUTS region DK03 and period 3\n"
     ]
    },
    {
     "name": "stderr",
     "output_type": "stream",
     "text": [
      "Batches: 100%|██████████| 65/65 [00:04<00:00, 13.31it/s]\n"
     ]
    },
    {
     "name": "stdout",
     "output_type": "stream",
     "text": [
      "Processed topic information for NUTS region DK03 and period 4\n"
     ]
    },
    {
     "name": "stderr",
     "output_type": "stream",
     "text": [
      "Batches: 100%|██████████| 127/127 [00:08<00:00, 14.69it/s]\n"
     ]
    },
    {
     "name": "stdout",
     "output_type": "stream",
     "text": [
      "Processed topic information for NUTS region DK03 and period 5\n"
     ]
    },
    {
     "name": "stderr",
     "output_type": "stream",
     "text": [
      "Batches: 100%|██████████| 13/13 [00:01<00:00, 11.38it/s]\n"
     ]
    },
    {
     "name": "stdout",
     "output_type": "stream",
     "text": [
      "Processed topic information for NUTS region DK03 and period 6\n",
      "No valid documents for NUTS region DK03 and period 7\n"
     ]
    },
    {
     "name": "stderr",
     "output_type": "stream",
     "text": [
      "NUTS regions:  74%|███████▍  | 209/281 [4:17:28<33:11, 27.65s/it]"
     ]
    },
    {
     "name": "stdout",
     "output_type": "stream",
     "text": [
      "No valid documents for NUTS region DK03 and period 8\n",
      "No valid documents for NUTS region CH06 and period 1\n",
      "No valid documents for NUTS region CH06 and period 2\n",
      "No valid documents for NUTS region CH06 and period 3\n"
     ]
    },
    {
     "name": "stderr",
     "output_type": "stream",
     "text": [
      "Batches: 100%|██████████| 10/10 [00:00<00:00, 12.77it/s]\n"
     ]
    },
    {
     "name": "stdout",
     "output_type": "stream",
     "text": [
      "Processed topic information for NUTS region CH06 and period 4\n"
     ]
    },
    {
     "name": "stderr",
     "output_type": "stream",
     "text": [
      "Batches: 100%|██████████| 19/19 [00:01<00:00, 14.36it/s]\n"
     ]
    },
    {
     "name": "stdout",
     "output_type": "stream",
     "text": [
      "Processed topic information for NUTS region CH06 and period 5\n",
      "No valid documents for NUTS region CH06 and period 6\n"
     ]
    },
    {
     "name": "stderr",
     "output_type": "stream",
     "text": [
      "NUTS regions:  75%|███████▍  | 210/281 [4:17:37<25:58, 21.95s/it]"
     ]
    },
    {
     "name": "stdout",
     "output_type": "stream",
     "text": [
      "No valid documents for NUTS region CH06 and period 7\n",
      "No valid documents for NUTS region CH06 and period 8\n",
      "No valid documents for NUTS region ITF5 and period 1\n",
      "No valid documents for NUTS region ITF5 and period 2\n",
      "No valid documents for NUTS region ITF5 and period 3\n"
     ]
    },
    {
     "name": "stderr",
     "output_type": "stream",
     "text": [
      "Batches: 100%|██████████| 23/23 [00:01<00:00, 15.41it/s]\n"
     ]
    },
    {
     "name": "stdout",
     "output_type": "stream",
     "text": [
      "Processed topic information for NUTS region ITF5 and period 4\n"
     ]
    },
    {
     "name": "stderr",
     "output_type": "stream",
     "text": [
      "Batches: 100%|██████████| 49/49 [00:03<00:00, 15.77it/s]\n"
     ]
    },
    {
     "name": "stdout",
     "output_type": "stream",
     "text": [
      "Processed topic information for NUTS region ITF5 and period 5\n"
     ]
    },
    {
     "name": "stderr",
     "output_type": "stream",
     "text": [
      "Batches: 100%|██████████| 5/5 [00:00<00:00, 12.15it/s]\n"
     ]
    },
    {
     "name": "stdout",
     "output_type": "stream",
     "text": [
      "Processed topic information for NUTS region ITF5 and period 6\n",
      "No valid documents for NUTS region ITF5 and period 7\n"
     ]
    },
    {
     "name": "stderr",
     "output_type": "stream",
     "text": [
      "NUTS regions:  75%|███████▌  | 211/281 [4:17:51<22:56, 19.67s/it]"
     ]
    },
    {
     "name": "stdout",
     "output_type": "stream",
     "text": [
      "No valid documents for NUTS region ITF5 and period 8\n",
      "No valid documents for NUTS region NO07 and period 1\n",
      "No valid documents for NUTS region NO07 and period 2\n",
      "No valid documents for NUTS region NO07 and period 3\n"
     ]
    },
    {
     "name": "stderr",
     "output_type": "stream",
     "text": [
      "Batches: 100%|██████████| 45/45 [00:03<00:00, 14.00it/s]\n"
     ]
    },
    {
     "name": "stdout",
     "output_type": "stream",
     "text": [
      "Processed topic information for NUTS region NO07 and period 4\n"
     ]
    },
    {
     "name": "stderr",
     "output_type": "stream",
     "text": [
      "Batches: 100%|██████████| 84/84 [00:05<00:00, 14.52it/s]\n"
     ]
    },
    {
     "name": "stdout",
     "output_type": "stream",
     "text": [
      "Processed topic information for NUTS region NO07 and period 5\n"
     ]
    },
    {
     "name": "stderr",
     "output_type": "stream",
     "text": [
      "Batches: 100%|██████████| 9/9 [00:00<00:00,  9.26it/s]\n"
     ]
    },
    {
     "name": "stdout",
     "output_type": "stream",
     "text": [
      "Processed topic information for NUTS region NO07 and period 6\n",
      "No valid documents for NUTS region NO07 and period 7\n"
     ]
    },
    {
     "name": "stderr",
     "output_type": "stream",
     "text": [
      "NUTS regions:  75%|███████▌  | 212/281 [4:18:13<23:27, 20.40s/it]"
     ]
    },
    {
     "name": "stdout",
     "output_type": "stream",
     "text": [
      "No valid documents for NUTS region NO07 and period 8\n",
      "No valid documents for NUTS region PL63 and period 1\n",
      "No valid documents for NUTS region PL63 and period 2\n",
      "No valid documents for NUTS region PL63 and period 3\n"
     ]
    },
    {
     "name": "stderr",
     "output_type": "stream",
     "text": [
      "Batches: 100%|██████████| 48/48 [00:02<00:00, 16.04it/s]\n"
     ]
    },
    {
     "name": "stdout",
     "output_type": "stream",
     "text": [
      "Processed topic information for NUTS region PL63 and period 4\n"
     ]
    },
    {
     "name": "stderr",
     "output_type": "stream",
     "text": [
      "Batches: 100%|██████████| 116/116 [00:07<00:00, 16.43it/s]\n"
     ]
    },
    {
     "name": "stdout",
     "output_type": "stream",
     "text": [
      "Processed topic information for NUTS region PL63 and period 5\n"
     ]
    },
    {
     "name": "stderr",
     "output_type": "stream",
     "text": [
      "Batches: 100%|██████████| 12/12 [00:01<00:00, 11.29it/s]\n"
     ]
    },
    {
     "name": "stdout",
     "output_type": "stream",
     "text": [
      "Processed topic information for NUTS region PL63 and period 6\n",
      "No valid documents for NUTS region PL63 and period 7\n"
     ]
    },
    {
     "name": "stderr",
     "output_type": "stream",
     "text": [
      "NUTS regions:  76%|███████▌  | 213/281 [4:18:39<25:02, 22.10s/it]"
     ]
    },
    {
     "name": "stdout",
     "output_type": "stream",
     "text": [
      "No valid documents for NUTS region PL63 and period 8\n",
      "No valid documents for NUTS region DE22 and period 1\n",
      "No valid documents for NUTS region DE22 and period 2\n",
      "No valid documents for NUTS region DE22 and period 3\n"
     ]
    },
    {
     "name": "stderr",
     "output_type": "stream",
     "text": [
      "Batches: 100%|██████████| 7/7 [00:00<00:00, 10.24it/s]\n"
     ]
    },
    {
     "name": "stdout",
     "output_type": "stream",
     "text": [
      "Processed topic information for NUTS region DE22 and period 4\n"
     ]
    },
    {
     "name": "stderr",
     "output_type": "stream",
     "text": [
      "Batches: 100%|██████████| 17/17 [00:01<00:00, 12.48it/s]\n"
     ]
    },
    {
     "name": "stdout",
     "output_type": "stream",
     "text": [
      "Processed topic information for NUTS region DE22 and period 5\n",
      "No valid documents for NUTS region DE22 and period 6\n"
     ]
    },
    {
     "name": "stderr",
     "output_type": "stream",
     "text": [
      "NUTS regions:  76%|███████▌  | 214/281 [4:18:49<20:20, 18.21s/it]"
     ]
    },
    {
     "name": "stdout",
     "output_type": "stream",
     "text": [
      "No valid documents for NUTS region DE22 and period 7\n",
      "No valid documents for NUTS region DE22 and period 8\n",
      "No valid documents for NUTS region BG34 and period 1\n",
      "No valid documents for NUTS region BG34 and period 2\n",
      "No valid documents for NUTS region BG34 and period 3\n"
     ]
    },
    {
     "name": "stderr",
     "output_type": "stream",
     "text": [
      "Batches: 100%|██████████| 7/7 [00:00<00:00, 11.63it/s]\n"
     ]
    },
    {
     "name": "stdout",
     "output_type": "stream",
     "text": [
      "Processed topic information for NUTS region BG34 and period 4\n"
     ]
    },
    {
     "name": "stderr",
     "output_type": "stream",
     "text": [
      "Batches: 100%|██████████| 12/12 [00:00<00:00, 15.44it/s]\n"
     ]
    },
    {
     "name": "stdout",
     "output_type": "stream",
     "text": [
      "Processed topic information for NUTS region BG34 and period 5\n",
      "No valid documents for NUTS region BG34 and period 6\n"
     ]
    },
    {
     "name": "stderr",
     "output_type": "stream",
     "text": [
      "NUTS regions:  77%|███████▋  | 215/281 [4:18:57<16:42, 15.19s/it]"
     ]
    },
    {
     "name": "stdout",
     "output_type": "stream",
     "text": [
      "No valid documents for NUTS region BG34 and period 7\n",
      "No valid documents for NUTS region BG34 and period 8\n",
      "No valid documents for NUTS region EL51 and period 1\n",
      "No valid documents for NUTS region EL51 and period 2\n",
      "No valid documents for NUTS region EL51 and period 3\n"
     ]
    },
    {
     "name": "stderr",
     "output_type": "stream",
     "text": [
      "Batches: 100%|██████████| 12/12 [00:00<00:00, 14.50it/s]\n"
     ]
    },
    {
     "name": "stdout",
     "output_type": "stream",
     "text": [
      "Processed topic information for NUTS region EL51 and period 4\n"
     ]
    },
    {
     "name": "stderr",
     "output_type": "stream",
     "text": [
      "Batches: 100%|██████████| 31/31 [00:02<00:00, 14.41it/s]\n"
     ]
    },
    {
     "name": "stdout",
     "output_type": "stream",
     "text": [
      "Processed topic information for NUTS region EL51 and period 5\n"
     ]
    },
    {
     "name": "stderr",
     "output_type": "stream",
     "text": [
      "Batches: 100%|██████████| 4/4 [00:00<00:00,  7.87it/s]\n"
     ]
    },
    {
     "name": "stdout",
     "output_type": "stream",
     "text": [
      "Processed topic information for NUTS region EL51 and period 6\n",
      "No valid documents for NUTS region EL51 and period 7\n"
     ]
    },
    {
     "name": "stderr",
     "output_type": "stream",
     "text": [
      "NUTS regions:  77%|███████▋  | 216/281 [4:19:09<15:26, 14.26s/it]"
     ]
    },
    {
     "name": "stdout",
     "output_type": "stream",
     "text": [
      "No valid documents for NUTS region EL51 and period 8\n",
      "No valid documents for NUTS region DE93 and period 1\n",
      "No valid documents for NUTS region DE93 and period 2\n",
      "No valid documents for NUTS region DE93 and period 3\n"
     ]
    },
    {
     "name": "stderr",
     "output_type": "stream",
     "text": [
      "Batches: 100%|██████████| 7/7 [00:00<00:00, 10.24it/s]\n"
     ]
    },
    {
     "name": "stdout",
     "output_type": "stream",
     "text": [
      "Processed topic information for NUTS region DE93 and period 4\n"
     ]
    },
    {
     "name": "stderr",
     "output_type": "stream",
     "text": [
      "Batches: 100%|██████████| 16/16 [00:01<00:00, 10.62it/s]\n"
     ]
    },
    {
     "name": "stdout",
     "output_type": "stream",
     "text": [
      "Processed topic information for NUTS region DE93 and period 5\n",
      "No valid documents for NUTS region DE93 and period 6\n"
     ]
    },
    {
     "name": "stderr",
     "output_type": "stream",
     "text": [
      "NUTS regions:  77%|███████▋  | 217/281 [4:19:18<13:29, 12.65s/it]"
     ]
    },
    {
     "name": "stdout",
     "output_type": "stream",
     "text": [
      "No valid documents for NUTS region DE93 and period 7\n",
      "No valid documents for NUTS region DE93 and period 8\n",
      "No valid documents for NUTS region CZ02 and period 1\n",
      "No valid documents for NUTS region CZ02 and period 2\n",
      "No valid documents for NUTS region CZ02 and period 3\n"
     ]
    },
    {
     "name": "stderr",
     "output_type": "stream",
     "text": [
      "Batches: 100%|██████████| 24/24 [00:02<00:00,  8.63it/s]\n"
     ]
    },
    {
     "name": "stdout",
     "output_type": "stream",
     "text": [
      "Processed topic information for NUTS region CZ02 and period 4\n"
     ]
    },
    {
     "name": "stderr",
     "output_type": "stream",
     "text": [
      "Batches: 100%|██████████| 47/47 [00:07<00:00,  6.46it/s]\n"
     ]
    },
    {
     "name": "stdout",
     "output_type": "stream",
     "text": [
      "Processed topic information for NUTS region CZ02 and period 5\n"
     ]
    },
    {
     "name": "stderr",
     "output_type": "stream",
     "text": [
      "Batches: 100%|██████████| 5/5 [00:01<00:00,  3.68it/s]\n"
     ]
    },
    {
     "name": "stdout",
     "output_type": "stream",
     "text": [
      "Processed topic information for NUTS region CZ02 and period 6\n",
      "No valid documents for NUTS region CZ02 and period 7\n"
     ]
    },
    {
     "name": "stderr",
     "output_type": "stream",
     "text": [
      "NUTS regions:  78%|███████▊  | 218/281 [4:19:39<15:53, 15.14s/it]"
     ]
    },
    {
     "name": "stdout",
     "output_type": "stream",
     "text": [
      "No valid documents for NUTS region CZ02 and period 8\n",
      "No valid documents for NUTS region EL43 and period 1\n",
      "No valid documents for NUTS region EL43 and period 2\n",
      "No valid documents for NUTS region EL43 and period 3\n"
     ]
    },
    {
     "name": "stderr",
     "output_type": "stream",
     "text": [
      "Batches: 100%|██████████| 57/57 [00:18<00:00,  3.07it/s]\n"
     ]
    },
    {
     "name": "stdout",
     "output_type": "stream",
     "text": [
      "Processed topic information for NUTS region EL43 and period 4\n"
     ]
    },
    {
     "name": "stderr",
     "output_type": "stream",
     "text": [
      "Batches: 100%|██████████| 125/125 [00:13<00:00,  9.41it/s]\n"
     ]
    },
    {
     "name": "stdout",
     "output_type": "stream",
     "text": [
      "Processed topic information for NUTS region EL43 and period 5\n"
     ]
    },
    {
     "name": "stderr",
     "output_type": "stream",
     "text": [
      "Batches: 100%|██████████| 13/13 [00:01<00:00, 12.64it/s]\n"
     ]
    },
    {
     "name": "stdout",
     "output_type": "stream",
     "text": [
      "Processed topic information for NUTS region EL43 and period 6\n",
      "No valid documents for NUTS region EL43 and period 7\n"
     ]
    },
    {
     "name": "stderr",
     "output_type": "stream",
     "text": [
      "NUTS regions:  78%|███████▊  | 219/281 [4:20:28<26:11, 25.34s/it]"
     ]
    },
    {
     "name": "stdout",
     "output_type": "stream",
     "text": [
      "No valid documents for NUTS region EL43 and period 8\n",
      "No valid documents for NUTS region SI03 and period 1\n",
      "No valid documents for NUTS region SI03 and period 2\n",
      "No valid documents for NUTS region SI03 and period 3\n"
     ]
    },
    {
     "name": "stderr",
     "output_type": "stream",
     "text": [
      "Batches: 100%|██████████| 19/19 [00:01<00:00, 13.12it/s]\n"
     ]
    },
    {
     "name": "stdout",
     "output_type": "stream",
     "text": [
      "Processed topic information for NUTS region SI03 and period 4\n"
     ]
    },
    {
     "name": "stderr",
     "output_type": "stream",
     "text": [
      "Batches: 100%|██████████| 52/52 [00:03<00:00, 15.70it/s]\n"
     ]
    },
    {
     "name": "stdout",
     "output_type": "stream",
     "text": [
      "Processed topic information for NUTS region SI03 and period 5\n"
     ]
    },
    {
     "name": "stderr",
     "output_type": "stream",
     "text": [
      "Batches: 100%|██████████| 5/5 [00:00<00:00,  7.09it/s]\n"
     ]
    },
    {
     "name": "stdout",
     "output_type": "stream",
     "text": [
      "Processed topic information for NUTS region SI03 and period 6\n",
      "No valid documents for NUTS region SI03 and period 7\n"
     ]
    },
    {
     "name": "stderr",
     "output_type": "stream",
     "text": [
      "NUTS regions:  78%|███████▊  | 220/281 [4:20:43<22:36, 22.24s/it]"
     ]
    },
    {
     "name": "stdout",
     "output_type": "stream",
     "text": [
      "No valid documents for NUTS region SI03 and period 8\n",
      "No valid documents for NUTS region DE24 and period 1\n",
      "No valid documents for NUTS region DE24 and period 2\n",
      "No valid documents for NUTS region DE24 and period 3\n"
     ]
    },
    {
     "name": "stderr",
     "output_type": "stream",
     "text": [
      "Batches: 100%|██████████| 81/81 [00:05<00:00, 15.27it/s]\n"
     ]
    },
    {
     "name": "stdout",
     "output_type": "stream",
     "text": [
      "Processed topic information for NUTS region DE24 and period 4\n"
     ]
    },
    {
     "name": "stderr",
     "output_type": "stream",
     "text": [
      "Batches: 100%|██████████| 129/129 [00:08<00:00, 14.79it/s]\n"
     ]
    },
    {
     "name": "stdout",
     "output_type": "stream",
     "text": [
      "Processed topic information for NUTS region DE24 and period 5\n"
     ]
    },
    {
     "name": "stderr",
     "output_type": "stream",
     "text": [
      "Batches: 100%|██████████| 10/10 [00:00<00:00, 10.11it/s]\n"
     ]
    },
    {
     "name": "stdout",
     "output_type": "stream",
     "text": [
      "Processed topic information for NUTS region DE24 and period 6\n",
      "No valid documents for NUTS region DE24 and period 7\n"
     ]
    },
    {
     "name": "stderr",
     "output_type": "stream",
     "text": [
      "NUTS regions:  79%|███████▊  | 221/281 [4:21:10<23:46, 23.78s/it]"
     ]
    },
    {
     "name": "stdout",
     "output_type": "stream",
     "text": [
      "No valid documents for NUTS region DE24 and period 8\n",
      "No valid documents for NUTS region BE31 and period 1\n",
      "No valid documents for NUTS region BE31 and period 2\n",
      "No valid documents for NUTS region BE31 and period 3\n"
     ]
    },
    {
     "name": "stderr",
     "output_type": "stream",
     "text": [
      "Batches: 100%|██████████| 32/32 [00:02<00:00, 14.30it/s]\n"
     ]
    },
    {
     "name": "stdout",
     "output_type": "stream",
     "text": [
      "Processed topic information for NUTS region BE31 and period 4\n"
     ]
    },
    {
     "name": "stderr",
     "output_type": "stream",
     "text": [
      "Batches: 100%|██████████| 62/62 [00:04<00:00, 15.41it/s]\n"
     ]
    },
    {
     "name": "stdout",
     "output_type": "stream",
     "text": [
      "Processed topic information for NUTS region BE31 and period 5\n"
     ]
    },
    {
     "name": "stderr",
     "output_type": "stream",
     "text": [
      "Batches: 100%|██████████| 6/6 [00:00<00:00, 10.55it/s]\n"
     ]
    },
    {
     "name": "stdout",
     "output_type": "stream",
     "text": [
      "Processed topic information for NUTS region BE31 and period 6\n",
      "No valid documents for NUTS region BE31 and period 7\n"
     ]
    },
    {
     "name": "stderr",
     "output_type": "stream",
     "text": [
      "NUTS regions:  79%|███████▉  | 222/281 [4:21:27<21:25, 21.78s/it]"
     ]
    },
    {
     "name": "stdout",
     "output_type": "stream",
     "text": [
      "No valid documents for NUTS region BE31 and period 8\n",
      "No valid documents for NUTS region UKD1 and period 1\n",
      "No valid documents for NUTS region UKD1 and period 2\n",
      "No valid documents for NUTS region UKD1 and period 3\n"
     ]
    },
    {
     "name": "stderr",
     "output_type": "stream",
     "text": [
      "Batches: 100%|██████████| 14/14 [00:01<00:00, 12.36it/s]\n"
     ]
    },
    {
     "name": "stdout",
     "output_type": "stream",
     "text": [
      "Processed topic information for NUTS region UKD1 and period 4\n"
     ]
    },
    {
     "name": "stderr",
     "output_type": "stream",
     "text": [
      "Batches: 100%|██████████| 17/17 [00:01<00:00, 12.29it/s]\n"
     ]
    },
    {
     "name": "stdout",
     "output_type": "stream",
     "text": [
      "Processed topic information for NUTS region UKD1 and period 5\n",
      "No valid documents for NUTS region UKD1 and period 6\n"
     ]
    },
    {
     "name": "stderr",
     "output_type": "stream",
     "text": [
      "NUTS regions:  79%|███████▉  | 223/281 [4:21:36<17:24, 18.00s/it]"
     ]
    },
    {
     "name": "stdout",
     "output_type": "stream",
     "text": [
      "No valid documents for NUTS region UKD1 and period 7\n",
      "No valid documents for NUTS region UKD1 and period 8\n",
      "No valid documents for NUTS region PL11 and period 1\n",
      "No valid documents for NUTS region PL11 and period 2\n",
      "No valid documents for NUTS region PL11 and period 3\n"
     ]
    },
    {
     "name": "stderr",
     "output_type": "stream",
     "text": [
      "Batches: 100%|██████████| 74/74 [00:04<00:00, 17.96it/s]\n"
     ]
    },
    {
     "name": "stdout",
     "output_type": "stream",
     "text": [
      "Processed topic information for NUTS region PL11 and period 4\n"
     ]
    },
    {
     "name": "stderr",
     "output_type": "stream",
     "text": [
      "Batches: 100%|██████████| 148/148 [00:09<00:00, 15.03it/s]\n"
     ]
    },
    {
     "name": "stdout",
     "output_type": "stream",
     "text": [
      "Processed topic information for NUTS region PL11 and period 5\n"
     ]
    },
    {
     "name": "stderr",
     "output_type": "stream",
     "text": [
      "Batches: 100%|██████████| 14/14 [00:01<00:00, 11.84it/s]\n"
     ]
    },
    {
     "name": "stdout",
     "output_type": "stream",
     "text": [
      "Processed topic information for NUTS region PL11 and period 6\n",
      "No valid documents for NUTS region PL11 and period 7\n"
     ]
    },
    {
     "name": "stderr",
     "output_type": "stream",
     "text": [
      "NUTS regions:  80%|███████▉  | 224/281 [4:22:04<19:45, 20.80s/it]"
     ]
    },
    {
     "name": "stdout",
     "output_type": "stream",
     "text": [
      "No valid documents for NUTS region PL11 and period 8\n",
      "No valid documents for NUTS region FRA1 and period 1\n",
      "No valid documents for NUTS region FRA1 and period 2\n",
      "No valid documents for NUTS region FRA1 and period 3\n"
     ]
    },
    {
     "name": "stderr",
     "output_type": "stream",
     "text": [
      "Batches: 100%|██████████| 6/6 [00:00<00:00,  8.48it/s]\n"
     ]
    },
    {
     "name": "stdout",
     "output_type": "stream",
     "text": [
      "Processed topic information for NUTS region FRA1 and period 4\n"
     ]
    },
    {
     "name": "stderr",
     "output_type": "stream",
     "text": [
      "Batches: 100%|██████████| 11/11 [00:00<00:00, 11.57it/s]\n"
     ]
    },
    {
     "name": "stdout",
     "output_type": "stream",
     "text": [
      "Processed topic information for NUTS region FRA1 and period 5\n",
      "No valid documents for NUTS region FRA1 and period 6\n"
     ]
    },
    {
     "name": "stderr",
     "output_type": "stream",
     "text": [
      "NUTS regions:  80%|████████  | 225/281 [4:22:12<15:53, 17.03s/it]"
     ]
    },
    {
     "name": "stdout",
     "output_type": "stream",
     "text": [
      "No valid documents for NUTS region FRA1 and period 7\n",
      "No valid documents for NUTS region FRA1 and period 8\n",
      "No valid documents for NUTS region DEB2 and period 1\n",
      "No valid documents for NUTS region DEB2 and period 2\n",
      "No valid documents for NUTS region DEB2 and period 3\n"
     ]
    },
    {
     "name": "stderr",
     "output_type": "stream",
     "text": [
      "Batches: 100%|██████████| 9/9 [00:00<00:00, 12.09it/s]\n"
     ]
    },
    {
     "name": "stdout",
     "output_type": "stream",
     "text": [
      "Processed topic information for NUTS region DEB2 and period 4\n"
     ]
    },
    {
     "name": "stderr",
     "output_type": "stream",
     "text": [
      "Batches: 100%|██████████| 13/13 [00:00<00:00, 13.42it/s]\n"
     ]
    },
    {
     "name": "stdout",
     "output_type": "stream",
     "text": [
      "Processed topic information for NUTS region DEB2 and period 5\n",
      "No valid documents for NUTS region DEB2 and period 6\n"
     ]
    },
    {
     "name": "stderr",
     "output_type": "stream",
     "text": [
      "NUTS regions:  80%|████████  | 226/281 [4:22:20<13:11, 14.38s/it]"
     ]
    },
    {
     "name": "stdout",
     "output_type": "stream",
     "text": [
      "No valid documents for NUTS region DEB2 and period 7\n",
      "No valid documents for NUTS region DEB2 and period 8\n",
      "No valid documents for NUTS region LU00 and period 1\n",
      "No valid documents for NUTS region LU00 and period 2\n",
      "No valid documents for NUTS region LU00 and period 3\n"
     ]
    },
    {
     "name": "stderr",
     "output_type": "stream",
     "text": [
      "Batches: 100%|██████████| 7/7 [00:00<00:00, 10.29it/s]\n"
     ]
    },
    {
     "name": "stdout",
     "output_type": "stream",
     "text": [
      "Processed topic information for NUTS region LU00 and period 4\n"
     ]
    },
    {
     "name": "stderr",
     "output_type": "stream",
     "text": [
      "Batches: 100%|██████████| 17/17 [00:01<00:00, 13.46it/s]\n"
     ]
    },
    {
     "name": "stdout",
     "output_type": "stream",
     "text": [
      "Processed topic information for NUTS region LU00 and period 5\n",
      "No valid documents for NUTS region LU00 and period 6\n"
     ]
    },
    {
     "name": "stderr",
     "output_type": "stream",
     "text": [
      "NUTS regions:  81%|████████  | 227/281 [4:22:29<11:25, 12.69s/it]"
     ]
    },
    {
     "name": "stdout",
     "output_type": "stream",
     "text": [
      "No valid documents for NUTS region LU00 and period 7\n",
      "No valid documents for NUTS region LU00 and period 8\n",
      "No valid documents for NUTS region AT12 and period 1\n",
      "No valid documents for NUTS region AT12 and period 2\n",
      "No valid documents for NUTS region AT12 and period 3\n"
     ]
    },
    {
     "name": "stderr",
     "output_type": "stream",
     "text": [
      "Batches: 100%|██████████| 19/19 [00:01<00:00, 12.66it/s]\n"
     ]
    },
    {
     "name": "stdout",
     "output_type": "stream",
     "text": [
      "Processed topic information for NUTS region AT12 and period 4\n"
     ]
    },
    {
     "name": "stderr",
     "output_type": "stream",
     "text": [
      "Batches: 100%|██████████| 40/40 [00:02<00:00, 14.24it/s]\n"
     ]
    },
    {
     "name": "stdout",
     "output_type": "stream",
     "text": [
      "Processed topic information for NUTS region AT12 and period 5\n"
     ]
    },
    {
     "name": "stderr",
     "output_type": "stream",
     "text": [
      "Batches: 100%|██████████| 4/4 [00:00<00:00,  9.05it/s]\n"
     ]
    },
    {
     "name": "stdout",
     "output_type": "stream",
     "text": [
      "Processed topic information for NUTS region AT12 and period 6\n",
      "No valid documents for NUTS region AT12 and period 7\n"
     ]
    },
    {
     "name": "stderr",
     "output_type": "stream",
     "text": [
      "NUTS regions:  81%|████████  | 228/281 [4:22:43<11:30, 13.03s/it]"
     ]
    },
    {
     "name": "stdout",
     "output_type": "stream",
     "text": [
      "No valid documents for NUTS region AT12 and period 8\n",
      "No valid documents for NUTS region PT18 and period 1\n",
      "No valid documents for NUTS region PT18 and period 2\n",
      "No valid documents for NUTS region PT18 and period 3\n"
     ]
    },
    {
     "name": "stderr",
     "output_type": "stream",
     "text": [
      "Batches: 100%|██████████| 4/4 [00:00<00:00,  8.06it/s]\n"
     ]
    },
    {
     "name": "stdout",
     "output_type": "stream",
     "text": [
      "Processed topic information for NUTS region PT18 and period 4\n"
     ]
    },
    {
     "name": "stderr",
     "output_type": "stream",
     "text": [
      "Batches: 100%|██████████| 14/14 [00:01<00:00, 13.89it/s]\n"
     ]
    },
    {
     "name": "stdout",
     "output_type": "stream",
     "text": [
      "Processed topic information for NUTS region PT18 and period 5\n",
      "No valid documents for NUTS region PT18 and period 6\n"
     ]
    },
    {
     "name": "stderr",
     "output_type": "stream",
     "text": [
      "NUTS regions:  81%|████████▏ | 229/281 [4:22:51<10:00, 11.55s/it]"
     ]
    },
    {
     "name": "stdout",
     "output_type": "stream",
     "text": [
      "No valid documents for NUTS region PT18 and period 7\n",
      "No valid documents for NUTS region PT18 and period 8\n",
      "No valid documents for NUTS region UKK3 and period 1\n",
      "No valid documents for NUTS region UKK3 and period 2\n",
      "No valid documents for NUTS region UKK3 and period 3\n"
     ]
    },
    {
     "name": "stderr",
     "output_type": "stream",
     "text": [
      "Batches: 100%|██████████| 6/6 [00:00<00:00,  8.43it/s]\n"
     ]
    },
    {
     "name": "stdout",
     "output_type": "stream",
     "text": [
      "Processed topic information for NUTS region UKK3 and period 4\n"
     ]
    },
    {
     "name": "stderr",
     "output_type": "stream",
     "text": [
      "Batches: 100%|██████████| 10/10 [00:00<00:00, 13.52it/s]\n"
     ]
    },
    {
     "name": "stdout",
     "output_type": "stream",
     "text": [
      "Processed topic information for NUTS region UKK3 and period 5\n",
      "No valid documents for NUTS region UKK3 and period 6\n"
     ]
    },
    {
     "name": "stderr",
     "output_type": "stream",
     "text": [
      "NUTS regions:  82%|████████▏ | 230/281 [4:22:59<08:52, 10.43s/it]"
     ]
    },
    {
     "name": "stdout",
     "output_type": "stream",
     "text": [
      "No valid documents for NUTS region UKK3 and period 7\n",
      "No valid documents for NUTS region UKK3 and period 8\n",
      "No valid documents for NUTS region NO03 and period 1\n",
      "No valid documents for NUTS region NO03 and period 2\n",
      "No valid documents for NUTS region NO03 and period 3\n"
     ]
    },
    {
     "name": "stderr",
     "output_type": "stream",
     "text": [
      "Batches: 100%|██████████| 12/12 [00:00<00:00, 13.79it/s]\n"
     ]
    },
    {
     "name": "stdout",
     "output_type": "stream",
     "text": [
      "Processed topic information for NUTS region NO03 and period 4\n"
     ]
    },
    {
     "name": "stderr",
     "output_type": "stream",
     "text": [
      "Batches: 100%|██████████| 23/23 [00:01<00:00, 11.78it/s]\n"
     ]
    },
    {
     "name": "stdout",
     "output_type": "stream",
     "text": [
      "Processed topic information for NUTS region NO03 and period 5\n",
      "No valid documents for NUTS region NO03 and period 6\n"
     ]
    },
    {
     "name": "stderr",
     "output_type": "stream",
     "text": [
      "NUTS regions:  82%|████████▏ | 231/281 [4:23:10<08:51, 10.62s/it]"
     ]
    },
    {
     "name": "stdout",
     "output_type": "stream",
     "text": [
      "No valid documents for NUTS region NO03 and period 7\n",
      "No valid documents for NUTS region NO03 and period 8\n",
      "No valid documents for NUTS region NO02 and period 1\n",
      "No valid documents for NUTS region NO02 and period 2\n",
      "No valid documents for NUTS region NO02 and period 3\n"
     ]
    },
    {
     "name": "stderr",
     "output_type": "stream",
     "text": [
      "Batches: 100%|██████████| 7/7 [00:00<00:00,  8.79it/s]\n"
     ]
    },
    {
     "name": "stdout",
     "output_type": "stream",
     "text": [
      "Processed topic information for NUTS region NO02 and period 4\n"
     ]
    },
    {
     "name": "stderr",
     "output_type": "stream",
     "text": [
      "Batches: 100%|██████████| 14/14 [00:01<00:00, 12.73it/s]\n"
     ]
    },
    {
     "name": "stdout",
     "output_type": "stream",
     "text": [
      "Processed topic information for NUTS region NO02 and period 5\n",
      "No valid documents for NUTS region NO02 and period 6\n"
     ]
    },
    {
     "name": "stderr",
     "output_type": "stream",
     "text": [
      "NUTS regions:  83%|████████▎ | 232/281 [4:23:18<08:10, 10.00s/it]"
     ]
    },
    {
     "name": "stdout",
     "output_type": "stream",
     "text": [
      "No valid documents for NUTS region NO02 and period 7\n",
      "No valid documents for NUTS region NO02 and period 8\n",
      "No valid documents for NUTS region SE32 and period 1\n",
      "No valid documents for NUTS region SE32 and period 2\n",
      "No valid documents for NUTS region SE32 and period 3\n"
     ]
    },
    {
     "name": "stderr",
     "output_type": "stream",
     "text": [
      "Batches: 100%|██████████| 9/9 [00:00<00:00, 12.92it/s]\n"
     ]
    },
    {
     "name": "stdout",
     "output_type": "stream",
     "text": [
      "Processed topic information for NUTS region SE32 and period 4\n"
     ]
    },
    {
     "name": "stderr",
     "output_type": "stream",
     "text": [
      "Batches: 100%|██████████| 24/24 [00:01<00:00, 14.39it/s]\n"
     ]
    },
    {
     "name": "stdout",
     "output_type": "stream",
     "text": [
      "Processed topic information for NUTS region SE32 and period 5\n",
      "No valid documents for NUTS region SE32 and period 6\n"
     ]
    },
    {
     "name": "stderr",
     "output_type": "stream",
     "text": [
      "NUTS regions:  83%|████████▎ | 233/281 [4:23:28<07:49,  9.77s/it]"
     ]
    },
    {
     "name": "stdout",
     "output_type": "stream",
     "text": [
      "No valid documents for NUTS region SE32 and period 7\n",
      "No valid documents for NUTS region SE32 and period 8\n",
      "No valid documents for NUTS region ES62 and period 1\n",
      "No valid documents for NUTS region ES62 and period 2\n",
      "No valid documents for NUTS region ES62 and period 3\n"
     ]
    },
    {
     "name": "stderr",
     "output_type": "stream",
     "text": [
      "Batches: 100%|██████████| 47/47 [00:02<00:00, 16.20it/s]\n"
     ]
    },
    {
     "name": "stdout",
     "output_type": "stream",
     "text": [
      "Processed topic information for NUTS region ES62 and period 4\n"
     ]
    },
    {
     "name": "stderr",
     "output_type": "stream",
     "text": [
      "Batches: 100%|██████████| 101/101 [00:06<00:00, 15.73it/s]\n"
     ]
    },
    {
     "name": "stdout",
     "output_type": "stream",
     "text": [
      "Processed topic information for NUTS region ES62 and period 5\n"
     ]
    },
    {
     "name": "stderr",
     "output_type": "stream",
     "text": [
      "Batches: 100%|██████████| 10/10 [00:00<00:00, 11.72it/s]\n"
     ]
    },
    {
     "name": "stdout",
     "output_type": "stream",
     "text": [
      "Processed topic information for NUTS region ES62 and period 6\n",
      "No valid documents for NUTS region ES62 and period 7\n"
     ]
    },
    {
     "name": "stderr",
     "output_type": "stream",
     "text": [
      "NUTS regions:  83%|████████▎ | 234/281 [4:23:51<10:53, 13.91s/it]"
     ]
    },
    {
     "name": "stdout",
     "output_type": "stream",
     "text": [
      "No valid documents for NUTS region ES62 and period 8\n",
      "No valid documents for NUTS region CZ06 and period 1\n",
      "No valid documents for NUTS region CZ06 and period 2\n",
      "No valid documents for NUTS region CZ06 and period 3\n"
     ]
    },
    {
     "name": "stderr",
     "output_type": "stream",
     "text": [
      "Batches: 100%|██████████| 59/59 [00:03<00:00, 16.01it/s]\n"
     ]
    },
    {
     "name": "stdout",
     "output_type": "stream",
     "text": [
      "Processed topic information for NUTS region CZ06 and period 4\n"
     ]
    },
    {
     "name": "stderr",
     "output_type": "stream",
     "text": [
      "Batches: 100%|██████████| 138/138 [00:09<00:00, 15.05it/s]\n"
     ]
    },
    {
     "name": "stdout",
     "output_type": "stream",
     "text": [
      "Processed topic information for NUTS region CZ06 and period 5\n"
     ]
    },
    {
     "name": "stderr",
     "output_type": "stream",
     "text": [
      "Batches: 100%|██████████| 13/13 [00:01<00:00, 12.95it/s]\n"
     ]
    },
    {
     "name": "stdout",
     "output_type": "stream",
     "text": [
      "Processed topic information for NUTS region CZ06 and period 6\n",
      "No valid documents for NUTS region CZ06 and period 7\n"
     ]
    },
    {
     "name": "stderr",
     "output_type": "stream",
     "text": [
      "NUTS regions:  84%|████████▎ | 235/281 [4:24:16<13:08, 17.14s/it]"
     ]
    },
    {
     "name": "stdout",
     "output_type": "stream",
     "text": [
      "No valid documents for NUTS region CZ06 and period 8\n",
      "No valid documents for NUTS region RO42 and period 1\n",
      "No valid documents for NUTS region RO42 and period 2\n",
      "No valid documents for NUTS region RO42 and period 3\n"
     ]
    },
    {
     "name": "stderr",
     "output_type": "stream",
     "text": [
      "Batches: 100%|██████████| 7/7 [00:00<00:00, 15.63it/s]\n"
     ]
    },
    {
     "name": "stdout",
     "output_type": "stream",
     "text": [
      "Processed topic information for NUTS region RO42 and period 4\n"
     ]
    },
    {
     "name": "stderr",
     "output_type": "stream",
     "text": [
      "Batches: 100%|██████████| 25/25 [00:01<00:00, 18.47it/s]\n"
     ]
    },
    {
     "name": "stdout",
     "output_type": "stream",
     "text": [
      "Processed topic information for NUTS region RO42 and period 5\n"
     ]
    },
    {
     "name": "stderr",
     "output_type": "stream",
     "text": [
      "Batches: 100%|██████████| 4/4 [00:00<00:00, 11.57it/s]\n"
     ]
    },
    {
     "name": "stdout",
     "output_type": "stream",
     "text": [
      "Processed topic information for NUTS region RO42 and period 6\n",
      "No valid documents for NUTS region RO42 and period 7\n"
     ]
    },
    {
     "name": "stderr",
     "output_type": "stream",
     "text": [
      "NUTS regions:  84%|████████▍ | 236/281 [4:24:26<11:16, 15.04s/it]"
     ]
    },
    {
     "name": "stdout",
     "output_type": "stream",
     "text": [
      "No valid documents for NUTS region RO42 and period 8\n",
      "No valid documents for NUTS region RO41 and period 1\n",
      "No valid documents for NUTS region RO41 and period 2\n",
      "No valid documents for NUTS region RO41 and period 3\n"
     ]
    },
    {
     "name": "stderr",
     "output_type": "stream",
     "text": [
      "Batches: 100%|██████████| 4/4 [00:00<00:00, 13.61it/s]\n"
     ]
    },
    {
     "name": "stdout",
     "output_type": "stream",
     "text": [
      "Processed topic information for NUTS region RO41 and period 4\n"
     ]
    },
    {
     "name": "stderr",
     "output_type": "stream",
     "text": [
      "Batches: 100%|██████████| 11/11 [00:00<00:00, 26.53it/s]\n"
     ]
    },
    {
     "name": "stdout",
     "output_type": "stream",
     "text": [
      "Processed topic information for NUTS region RO41 and period 5\n",
      "No valid documents for NUTS region RO41 and period 6\n"
     ]
    },
    {
     "name": "stderr",
     "output_type": "stream",
     "text": [
      "NUTS regions:  84%|████████▍ | 237/281 [4:24:33<09:14, 12.61s/it]"
     ]
    },
    {
     "name": "stdout",
     "output_type": "stream",
     "text": [
      "No valid documents for NUTS region RO41 and period 7\n",
      "No valid documents for NUTS region RO41 and period 8\n",
      "No valid documents for NUTS region ES42 and period 1\n",
      "No valid documents for NUTS region ES42 and period 2\n",
      "No valid documents for NUTS region ES42 and period 3\n"
     ]
    },
    {
     "name": "stderr",
     "output_type": "stream",
     "text": [
      "Batches: 100%|██████████| 23/23 [00:01<00:00, 14.04it/s]\n"
     ]
    },
    {
     "name": "stdout",
     "output_type": "stream",
     "text": [
      "Processed topic information for NUTS region ES42 and period 4\n"
     ]
    },
    {
     "name": "stderr",
     "output_type": "stream",
     "text": [
      "Batches: 100%|██████████| 68/68 [00:09<00:00,  7.06it/s]\n"
     ]
    },
    {
     "name": "stdout",
     "output_type": "stream",
     "text": [
      "Processed topic information for NUTS region ES42 and period 5\n"
     ]
    },
    {
     "name": "stderr",
     "output_type": "stream",
     "text": [
      "Batches: 100%|██████████| 8/8 [00:01<00:00,  4.77it/s]\n"
     ]
    },
    {
     "name": "stdout",
     "output_type": "stream",
     "text": [
      "Processed topic information for NUTS region ES42 and period 6\n",
      "No valid documents for NUTS region ES42 and period 7\n"
     ]
    },
    {
     "name": "stderr",
     "output_type": "stream",
     "text": [
      "NUTS regions:  85%|████████▍ | 238/281 [4:24:56<11:21, 15.84s/it]"
     ]
    },
    {
     "name": "stdout",
     "output_type": "stream",
     "text": [
      "No valid documents for NUTS region ES42 and period 8\n",
      "No valid documents for NUTS region BE22 and period 1\n",
      "No valid documents for NUTS region BE22 and period 2\n",
      "No valid documents for NUTS region BE22 and period 3\n"
     ]
    },
    {
     "name": "stderr",
     "output_type": "stream",
     "text": [
      "Batches: 100%|██████████| 16/16 [00:03<00:00,  4.73it/s]\n"
     ]
    },
    {
     "name": "stdout",
     "output_type": "stream",
     "text": [
      "Processed topic information for NUTS region BE22 and period 4\n"
     ]
    },
    {
     "name": "stderr",
     "output_type": "stream",
     "text": [
      "Batches: 100%|██████████| 31/31 [00:15<00:00,  2.03it/s]\n"
     ]
    },
    {
     "name": "stdout",
     "output_type": "stream",
     "text": [
      "Processed topic information for NUTS region BE22 and period 5\n"
     ]
    },
    {
     "name": "stderr",
     "output_type": "stream",
     "text": [
      "Batches: 100%|██████████| 4/4 [00:02<00:00,  1.60it/s]\n"
     ]
    },
    {
     "name": "stdout",
     "output_type": "stream",
     "text": [
      "Processed topic information for NUTS region BE22 and period 6\n",
      "No valid documents for NUTS region BE22 and period 7\n"
     ]
    },
    {
     "name": "stderr",
     "output_type": "stream",
     "text": [
      "NUTS regions:  85%|████████▌ | 239/281 [4:25:26<14:01, 20.03s/it]"
     ]
    },
    {
     "name": "stdout",
     "output_type": "stream",
     "text": [
      "No valid documents for NUTS region BE22 and period 8\n",
      "No valid documents for NUTS region DE27 and period 1\n",
      "No valid documents for NUTS region DE27 and period 2\n",
      "No valid documents for NUTS region DE27 and period 3\n"
     ]
    },
    {
     "name": "stderr",
     "output_type": "stream",
     "text": [
      "Batches: 100%|██████████| 15/15 [00:16<00:00,  1.11s/it]\n"
     ]
    },
    {
     "name": "stdout",
     "output_type": "stream",
     "text": [
      "Processed topic information for NUTS region DE27 and period 4\n"
     ]
    },
    {
     "name": "stderr",
     "output_type": "stream",
     "text": [
      "Batches: 100%|██████████| 27/27 [00:32<00:00,  1.20s/it]\n"
     ]
    },
    {
     "name": "stdout",
     "output_type": "stream",
     "text": [
      "Processed topic information for NUTS region DE27 and period 5\n",
      "No valid documents for NUTS region DE27 and period 6\n"
     ]
    },
    {
     "name": "stderr",
     "output_type": "stream",
     "text": [
      "NUTS regions:  85%|████████▌ | 240/281 [4:26:22<21:06, 30.88s/it]"
     ]
    },
    {
     "name": "stdout",
     "output_type": "stream",
     "text": [
      "No valid documents for NUTS region DE27 and period 7\n",
      "No valid documents for NUTS region DE27 and period 8\n",
      "No valid documents for NUTS region CZ08 and period 1\n",
      "No valid documents for NUTS region CZ08 and period 2\n",
      "No valid documents for NUTS region CZ08 and period 3\n"
     ]
    },
    {
     "name": "stderr",
     "output_type": "stream",
     "text": [
      "Batches: 100%|██████████| 8/8 [00:08<00:00,  1.06s/it]\n"
     ]
    },
    {
     "name": "stdout",
     "output_type": "stream",
     "text": [
      "Processed topic information for NUTS region CZ08 and period 4\n"
     ]
    },
    {
     "name": "stderr",
     "output_type": "stream",
     "text": [
      "Batches: 100%|██████████| 19/19 [00:21<00:00,  1.11s/it]\n"
     ]
    },
    {
     "name": "stdout",
     "output_type": "stream",
     "text": [
      "Processed topic information for NUTS region CZ08 and period 5\n",
      "No valid documents for NUTS region CZ08 and period 6\n"
     ]
    },
    {
     "name": "stderr",
     "output_type": "stream",
     "text": [
      "NUTS regions:  86%|████████▌ | 241/281 [4:26:59<21:42, 32.57s/it]"
     ]
    },
    {
     "name": "stdout",
     "output_type": "stream",
     "text": [
      "No valid documents for NUTS region CZ08 and period 7\n",
      "No valid documents for NUTS region CZ08 and period 8\n",
      "No valid documents for NUTS region CZ03 and period 1\n",
      "No valid documents for NUTS region CZ03 and period 2\n",
      "No valid documents for NUTS region CZ03 and period 3\n"
     ]
    },
    {
     "name": "stderr",
     "output_type": "stream",
     "text": [
      "Batches: 100%|██████████| 28/28 [00:38<00:00,  1.38s/it]\n"
     ]
    },
    {
     "name": "stdout",
     "output_type": "stream",
     "text": [
      "Processed topic information for NUTS region CZ03 and period 4\n"
     ]
    },
    {
     "name": "stderr",
     "output_type": "stream",
     "text": [
      "Batches: 100%|██████████| 59/59 [01:16<00:00,  1.30s/it]\n"
     ]
    },
    {
     "name": "stdout",
     "output_type": "stream",
     "text": [
      "Processed topic information for NUTS region CZ03 and period 5\n"
     ]
    },
    {
     "name": "stderr",
     "output_type": "stream",
     "text": [
      "Batches: 100%|██████████| 6/6 [00:07<00:00,  1.23s/it]\n"
     ]
    },
    {
     "name": "stdout",
     "output_type": "stream",
     "text": [
      "Processed topic information for NUTS region CZ03 and period 6\n",
      "No valid documents for NUTS region CZ03 and period 7\n"
     ]
    },
    {
     "name": "stderr",
     "output_type": "stream",
     "text": [
      "NUTS regions:  86%|████████▌ | 242/281 [4:29:12<40:49, 62.80s/it]"
     ]
    },
    {
     "name": "stdout",
     "output_type": "stream",
     "text": [
      "No valid documents for NUTS region CZ03 and period 8\n",
      "No valid documents for NUTS region HR03 and period 1\n",
      "No valid documents for NUTS region HR03 and period 2\n",
      "No valid documents for NUTS region HR03 and period 3\n"
     ]
    },
    {
     "name": "stderr",
     "output_type": "stream",
     "text": [
      "Batches: 100%|██████████| 17/17 [00:19<00:00,  1.16s/it]\n"
     ]
    },
    {
     "name": "stdout",
     "output_type": "stream",
     "text": [
      "Processed topic information for NUTS region HR03 and period 4\n"
     ]
    },
    {
     "name": "stderr",
     "output_type": "stream",
     "text": [
      "Batches: 100%|██████████| 38/38 [00:03<00:00, 12.37it/s]\n"
     ]
    },
    {
     "name": "stdout",
     "output_type": "stream",
     "text": [
      "Processed topic information for NUTS region HR03 and period 5\n"
     ]
    },
    {
     "name": "stderr",
     "output_type": "stream",
     "text": [
      "Batches: 100%|██████████| 4/4 [00:00<00:00,  6.04it/s]\n"
     ]
    },
    {
     "name": "stdout",
     "output_type": "stream",
     "text": [
      "Processed topic information for NUTS region HR03 and period 6\n",
      "No valid documents for NUTS region HR03 and period 7\n"
     ]
    },
    {
     "name": "stderr",
     "output_type": "stream",
     "text": [
      "NUTS regions:  86%|████████▋ | 243/281 [4:29:45<34:10, 53.97s/it]"
     ]
    },
    {
     "name": "stdout",
     "output_type": "stream",
     "text": [
      "No valid documents for NUTS region HR03 and period 8\n",
      "No valid documents for NUTS region EL54 and period 1\n",
      "No valid documents for NUTS region EL54 and period 2\n",
      "No valid documents for NUTS region EL54 and period 3\n"
     ]
    },
    {
     "name": "stderr",
     "output_type": "stream",
     "text": [
      "Batches: 100%|██████████| 29/29 [00:04<00:00,  7.15it/s]\n"
     ]
    },
    {
     "name": "stdout",
     "output_type": "stream",
     "text": [
      "Processed topic information for NUTS region EL54 and period 4\n"
     ]
    },
    {
     "name": "stderr",
     "output_type": "stream",
     "text": [
      "Batches: 100%|██████████| 75/75 [00:12<00:00,  6.08it/s]\n"
     ]
    },
    {
     "name": "stdout",
     "output_type": "stream",
     "text": [
      "Processed topic information for NUTS region EL54 and period 5\n"
     ]
    },
    {
     "name": "stderr",
     "output_type": "stream",
     "text": [
      "Batches: 100%|██████████| 8/8 [00:02<00:00,  3.12it/s]\n"
     ]
    },
    {
     "name": "stdout",
     "output_type": "stream",
     "text": [
      "Processed topic information for NUTS region EL54 and period 6\n",
      "No valid documents for NUTS region EL54 and period 7\n"
     ]
    },
    {
     "name": "stderr",
     "output_type": "stream",
     "text": [
      "NUTS regions:  87%|████████▋ | 244/281 [4:30:16<28:53, 46.84s/it]"
     ]
    },
    {
     "name": "stdout",
     "output_type": "stream",
     "text": [
      "No valid documents for NUTS region EL54 and period 8\n",
      "No valid documents for NUTS region CH07 and period 1\n",
      "No valid documents for NUTS region CH07 and period 2\n",
      "No valid documents for NUTS region CH07 and period 3\n"
     ]
    },
    {
     "name": "stderr",
     "output_type": "stream",
     "text": [
      "Batches: 100%|██████████| 12/12 [00:05<00:00,  2.28it/s]\n"
     ]
    },
    {
     "name": "stdout",
     "output_type": "stream",
     "text": [
      "Processed topic information for NUTS region CH07 and period 4\n"
     ]
    },
    {
     "name": "stderr",
     "output_type": "stream",
     "text": [
      "Batches: 100%|██████████| 26/26 [00:02<00:00, 11.52it/s]\n"
     ]
    },
    {
     "name": "stdout",
     "output_type": "stream",
     "text": [
      "Processed topic information for NUTS region CH07 and period 5\n",
      "No valid documents for NUTS region CH07 and period 6\n"
     ]
    },
    {
     "name": "stderr",
     "output_type": "stream",
     "text": [
      "NUTS regions:  87%|████████▋ | 245/281 [4:30:31<22:24, 37.35s/it]"
     ]
    },
    {
     "name": "stdout",
     "output_type": "stream",
     "text": [
      "No valid documents for NUTS region CH07 and period 7\n",
      "No valid documents for NUTS region CH07 and period 8\n",
      "No valid documents for NUTS region NO04 and period 1\n",
      "No valid documents for NUTS region NO04 and period 2\n",
      "No valid documents for NUTS region NO04 and period 3\n"
     ]
    },
    {
     "name": "stderr",
     "output_type": "stream",
     "text": [
      "Batches: 100%|██████████| 18/18 [00:01<00:00,  9.57it/s]\n"
     ]
    },
    {
     "name": "stdout",
     "output_type": "stream",
     "text": [
      "Processed topic information for NUTS region NO04 and period 4\n"
     ]
    },
    {
     "name": "stderr",
     "output_type": "stream",
     "text": [
      "Batches: 100%|██████████| 34/34 [00:08<00:00,  4.20it/s]\n"
     ]
    },
    {
     "name": "stdout",
     "output_type": "stream",
     "text": [
      "Processed topic information for NUTS region NO04 and period 5\n"
     ]
    },
    {
     "name": "stderr",
     "output_type": "stream",
     "text": [
      "Batches: 100%|██████████| 4/4 [00:01<00:00,  3.53it/s]\n"
     ]
    },
    {
     "name": "stdout",
     "output_type": "stream",
     "text": [
      "Processed topic information for NUTS region NO04 and period 6\n",
      "No valid documents for NUTS region NO04 and period 7\n"
     ]
    },
    {
     "name": "stderr",
     "output_type": "stream",
     "text": [
      "NUTS regions:  88%|████████▊ | 246/281 [4:30:51<18:44, 32.14s/it]"
     ]
    },
    {
     "name": "stdout",
     "output_type": "stream",
     "text": [
      "No valid documents for NUTS region NO04 and period 8\n",
      "No valid documents for NUTS region CZ05 and period 1\n",
      "No valid documents for NUTS region CZ05 and period 2\n",
      "No valid documents for NUTS region CZ05 and period 3\n"
     ]
    },
    {
     "name": "stderr",
     "output_type": "stream",
     "text": [
      "Batches: 100%|██████████| 23/23 [00:07<00:00,  3.01it/s]\n"
     ]
    },
    {
     "name": "stdout",
     "output_type": "stream",
     "text": [
      "Processed topic information for NUTS region CZ05 and period 4\n"
     ]
    },
    {
     "name": "stderr",
     "output_type": "stream",
     "text": [
      "Batches: 100%|██████████| 49/49 [00:17<00:00,  2.85it/s]\n"
     ]
    },
    {
     "name": "stdout",
     "output_type": "stream",
     "text": [
      "Processed topic information for NUTS region CZ05 and period 5\n"
     ]
    },
    {
     "name": "stderr",
     "output_type": "stream",
     "text": [
      "Batches: 100%|██████████| 6/6 [00:03<00:00,  1.81it/s]\n"
     ]
    },
    {
     "name": "stdout",
     "output_type": "stream",
     "text": [
      "Processed topic information for NUTS region CZ05 and period 6\n",
      "No valid documents for NUTS region CZ05 and period 7\n"
     ]
    },
    {
     "name": "stderr",
     "output_type": "stream",
     "text": [
      "NUTS regions:  88%|████████▊ | 247/281 [4:31:29<19:13, 33.94s/it]"
     ]
    },
    {
     "name": "stdout",
     "output_type": "stream",
     "text": [
      "No valid documents for NUTS region CZ05 and period 8\n",
      "No valid documents for NUTS region UKM6 and period 1\n",
      "No valid documents for NUTS region UKM6 and period 2\n",
      "No valid documents for NUTS region UKM6 and period 3\n"
     ]
    },
    {
     "name": "stderr",
     "output_type": "stream",
     "text": [
      "Batches: 100%|██████████| 12/12 [00:06<00:00,  1.91it/s]\n"
     ]
    },
    {
     "name": "stdout",
     "output_type": "stream",
     "text": [
      "Processed topic information for NUTS region UKM6 and period 4\n"
     ]
    },
    {
     "name": "stderr",
     "output_type": "stream",
     "text": [
      "Batches: 100%|██████████| 20/20 [00:07<00:00,  2.57it/s]\n"
     ]
    },
    {
     "name": "stdout",
     "output_type": "stream",
     "text": [
      "Processed topic information for NUTS region UKM6 and period 5\n",
      "No valid documents for NUTS region UKM6 and period 6\n"
     ]
    },
    {
     "name": "stderr",
     "output_type": "stream",
     "text": [
      "NUTS regions:  88%|████████▊ | 248/281 [4:31:50<16:30, 30.03s/it]"
     ]
    },
    {
     "name": "stdout",
     "output_type": "stream",
     "text": [
      "No valid documents for NUTS region UKM6 and period 7\n",
      "No valid documents for NUTS region UKM6 and period 8\n",
      "No valid documents for NUTS region PL31 and period 1\n",
      "No valid documents for NUTS region PL31 and period 2\n",
      "No valid documents for NUTS region PL31 and period 3\n"
     ]
    },
    {
     "name": "stderr",
     "output_type": "stream",
     "text": [
      "Batches: 100%|██████████| 53/53 [00:08<00:00,  6.60it/s]\n"
     ]
    },
    {
     "name": "stdout",
     "output_type": "stream",
     "text": [
      "Processed topic information for NUTS region PL31 and period 4\n"
     ]
    },
    {
     "name": "stderr",
     "output_type": "stream",
     "text": [
      "Batches: 100%|██████████| 116/116 [00:07<00:00, 16.53it/s]\n"
     ]
    },
    {
     "name": "stdout",
     "output_type": "stream",
     "text": [
      "Processed topic information for NUTS region PL31 and period 5\n"
     ]
    },
    {
     "name": "stderr",
     "output_type": "stream",
     "text": [
      "Batches: 100%|██████████| 10/10 [00:00<00:00, 10.77it/s]\n"
     ]
    },
    {
     "name": "stdout",
     "output_type": "stream",
     "text": [
      "Processed topic information for NUTS region PL31 and period 6\n",
      "No valid documents for NUTS region PL31 and period 7\n"
     ]
    },
    {
     "name": "stderr",
     "output_type": "stream",
     "text": [
      "NUTS regions:  89%|████████▊ | 249/281 [4:32:22<16:20, 30.66s/it]"
     ]
    },
    {
     "name": "stdout",
     "output_type": "stream",
     "text": [
      "No valid documents for NUTS region PL31 and period 8\n",
      "No valid documents for NUTS region SK02 and period 1\n",
      "No valid documents for NUTS region SK02 and period 2\n",
      "No valid documents for NUTS region SK02 and period 3\n"
     ]
    },
    {
     "name": "stderr",
     "output_type": "stream",
     "text": [
      "Batches: 100%|██████████| 12/12 [00:01<00:00, 10.97it/s]\n"
     ]
    },
    {
     "name": "stdout",
     "output_type": "stream",
     "text": [
      "Processed topic information for NUTS region SK02 and period 4\n"
     ]
    },
    {
     "name": "stderr",
     "output_type": "stream",
     "text": [
      "Batches: 100%|██████████| 22/22 [00:01<00:00, 13.40it/s]\n"
     ]
    },
    {
     "name": "stdout",
     "output_type": "stream",
     "text": [
      "Processed topic information for NUTS region SK02 and period 5\n",
      "No valid documents for NUTS region SK02 and period 6\n"
     ]
    },
    {
     "name": "stderr",
     "output_type": "stream",
     "text": [
      "NUTS regions:  89%|████████▉ | 250/281 [4:32:32<12:35, 24.36s/it]"
     ]
    },
    {
     "name": "stdout",
     "output_type": "stream",
     "text": [
      "No valid documents for NUTS region SK02 and period 7\n",
      "No valid documents for NUTS region SK02 and period 8\n",
      "No valid documents for NUTS region PL62 and period 1\n",
      "No valid documents for NUTS region PL62 and period 2\n",
      "No valid documents for NUTS region PL62 and period 3\n"
     ]
    },
    {
     "name": "stderr",
     "output_type": "stream",
     "text": [
      "Batches: 100%|██████████| 11/11 [00:00<00:00, 11.93it/s]\n"
     ]
    },
    {
     "name": "stdout",
     "output_type": "stream",
     "text": [
      "Processed topic information for NUTS region PL62 and period 4\n"
     ]
    },
    {
     "name": "stderr",
     "output_type": "stream",
     "text": [
      "Batches: 100%|██████████| 30/30 [00:02<00:00, 13.77it/s]\n"
     ]
    },
    {
     "name": "stdout",
     "output_type": "stream",
     "text": [
      "Processed topic information for NUTS region PL62 and period 5\n"
     ]
    },
    {
     "name": "stderr",
     "output_type": "stream",
     "text": [
      "Batches: 100%|██████████| 5/5 [00:00<00:00, 11.39it/s]\n"
     ]
    },
    {
     "name": "stdout",
     "output_type": "stream",
     "text": [
      "Processed topic information for NUTS region PL62 and period 6\n",
      "No valid documents for NUTS region PL62 and period 7\n"
     ]
    },
    {
     "name": "stderr",
     "output_type": "stream",
     "text": [
      "NUTS regions:  89%|████████▉ | 251/281 [4:32:44<10:19, 20.65s/it]"
     ]
    },
    {
     "name": "stdout",
     "output_type": "stream",
     "text": [
      "No valid documents for NUTS region PL62 and period 8\n",
      "No valid documents for NUTS region UKI5 and period 1\n",
      "No valid documents for NUTS region UKI5 and period 2\n",
      "No valid documents for NUTS region UKI5 and period 3\n"
     ]
    },
    {
     "name": "stderr",
     "output_type": "stream",
     "text": [
      "Batches: 100%|██████████| 26/26 [00:01<00:00, 15.19it/s]\n"
     ]
    },
    {
     "name": "stdout",
     "output_type": "stream",
     "text": [
      "Processed topic information for NUTS region UKI5 and period 4\n"
     ]
    },
    {
     "name": "stderr",
     "output_type": "stream",
     "text": [
      "Batches: 100%|██████████| 34/34 [00:02<00:00, 14.56it/s]\n"
     ]
    },
    {
     "name": "stdout",
     "output_type": "stream",
     "text": [
      "Processed topic information for NUTS region UKI5 and period 5\n"
     ]
    },
    {
     "name": "stderr",
     "output_type": "stream",
     "text": [
      "Batches: 100%|██████████| 4/4 [00:00<00:00, 10.53it/s]\n"
     ]
    },
    {
     "name": "stdout",
     "output_type": "stream",
     "text": [
      "Processed topic information for NUTS region UKI5 and period 6\n",
      "No valid documents for NUTS region UKI5 and period 7\n"
     ]
    },
    {
     "name": "stderr",
     "output_type": "stream",
     "text": [
      "NUTS regions:  90%|████████▉ | 252/281 [4:32:57<08:54, 18.42s/it]"
     ]
    },
    {
     "name": "stdout",
     "output_type": "stream",
     "text": [
      "No valid documents for NUTS region UKI5 and period 8\n",
      "No valid documents for NUTS region FR83 and period 1\n",
      "No valid documents for NUTS region FR83 and period 2\n",
      "No valid documents for NUTS region FR83 and period 3\n"
     ]
    },
    {
     "name": "stderr",
     "output_type": "stream",
     "text": [
      "Batches: 100%|██████████| 5/5 [00:00<00:00, 11.43it/s]\n"
     ]
    },
    {
     "name": "stdout",
     "output_type": "stream",
     "text": [
      "Processed topic information for NUTS region FR83 and period 4\n"
     ]
    },
    {
     "name": "stderr",
     "output_type": "stream",
     "text": [
      "Batches: 100%|██████████| 9/9 [00:00<00:00, 16.25it/s]\n"
     ]
    },
    {
     "name": "stdout",
     "output_type": "stream",
     "text": [
      "Processed topic information for NUTS region FR83 and period 5\n",
      "No valid documents for NUTS region FR83 and period 6\n"
     ]
    },
    {
     "name": "stderr",
     "output_type": "stream",
     "text": [
      "NUTS regions:  90%|█████████ | 253/281 [4:33:04<07:02, 15.07s/it]"
     ]
    },
    {
     "name": "stdout",
     "output_type": "stream",
     "text": [
      "No valid documents for NUTS region FR83 and period 7\n",
      "No valid documents for NUTS region FR83 and period 8\n",
      "No valid documents for NUTS region ES23 and period 1\n",
      "No valid documents for NUTS region ES23 and period 2\n",
      "No valid documents for NUTS region ES23 and period 3\n"
     ]
    },
    {
     "name": "stderr",
     "output_type": "stream",
     "text": [
      "Batches: 100%|██████████| 7/7 [00:00<00:00, 13.83it/s]\n"
     ]
    },
    {
     "name": "stdout",
     "output_type": "stream",
     "text": [
      "Processed topic information for NUTS region ES23 and period 4\n"
     ]
    },
    {
     "name": "stderr",
     "output_type": "stream",
     "text": [
      "Batches: 100%|██████████| 13/13 [00:00<00:00, 14.94it/s]\n"
     ]
    },
    {
     "name": "stdout",
     "output_type": "stream",
     "text": [
      "Processed topic information for NUTS region ES23 and period 5\n",
      "No valid documents for NUTS region ES23 and period 6\n"
     ]
    },
    {
     "name": "stderr",
     "output_type": "stream",
     "text": [
      "NUTS regions:  90%|█████████ | 254/281 [4:33:12<05:47, 12.86s/it]"
     ]
    },
    {
     "name": "stdout",
     "output_type": "stream",
     "text": [
      "No valid documents for NUTS region ES23 and period 7\n",
      "No valid documents for NUTS region ES23 and period 8\n",
      "No valid documents for NUTS region CZ07 and period 1\n",
      "No valid documents for NUTS region CZ07 and period 2\n",
      "No valid documents for NUTS region CZ07 and period 3\n"
     ]
    },
    {
     "name": "stderr",
     "output_type": "stream",
     "text": [
      "Batches: 100%|██████████| 16/16 [00:01<00:00, 12.52it/s]\n"
     ]
    },
    {
     "name": "stdout",
     "output_type": "stream",
     "text": [
      "Processed topic information for NUTS region CZ07 and period 4\n"
     ]
    },
    {
     "name": "stderr",
     "output_type": "stream",
     "text": [
      "Batches: 100%|██████████| 41/41 [00:02<00:00, 15.52it/s]\n"
     ]
    },
    {
     "name": "stdout",
     "output_type": "stream",
     "text": [
      "Processed topic information for NUTS region CZ07 and period 5\n"
     ]
    },
    {
     "name": "stderr",
     "output_type": "stream",
     "text": [
      "Batches: 100%|██████████| 5/5 [00:00<00:00, 10.90it/s]\n"
     ]
    },
    {
     "name": "stdout",
     "output_type": "stream",
     "text": [
      "Processed topic information for NUTS region CZ07 and period 6\n",
      "No valid documents for NUTS region CZ07 and period 7\n"
     ]
    },
    {
     "name": "stderr",
     "output_type": "stream",
     "text": [
      "NUTS regions:  91%|█████████ | 255/281 [4:33:25<05:37, 12.99s/it]"
     ]
    },
    {
     "name": "stdout",
     "output_type": "stream",
     "text": [
      "No valid documents for NUTS region CZ07 and period 8\n",
      "No valid documents for NUTS region BE25 and period 1\n",
      "No valid documents for NUTS region BE25 and period 2\n",
      "No valid documents for NUTS region BE25 and period 3\n"
     ]
    },
    {
     "name": "stderr",
     "output_type": "stream",
     "text": [
      "Batches: 100%|██████████| 9/9 [00:00<00:00, 11.44it/s]\n"
     ]
    },
    {
     "name": "stdout",
     "output_type": "stream",
     "text": [
      "Processed topic information for NUTS region BE25 and period 4\n"
     ]
    },
    {
     "name": "stderr",
     "output_type": "stream",
     "text": [
      "Batches: 100%|██████████| 20/20 [00:01<00:00, 14.50it/s]\n"
     ]
    },
    {
     "name": "stdout",
     "output_type": "stream",
     "text": [
      "Processed topic information for NUTS region BE25 and period 5\n",
      "No valid documents for NUTS region BE25 and period 6\n"
     ]
    },
    {
     "name": "stderr",
     "output_type": "stream",
     "text": [
      "NUTS regions:  91%|█████████ | 256/281 [4:33:34<04:53, 11.74s/it]"
     ]
    },
    {
     "name": "stdout",
     "output_type": "stream",
     "text": [
      "No valid documents for NUTS region BE25 and period 7\n",
      "No valid documents for NUTS region BE25 and period 8\n",
      "No valid documents for NUTS region HU22 and period 1\n",
      "No valid documents for NUTS region HU22 and period 2\n",
      "No valid documents for NUTS region HU22 and period 3\n"
     ]
    },
    {
     "name": "stderr",
     "output_type": "stream",
     "text": [
      "Batches: 100%|██████████| 8/8 [00:00<00:00, 10.04it/s]\n"
     ]
    },
    {
     "name": "stdout",
     "output_type": "stream",
     "text": [
      "Processed topic information for NUTS region HU22 and period 4\n"
     ]
    },
    {
     "name": "stderr",
     "output_type": "stream",
     "text": [
      "Batches: 100%|██████████| 13/13 [00:00<00:00, 13.01it/s]\n"
     ]
    },
    {
     "name": "stdout",
     "output_type": "stream",
     "text": [
      "Processed topic information for NUTS region HU22 and period 5\n",
      "No valid documents for NUTS region HU22 and period 6\n"
     ]
    },
    {
     "name": "stderr",
     "output_type": "stream",
     "text": [
      "NUTS regions:  91%|█████████▏| 257/281 [4:33:42<04:18, 10.76s/it]"
     ]
    },
    {
     "name": "stdout",
     "output_type": "stream",
     "text": [
      "No valid documents for NUTS region HU22 and period 7\n",
      "No valid documents for NUTS region HU22 and period 8\n",
      "No valid documents for NUTS region UKF3 and period 1\n",
      "No valid documents for NUTS region UKF3 and period 2\n",
      "No valid documents for NUTS region UKF3 and period 3\n"
     ]
    },
    {
     "name": "stderr",
     "output_type": "stream",
     "text": [
      "Batches: 100%|██████████| 4/4 [00:00<00:00,  6.56it/s]\n"
     ]
    },
    {
     "name": "stdout",
     "output_type": "stream",
     "text": [
      "Processed topic information for NUTS region UKF3 and period 4\n"
     ]
    },
    {
     "name": "stderr",
     "output_type": "stream",
     "text": [
      "Batches: 100%|██████████| 9/9 [00:00<00:00, 12.56it/s]\n"
     ]
    },
    {
     "name": "stdout",
     "output_type": "stream",
     "text": [
      "Processed topic information for NUTS region UKF3 and period 5\n",
      "No valid documents for NUTS region UKF3 and period 6\n"
     ]
    },
    {
     "name": "stderr",
     "output_type": "stream",
     "text": [
      "NUTS regions:  92%|█████████▏| 258/281 [4:33:51<03:51, 10.07s/it]"
     ]
    },
    {
     "name": "stdout",
     "output_type": "stream",
     "text": [
      "No valid documents for NUTS region UKF3 and period 7\n",
      "No valid documents for NUTS region UKF3 and period 8\n",
      "No valid documents for NUTS region HU31 and period 1\n",
      "No valid documents for NUTS region HU31 and period 2\n",
      "No valid documents for NUTS region HU31 and period 3\n"
     ]
    },
    {
     "name": "stderr",
     "output_type": "stream",
     "text": [
      "Batches: 100%|██████████| 5/5 [00:00<00:00, 11.30it/s]\n"
     ]
    },
    {
     "name": "stdout",
     "output_type": "stream",
     "text": [
      "Processed topic information for NUTS region HU31 and period 4\n"
     ]
    },
    {
     "name": "stderr",
     "output_type": "stream",
     "text": [
      "Batches: 100%|██████████| 9/9 [00:00<00:00, 13.47it/s]\n"
     ]
    },
    {
     "name": "stdout",
     "output_type": "stream",
     "text": [
      "Processed topic information for NUTS region HU31 and period 5\n",
      "No valid documents for NUTS region HU31 and period 6\n"
     ]
    },
    {
     "name": "stderr",
     "output_type": "stream",
     "text": [
      "NUTS regions:  92%|█████████▏| 259/281 [4:33:59<03:28,  9.46s/it]"
     ]
    },
    {
     "name": "stdout",
     "output_type": "stream",
     "text": [
      "No valid documents for NUTS region HU31 and period 7\n",
      "No valid documents for NUTS region HU31 and period 8\n",
      "No valid documents for NUTS region AT21 and period 1\n",
      "No valid documents for NUTS region AT21 and period 2\n",
      "No valid documents for NUTS region AT21 and period 3\n"
     ]
    },
    {
     "name": "stderr",
     "output_type": "stream",
     "text": [
      "Batches: 100%|██████████| 5/5 [00:00<00:00,  8.87it/s]\n"
     ]
    },
    {
     "name": "stdout",
     "output_type": "stream",
     "text": [
      "Processed topic information for NUTS region AT21 and period 4\n"
     ]
    },
    {
     "name": "stderr",
     "output_type": "stream",
     "text": [
      "Batches: 100%|██████████| 10/10 [00:00<00:00, 13.06it/s]\n"
     ]
    },
    {
     "name": "stdout",
     "output_type": "stream",
     "text": [
      "Processed topic information for NUTS region AT21 and period 5\n",
      "No valid documents for NUTS region AT21 and period 6\n"
     ]
    },
    {
     "name": "stderr",
     "output_type": "stream",
     "text": [
      "NUTS regions:  93%|█████████▎| 260/281 [4:34:08<03:14,  9.27s/it]"
     ]
    },
    {
     "name": "stdout",
     "output_type": "stream",
     "text": [
      "No valid documents for NUTS region AT21 and period 7\n",
      "No valid documents for NUTS region AT21 and period 8\n",
      "No valid documents for NUTS region BG42 and period 1\n",
      "No valid documents for NUTS region BG42 and period 2\n",
      "No valid documents for NUTS region BG42 and period 3\n"
     ]
    },
    {
     "name": "stderr",
     "output_type": "stream",
     "text": [
      "Batches: 100%|██████████| 9/9 [00:00<00:00, 10.68it/s]\n"
     ]
    },
    {
     "name": "stdout",
     "output_type": "stream",
     "text": [
      "Processed topic information for NUTS region BG42 and period 4\n"
     ]
    },
    {
     "name": "stderr",
     "output_type": "stream",
     "text": [
      "Batches: 100%|██████████| 13/13 [00:00<00:00, 14.78it/s]\n"
     ]
    },
    {
     "name": "stdout",
     "output_type": "stream",
     "text": [
      "Processed topic information for NUTS region BG42 and period 5\n"
     ]
    },
    {
     "name": "stderr",
     "output_type": "stream",
     "text": [
      "Batches: 100%|██████████| 4/4 [00:00<00:00, 12.08it/s]\n"
     ]
    },
    {
     "name": "stdout",
     "output_type": "stream",
     "text": [
      "Processed topic information for NUTS region BG42 and period 6\n",
      "No valid documents for NUTS region BG42 and period 7\n"
     ]
    },
    {
     "name": "stderr",
     "output_type": "stream",
     "text": [
      "NUTS regions:  93%|█████████▎| 261/281 [4:34:18<03:13,  9.66s/it]"
     ]
    },
    {
     "name": "stdout",
     "output_type": "stream",
     "text": [
      "No valid documents for NUTS region BG42 and period 8\n",
      "No valid documents for NUTS region PL52 and period 1\n",
      "No valid documents for NUTS region PL52 and period 2\n",
      "No valid documents for NUTS region PL52 and period 3\n"
     ]
    },
    {
     "name": "stderr",
     "output_type": "stream",
     "text": [
      "Batches: 100%|██████████| 7/7 [00:00<00:00, 15.02it/s]\n"
     ]
    },
    {
     "name": "stdout",
     "output_type": "stream",
     "text": [
      "Processed topic information for NUTS region PL52 and period 4\n"
     ]
    },
    {
     "name": "stderr",
     "output_type": "stream",
     "text": [
      "Batches: 100%|██████████| 18/18 [00:01<00:00, 17.42it/s]\n"
     ]
    },
    {
     "name": "stdout",
     "output_type": "stream",
     "text": [
      "Processed topic information for NUTS region PL52 and period 5\n",
      "No valid documents for NUTS region PL52 and period 6\n"
     ]
    },
    {
     "name": "stderr",
     "output_type": "stream",
     "text": [
      "NUTS regions:  93%|█████████▎| 262/281 [4:34:26<02:53,  9.16s/it]"
     ]
    },
    {
     "name": "stdout",
     "output_type": "stream",
     "text": [
      "No valid documents for NUTS region PL52 and period 7\n",
      "No valid documents for NUTS region PL52 and period 8\n",
      "No valid documents for NUTS region FRA4 and period 1\n",
      "No valid documents for NUTS region FRA4 and period 2\n",
      "No valid documents for NUTS region FRA4 and period 3\n"
     ]
    },
    {
     "name": "stderr",
     "output_type": "stream",
     "text": [
      "Batches: 100%|██████████| 5/5 [00:00<00:00, 10.11it/s]\n"
     ]
    },
    {
     "name": "stdout",
     "output_type": "stream",
     "text": [
      "Processed topic information for NUTS region FRA4 and period 4\n"
     ]
    },
    {
     "name": "stderr",
     "output_type": "stream",
     "text": [
      "Batches: 100%|██████████| 9/9 [00:00<00:00,  9.40it/s]\n"
     ]
    },
    {
     "name": "stdout",
     "output_type": "stream",
     "text": [
      "Processed topic information for NUTS region FRA4 and period 5\n",
      "No valid documents for NUTS region FRA4 and period 6\n"
     ]
    },
    {
     "name": "stderr",
     "output_type": "stream",
     "text": [
      "NUTS regions:  94%|█████████▎| 263/281 [4:34:35<02:41,  8.97s/it]"
     ]
    },
    {
     "name": "stdout",
     "output_type": "stream",
     "text": [
      "No valid documents for NUTS region FRA4 and period 7\n",
      "No valid documents for NUTS region FRA4 and period 8\n",
      "No valid documents for NUTS region ITH1 and period 1\n",
      "No valid documents for NUTS region ITH1 and period 2\n",
      "No valid documents for NUTS region ITH1 and period 3\n"
     ]
    },
    {
     "name": "stderr",
     "output_type": "stream",
     "text": [
      "Batches: 100%|██████████| 5/5 [00:00<00:00, 10.13it/s]\n"
     ]
    },
    {
     "name": "stdout",
     "output_type": "stream",
     "text": [
      "Processed topic information for NUTS region ITH1 and period 4\n"
     ]
    },
    {
     "name": "stderr",
     "output_type": "stream",
     "text": [
      "Batches: 100%|██████████| 11/11 [00:00<00:00, 12.14it/s]\n"
     ]
    },
    {
     "name": "stdout",
     "output_type": "stream",
     "text": [
      "Processed topic information for NUTS region ITH1 and period 5\n",
      "No valid documents for NUTS region ITH1 and period 6\n"
     ]
    },
    {
     "name": "stderr",
     "output_type": "stream",
     "text": [
      "NUTS regions:  94%|█████████▍| 264/281 [4:34:43<02:27,  8.65s/it]"
     ]
    },
    {
     "name": "stdout",
     "output_type": "stream",
     "text": [
      "No valid documents for NUTS region ITH1 and period 7\n",
      "No valid documents for NUTS region ITH1 and period 8\n",
      "No valid documents for NUTS region EL41 and period 1\n",
      "No valid documents for NUTS region EL41 and period 2\n",
      "No valid documents for NUTS region EL41 and period 3\n"
     ]
    },
    {
     "name": "stderr",
     "output_type": "stream",
     "text": [
      "Batches: 100%|██████████| 5/5 [00:00<00:00, 13.83it/s]\n"
     ]
    },
    {
     "name": "stdout",
     "output_type": "stream",
     "text": [
      "Processed topic information for NUTS region EL41 and period 4\n"
     ]
    },
    {
     "name": "stderr",
     "output_type": "stream",
     "text": [
      "Batches: 100%|██████████| 11/11 [00:00<00:00, 14.37it/s]\n"
     ]
    },
    {
     "name": "stdout",
     "output_type": "stream",
     "text": [
      "Processed topic information for NUTS region EL41 and period 5\n",
      "No valid documents for NUTS region EL41 and period 6\n"
     ]
    },
    {
     "name": "stderr",
     "output_type": "stream",
     "text": [
      "NUTS regions:  94%|█████████▍| 265/281 [4:34:51<02:15,  8.44s/it]"
     ]
    },
    {
     "name": "stdout",
     "output_type": "stream",
     "text": [
      "No valid documents for NUTS region EL41 and period 7\n",
      "No valid documents for NUTS region EL41 and period 8\n",
      "No valid documents for NUTS region PL43 and period 1\n",
      "No valid documents for NUTS region PL43 and period 2\n",
      "No valid documents for NUTS region PL43 and period 3\n"
     ]
    },
    {
     "name": "stderr",
     "output_type": "stream",
     "text": [
      "Batches: 100%|██████████| 4/4 [00:00<00:00,  8.30it/s]\n"
     ]
    },
    {
     "name": "stdout",
     "output_type": "stream",
     "text": [
      "Processed topic information for NUTS region PL43 and period 4\n"
     ]
    },
    {
     "name": "stderr",
     "output_type": "stream",
     "text": [
      "Batches: 100%|██████████| 12/12 [00:01<00:00,  7.30it/s]\n"
     ]
    },
    {
     "name": "stdout",
     "output_type": "stream",
     "text": [
      "Processed topic information for NUTS region PL43 and period 5\n",
      "No valid documents for NUTS region PL43 and period 6\n"
     ]
    },
    {
     "name": "stderr",
     "output_type": "stream",
     "text": [
      "NUTS regions:  95%|█████████▍| 266/281 [4:35:00<02:10,  8.68s/it]"
     ]
    },
    {
     "name": "stdout",
     "output_type": "stream",
     "text": [
      "No valid documents for NUTS region PL43 and period 7\n",
      "No valid documents for NUTS region PL43 and period 8\n",
      "No valid documents for NUTS region RO31 and period 1\n",
      "No valid documents for NUTS region RO31 and period 2\n",
      "No valid documents for NUTS region RO31 and period 3\n"
     ]
    },
    {
     "name": "stderr",
     "output_type": "stream",
     "text": [
      "Batches: 100%|██████████| 4/4 [00:00<00:00,  4.56it/s]\n"
     ]
    },
    {
     "name": "stdout",
     "output_type": "stream",
     "text": [
      "Processed topic information for NUTS region RO31 and period 4\n"
     ]
    },
    {
     "name": "stderr",
     "output_type": "stream",
     "text": [
      "Batches: 100%|██████████| 10/10 [00:02<00:00,  3.43it/s]\n"
     ]
    },
    {
     "name": "stdout",
     "output_type": "stream",
     "text": [
      "Processed topic information for NUTS region RO31 and period 5\n",
      "No valid documents for NUTS region RO31 and period 6\n"
     ]
    },
    {
     "name": "stderr",
     "output_type": "stream",
     "text": [
      "NUTS regions:  95%|█████████▌| 267/281 [4:35:10<02:08,  9.19s/it]"
     ]
    },
    {
     "name": "stdout",
     "output_type": "stream",
     "text": [
      "No valid documents for NUTS region RO31 and period 7\n",
      "No valid documents for NUTS region RO31 and period 8\n",
      "No valid documents for NUTS region BG32 and period 1\n",
      "No valid documents for NUTS region BG32 and period 2\n",
      "No valid documents for NUTS region BG32 and period 3\n",
      "No valid documents for NUTS region BG32 and period 4\n"
     ]
    },
    {
     "name": "stderr",
     "output_type": "stream",
     "text": [
      "Batches: 100%|██████████| 5/5 [00:02<00:00,  2.37it/s]\n"
     ]
    },
    {
     "name": "stdout",
     "output_type": "stream",
     "text": [
      "Processed topic information for NUTS region BG32 and period 5\n",
      "No valid documents for NUTS region BG32 and period 6\n"
     ]
    },
    {
     "name": "stderr",
     "output_type": "stream",
     "text": [
      "NUTS regions:  95%|█████████▌| 268/281 [4:35:19<01:57,  9.03s/it]"
     ]
    },
    {
     "name": "stdout",
     "output_type": "stream",
     "text": [
      "No valid documents for NUTS region BG32 and period 7\n",
      "No valid documents for NUTS region BG32 and period 8\n",
      "No valid documents for NUTS region RO12 and period 1\n",
      "No valid documents for NUTS region RO12 and period 2\n",
      "No valid documents for NUTS region RO12 and period 3\n",
      "No valid documents for NUTS region RO12 and period 4\n"
     ]
    },
    {
     "name": "stderr",
     "output_type": "stream",
     "text": [
      "Batches: 100%|██████████| 7/7 [00:03<00:00,  1.80it/s]\n"
     ]
    },
    {
     "name": "stdout",
     "output_type": "stream",
     "text": [
      "Processed topic information for NUTS region RO12 and period 5\n",
      "No valid documents for NUTS region RO12 and period 6\n"
     ]
    },
    {
     "name": "stderr",
     "output_type": "stream",
     "text": [
      "NUTS regions:  96%|█████████▌| 269/281 [4:35:28<01:48,  9.02s/it]"
     ]
    },
    {
     "name": "stdout",
     "output_type": "stream",
     "text": [
      "No valid documents for NUTS region RO12 and period 7\n",
      "No valid documents for NUTS region RO12 and period 8\n",
      "No valid documents for NUTS region EL64 and period 1\n",
      "No valid documents for NUTS region EL64 and period 2\n",
      "No valid documents for NUTS region EL64 and period 3\n",
      "No valid documents for NUTS region EL64 and period 4\n"
     ]
    },
    {
     "name": "stderr",
     "output_type": "stream",
     "text": [
      "Batches: 100%|██████████| 7/7 [00:05<00:00,  1.38it/s]\n"
     ]
    },
    {
     "name": "stdout",
     "output_type": "stream",
     "text": [
      "Processed topic information for NUTS region EL64 and period 5\n",
      "No valid documents for NUTS region EL64 and period 6\n"
     ]
    },
    {
     "name": "stderr",
     "output_type": "stream",
     "text": [
      "NUTS regions:  96%|█████████▌| 270/281 [4:35:38<01:43,  9.38s/it]"
     ]
    },
    {
     "name": "stdout",
     "output_type": "stream",
     "text": [
      "No valid documents for NUTS region EL64 and period 7\n",
      "No valid documents for NUTS region EL64 and period 8\n",
      "No valid documents for NUTS region FRA3 and period 1\n",
      "No valid documents for NUTS region FRA3 and period 2\n",
      "No valid documents for NUTS region FRA3 and period 3\n",
      "No valid documents for NUTS region FRA3 and period 4\n"
     ]
    },
    {
     "name": "stderr",
     "output_type": "stream",
     "text": [
      "Batches: 100%|██████████| 7/7 [00:06<00:00,  1.02it/s]\n"
     ]
    },
    {
     "name": "stdout",
     "output_type": "stream",
     "text": [
      "Processed topic information for NUTS region FRA3 and period 5\n",
      "No valid documents for NUTS region FRA3 and period 6\n"
     ]
    },
    {
     "name": "stderr",
     "output_type": "stream",
     "text": [
      "NUTS regions:  96%|█████████▋| 271/281 [4:35:50<01:41, 10.12s/it]"
     ]
    },
    {
     "name": "stdout",
     "output_type": "stream",
     "text": [
      "No valid documents for NUTS region FRA3 and period 7\n",
      "No valid documents for NUTS region FRA3 and period 8\n",
      "No valid documents for NUTS region FRA2 and period 1\n",
      "No valid documents for NUTS region FRA2 and period 2\n",
      "No valid documents for NUTS region FRA2 and period 3\n",
      "No valid documents for NUTS region FRA2 and period 4\n"
     ]
    },
    {
     "name": "stderr",
     "output_type": "stream",
     "text": [
      "Batches: 100%|██████████| 5/5 [00:05<00:00,  1.16s/it]\n"
     ]
    },
    {
     "name": "stdout",
     "output_type": "stream",
     "text": [
      "Processed topic information for NUTS region FRA2 and period 5\n",
      "No valid documents for NUTS region FRA2 and period 6\n"
     ]
    },
    {
     "name": "stderr",
     "output_type": "stream",
     "text": [
      "NUTS regions:  97%|█████████▋| 272/281 [4:36:01<01:33, 10.34s/it]"
     ]
    },
    {
     "name": "stdout",
     "output_type": "stream",
     "text": [
      "No valid documents for NUTS region FRA2 and period 7\n",
      "No valid documents for NUTS region FRA2 and period 8\n",
      "No valid documents for NUTS region CZ04 and period 1\n",
      "No valid documents for NUTS region CZ04 and period 2\n",
      "No valid documents for NUTS region CZ04 and period 3\n",
      "No valid documents for NUTS region CZ04 and period 4\n"
     ]
    },
    {
     "name": "stderr",
     "output_type": "stream",
     "text": [
      "Batches: 100%|██████████| 7/7 [00:08<00:00,  1.15s/it]\n"
     ]
    },
    {
     "name": "stdout",
     "output_type": "stream",
     "text": [
      "Processed topic information for NUTS region CZ04 and period 5\n",
      "No valid documents for NUTS region CZ04 and period 6\n"
     ]
    },
    {
     "name": "stderr",
     "output_type": "stream",
     "text": [
      "NUTS regions:  97%|█████████▋| 273/281 [4:36:14<01:29, 11.17s/it]"
     ]
    },
    {
     "name": "stdout",
     "output_type": "stream",
     "text": [
      "No valid documents for NUTS region CZ04 and period 7\n",
      "No valid documents for NUTS region CZ04 and period 8\n",
      "No valid documents for NUTS region PT30 and period 1\n",
      "No valid documents for NUTS region PT30 and period 2\n",
      "No valid documents for NUTS region PT30 and period 3\n",
      "No valid documents for NUTS region PT30 and period 4\n"
     ]
    },
    {
     "name": "stderr",
     "output_type": "stream",
     "text": [
      "Batches: 100%|██████████| 6/6 [00:09<00:00,  1.65s/it]\n"
     ]
    },
    {
     "name": "stdout",
     "output_type": "stream",
     "text": [
      "Processed topic information for NUTS region PT30 and period 5\n",
      "No valid documents for NUTS region PT30 and period 6\n"
     ]
    },
    {
     "name": "stderr",
     "output_type": "stream",
     "text": [
      "NUTS regions:  98%|█████████▊| 274/281 [4:36:29<01:26, 12.40s/it]"
     ]
    },
    {
     "name": "stdout",
     "output_type": "stream",
     "text": [
      "No valid documents for NUTS region PT30 and period 7\n",
      "No valid documents for NUTS region PT30 and period 8\n",
      "No valid documents for NUTS region PT20 and period 1\n",
      "No valid documents for NUTS region PT20 and period 2\n",
      "No valid documents for NUTS region PT20 and period 3\n",
      "No valid documents for NUTS region PT20 and period 4\n"
     ]
    },
    {
     "name": "stderr",
     "output_type": "stream",
     "text": [
      "Batches: 100%|██████████| 7/7 [00:09<00:00,  1.39s/it]\n"
     ]
    },
    {
     "name": "stdout",
     "output_type": "stream",
     "text": [
      "Processed topic information for NUTS region PT20 and period 5\n",
      "No valid documents for NUTS region PT20 and period 6\n"
     ]
    },
    {
     "name": "stderr",
     "output_type": "stream",
     "text": [
      "NUTS regions:  98%|█████████▊| 275/281 [4:36:45<01:20, 13.35s/it]"
     ]
    },
    {
     "name": "stdout",
     "output_type": "stream",
     "text": [
      "No valid documents for NUTS region PT20 and period 7\n",
      "No valid documents for NUTS region PT20 and period 8\n",
      "No valid documents for NUTS region MT00 and period 1\n",
      "No valid documents for NUTS region MT00 and period 2\n",
      "No valid documents for NUTS region MT00 and period 3\n",
      "No valid documents for NUTS region MT00 and period 4\n"
     ]
    },
    {
     "name": "stderr",
     "output_type": "stream",
     "text": [
      "Batches: 100%|██████████| 6/6 [00:07<00:00,  1.28s/it]\n"
     ]
    },
    {
     "name": "stdout",
     "output_type": "stream",
     "text": [
      "Processed topic information for NUTS region MT00 and period 5\n",
      "No valid documents for NUTS region MT00 and period 6\n"
     ]
    },
    {
     "name": "stderr",
     "output_type": "stream",
     "text": [
      "NUTS regions:  98%|█████████▊| 276/281 [4:36:57<01:05, 13.12s/it]"
     ]
    },
    {
     "name": "stdout",
     "output_type": "stream",
     "text": [
      "No valid documents for NUTS region MT00 and period 7\n",
      "No valid documents for NUTS region MT00 and period 8\n",
      "No valid documents for NUTS region AT34 and period 1\n",
      "No valid documents for NUTS region AT34 and period 2\n",
      "No valid documents for NUTS region AT34 and period 3\n",
      "No valid documents for NUTS region AT34 and period 4\n"
     ]
    },
    {
     "name": "stderr",
     "output_type": "stream",
     "text": [
      "Batches: 100%|██████████| 9/9 [00:10<00:00,  1.22s/it]\n"
     ]
    },
    {
     "name": "stdout",
     "output_type": "stream",
     "text": [
      "Processed topic information for NUTS region AT34 and period 5\n",
      "No valid documents for NUTS region AT34 and period 6\n"
     ]
    },
    {
     "name": "stderr",
     "output_type": "stream",
     "text": [
      "NUTS regions:  99%|█████████▊| 277/281 [4:37:13<00:55, 13.99s/it]"
     ]
    },
    {
     "name": "stdout",
     "output_type": "stream",
     "text": [
      "No valid documents for NUTS region AT34 and period 7\n",
      "No valid documents for NUTS region AT34 and period 8\n",
      "No valid documents for NUTS region RO22 and period 1\n",
      "No valid documents for NUTS region RO22 and period 2\n",
      "No valid documents for NUTS region RO22 and period 3\n",
      "No valid documents for NUTS region RO22 and period 4\n"
     ]
    },
    {
     "name": "stderr",
     "output_type": "stream",
     "text": [
      "Batches: 100%|██████████| 8/8 [00:08<00:00,  1.11s/it]\n"
     ]
    },
    {
     "name": "stdout",
     "output_type": "stream",
     "text": [
      "Processed topic information for NUTS region RO22 and period 5\n",
      "No valid documents for NUTS region RO22 and period 6\n"
     ]
    },
    {
     "name": "stderr",
     "output_type": "stream",
     "text": [
      "NUTS regions:  99%|█████████▉| 278/281 [4:37:28<00:42, 14.01s/it]"
     ]
    },
    {
     "name": "stdout",
     "output_type": "stream",
     "text": [
      "No valid documents for NUTS region RO22 and period 7\n",
      "No valid documents for NUTS region RO22 and period 8\n",
      "No valid documents for NUTS region EL53 and period 1\n",
      "No valid documents for NUTS region EL53 and period 2\n",
      "No valid documents for NUTS region EL53 and period 3\n",
      "No valid documents for NUTS region EL53 and period 4\n"
     ]
    },
    {
     "name": "stderr",
     "output_type": "stream",
     "text": [
      "Batches: 100%|██████████| 4/4 [00:04<00:00,  1.06s/it]\n"
     ]
    },
    {
     "name": "stdout",
     "output_type": "stream",
     "text": [
      "Processed topic information for NUTS region EL53 and period 5\n",
      "No valid documents for NUTS region EL53 and period 6\n"
     ]
    },
    {
     "name": "stderr",
     "output_type": "stream",
     "text": [
      "NUTS regions:  99%|█████████▉| 279/281 [4:37:37<00:25, 12.54s/it]"
     ]
    },
    {
     "name": "stdout",
     "output_type": "stream",
     "text": [
      "No valid documents for NUTS region EL53 and period 7\n",
      "No valid documents for NUTS region EL53 and period 8\n",
      "No valid documents for NUTS region BE34 and period 1\n",
      "No valid documents for NUTS region BE34 and period 2\n",
      "No valid documents for NUTS region BE34 and period 3\n",
      "No valid documents for NUTS region BE34 and period 4\n"
     ]
    },
    {
     "name": "stderr",
     "output_type": "stream",
     "text": [
      "Batches: 100%|██████████| 4/4 [00:04<00:00,  1.18s/it]\n"
     ]
    },
    {
     "name": "stdout",
     "output_type": "stream",
     "text": [
      "Processed topic information for NUTS region BE34 and period 5\n",
      "No valid documents for NUTS region BE34 and period 6\n"
     ]
    },
    {
     "name": "stderr",
     "output_type": "stream",
     "text": [
      "NUTS regions: 100%|█████████▉| 280/281 [4:37:46<00:11, 11.65s/it]"
     ]
    },
    {
     "name": "stdout",
     "output_type": "stream",
     "text": [
      "No valid documents for NUTS region BE34 and period 7\n",
      "No valid documents for NUTS region BE34 and period 8\n",
      "No valid documents for NUTS region EL65 and period 1\n",
      "No valid documents for NUTS region EL65 and period 2\n",
      "No valid documents for NUTS region EL65 and period 3\n",
      "No valid documents for NUTS region EL65 and period 4\n"
     ]
    },
    {
     "name": "stderr",
     "output_type": "stream",
     "text": [
      "Batches: 100%|██████████| 5/5 [00:05<00:00,  1.16s/it]\n"
     ]
    },
    {
     "name": "stdout",
     "output_type": "stream",
     "text": [
      "Processed topic information for NUTS region EL65 and period 5\n",
      "No valid documents for NUTS region EL65 and period 6\n"
     ]
    },
    {
     "name": "stderr",
     "output_type": "stream",
     "text": [
      "NUTS regions: 100%|██████████| 281/281 [4:37:57<00:00, 59.35s/it]"
     ]
    },
    {
     "name": "stdout",
     "output_type": "stream",
     "text": [
      "No valid documents for NUTS region EL65 and period 7\n",
      "No valid documents for NUTS region EL65 and period 8\n"
     ]
    },
    {
     "name": "stderr",
     "output_type": "stream",
     "text": [
      "\n"
     ]
    }
   ],
   "source": [
    "import pandas as pd\n",
    "from tqdm import tqdm\n",
    "from bertopic import BERTopic\n",
    "from sentence_transformers import SentenceTransformer\n",
    "from sklearn.feature_extraction.text import CountVectorizer\n",
    "from umap import UMAP\n",
    "from bertopic.vectorizers import ClassTfidfTransformer\n",
    "\n",
    "# Create an empty list to store the results\n",
    "all_results = []\n",
    "\n",
    "# Iterate over each 'eu_nuts_id' and 'period', showing progress with tqdm\n",
    "for nuts in tqdm(df['eu_nuts_id'].unique(), desc=\"NUTS regions\"):\n",
    "    for i in range(1, 9):\n",
    "        # Create a filtered copy of the dataset for 'eu_nuts_id' and 'period'\n",
    "        filtered_df = df[(df['eu_nuts_id'] == nuts) & (df['period'] == i)].copy()\n",
    "\n",
    "        # Extract the 'abstract' column for BERTopic modeling, and ensure all entries are strings\n",
    "        docs = filtered_df['abstract'].dropna().astype(str).tolist()\n",
    "\n",
    "        if len(docs) == 0:\n",
    "            print(f\"No valid documents for NUTS region {nuts} and period {i}\")\n",
    "            continue\n",
    "\n",
    "        try:\n",
    "            # Term Frequency, Inverse Document Frequency & transform docs into vectors\n",
    "            vectorizer_model = CountVectorizer(stop_words=all_stop_words)\n",
    "            ctfidf_model = ClassTfidfTransformer(reduce_frequent_words=True)\n",
    "            embedding_model = SentenceTransformer(\"all-MiniLM-L6-v2\")\n",
    "            embeddings = embedding_model.encode(docs, show_progress_bar=True)\n",
    "\n",
    "            # Dynamically set the number of neighbors for UMAP based on the number of documents\n",
    "            n_neighbors = min(30, len(docs) - 1)  # Ensures n_neighbors <= number of documents 15 or 30\n",
    "            if n_neighbors <= 2:  # UMAP requires n_neighbors to be at least 2\n",
    "                print(f\"Skipping NUTS region {nuts} and period {i} due to insufficient documents.\")\n",
    "                continue\n",
    "\n",
    "            umap_model = UMAP(n_neighbors=n_neighbors, min_dist=0.1, metric='cosine') # 0.0-0.3, a lower min_dist makes the clusters tighgter, whereas a higher value makes dispersed clusters\n",
    "\n",
    "            # hyper parameter 설정, 최대 10개의 주제를, 최소 min_topic_sizes 보다 큰 클러스터로 생성 \n",
    "            n_gram_ranges = (1, 2)  # n-gram 범위 (1, 2, 3, 4-gram)\n",
    "            min_topic_sizes = max(2, int(len(docs) * 0.01))  # 한 클러스터에 포함되는 최소 문서 수 (1, 1.5, 2, 3%)\n",
    "            nr_topics_options = 30  # 최대 클러스터링 수 (5, 10, 15, 20개)\n",
    "\n",
    "            # 문서별로 할당된 주제 topics와 확률 probs\n",
    "            topic_model = BERTopic(\n",
    "                n_gram_range=n_gram_ranges,\n",
    "                min_topic_size=min_topic_sizes,\n",
    "                nr_topics=nr_topics_options,\n",
    "                embedding_model=embedding_model,\n",
    "                vectorizer_model=vectorizer_model,\n",
    "                calculate_probabilities=True,\n",
    "                ctfidf_model=ctfidf_model,\n",
    "                umap_model=umap_model\n",
    "            )\n",
    "\n",
    "            topics, probs = topic_model.fit_transform(docs, embeddings)\n",
    "\n",
    "            # 결과를 저장\n",
    "            freq = topic_model.get_topic_info()\n",
    "\n",
    "            # Add 'eu_nuts_id' and 'period' columns to the topic info DataFrame\n",
    "            freq['eu_nuts_id'] = nuts\n",
    "            freq['period'] = i\n",
    "\n",
    "            # Append the result to the list\n",
    "            all_results.append(freq)\n",
    "\n",
    "            print(f\"Processed topic information for NUTS region {nuts} and period {i}\")\n",
    "\n",
    "        except Exception as e:\n",
    "            print(f\"Error processing NUTS region {nuts} and period {i}: {e}\")\n",
    "\n",
    "# Combine all the results into a single DataFrame\n",
    "final_results = pd.concat(all_results, ignore_index=True)\n",
    "\n",
    "# Save the final combined DataFrame to a single CSV file\n",
    "final_results.to_csv('pub_bertopic.csv', index=False)"
   ]
  },
  {
   "cell_type": "code",
   "execution_count": 1,
   "metadata": {},
   "outputs": [
    {
     "data": {
      "text/html": [
       "<div>\n",
       "<style scoped>\n",
       "    .dataframe tbody tr th:only-of-type {\n",
       "        vertical-align: middle;\n",
       "    }\n",
       "\n",
       "    .dataframe tbody tr th {\n",
       "        vertical-align: top;\n",
       "    }\n",
       "\n",
       "    .dataframe thead th {\n",
       "        text-align: right;\n",
       "    }\n",
       "</style>\n",
       "<table border=\"1\" class=\"dataframe\">\n",
       "  <thead>\n",
       "    <tr style=\"text-align: right;\">\n",
       "      <th></th>\n",
       "      <th>Topic</th>\n",
       "      <th>Count</th>\n",
       "      <th>Name</th>\n",
       "      <th>Representation</th>\n",
       "      <th>Representative_Docs</th>\n",
       "      <th>nuts</th>\n",
       "      <th>period</th>\n",
       "    </tr>\n",
       "  </thead>\n",
       "  <tbody>\n",
       "    <tr>\n",
       "      <th>0</th>\n",
       "      <td>-1</td>\n",
       "      <td>1</td>\n",
       "      <td>-1_sources_cw_photodetectors_various</td>\n",
       "      <td>['sources', 'cw', 'photodetectors', 'various',...</td>\n",
       "      <td>['A wide range of photodetectors has been inve...</td>\n",
       "      <td>FR71</td>\n",
       "      <td>3</td>\n",
       "    </tr>\n",
       "    <tr>\n",
       "      <th>1</th>\n",
       "      <td>0</td>\n",
       "      <td>24</td>\n",
       "      <td>0_ice_lake_species_females</td>\n",
       "      <td>['ice', 'lake', 'species', 'females', 'develop...</td>\n",
       "      <td>['The results of preliminary experiments in th...</td>\n",
       "      <td>FR71</td>\n",
       "      <td>3</td>\n",
       "    </tr>\n",
       "    <tr>\n",
       "      <th>2</th>\n",
       "      <td>1</td>\n",
       "      <td>18</td>\n",
       "      <td>1_mixtures_performance_computational_control</td>\n",
       "      <td>['mixtures', 'performance', 'computational', '...</td>\n",
       "      <td>['We present some computational methods in a p...</td>\n",
       "      <td>FR71</td>\n",
       "      <td>3</td>\n",
       "    </tr>\n",
       "    <tr>\n",
       "      <th>3</th>\n",
       "      <td>2</td>\n",
       "      <td>10</td>\n",
       "      <td>2_periodic_cells_dimensional_chaos</td>\n",
       "      <td>['periodic', 'cells', 'dimensional', 'chaos', ...</td>\n",
       "      <td>['The intermolecular pair potential responsibl...</td>\n",
       "      <td>FR71</td>\n",
       "      <td>3</td>\n",
       "    </tr>\n",
       "    <tr>\n",
       "      <th>4</th>\n",
       "      <td>3</td>\n",
       "      <td>6</td>\n",
       "      <td>3_plasma_axion_neutrinos_stars</td>\n",
       "      <td>['plasma', 'axion', 'neutrinos', 'stars', 'ecr...</td>\n",
       "      <td>['Using thermal field theory methods, we recal...</td>\n",
       "      <td>FR71</td>\n",
       "      <td>3</td>\n",
       "    </tr>\n",
       "  </tbody>\n",
       "</table>\n",
       "</div>"
      ],
      "text/plain": [
       "   Topic  Count                                          Name  \\\n",
       "0     -1      1          -1_sources_cw_photodetectors_various   \n",
       "1      0     24                    0_ice_lake_species_females   \n",
       "2      1     18  1_mixtures_performance_computational_control   \n",
       "3      2     10            2_periodic_cells_dimensional_chaos   \n",
       "4      3      6                3_plasma_axion_neutrinos_stars   \n",
       "\n",
       "                                      Representation  \\\n",
       "0  ['sources', 'cw', 'photodetectors', 'various',...   \n",
       "1  ['ice', 'lake', 'species', 'females', 'develop...   \n",
       "2  ['mixtures', 'performance', 'computational', '...   \n",
       "3  ['periodic', 'cells', 'dimensional', 'chaos', ...   \n",
       "4  ['plasma', 'axion', 'neutrinos', 'stars', 'ecr...   \n",
       "\n",
       "                                 Representative_Docs  nuts  period  \n",
       "0  ['A wide range of photodetectors has been inve...  FR71       3  \n",
       "1  ['The results of preliminary experiments in th...  FR71       3  \n",
       "2  ['We present some computational methods in a p...  FR71       3  \n",
       "3  ['The intermolecular pair potential responsibl...  FR71       3  \n",
       "4  ['Using thermal field theory methods, we recal...  FR71       3  "
      ]
     },
     "execution_count": 1,
     "metadata": {},
     "output_type": "execute_result"
    }
   ],
   "source": [
    "import pandas as pd\n",
    "final_results = pd.read_csv('eu_pub_bertopic_nuts2.csv')\n",
    "final_results.head()"
   ]
  },
  {
   "cell_type": "code",
   "execution_count": 2,
   "metadata": {},
   "outputs": [
    {
     "data": {
      "text/html": [
       "<div>\n",
       "<style scoped>\n",
       "    .dataframe tbody tr th:only-of-type {\n",
       "        vertical-align: middle;\n",
       "    }\n",
       "\n",
       "    .dataframe tbody tr th {\n",
       "        vertical-align: top;\n",
       "    }\n",
       "\n",
       "    .dataframe thead th {\n",
       "        text-align: right;\n",
       "    }\n",
       "</style>\n",
       "<table border=\"1\" class=\"dataframe\">\n",
       "  <thead>\n",
       "    <tr style=\"text-align: right;\">\n",
       "      <th></th>\n",
       "      <th>Topic</th>\n",
       "      <th>Count</th>\n",
       "      <th>Name</th>\n",
       "      <th>Representation</th>\n",
       "      <th>Representative_Docs</th>\n",
       "      <th>nuts</th>\n",
       "      <th>period</th>\n",
       "    </tr>\n",
       "  </thead>\n",
       "  <tbody>\n",
       "    <tr>\n",
       "      <th>0</th>\n",
       "      <td>-1</td>\n",
       "      <td>1</td>\n",
       "      <td>-1_sources_cw_photodetectors_various</td>\n",
       "      <td>['sources', 'cw', 'photodetectors', 'various',...</td>\n",
       "      <td>['A wide range of photodetectors has been inve...</td>\n",
       "      <td>FR71</td>\n",
       "      <td>3</td>\n",
       "    </tr>\n",
       "    <tr>\n",
       "      <th>8</th>\n",
       "      <td>-1</td>\n",
       "      <td>6368</td>\n",
       "      <td>-1_patients_species_elsevier_observed</td>\n",
       "      <td>['patients', 'species', 'elsevier', 'observed'...</td>\n",
       "      <td>[\"Multiple-year time series of the weight rati...</td>\n",
       "      <td>FR71</td>\n",
       "      <td>4</td>\n",
       "    </tr>\n",
       "    <tr>\n",
       "      <th>13</th>\n",
       "      <td>-1</td>\n",
       "      <td>1331</td>\n",
       "      <td>-1_hpv_star_algebra_mass</td>\n",
       "      <td>['hpv', 'star', 'algebra', 'mass', 'observatio...</td>\n",
       "      <td>['We present a survey of the formaldehyde emis...</td>\n",
       "      <td>FR71</td>\n",
       "      <td>5</td>\n",
       "    </tr>\n",
       "    <tr>\n",
       "      <th>16</th>\n",
       "      <td>-1</td>\n",
       "      <td>192</td>\n",
       "      <td>-1_bone_gt_fracture_fractures</td>\n",
       "      <td>['bone', 'gt', 'fracture', 'fractures', 'verte...</td>\n",
       "      <td>[\"In the framework of the French V/HTR fuel de...</td>\n",
       "      <td>FR71</td>\n",
       "      <td>6</td>\n",
       "    </tr>\n",
       "    <tr>\n",
       "      <th>19</th>\n",
       "      <td>-1</td>\n",
       "      <td>97</td>\n",
       "      <td>-1_pax_pnh_core_aa</td>\n",
       "      <td>['pax', 'pnh', 'core', 'aa', 'information', 'a...</td>\n",
       "      <td>['Background/Aims: Urinary albumin excretion i...</td>\n",
       "      <td>FR71</td>\n",
       "      <td>7</td>\n",
       "    </tr>\n",
       "    <tr>\n",
       "      <th>...</th>\n",
       "      <td>...</td>\n",
       "      <td>...</td>\n",
       "      <td>...</td>\n",
       "      <td>...</td>\n",
       "      <td>...</td>\n",
       "      <td>...</td>\n",
       "      <td>...</td>\n",
       "    </tr>\n",
       "    <tr>\n",
       "      <th>7563</th>\n",
       "      <td>-1</td>\n",
       "      <td>27</td>\n",
       "      <td>-1_sun_mutations_prpc_anal</td>\n",
       "      <td>['sun', 'mutations', 'prpc', 'anal', 'conforma...</td>\n",
       "      <td>['Host-parasite relationships and pathogenicit...</td>\n",
       "      <td>MT00</td>\n",
       "      <td>5</td>\n",
       "    </tr>\n",
       "    <tr>\n",
       "      <th>7583</th>\n",
       "      <td>-1</td>\n",
       "      <td>55</td>\n",
       "      <td>-1_ha_caviar_process_sturgeon</td>\n",
       "      <td>['ha', 'caviar', 'process', 'sturgeon', 'culti...</td>\n",
       "      <td>['Immature zygotic embryos from the American f...</td>\n",
       "      <td>RO22</td>\n",
       "      <td>5</td>\n",
       "    </tr>\n",
       "    <tr>\n",
       "      <th>7603</th>\n",
       "      <td>-1</td>\n",
       "      <td>11</td>\n",
       "      <td>-1_irrigation_indices_cloud_network</td>\n",
       "      <td>['irrigation', 'indices', 'cloud', 'network', ...</td>\n",
       "      <td>['Irrigation management calls for objective cr...</td>\n",
       "      <td>EL53</td>\n",
       "      <td>5</td>\n",
       "    </tr>\n",
       "    <tr>\n",
       "      <th>7619</th>\n",
       "      <td>-1</td>\n",
       "      <td>9</td>\n",
       "      <td>-1_responders_weight_hazelnut_embryos</td>\n",
       "      <td>['responders', 'weight', 'hazelnut', 'embryos'...</td>\n",
       "      <td>['Patients with schizophrenia (Sch), schizoaff...</td>\n",
       "      <td>BE34</td>\n",
       "      <td>5</td>\n",
       "    </tr>\n",
       "    <tr>\n",
       "      <th>7635</th>\n",
       "      <td>-1</td>\n",
       "      <td>6</td>\n",
       "      <td>-1_numerical_exp_integration_fitted</td>\n",
       "      <td>['numerical', 'exp', 'integration', 'fitted', ...</td>\n",
       "      <td>['In this paper we construct two trigonometric...</td>\n",
       "      <td>EL65</td>\n",
       "      <td>5</td>\n",
       "    </tr>\n",
       "  </tbody>\n",
       "</table>\n",
       "<p>806 rows × 7 columns</p>\n",
       "</div>"
      ],
      "text/plain": [
       "      Topic  Count                                   Name  \\\n",
       "0        -1      1   -1_sources_cw_photodetectors_various   \n",
       "8        -1   6368  -1_patients_species_elsevier_observed   \n",
       "13       -1   1331               -1_hpv_star_algebra_mass   \n",
       "16       -1    192          -1_bone_gt_fracture_fractures   \n",
       "19       -1     97                     -1_pax_pnh_core_aa   \n",
       "...     ...    ...                                    ...   \n",
       "7563     -1     27             -1_sun_mutations_prpc_anal   \n",
       "7583     -1     55          -1_ha_caviar_process_sturgeon   \n",
       "7603     -1     11    -1_irrigation_indices_cloud_network   \n",
       "7619     -1      9  -1_responders_weight_hazelnut_embryos   \n",
       "7635     -1      6    -1_numerical_exp_integration_fitted   \n",
       "\n",
       "                                         Representation  \\\n",
       "0     ['sources', 'cw', 'photodetectors', 'various',...   \n",
       "8     ['patients', 'species', 'elsevier', 'observed'...   \n",
       "13    ['hpv', 'star', 'algebra', 'mass', 'observatio...   \n",
       "16    ['bone', 'gt', 'fracture', 'fractures', 'verte...   \n",
       "19    ['pax', 'pnh', 'core', 'aa', 'information', 'a...   \n",
       "...                                                 ...   \n",
       "7563  ['sun', 'mutations', 'prpc', 'anal', 'conforma...   \n",
       "7583  ['ha', 'caviar', 'process', 'sturgeon', 'culti...   \n",
       "7603  ['irrigation', 'indices', 'cloud', 'network', ...   \n",
       "7619  ['responders', 'weight', 'hazelnut', 'embryos'...   \n",
       "7635  ['numerical', 'exp', 'integration', 'fitted', ...   \n",
       "\n",
       "                                    Representative_Docs  nuts  period  \n",
       "0     ['A wide range of photodetectors has been inve...  FR71       3  \n",
       "8     [\"Multiple-year time series of the weight rati...  FR71       4  \n",
       "13    ['We present a survey of the formaldehyde emis...  FR71       5  \n",
       "16    [\"In the framework of the French V/HTR fuel de...  FR71       6  \n",
       "19    ['Background/Aims: Urinary albumin excretion i...  FR71       7  \n",
       "...                                                 ...   ...     ...  \n",
       "7563  ['Host-parasite relationships and pathogenicit...  MT00       5  \n",
       "7583  ['Immature zygotic embryos from the American f...  RO22       5  \n",
       "7603  ['Irrigation management calls for objective cr...  EL53       5  \n",
       "7619  ['Patients with schizophrenia (Sch), schizoaff...  BE34       5  \n",
       "7635  ['In this paper we construct two trigonometric...  EL65       5  \n",
       "\n",
       "[806 rows x 7 columns]"
      ]
     },
     "execution_count": 2,
     "metadata": {},
     "output_type": "execute_result"
    }
   ],
   "source": [
    "final_results[final_results['Topic'] == -1]"
   ]
  },
  {
   "cell_type": "code",
   "execution_count": 4,
   "metadata": {},
   "outputs": [
    {
     "data": {
      "text/html": [
       "<div>\n",
       "<style scoped>\n",
       "    .dataframe tbody tr th:only-of-type {\n",
       "        vertical-align: middle;\n",
       "    }\n",
       "\n",
       "    .dataframe tbody tr th {\n",
       "        vertical-align: top;\n",
       "    }\n",
       "\n",
       "    .dataframe thead th {\n",
       "        text-align: right;\n",
       "    }\n",
       "</style>\n",
       "<table border=\"1\" class=\"dataframe\">\n",
       "  <thead>\n",
       "    <tr style=\"text-align: right;\">\n",
       "      <th></th>\n",
       "      <th>NUTS</th>\n",
       "      <th>Period</th>\n",
       "      <th>topic_minus_one_ratio</th>\n",
       "    </tr>\n",
       "  </thead>\n",
       "  <tbody>\n",
       "    <tr>\n",
       "      <th>0</th>\n",
       "      <td>AT12</td>\n",
       "      <td>4</td>\n",
       "      <td>0.340678</td>\n",
       "    </tr>\n",
       "    <tr>\n",
       "      <th>1</th>\n",
       "      <td>AT12</td>\n",
       "      <td>5</td>\n",
       "      <td>0.022013</td>\n",
       "    </tr>\n",
       "    <tr>\n",
       "      <th>2</th>\n",
       "      <td>AT12</td>\n",
       "      <td>6</td>\n",
       "      <td>0.026549</td>\n",
       "    </tr>\n",
       "    <tr>\n",
       "      <th>3</th>\n",
       "      <td>AT13</td>\n",
       "      <td>4</td>\n",
       "      <td>0.206965</td>\n",
       "    </tr>\n",
       "    <tr>\n",
       "      <th>4</th>\n",
       "      <td>AT13</td>\n",
       "      <td>5</td>\n",
       "      <td>0.261160</td>\n",
       "    </tr>\n",
       "    <tr>\n",
       "      <th>...</th>\n",
       "      <td>...</td>\n",
       "      <td>...</td>\n",
       "      <td>...</td>\n",
       "    </tr>\n",
       "    <tr>\n",
       "      <th>891</th>\n",
       "      <td>UKM6</td>\n",
       "      <td>5</td>\n",
       "      <td>0.004777</td>\n",
       "    </tr>\n",
       "    <tr>\n",
       "      <th>892</th>\n",
       "      <td>UKN0</td>\n",
       "      <td>4</td>\n",
       "      <td>0.043901</td>\n",
       "    </tr>\n",
       "    <tr>\n",
       "      <th>893</th>\n",
       "      <td>UKN0</td>\n",
       "      <td>5</td>\n",
       "      <td>0.001894</td>\n",
       "    </tr>\n",
       "    <tr>\n",
       "      <th>894</th>\n",
       "      <td>UKN0</td>\n",
       "      <td>6</td>\n",
       "      <td>0.266332</td>\n",
       "    </tr>\n",
       "    <tr>\n",
       "      <th>895</th>\n",
       "      <td>UKN0</td>\n",
       "      <td>7</td>\n",
       "      <td>0.144144</td>\n",
       "    </tr>\n",
       "  </tbody>\n",
       "</table>\n",
       "<p>896 rows × 3 columns</p>\n",
       "</div>"
      ],
      "text/plain": [
       "     NUTS  Period  topic_minus_one_ratio\n",
       "0    AT12       4               0.340678\n",
       "1    AT12       5               0.022013\n",
       "2    AT12       6               0.026549\n",
       "3    AT13       4               0.206965\n",
       "4    AT13       5               0.261160\n",
       "..    ...     ...                    ...\n",
       "891  UKM6       5               0.004777\n",
       "892  UKN0       4               0.043901\n",
       "893  UKN0       5               0.001894\n",
       "894  UKN0       6               0.266332\n",
       "895  UKN0       7               0.144144\n",
       "\n",
       "[896 rows x 3 columns]"
      ]
     },
     "execution_count": 4,
     "metadata": {},
     "output_type": "execute_result"
    }
   ],
   "source": [
    "# Step 1: Total count per eu_nuts_id and period\n",
    "total_count = final_results.groupby(['nuts', 'period'])['Count'].sum()\n",
    "\n",
    "# Step 2: Count for Topic == -1 per eu_nuts_id and period\n",
    "minus_one_count = final_results[final_results['Topic'] == -1].groupby(['nuts', 'period'])['Count'].sum()\n",
    "\n",
    "# Step 3: Calculate ratio\n",
    "ratio = (minus_one_count / total_count).reset_index(name='topic_minus_one_ratio')\n",
    "\n",
    "# Optional: rename columns for clarity\n",
    "ratio = ratio.rename(columns={'nuts': 'NUTS', 'period': 'Period'})\n",
    "ratio"
   ]
  },
  {
   "cell_type": "code",
   "execution_count": 5,
   "metadata": {},
   "outputs": [
    {
     "data": {
      "text/plain": [
       "count    806.000000\n",
       "mean       0.143991\n",
       "std        0.102291\n",
       "min        0.000411\n",
       "25%        0.059674\n",
       "50%        0.133577\n",
       "75%        0.209203\n",
       "max        0.503406\n",
       "Name: topic_minus_one_ratio, dtype: float64"
      ]
     },
     "execution_count": 5,
     "metadata": {},
     "output_type": "execute_result"
    }
   ],
   "source": [
    "ratio['topic_minus_one_ratio'].describe()"
   ]
  },
  {
   "cell_type": "markdown",
   "metadata": {},
   "source": [
    "# **ChatGPT를 활용한 Label 생성**"
   ]
  },
  {
   "cell_type": "code",
   "execution_count": 6,
   "metadata": {},
   "outputs": [],
   "source": [
    "import pandas as pd \n",
    "final_results = pd.read_csv('eu_pub_bertopic_nuts2.csv')"
   ]
  },
  {
   "cell_type": "code",
   "execution_count": null,
   "metadata": {},
   "outputs": [
    {
     "name": "stdout",
     "output_type": "stream",
     "text": [
      "Advanced Photodetection and Wavelength Optimization in 3D Light Sources\n"
     ]
    }
   ],
   "source": [
    "from openai import OpenAI\n",
    "\n",
    "# client = OpenAI(api_key=\"\")\n",
    "\n",
    "response = client.chat.completions.create(\n",
    "    model=\"gpt-4o\",\n",
    "    messages=[\n",
    "        {\"role\": \"system\", \"content\": \"You are an AI assistant that generates labels for topics based on provided keywords.\"},\n",
    "        {\"role\": \"user\", \"content\": '''['sources', 'cw', 'photodetectors', 'various', 'realized', '3d', 'pulsed', 'optimized', 'theoretical', 'wavelengths']\n",
    "The list of words are the outcome of the topic modeling from science and technology related journal articles.\n",
    "Generate a new label that best describes the topic of the articles as follow: <new science topic>\n",
    "Provide a specific and detailed label. I want just a single label. I do not want descriptions for the labels.'''}\n",
    "    ]\n",
    ")\n",
    "\n",
    "print(response.choices[0].message.content)"
   ]
  },
  {
   "cell_type": "code",
   "execution_count": null,
   "metadata": {},
   "outputs": [],
   "source": [
    "from openai import OpenAI\n",
    "\n",
    "# client = OpenAI(api_key=\"\")\n",
    "\n",
    "final_results = pd.read_csv('eu_pub_bertopic_nuts2.csv')\n",
    "\n",
    "# List to hold results \n",
    "results = []\n",
    "\n",
    "# Iterate through each row in the DataFrame\n",
    "for index, row in final_results.iterrows():\n",
    "    keywords = row['Representation']\n",
    "\n",
    "    # Prompt for OpenAI\n",
    "    prompt = f'''{keywords}\n",
    "    The list of words are the outcome of the topic modeling from science and technology related journal articles.\n",
    "    Generate a new label that best describes the topic of the articles as follow: <new science topic>\n",
    "    Provide a specific and detailed label. I want just a single label. I do not want descriptions for the labels.'''\n",
    "\n",
    "    try:\n",
    "        # Call the OpenAI API to generate the new label\n",
    "        response = client.chat.completions.create(\n",
    "            model=\"gpt-4o\",\n",
    "            messages=[\n",
    "                {\"role\": \"system\", \"content\": \"You are an AI assistant that generates labels for topics based on provided keywords.\"},\n",
    "                {\"role\": \"user\", \"content\": prompt}\n",
    "            ]\n",
    "        )\n",
    "\n",
    "        # Get the label from the response \n",
    "        new_label = response.choices[0].message.content.strip()\n",
    "\n",
    "        # Append the result to the list\n",
    "        results.append({\n",
    "            'nuts' : row['nuts'],\n",
    "            'period' : row['period'],\n",
    "            'keyword' : keywords,\n",
    "            'content' : new_label\n",
    "        })\n",
    "    \n",
    "    except Exception as e:\n",
    "        print(f\"Error processing row {index}: {e}\")\n",
    "\n",
    "# Convert the results list to a DataFrame\n",
    "results_df = pd.DataFrame(results)\n",
    "\n",
    "# Save the results to a CSV file\n",
    "results_df.to_csv('eu_pub_bertopic_nuts2_labels.csv', index=False)"
   ]
  },
  {
   "cell_type": "code",
   "execution_count": null,
   "metadata": {},
   "outputs": [],
   "source": []
  }
 ],
 "metadata": {
  "kernelspec": {
   "display_name": "bertopic_2",
   "language": "python",
   "name": "python3"
  },
  "language_info": {
   "codemirror_mode": {
    "name": "ipython",
    "version": 3
   },
   "file_extension": ".py",
   "mimetype": "text/x-python",
   "name": "python",
   "nbconvert_exporter": "python",
   "pygments_lexer": "ipython3",
   "version": "3.8.20"
  }
 },
 "nbformat": 4,
 "nbformat_minor": 2
}
