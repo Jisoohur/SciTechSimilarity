{
 "cells": [
  {
   "cell_type": "markdown",
   "id": "ce5c0a85",
   "metadata": {},
   "source": [
    "# **특허와 논문 관측치 개수 비교**\n",
    "**특허와 논문 각각 최소 50개로 제한했을 때 관측치 갯수**"
   ]
  },
  {
   "cell_type": "code",
   "execution_count": 1,
   "id": "50318ede",
   "metadata": {},
   "outputs": [],
   "source": [
    "import pandas as pd \n",
    "patent = pd.read_csv('patent_above_100.csv')\n",
    "pub = pd.read_csv('pub_above_100.csv')"
   ]
  },
  {
   "cell_type": "code",
   "execution_count": 2,
   "id": "9254b609",
   "metadata": {},
   "outputs": [
    {
     "data": {
      "text/html": [
       "<div>\n",
       "<style scoped>\n",
       "    .dataframe tbody tr th:only-of-type {\n",
       "        vertical-align: middle;\n",
       "    }\n",
       "\n",
       "    .dataframe tbody tr th {\n",
       "        vertical-align: top;\n",
       "    }\n",
       "\n",
       "    .dataframe thead th {\n",
       "        text-align: right;\n",
       "    }\n",
       "</style>\n",
       "<table border=\"1\" class=\"dataframe\">\n",
       "  <thead>\n",
       "    <tr style=\"text-align: right;\">\n",
       "      <th></th>\n",
       "      <th>nuts</th>\n",
       "      <th>period</th>\n",
       "      <th>appln_id</th>\n",
       "      <th>pubid</th>\n",
       "    </tr>\n",
       "  </thead>\n",
       "  <tbody>\n",
       "    <tr>\n",
       "      <th>0</th>\n",
       "      <td>AT12</td>\n",
       "      <td>4</td>\n",
       "      <td>774</td>\n",
       "      <td>597</td>\n",
       "    </tr>\n",
       "    <tr>\n",
       "      <th>1</th>\n",
       "      <td>AT12</td>\n",
       "      <td>5</td>\n",
       "      <td>994</td>\n",
       "      <td>1309</td>\n",
       "    </tr>\n",
       "    <tr>\n",
       "      <th>2</th>\n",
       "      <td>AT12</td>\n",
       "      <td>6</td>\n",
       "      <td>1283</td>\n",
       "      <td>116</td>\n",
       "    </tr>\n",
       "    <tr>\n",
       "      <th>3</th>\n",
       "      <td>AT13</td>\n",
       "      <td>4</td>\n",
       "      <td>1134</td>\n",
       "      <td>11735</td>\n",
       "    </tr>\n",
       "    <tr>\n",
       "      <th>4</th>\n",
       "      <td>AT13</td>\n",
       "      <td>5</td>\n",
       "      <td>1662</td>\n",
       "      <td>21362</td>\n",
       "    </tr>\n",
       "    <tr>\n",
       "      <th>...</th>\n",
       "      <td>...</td>\n",
       "      <td>...</td>\n",
       "      <td>...</td>\n",
       "      <td>...</td>\n",
       "    </tr>\n",
       "    <tr>\n",
       "      <th>664</th>\n",
       "      <td>UKM5</td>\n",
       "      <td>6</td>\n",
       "      <td>414</td>\n",
       "      <td>578</td>\n",
       "    </tr>\n",
       "    <tr>\n",
       "      <th>665</th>\n",
       "      <td>UKN0</td>\n",
       "      <td>4</td>\n",
       "      <td>118</td>\n",
       "      <td>3851</td>\n",
       "    </tr>\n",
       "    <tr>\n",
       "      <th>666</th>\n",
       "      <td>UKN0</td>\n",
       "      <td>5</td>\n",
       "      <td>155</td>\n",
       "      <td>6627</td>\n",
       "    </tr>\n",
       "    <tr>\n",
       "      <th>667</th>\n",
       "      <td>UKN0</td>\n",
       "      <td>6</td>\n",
       "      <td>236</td>\n",
       "      <td>575</td>\n",
       "    </tr>\n",
       "    <tr>\n",
       "      <th>668</th>\n",
       "      <td>UKN0</td>\n",
       "      <td>7</td>\n",
       "      <td>384</td>\n",
       "      <td>110</td>\n",
       "    </tr>\n",
       "  </tbody>\n",
       "</table>\n",
       "<p>669 rows × 4 columns</p>\n",
       "</div>"
      ],
      "text/plain": [
       "     nuts  period  appln_id  pubid\n",
       "0    AT12       4       774    597\n",
       "1    AT12       5       994   1309\n",
       "2    AT12       6      1283    116\n",
       "3    AT13       4      1134  11735\n",
       "4    AT13       5      1662  21362\n",
       "..    ...     ...       ...    ...\n",
       "664  UKM5       6       414    578\n",
       "665  UKN0       4       118   3851\n",
       "666  UKN0       5       155   6627\n",
       "667  UKN0       6       236    575\n",
       "668  UKN0       7       384    110\n",
       "\n",
       "[669 rows x 4 columns]"
      ]
     },
     "execution_count": 2,
     "metadata": {},
     "output_type": "execute_result"
    }
   ],
   "source": [
    "obs = pd.merge(patent, pub, left_on=['nuts', 'period'], right_on=['eu_nuts_id', 'period'], how = 'inner')\n",
    "obs = obs[['nuts', 'period', 'appln_id', 'pubid']]\n",
    "obs"
   ]
  },
  {
   "cell_type": "code",
   "execution_count": 3,
   "id": "924be21d",
   "metadata": {},
   "outputs": [
    {
     "name": "stdout",
     "output_type": "stream",
     "text": [
      "Number of unique NUTS: 203\n"
     ]
    }
   ],
   "source": [
    "# check number of unique values in nuts \n",
    "print('Number of unique NUTS:', obs['nuts'].nunique())"
   ]
  },
  {
   "cell_type": "code",
   "execution_count": null,
   "id": "15857961",
   "metadata": {},
   "outputs": [],
   "source": []
  }
 ],
 "metadata": {
  "kernelspec": {
   "display_name": "base",
   "language": "python",
   "name": "python3"
  },
  "language_info": {
   "codemirror_mode": {
    "name": "ipython",
    "version": 3
   },
   "file_extension": ".py",
   "mimetype": "text/x-python",
   "name": "python",
   "nbconvert_exporter": "python",
   "pygments_lexer": "ipython3",
   "version": "3.11.7"
  }
 },
 "nbformat": 4,
 "nbformat_minor": 5
}
