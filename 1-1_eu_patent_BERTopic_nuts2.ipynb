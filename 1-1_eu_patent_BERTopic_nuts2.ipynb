{
 "cells": [
  {
   "cell_type": "markdown",
   "metadata": {},
   "source": [
    "# **European patents BERTopic**"
   ]
  },
  {
   "cell_type": "code",
   "execution_count": 1,
   "metadata": {},
   "outputs": [
    {
     "name": "stderr",
     "output_type": "stream",
     "text": [
      "c:\\Users\\user\\anaconda3\\envs\\bertopic_2\\lib\\site-packages\\tqdm\\auto.py:21: TqdmWarning: IProgress not found. Please update jupyter and ipywidgets. See https://ipywidgets.readthedocs.io/en/stable/user_install.html\n",
      "  from .autonotebook import tqdm as notebook_tqdm\n"
     ]
    }
   ],
   "source": [
    "import torch"
   ]
  },
  {
   "cell_type": "code",
   "execution_count": 2,
   "metadata": {},
   "outputs": [
    {
     "name": "stdout",
     "output_type": "stream",
     "text": [
      "Is CUDA available: True\n",
      "CUDA device count: 1\n",
      "Current device: 0\n",
      "Device name: NVIDIA GeForce RTX 4070 Laptop GPU\n"
     ]
    }
   ],
   "source": [
    "print(\"Is CUDA available:\", torch.cuda.is_available())\n",
    "print(\"CUDA device count:\", torch.cuda.device_count())\n",
    "print(\"Current device:\", torch.cuda.current_device())\n",
    "print(\"Device name:\", torch.cuda.get_device_name(0)) "
   ]
  },
  {
   "cell_type": "code",
   "execution_count": 3,
   "metadata": {},
   "outputs": [],
   "source": [
    "import pandas as pd\n",
    "import numpy as np\n",
    "from bertopic import BERTopic\n",
    "from umap import UMAP\n",
    "from hdbscan import HDBSCAN\n",
    "from sklearn.metrics import silhouette_score\n",
    "import re"
   ]
  },
  {
   "cell_type": "code",
   "execution_count": 4,
   "metadata": {},
   "outputs": [],
   "source": [
    "from sklearn.feature_extraction.text import CountVectorizer\n",
    "from sentence_transformers import SentenceTransformer\n",
    "from bertopic.vectorizers import ClassTfidfTransformer\n",
    "from sklearn.feature_extraction.text import CountVectorizer\n",
    "from sklearn.feature_extraction import text"
   ]
  },
  {
   "cell_type": "code",
   "execution_count": 5,
   "metadata": {},
   "outputs": [
    {
     "data": {
      "text/plain": [
       "'c:\\\\Users\\\\user\\\\OneDrive - TUM\\\\1. 연구\\\\In Progress\\\\Sci-tech semantic proximity and regional competitiveness\\\\Data\\\\Queries\\\\Sci-Tech Similarity'"
      ]
     },
     "execution_count": 5,
     "metadata": {},
     "output_type": "execute_result"
    }
   ],
   "source": [
    "import os\n",
    "os.getcwd()"
   ]
  },
  {
   "cell_type": "code",
   "execution_count": 6,
   "metadata": {},
   "outputs": [
    {
     "data": {
      "text/html": [
       "<div>\n",
       "<style scoped>\n",
       "    .dataframe tbody tr th:only-of-type {\n",
       "        vertical-align: middle;\n",
       "    }\n",
       "\n",
       "    .dataframe tbody tr th {\n",
       "        vertical-align: top;\n",
       "    }\n",
       "\n",
       "    .dataframe thead th {\n",
       "        text-align: right;\n",
       "    }\n",
       "</style>\n",
       "<table border=\"1\" class=\"dataframe\">\n",
       "  <thead>\n",
       "    <tr style=\"text-align: right;\">\n",
       "      <th></th>\n",
       "      <th>appln_id</th>\n",
       "      <th>appln_kind</th>\n",
       "      <th>appln_filing_year</th>\n",
       "      <th>docdb_family_id</th>\n",
       "      <th>docdb_family_size</th>\n",
       "    </tr>\n",
       "  </thead>\n",
       "  <tbody>\n",
       "    <tr>\n",
       "      <th>0</th>\n",
       "      <td>1</td>\n",
       "      <td>A</td>\n",
       "      <td>2000</td>\n",
       "      <td>8554171</td>\n",
       "      <td>6</td>\n",
       "    </tr>\n",
       "    <tr>\n",
       "      <th>1</th>\n",
       "      <td>2</td>\n",
       "      <td>A</td>\n",
       "      <td>1992</td>\n",
       "      <td>27517085</td>\n",
       "      <td>8</td>\n",
       "    </tr>\n",
       "    <tr>\n",
       "      <th>2</th>\n",
       "      <td>7</td>\n",
       "      <td>A</td>\n",
       "      <td>2000</td>\n",
       "      <td>10861834</td>\n",
       "      <td>7</td>\n",
       "    </tr>\n",
       "    <tr>\n",
       "      <th>3</th>\n",
       "      <td>9</td>\n",
       "      <td>A</td>\n",
       "      <td>2000</td>\n",
       "      <td>8555798</td>\n",
       "      <td>23</td>\n",
       "    </tr>\n",
       "    <tr>\n",
       "      <th>4</th>\n",
       "      <td>10</td>\n",
       "      <td>A</td>\n",
       "      <td>2001</td>\n",
       "      <td>7655749</td>\n",
       "      <td>9</td>\n",
       "    </tr>\n",
       "    <tr>\n",
       "      <th>...</th>\n",
       "      <td>...</td>\n",
       "      <td>...</td>\n",
       "      <td>...</td>\n",
       "      <td>...</td>\n",
       "      <td>...</td>\n",
       "    </tr>\n",
       "    <tr>\n",
       "      <th>8290059</th>\n",
       "      <td>606446150</td>\n",
       "      <td>U</td>\n",
       "      <td>2020</td>\n",
       "      <td>78048989</td>\n",
       "      <td>2</td>\n",
       "    </tr>\n",
       "    <tr>\n",
       "      <th>8290060</th>\n",
       "      <td>606446152</td>\n",
       "      <td>U</td>\n",
       "      <td>2022</td>\n",
       "      <td>89853283</td>\n",
       "      <td>1</td>\n",
       "    </tr>\n",
       "    <tr>\n",
       "      <th>8290061</th>\n",
       "      <td>606471480</td>\n",
       "      <td>A</td>\n",
       "      <td>2022</td>\n",
       "      <td>89854709</td>\n",
       "      <td>1</td>\n",
       "    </tr>\n",
       "    <tr>\n",
       "      <th>8290062</th>\n",
       "      <td>606471485</td>\n",
       "      <td>A</td>\n",
       "      <td>2022</td>\n",
       "      <td>89854710</td>\n",
       "      <td>1</td>\n",
       "    </tr>\n",
       "    <tr>\n",
       "      <th>8290063</th>\n",
       "      <td>606471487</td>\n",
       "      <td>A</td>\n",
       "      <td>2022</td>\n",
       "      <td>89854711</td>\n",
       "      <td>1</td>\n",
       "    </tr>\n",
       "  </tbody>\n",
       "</table>\n",
       "<p>8290064 rows × 5 columns</p>\n",
       "</div>"
      ],
      "text/plain": [
       "          appln_id appln_kind  appln_filing_year  docdb_family_id  \\\n",
       "0                1         A                2000          8554171   \n",
       "1                2         A                1992         27517085   \n",
       "2                7         A                2000         10861834   \n",
       "3                9         A                2000          8555798   \n",
       "4               10         A                2001          7655749   \n",
       "...            ...        ...                ...              ...   \n",
       "8290059  606446150         U                2020         78048989   \n",
       "8290060  606446152         U                2022         89853283   \n",
       "8290061  606471480         A                2022         89854709   \n",
       "8290062  606471485         A                2022         89854710   \n",
       "8290063  606471487         A                2022         89854711   \n",
       "\n",
       "         docdb_family_size  \n",
       "0                        6  \n",
       "1                        8  \n",
       "2                        7  \n",
       "3                       23  \n",
       "4                        9  \n",
       "...                    ...  \n",
       "8290059                  2  \n",
       "8290060                  1  \n",
       "8290061                  1  \n",
       "8290062                  1  \n",
       "8290063                  1  \n",
       "\n",
       "[8290064 rows x 5 columns]"
      ]
     },
     "execution_count": 6,
     "metadata": {},
     "output_type": "execute_result"
    }
   ],
   "source": [
    "import pandas as pd\n",
    "patent_app = pd.read_csv('patent_app.csv')\n",
    "patent_app"
   ]
  },
  {
   "cell_type": "code",
   "execution_count": 7,
   "metadata": {},
   "outputs": [
    {
     "data": {
      "text/plain": [
       "8290064"
      ]
     },
     "execution_count": 7,
     "metadata": {},
     "output_type": "execute_result"
    }
   ],
   "source": [
    "# check number of unique appln_id \n",
    "patent_app['appln_id'].nunique()"
   ]
  },
  {
   "cell_type": "code",
   "execution_count": 8,
   "metadata": {},
   "outputs": [
    {
     "data": {
      "text/html": [
       "<div>\n",
       "<style scoped>\n",
       "    .dataframe tbody tr th:only-of-type {\n",
       "        vertical-align: middle;\n",
       "    }\n",
       "\n",
       "    .dataframe tbody tr th {\n",
       "        vertical-align: top;\n",
       "    }\n",
       "\n",
       "    .dataframe thead th {\n",
       "        text-align: right;\n",
       "    }\n",
       "</style>\n",
       "<table border=\"1\" class=\"dataframe\">\n",
       "  <thead>\n",
       "    <tr style=\"text-align: right;\">\n",
       "      <th></th>\n",
       "      <th>appln_id</th>\n",
       "      <th>appln_title</th>\n",
       "      <th>appln_title_lg</th>\n",
       "      <th>appln_abstract</th>\n",
       "      <th>appln_abstract_lg</th>\n",
       "    </tr>\n",
       "  </thead>\n",
       "  <tbody>\n",
       "    <tr>\n",
       "      <th>0</th>\n",
       "      <td>1</td>\n",
       "      <td>Method and means for using additional cards in...</td>\n",
       "      <td>en</td>\n",
       "      <td>A mobile station (MS) that comprises an interf...</td>\n",
       "      <td>en</td>\n",
       "    </tr>\n",
       "    <tr>\n",
       "      <th>1</th>\n",
       "      <td>2</td>\n",
       "      <td>Production of anti-self antibodies from antibo...</td>\n",
       "      <td>en</td>\n",
       "      <td>Methods are disclosed for the production of an...</td>\n",
       "      <td>en</td>\n",
       "    </tr>\n",
       "    <tr>\n",
       "      <th>2</th>\n",
       "      <td>7</td>\n",
       "      <td>MULTILAYER TELECOMMUNICATIONS NETWORK</td>\n",
       "      <td>en</td>\n",
       "      <td>A communications system comprising: a first ne...</td>\n",
       "      <td>en</td>\n",
       "    </tr>\n",
       "    <tr>\n",
       "      <th>3</th>\n",
       "      <td>9</td>\n",
       "      <td>SPRAYHEAD WITH NOZZLES MADE BY BORING</td>\n",
       "      <td>en</td>\n",
       "      <td>The invention relates to a spray head for prod...</td>\n",
       "      <td>en</td>\n",
       "    </tr>\n",
       "    <tr>\n",
       "      <th>4</th>\n",
       "      <td>10</td>\n",
       "      <td>Diphosphines</td>\n",
       "      <td>en</td>\n",
       "      <td>New enantiomericlly pure (substituted biphenyl...</td>\n",
       "      <td>en</td>\n",
       "    </tr>\n",
       "    <tr>\n",
       "      <th>...</th>\n",
       "      <td>...</td>\n",
       "      <td>...</td>\n",
       "      <td>...</td>\n",
       "      <td>...</td>\n",
       "      <td>...</td>\n",
       "    </tr>\n",
       "    <tr>\n",
       "      <th>8277625</th>\n",
       "      <td>606446150</td>\n",
       "      <td>Vorrichtung zur spektroskopischen Untersuchung...</td>\n",
       "      <td>de</td>\n",
       "      <td>Eine Vorrichtung (20) zur spektroskopischen Un...</td>\n",
       "      <td>de</td>\n",
       "    </tr>\n",
       "    <tr>\n",
       "      <th>8277626</th>\n",
       "      <td>606446152</td>\n",
       "      <td>Agro-photovoltaische Anlage</td>\n",
       "      <td>de</td>\n",
       "      <td>Die Erfindung betrifft eine Photovoltaikanlage...</td>\n",
       "      <td>de</td>\n",
       "    </tr>\n",
       "    <tr>\n",
       "      <th>8277627</th>\n",
       "      <td>606471480</td>\n",
       "      <td>SURFACE MODIFIED DOUGH CELLS AS BIORECOGNITION...</td>\n",
       "      <td>en</td>\n",
       "      <td>The present invenlion refers to the developmen...</td>\n",
       "      <td>en</td>\n",
       "    </tr>\n",
       "    <tr>\n",
       "      <th>8277628</th>\n",
       "      <td>606471485</td>\n",
       "      <td>MOBILE PHONE PROTECTIVE CASE/COVER WITH BIO-ME...</td>\n",
       "      <td>en</td>\n",
       "      <td>The invention relates to a cell phone case des...</td>\n",
       "      <td>en</td>\n",
       "    </tr>\n",
       "    <tr>\n",
       "      <th>8277629</th>\n",
       "      <td>606471487</td>\n",
       "      <td>FIG LEAF EXTRACTION METHOD AND PRODUCT</td>\n",
       "      <td>en</td>\n",
       "      <td>The invention relates to a fig leaf extraction...</td>\n",
       "      <td>en</td>\n",
       "    </tr>\n",
       "  </tbody>\n",
       "</table>\n",
       "<p>8277630 rows × 5 columns</p>\n",
       "</div>"
      ],
      "text/plain": [
       "          appln_id                                        appln_title  \\\n",
       "0                1  Method and means for using additional cards in...   \n",
       "1                2  Production of anti-self antibodies from antibo...   \n",
       "2                7              MULTILAYER TELECOMMUNICATIONS NETWORK   \n",
       "3                9              SPRAYHEAD WITH NOZZLES MADE BY BORING   \n",
       "4               10                                       Diphosphines   \n",
       "...            ...                                                ...   \n",
       "8277625  606446150  Vorrichtung zur spektroskopischen Untersuchung...   \n",
       "8277626  606446152                        Agro-photovoltaische Anlage   \n",
       "8277627  606471480  SURFACE MODIFIED DOUGH CELLS AS BIORECOGNITION...   \n",
       "8277628  606471485  MOBILE PHONE PROTECTIVE CASE/COVER WITH BIO-ME...   \n",
       "8277629  606471487             FIG LEAF EXTRACTION METHOD AND PRODUCT   \n",
       "\n",
       "        appln_title_lg                                     appln_abstract  \\\n",
       "0                   en  A mobile station (MS) that comprises an interf...   \n",
       "1                   en  Methods are disclosed for the production of an...   \n",
       "2                   en  A communications system comprising: a first ne...   \n",
       "3                   en  The invention relates to a spray head for prod...   \n",
       "4                   en  New enantiomericlly pure (substituted biphenyl...   \n",
       "...                ...                                                ...   \n",
       "8277625             de  Eine Vorrichtung (20) zur spektroskopischen Un...   \n",
       "8277626             de  Die Erfindung betrifft eine Photovoltaikanlage...   \n",
       "8277627             en  The present invenlion refers to the developmen...   \n",
       "8277628             en  The invention relates to a cell phone case des...   \n",
       "8277629             en  The invention relates to a fig leaf extraction...   \n",
       "\n",
       "        appln_abstract_lg  \n",
       "0                      en  \n",
       "1                      en  \n",
       "2                      en  \n",
       "3                      en  \n",
       "4                      en  \n",
       "...                   ...  \n",
       "8277625                de  \n",
       "8277626                de  \n",
       "8277627                en  \n",
       "8277628                en  \n",
       "8277629                en  \n",
       "\n",
       "[8277630 rows x 5 columns]"
      ]
     },
     "execution_count": 8,
     "metadata": {},
     "output_type": "execute_result"
    }
   ],
   "source": [
    "patent_text = pd.read_csv('patent_text.csv')\n",
    "patent_text"
   ]
  },
  {
   "cell_type": "code",
   "execution_count": 9,
   "metadata": {},
   "outputs": [
    {
     "data": {
      "text/plain": [
       "8277630"
      ]
     },
     "execution_count": 9,
     "metadata": {},
     "output_type": "execute_result"
    }
   ],
   "source": [
    "patent_text['appln_id'].nunique()"
   ]
  },
  {
   "cell_type": "code",
   "execution_count": 10,
   "metadata": {},
   "outputs": [
    {
     "data": {
      "text/html": [
       "<div>\n",
       "<style scoped>\n",
       "    .dataframe tbody tr th:only-of-type {\n",
       "        vertical-align: middle;\n",
       "    }\n",
       "\n",
       "    .dataframe tbody tr th {\n",
       "        vertical-align: top;\n",
       "    }\n",
       "\n",
       "    .dataframe thead th {\n",
       "        text-align: right;\n",
       "    }\n",
       "</style>\n",
       "<table border=\"1\" class=\"dataframe\">\n",
       "  <thead>\n",
       "    <tr style=\"text-align: right;\">\n",
       "      <th></th>\n",
       "      <th>appln_id</th>\n",
       "      <th>appln_kind</th>\n",
       "      <th>appln_filing_year</th>\n",
       "      <th>docdb_family_id</th>\n",
       "      <th>docdb_family_size</th>\n",
       "      <th>appln_title</th>\n",
       "      <th>appln_title_lg</th>\n",
       "      <th>appln_abstract</th>\n",
       "      <th>appln_abstract_lg</th>\n",
       "    </tr>\n",
       "  </thead>\n",
       "  <tbody>\n",
       "    <tr>\n",
       "      <th>0</th>\n",
       "      <td>1</td>\n",
       "      <td>A</td>\n",
       "      <td>2000</td>\n",
       "      <td>8554171</td>\n",
       "      <td>6</td>\n",
       "      <td>Method and means for using additional cards in...</td>\n",
       "      <td>en</td>\n",
       "      <td>A mobile station (MS) that comprises an interf...</td>\n",
       "      <td>en</td>\n",
       "    </tr>\n",
       "    <tr>\n",
       "      <th>1</th>\n",
       "      <td>2</td>\n",
       "      <td>A</td>\n",
       "      <td>1992</td>\n",
       "      <td>27517085</td>\n",
       "      <td>8</td>\n",
       "      <td>Production of anti-self antibodies from antibo...</td>\n",
       "      <td>en</td>\n",
       "      <td>Methods are disclosed for the production of an...</td>\n",
       "      <td>en</td>\n",
       "    </tr>\n",
       "    <tr>\n",
       "      <th>2</th>\n",
       "      <td>7</td>\n",
       "      <td>A</td>\n",
       "      <td>2000</td>\n",
       "      <td>10861834</td>\n",
       "      <td>7</td>\n",
       "      <td>MULTILAYER TELECOMMUNICATIONS NETWORK</td>\n",
       "      <td>en</td>\n",
       "      <td>A communications system comprising: a first ne...</td>\n",
       "      <td>en</td>\n",
       "    </tr>\n",
       "    <tr>\n",
       "      <th>3</th>\n",
       "      <td>9</td>\n",
       "      <td>A</td>\n",
       "      <td>2000</td>\n",
       "      <td>8555798</td>\n",
       "      <td>23</td>\n",
       "      <td>SPRAYHEAD WITH NOZZLES MADE BY BORING</td>\n",
       "      <td>en</td>\n",
       "      <td>The invention relates to a spray head for prod...</td>\n",
       "      <td>en</td>\n",
       "    </tr>\n",
       "    <tr>\n",
       "      <th>4</th>\n",
       "      <td>10</td>\n",
       "      <td>A</td>\n",
       "      <td>2001</td>\n",
       "      <td>7655749</td>\n",
       "      <td>9</td>\n",
       "      <td>Diphosphines</td>\n",
       "      <td>en</td>\n",
       "      <td>New enantiomericlly pure (substituted biphenyl...</td>\n",
       "      <td>en</td>\n",
       "    </tr>\n",
       "    <tr>\n",
       "      <th>...</th>\n",
       "      <td>...</td>\n",
       "      <td>...</td>\n",
       "      <td>...</td>\n",
       "      <td>...</td>\n",
       "      <td>...</td>\n",
       "      <td>...</td>\n",
       "      <td>...</td>\n",
       "      <td>...</td>\n",
       "      <td>...</td>\n",
       "    </tr>\n",
       "    <tr>\n",
       "      <th>8290059</th>\n",
       "      <td>606446150</td>\n",
       "      <td>U</td>\n",
       "      <td>2020</td>\n",
       "      <td>78048989</td>\n",
       "      <td>2</td>\n",
       "      <td>Vorrichtung zur spektroskopischen Untersuchung...</td>\n",
       "      <td>de</td>\n",
       "      <td>Eine Vorrichtung (20) zur spektroskopischen Un...</td>\n",
       "      <td>de</td>\n",
       "    </tr>\n",
       "    <tr>\n",
       "      <th>8290060</th>\n",
       "      <td>606446152</td>\n",
       "      <td>U</td>\n",
       "      <td>2022</td>\n",
       "      <td>89853283</td>\n",
       "      <td>1</td>\n",
       "      <td>Agro-photovoltaische Anlage</td>\n",
       "      <td>de</td>\n",
       "      <td>Die Erfindung betrifft eine Photovoltaikanlage...</td>\n",
       "      <td>de</td>\n",
       "    </tr>\n",
       "    <tr>\n",
       "      <th>8290061</th>\n",
       "      <td>606471480</td>\n",
       "      <td>A</td>\n",
       "      <td>2022</td>\n",
       "      <td>89854709</td>\n",
       "      <td>1</td>\n",
       "      <td>SURFACE MODIFIED DOUGH CELLS AS BIORECOGNITION...</td>\n",
       "      <td>en</td>\n",
       "      <td>The present invenlion refers to the developmen...</td>\n",
       "      <td>en</td>\n",
       "    </tr>\n",
       "    <tr>\n",
       "      <th>8290062</th>\n",
       "      <td>606471485</td>\n",
       "      <td>A</td>\n",
       "      <td>2022</td>\n",
       "      <td>89854710</td>\n",
       "      <td>1</td>\n",
       "      <td>MOBILE PHONE PROTECTIVE CASE/COVER WITH BIO-ME...</td>\n",
       "      <td>en</td>\n",
       "      <td>The invention relates to a cell phone case des...</td>\n",
       "      <td>en</td>\n",
       "    </tr>\n",
       "    <tr>\n",
       "      <th>8290063</th>\n",
       "      <td>606471487</td>\n",
       "      <td>A</td>\n",
       "      <td>2022</td>\n",
       "      <td>89854711</td>\n",
       "      <td>1</td>\n",
       "      <td>FIG LEAF EXTRACTION METHOD AND PRODUCT</td>\n",
       "      <td>en</td>\n",
       "      <td>The invention relates to a fig leaf extraction...</td>\n",
       "      <td>en</td>\n",
       "    </tr>\n",
       "  </tbody>\n",
       "</table>\n",
       "<p>8290064 rows × 9 columns</p>\n",
       "</div>"
      ],
      "text/plain": [
       "          appln_id appln_kind  appln_filing_year  docdb_family_id  \\\n",
       "0                1         A                2000          8554171   \n",
       "1                2         A                1992         27517085   \n",
       "2                7         A                2000         10861834   \n",
       "3                9         A                2000          8555798   \n",
       "4               10         A                2001          7655749   \n",
       "...            ...        ...                ...              ...   \n",
       "8290059  606446150         U                2020         78048989   \n",
       "8290060  606446152         U                2022         89853283   \n",
       "8290061  606471480         A                2022         89854709   \n",
       "8290062  606471485         A                2022         89854710   \n",
       "8290063  606471487         A                2022         89854711   \n",
       "\n",
       "         docdb_family_size                                        appln_title  \\\n",
       "0                        6  Method and means for using additional cards in...   \n",
       "1                        8  Production of anti-self antibodies from antibo...   \n",
       "2                        7              MULTILAYER TELECOMMUNICATIONS NETWORK   \n",
       "3                       23              SPRAYHEAD WITH NOZZLES MADE BY BORING   \n",
       "4                        9                                       Diphosphines   \n",
       "...                    ...                                                ...   \n",
       "8290059                  2  Vorrichtung zur spektroskopischen Untersuchung...   \n",
       "8290060                  1                        Agro-photovoltaische Anlage   \n",
       "8290061                  1  SURFACE MODIFIED DOUGH CELLS AS BIORECOGNITION...   \n",
       "8290062                  1  MOBILE PHONE PROTECTIVE CASE/COVER WITH BIO-ME...   \n",
       "8290063                  1             FIG LEAF EXTRACTION METHOD AND PRODUCT   \n",
       "\n",
       "        appln_title_lg                                     appln_abstract  \\\n",
       "0                   en  A mobile station (MS) that comprises an interf...   \n",
       "1                   en  Methods are disclosed for the production of an...   \n",
       "2                   en  A communications system comprising: a first ne...   \n",
       "3                   en  The invention relates to a spray head for prod...   \n",
       "4                   en  New enantiomericlly pure (substituted biphenyl...   \n",
       "...                ...                                                ...   \n",
       "8290059             de  Eine Vorrichtung (20) zur spektroskopischen Un...   \n",
       "8290060             de  Die Erfindung betrifft eine Photovoltaikanlage...   \n",
       "8290061             en  The present invenlion refers to the developmen...   \n",
       "8290062             en  The invention relates to a cell phone case des...   \n",
       "8290063             en  The invention relates to a fig leaf extraction...   \n",
       "\n",
       "        appln_abstract_lg  \n",
       "0                      en  \n",
       "1                      en  \n",
       "2                      en  \n",
       "3                      en  \n",
       "4                      en  \n",
       "...                   ...  \n",
       "8290059                de  \n",
       "8290060                de  \n",
       "8290061                en  \n",
       "8290062                en  \n",
       "8290063                en  \n",
       "\n",
       "[8290064 rows x 9 columns]"
      ]
     },
     "execution_count": 10,
     "metadata": {},
     "output_type": "execute_result"
    }
   ],
   "source": [
    "df = pd.merge(patent_app, patent_text, on = 'appln_id', how = 'left')\n",
    "df"
   ]
  },
  {
   "cell_type": "code",
   "execution_count": 11,
   "metadata": {},
   "outputs": [
    {
     "data": {
      "text/plain": [
       "appln_id                   0\n",
       "appln_kind                 0\n",
       "appln_filing_year          0\n",
       "docdb_family_id            0\n",
       "docdb_family_size          0\n",
       "appln_title            12440\n",
       "appln_title_lg         12434\n",
       "appln_abstract       2110755\n",
       "appln_abstract_lg    2110643\n",
       "dtype: int64"
      ]
     },
     "execution_count": 11,
     "metadata": {},
     "output_type": "execute_result"
    }
   ],
   "source": [
    "df.isnull().sum()"
   ]
  },
  {
   "cell_type": "code",
   "execution_count": 12,
   "metadata": {},
   "outputs": [
    {
     "data": {
      "text/html": [
       "<div>\n",
       "<style scoped>\n",
       "    .dataframe tbody tr th:only-of-type {\n",
       "        vertical-align: middle;\n",
       "    }\n",
       "\n",
       "    .dataframe tbody tr th {\n",
       "        vertical-align: top;\n",
       "    }\n",
       "\n",
       "    .dataframe thead th {\n",
       "        text-align: right;\n",
       "    }\n",
       "</style>\n",
       "<table border=\"1\" class=\"dataframe\">\n",
       "  <thead>\n",
       "    <tr style=\"text-align: right;\">\n",
       "      <th></th>\n",
       "      <th>appln_id</th>\n",
       "      <th>appln_kind</th>\n",
       "      <th>appln_filing_year</th>\n",
       "      <th>docdb_family_id</th>\n",
       "      <th>docdb_family_size</th>\n",
       "      <th>appln_title</th>\n",
       "      <th>appln_title_lg</th>\n",
       "      <th>appln_abstract</th>\n",
       "      <th>appln_abstract_lg</th>\n",
       "    </tr>\n",
       "  </thead>\n",
       "  <tbody>\n",
       "    <tr>\n",
       "      <th>0</th>\n",
       "      <td>1</td>\n",
       "      <td>A</td>\n",
       "      <td>2000</td>\n",
       "      <td>8554171</td>\n",
       "      <td>6</td>\n",
       "      <td>Method and means for using additional cards in...</td>\n",
       "      <td>en</td>\n",
       "      <td>A mobile station (MS) that comprises an interf...</td>\n",
       "      <td>en</td>\n",
       "    </tr>\n",
       "    <tr>\n",
       "      <th>1</th>\n",
       "      <td>2</td>\n",
       "      <td>A</td>\n",
       "      <td>1992</td>\n",
       "      <td>27517085</td>\n",
       "      <td>8</td>\n",
       "      <td>Production of anti-self antibodies from antibo...</td>\n",
       "      <td>en</td>\n",
       "      <td>Methods are disclosed for the production of an...</td>\n",
       "      <td>en</td>\n",
       "    </tr>\n",
       "    <tr>\n",
       "      <th>2</th>\n",
       "      <td>7</td>\n",
       "      <td>A</td>\n",
       "      <td>2000</td>\n",
       "      <td>10861834</td>\n",
       "      <td>7</td>\n",
       "      <td>MULTILAYER TELECOMMUNICATIONS NETWORK</td>\n",
       "      <td>en</td>\n",
       "      <td>A communications system comprising: a first ne...</td>\n",
       "      <td>en</td>\n",
       "    </tr>\n",
       "    <tr>\n",
       "      <th>3</th>\n",
       "      <td>9</td>\n",
       "      <td>A</td>\n",
       "      <td>2000</td>\n",
       "      <td>8555798</td>\n",
       "      <td>23</td>\n",
       "      <td>SPRAYHEAD WITH NOZZLES MADE BY BORING</td>\n",
       "      <td>en</td>\n",
       "      <td>The invention relates to a spray head for prod...</td>\n",
       "      <td>en</td>\n",
       "    </tr>\n",
       "    <tr>\n",
       "      <th>4</th>\n",
       "      <td>10</td>\n",
       "      <td>A</td>\n",
       "      <td>2001</td>\n",
       "      <td>7655749</td>\n",
       "      <td>9</td>\n",
       "      <td>Diphosphines</td>\n",
       "      <td>en</td>\n",
       "      <td>New enantiomericlly pure (substituted biphenyl...</td>\n",
       "      <td>en</td>\n",
       "    </tr>\n",
       "  </tbody>\n",
       "</table>\n",
       "</div>"
      ],
      "text/plain": [
       "   appln_id appln_kind  appln_filing_year  docdb_family_id  docdb_family_size  \\\n",
       "0         1         A                2000          8554171                  6   \n",
       "1         2         A                1992         27517085                  8   \n",
       "2         7         A                2000         10861834                  7   \n",
       "3         9         A                2000          8555798                 23   \n",
       "4        10         A                2001          7655749                  9   \n",
       "\n",
       "                                         appln_title appln_title_lg  \\\n",
       "0  Method and means for using additional cards in...             en   \n",
       "1  Production of anti-self antibodies from antibo...             en   \n",
       "2              MULTILAYER TELECOMMUNICATIONS NETWORK             en   \n",
       "3              SPRAYHEAD WITH NOZZLES MADE BY BORING             en   \n",
       "4                                       Diphosphines             en   \n",
       "\n",
       "                                      appln_abstract appln_abstract_lg  \n",
       "0  A mobile station (MS) that comprises an interf...                en  \n",
       "1  Methods are disclosed for the production of an...                en  \n",
       "2  A communications system comprising: a first ne...                en  \n",
       "3  The invention relates to a spray head for prod...                en  \n",
       "4  New enantiomericlly pure (substituted biphenyl...                en  "
      ]
     },
     "execution_count": 12,
     "metadata": {},
     "output_type": "execute_result"
    }
   ],
   "source": [
    "# drop rows where appln_abstract is null \n",
    "df = df.dropna(subset=['appln_abstract'])\n",
    "df.head()"
   ]
  },
  {
   "cell_type": "code",
   "execution_count": 13,
   "metadata": {},
   "outputs": [
    {
     "data": {
      "text/html": [
       "<div>\n",
       "<style scoped>\n",
       "    .dataframe tbody tr th:only-of-type {\n",
       "        vertical-align: middle;\n",
       "    }\n",
       "\n",
       "    .dataframe tbody tr th {\n",
       "        vertical-align: top;\n",
       "    }\n",
       "\n",
       "    .dataframe thead th {\n",
       "        text-align: right;\n",
       "    }\n",
       "</style>\n",
       "<table border=\"1\" class=\"dataframe\">\n",
       "  <thead>\n",
       "    <tr style=\"text-align: right;\">\n",
       "      <th></th>\n",
       "      <th>appln_id</th>\n",
       "      <th>appln_kind</th>\n",
       "      <th>appln_filing_year</th>\n",
       "      <th>docdb_family_id</th>\n",
       "      <th>docdb_family_size</th>\n",
       "      <th>appln_title</th>\n",
       "      <th>appln_title_lg</th>\n",
       "      <th>appln_abstract</th>\n",
       "      <th>appln_abstract_lg</th>\n",
       "    </tr>\n",
       "  </thead>\n",
       "  <tbody>\n",
       "    <tr>\n",
       "      <th>0</th>\n",
       "      <td>1</td>\n",
       "      <td>A</td>\n",
       "      <td>2000</td>\n",
       "      <td>8554171</td>\n",
       "      <td>6</td>\n",
       "      <td>Method and means for using additional cards in...</td>\n",
       "      <td>en</td>\n",
       "      <td>A mobile station (MS) that comprises an interf...</td>\n",
       "      <td>en</td>\n",
       "    </tr>\n",
       "    <tr>\n",
       "      <th>1</th>\n",
       "      <td>2</td>\n",
       "      <td>A</td>\n",
       "      <td>1992</td>\n",
       "      <td>27517085</td>\n",
       "      <td>8</td>\n",
       "      <td>Production of anti-self antibodies from antibo...</td>\n",
       "      <td>en</td>\n",
       "      <td>Methods are disclosed for the production of an...</td>\n",
       "      <td>en</td>\n",
       "    </tr>\n",
       "    <tr>\n",
       "      <th>2</th>\n",
       "      <td>7</td>\n",
       "      <td>A</td>\n",
       "      <td>2000</td>\n",
       "      <td>10861834</td>\n",
       "      <td>7</td>\n",
       "      <td>MULTILAYER TELECOMMUNICATIONS NETWORK</td>\n",
       "      <td>en</td>\n",
       "      <td>A communications system comprising: a first ne...</td>\n",
       "      <td>en</td>\n",
       "    </tr>\n",
       "    <tr>\n",
       "      <th>3</th>\n",
       "      <td>9</td>\n",
       "      <td>A</td>\n",
       "      <td>2000</td>\n",
       "      <td>8555798</td>\n",
       "      <td>23</td>\n",
       "      <td>SPRAYHEAD WITH NOZZLES MADE BY BORING</td>\n",
       "      <td>en</td>\n",
       "      <td>The invention relates to a spray head for prod...</td>\n",
       "      <td>en</td>\n",
       "    </tr>\n",
       "    <tr>\n",
       "      <th>4</th>\n",
       "      <td>10</td>\n",
       "      <td>A</td>\n",
       "      <td>2001</td>\n",
       "      <td>7655749</td>\n",
       "      <td>9</td>\n",
       "      <td>Diphosphines</td>\n",
       "      <td>en</td>\n",
       "      <td>New enantiomericlly pure (substituted biphenyl...</td>\n",
       "      <td>en</td>\n",
       "    </tr>\n",
       "  </tbody>\n",
       "</table>\n",
       "</div>"
      ],
      "text/plain": [
       "   appln_id appln_kind  appln_filing_year  docdb_family_id  docdb_family_size  \\\n",
       "0         1         A                2000          8554171                  6   \n",
       "1         2         A                1992         27517085                  8   \n",
       "2         7         A                2000         10861834                  7   \n",
       "3         9         A                2000          8555798                 23   \n",
       "4        10         A                2001          7655749                  9   \n",
       "\n",
       "                                         appln_title appln_title_lg  \\\n",
       "0  Method and means for using additional cards in...             en   \n",
       "1  Production of anti-self antibodies from antibo...             en   \n",
       "2              MULTILAYER TELECOMMUNICATIONS NETWORK             en   \n",
       "3              SPRAYHEAD WITH NOZZLES MADE BY BORING             en   \n",
       "4                                       Diphosphines             en   \n",
       "\n",
       "                                      appln_abstract appln_abstract_lg  \n",
       "0  A mobile station (MS) that comprises an interf...                en  \n",
       "1  Methods are disclosed for the production of an...                en  \n",
       "2  A communications system comprising: a first ne...                en  \n",
       "3  The invention relates to a spray head for prod...                en  \n",
       "4  New enantiomericlly pure (substituted biphenyl...                en  "
      ]
     },
     "execution_count": 13,
     "metadata": {},
     "output_type": "execute_result"
    }
   ],
   "source": [
    "# drop rows where appln_abstract_lg is not en \n",
    "df = df[df['appln_abstract_lg'] == 'en']\n",
    "df.head()"
   ]
  },
  {
   "cell_type": "code",
   "execution_count": 14,
   "metadata": {},
   "outputs": [
    {
     "data": {
      "text/plain": [
       "(1980, 2022)"
      ]
     },
     "execution_count": 14,
     "metadata": {},
     "output_type": "execute_result"
    }
   ],
   "source": [
    "df['appln_filing_year'].min(), df['appln_filing_year'].max()"
   ]
  },
  {
   "cell_type": "code",
   "execution_count": 15,
   "metadata": {},
   "outputs": [
    {
     "data": {
      "text/plain": [
       "appln_filing_year\n",
       "1980     34487\n",
       "1981     34838\n",
       "1982     35876\n",
       "1983     34300\n",
       "1984     39361\n",
       "1985     44484\n",
       "1986     49944\n",
       "1987     50965\n",
       "1988     55706\n",
       "1989     58442\n",
       "1990     59045\n",
       "1991     57566\n",
       "1992     67065\n",
       "1993     83885\n",
       "1994     97439\n",
       "1995    107899\n",
       "1996    110874\n",
       "1997    124171\n",
       "1998    132924\n",
       "1999    141132\n",
       "2000    147430\n",
       "2001    150273\n",
       "2002    158025\n",
       "2003    173778\n",
       "2004    175546\n",
       "2005    184895\n",
       "2006    174697\n",
       "2007    167786\n",
       "2008    167031\n",
       "2009    155734\n",
       "2010    164375\n",
       "2011    167938\n",
       "2012    175866\n",
       "2013    169332\n",
       "2014    159819\n",
       "2015    162844\n",
       "2016    156993\n",
       "2017    149258\n",
       "2018    137775\n",
       "2019    114770\n",
       "2020     86186\n",
       "2021     48177\n",
       "2022     16741\n",
       "Name: appln_id, dtype: int64"
      ]
     },
     "execution_count": 15,
     "metadata": {},
     "output_type": "execute_result"
    }
   ],
   "source": [
    "df.groupby('appln_filing_year')['appln_id'].nunique()"
   ]
  },
  {
   "cell_type": "markdown",
   "metadata": {},
   "source": [
    "**특허수가 감소함 -> 확인필요**"
   ]
  },
  {
   "cell_type": "code",
   "execution_count": 16,
   "metadata": {},
   "outputs": [
    {
     "data": {
      "text/html": [
       "<div>\n",
       "<style scoped>\n",
       "    .dataframe tbody tr th:only-of-type {\n",
       "        vertical-align: middle;\n",
       "    }\n",
       "\n",
       "    .dataframe tbody tr th {\n",
       "        vertical-align: top;\n",
       "    }\n",
       "\n",
       "    .dataframe thead th {\n",
       "        text-align: right;\n",
       "    }\n",
       "</style>\n",
       "<table border=\"1\" class=\"dataframe\">\n",
       "  <thead>\n",
       "    <tr style=\"text-align: right;\">\n",
       "      <th></th>\n",
       "      <th>appln_id</th>\n",
       "      <th>appln_kind</th>\n",
       "      <th>appln_filing_year</th>\n",
       "      <th>docdb_family_id</th>\n",
       "      <th>docdb_family_size</th>\n",
       "      <th>appln_title</th>\n",
       "      <th>appln_title_lg</th>\n",
       "      <th>appln_abstract</th>\n",
       "      <th>appln_abstract_lg</th>\n",
       "      <th>period</th>\n",
       "    </tr>\n",
       "  </thead>\n",
       "  <tbody>\n",
       "    <tr>\n",
       "      <th>0</th>\n",
       "      <td>1</td>\n",
       "      <td>A</td>\n",
       "      <td>2000</td>\n",
       "      <td>8554171</td>\n",
       "      <td>6</td>\n",
       "      <td>Method and means for using additional cards in...</td>\n",
       "      <td>en</td>\n",
       "      <td>A mobile station (MS) that comprises an interf...</td>\n",
       "      <td>en</td>\n",
       "      <td>4</td>\n",
       "    </tr>\n",
       "    <tr>\n",
       "      <th>1</th>\n",
       "      <td>2</td>\n",
       "      <td>A</td>\n",
       "      <td>1992</td>\n",
       "      <td>27517085</td>\n",
       "      <td>8</td>\n",
       "      <td>Production of anti-self antibodies from antibo...</td>\n",
       "      <td>en</td>\n",
       "      <td>Methods are disclosed for the production of an...</td>\n",
       "      <td>en</td>\n",
       "      <td>3</td>\n",
       "    </tr>\n",
       "    <tr>\n",
       "      <th>2</th>\n",
       "      <td>7</td>\n",
       "      <td>A</td>\n",
       "      <td>2000</td>\n",
       "      <td>10861834</td>\n",
       "      <td>7</td>\n",
       "      <td>MULTILAYER TELECOMMUNICATIONS NETWORK</td>\n",
       "      <td>en</td>\n",
       "      <td>A communications system comprising: a first ne...</td>\n",
       "      <td>en</td>\n",
       "      <td>4</td>\n",
       "    </tr>\n",
       "    <tr>\n",
       "      <th>3</th>\n",
       "      <td>9</td>\n",
       "      <td>A</td>\n",
       "      <td>2000</td>\n",
       "      <td>8555798</td>\n",
       "      <td>23</td>\n",
       "      <td>SPRAYHEAD WITH NOZZLES MADE BY BORING</td>\n",
       "      <td>en</td>\n",
       "      <td>The invention relates to a spray head for prod...</td>\n",
       "      <td>en</td>\n",
       "      <td>4</td>\n",
       "    </tr>\n",
       "    <tr>\n",
       "      <th>4</th>\n",
       "      <td>10</td>\n",
       "      <td>A</td>\n",
       "      <td>2001</td>\n",
       "      <td>7655749</td>\n",
       "      <td>9</td>\n",
       "      <td>Diphosphines</td>\n",
       "      <td>en</td>\n",
       "      <td>New enantiomericlly pure (substituted biphenyl...</td>\n",
       "      <td>en</td>\n",
       "      <td>5</td>\n",
       "    </tr>\n",
       "  </tbody>\n",
       "</table>\n",
       "</div>"
      ],
      "text/plain": [
       "   appln_id appln_kind  appln_filing_year  docdb_family_id  docdb_family_size  \\\n",
       "0         1         A                2000          8554171                  6   \n",
       "1         2         A                1992         27517085                  8   \n",
       "2         7         A                2000         10861834                  7   \n",
       "3         9         A                2000          8555798                 23   \n",
       "4        10         A                2001          7655749                  9   \n",
       "\n",
       "                                         appln_title appln_title_lg  \\\n",
       "0  Method and means for using additional cards in...             en   \n",
       "1  Production of anti-self antibodies from antibo...             en   \n",
       "2              MULTILAYER TELECOMMUNICATIONS NETWORK             en   \n",
       "3              SPRAYHEAD WITH NOZZLES MADE BY BORING             en   \n",
       "4                                       Diphosphines             en   \n",
       "\n",
       "                                      appln_abstract appln_abstract_lg  period  \n",
       "0  A mobile station (MS) that comprises an interf...                en       4  \n",
       "1  Methods are disclosed for the production of an...                en       3  \n",
       "2  A communications system comprising: a first ne...                en       4  \n",
       "3  The invention relates to a spray head for prod...                en       4  \n",
       "4  New enantiomericlly pure (substituted biphenyl...                en       5  "
      ]
     },
     "execution_count": 16,
     "metadata": {},
     "output_type": "execute_result"
    }
   ],
   "source": [
    "# create 'period' column \n",
    "def assign_period(appln_filing_year):\n",
    "    if 1981 <= appln_filing_year <= 1985:\n",
    "        return 1\n",
    "    elif 1986 <= appln_filing_year <= 1990:\n",
    "        return 2 \n",
    "    elif 1991 <= appln_filing_year <= 1995:\n",
    "        return 3 \n",
    "    elif 1996 <= appln_filing_year <= 2000:\n",
    "        return 4\n",
    "    elif 2001 <= appln_filing_year <= 2005:\n",
    "        return 5\n",
    "    elif 2006 <= appln_filing_year <= 2010:\n",
    "        return 6\n",
    "    elif 2011 <= appln_filing_year <= 2015:\n",
    "        return 7\n",
    "    elif 2016 <= appln_filing_year <= 2020:\n",
    "        return 8\n",
    "    else:\n",
    "        return 0 \n",
    "    \n",
    "df['period'] = df['appln_filing_year'].apply(assign_period)\n",
    "df.head()"
   ]
  },
  {
   "cell_type": "markdown",
   "metadata": {},
   "source": [
    "**NUTS 정보 추가**"
   ]
  },
  {
   "cell_type": "code",
   "execution_count": 17,
   "metadata": {},
   "outputs": [
    {
     "data": {
      "text/html": [
       "<div>\n",
       "<style scoped>\n",
       "    .dataframe tbody tr th:only-of-type {\n",
       "        vertical-align: middle;\n",
       "    }\n",
       "\n",
       "    .dataframe tbody tr th {\n",
       "        vertical-align: top;\n",
       "    }\n",
       "\n",
       "    .dataframe thead th {\n",
       "        text-align: right;\n",
       "    }\n",
       "</style>\n",
       "<table border=\"1\" class=\"dataframe\">\n",
       "  <thead>\n",
       "    <tr style=\"text-align: right;\">\n",
       "      <th></th>\n",
       "      <th>appln_id</th>\n",
       "      <th>person_id</th>\n",
       "      <th>psn_name</th>\n",
       "      <th>person_ctry_code</th>\n",
       "      <th>nuts</th>\n",
       "      <th>nuts_level</th>\n",
       "      <th>psn_sector</th>\n",
       "      <th>han_id</th>\n",
       "      <th>han_name</th>\n",
       "      <th>han_harmonized</th>\n",
       "    </tr>\n",
       "  </thead>\n",
       "  <tbody>\n",
       "    <tr>\n",
       "      <th>0</th>\n",
       "      <td>1</td>\n",
       "      <td>1</td>\n",
       "      <td>NOKIA CORPORATION</td>\n",
       "      <td>FI</td>\n",
       "      <td>FI1B1</td>\n",
       "      <td>3</td>\n",
       "      <td>COMPANY</td>\n",
       "      <td>2125445</td>\n",
       "      <td>NOKIA CORP</td>\n",
       "      <td>2</td>\n",
       "    </tr>\n",
       "    <tr>\n",
       "      <th>1</th>\n",
       "      <td>1</td>\n",
       "      <td>2</td>\n",
       "      <td>LIPPONEN, MARKKU</td>\n",
       "      <td>FI</td>\n",
       "      <td>FI197</td>\n",
       "      <td>3</td>\n",
       "      <td>NaN</td>\n",
       "      <td>100000002</td>\n",
       "      <td>Lipponen, Markku</td>\n",
       "      <td>0</td>\n",
       "    </tr>\n",
       "    <tr>\n",
       "      <th>2</th>\n",
       "      <td>1</td>\n",
       "      <td>3</td>\n",
       "      <td>LAITINEN, TIMO</td>\n",
       "      <td>FI</td>\n",
       "      <td>FI197</td>\n",
       "      <td>3</td>\n",
       "      <td>NaN</td>\n",
       "      <td>100000003</td>\n",
       "      <td>Laitinen, Timo</td>\n",
       "      <td>0</td>\n",
       "    </tr>\n",
       "    <tr>\n",
       "      <th>3</th>\n",
       "      <td>1</td>\n",
       "      <td>4</td>\n",
       "      <td>AHO, ARI</td>\n",
       "      <td>FI</td>\n",
       "      <td>FI197</td>\n",
       "      <td>3</td>\n",
       "      <td>NaN</td>\n",
       "      <td>100000004</td>\n",
       "      <td>Aho, Ari</td>\n",
       "      <td>0</td>\n",
       "    </tr>\n",
       "    <tr>\n",
       "      <th>4</th>\n",
       "      <td>1</td>\n",
       "      <td>5</td>\n",
       "      <td>KNUUTILA, JARNO</td>\n",
       "      <td>FI</td>\n",
       "      <td>FI197</td>\n",
       "      <td>3</td>\n",
       "      <td>NaN</td>\n",
       "      <td>100000005</td>\n",
       "      <td>Knuutila, Jarno</td>\n",
       "      <td>0</td>\n",
       "    </tr>\n",
       "    <tr>\n",
       "      <th>...</th>\n",
       "      <td>...</td>\n",
       "      <td>...</td>\n",
       "      <td>...</td>\n",
       "      <td>...</td>\n",
       "      <td>...</td>\n",
       "      <td>...</td>\n",
       "      <td>...</td>\n",
       "      <td>...</td>\n",
       "      <td>...</td>\n",
       "      <td>...</td>\n",
       "    </tr>\n",
       "    <tr>\n",
       "      <th>27949106</th>\n",
       "      <td>606471485</td>\n",
       "      <td>91722704</td>\n",
       "      <td>GIAKOUMIS, IOANNIS DIMITRIOU</td>\n",
       "      <td>GR</td>\n",
       "      <td>EL</td>\n",
       "      <td>0</td>\n",
       "      <td>UNKNOWN</td>\n",
       "      <td>191722704</td>\n",
       "      <td>GIAKOUMIS, IOANNIS DIMITRIOU</td>\n",
       "      <td>0</td>\n",
       "    </tr>\n",
       "    <tr>\n",
       "      <th>27949107</th>\n",
       "      <td>606471485</td>\n",
       "      <td>91802500</td>\n",
       "      <td>PANAGOPOULOU-PAPAIOANNOU, NIKI VASILEIOU</td>\n",
       "      <td>GR</td>\n",
       "      <td>EL</td>\n",
       "      <td>0</td>\n",
       "      <td>UNKNOWN</td>\n",
       "      <td>191802500</td>\n",
       "      <td>PANAGOPOULOU-PAPAIOANNOU, NIKI VASILEIOU</td>\n",
       "      <td>0</td>\n",
       "    </tr>\n",
       "    <tr>\n",
       "      <th>27949108</th>\n",
       "      <td>606471485</td>\n",
       "      <td>92387371</td>\n",
       "      <td>STAMATI, MARIA DIMITRIOU</td>\n",
       "      <td>GR</td>\n",
       "      <td>EL</td>\n",
       "      <td>0</td>\n",
       "      <td>UNKNOWN</td>\n",
       "      <td>192387371</td>\n",
       "      <td>STAMATI, MARIA DIMITRIOU</td>\n",
       "      <td>0</td>\n",
       "    </tr>\n",
       "    <tr>\n",
       "      <th>27949109</th>\n",
       "      <td>606471485</td>\n",
       "      <td>92435692</td>\n",
       "      <td>ARGYRI, SPYRIDOULA ILIA</td>\n",
       "      <td>GR</td>\n",
       "      <td>EL</td>\n",
       "      <td>0</td>\n",
       "      <td>UNKNOWN</td>\n",
       "      <td>192435692</td>\n",
       "      <td>ARGYRI, SPYRIDOULA ILIA</td>\n",
       "      <td>0</td>\n",
       "    </tr>\n",
       "    <tr>\n",
       "      <th>27949110</th>\n",
       "      <td>606471487</td>\n",
       "      <td>92229583</td>\n",
       "      <td>KAPETANIOS, KONSTANTINOS MILTIADI</td>\n",
       "      <td>GR</td>\n",
       "      <td>EL</td>\n",
       "      <td>0</td>\n",
       "      <td>UNKNOWN</td>\n",
       "      <td>192229583</td>\n",
       "      <td>KAPETANIOS, KONSTANTINOS MILTIADI</td>\n",
       "      <td>0</td>\n",
       "    </tr>\n",
       "  </tbody>\n",
       "</table>\n",
       "<p>27949111 rows × 10 columns</p>\n",
       "</div>"
      ],
      "text/plain": [
       "           appln_id  person_id                                  psn_name  \\\n",
       "0                 1          1                         NOKIA CORPORATION   \n",
       "1                 1          2                          LIPPONEN, MARKKU   \n",
       "2                 1          3                            LAITINEN, TIMO   \n",
       "3                 1          4                                  AHO, ARI   \n",
       "4                 1          5                           KNUUTILA, JARNO   \n",
       "...             ...        ...                                       ...   \n",
       "27949106  606471485   91722704              GIAKOUMIS, IOANNIS DIMITRIOU   \n",
       "27949107  606471485   91802500  PANAGOPOULOU-PAPAIOANNOU, NIKI VASILEIOU   \n",
       "27949108  606471485   92387371                  STAMATI, MARIA DIMITRIOU   \n",
       "27949109  606471485   92435692                   ARGYRI, SPYRIDOULA ILIA   \n",
       "27949110  606471487   92229583         KAPETANIOS, KONSTANTINOS MILTIADI   \n",
       "\n",
       "         person_ctry_code   nuts  nuts_level psn_sector     han_id  \\\n",
       "0                      FI  FI1B1           3    COMPANY    2125445   \n",
       "1                      FI  FI197           3        NaN  100000002   \n",
       "2                      FI  FI197           3        NaN  100000003   \n",
       "3                      FI  FI197           3        NaN  100000004   \n",
       "4                      FI  FI197           3        NaN  100000005   \n",
       "...                   ...    ...         ...        ...        ...   \n",
       "27949106               GR     EL           0    UNKNOWN  191722704   \n",
       "27949107               GR     EL           0    UNKNOWN  191802500   \n",
       "27949108               GR     EL           0    UNKNOWN  192387371   \n",
       "27949109               GR     EL           0    UNKNOWN  192435692   \n",
       "27949110               GR     EL           0    UNKNOWN  192229583   \n",
       "\n",
       "                                          han_name  han_harmonized  \n",
       "0                                       NOKIA CORP               2  \n",
       "1                                 Lipponen, Markku               0  \n",
       "2                                   Laitinen, Timo               0  \n",
       "3                                         Aho, Ari               0  \n",
       "4                                  Knuutila, Jarno               0  \n",
       "...                                            ...             ...  \n",
       "27949106              GIAKOUMIS, IOANNIS DIMITRIOU               0  \n",
       "27949107  PANAGOPOULOU-PAPAIOANNOU, NIKI VASILEIOU               0  \n",
       "27949108                  STAMATI, MARIA DIMITRIOU               0  \n",
       "27949109                   ARGYRI, SPYRIDOULA ILIA               0  \n",
       "27949110         KAPETANIOS, KONSTANTINOS MILTIADI               0  \n",
       "\n",
       "[27949111 rows x 10 columns]"
      ]
     },
     "execution_count": 17,
     "metadata": {},
     "output_type": "execute_result"
    }
   ],
   "source": [
    "patent_pers_1 = pd.read_csv('patent_pers_1.csv')\n",
    "patent_pers_2 = pd.read_csv('patent_pers_2.csv')\n",
    "patent_pers_3 = pd.read_csv('patent_pers_3.csv')\n",
    "\n",
    "patent_pers = pd.concat([patent_pers_1, patent_pers_2, patent_pers_3], ignore_index=True)\n",
    "patent_pers"
   ]
  },
  {
   "cell_type": "code",
   "execution_count": 18,
   "metadata": {},
   "outputs": [
    {
     "data": {
      "text/html": [
       "<div>\n",
       "<style scoped>\n",
       "    .dataframe tbody tr th:only-of-type {\n",
       "        vertical-align: middle;\n",
       "    }\n",
       "\n",
       "    .dataframe tbody tr th {\n",
       "        vertical-align: top;\n",
       "    }\n",
       "\n",
       "    .dataframe thead th {\n",
       "        text-align: right;\n",
       "    }\n",
       "</style>\n",
       "<table border=\"1\" class=\"dataframe\">\n",
       "  <thead>\n",
       "    <tr style=\"text-align: right;\">\n",
       "      <th></th>\n",
       "      <th>appln_id</th>\n",
       "      <th>person_id</th>\n",
       "      <th>psn_name</th>\n",
       "      <th>person_ctry_code</th>\n",
       "      <th>nuts</th>\n",
       "      <th>nuts_level</th>\n",
       "      <th>psn_sector</th>\n",
       "      <th>han_id</th>\n",
       "      <th>han_name</th>\n",
       "      <th>han_harmonized</th>\n",
       "    </tr>\n",
       "  </thead>\n",
       "  <tbody>\n",
       "    <tr>\n",
       "      <th>0</th>\n",
       "      <td>1</td>\n",
       "      <td>1</td>\n",
       "      <td>NOKIA CORPORATION</td>\n",
       "      <td>FI</td>\n",
       "      <td>FI1B1</td>\n",
       "      <td>3</td>\n",
       "      <td>COMPANY</td>\n",
       "      <td>2125445</td>\n",
       "      <td>NOKIA CORP</td>\n",
       "      <td>2</td>\n",
       "    </tr>\n",
       "    <tr>\n",
       "      <th>1</th>\n",
       "      <td>1</td>\n",
       "      <td>2</td>\n",
       "      <td>LIPPONEN, MARKKU</td>\n",
       "      <td>FI</td>\n",
       "      <td>FI197</td>\n",
       "      <td>3</td>\n",
       "      <td>NaN</td>\n",
       "      <td>100000002</td>\n",
       "      <td>Lipponen, Markku</td>\n",
       "      <td>0</td>\n",
       "    </tr>\n",
       "    <tr>\n",
       "      <th>2</th>\n",
       "      <td>1</td>\n",
       "      <td>3</td>\n",
       "      <td>LAITINEN, TIMO</td>\n",
       "      <td>FI</td>\n",
       "      <td>FI197</td>\n",
       "      <td>3</td>\n",
       "      <td>NaN</td>\n",
       "      <td>100000003</td>\n",
       "      <td>Laitinen, Timo</td>\n",
       "      <td>0</td>\n",
       "    </tr>\n",
       "    <tr>\n",
       "      <th>3</th>\n",
       "      <td>1</td>\n",
       "      <td>4</td>\n",
       "      <td>AHO, ARI</td>\n",
       "      <td>FI</td>\n",
       "      <td>FI197</td>\n",
       "      <td>3</td>\n",
       "      <td>NaN</td>\n",
       "      <td>100000004</td>\n",
       "      <td>Aho, Ari</td>\n",
       "      <td>0</td>\n",
       "    </tr>\n",
       "    <tr>\n",
       "      <th>4</th>\n",
       "      <td>1</td>\n",
       "      <td>5</td>\n",
       "      <td>KNUUTILA, JARNO</td>\n",
       "      <td>FI</td>\n",
       "      <td>FI197</td>\n",
       "      <td>3</td>\n",
       "      <td>NaN</td>\n",
       "      <td>100000005</td>\n",
       "      <td>Knuutila, Jarno</td>\n",
       "      <td>0</td>\n",
       "    </tr>\n",
       "    <tr>\n",
       "      <th>...</th>\n",
       "      <td>...</td>\n",
       "      <td>...</td>\n",
       "      <td>...</td>\n",
       "      <td>...</td>\n",
       "      <td>...</td>\n",
       "      <td>...</td>\n",
       "      <td>...</td>\n",
       "      <td>...</td>\n",
       "      <td>...</td>\n",
       "      <td>...</td>\n",
       "    </tr>\n",
       "    <tr>\n",
       "      <th>27949022</th>\n",
       "      <td>606406381</td>\n",
       "      <td>79724695</td>\n",
       "      <td>HADAP, SUNIL SHARADCHANDRA</td>\n",
       "      <td>US</td>\n",
       "      <td>NaN</td>\n",
       "      <td>9</td>\n",
       "      <td>NaN</td>\n",
       "      <td>179724695</td>\n",
       "      <td>Hadap, Sunil Sharadchandra</td>\n",
       "      <td>0</td>\n",
       "    </tr>\n",
       "    <tr>\n",
       "      <th>27949023</th>\n",
       "      <td>606406381</td>\n",
       "      <td>7306804</td>\n",
       "      <td>AMAZON TECHNOLOGIES</td>\n",
       "      <td>US</td>\n",
       "      <td>NaN</td>\n",
       "      <td>9</td>\n",
       "      <td>COMPANY</td>\n",
       "      <td>100043</td>\n",
       "      <td>AMAZON TECH INC</td>\n",
       "      <td>2</td>\n",
       "    </tr>\n",
       "    <tr>\n",
       "      <th>27949026</th>\n",
       "      <td>606406383</td>\n",
       "      <td>47257652</td>\n",
       "      <td>GO PRO</td>\n",
       "      <td>US</td>\n",
       "      <td>NaN</td>\n",
       "      <td>9</td>\n",
       "      <td>COMPANY</td>\n",
       "      <td>1374307</td>\n",
       "      <td>GOPRO INC</td>\n",
       "      <td>2</td>\n",
       "    </tr>\n",
       "    <tr>\n",
       "      <th>27949028</th>\n",
       "      <td>606406445</td>\n",
       "      <td>77863828</td>\n",
       "      <td>SCHONER, BERND</td>\n",
       "      <td>US</td>\n",
       "      <td>NaN</td>\n",
       "      <td>9</td>\n",
       "      <td>NaN</td>\n",
       "      <td>177863828</td>\n",
       "      <td>Schoner, Bernd</td>\n",
       "      <td>0</td>\n",
       "    </tr>\n",
       "    <tr>\n",
       "      <th>27949034</th>\n",
       "      <td>606411553</td>\n",
       "      <td>5238080</td>\n",
       "      <td>SIEMENS</td>\n",
       "      <td>DE</td>\n",
       "      <td>DE21J</td>\n",
       "      <td>4</td>\n",
       "      <td>COMPANY</td>\n",
       "      <td>2709504</td>\n",
       "      <td>SIEMENS AG</td>\n",
       "      <td>1</td>\n",
       "    </tr>\n",
       "  </tbody>\n",
       "</table>\n",
       "<p>11442886 rows × 10 columns</p>\n",
       "</div>"
      ],
      "text/plain": [
       "           appln_id  person_id                    psn_name person_ctry_code  \\\n",
       "0                 1          1           NOKIA CORPORATION               FI   \n",
       "1                 1          2            LIPPONEN, MARKKU               FI   \n",
       "2                 1          3              LAITINEN, TIMO               FI   \n",
       "3                 1          4                    AHO, ARI               FI   \n",
       "4                 1          5             KNUUTILA, JARNO               FI   \n",
       "...             ...        ...                         ...              ...   \n",
       "27949022  606406381   79724695  HADAP, SUNIL SHARADCHANDRA               US   \n",
       "27949023  606406381    7306804         AMAZON TECHNOLOGIES               US   \n",
       "27949026  606406383   47257652                      GO PRO               US   \n",
       "27949028  606406445   77863828              SCHONER, BERND               US   \n",
       "27949034  606411553    5238080                     SIEMENS               DE   \n",
       "\n",
       "           nuts  nuts_level psn_sector     han_id                    han_name  \\\n",
       "0         FI1B1           3    COMPANY    2125445                  NOKIA CORP   \n",
       "1         FI197           3        NaN  100000002            Lipponen, Markku   \n",
       "2         FI197           3        NaN  100000003              Laitinen, Timo   \n",
       "3         FI197           3        NaN  100000004                    Aho, Ari   \n",
       "4         FI197           3        NaN  100000005             Knuutila, Jarno   \n",
       "...         ...         ...        ...        ...                         ...   \n",
       "27949022    NaN           9        NaN  179724695  Hadap, Sunil Sharadchandra   \n",
       "27949023    NaN           9    COMPANY     100043             AMAZON TECH INC   \n",
       "27949026    NaN           9    COMPANY    1374307                   GOPRO INC   \n",
       "27949028    NaN           9        NaN  177863828              Schoner, Bernd   \n",
       "27949034  DE21J           4    COMPANY    2709504                  SIEMENS AG   \n",
       "\n",
       "          han_harmonized  \n",
       "0                      2  \n",
       "1                      0  \n",
       "2                      0  \n",
       "3                      0  \n",
       "4                      0  \n",
       "...                  ...  \n",
       "27949022               0  \n",
       "27949023               2  \n",
       "27949026               2  \n",
       "27949028               0  \n",
       "27949034               1  \n",
       "\n",
       "[11442886 rows x 10 columns]"
      ]
     },
     "execution_count": 18,
     "metadata": {},
     "output_type": "execute_result"
    }
   ],
   "source": [
    "# drop rows where nuts_level is 0 \n",
    "patent_pers = patent_pers[patent_pers['nuts_level'] != 0]\n",
    "patent_pers "
   ]
  },
  {
   "cell_type": "code",
   "execution_count": 19,
   "metadata": {},
   "outputs": [
    {
     "data": {
      "text/html": [
       "<div>\n",
       "<style scoped>\n",
       "    .dataframe tbody tr th:only-of-type {\n",
       "        vertical-align: middle;\n",
       "    }\n",
       "\n",
       "    .dataframe tbody tr th {\n",
       "        vertical-align: top;\n",
       "    }\n",
       "\n",
       "    .dataframe thead th {\n",
       "        text-align: right;\n",
       "    }\n",
       "</style>\n",
       "<table border=\"1\" class=\"dataframe\">\n",
       "  <thead>\n",
       "    <tr style=\"text-align: right;\">\n",
       "      <th></th>\n",
       "      <th>appln_id</th>\n",
       "      <th>nuts</th>\n",
       "      <th>nuts_level</th>\n",
       "    </tr>\n",
       "  </thead>\n",
       "  <tbody>\n",
       "    <tr>\n",
       "      <th>0</th>\n",
       "      <td>1</td>\n",
       "      <td>FI1B1</td>\n",
       "      <td>3</td>\n",
       "    </tr>\n",
       "    <tr>\n",
       "      <th>1</th>\n",
       "      <td>1</td>\n",
       "      <td>FI197</td>\n",
       "      <td>3</td>\n",
       "    </tr>\n",
       "    <tr>\n",
       "      <th>5</th>\n",
       "      <td>2</td>\n",
       "      <td>UKI32</td>\n",
       "      <td>3</td>\n",
       "    </tr>\n",
       "    <tr>\n",
       "      <th>6</th>\n",
       "      <td>2</td>\n",
       "      <td>UKH12</td>\n",
       "      <td>3</td>\n",
       "    </tr>\n",
       "    <tr>\n",
       "      <th>9</th>\n",
       "      <td>2</td>\n",
       "      <td>NaN</td>\n",
       "      <td>9</td>\n",
       "    </tr>\n",
       "    <tr>\n",
       "      <th>...</th>\n",
       "      <td>...</td>\n",
       "      <td>...</td>\n",
       "      <td>...</td>\n",
       "    </tr>\n",
       "    <tr>\n",
       "      <th>27949017</th>\n",
       "      <td>606406375</td>\n",
       "      <td>NaN</td>\n",
       "      <td>9</td>\n",
       "    </tr>\n",
       "    <tr>\n",
       "      <th>27949021</th>\n",
       "      <td>606406381</td>\n",
       "      <td>NaN</td>\n",
       "      <td>9</td>\n",
       "    </tr>\n",
       "    <tr>\n",
       "      <th>27949026</th>\n",
       "      <td>606406383</td>\n",
       "      <td>NaN</td>\n",
       "      <td>9</td>\n",
       "    </tr>\n",
       "    <tr>\n",
       "      <th>27949028</th>\n",
       "      <td>606406445</td>\n",
       "      <td>NaN</td>\n",
       "      <td>9</td>\n",
       "    </tr>\n",
       "    <tr>\n",
       "      <th>27949034</th>\n",
       "      <td>606411553</td>\n",
       "      <td>DE21J</td>\n",
       "      <td>4</td>\n",
       "    </tr>\n",
       "  </tbody>\n",
       "</table>\n",
       "<p>5316163 rows × 3 columns</p>\n",
       "</div>"
      ],
      "text/plain": [
       "           appln_id   nuts  nuts_level\n",
       "0                 1  FI1B1           3\n",
       "1                 1  FI197           3\n",
       "5                 2  UKI32           3\n",
       "6                 2  UKH12           3\n",
       "9                 2    NaN           9\n",
       "...             ...    ...         ...\n",
       "27949017  606406375    NaN           9\n",
       "27949021  606406381    NaN           9\n",
       "27949026  606406383    NaN           9\n",
       "27949028  606406445    NaN           9\n",
       "27949034  606411553  DE21J           4\n",
       "\n",
       "[5316163 rows x 3 columns]"
      ]
     },
     "execution_count": 19,
     "metadata": {},
     "output_type": "execute_result"
    }
   ],
   "source": [
    "nuts = patent_pers[['appln_id', 'nuts', 'nuts_level']].drop_duplicates()\n",
    "nuts"
   ]
  },
  {
   "cell_type": "code",
   "execution_count": 20,
   "metadata": {},
   "outputs": [
    {
     "data": {
      "text/html": [
       "<div>\n",
       "<style scoped>\n",
       "    .dataframe tbody tr th:only-of-type {\n",
       "        vertical-align: middle;\n",
       "    }\n",
       "\n",
       "    .dataframe tbody tr th {\n",
       "        vertical-align: top;\n",
       "    }\n",
       "\n",
       "    .dataframe thead th {\n",
       "        text-align: right;\n",
       "    }\n",
       "</style>\n",
       "<table border=\"1\" class=\"dataframe\">\n",
       "  <thead>\n",
       "    <tr style=\"text-align: right;\">\n",
       "      <th></th>\n",
       "      <th>appln_id</th>\n",
       "      <th>nuts</th>\n",
       "      <th>nuts_level</th>\n",
       "    </tr>\n",
       "  </thead>\n",
       "  <tbody>\n",
       "    <tr>\n",
       "      <th>0</th>\n",
       "      <td>1</td>\n",
       "      <td>FI1B1</td>\n",
       "      <td>3</td>\n",
       "    </tr>\n",
       "    <tr>\n",
       "      <th>1</th>\n",
       "      <td>1</td>\n",
       "      <td>FI197</td>\n",
       "      <td>3</td>\n",
       "    </tr>\n",
       "    <tr>\n",
       "      <th>5</th>\n",
       "      <td>2</td>\n",
       "      <td>UKI32</td>\n",
       "      <td>3</td>\n",
       "    </tr>\n",
       "    <tr>\n",
       "      <th>6</th>\n",
       "      <td>2</td>\n",
       "      <td>UKH12</td>\n",
       "      <td>3</td>\n",
       "    </tr>\n",
       "    <tr>\n",
       "      <th>13</th>\n",
       "      <td>7</td>\n",
       "      <td>FI1B1</td>\n",
       "      <td>3</td>\n",
       "    </tr>\n",
       "    <tr>\n",
       "      <th>...</th>\n",
       "      <td>...</td>\n",
       "      <td>...</td>\n",
       "      <td>...</td>\n",
       "    </tr>\n",
       "    <tr>\n",
       "      <th>27942476</th>\n",
       "      <td>604927030</td>\n",
       "      <td>SE232</td>\n",
       "      <td>4</td>\n",
       "    </tr>\n",
       "    <tr>\n",
       "      <th>27943200</th>\n",
       "      <td>605163630</td>\n",
       "      <td>UKJ23</td>\n",
       "      <td>4</td>\n",
       "    </tr>\n",
       "    <tr>\n",
       "      <th>27943526</th>\n",
       "      <td>605222772</td>\n",
       "      <td>DE21J</td>\n",
       "      <td>4</td>\n",
       "    </tr>\n",
       "    <tr>\n",
       "      <th>27948230</th>\n",
       "      <td>606280441</td>\n",
       "      <td>CH032</td>\n",
       "      <td>4</td>\n",
       "    </tr>\n",
       "    <tr>\n",
       "      <th>27949034</th>\n",
       "      <td>606411553</td>\n",
       "      <td>DE21J</td>\n",
       "      <td>4</td>\n",
       "    </tr>\n",
       "  </tbody>\n",
       "</table>\n",
       "<p>2559000 rows × 3 columns</p>\n",
       "</div>"
      ],
      "text/plain": [
       "           appln_id   nuts  nuts_level\n",
       "0                 1  FI1B1           3\n",
       "1                 1  FI197           3\n",
       "5                 2  UKI32           3\n",
       "6                 2  UKH12           3\n",
       "13                7  FI1B1           3\n",
       "...             ...    ...         ...\n",
       "27942476  604927030  SE232           4\n",
       "27943200  605163630  UKJ23           4\n",
       "27943526  605222772  DE21J           4\n",
       "27948230  606280441  CH032           4\n",
       "27949034  606411553  DE21J           4\n",
       "\n",
       "[2559000 rows x 3 columns]"
      ]
     },
     "execution_count": 20,
     "metadata": {},
     "output_type": "execute_result"
    }
   ],
   "source": [
    "# drop NaN \n",
    "nuts = nuts.dropna(subset=['nuts'])\n",
    "nuts"
   ]
  },
  {
   "cell_type": "code",
   "execution_count": 21,
   "metadata": {},
   "outputs": [
    {
     "data": {
      "text/plain": [
       "nuts_level\n",
       "3    2244647\n",
       "4     313123\n",
       "1        916\n",
       "2        314\n",
       "Name: count, dtype: int64"
      ]
     },
     "execution_count": 21,
     "metadata": {},
     "output_type": "execute_result"
    }
   ],
   "source": [
    "# check number of data for each unique value in nuts_level \n",
    "nuts['nuts_level'].value_counts()"
   ]
  },
  {
   "cell_type": "code",
   "execution_count": 22,
   "metadata": {},
   "outputs": [
    {
     "data": {
      "text/html": [
       "<div>\n",
       "<style scoped>\n",
       "    .dataframe tbody tr th:only-of-type {\n",
       "        vertical-align: middle;\n",
       "    }\n",
       "\n",
       "    .dataframe tbody tr th {\n",
       "        vertical-align: top;\n",
       "    }\n",
       "\n",
       "    .dataframe thead th {\n",
       "        text-align: right;\n",
       "    }\n",
       "</style>\n",
       "<table border=\"1\" class=\"dataframe\">\n",
       "  <thead>\n",
       "    <tr style=\"text-align: right;\">\n",
       "      <th></th>\n",
       "      <th>appln_id</th>\n",
       "      <th>nuts</th>\n",
       "      <th>nuts_level</th>\n",
       "    </tr>\n",
       "  </thead>\n",
       "  <tbody>\n",
       "    <tr>\n",
       "      <th>0</th>\n",
       "      <td>1</td>\n",
       "      <td>FI1B1</td>\n",
       "      <td>3</td>\n",
       "    </tr>\n",
       "    <tr>\n",
       "      <th>1</th>\n",
       "      <td>1</td>\n",
       "      <td>FI197</td>\n",
       "      <td>3</td>\n",
       "    </tr>\n",
       "    <tr>\n",
       "      <th>5</th>\n",
       "      <td>2</td>\n",
       "      <td>UKI32</td>\n",
       "      <td>3</td>\n",
       "    </tr>\n",
       "    <tr>\n",
       "      <th>6</th>\n",
       "      <td>2</td>\n",
       "      <td>UKH12</td>\n",
       "      <td>3</td>\n",
       "    </tr>\n",
       "    <tr>\n",
       "      <th>13</th>\n",
       "      <td>7</td>\n",
       "      <td>FI1B1</td>\n",
       "      <td>3</td>\n",
       "    </tr>\n",
       "    <tr>\n",
       "      <th>...</th>\n",
       "      <td>...</td>\n",
       "      <td>...</td>\n",
       "      <td>...</td>\n",
       "    </tr>\n",
       "    <tr>\n",
       "      <th>27942476</th>\n",
       "      <td>604927030</td>\n",
       "      <td>SE232</td>\n",
       "      <td>4</td>\n",
       "    </tr>\n",
       "    <tr>\n",
       "      <th>27943200</th>\n",
       "      <td>605163630</td>\n",
       "      <td>UKJ23</td>\n",
       "      <td>4</td>\n",
       "    </tr>\n",
       "    <tr>\n",
       "      <th>27943526</th>\n",
       "      <td>605222772</td>\n",
       "      <td>DE21J</td>\n",
       "      <td>4</td>\n",
       "    </tr>\n",
       "    <tr>\n",
       "      <th>27948230</th>\n",
       "      <td>606280441</td>\n",
       "      <td>CH032</td>\n",
       "      <td>4</td>\n",
       "    </tr>\n",
       "    <tr>\n",
       "      <th>27949034</th>\n",
       "      <td>606411553</td>\n",
       "      <td>DE21J</td>\n",
       "      <td>4</td>\n",
       "    </tr>\n",
       "  </tbody>\n",
       "</table>\n",
       "<p>2557770 rows × 3 columns</p>\n",
       "</div>"
      ],
      "text/plain": [
       "           appln_id   nuts  nuts_level\n",
       "0                 1  FI1B1           3\n",
       "1                 1  FI197           3\n",
       "5                 2  UKI32           3\n",
       "6                 2  UKH12           3\n",
       "13                7  FI1B1           3\n",
       "...             ...    ...         ...\n",
       "27942476  604927030  SE232           4\n",
       "27943200  605163630  UKJ23           4\n",
       "27943526  605222772  DE21J           4\n",
       "27948230  606280441  CH032           4\n",
       "27949034  606411553  DE21J           4\n",
       "\n",
       "[2557770 rows x 3 columns]"
      ]
     },
     "execution_count": 22,
     "metadata": {},
     "output_type": "execute_result"
    }
   ],
   "source": [
    "# remove rows where nuts_level is 1 or 2 \n",
    "nuts = nuts[~nuts['nuts_level'].isin([1, 2])]\n",
    "nuts"
   ]
  },
  {
   "cell_type": "code",
   "execution_count": 23,
   "metadata": {},
   "outputs": [
    {
     "data": {
      "text/html": [
       "<div>\n",
       "<style scoped>\n",
       "    .dataframe tbody tr th:only-of-type {\n",
       "        vertical-align: middle;\n",
       "    }\n",
       "\n",
       "    .dataframe tbody tr th {\n",
       "        vertical-align: top;\n",
       "    }\n",
       "\n",
       "    .dataframe thead th {\n",
       "        text-align: right;\n",
       "    }\n",
       "</style>\n",
       "<table border=\"1\" class=\"dataframe\">\n",
       "  <thead>\n",
       "    <tr style=\"text-align: right;\">\n",
       "      <th></th>\n",
       "      <th>appln_id</th>\n",
       "      <th>nuts</th>\n",
       "    </tr>\n",
       "  </thead>\n",
       "  <tbody>\n",
       "    <tr>\n",
       "      <th>0</th>\n",
       "      <td>1</td>\n",
       "      <td>FI1B1</td>\n",
       "    </tr>\n",
       "    <tr>\n",
       "      <th>1</th>\n",
       "      <td>1</td>\n",
       "      <td>FI197</td>\n",
       "    </tr>\n",
       "    <tr>\n",
       "      <th>5</th>\n",
       "      <td>2</td>\n",
       "      <td>UKI32</td>\n",
       "    </tr>\n",
       "    <tr>\n",
       "      <th>6</th>\n",
       "      <td>2</td>\n",
       "      <td>UKH12</td>\n",
       "    </tr>\n",
       "    <tr>\n",
       "      <th>13</th>\n",
       "      <td>7</td>\n",
       "      <td>FI1B1</td>\n",
       "    </tr>\n",
       "  </tbody>\n",
       "</table>\n",
       "</div>"
      ],
      "text/plain": [
       "    appln_id   nuts\n",
       "0          1  FI1B1\n",
       "1          1  FI197\n",
       "5          2  UKI32\n",
       "6          2  UKH12\n",
       "13         7  FI1B1"
      ]
     },
     "execution_count": 23,
     "metadata": {},
     "output_type": "execute_result"
    }
   ],
   "source": [
    "# drop nuts_level \n",
    "nuts = nuts.drop(columns=['nuts_level'])\n",
    "nuts.head()"
   ]
  },
  {
   "cell_type": "code",
   "execution_count": 24,
   "metadata": {},
   "outputs": [
    {
     "data": {
      "text/html": [
       "<div>\n",
       "<style scoped>\n",
       "    .dataframe tbody tr th:only-of-type {\n",
       "        vertical-align: middle;\n",
       "    }\n",
       "\n",
       "    .dataframe tbody tr th {\n",
       "        vertical-align: top;\n",
       "    }\n",
       "\n",
       "    .dataframe thead th {\n",
       "        text-align: right;\n",
       "    }\n",
       "</style>\n",
       "<table border=\"1\" class=\"dataframe\">\n",
       "  <thead>\n",
       "    <tr style=\"text-align: right;\">\n",
       "      <th></th>\n",
       "      <th>appln_id</th>\n",
       "      <th>nuts</th>\n",
       "    </tr>\n",
       "  </thead>\n",
       "  <tbody>\n",
       "    <tr>\n",
       "      <th>0</th>\n",
       "      <td>1</td>\n",
       "      <td>FI1B1</td>\n",
       "    </tr>\n",
       "    <tr>\n",
       "      <th>1</th>\n",
       "      <td>1</td>\n",
       "      <td>FI197</td>\n",
       "    </tr>\n",
       "    <tr>\n",
       "      <th>5</th>\n",
       "      <td>2</td>\n",
       "      <td>UKI32</td>\n",
       "    </tr>\n",
       "    <tr>\n",
       "      <th>6</th>\n",
       "      <td>2</td>\n",
       "      <td>UKH12</td>\n",
       "    </tr>\n",
       "    <tr>\n",
       "      <th>13</th>\n",
       "      <td>7</td>\n",
       "      <td>FI1B1</td>\n",
       "    </tr>\n",
       "  </tbody>\n",
       "</table>\n",
       "</div>"
      ],
      "text/plain": [
       "    appln_id   nuts\n",
       "0          1  FI1B1\n",
       "1          1  FI197\n",
       "5          2  UKI32\n",
       "6          2  UKH12\n",
       "13         7  FI1B1"
      ]
     },
     "execution_count": 24,
     "metadata": {},
     "output_type": "execute_result"
    }
   ],
   "source": [
    "# drop rows where nuts = AN000 \n",
    "nuts = nuts[nuts['nuts'] != 'AN000']\n",
    "nuts.head()"
   ]
  },
  {
   "cell_type": "code",
   "execution_count": 25,
   "metadata": {},
   "outputs": [
    {
     "data": {
      "text/html": [
       "<div>\n",
       "<style scoped>\n",
       "    .dataframe tbody tr th:only-of-type {\n",
       "        vertical-align: middle;\n",
       "    }\n",
       "\n",
       "    .dataframe tbody tr th {\n",
       "        vertical-align: top;\n",
       "    }\n",
       "\n",
       "    .dataframe thead th {\n",
       "        text-align: right;\n",
       "    }\n",
       "</style>\n",
       "<table border=\"1\" class=\"dataframe\">\n",
       "  <thead>\n",
       "    <tr style=\"text-align: right;\">\n",
       "      <th></th>\n",
       "      <th>appln_id</th>\n",
       "      <th>nuts</th>\n",
       "    </tr>\n",
       "  </thead>\n",
       "  <tbody>\n",
       "    <tr>\n",
       "      <th>0</th>\n",
       "      <td>1</td>\n",
       "      <td>FI1B</td>\n",
       "    </tr>\n",
       "    <tr>\n",
       "      <th>1</th>\n",
       "      <td>1</td>\n",
       "      <td>FI19</td>\n",
       "    </tr>\n",
       "    <tr>\n",
       "      <th>5</th>\n",
       "      <td>2</td>\n",
       "      <td>UKI3</td>\n",
       "    </tr>\n",
       "    <tr>\n",
       "      <th>6</th>\n",
       "      <td>2</td>\n",
       "      <td>UKH1</td>\n",
       "    </tr>\n",
       "    <tr>\n",
       "      <th>13</th>\n",
       "      <td>7</td>\n",
       "      <td>FI1B</td>\n",
       "    </tr>\n",
       "  </tbody>\n",
       "</table>\n",
       "</div>"
      ],
      "text/plain": [
       "    appln_id  nuts\n",
       "0          1  FI1B\n",
       "1          1  FI19\n",
       "5          2  UKI3\n",
       "6          2  UKH1\n",
       "13         7  FI1B"
      ]
     },
     "execution_count": 25,
     "metadata": {},
     "output_type": "execute_result"
    }
   ],
   "source": [
    "# slice nuts to 4 digits \n",
    "nuts['nuts'] = nuts['nuts'].str.slice(0, 4)\n",
    "nuts.head()"
   ]
  },
  {
   "cell_type": "markdown",
   "metadata": {},
   "source": [
    "# **특정 기준 이상 특허 보유한 지역, 기간 선정**"
   ]
  },
  {
   "cell_type": "code",
   "execution_count": 26,
   "metadata": {},
   "outputs": [
    {
     "data": {
      "text/html": [
       "<div>\n",
       "<style scoped>\n",
       "    .dataframe tbody tr th:only-of-type {\n",
       "        vertical-align: middle;\n",
       "    }\n",
       "\n",
       "    .dataframe tbody tr th {\n",
       "        vertical-align: top;\n",
       "    }\n",
       "\n",
       "    .dataframe thead th {\n",
       "        text-align: right;\n",
       "    }\n",
       "</style>\n",
       "<table border=\"1\" class=\"dataframe\">\n",
       "  <thead>\n",
       "    <tr style=\"text-align: right;\">\n",
       "      <th></th>\n",
       "      <th>appln_id</th>\n",
       "      <th>appln_kind</th>\n",
       "      <th>appln_filing_year</th>\n",
       "      <th>docdb_family_id</th>\n",
       "      <th>docdb_family_size</th>\n",
       "      <th>appln_title</th>\n",
       "      <th>appln_title_lg</th>\n",
       "      <th>appln_abstract</th>\n",
       "      <th>appln_abstract_lg</th>\n",
       "      <th>period</th>\n",
       "      <th>nuts</th>\n",
       "    </tr>\n",
       "  </thead>\n",
       "  <tbody>\n",
       "    <tr>\n",
       "      <th>0</th>\n",
       "      <td>1</td>\n",
       "      <td>A</td>\n",
       "      <td>2000</td>\n",
       "      <td>8554171</td>\n",
       "      <td>6</td>\n",
       "      <td>Method and means for using additional cards in...</td>\n",
       "      <td>en</td>\n",
       "      <td>A mobile station (MS) that comprises an interf...</td>\n",
       "      <td>en</td>\n",
       "      <td>4</td>\n",
       "      <td>FI1B</td>\n",
       "    </tr>\n",
       "    <tr>\n",
       "      <th>1</th>\n",
       "      <td>1</td>\n",
       "      <td>A</td>\n",
       "      <td>2000</td>\n",
       "      <td>8554171</td>\n",
       "      <td>6</td>\n",
       "      <td>Method and means for using additional cards in...</td>\n",
       "      <td>en</td>\n",
       "      <td>A mobile station (MS) that comprises an interf...</td>\n",
       "      <td>en</td>\n",
       "      <td>4</td>\n",
       "      <td>FI19</td>\n",
       "    </tr>\n",
       "    <tr>\n",
       "      <th>2</th>\n",
       "      <td>2</td>\n",
       "      <td>A</td>\n",
       "      <td>1992</td>\n",
       "      <td>27517085</td>\n",
       "      <td>8</td>\n",
       "      <td>Production of anti-self antibodies from antibo...</td>\n",
       "      <td>en</td>\n",
       "      <td>Methods are disclosed for the production of an...</td>\n",
       "      <td>en</td>\n",
       "      <td>3</td>\n",
       "      <td>UKI3</td>\n",
       "    </tr>\n",
       "    <tr>\n",
       "      <th>3</th>\n",
       "      <td>2</td>\n",
       "      <td>A</td>\n",
       "      <td>1992</td>\n",
       "      <td>27517085</td>\n",
       "      <td>8</td>\n",
       "      <td>Production of anti-self antibodies from antibo...</td>\n",
       "      <td>en</td>\n",
       "      <td>Methods are disclosed for the production of an...</td>\n",
       "      <td>en</td>\n",
       "      <td>3</td>\n",
       "      <td>UKH1</td>\n",
       "    </tr>\n",
       "    <tr>\n",
       "      <th>4</th>\n",
       "      <td>7</td>\n",
       "      <td>A</td>\n",
       "      <td>2000</td>\n",
       "      <td>10861834</td>\n",
       "      <td>7</td>\n",
       "      <td>MULTILAYER TELECOMMUNICATIONS NETWORK</td>\n",
       "      <td>en</td>\n",
       "      <td>A communications system comprising: a first ne...</td>\n",
       "      <td>en</td>\n",
       "      <td>4</td>\n",
       "      <td>FI1B</td>\n",
       "    </tr>\n",
       "  </tbody>\n",
       "</table>\n",
       "</div>"
      ],
      "text/plain": [
       "   appln_id appln_kind  appln_filing_year  docdb_family_id  docdb_family_size  \\\n",
       "0         1         A                2000          8554171                  6   \n",
       "1         1         A                2000          8554171                  6   \n",
       "2         2         A                1992         27517085                  8   \n",
       "3         2         A                1992         27517085                  8   \n",
       "4         7         A                2000         10861834                  7   \n",
       "\n",
       "                                         appln_title appln_title_lg  \\\n",
       "0  Method and means for using additional cards in...             en   \n",
       "1  Method and means for using additional cards in...             en   \n",
       "2  Production of anti-self antibodies from antibo...             en   \n",
       "3  Production of anti-self antibodies from antibo...             en   \n",
       "4              MULTILAYER TELECOMMUNICATIONS NETWORK             en   \n",
       "\n",
       "                                      appln_abstract appln_abstract_lg  \\\n",
       "0  A mobile station (MS) that comprises an interf...                en   \n",
       "1  A mobile station (MS) that comprises an interf...                en   \n",
       "2  Methods are disclosed for the production of an...                en   \n",
       "3  Methods are disclosed for the production of an...                en   \n",
       "4  A communications system comprising: a first ne...                en   \n",
       "\n",
       "   period  nuts  \n",
       "0       4  FI1B  \n",
       "1       4  FI19  \n",
       "2       3  UKI3  \n",
       "3       3  UKH1  \n",
       "4       4  FI1B  "
      ]
     },
     "execution_count": 26,
     "metadata": {},
     "output_type": "execute_result"
    }
   ],
   "source": [
    "df = pd.merge(df, nuts, on = 'appln_id', how = 'left')\n",
    "df.head()"
   ]
  },
  {
   "cell_type": "code",
   "execution_count": 27,
   "metadata": {},
   "outputs": [
    {
     "data": {
      "text/html": [
       "<div>\n",
       "<style scoped>\n",
       "    .dataframe tbody tr th:only-of-type {\n",
       "        vertical-align: middle;\n",
       "    }\n",
       "\n",
       "    .dataframe tbody tr th {\n",
       "        vertical-align: top;\n",
       "    }\n",
       "\n",
       "    .dataframe thead th {\n",
       "        text-align: right;\n",
       "    }\n",
       "</style>\n",
       "<table border=\"1\" class=\"dataframe\">\n",
       "  <thead>\n",
       "    <tr style=\"text-align: right;\">\n",
       "      <th></th>\n",
       "      <th>nuts</th>\n",
       "      <th>period</th>\n",
       "      <th>appln_id</th>\n",
       "    </tr>\n",
       "  </thead>\n",
       "  <tbody>\n",
       "    <tr>\n",
       "      <th>0</th>\n",
       "      <td>AT11</td>\n",
       "      <td>0</td>\n",
       "      <td>3</td>\n",
       "    </tr>\n",
       "    <tr>\n",
       "      <th>1</th>\n",
       "      <td>AT11</td>\n",
       "      <td>1</td>\n",
       "      <td>11</td>\n",
       "    </tr>\n",
       "    <tr>\n",
       "      <th>2</th>\n",
       "      <td>AT11</td>\n",
       "      <td>2</td>\n",
       "      <td>14</td>\n",
       "    </tr>\n",
       "    <tr>\n",
       "      <th>3</th>\n",
       "      <td>AT11</td>\n",
       "      <td>3</td>\n",
       "      <td>26</td>\n",
       "    </tr>\n",
       "    <tr>\n",
       "      <th>4</th>\n",
       "      <td>AT11</td>\n",
       "      <td>4</td>\n",
       "      <td>66</td>\n",
       "    </tr>\n",
       "  </tbody>\n",
       "</table>\n",
       "</div>"
      ],
      "text/plain": [
       "   nuts  period  appln_id\n",
       "0  AT11       0         3\n",
       "1  AT11       1        11\n",
       "2  AT11       2        14\n",
       "3  AT11       3        26\n",
       "4  AT11       4        66"
      ]
     },
     "execution_count": 27,
     "metadata": {},
     "output_type": "execute_result"
    }
   ],
   "source": [
    "# group by nuts and period and count the number of unique appln_id \n",
    "df_grouped = df.groupby(['nuts', 'period'])['appln_id'].nunique().reset_index()\n",
    "df_grouped.head()"
   ]
  },
  {
   "cell_type": "code",
   "execution_count": 28,
   "metadata": {},
   "outputs": [
    {
     "data": {
      "text/html": [
       "<div>\n",
       "<style scoped>\n",
       "    .dataframe tbody tr th:only-of-type {\n",
       "        vertical-align: middle;\n",
       "    }\n",
       "\n",
       "    .dataframe tbody tr th {\n",
       "        vertical-align: top;\n",
       "    }\n",
       "\n",
       "    .dataframe thead th {\n",
       "        text-align: right;\n",
       "    }\n",
       "</style>\n",
       "<table border=\"1\" class=\"dataframe\">\n",
       "  <thead>\n",
       "    <tr style=\"text-align: right;\">\n",
       "      <th></th>\n",
       "      <th>period</th>\n",
       "      <th>appln_id</th>\n",
       "    </tr>\n",
       "  </thead>\n",
       "  <tbody>\n",
       "    <tr>\n",
       "      <th>count</th>\n",
       "      <td>2631.000000</td>\n",
       "      <td>2631.000000</td>\n",
       "    </tr>\n",
       "    <tr>\n",
       "      <th>mean</th>\n",
       "      <td>4.219688</td>\n",
       "      <td>660.625998</td>\n",
       "    </tr>\n",
       "    <tr>\n",
       "      <th>std</th>\n",
       "      <td>2.567049</td>\n",
       "      <td>1605.544340</td>\n",
       "    </tr>\n",
       "    <tr>\n",
       "      <th>min</th>\n",
       "      <td>0.000000</td>\n",
       "      <td>1.000000</td>\n",
       "    </tr>\n",
       "    <tr>\n",
       "      <th>25%</th>\n",
       "      <td>2.000000</td>\n",
       "      <td>20.000000</td>\n",
       "    </tr>\n",
       "    <tr>\n",
       "      <th>50%</th>\n",
       "      <td>4.000000</td>\n",
       "      <td>142.000000</td>\n",
       "    </tr>\n",
       "    <tr>\n",
       "      <th>75%</th>\n",
       "      <td>6.000000</td>\n",
       "      <td>595.500000</td>\n",
       "    </tr>\n",
       "    <tr>\n",
       "      <th>max</th>\n",
       "      <td>8.000000</td>\n",
       "      <td>21250.000000</td>\n",
       "    </tr>\n",
       "  </tbody>\n",
       "</table>\n",
       "</div>"
      ],
      "text/plain": [
       "            period      appln_id\n",
       "count  2631.000000   2631.000000\n",
       "mean      4.219688    660.625998\n",
       "std       2.567049   1605.544340\n",
       "min       0.000000      1.000000\n",
       "25%       2.000000     20.000000\n",
       "50%       4.000000    142.000000\n",
       "75%       6.000000    595.500000\n",
       "max       8.000000  21250.000000"
      ]
     },
     "execution_count": 28,
     "metadata": {},
     "output_type": "execute_result"
    }
   ],
   "source": [
    "df_grouped.describe()"
   ]
  },
  {
   "cell_type": "code",
   "execution_count": 29,
   "metadata": {},
   "outputs": [
    {
     "data": {
      "text/html": [
       "<div>\n",
       "<style scoped>\n",
       "    .dataframe tbody tr th:only-of-type {\n",
       "        vertical-align: middle;\n",
       "    }\n",
       "\n",
       "    .dataframe tbody tr th {\n",
       "        vertical-align: top;\n",
       "    }\n",
       "\n",
       "    .dataframe thead th {\n",
       "        text-align: right;\n",
       "    }\n",
       "</style>\n",
       "<table border=\"1\" class=\"dataframe\">\n",
       "  <thead>\n",
       "    <tr style=\"text-align: right;\">\n",
       "      <th></th>\n",
       "      <th>nuts</th>\n",
       "      <th>period</th>\n",
       "      <th>appln_id</th>\n",
       "    </tr>\n",
       "  </thead>\n",
       "  <tbody>\n",
       "    <tr>\n",
       "      <th>5</th>\n",
       "      <td>AT11</td>\n",
       "      <td>5</td>\n",
       "      <td>116</td>\n",
       "    </tr>\n",
       "    <tr>\n",
       "      <th>6</th>\n",
       "      <td>AT11</td>\n",
       "      <td>6</td>\n",
       "      <td>167</td>\n",
       "    </tr>\n",
       "    <tr>\n",
       "      <th>7</th>\n",
       "      <td>AT11</td>\n",
       "      <td>7</td>\n",
       "      <td>176</td>\n",
       "    </tr>\n",
       "    <tr>\n",
       "      <th>10</th>\n",
       "      <td>AT12</td>\n",
       "      <td>1</td>\n",
       "      <td>129</td>\n",
       "    </tr>\n",
       "    <tr>\n",
       "      <th>11</th>\n",
       "      <td>AT12</td>\n",
       "      <td>2</td>\n",
       "      <td>300</td>\n",
       "    </tr>\n",
       "    <tr>\n",
       "      <th>...</th>\n",
       "      <td>...</td>\n",
       "      <td>...</td>\n",
       "      <td>...</td>\n",
       "    </tr>\n",
       "    <tr>\n",
       "      <th>2626</th>\n",
       "      <td>UKN0</td>\n",
       "      <td>4</td>\n",
       "      <td>118</td>\n",
       "    </tr>\n",
       "    <tr>\n",
       "      <th>2627</th>\n",
       "      <td>UKN0</td>\n",
       "      <td>5</td>\n",
       "      <td>155</td>\n",
       "    </tr>\n",
       "    <tr>\n",
       "      <th>2628</th>\n",
       "      <td>UKN0</td>\n",
       "      <td>6</td>\n",
       "      <td>236</td>\n",
       "    </tr>\n",
       "    <tr>\n",
       "      <th>2629</th>\n",
       "      <td>UKN0</td>\n",
       "      <td>7</td>\n",
       "      <td>384</td>\n",
       "    </tr>\n",
       "    <tr>\n",
       "      <th>2630</th>\n",
       "      <td>UKN0</td>\n",
       "      <td>8</td>\n",
       "      <td>250</td>\n",
       "    </tr>\n",
       "  </tbody>\n",
       "</table>\n",
       "<p>1442 rows × 3 columns</p>\n",
       "</div>"
      ],
      "text/plain": [
       "      nuts  period  appln_id\n",
       "5     AT11       5       116\n",
       "6     AT11       6       167\n",
       "7     AT11       7       176\n",
       "10    AT12       1       129\n",
       "11    AT12       2       300\n",
       "...    ...     ...       ...\n",
       "2626  UKN0       4       118\n",
       "2627  UKN0       5       155\n",
       "2628  UKN0       6       236\n",
       "2629  UKN0       7       384\n",
       "2630  UKN0       8       250\n",
       "\n",
       "[1442 rows x 3 columns]"
      ]
     },
     "execution_count": 29,
     "metadata": {},
     "output_type": "execute_result"
    }
   ],
   "source": [
    "# drop rows where pubid is less than 50 \n",
    "df_grouped = df_grouped[df_grouped['appln_id'] >= 100]\n",
    "df_grouped"
   ]
  },
  {
   "cell_type": "code",
   "execution_count": 30,
   "metadata": {},
   "outputs": [
    {
     "data": {
      "text/plain": [
       "223"
      ]
     },
     "execution_count": 30,
     "metadata": {},
     "output_type": "execute_result"
    }
   ],
   "source": [
    "# check number of unique values in nuts \n",
    "df_grouped['nuts'].nunique()"
   ]
  },
  {
   "cell_type": "code",
   "execution_count": 31,
   "metadata": {},
   "outputs": [],
   "source": [
    "df_grouped.to_csv('patent_above_100.csv', index=False)"
   ]
  },
  {
   "cell_type": "code",
   "execution_count": 32,
   "metadata": {},
   "outputs": [],
   "source": [
    "import pandas as pd \n",
    "patent = pd.read_csv('patent_above_100.csv')\n",
    "pub = pd.read_csv('pub_above_100.csv')"
   ]
  },
  {
   "cell_type": "code",
   "execution_count": 33,
   "metadata": {},
   "outputs": [
    {
     "data": {
      "text/html": [
       "<div>\n",
       "<style scoped>\n",
       "    .dataframe tbody tr th:only-of-type {\n",
       "        vertical-align: middle;\n",
       "    }\n",
       "\n",
       "    .dataframe tbody tr th {\n",
       "        vertical-align: top;\n",
       "    }\n",
       "\n",
       "    .dataframe thead th {\n",
       "        text-align: right;\n",
       "    }\n",
       "</style>\n",
       "<table border=\"1\" class=\"dataframe\">\n",
       "  <thead>\n",
       "    <tr style=\"text-align: right;\">\n",
       "      <th></th>\n",
       "      <th>nuts</th>\n",
       "      <th>period</th>\n",
       "      <th>appln_id</th>\n",
       "      <th>eu_nuts_id</th>\n",
       "    </tr>\n",
       "  </thead>\n",
       "  <tbody>\n",
       "    <tr>\n",
       "      <th>0</th>\n",
       "      <td>AT12</td>\n",
       "      <td>4</td>\n",
       "      <td>774</td>\n",
       "      <td>AT12</td>\n",
       "    </tr>\n",
       "    <tr>\n",
       "      <th>1</th>\n",
       "      <td>AT12</td>\n",
       "      <td>5</td>\n",
       "      <td>994</td>\n",
       "      <td>AT12</td>\n",
       "    </tr>\n",
       "    <tr>\n",
       "      <th>2</th>\n",
       "      <td>AT12</td>\n",
       "      <td>6</td>\n",
       "      <td>1283</td>\n",
       "      <td>AT12</td>\n",
       "    </tr>\n",
       "    <tr>\n",
       "      <th>3</th>\n",
       "      <td>AT13</td>\n",
       "      <td>4</td>\n",
       "      <td>1134</td>\n",
       "      <td>AT13</td>\n",
       "    </tr>\n",
       "    <tr>\n",
       "      <th>4</th>\n",
       "      <td>AT13</td>\n",
       "      <td>5</td>\n",
       "      <td>1662</td>\n",
       "      <td>AT13</td>\n",
       "    </tr>\n",
       "  </tbody>\n",
       "</table>\n",
       "</div>"
      ],
      "text/plain": [
       "   nuts  period  appln_id eu_nuts_id\n",
       "0  AT12       4       774       AT12\n",
       "1  AT12       5       994       AT12\n",
       "2  AT12       6      1283       AT12\n",
       "3  AT13       4      1134       AT13\n",
       "4  AT13       5      1662       AT13"
      ]
     },
     "execution_count": 33,
     "metadata": {},
     "output_type": "execute_result"
    }
   ],
   "source": [
    "df_grouped = pd.merge(df_grouped, pub, left_on=['nuts', 'period'], right_on=['eu_nuts_id', 'period'], how = 'inner')\n",
    "\n",
    "# drop pubid columns \n",
    "df_grouped = df_grouped.drop(columns=['pubid'])\n",
    "df_grouped.head()"
   ]
  },
  {
   "cell_type": "code",
   "execution_count": 34,
   "metadata": {},
   "outputs": [
    {
     "data": {
      "text/html": [
       "<div>\n",
       "<style scoped>\n",
       "    .dataframe tbody tr th:only-of-type {\n",
       "        vertical-align: middle;\n",
       "    }\n",
       "\n",
       "    .dataframe tbody tr th {\n",
       "        vertical-align: top;\n",
       "    }\n",
       "\n",
       "    .dataframe thead th {\n",
       "        text-align: right;\n",
       "    }\n",
       "</style>\n",
       "<table border=\"1\" class=\"dataframe\">\n",
       "  <thead>\n",
       "    <tr style=\"text-align: right;\">\n",
       "      <th></th>\n",
       "      <th>appln_id</th>\n",
       "      <th>appln_kind</th>\n",
       "      <th>appln_filing_year</th>\n",
       "      <th>docdb_family_id</th>\n",
       "      <th>docdb_family_size</th>\n",
       "      <th>appln_title</th>\n",
       "      <th>appln_title_lg</th>\n",
       "      <th>appln_abstract</th>\n",
       "      <th>appln_abstract_lg</th>\n",
       "      <th>period</th>\n",
       "      <th>nuts</th>\n",
       "    </tr>\n",
       "  </thead>\n",
       "  <tbody>\n",
       "    <tr>\n",
       "      <th>0</th>\n",
       "      <td>1</td>\n",
       "      <td>A</td>\n",
       "      <td>2000</td>\n",
       "      <td>8554171</td>\n",
       "      <td>6</td>\n",
       "      <td>Method and means for using additional cards in...</td>\n",
       "      <td>en</td>\n",
       "      <td>A mobile station (MS) that comprises an interf...</td>\n",
       "      <td>en</td>\n",
       "      <td>4</td>\n",
       "      <td>FI1B</td>\n",
       "    </tr>\n",
       "    <tr>\n",
       "      <th>1</th>\n",
       "      <td>7</td>\n",
       "      <td>A</td>\n",
       "      <td>2000</td>\n",
       "      <td>10861834</td>\n",
       "      <td>7</td>\n",
       "      <td>MULTILAYER TELECOMMUNICATIONS NETWORK</td>\n",
       "      <td>en</td>\n",
       "      <td>A communications system comprising: a first ne...</td>\n",
       "      <td>en</td>\n",
       "      <td>4</td>\n",
       "      <td>FI1B</td>\n",
       "    </tr>\n",
       "    <tr>\n",
       "      <th>2</th>\n",
       "      <td>9</td>\n",
       "      <td>A</td>\n",
       "      <td>2000</td>\n",
       "      <td>8555798</td>\n",
       "      <td>23</td>\n",
       "      <td>SPRAYHEAD WITH NOZZLES MADE BY BORING</td>\n",
       "      <td>en</td>\n",
       "      <td>The invention relates to a spray head for prod...</td>\n",
       "      <td>en</td>\n",
       "      <td>4</td>\n",
       "      <td>FI1B</td>\n",
       "    </tr>\n",
       "    <tr>\n",
       "      <th>3</th>\n",
       "      <td>775</td>\n",
       "      <td>A</td>\n",
       "      <td>1999</td>\n",
       "      <td>8552589</td>\n",
       "      <td>7</td>\n",
       "      <td>COMPRESSION OF NODES IN A TRIE STRUCTURE</td>\n",
       "      <td>en</td>\n",
       "      <td>The invention relates to a method for implemen...</td>\n",
       "      <td>en</td>\n",
       "      <td>4</td>\n",
       "      <td>FI1B</td>\n",
       "    </tr>\n",
       "    <tr>\n",
       "      <th>4</th>\n",
       "      <td>1187</td>\n",
       "      <td>A</td>\n",
       "      <td>2000</td>\n",
       "      <td>8555622</td>\n",
       "      <td>4</td>\n",
       "      <td>Charging for telecommunications services</td>\n",
       "      <td>en</td>\n",
       "      <td>A method for prepayment of a service, comprisi...</td>\n",
       "      <td>en</td>\n",
       "      <td>4</td>\n",
       "      <td>FI1B</td>\n",
       "    </tr>\n",
       "  </tbody>\n",
       "</table>\n",
       "</div>"
      ],
      "text/plain": [
       "   appln_id appln_kind  appln_filing_year  docdb_family_id  docdb_family_size  \\\n",
       "0         1         A                2000          8554171                  6   \n",
       "1         7         A                2000         10861834                  7   \n",
       "2         9         A                2000          8555798                 23   \n",
       "3       775         A                1999          8552589                  7   \n",
       "4      1187         A                2000          8555622                  4   \n",
       "\n",
       "                                         appln_title appln_title_lg  \\\n",
       "0  Method and means for using additional cards in...             en   \n",
       "1              MULTILAYER TELECOMMUNICATIONS NETWORK             en   \n",
       "2              SPRAYHEAD WITH NOZZLES MADE BY BORING             en   \n",
       "3           COMPRESSION OF NODES IN A TRIE STRUCTURE             en   \n",
       "4           Charging for telecommunications services             en   \n",
       "\n",
       "                                      appln_abstract appln_abstract_lg  \\\n",
       "0  A mobile station (MS) that comprises an interf...                en   \n",
       "1  A communications system comprising: a first ne...                en   \n",
       "2  The invention relates to a spray head for prod...                en   \n",
       "3  The invention relates to a method for implemen...                en   \n",
       "4  A method for prepayment of a service, comprisi...                en   \n",
       "\n",
       "   period  nuts  \n",
       "0       4  FI1B  \n",
       "1       4  FI1B  \n",
       "2       4  FI1B  \n",
       "3       4  FI1B  \n",
       "4       4  FI1B  "
      ]
     },
     "execution_count": 34,
     "metadata": {},
     "output_type": "execute_result"
    }
   ],
   "source": [
    "# drop rows in df where each pair of nuts and period is not in df_grouped \n",
    "df = df.merge(df_grouped[['nuts', 'period']], on=['nuts', 'period'], how='inner')\n",
    "df.head()"
   ]
  },
  {
   "cell_type": "code",
   "execution_count": 35,
   "metadata": {},
   "outputs": [],
   "source": [
    "# customize stop words list\n",
    "custom_stop_words = [\"determining\", \"method\", \"includes\", \"based\", \"second\", \"using\", 'showed', 'problem', \"study\", \"non\"\n",
    "                     \"12\", \"14\", \"15\", \"2014\", \"iii\", \"ii\", \"10\", \"1a\", \"11\", \"cm\", \"60\", '28', '250', '17',\n",
    "                     \"25\", \"40\", \"model\", \"2005\", \"ar\", \"rh\", \"kv\", \"sb\", \"ac\", \"www\", \"nm\", 'srr', 'xy', 'sigma',\n",
    "                     \"mo\", \"nm\", \"18\", \"ee\", \"pb\", \"gev\", \"mu\", \"rh\", \"ln\", \"a15\", \"13\", \"ag\", '55', 'effect','nd3',\n",
    "                     \"nm\", \"qds\", \"iv\", \"ag\", \"rms\", \"le\", \"p53\", \"pl\", \"fe\", \"ir\", \"4abn\", \"nmr\", \"ni\", '05', '74',\n",
    "                     \"ta\", \"tio2\"< \"thz\", \"db\", \"hz\", \"iso\", \"pss\", \"1310\", \"nu\", \"tf\", \"tf\", '33', '350',\n",
    "                     \"km\", \"tev\", \"gev\", \"fb\", \"tl\", \"t2dm\", \"nlc\", \"dot\", \"si\", \"cb7\", \"mc\", \"soi\", '100', \n",
    "                     \"dots\", \"pi\", \"qd\", \"la\", \"cdw\", \"iqp\", \"ccl4\", \"no2\", \"mm\", \"p1\", \"bi\", \"ho\", \"rs\", '00',\n",
    "                     \"qh\", \"tio2\", \"nu\", \"nir\", \"time\", \"bm12\", \"ssi\", \"u6\", \"current\", \"nmr\", 'hs', 'sp',\n",
    "                     \"gev\", \"tot\", \"1h\", \"hh\", \"hi\", \"qds\", \"pss\", \"no2\", \"zb\", \"wz\", \"al\", \"ge\", 'ff', 'der',\n",
    "                     \"ect\", \"mdd\", \"95\", \"girls\", \"uc\", \"cpe\", \"di\", \"uc\", \"er3\", \"new\", 's190', 's208', '44',\n",
    "                     \"od\", \"ch3\", \"yb\", \"eu\", \"tb\", \"nr\", \"ope3\", \"4tp\", \"mu\", \"center\", \"la\", '3b', 'eag1',\n",
    "                     \"number\", \"su\", \"ch4\", \"fe\", \"cr\", \"ni\", \"eat\", \"ws\", \"spp\", \"mn2\", \"mm\", 'ss', 'oc',\n",
    "                     \"rf\", \"li\", \"2016\", \"16\", \"sic\", \"si\", \"von\", \"sept3\", \"0d\", \"36\", 'igf1r', 'ma', 'mnc', ''\n",
    "                     'o3', 'correctly', 'tb', 'te', 'il', 'cd39', 'cd73', 'au', 'ou', 'ml', 'mg', 'puo2', '298',\n",
    "                     'sec', 'eta', 'ba122', 'al', 'cgm', 'h2s', 'ir', 'sni', '45', '75', 'tio2', '60', 'sp', '4000', \n",
    "                     'ge', 'si', '5p', '120', '2d', 'random', 'theory', 'li', 'qds', 'qd', 'p3ht', 'mu', '69', '71',\n",
    "                     'p2', 'gw', '511', '3885', 'yb3', '25', 'sir', '240', 'ro', 't34', '10', '6p', 'bbb', 'c1', 'c3',\n",
    "                     'nno', 'nlo', 'ag', 'sb', 'naf', 'ga', 'se', 'cu', 'gd', 'pf6', 'dots', 'dat', '4f', \n",
    "                     'ch3', 'center', 'centre', 'mc3t3', 'e1', '1064', 'jc', 'ga', 'cf3', 'bu', 'zn', 'near', \n",
    "                     'np', 'zn', 'cp', 'fr', 'nmc', 'nca', 'oco', 'dsb', 'ssb', 'oe', 'mn', '300', '80', 'b12x12',\n",
    "                     'nh', 'br', 'mw', '77', 'ig', '24', 'sigma', '700', 'ij', '1h', 'approach', '4b', '343', \n",
    "                     's6', 'ce3', 'advantages', 'phase', '001', 'ad', 'dy3', '111', '2000', 'matter', '99',\n",
    "                     'results', 'used', 'methods', 'analysis', 'used', 'associated', 'different', 'argue', 'article', \n",
    "                     'let', 'research', 'data', 'paper', 'examines', 'prove', 'proposed', 'samples', 'study', 'similar', \n",
    "                     'compared', 'significantly', 'high', 'publication', 'significant', 'use', 'studies', 'category', \n",
    "                     'use', 'field', 'group', 'years', '000', '2024', 'field', 'risk', 'non', 'age'\n",
    "                     ]  \n",
    "\n",
    "# 기본 영어 stop words (서술어, 조사 등) 목록 가져오기\n",
    "default_stop_words = text.ENGLISH_STOP_WORDS\n",
    "\n",
    "# 기본 영어 stop words에 추가할 단어들 합치기\n",
    "all_stop_words = list(default_stop_words.union(custom_stop_words))"
   ]
  },
  {
   "cell_type": "markdown",
   "metadata": {},
   "source": [
    "**Hyperparameter tuning**"
   ]
  },
  {
   "cell_type": "code",
   "execution_count": null,
   "metadata": {},
   "outputs": [],
   "source": [
    "import pandas as pd\n",
    "from tqdm import tqdm\n",
    "from bertopic import BERTopic\n",
    "from sentence_transformers import SentenceTransformer\n",
    "from sklearn.feature_extraction.text import CountVectorizer\n",
    "from umap import UMAP\n",
    "from bertopic.vectorizers import ClassTfidfTransformer\n",
    "from itertools import product\n",
    "\n",
    "# Create an empty list to store all results\n",
    "all_results = []\n",
    "\n",
    "# Define hyperparameter grid\n",
    "n_gram_options = [(1, 1), (1, 2)]\n",
    "min_dist_options = [0.0, 0.1, 0.3]\n",
    "nr_topics_options = [10, 20, None]\n",
    "min_topic_ratios = [0.01, 0.02]  # Percent of total docs for min_topic_size\n",
    "\n",
    "# Create all hyperparameter combinations\n",
    "hyperparams = list(product(n_gram_options, min_dist_options, nr_topics_options, min_topic_ratios))\n",
    "\n",
    "# Initialize embedding model once\n",
    "embedding_model = SentenceTransformer(\"all-MiniLM-L6-v2\")\n",
    "\n",
    "# Loop over each NUTS region\n",
    "for nuts in tqdm(df['nuts'].unique(), desc=\"NUTS regions\"):\n",
    "    for i in range(1, 9):\n",
    "        filtered_df = df[(df['nuts'] == nuts) & (df['period'] == i)].copy()\n",
    "        docs = filtered_df['appln_abstract'].dropna().astype(str).tolist()\n",
    "\n",
    "        if len(docs) < 5:\n",
    "            print(f\"Skipping NUTS {nuts}, period {i} due to insufficient documents.\")\n",
    "            continue\n",
    "\n",
    "        embeddings = embedding_model.encode(docs, show_progress_bar=True)\n",
    "\n",
    "        for n_gram, min_dist, nr_topics, min_ratio in hyperparams:\n",
    "            try:\n",
    "                min_topic_size = max(2, int(len(docs) * min_ratio))\n",
    "                n_neighbors = min(15, len(docs) - 1)\n",
    "                if n_neighbors < 2:\n",
    "                    continue\n",
    "\n",
    "                vectorizer_model = CountVectorizer(stop_words=all_stop_words)\n",
    "                ctfidf_model = ClassTfidfTransformer(reduce_frequent_words=True)\n",
    "                umap_model = UMAP(n_neighbors=n_neighbors, min_dist=min_dist, metric='cosine')\n",
    "\n",
    "                topic_model = BERTopic(\n",
    "                    n_gram_range=n_gram,\n",
    "                    min_topic_size=min_topic_size,\n",
    "                    nr_topics=nr_topics,\n",
    "                    embedding_model=embedding_model,\n",
    "                    vectorizer_model=vectorizer_model,\n",
    "                    calculate_probabilities=True,\n",
    "                    ctfidf_model=ctfidf_model,\n",
    "                    umap_model=umap_model\n",
    "                )\n",
    "\n",
    "                topics, probs = topic_model.fit_transform(docs, embeddings)\n",
    "                freq = topic_model.get_topic_info()\n",
    "\n",
    "                # Add metadata\n",
    "                freq['nuts'] = nuts\n",
    "                freq['period'] = i\n",
    "                freq['n_gram'] = str(n_gram)\n",
    "                freq['min_dist'] = min_dist\n",
    "                freq['nr_topics'] = nr_topics\n",
    "                freq['min_topic_ratio'] = min_ratio\n",
    "\n",
    "                all_results.append(freq)\n",
    "                print(f\"✓ NUTS {nuts}, period {i} - ngram: {n_gram}, min_dist: {min_dist}, topics: {nr_topics}, min_ratio: {min_ratio}\")\n",
    "\n",
    "            except Exception as e:\n",
    "                print(f\"✗ Error for NUTS {nuts}, period {i} - params: {n_gram}, {min_dist}, {nr_topics}, {min_ratio} -> {e}\")\n",
    "\n",
    "# Combine all results\n",
    "final_results = pd.concat(all_results, ignore_index=True)\n",
    "final_results.to_csv('patent_bertopic_hyperopt.csv', index=False)"
   ]
  },
  {
   "cell_type": "markdown",
   "metadata": {},
   "source": [
    "**BERTopic**"
   ]
  },
  {
   "cell_type": "code",
   "execution_count": 56,
   "metadata": {},
   "outputs": [
    {
     "name": "stderr",
     "output_type": "stream",
     "text": [
      "NUTS regions:   0%|          | 0/203 [00:00<?, ?it/s]"
     ]
    },
    {
     "name": "stdout",
     "output_type": "stream",
     "text": [
      "No valid documents for NUTS region FI1B and period 1\n",
      "No valid documents for NUTS region FI1B and period 2\n",
      "No valid documents for NUTS region FI1B and period 3\n"
     ]
    },
    {
     "name": "stderr",
     "output_type": "stream",
     "text": [
      "Batches: 100%|██████████| 98/98 [00:14<00:00,  6.92it/s]\n"
     ]
    },
    {
     "name": "stdout",
     "output_type": "stream",
     "text": [
      "Processed topic information for NUTS region FI1B and period 4\n"
     ]
    },
    {
     "name": "stderr",
     "output_type": "stream",
     "text": [
      "Batches: 100%|██████████| 126/126 [00:18<00:00,  6.78it/s]\n"
     ]
    },
    {
     "name": "stdout",
     "output_type": "stream",
     "text": [
      "Processed topic information for NUTS region FI1B and period 5\n"
     ]
    },
    {
     "name": "stderr",
     "output_type": "stream",
     "text": [
      "Batches: 100%|██████████| 131/131 [00:19<00:00,  6.60it/s]\n"
     ]
    },
    {
     "name": "stdout",
     "output_type": "stream",
     "text": [
      "Processed topic information for NUTS region FI1B and period 6\n"
     ]
    },
    {
     "name": "stderr",
     "output_type": "stream",
     "text": [
      "Batches: 100%|██████████| 171/171 [00:12<00:00, 13.25it/s]\n",
      "NUTS regions:   0%|          | 1/203 [01:31<5:09:01, 91.79s/it]"
     ]
    },
    {
     "name": "stdout",
     "output_type": "stream",
     "text": [
      "Processed topic information for NUTS region FI1B and period 7\n",
      "No valid documents for NUTS region FI1B and period 8\n",
      "No valid documents for NUTS region FI19 and period 1\n",
      "No valid documents for NUTS region FI19 and period 2\n",
      "No valid documents for NUTS region FI19 and period 3\n"
     ]
    },
    {
     "name": "stderr",
     "output_type": "stream",
     "text": [
      "Batches: 100%|██████████| 34/34 [00:01<00:00, 17.00it/s]\n"
     ]
    },
    {
     "name": "stdout",
     "output_type": "stream",
     "text": [
      "Processed topic information for NUTS region FI19 and period 4\n"
     ]
    },
    {
     "name": "stderr",
     "output_type": "stream",
     "text": [
      "Batches: 100%|██████████| 47/47 [00:14<00:00,  3.18it/s]\n"
     ]
    },
    {
     "name": "stdout",
     "output_type": "stream",
     "text": [
      "Processed topic information for NUTS region FI19 and period 5\n"
     ]
    },
    {
     "name": "stderr",
     "output_type": "stream",
     "text": [
      "Batches: 100%|██████████| 41/41 [00:30<00:00,  1.34it/s]\n"
     ]
    },
    {
     "name": "stdout",
     "output_type": "stream",
     "text": [
      "Processed topic information for NUTS region FI19 and period 6\n"
     ]
    },
    {
     "name": "stderr",
     "output_type": "stream",
     "text": [
      "Batches: 100%|██████████| 57/57 [01:02<00:00,  1.09s/it]\n",
      "NUTS regions:   1%|          | 2/203 [03:34<6:08:08, 109.89s/it]"
     ]
    },
    {
     "name": "stdout",
     "output_type": "stream",
     "text": [
      "Processed topic information for NUTS region FI19 and period 7\n",
      "No valid documents for NUTS region FI19 and period 8\n",
      "No valid documents for NUTS region UKI3 and period 1\n",
      "No valid documents for NUTS region UKI3 and period 2\n"
     ]
    },
    {
     "name": "stderr",
     "output_type": "stream",
     "text": [
      "Batches: 100%|██████████| 55/55 [00:07<00:00,  7.56it/s]\n"
     ]
    },
    {
     "name": "stdout",
     "output_type": "stream",
     "text": [
      "Processed topic information for NUTS region UKI3 and period 3\n"
     ]
    },
    {
     "name": "stderr",
     "output_type": "stream",
     "text": [
      "Batches: 100%|██████████| 66/66 [00:10<00:00,  6.32it/s]\n"
     ]
    },
    {
     "name": "stdout",
     "output_type": "stream",
     "text": [
      "Processed topic information for NUTS region UKI3 and period 4\n"
     ]
    },
    {
     "name": "stderr",
     "output_type": "stream",
     "text": [
      "Batches: 100%|██████████| 69/69 [00:06<00:00, 10.29it/s]\n"
     ]
    },
    {
     "name": "stdout",
     "output_type": "stream",
     "text": [
      "Processed topic information for NUTS region UKI3 and period 5\n"
     ]
    },
    {
     "name": "stderr",
     "output_type": "stream",
     "text": [
      "Batches: 100%|██████████| 87/87 [00:41<00:00,  2.07it/s]\n"
     ]
    },
    {
     "name": "stdout",
     "output_type": "stream",
     "text": [
      "Processed topic information for NUTS region UKI3 and period 6\n"
     ]
    },
    {
     "name": "stderr",
     "output_type": "stream",
     "text": [
      "Batches: 100%|██████████| 113/113 [00:42<00:00,  2.64it/s]\n",
      "NUTS regions:   1%|▏         | 3/203 [05:53<6:51:20, 123.40s/it]"
     ]
    },
    {
     "name": "stdout",
     "output_type": "stream",
     "text": [
      "Processed topic information for NUTS region UKI3 and period 7\n",
      "No valid documents for NUTS region UKI3 and period 8\n",
      "No valid documents for NUTS region UKH1 and period 1\n",
      "No valid documents for NUTS region UKH1 and period 2\n"
     ]
    },
    {
     "name": "stderr",
     "output_type": "stream",
     "text": [
      "Batches: 100%|██████████| 31/31 [00:10<00:00,  2.89it/s]\n"
     ]
    },
    {
     "name": "stdout",
     "output_type": "stream",
     "text": [
      "Processed topic information for NUTS region UKH1 and period 3\n"
     ]
    },
    {
     "name": "stderr",
     "output_type": "stream",
     "text": [
      "Batches: 100%|██████████| 61/61 [00:24<00:00,  2.46it/s]\n"
     ]
    },
    {
     "name": "stdout",
     "output_type": "stream",
     "text": [
      "Processed topic information for NUTS region UKH1 and period 4\n"
     ]
    },
    {
     "name": "stderr",
     "output_type": "stream",
     "text": [
      "Batches: 100%|██████████| 67/67 [00:34<00:00,  1.92it/s]\n"
     ]
    },
    {
     "name": "stdout",
     "output_type": "stream",
     "text": [
      "Processed topic information for NUTS region UKH1 and period 5\n"
     ]
    },
    {
     "name": "stderr",
     "output_type": "stream",
     "text": [
      "Batches: 100%|██████████| 71/71 [00:31<00:00,  2.28it/s]\n"
     ]
    },
    {
     "name": "stdout",
     "output_type": "stream",
     "text": [
      "Processed topic information for NUTS region UKH1 and period 6\n"
     ]
    },
    {
     "name": "stderr",
     "output_type": "stream",
     "text": [
      "Batches: 100%|██████████| 79/79 [00:43<00:00,  1.82it/s]\n",
      "NUTS regions:   2%|▏         | 4/203 [08:41<7:47:47, 141.04s/it]"
     ]
    },
    {
     "name": "stdout",
     "output_type": "stream",
     "text": [
      "Processed topic information for NUTS region UKH1 and period 7\n",
      "No valid documents for NUTS region UKH1 and period 8\n",
      "No valid documents for NUTS region DEA1 and period 1\n",
      "No valid documents for NUTS region DEA1 and period 2\n",
      "No valid documents for NUTS region DEA1 and period 3\n"
     ]
    },
    {
     "name": "stderr",
     "output_type": "stream",
     "text": [
      "Batches: 100%|██████████| 356/356 [03:35<00:00,  1.65it/s]\n"
     ]
    },
    {
     "name": "stdout",
     "output_type": "stream",
     "text": [
      "Processed topic information for NUTS region DEA1 and period 4\n"
     ]
    },
    {
     "name": "stderr",
     "output_type": "stream",
     "text": [
      "Batches: 100%|██████████| 379/379 [00:41<00:00,  9.15it/s]\n"
     ]
    },
    {
     "name": "stdout",
     "output_type": "stream",
     "text": [
      "Processed topic information for NUTS region DEA1 and period 5\n"
     ]
    },
    {
     "name": "stderr",
     "output_type": "stream",
     "text": [
      "Batches: 100%|██████████| 423/423 [00:44<00:00,  9.54it/s]\n"
     ]
    },
    {
     "name": "stdout",
     "output_type": "stream",
     "text": [
      "Processed topic information for NUTS region DEA1 and period 6\n"
     ]
    },
    {
     "name": "stderr",
     "output_type": "stream",
     "text": [
      "Batches: 100%|██████████| 395/395 [00:46<00:00,  8.45it/s]\n",
      "NUTS regions:   2%|▏         | 5/203 [14:52<12:18:35, 223.82s/it]"
     ]
    },
    {
     "name": "stdout",
     "output_type": "stream",
     "text": [
      "Processed topic information for NUTS region DEA1 and period 7\n",
      "No valid documents for NUTS region DEA1 and period 8\n",
      "No valid documents for NUTS region DEA2 and period 1\n",
      "No valid documents for NUTS region DEA2 and period 2\n",
      "No valid documents for NUTS region DEA2 and period 3\n"
     ]
    },
    {
     "name": "stderr",
     "output_type": "stream",
     "text": [
      "Batches: 100%|██████████| 282/282 [00:26<00:00, 10.71it/s]\n"
     ]
    },
    {
     "name": "stdout",
     "output_type": "stream",
     "text": [
      "Processed topic information for NUTS region DEA2 and period 4\n"
     ]
    },
    {
     "name": "stderr",
     "output_type": "stream",
     "text": [
      "Batches: 100%|██████████| 303/303 [00:34<00:00,  8.90it/s]\n"
     ]
    },
    {
     "name": "stdout",
     "output_type": "stream",
     "text": [
      "Processed topic information for NUTS region DEA2 and period 5\n"
     ]
    },
    {
     "name": "stderr",
     "output_type": "stream",
     "text": [
      "Batches: 100%|██████████| 305/305 [00:34<00:00,  8.90it/s]\n"
     ]
    },
    {
     "name": "stdout",
     "output_type": "stream",
     "text": [
      "Processed topic information for NUTS region DEA2 and period 6\n"
     ]
    },
    {
     "name": "stderr",
     "output_type": "stream",
     "text": [
      "Batches: 100%|██████████| 284/284 [00:37<00:00,  7.67it/s]\n",
      "NUTS regions:   3%|▎         | 6/203 [17:24<10:54:11, 199.25s/it]"
     ]
    },
    {
     "name": "stdout",
     "output_type": "stream",
     "text": [
      "Processed topic information for NUTS region DEA2 and period 7\n",
      "No valid documents for NUTS region DEA2 and period 8\n",
      "No valid documents for NUTS region DE71 and period 1\n",
      "No valid documents for NUTS region DE71 and period 2\n",
      "No valid documents for NUTS region DE71 and period 3\n"
     ]
    },
    {
     "name": "stderr",
     "output_type": "stream",
     "text": [
      "Batches: 100%|██████████| 403/403 [01:14<00:00,  5.44it/s]\n"
     ]
    },
    {
     "name": "stdout",
     "output_type": "stream",
     "text": [
      "Processed topic information for NUTS region DE71 and period 4\n"
     ]
    },
    {
     "name": "stderr",
     "output_type": "stream",
     "text": [
      "Batches: 100%|██████████| 438/438 [03:18<00:00,  2.21it/s]\n"
     ]
    },
    {
     "name": "stdout",
     "output_type": "stream",
     "text": [
      "Processed topic information for NUTS region DE71 and period 5\n"
     ]
    },
    {
     "name": "stderr",
     "output_type": "stream",
     "text": [
      "Batches: 100%|██████████| 408/408 [02:42<00:00,  2.51it/s]\n"
     ]
    },
    {
     "name": "stdout",
     "output_type": "stream",
     "text": [
      "Processed topic information for NUTS region DE71 and period 6\n"
     ]
    },
    {
     "name": "stderr",
     "output_type": "stream",
     "text": [
      "Batches: 100%|██████████| 373/373 [00:50<00:00,  7.32it/s]\n",
      "NUTS regions:   3%|▎         | 7/203 [25:51<16:20:31, 300.16s/it]"
     ]
    },
    {
     "name": "stdout",
     "output_type": "stream",
     "text": [
      "Processed topic information for NUTS region DE71 and period 7\n",
      "No valid documents for NUTS region DE71 and period 8\n",
      "No valid documents for NUTS region FR10 and period 1\n"
     ]
    },
    {
     "name": "stderr",
     "output_type": "stream",
     "text": [
      "Batches: 100%|██████████| 366/366 [01:15<00:00,  4.84it/s]\n"
     ]
    },
    {
     "name": "stdout",
     "output_type": "stream",
     "text": [
      "Processed topic information for NUTS region FR10 and period 2\n"
     ]
    },
    {
     "name": "stderr",
     "output_type": "stream",
     "text": [
      "Batches: 100%|██████████| 622/622 [01:44<00:00,  5.92it/s]\n"
     ]
    },
    {
     "name": "stdout",
     "output_type": "stream",
     "text": [
      "Processed topic information for NUTS region FR10 and period 3\n"
     ]
    },
    {
     "name": "stderr",
     "output_type": "stream",
     "text": [
      "Batches: 100%|██████████| 765/765 [02:08<00:00,  5.95it/s]\n"
     ]
    },
    {
     "name": "stdout",
     "output_type": "stream",
     "text": [
      "Processed topic information for NUTS region FR10 and period 4\n"
     ]
    },
    {
     "name": "stderr",
     "output_type": "stream",
     "text": [
      "Batches: 100%|██████████| 816/816 [03:00<00:00,  4.52it/s]\n"
     ]
    },
    {
     "name": "stdout",
     "output_type": "stream",
     "text": [
      "Processed topic information for NUTS region FR10 and period 5\n"
     ]
    },
    {
     "name": "stderr",
     "output_type": "stream",
     "text": [
      "Batches: 100%|██████████| 963/963 [02:04<00:00,  7.75it/s]\n"
     ]
    },
    {
     "name": "stdout",
     "output_type": "stream",
     "text": [
      "Processed topic information for NUTS region FR10 and period 6\n"
     ]
    },
    {
     "name": "stderr",
     "output_type": "stream",
     "text": [
      "Batches: 100%|██████████| 1022/1022 [04:09<00:00,  4.10it/s]\n",
      "NUTS regions:   4%|▍         | 8/203 [41:16<27:01:11, 498.83s/it]"
     ]
    },
    {
     "name": "stdout",
     "output_type": "stream",
     "text": [
      "Processed topic information for NUTS region FR10 and period 7\n",
      "No valid documents for NUTS region FR10 and period 8\n",
      "No valid documents for NUTS region CH01 and period 1\n",
      "No valid documents for NUTS region CH01 and period 2\n",
      "No valid documents for NUTS region CH01 and period 3\n"
     ]
    },
    {
     "name": "stderr",
     "output_type": "stream",
     "text": [
      "Batches: 100%|██████████| 70/70 [00:07<00:00,  9.30it/s]\n"
     ]
    },
    {
     "name": "stdout",
     "output_type": "stream",
     "text": [
      "Processed topic information for NUTS region CH01 and period 4\n"
     ]
    },
    {
     "name": "stderr",
     "output_type": "stream",
     "text": [
      "Batches: 100%|██████████| 90/90 [00:34<00:00,  2.61it/s]\n"
     ]
    },
    {
     "name": "stdout",
     "output_type": "stream",
     "text": [
      "Processed topic information for NUTS region CH01 and period 5\n"
     ]
    },
    {
     "name": "stderr",
     "output_type": "stream",
     "text": [
      "Batches: 100%|██████████| 113/113 [01:04<00:00,  1.74it/s]\n"
     ]
    },
    {
     "name": "stdout",
     "output_type": "stream",
     "text": [
      "Processed topic information for NUTS region CH01 and period 6\n"
     ]
    },
    {
     "name": "stderr",
     "output_type": "stream",
     "text": [
      "Batches: 100%|██████████| 137/137 [01:25<00:00,  1.61it/s]\n",
      "NUTS regions:   4%|▍         | 9/203 [44:50<22:05:08, 409.84s/it]"
     ]
    },
    {
     "name": "stdout",
     "output_type": "stream",
     "text": [
      "Processed topic information for NUTS region CH01 and period 7\n",
      "No valid documents for NUTS region CH01 and period 8\n",
      "No valid documents for NUTS region NL41 and period 1\n",
      "No valid documents for NUTS region NL41 and period 2\n",
      "No valid documents for NUTS region NL41 and period 3\n"
     ]
    },
    {
     "name": "stderr",
     "output_type": "stream",
     "text": [
      "Batches: 100%|██████████| 140/140 [00:35<00:00,  3.92it/s]\n"
     ]
    },
    {
     "name": "stdout",
     "output_type": "stream",
     "text": [
      "Processed topic information for NUTS region NL41 and period 4\n"
     ]
    },
    {
     "name": "stderr",
     "output_type": "stream",
     "text": [
      "Batches: 100%|██████████| 206/206 [01:34<00:00,  2.18it/s]\n"
     ]
    },
    {
     "name": "stdout",
     "output_type": "stream",
     "text": [
      "Processed topic information for NUTS region NL41 and period 5\n"
     ]
    },
    {
     "name": "stderr",
     "output_type": "stream",
     "text": [
      "Batches: 100%|██████████| 233/233 [01:46<00:00,  2.19it/s]\n"
     ]
    },
    {
     "name": "stdout",
     "output_type": "stream",
     "text": [
      "Processed topic information for NUTS region NL41 and period 6\n"
     ]
    },
    {
     "name": "stderr",
     "output_type": "stream",
     "text": [
      "Batches: 100%|██████████| 299/299 [04:03<00:00,  1.23it/s]\n",
      "NUTS regions:   5%|▍         | 10/203 [53:08<23:26:16, 437.19s/it]"
     ]
    },
    {
     "name": "stdout",
     "output_type": "stream",
     "text": [
      "Processed topic information for NUTS region NL41 and period 7\n",
      "No valid documents for NUTS region NL41 and period 8\n",
      "No valid documents for NUTS region NL12 and period 1\n",
      "No valid documents for NUTS region NL12 and period 2\n",
      "No valid documents for NUTS region NL12 and period 3\n"
     ]
    },
    {
     "name": "stderr",
     "output_type": "stream",
     "text": [
      "Batches: 100%|██████████| 7/7 [00:04<00:00,  1.68it/s]\n"
     ]
    },
    {
     "name": "stdout",
     "output_type": "stream",
     "text": [
      "Processed topic information for NUTS region NL12 and period 4\n"
     ]
    },
    {
     "name": "stderr",
     "output_type": "stream",
     "text": [
      "Batches: 100%|██████████| 7/7 [00:00<00:00, 29.05it/s]\n"
     ]
    },
    {
     "name": "stdout",
     "output_type": "stream",
     "text": [
      "Processed topic information for NUTS region NL12 and period 5\n",
      "No valid documents for NUTS region NL12 and period 6\n",
      "No valid documents for NUTS region NL12 and period 7\n"
     ]
    },
    {
     "name": "stderr",
     "output_type": "stream",
     "text": [
      "NUTS regions:   5%|▌         | 11/203 [53:18<16:20:47, 306.50s/it]"
     ]
    },
    {
     "name": "stdout",
     "output_type": "stream",
     "text": [
      "No valid documents for NUTS region NL12 and period 8\n",
      "No valid documents for NUTS region DEB3 and period 1\n",
      "No valid documents for NUTS region DEB3 and period 2\n",
      "No valid documents for NUTS region DEB3 and period 3\n"
     ]
    },
    {
     "name": "stderr",
     "output_type": "stream",
     "text": [
      "Batches: 100%|██████████| 290/290 [01:43<00:00,  2.80it/s]\n"
     ]
    },
    {
     "name": "stdout",
     "output_type": "stream",
     "text": [
      "Processed topic information for NUTS region DEB3 and period 4\n"
     ]
    },
    {
     "name": "stderr",
     "output_type": "stream",
     "text": [
      "Batches: 100%|██████████| 301/301 [01:58<00:00,  2.54it/s]\n"
     ]
    },
    {
     "name": "stdout",
     "output_type": "stream",
     "text": [
      "Processed topic information for NUTS region DEB3 and period 5\n"
     ]
    },
    {
     "name": "stderr",
     "output_type": "stream",
     "text": [
      "Batches: 100%|██████████| 303/303 [00:34<00:00,  8.89it/s]\n"
     ]
    },
    {
     "name": "stdout",
     "output_type": "stream",
     "text": [
      "Processed topic information for NUTS region DEB3 and period 6\n"
     ]
    },
    {
     "name": "stderr",
     "output_type": "stream",
     "text": [
      "Batches: 100%|██████████| 252/252 [00:27<00:00,  9.02it/s]\n",
      "NUTS regions:   6%|▌         | 12/203 [58:24<16:14:40, 306.18s/it]"
     ]
    },
    {
     "name": "stdout",
     "output_type": "stream",
     "text": [
      "Processed topic information for NUTS region DEB3 and period 7\n",
      "No valid documents for NUTS region DEB3 and period 8\n",
      "No valid documents for NUTS region DEG0 and period 1\n",
      "No valid documents for NUTS region DEG0 and period 2\n",
      "No valid documents for NUTS region DEG0 and period 3\n"
     ]
    },
    {
     "name": "stderr",
     "output_type": "stream",
     "text": [
      "Batches: 100%|██████████| 26/26 [00:00<00:00, 27.42it/s]\n"
     ]
    },
    {
     "name": "stdout",
     "output_type": "stream",
     "text": [
      "Processed topic information for NUTS region DEG0 and period 4\n"
     ]
    },
    {
     "name": "stderr",
     "output_type": "stream",
     "text": [
      "Batches: 100%|██████████| 52/52 [00:06<00:00,  7.70it/s]\n"
     ]
    },
    {
     "name": "stdout",
     "output_type": "stream",
     "text": [
      "Processed topic information for NUTS region DEG0 and period 5\n"
     ]
    },
    {
     "name": "stderr",
     "output_type": "stream",
     "text": [
      "Batches: 100%|██████████| 65/65 [00:07<00:00,  9.17it/s]\n"
     ]
    },
    {
     "name": "stdout",
     "output_type": "stream",
     "text": [
      "Processed topic information for NUTS region DEG0 and period 6\n"
     ]
    },
    {
     "name": "stderr",
     "output_type": "stream",
     "text": [
      "Batches: 100%|██████████| 61/61 [00:07<00:00,  8.51it/s]\n",
      "NUTS regions:   6%|▋         | 13/203 [59:03<11:53:32, 225.33s/it]"
     ]
    },
    {
     "name": "stdout",
     "output_type": "stream",
     "text": [
      "Processed topic information for NUTS region DEG0 and period 7\n",
      "No valid documents for NUTS region DEG0 and period 8\n",
      "No valid documents for NUTS region DE11 and period 1\n",
      "No valid documents for NUTS region DE11 and period 2\n",
      "No valid documents for NUTS region DE11 and period 3\n"
     ]
    },
    {
     "name": "stderr",
     "output_type": "stream",
     "text": [
      "Batches: 100%|██████████| 471/471 [00:46<00:00, 10.14it/s]\n"
     ]
    },
    {
     "name": "stdout",
     "output_type": "stream",
     "text": [
      "Processed topic information for NUTS region DE11 and period 4\n"
     ]
    },
    {
     "name": "stderr",
     "output_type": "stream",
     "text": [
      "Batches: 100%|██████████| 657/657 [01:05<00:00, 10.08it/s]\n"
     ]
    },
    {
     "name": "stdout",
     "output_type": "stream",
     "text": [
      "Processed topic information for NUTS region DE11 and period 5\n"
     ]
    },
    {
     "name": "stderr",
     "output_type": "stream",
     "text": [
      "Batches: 100%|██████████| 688/688 [01:18<00:00,  8.76it/s]\n"
     ]
    },
    {
     "name": "stdout",
     "output_type": "stream",
     "text": [
      "Processed topic information for NUTS region DE11 and period 6\n"
     ]
    },
    {
     "name": "stderr",
     "output_type": "stream",
     "text": [
      "Batches: 100%|██████████| 577/577 [04:14<00:00,  2.27it/s]\n",
      "NUTS regions:   7%|▋         | 14/203 [1:07:02<15:50:30, 301.75s/it]"
     ]
    },
    {
     "name": "stdout",
     "output_type": "stream",
     "text": [
      "Processed topic information for NUTS region DE11 and period 7\n",
      "No valid documents for NUTS region DE11 and period 8\n",
      "No valid documents for NUTS region NL32 and period 1\n",
      "No valid documents for NUTS region NL32 and period 2\n",
      "No valid documents for NUTS region NL32 and period 3\n"
     ]
    },
    {
     "name": "stderr",
     "output_type": "stream",
     "text": [
      "Batches: 100%|██████████| 55/55 [00:17<00:00,  3.17it/s]\n"
     ]
    },
    {
     "name": "stdout",
     "output_type": "stream",
     "text": [
      "Processed topic information for NUTS region NL32 and period 4\n"
     ]
    },
    {
     "name": "stderr",
     "output_type": "stream",
     "text": [
      "Batches: 100%|██████████| 69/69 [00:27<00:00,  2.53it/s]\n"
     ]
    },
    {
     "name": "stdout",
     "output_type": "stream",
     "text": [
      "Processed topic information for NUTS region NL32 and period 5\n"
     ]
    },
    {
     "name": "stderr",
     "output_type": "stream",
     "text": [
      "Batches: 100%|██████████| 79/79 [00:33<00:00,  2.34it/s]\n"
     ]
    },
    {
     "name": "stdout",
     "output_type": "stream",
     "text": [
      "Processed topic information for NUTS region NL32 and period 6\n"
     ]
    },
    {
     "name": "stderr",
     "output_type": "stream",
     "text": [
      "Batches: 100%|██████████| 85/85 [00:24<00:00,  3.44it/s]\n",
      "NUTS regions:   7%|▋         | 15/203 [1:09:07<12:59:26, 248.76s/it]"
     ]
    },
    {
     "name": "stdout",
     "output_type": "stream",
     "text": [
      "Processed topic information for NUTS region NL32 and period 7\n",
      "No valid documents for NUTS region NL32 and period 8\n",
      "No valid documents for NUTS region NL31 and period 1\n",
      "No valid documents for NUTS region NL31 and period 2\n",
      "No valid documents for NUTS region NL31 and period 3\n"
     ]
    },
    {
     "name": "stderr",
     "output_type": "stream",
     "text": [
      "Batches: 100%|██████████| 25/25 [00:10<00:00,  2.43it/s]\n"
     ]
    },
    {
     "name": "stdout",
     "output_type": "stream",
     "text": [
      "Processed topic information for NUTS region NL31 and period 4\n"
     ]
    },
    {
     "name": "stderr",
     "output_type": "stream",
     "text": [
      "Batches: 100%|██████████| 29/29 [00:11<00:00,  2.61it/s]\n"
     ]
    },
    {
     "name": "stdout",
     "output_type": "stream",
     "text": [
      "Processed topic information for NUTS region NL31 and period 5\n"
     ]
    },
    {
     "name": "stderr",
     "output_type": "stream",
     "text": [
      "Batches: 100%|██████████| 38/38 [00:17<00:00,  2.16it/s]\n"
     ]
    },
    {
     "name": "stdout",
     "output_type": "stream",
     "text": [
      "Processed topic information for NUTS region NL31 and period 6\n"
     ]
    },
    {
     "name": "stderr",
     "output_type": "stream",
     "text": [
      "Batches: 100%|██████████| 34/34 [00:24<00:00,  1.38it/s]\n",
      "NUTS regions:   8%|▊         | 16/203 [1:10:24<10:13:42, 196.91s/it]"
     ]
    },
    {
     "name": "stdout",
     "output_type": "stream",
     "text": [
      "Processed topic information for NUTS region NL31 and period 7\n",
      "No valid documents for NUTS region NL31 and period 8\n",
      "No valid documents for NUTS region NL23 and period 1\n",
      "No valid documents for NUTS region NL23 and period 2\n",
      "No valid documents for NUTS region NL23 and period 3\n"
     ]
    },
    {
     "name": "stderr",
     "output_type": "stream",
     "text": [
      "Batches: 100%|██████████| 4/4 [00:00<00:00,  4.19it/s]\n"
     ]
    },
    {
     "name": "stdout",
     "output_type": "stream",
     "text": [
      "Processed topic information for NUTS region NL23 and period 4\n"
     ]
    },
    {
     "name": "stderr",
     "output_type": "stream",
     "text": [
      "Batches: 100%|██████████| 4/4 [00:00<00:00, 28.56it/s]\n"
     ]
    },
    {
     "name": "stdout",
     "output_type": "stream",
     "text": [
      "Processed topic information for NUTS region NL23 and period 5\n",
      "No valid documents for NUTS region NL23 and period 6\n",
      "No valid documents for NUTS region NL23 and period 7\n"
     ]
    },
    {
     "name": "stderr",
     "output_type": "stream",
     "text": [
      "NUTS regions:   8%|▊         | 17/203 [1:10:31<7:13:02, 139.69s/it] "
     ]
    },
    {
     "name": "stdout",
     "output_type": "stream",
     "text": [
      "No valid documents for NUTS region NL23 and period 8\n",
      "No valid documents for NUTS region DE26 and period 1\n",
      "No valid documents for NUTS region DE26 and period 2\n",
      "No valid documents for NUTS region DE26 and period 3\n"
     ]
    },
    {
     "name": "stderr",
     "output_type": "stream",
     "text": [
      "Batches: 100%|██████████| 80/80 [00:07<00:00, 10.78it/s]\n"
     ]
    },
    {
     "name": "stdout",
     "output_type": "stream",
     "text": [
      "Processed topic information for NUTS region DE26 and period 4\n"
     ]
    },
    {
     "name": "stderr",
     "output_type": "stream",
     "text": [
      "Batches: 100%|██████████| 129/129 [00:11<00:00, 11.64it/s]\n"
     ]
    },
    {
     "name": "stdout",
     "output_type": "stream",
     "text": [
      "Processed topic information for NUTS region DE26 and period 5\n"
     ]
    },
    {
     "name": "stderr",
     "output_type": "stream",
     "text": [
      "Batches: 100%|██████████| 124/124 [00:14<00:00,  8.65it/s]\n",
      "NUTS regions:   9%|▉         | 18/203 [1:11:23<5:49:37, 113.39s/it]"
     ]
    },
    {
     "name": "stdout",
     "output_type": "stream",
     "text": [
      "Processed topic information for NUTS region DE26 and period 6\n",
      "No valid documents for NUTS region DE26 and period 7\n",
      "No valid documents for NUTS region DE26 and period 8\n",
      "No valid documents for NUTS region NL34 and period 1\n",
      "No valid documents for NUTS region NL34 and period 2\n",
      "No valid documents for NUTS region NL34 and period 3\n"
     ]
    },
    {
     "name": "stderr",
     "output_type": "stream",
     "text": [
      "Batches: 100%|██████████| 7/7 [00:00<00:00, 31.78it/s]\n"
     ]
    },
    {
     "name": "stdout",
     "output_type": "stream",
     "text": [
      "Processed topic information for NUTS region NL34 and period 4\n"
     ]
    },
    {
     "name": "stderr",
     "output_type": "stream",
     "text": [
      "Batches: 100%|██████████| 5/5 [00:00<00:00, 30.74it/s]\n"
     ]
    },
    {
     "name": "stdout",
     "output_type": "stream",
     "text": [
      "Processed topic information for NUTS region NL34 and period 5\n",
      "No valid documents for NUTS region NL34 and period 6\n",
      "No valid documents for NUTS region NL34 and period 7\n"
     ]
    },
    {
     "name": "stderr",
     "output_type": "stream",
     "text": [
      "NUTS regions:   9%|▉         | 19/203 [1:11:30<4:09:37, 81.40s/it] "
     ]
    },
    {
     "name": "stdout",
     "output_type": "stream",
     "text": [
      "No valid documents for NUTS region NL34 and period 8\n",
      "No valid documents for NUTS region SE11 and period 1\n",
      "No valid documents for NUTS region SE11 and period 2\n",
      "No valid documents for NUTS region SE11 and period 3\n"
     ]
    },
    {
     "name": "stderr",
     "output_type": "stream",
     "text": [
      "Batches: 100%|██████████| 129/129 [00:12<00:00, 10.18it/s]\n"
     ]
    },
    {
     "name": "stdout",
     "output_type": "stream",
     "text": [
      "Processed topic information for NUTS region SE11 and period 4\n"
     ]
    },
    {
     "name": "stderr",
     "output_type": "stream",
     "text": [
      "Batches: 100%|██████████| 138/138 [00:17<00:00,  7.99it/s]\n"
     ]
    },
    {
     "name": "stdout",
     "output_type": "stream",
     "text": [
      "Processed topic information for NUTS region SE11 and period 5\n"
     ]
    },
    {
     "name": "stderr",
     "output_type": "stream",
     "text": [
      "Batches: 100%|██████████| 197/197 [00:20<00:00,  9.62it/s]\n"
     ]
    },
    {
     "name": "stdout",
     "output_type": "stream",
     "text": [
      "Processed topic information for NUTS region SE11 and period 6\n"
     ]
    },
    {
     "name": "stderr",
     "output_type": "stream",
     "text": [
      "Batches: 100%|██████████| 292/292 [00:38<00:00,  7.65it/s]\n",
      "NUTS regions:  10%|▉         | 20/203 [1:13:16<4:31:28, 89.01s/it]"
     ]
    },
    {
     "name": "stdout",
     "output_type": "stream",
     "text": [
      "Processed topic information for NUTS region SE11 and period 7\n",
      "No valid documents for NUTS region SE11 and period 8\n",
      "No valid documents for NUTS region NO01 and period 1\n",
      "No valid documents for NUTS region NO01 and period 2\n",
      "No valid documents for NUTS region NO01 and period 3\n"
     ]
    },
    {
     "name": "stderr",
     "output_type": "stream",
     "text": [
      "Batches: 100%|██████████| 25/25 [00:00<00:00, 28.78it/s]\n"
     ]
    },
    {
     "name": "stdout",
     "output_type": "stream",
     "text": [
      "Processed topic information for NUTS region NO01 and period 4\n"
     ]
    },
    {
     "name": "stderr",
     "output_type": "stream",
     "text": [
      "Batches: 100%|██████████| 29/29 [00:00<00:00, 30.33it/s]\n"
     ]
    },
    {
     "name": "stdout",
     "output_type": "stream",
     "text": [
      "Processed topic information for NUTS region NO01 and period 5\n"
     ]
    },
    {
     "name": "stderr",
     "output_type": "stream",
     "text": [
      "Batches: 100%|██████████| 32/32 [00:03<00:00,  9.27it/s]\n"
     ]
    },
    {
     "name": "stdout",
     "output_type": "stream",
     "text": [
      "Processed topic information for NUTS region NO01 and period 6\n"
     ]
    },
    {
     "name": "stderr",
     "output_type": "stream",
     "text": [
      "Batches: 100%|██████████| 39/39 [00:03<00:00, 10.63it/s]\n",
      "NUTS regions:  10%|█         | 21/203 [1:13:38<3:28:49, 68.85s/it]"
     ]
    },
    {
     "name": "stdout",
     "output_type": "stream",
     "text": [
      "Processed topic information for NUTS region NO01 and period 7\n",
      "No valid documents for NUTS region NO01 and period 8\n",
      "No valid documents for NUTS region NO04 and period 1\n",
      "No valid documents for NUTS region NO04 and period 2\n",
      "No valid documents for NUTS region NO04 and period 3\n"
     ]
    },
    {
     "name": "stderr",
     "output_type": "stream",
     "text": [
      "Batches: 100%|██████████| 8/8 [00:00<00:00, 26.10it/s]\n"
     ]
    },
    {
     "name": "stdout",
     "output_type": "stream",
     "text": [
      "Processed topic information for NUTS region NO04 and period 4\n"
     ]
    },
    {
     "name": "stderr",
     "output_type": "stream",
     "text": [
      "Batches: 100%|██████████| 10/10 [00:00<00:00, 31.08it/s]\n"
     ]
    },
    {
     "name": "stdout",
     "output_type": "stream",
     "text": [
      "Processed topic information for NUTS region NO04 and period 5\n"
     ]
    },
    {
     "name": "stderr",
     "output_type": "stream",
     "text": [
      "Batches: 100%|██████████| 13/13 [00:00<00:00, 30.83it/s]\n",
      "NUTS regions:  11%|█         | 22/203 [1:13:48<2:34:35, 51.24s/it]"
     ]
    },
    {
     "name": "stdout",
     "output_type": "stream",
     "text": [
      "Processed topic information for NUTS region NO04 and period 6\n",
      "No valid documents for NUTS region NO04 and period 7\n",
      "No valid documents for NUTS region NO04 and period 8\n",
      "No valid documents for NUTS region FI1C and period 1\n",
      "No valid documents for NUTS region FI1C and period 2\n",
      "No valid documents for NUTS region FI1C and period 3\n"
     ]
    },
    {
     "name": "stderr",
     "output_type": "stream",
     "text": [
      "Batches: 100%|██████████| 24/24 [00:00<00:00, 27.37it/s]\n"
     ]
    },
    {
     "name": "stdout",
     "output_type": "stream",
     "text": [
      "Processed topic information for NUTS region FI1C and period 4\n"
     ]
    },
    {
     "name": "stderr",
     "output_type": "stream",
     "text": [
      "Batches: 100%|██████████| 30/30 [00:03<00:00,  8.72it/s]\n"
     ]
    },
    {
     "name": "stdout",
     "output_type": "stream",
     "text": [
      "Processed topic information for NUTS region FI1C and period 5\n"
     ]
    },
    {
     "name": "stderr",
     "output_type": "stream",
     "text": [
      "Batches: 100%|██████████| 26/26 [00:00<00:00, 29.72it/s]\n"
     ]
    },
    {
     "name": "stdout",
     "output_type": "stream",
     "text": [
      "Processed topic information for NUTS region FI1C and period 6\n"
     ]
    },
    {
     "name": "stderr",
     "output_type": "stream",
     "text": [
      "Batches: 100%|██████████| 32/32 [00:03<00:00,  9.03it/s]\n",
      "NUTS regions:  11%|█▏        | 23/203 [1:14:10<2:06:41, 42.23s/it]"
     ]
    },
    {
     "name": "stdout",
     "output_type": "stream",
     "text": [
      "Processed topic information for NUTS region FI1C and period 7\n",
      "No valid documents for NUTS region FI1C and period 8\n",
      "No valid documents for NUTS region CH06 and period 1\n",
      "No valid documents for NUTS region CH06 and period 2\n",
      "No valid documents for NUTS region CH06 and period 3\n"
     ]
    },
    {
     "name": "stderr",
     "output_type": "stream",
     "text": [
      "Batches: 100%|██████████| 53/53 [00:04<00:00, 12.92it/s]\n"
     ]
    },
    {
     "name": "stdout",
     "output_type": "stream",
     "text": [
      "Processed topic information for NUTS region CH06 and period 4\n"
     ]
    },
    {
     "name": "stderr",
     "output_type": "stream",
     "text": [
      "Batches: 100%|██████████| 80/80 [00:07<00:00, 11.23it/s]\n"
     ]
    },
    {
     "name": "stdout",
     "output_type": "stream",
     "text": [
      "Processed topic information for NUTS region CH06 and period 5\n",
      "No valid documents for NUTS region CH06 and period 6\n",
      "No valid documents for NUTS region CH06 and period 7\n"
     ]
    },
    {
     "name": "stderr",
     "output_type": "stream",
     "text": [
      "NUTS regions:  12%|█▏        | 24/203 [1:14:31<1:47:23, 36.00s/it]"
     ]
    },
    {
     "name": "stdout",
     "output_type": "stream",
     "text": [
      "No valid documents for NUTS region CH06 and period 8\n",
      "No valid documents for NUTS region CH04 and period 1\n",
      "No valid documents for NUTS region CH04 and period 2\n",
      "No valid documents for NUTS region CH04 and period 3\n"
     ]
    },
    {
     "name": "stderr",
     "output_type": "stream",
     "text": [
      "Batches: 100%|██████████| 87/87 [00:05<00:00, 14.78it/s]\n"
     ]
    },
    {
     "name": "stdout",
     "output_type": "stream",
     "text": [
      "Processed topic information for NUTS region CH04 and period 4\n"
     ]
    },
    {
     "name": "stderr",
     "output_type": "stream",
     "text": [
      "Batches: 100%|██████████| 105/105 [00:08<00:00, 12.29it/s]\n"
     ]
    },
    {
     "name": "stdout",
     "output_type": "stream",
     "text": [
      "Processed topic information for NUTS region CH04 and period 5\n"
     ]
    },
    {
     "name": "stderr",
     "output_type": "stream",
     "text": [
      "Batches: 100%|██████████| 141/141 [00:16<00:00,  8.36it/s]\n"
     ]
    },
    {
     "name": "stdout",
     "output_type": "stream",
     "text": [
      "Processed topic information for NUTS region CH04 and period 6\n"
     ]
    },
    {
     "name": "stderr",
     "output_type": "stream",
     "text": [
      "Batches: 100%|██████████| 139/139 [00:15<00:00,  8.92it/s]\n",
      "NUTS regions:  12%|█▏        | 25/203 [1:15:40<2:16:27, 45.99s/it]"
     ]
    },
    {
     "name": "stdout",
     "output_type": "stream",
     "text": [
      "Processed topic information for NUTS region CH04 and period 7\n",
      "No valid documents for NUTS region CH04 and period 8\n",
      "No valid documents for NUTS region CH02 and period 1\n",
      "No valid documents for NUTS region CH02 and period 2\n",
      "No valid documents for NUTS region CH02 and period 3\n"
     ]
    },
    {
     "name": "stderr",
     "output_type": "stream",
     "text": [
      "Batches: 100%|██████████| 84/84 [00:10<00:00,  8.21it/s]\n"
     ]
    },
    {
     "name": "stdout",
     "output_type": "stream",
     "text": [
      "Processed topic information for NUTS region CH02 and period 4\n"
     ]
    },
    {
     "name": "stderr",
     "output_type": "stream",
     "text": [
      "Batches: 100%|██████████| 107/107 [00:13<00:00,  7.83it/s]\n"
     ]
    },
    {
     "name": "stdout",
     "output_type": "stream",
     "text": [
      "Processed topic information for NUTS region CH02 and period 5\n"
     ]
    },
    {
     "name": "stderr",
     "output_type": "stream",
     "text": [
      "Batches: 100%|██████████| 133/133 [00:24<00:00,  5.48it/s]\n"
     ]
    },
    {
     "name": "stdout",
     "output_type": "stream",
     "text": [
      "Processed topic information for NUTS region CH02 and period 6\n"
     ]
    },
    {
     "name": "stderr",
     "output_type": "stream",
     "text": [
      "Batches: 100%|██████████| 137/137 [01:01<00:00,  2.21it/s]\n",
      "NUTS regions:  13%|█▎        | 26/203 [1:17:52<3:31:04, 71.55s/it]"
     ]
    },
    {
     "name": "stdout",
     "output_type": "stream",
     "text": [
      "Processed topic information for NUTS region CH02 and period 7\n",
      "No valid documents for NUTS region CH02 and period 8\n",
      "No valid documents for NUTS region DE92 and period 1\n",
      "No valid documents for NUTS region DE92 and period 2\n",
      "No valid documents for NUTS region DE92 and period 3\n"
     ]
    },
    {
     "name": "stderr",
     "output_type": "stream",
     "text": [
      "Batches: 100%|██████████| 71/71 [00:34<00:00,  2.05it/s]\n"
     ]
    },
    {
     "name": "stdout",
     "output_type": "stream",
     "text": [
      "Processed topic information for NUTS region DE92 and period 4\n"
     ]
    },
    {
     "name": "stderr",
     "output_type": "stream",
     "text": [
      "Batches: 100%|██████████| 91/91 [00:41<00:00,  2.18it/s]\n"
     ]
    },
    {
     "name": "stdout",
     "output_type": "stream",
     "text": [
      "Processed topic information for NUTS region DE92 and period 5\n"
     ]
    },
    {
     "name": "stderr",
     "output_type": "stream",
     "text": [
      "Batches: 100%|██████████| 113/113 [00:20<00:00,  5.41it/s]\n"
     ]
    },
    {
     "name": "stdout",
     "output_type": "stream",
     "text": [
      "Processed topic information for NUTS region DE92 and period 6\n"
     ]
    },
    {
     "name": "stderr",
     "output_type": "stream",
     "text": [
      "Batches: 100%|██████████| 111/111 [00:31<00:00,  3.55it/s]\n",
      "NUTS regions:  13%|█▎        | 27/203 [1:20:30<4:46:20, 97.62s/it]"
     ]
    },
    {
     "name": "stdout",
     "output_type": "stream",
     "text": [
      "Processed topic information for NUTS region DE92 and period 7\n",
      "No valid documents for NUTS region DE92 and period 8\n",
      "No valid documents for NUTS region DEA4 and period 1\n",
      "No valid documents for NUTS region DEA4 and period 2\n",
      "No valid documents for NUTS region DEA4 and period 3\n"
     ]
    },
    {
     "name": "stderr",
     "output_type": "stream",
     "text": [
      "Batches: 100%|██████████| 66/66 [00:24<00:00,  2.68it/s]\n"
     ]
    },
    {
     "name": "stdout",
     "output_type": "stream",
     "text": [
      "Processed topic information for NUTS region DEA4 and period 4\n"
     ]
    },
    {
     "name": "stderr",
     "output_type": "stream",
     "text": [
      "Batches: 100%|██████████| 85/85 [00:34<00:00,  2.48it/s]\n"
     ]
    },
    {
     "name": "stdout",
     "output_type": "stream",
     "text": [
      "Processed topic information for NUTS region DEA4 and period 5\n"
     ]
    },
    {
     "name": "stderr",
     "output_type": "stream",
     "text": [
      "Batches: 100%|██████████| 137/137 [00:55<00:00,  2.49it/s]\n",
      "NUTS regions:  14%|█▍        | 28/203 [1:22:40<5:12:36, 107.18s/it]"
     ]
    },
    {
     "name": "stdout",
     "output_type": "stream",
     "text": [
      "Processed topic information for NUTS region DEA4 and period 6\n",
      "No valid documents for NUTS region DEA4 and period 7\n",
      "No valid documents for NUTS region DEA4 and period 8\n",
      "No valid documents for NUTS region DE13 and period 1\n",
      "No valid documents for NUTS region DE13 and period 2\n",
      "No valid documents for NUTS region DE13 and period 3\n"
     ]
    },
    {
     "name": "stderr",
     "output_type": "stream",
     "text": [
      "Batches: 100%|██████████| 139/139 [01:53<00:00,  1.22it/s]\n"
     ]
    },
    {
     "name": "stdout",
     "output_type": "stream",
     "text": [
      "Processed topic information for NUTS region DE13 and period 4\n"
     ]
    },
    {
     "name": "stderr",
     "output_type": "stream",
     "text": [
      "Batches: 100%|██████████| 173/173 [01:25<00:00,  2.02it/s]\n"
     ]
    },
    {
     "name": "stdout",
     "output_type": "stream",
     "text": [
      "Processed topic information for NUTS region DE13 and period 5\n"
     ]
    },
    {
     "name": "stderr",
     "output_type": "stream",
     "text": [
      "Batches: 100%|██████████| 215/215 [00:17<00:00, 12.19it/s]\n"
     ]
    },
    {
     "name": "stdout",
     "output_type": "stream",
     "text": [
      "Processed topic information for NUTS region DE13 and period 6\n"
     ]
    },
    {
     "name": "stderr",
     "output_type": "stream",
     "text": [
      "Batches: 100%|██████████| 179/179 [00:20<00:00,  8.55it/s]\n",
      "NUTS regions:  14%|█▍        | 29/203 [1:26:55<7:20:07, 151.77s/it]"
     ]
    },
    {
     "name": "stdout",
     "output_type": "stream",
     "text": [
      "Processed topic information for NUTS region DE13 and period 7\n",
      "No valid documents for NUTS region DE13 and period 8\n",
      "No valid documents for NUTS region DE21 and period 1\n",
      "No valid documents for NUTS region DE21 and period 2\n",
      "No valid documents for NUTS region DE21 and period 3\n"
     ]
    },
    {
     "name": "stderr",
     "output_type": "stream",
     "text": [
      "Batches: 100%|██████████| 736/736 [01:18<00:00,  9.38it/s]\n"
     ]
    },
    {
     "name": "stdout",
     "output_type": "stream",
     "text": [
      "Processed topic information for NUTS region DE21 and period 4\n"
     ]
    },
    {
     "name": "stderr",
     "output_type": "stream",
     "text": [
      "Batches: 100%|██████████| 802/802 [01:16<00:00, 10.53it/s]\n"
     ]
    },
    {
     "name": "stdout",
     "output_type": "stream",
     "text": [
      "Processed topic information for NUTS region DE21 and period 5\n"
     ]
    },
    {
     "name": "stderr",
     "output_type": "stream",
     "text": [
      "Batches: 100%|██████████| 817/817 [01:31<00:00,  8.97it/s]\n"
     ]
    },
    {
     "name": "stdout",
     "output_type": "stream",
     "text": [
      "Processed topic information for NUTS region DE21 and period 6\n"
     ]
    },
    {
     "name": "stderr",
     "output_type": "stream",
     "text": [
      "Batches: 100%|██████████| 806/806 [04:28<00:00,  3.00it/s]\n",
      "NUTS regions:  15%|█▍        | 30/203 [1:36:16<13:11:08, 274.38s/it]"
     ]
    },
    {
     "name": "stdout",
     "output_type": "stream",
     "text": [
      "Processed topic information for NUTS region DE21 and period 7\n",
      "No valid documents for NUTS region DE21 and period 8\n",
      "No valid documents for NUTS region DE25 and period 1\n",
      "No valid documents for NUTS region DE25 and period 2\n",
      "No valid documents for NUTS region DE25 and period 3\n"
     ]
    },
    {
     "name": "stderr",
     "output_type": "stream",
     "text": [
      "Batches: 100%|██████████| 124/124 [00:36<00:00,  3.37it/s]\n"
     ]
    },
    {
     "name": "stdout",
     "output_type": "stream",
     "text": [
      "Processed topic information for NUTS region DE25 and period 4\n"
     ]
    },
    {
     "name": "stderr",
     "output_type": "stream",
     "text": [
      "Batches: 100%|██████████| 170/170 [01:02<00:00,  2.73it/s]\n"
     ]
    },
    {
     "name": "stdout",
     "output_type": "stream",
     "text": [
      "Processed topic information for NUTS region DE25 and period 5\n"
     ]
    },
    {
     "name": "stderr",
     "output_type": "stream",
     "text": [
      "Batches: 100%|██████████| 229/229 [00:38<00:00,  5.88it/s]\n"
     ]
    },
    {
     "name": "stdout",
     "output_type": "stream",
     "text": [
      "Processed topic information for NUTS region DE25 and period 6\n"
     ]
    },
    {
     "name": "stderr",
     "output_type": "stream",
     "text": [
      "Batches: 100%|██████████| 213/213 [00:51<00:00,  4.10it/s]\n",
      "NUTS regions:  15%|█▌        | 31/203 [1:39:50<12:14:47, 256.32s/it]"
     ]
    },
    {
     "name": "stdout",
     "output_type": "stream",
     "text": [
      "Processed topic information for NUTS region DE25 and period 7\n",
      "No valid documents for NUTS region DE25 and period 8\n",
      "No valid documents for NUTS region DED2 and period 1\n",
      "No valid documents for NUTS region DED2 and period 2\n",
      "No valid documents for NUTS region DED2 and period 3\n"
     ]
    },
    {
     "name": "stderr",
     "output_type": "stream",
     "text": [
      "Batches: 100%|██████████| 31/31 [00:20<00:00,  1.50it/s]\n"
     ]
    },
    {
     "name": "stdout",
     "output_type": "stream",
     "text": [
      "Processed topic information for NUTS region DED2 and period 4\n"
     ]
    },
    {
     "name": "stderr",
     "output_type": "stream",
     "text": [
      "Batches: 100%|██████████| 44/44 [00:14<00:00,  3.04it/s]\n"
     ]
    },
    {
     "name": "stdout",
     "output_type": "stream",
     "text": [
      "Processed topic information for NUTS region DED2 and period 5\n"
     ]
    },
    {
     "name": "stderr",
     "output_type": "stream",
     "text": [
      "Batches: 100%|██████████| 50/50 [00:21<00:00,  2.36it/s]\n"
     ]
    },
    {
     "name": "stdout",
     "output_type": "stream",
     "text": [
      "Processed topic information for NUTS region DED2 and period 6\n"
     ]
    },
    {
     "name": "stderr",
     "output_type": "stream",
     "text": [
      "Batches: 100%|██████████| 48/48 [00:21<00:00,  2.28it/s]\n",
      "NUTS regions:  16%|█▌        | 32/203 [1:41:21<9:49:36, 206.88s/it] "
     ]
    },
    {
     "name": "stdout",
     "output_type": "stream",
     "text": [
      "Processed topic information for NUTS region DED2 and period 7\n",
      "No valid documents for NUTS region DED2 and period 8\n",
      "No valid documents for NUTS region DE14 and period 1\n",
      "No valid documents for NUTS region DE14 and period 2\n",
      "No valid documents for NUTS region DE14 and period 3\n"
     ]
    },
    {
     "name": "stderr",
     "output_type": "stream",
     "text": [
      "Batches: 100%|██████████| 108/108 [00:55<00:00,  1.95it/s]\n"
     ]
    },
    {
     "name": "stdout",
     "output_type": "stream",
     "text": [
      "Processed topic information for NUTS region DE14 and period 4\n"
     ]
    },
    {
     "name": "stderr",
     "output_type": "stream",
     "text": [
      "Batches: 100%|██████████| 163/163 [00:57<00:00,  2.81it/s]\n"
     ]
    },
    {
     "name": "stdout",
     "output_type": "stream",
     "text": [
      "Processed topic information for NUTS region DE14 and period 5\n"
     ]
    },
    {
     "name": "stderr",
     "output_type": "stream",
     "text": [
      "Batches: 100%|██████████| 206/206 [00:20<00:00,  9.94it/s]\n"
     ]
    },
    {
     "name": "stdout",
     "output_type": "stream",
     "text": [
      "Processed topic information for NUTS region DE14 and period 6\n"
     ]
    },
    {
     "name": "stderr",
     "output_type": "stream",
     "text": [
      "Batches: 100%|██████████| 161/161 [00:11<00:00, 14.51it/s]\n",
      "NUTS regions:  16%|█▋        | 33/203 [1:44:07<9:11:08, 194.52s/it]"
     ]
    },
    {
     "name": "stdout",
     "output_type": "stream",
     "text": [
      "Processed topic information for NUTS region DE14 and period 7\n",
      "No valid documents for NUTS region DE14 and period 8\n",
      "No valid documents for NUTS region DE93 and period 1\n",
      "No valid documents for NUTS region DE93 and period 2\n",
      "No valid documents for NUTS region DE93 and period 3\n"
     ]
    },
    {
     "name": "stderr",
     "output_type": "stream",
     "text": [
      "Batches: 100%|██████████| 36/36 [00:03<00:00,  9.93it/s]\n"
     ]
    },
    {
     "name": "stdout",
     "output_type": "stream",
     "text": [
      "Processed topic information for NUTS region DE93 and period 4\n"
     ]
    },
    {
     "name": "stderr",
     "output_type": "stream",
     "text": [
      "Batches: 100%|██████████| 49/49 [00:01<00:00, 29.77it/s]\n"
     ]
    },
    {
     "name": "stdout",
     "output_type": "stream",
     "text": [
      "Processed topic information for NUTS region DE93 and period 5\n",
      "No valid documents for NUTS region DE93 and period 6\n",
      "No valid documents for NUTS region DE93 and period 7\n"
     ]
    },
    {
     "name": "stderr",
     "output_type": "stream",
     "text": [
      "NUTS regions:  17%|█▋        | 34/203 [1:44:21<6:35:09, 140.29s/it]"
     ]
    },
    {
     "name": "stdout",
     "output_type": "stream",
     "text": [
      "No valid documents for NUTS region DE93 and period 8\n",
      "No valid documents for NUTS region ITC4 and period 1\n",
      "No valid documents for NUTS region ITC4 and period 2\n",
      "No valid documents for NUTS region ITC4 and period 3\n"
     ]
    },
    {
     "name": "stderr",
     "output_type": "stream",
     "text": [
      "Batches: 100%|██████████| 202/202 [00:24<00:00,  8.25it/s]\n"
     ]
    },
    {
     "name": "stdout",
     "output_type": "stream",
     "text": [
      "Processed topic information for NUTS region ITC4 and period 4\n"
     ]
    },
    {
     "name": "stderr",
     "output_type": "stream",
     "text": [
      "Batches: 100%|██████████| 239/239 [00:25<00:00,  9.26it/s]\n"
     ]
    },
    {
     "name": "stdout",
     "output_type": "stream",
     "text": [
      "Processed topic information for NUTS region ITC4 and period 5\n"
     ]
    },
    {
     "name": "stderr",
     "output_type": "stream",
     "text": [
      "Batches: 100%|██████████| 238/238 [00:30<00:00,  7.85it/s]\n"
     ]
    },
    {
     "name": "stdout",
     "output_type": "stream",
     "text": [
      "Processed topic information for NUTS region ITC4 and period 6\n"
     ]
    },
    {
     "name": "stderr",
     "output_type": "stream",
     "text": [
      "Batches: 100%|██████████| 252/252 [00:31<00:00,  8.11it/s]\n",
      "c:\\Users\\user\\anaconda3\\envs\\bertopic_2\\lib\\site-packages\\hdbscan\\prediction.py:658: RuntimeWarning: All-NaN slice encountered\n",
      "  outlier_vecs = all_points_outlier_membership_vector(\n",
      "c:\\Users\\user\\anaconda3\\envs\\bertopic_2\\lib\\site-packages\\hdbscan\\prediction.py:663: RuntimeWarning: invalid value encountered in scalar divide\n",
      "  in_cluster_probs = all_points_prob_in_some_cluster(\n",
      "NUTS regions:  17%|█▋        | 35/203 [1:46:32<6:25:14, 137.58s/it]"
     ]
    },
    {
     "name": "stdout",
     "output_type": "stream",
     "text": [
      "Processed topic information for NUTS region ITC4 and period 7\n",
      "No valid documents for NUTS region ITC4 and period 8\n",
      "No valid documents for NUTS region FR82 and period 1\n",
      "No valid documents for NUTS region FR82 and period 2\n",
      "No valid documents for NUTS region FR82 and period 3\n"
     ]
    },
    {
     "name": "stderr",
     "output_type": "stream",
     "text": [
      "Batches: 100%|██████████| 49/49 [00:04<00:00, 11.65it/s]\n"
     ]
    },
    {
     "name": "stdout",
     "output_type": "stream",
     "text": [
      "Processed topic information for NUTS region FR82 and period 4\n"
     ]
    },
    {
     "name": "stderr",
     "output_type": "stream",
     "text": [
      "Batches: 100%|██████████| 60/60 [00:06<00:00,  8.96it/s]\n"
     ]
    },
    {
     "name": "stdout",
     "output_type": "stream",
     "text": [
      "Processed topic information for NUTS region FR82 and period 5\n"
     ]
    },
    {
     "name": "stderr",
     "output_type": "stream",
     "text": [
      "Batches: 100%|██████████| 78/78 [00:03<00:00, 25.07it/s]\n"
     ]
    },
    {
     "name": "stdout",
     "output_type": "stream",
     "text": [
      "Processed topic information for NUTS region FR82 and period 6\n"
     ]
    },
    {
     "name": "stderr",
     "output_type": "stream",
     "text": [
      "Batches: 100%|██████████| 88/88 [00:10<00:00,  8.10it/s]\n",
      "NUTS regions:  18%|█▊        | 36/203 [1:47:17<5:05:46, 109.86s/it]"
     ]
    },
    {
     "name": "stdout",
     "output_type": "stream",
     "text": [
      "Processed topic information for NUTS region FR82 and period 7\n",
      "No valid documents for NUTS region FR82 and period 8\n",
      "No valid documents for NUTS region FR21 and period 1\n",
      "No valid documents for NUTS region FR21 and period 2\n",
      "No valid documents for NUTS region FR21 and period 3\n"
     ]
    },
    {
     "name": "stderr",
     "output_type": "stream",
     "text": [
      "Batches: 100%|██████████| 12/12 [00:00<00:00, 32.54it/s]\n"
     ]
    },
    {
     "name": "stdout",
     "output_type": "stream",
     "text": [
      "Processed topic information for NUTS region FR21 and period 4\n"
     ]
    },
    {
     "name": "stderr",
     "output_type": "stream",
     "text": [
      "Batches: 100%|██████████| 12/12 [00:03<00:00,  3.35it/s]\n"
     ]
    },
    {
     "name": "stdout",
     "output_type": "stream",
     "text": [
      "Processed topic information for NUTS region FR21 and period 5\n"
     ]
    },
    {
     "name": "stderr",
     "output_type": "stream",
     "text": [
      "Batches: 100%|██████████| 14/14 [00:06<00:00,  2.06it/s]\n",
      "NUTS regions:  18%|█▊        | 37/203 [1:47:38<3:49:31, 82.96s/it] "
     ]
    },
    {
     "name": "stdout",
     "output_type": "stream",
     "text": [
      "Processed topic information for NUTS region FR21 and period 6\n",
      "No valid documents for NUTS region FR21 and period 7\n",
      "No valid documents for NUTS region FR21 and period 8\n",
      "No valid documents for NUTS region DEB1 and period 1\n",
      "No valid documents for NUTS region DEB1 and period 2\n",
      "No valid documents for NUTS region DEB1 and period 3\n"
     ]
    },
    {
     "name": "stderr",
     "output_type": "stream",
     "text": [
      "Batches: 100%|██████████| 47/47 [00:07<00:00,  6.07it/s]\n"
     ]
    },
    {
     "name": "stdout",
     "output_type": "stream",
     "text": [
      "Processed topic information for NUTS region DEB1 and period 4\n"
     ]
    },
    {
     "name": "stderr",
     "output_type": "stream",
     "text": [
      "Batches: 100%|██████████| 57/57 [00:17<00:00,  3.34it/s]\n"
     ]
    },
    {
     "name": "stdout",
     "output_type": "stream",
     "text": [
      "Processed topic information for NUTS region DEB1 and period 5\n",
      "No valid documents for NUTS region DEB1 and period 6\n",
      "No valid documents for NUTS region DEB1 and period 7\n"
     ]
    },
    {
     "name": "stderr",
     "output_type": "stream",
     "text": [
      "NUTS regions:  19%|█▊        | 38/203 [1:48:11<3:07:21, 68.13s/it]"
     ]
    },
    {
     "name": "stdout",
     "output_type": "stream",
     "text": [
      "No valid documents for NUTS region DEB1 and period 8\n",
      "No valid documents for NUTS region FR71 and period 1\n",
      "No valid documents for NUTS region FR71 and period 2\n"
     ]
    },
    {
     "name": "stderr",
     "output_type": "stream",
     "text": [
      "Batches: 100%|██████████| 116/116 [00:50<00:00,  2.30it/s]\n"
     ]
    },
    {
     "name": "stdout",
     "output_type": "stream",
     "text": [
      "Processed topic information for NUTS region FR71 and period 3\n"
     ]
    },
    {
     "name": "stderr",
     "output_type": "stream",
     "text": [
      "Batches: 100%|██████████| 162/162 [00:30<00:00,  5.28it/s]\n"
     ]
    },
    {
     "name": "stdout",
     "output_type": "stream",
     "text": [
      "Processed topic information for NUTS region FR71 and period 4\n"
     ]
    },
    {
     "name": "stderr",
     "output_type": "stream",
     "text": [
      "Batches: 100%|██████████| 195/195 [00:41<00:00,  4.70it/s]\n"
     ]
    },
    {
     "name": "stdout",
     "output_type": "stream",
     "text": [
      "Processed topic information for NUTS region FR71 and period 5\n"
     ]
    },
    {
     "name": "stderr",
     "output_type": "stream",
     "text": [
      "Batches: 100%|██████████| 276/276 [01:21<00:00,  3.38it/s]\n"
     ]
    },
    {
     "name": "stdout",
     "output_type": "stream",
     "text": [
      "Processed topic information for NUTS region FR71 and period 6\n"
     ]
    },
    {
     "name": "stderr",
     "output_type": "stream",
     "text": [
      "Batches: 100%|██████████| 306/306 [01:47<00:00,  2.86it/s]\n",
      "NUTS regions:  19%|█▉        | 39/203 [1:53:51<6:49:05, 149.66s/it]"
     ]
    },
    {
     "name": "stdout",
     "output_type": "stream",
     "text": [
      "Processed topic information for NUTS region FR71 and period 7\n",
      "No valid documents for NUTS region FR71 and period 8\n",
      "No valid documents for NUTS region SE12 and period 1\n",
      "No valid documents for NUTS region SE12 and period 2\n",
      "No valid documents for NUTS region SE12 and period 3\n"
     ]
    },
    {
     "name": "stderr",
     "output_type": "stream",
     "text": [
      "Batches: 100%|██████████| 48/48 [00:17<00:00,  2.75it/s]\n"
     ]
    },
    {
     "name": "stdout",
     "output_type": "stream",
     "text": [
      "Processed topic information for NUTS region SE12 and period 4\n"
     ]
    },
    {
     "name": "stderr",
     "output_type": "stream",
     "text": [
      "Batches: 100%|██████████| 56/56 [00:19<00:00,  2.82it/s]\n"
     ]
    },
    {
     "name": "stdout",
     "output_type": "stream",
     "text": [
      "Processed topic information for NUTS region SE12 and period 5\n"
     ]
    },
    {
     "name": "stderr",
     "output_type": "stream",
     "text": [
      "Batches: 100%|██████████| 78/78 [00:58<00:00,  1.34it/s]\n"
     ]
    },
    {
     "name": "stdout",
     "output_type": "stream",
     "text": [
      "Processed topic information for NUTS region SE12 and period 6\n"
     ]
    },
    {
     "name": "stderr",
     "output_type": "stream",
     "text": [
      "Batches: 100%|██████████| 101/101 [00:13<00:00,  7.44it/s]\n",
      "NUTS regions:  20%|█▉        | 40/203 [1:56:01<6:30:53, 143.89s/it]"
     ]
    },
    {
     "name": "stdout",
     "output_type": "stream",
     "text": [
      "Processed topic information for NUTS region SE12 and period 7\n",
      "No valid documents for NUTS region SE12 and period 8\n",
      "No valid documents for NUTS region NL33 and period 1\n",
      "No valid documents for NUTS region NL33 and period 2\n",
      "No valid documents for NUTS region NL33 and period 3\n"
     ]
    },
    {
     "name": "stderr",
     "output_type": "stream",
     "text": [
      "Batches: 100%|██████████| 101/101 [00:08<00:00, 11.78it/s]\n"
     ]
    },
    {
     "name": "stdout",
     "output_type": "stream",
     "text": [
      "Processed topic information for NUTS region NL33 and period 4\n"
     ]
    },
    {
     "name": "stderr",
     "output_type": "stream",
     "text": [
      "Batches: 100%|██████████| 118/118 [00:09<00:00, 12.66it/s]\n"
     ]
    },
    {
     "name": "stdout",
     "output_type": "stream",
     "text": [
      "Processed topic information for NUTS region NL33 and period 5\n"
     ]
    },
    {
     "name": "stderr",
     "output_type": "stream",
     "text": [
      "Batches: 100%|██████████| 136/136 [00:09<00:00, 13.62it/s]\n"
     ]
    },
    {
     "name": "stdout",
     "output_type": "stream",
     "text": [
      "Processed topic information for NUTS region NL33 and period 6\n"
     ]
    },
    {
     "name": "stderr",
     "output_type": "stream",
     "text": [
      "Batches: 100%|██████████| 137/137 [00:14<00:00,  9.56it/s]\n",
      "NUTS regions:  20%|██        | 41/203 [1:57:09<5:26:26, 120.90s/it]"
     ]
    },
    {
     "name": "stdout",
     "output_type": "stream",
     "text": [
      "Processed topic information for NUTS region NL33 and period 7\n",
      "No valid documents for NUTS region NL33 and period 8\n",
      "No valid documents for NUTS region CH05 and period 1\n",
      "No valid documents for NUTS region CH05 and period 2\n",
      "No valid documents for NUTS region CH05 and period 3\n"
     ]
    },
    {
     "name": "stderr",
     "output_type": "stream",
     "text": [
      "Batches: 100%|██████████| 67/67 [00:07<00:00,  9.32it/s]\n"
     ]
    },
    {
     "name": "stdout",
     "output_type": "stream",
     "text": [
      "Processed topic information for NUTS region CH05 and period 4\n"
     ]
    },
    {
     "name": "stderr",
     "output_type": "stream",
     "text": [
      "Batches: 100%|██████████| 78/78 [00:05<00:00, 14.82it/s]\n"
     ]
    },
    {
     "name": "stdout",
     "output_type": "stream",
     "text": [
      "Processed topic information for NUTS region CH05 and period 5\n"
     ]
    },
    {
     "name": "stderr",
     "output_type": "stream",
     "text": [
      "Batches: 100%|██████████| 107/107 [00:10<00:00,  9.91it/s]\n",
      "NUTS regions:  21%|██        | 42/203 [1:57:52<4:22:03, 97.66s/it] "
     ]
    },
    {
     "name": "stdout",
     "output_type": "stream",
     "text": [
      "Processed topic information for NUTS region CH05 and period 6\n",
      "No valid documents for NUTS region CH05 and period 7\n",
      "No valid documents for NUTS region CH05 and period 8\n",
      "No valid documents for NUTS region BE25 and period 1\n",
      "No valid documents for NUTS region BE25 and period 2\n",
      "No valid documents for NUTS region BE25 and period 3\n"
     ]
    },
    {
     "name": "stderr",
     "output_type": "stream",
     "text": [
      "Batches: 100%|██████████| 21/21 [00:00<00:00, 28.39it/s]\n"
     ]
    },
    {
     "name": "stdout",
     "output_type": "stream",
     "text": [
      "Processed topic information for NUTS region BE25 and period 4\n"
     ]
    },
    {
     "name": "stderr",
     "output_type": "stream",
     "text": [
      "Batches: 100%|██████████| 25/25 [00:00<00:00, 30.63it/s]\n"
     ]
    },
    {
     "name": "stdout",
     "output_type": "stream",
     "text": [
      "Processed topic information for NUTS region BE25 and period 5\n",
      "No valid documents for NUTS region BE25 and period 6\n",
      "No valid documents for NUTS region BE25 and period 7\n"
     ]
    },
    {
     "name": "stderr",
     "output_type": "stream",
     "text": [
      "NUTS regions:  21%|██        | 43/203 [1:58:01<3:09:47, 71.17s/it]"
     ]
    },
    {
     "name": "stdout",
     "output_type": "stream",
     "text": [
      "No valid documents for NUTS region BE25 and period 8\n",
      "No valid documents for NUTS region AT31 and period 1\n",
      "No valid documents for NUTS region AT31 and period 2\n",
      "No valid documents for NUTS region AT31 and period 3\n"
     ]
    },
    {
     "name": "stderr",
     "output_type": "stream",
     "text": [
      "Batches: 100%|██████████| 35/35 [00:03<00:00,  9.73it/s]\n"
     ]
    },
    {
     "name": "stdout",
     "output_type": "stream",
     "text": [
      "Processed topic information for NUTS region AT31 and period 4\n"
     ]
    },
    {
     "name": "stderr",
     "output_type": "stream",
     "text": [
      "Batches: 100%|██████████| 49/49 [00:04<00:00, 12.08it/s]\n"
     ]
    },
    {
     "name": "stdout",
     "output_type": "stream",
     "text": [
      "Processed topic information for NUTS region AT31 and period 5\n"
     ]
    },
    {
     "name": "stderr",
     "output_type": "stream",
     "text": [
      "Batches: 100%|██████████| 67/67 [00:07<00:00,  9.51it/s]\n",
      "NUTS regions:  22%|██▏       | 44/203 [1:58:28<2:33:19, 57.86s/it]"
     ]
    },
    {
     "name": "stdout",
     "output_type": "stream",
     "text": [
      "Processed topic information for NUTS region AT31 and period 6\n",
      "No valid documents for NUTS region AT31 and period 7\n",
      "No valid documents for NUTS region AT31 and period 8\n",
      "No valid documents for NUTS region DE12 and period 1\n",
      "No valid documents for NUTS region DE12 and period 2\n",
      "No valid documents for NUTS region DE12 and period 3\n"
     ]
    },
    {
     "name": "stderr",
     "output_type": "stream",
     "text": [
      "Batches: 100%|██████████| 232/232 [00:21<00:00, 10.97it/s]\n"
     ]
    },
    {
     "name": "stdout",
     "output_type": "stream",
     "text": [
      "Processed topic information for NUTS region DE12 and period 4\n"
     ]
    },
    {
     "name": "stderr",
     "output_type": "stream",
     "text": [
      "Batches: 100%|██████████| 312/312 [00:30<00:00, 10.19it/s]\n"
     ]
    },
    {
     "name": "stdout",
     "output_type": "stream",
     "text": [
      "Processed topic information for NUTS region DE12 and period 5\n"
     ]
    },
    {
     "name": "stderr",
     "output_type": "stream",
     "text": [
      "Batches: 100%|██████████| 357/357 [00:37<00:00,  9.65it/s]\n"
     ]
    },
    {
     "name": "stdout",
     "output_type": "stream",
     "text": [
      "Processed topic information for NUTS region DE12 and period 6\n"
     ]
    },
    {
     "name": "stderr",
     "output_type": "stream",
     "text": [
      "Batches: 100%|██████████| 304/304 [01:50<00:00,  2.74it/s]\n",
      "NUTS regions:  22%|██▏       | 45/203 [2:02:10<4:41:40, 106.97s/it]"
     ]
    },
    {
     "name": "stdout",
     "output_type": "stream",
     "text": [
      "Processed topic information for NUTS region DE12 and period 7\n",
      "No valid documents for NUTS region DE12 and period 8\n",
      "No valid documents for NUTS region AT33 and period 1\n",
      "No valid documents for NUTS region AT33 and period 2\n",
      "No valid documents for NUTS region AT33 and period 3\n"
     ]
    },
    {
     "name": "stderr",
     "output_type": "stream",
     "text": [
      "Batches: 100%|██████████| 9/9 [00:03<00:00,  2.58it/s]\n"
     ]
    },
    {
     "name": "stdout",
     "output_type": "stream",
     "text": [
      "Processed topic information for NUTS region AT33 and period 4\n"
     ]
    },
    {
     "name": "stderr",
     "output_type": "stream",
     "text": [
      "Batches: 100%|██████████| 15/15 [00:00<00:00, 16.27it/s]\n"
     ]
    },
    {
     "name": "stdout",
     "output_type": "stream",
     "text": [
      "Processed topic information for NUTS region AT33 and period 5\n"
     ]
    },
    {
     "name": "stderr",
     "output_type": "stream",
     "text": [
      "Batches: 100%|██████████| 22/22 [00:03<00:00,  5.98it/s]\n",
      "NUTS regions:  23%|██▎       | 46/203 [2:02:27<3:29:37, 80.11s/it] "
     ]
    },
    {
     "name": "stdout",
     "output_type": "stream",
     "text": [
      "Processed topic information for NUTS region AT33 and period 6\n",
      "No valid documents for NUTS region AT33 and period 7\n",
      "No valid documents for NUTS region AT33 and period 8\n",
      "No valid documents for NUTS region AT32 and period 1\n",
      "No valid documents for NUTS region AT32 and period 2\n",
      "No valid documents for NUTS region AT32 and period 3\n"
     ]
    },
    {
     "name": "stderr",
     "output_type": "stream",
     "text": [
      "Batches: 100%|██████████| 8/8 [00:00<00:00,  9.71it/s]\n"
     ]
    },
    {
     "name": "stdout",
     "output_type": "stream",
     "text": [
      "Processed topic information for NUTS region AT32 and period 4\n"
     ]
    },
    {
     "name": "stderr",
     "output_type": "stream",
     "text": [
      "Batches: 100%|██████████| 12/12 [00:00<00:00, 12.67it/s]\n"
     ]
    },
    {
     "name": "stdout",
     "output_type": "stream",
     "text": [
      "Processed topic information for NUTS region AT32 and period 5\n"
     ]
    },
    {
     "name": "stderr",
     "output_type": "stream",
     "text": [
      "Batches: 100%|██████████| 15/15 [00:03<00:00,  4.03it/s]\n",
      "NUTS regions:  23%|██▎       | 47/203 [2:02:41<2:36:47, 60.31s/it]"
     ]
    },
    {
     "name": "stdout",
     "output_type": "stream",
     "text": [
      "Processed topic information for NUTS region AT32 and period 6\n",
      "No valid documents for NUTS region AT32 and period 7\n",
      "No valid documents for NUTS region AT32 and period 8\n",
      "No valid documents for NUTS region DE60 and period 1\n",
      "No valid documents for NUTS region DE60 and period 2\n",
      "No valid documents for NUTS region DE60 and period 3\n"
     ]
    },
    {
     "name": "stderr",
     "output_type": "stream",
     "text": [
      "Batches: 100%|██████████| 53/53 [00:24<00:00,  2.14it/s]\n"
     ]
    },
    {
     "name": "stdout",
     "output_type": "stream",
     "text": [
      "Processed topic information for NUTS region DE60 and period 4\n"
     ]
    },
    {
     "name": "stderr",
     "output_type": "stream",
     "text": [
      "Batches: 100%|██████████| 88/88 [01:26<00:00,  1.02it/s]\n"
     ]
    },
    {
     "name": "stdout",
     "output_type": "stream",
     "text": [
      "Processed topic information for NUTS region DE60 and period 5\n"
     ]
    },
    {
     "name": "stderr",
     "output_type": "stream",
     "text": [
      "Batches: 100%|██████████| 111/111 [00:48<00:00,  2.29it/s]\n"
     ]
    },
    {
     "name": "stdout",
     "output_type": "stream",
     "text": [
      "Processed topic information for NUTS region DE60 and period 6\n"
     ]
    },
    {
     "name": "stderr",
     "output_type": "stream",
     "text": [
      "Batches: 100%|██████████| 100/100 [00:10<00:00,  9.11it/s]\n",
      "NUTS regions:  24%|██▎       | 48/203 [2:05:59<4:22:08, 101.48s/it]"
     ]
    },
    {
     "name": "stdout",
     "output_type": "stream",
     "text": [
      "Processed topic information for NUTS region DE60 and period 7\n",
      "No valid documents for NUTS region DE60 and period 8\n",
      "No valid documents for NUTS region DEF0 and period 1\n",
      "No valid documents for NUTS region DEF0 and period 2\n",
      "No valid documents for NUTS region DEF0 and period 3\n"
     ]
    },
    {
     "name": "stderr",
     "output_type": "stream",
     "text": [
      "Batches: 100%|██████████| 54/54 [00:04<00:00, 12.97it/s]\n"
     ]
    },
    {
     "name": "stdout",
     "output_type": "stream",
     "text": [
      "Processed topic information for NUTS region DEF0 and period 4\n"
     ]
    },
    {
     "name": "stderr",
     "output_type": "stream",
     "text": [
      "Batches: 100%|██████████| 86/86 [00:02<00:00, 29.88it/s]\n"
     ]
    },
    {
     "name": "stdout",
     "output_type": "stream",
     "text": [
      "Processed topic information for NUTS region DEF0 and period 5\n"
     ]
    },
    {
     "name": "stderr",
     "output_type": "stream",
     "text": [
      "Batches: 100%|██████████| 109/109 [00:10<00:00, 10.06it/s]\n"
     ]
    },
    {
     "name": "stdout",
     "output_type": "stream",
     "text": [
      "Processed topic information for NUTS region DEF0 and period 6\n"
     ]
    },
    {
     "name": "stderr",
     "output_type": "stream",
     "text": [
      "Batches: 100%|██████████| 96/96 [00:10<00:00,  9.01it/s]\n",
      "NUTS regions:  24%|██▍       | 49/203 [2:06:54<3:45:04, 87.69s/it] "
     ]
    },
    {
     "name": "stdout",
     "output_type": "stream",
     "text": [
      "Processed topic information for NUTS region DEF0 and period 7\n",
      "No valid documents for NUTS region DEF0 and period 8\n",
      "No valid documents for NUTS region DE91 and period 1\n",
      "No valid documents for NUTS region DE91 and period 2\n",
      "No valid documents for NUTS region DE91 and period 3\n"
     ]
    },
    {
     "name": "stderr",
     "output_type": "stream",
     "text": [
      "Batches: 100%|██████████| 95/95 [00:07<00:00, 12.45it/s]\n"
     ]
    },
    {
     "name": "stdout",
     "output_type": "stream",
     "text": [
      "Processed topic information for NUTS region DE91 and period 4\n"
     ]
    },
    {
     "name": "stderr",
     "output_type": "stream",
     "text": [
      "Batches: 100%|██████████| 92/92 [00:10<00:00,  8.99it/s]\n"
     ]
    },
    {
     "name": "stdout",
     "output_type": "stream",
     "text": [
      "Processed topic information for NUTS region DE91 and period 5\n"
     ]
    },
    {
     "name": "stderr",
     "output_type": "stream",
     "text": [
      "Batches: 100%|██████████| 83/83 [00:07<00:00, 10.70it/s]\n"
     ]
    },
    {
     "name": "stdout",
     "output_type": "stream",
     "text": [
      "Processed topic information for NUTS region DE91 and period 6\n"
     ]
    },
    {
     "name": "stderr",
     "output_type": "stream",
     "text": [
      "Batches: 100%|██████████| 95/95 [00:10<00:00,  8.75it/s]\n",
      "NUTS regions:  25%|██▍       | 50/203 [2:07:58<3:24:59, 80.39s/it]"
     ]
    },
    {
     "name": "stdout",
     "output_type": "stream",
     "text": [
      "Processed topic information for NUTS region DE91 and period 7\n",
      "No valid documents for NUTS region DE91 and period 8\n",
      "No valid documents for NUTS region DEA5 and period 1\n",
      "No valid documents for NUTS region DEA5 and period 2\n",
      "No valid documents for NUTS region DEA5 and period 3\n"
     ]
    },
    {
     "name": "stderr",
     "output_type": "stream",
     "text": [
      "Batches: 100%|██████████| 115/115 [00:10<00:00, 10.49it/s]\n"
     ]
    },
    {
     "name": "stdout",
     "output_type": "stream",
     "text": [
      "Processed topic information for NUTS region DEA5 and period 4\n"
     ]
    },
    {
     "name": "stderr",
     "output_type": "stream",
     "text": [
      "Batches: 100%|██████████| 150/150 [00:14<00:00, 10.49it/s]\n"
     ]
    },
    {
     "name": "stdout",
     "output_type": "stream",
     "text": [
      "Processed topic information for NUTS region DEA5 and period 5\n"
     ]
    },
    {
     "name": "stderr",
     "output_type": "stream",
     "text": [
      "Batches: 100%|██████████| 176/176 [00:20<00:00,  8.61it/s]\n"
     ]
    },
    {
     "name": "stdout",
     "output_type": "stream",
     "text": [
      "Processed topic information for NUTS region DEA5 and period 6\n"
     ]
    },
    {
     "name": "stderr",
     "output_type": "stream",
     "text": [
      "Batches: 100%|██████████| 155/155 [00:20<00:00,  7.62it/s]\n",
      "NUTS regions:  25%|██▌       | 51/203 [2:09:24<3:28:18, 82.23s/it]"
     ]
    },
    {
     "name": "stdout",
     "output_type": "stream",
     "text": [
      "Processed topic information for NUTS region DEA5 and period 7\n",
      "No valid documents for NUTS region DEA5 and period 8\n",
      "No valid documents for NUTS region DEA3 and period 1\n",
      "No valid documents for NUTS region DEA3 and period 2\n",
      "No valid documents for NUTS region DEA3 and period 3\n"
     ]
    },
    {
     "name": "stderr",
     "output_type": "stream",
     "text": [
      "Batches: 100%|██████████| 71/71 [00:07<00:00,  9.13it/s]\n"
     ]
    },
    {
     "name": "stdout",
     "output_type": "stream",
     "text": [
      "Processed topic information for NUTS region DEA3 and period 4\n"
     ]
    },
    {
     "name": "stderr",
     "output_type": "stream",
     "text": [
      "Batches: 100%|██████████| 96/96 [00:38<00:00,  2.52it/s]\n"
     ]
    },
    {
     "name": "stdout",
     "output_type": "stream",
     "text": [
      "Processed topic information for NUTS region DEA3 and period 5\n"
     ]
    },
    {
     "name": "stderr",
     "output_type": "stream",
     "text": [
      "Batches: 100%|██████████| 112/112 [00:55<00:00,  2.01it/s]\n",
      "NUTS regions:  26%|██▌       | 52/203 [2:11:28<3:58:16, 94.68s/it]"
     ]
    },
    {
     "name": "stdout",
     "output_type": "stream",
     "text": [
      "Processed topic information for NUTS region DEA3 and period 6\n",
      "No valid documents for NUTS region DEA3 and period 7\n",
      "No valid documents for NUTS region DEA3 and period 8\n",
      "No valid documents for NUTS region AT13 and period 1\n",
      "No valid documents for NUTS region AT13 and period 2\n",
      "No valid documents for NUTS region AT13 and period 3\n"
     ]
    },
    {
     "name": "stderr",
     "output_type": "stream",
     "text": [
      "Batches: 100%|██████████| 36/36 [00:10<00:00,  3.38it/s]\n"
     ]
    },
    {
     "name": "stdout",
     "output_type": "stream",
     "text": [
      "Processed topic information for NUTS region AT13 and period 4\n"
     ]
    },
    {
     "name": "stderr",
     "output_type": "stream",
     "text": [
      "Batches: 100%|██████████| 53/53 [00:27<00:00,  1.90it/s]\n"
     ]
    },
    {
     "name": "stdout",
     "output_type": "stream",
     "text": [
      "Processed topic information for NUTS region AT13 and period 5\n"
     ]
    },
    {
     "name": "stderr",
     "output_type": "stream",
     "text": [
      "Batches: 100%|██████████| 56/56 [00:24<00:00,  2.31it/s]\n"
     ]
    },
    {
     "name": "stdout",
     "output_type": "stream",
     "text": [
      "Processed topic information for NUTS region AT13 and period 6\n"
     ]
    },
    {
     "name": "stderr",
     "output_type": "stream",
     "text": [
      "Batches: 100%|██████████| 63/63 [00:21<00:00,  2.95it/s]\n",
      "NUTS regions:  26%|██▌       | 53/203 [2:13:09<4:01:04, 96.43s/it]"
     ]
    },
    {
     "name": "stdout",
     "output_type": "stream",
     "text": [
      "Processed topic information for NUTS region AT13 and period 7\n",
      "No valid documents for NUTS region AT13 and period 8\n",
      "No valid documents for NUTS region DE30 and period 1\n",
      "No valid documents for NUTS region DE30 and period 2\n",
      "No valid documents for NUTS region DE30 and period 3\n"
     ]
    },
    {
     "name": "stderr",
     "output_type": "stream",
     "text": [
      "Batches: 100%|██████████| 75/75 [00:24<00:00,  3.09it/s]\n"
     ]
    },
    {
     "name": "stdout",
     "output_type": "stream",
     "text": [
      "Processed topic information for NUTS region DE30 and period 4\n"
     ]
    },
    {
     "name": "stderr",
     "output_type": "stream",
     "text": [
      "Batches: 100%|██████████| 94/94 [00:55<00:00,  1.70it/s]\n"
     ]
    },
    {
     "name": "stdout",
     "output_type": "stream",
     "text": [
      "Processed topic information for NUTS region DE30 and period 5\n"
     ]
    },
    {
     "name": "stderr",
     "output_type": "stream",
     "text": [
      "Batches: 100%|██████████| 114/114 [00:42<00:00,  2.71it/s]\n"
     ]
    },
    {
     "name": "stdout",
     "output_type": "stream",
     "text": [
      "Processed topic information for NUTS region DE30 and period 6\n"
     ]
    },
    {
     "name": "stderr",
     "output_type": "stream",
     "text": [
      "Batches: 100%|██████████| 118/118 [00:14<00:00,  8.30it/s]\n",
      "NUTS regions:  27%|██▋       | 54/203 [2:15:55<4:51:49, 117.51s/it]"
     ]
    },
    {
     "name": "stdout",
     "output_type": "stream",
     "text": [
      "Processed topic information for NUTS region DE30 and period 7\n",
      "No valid documents for NUTS region DE30 and period 8\n",
      "No valid documents for NUTS region DE40 and period 1\n",
      "No valid documents for NUTS region DE40 and period 2\n",
      "No valid documents for NUTS region DE40 and period 3\n"
     ]
    },
    {
     "name": "stderr",
     "output_type": "stream",
     "text": [
      "Batches: 100%|██████████| 30/30 [00:03<00:00,  8.74it/s]\n"
     ]
    },
    {
     "name": "stdout",
     "output_type": "stream",
     "text": [
      "Processed topic information for NUTS region DE40 and period 4\n"
     ]
    },
    {
     "name": "stderr",
     "output_type": "stream",
     "text": [
      "Batches: 100%|██████████| 51/51 [00:04<00:00, 12.48it/s]\n"
     ]
    },
    {
     "name": "stdout",
     "output_type": "stream",
     "text": [
      "Processed topic information for NUTS region DE40 and period 5\n"
     ]
    },
    {
     "name": "stderr",
     "output_type": "stream",
     "text": [
      "Batches: 100%|██████████| 72/72 [00:07<00:00,  9.85it/s]\n"
     ]
    },
    {
     "name": "stdout",
     "output_type": "stream",
     "text": [
      "Processed topic information for NUTS region DE40 and period 6\n"
     ]
    },
    {
     "name": "stderr",
     "output_type": "stream",
     "text": [
      "Batches: 100%|██████████| 68/68 [00:02<00:00, 24.85it/s]\n",
      "NUTS regions:  27%|██▋       | 55/203 [2:16:31<3:49:26, 93.01s/it] "
     ]
    },
    {
     "name": "stdout",
     "output_type": "stream",
     "text": [
      "Processed topic information for NUTS region DE40 and period 7\n",
      "No valid documents for NUTS region DE40 and period 8\n",
      "No valid documents for NUTS region DE94 and period 1\n",
      "No valid documents for NUTS region DE94 and period 2\n",
      "No valid documents for NUTS region DE94 and period 3\n"
     ]
    },
    {
     "name": "stderr",
     "output_type": "stream",
     "text": [
      "Batches: 100%|██████████| 37/37 [00:01<00:00, 25.87it/s]\n"
     ]
    },
    {
     "name": "stdout",
     "output_type": "stream",
     "text": [
      "Processed topic information for NUTS region DE94 and period 4\n"
     ]
    },
    {
     "name": "stderr",
     "output_type": "stream",
     "text": [
      "Batches: 100%|██████████| 57/57 [00:04<00:00, 14.00it/s]\n"
     ]
    },
    {
     "name": "stdout",
     "output_type": "stream",
     "text": [
      "Processed topic information for NUTS region DE94 and period 5\n"
     ]
    },
    {
     "name": "stderr",
     "output_type": "stream",
     "text": [
      "Batches: 100%|██████████| 65/65 [00:04<00:00, 14.89it/s]\n",
      "NUTS regions:  28%|██▊       | 56/203 [2:16:55<2:56:51, 72.19s/it]"
     ]
    },
    {
     "name": "stdout",
     "output_type": "stream",
     "text": [
      "Processed topic information for NUTS region DE94 and period 6\n",
      "No valid documents for NUTS region DE94 and period 7\n",
      "No valid documents for NUTS region DE94 and period 8\n",
      "No valid documents for NUTS region DE23 and period 1\n",
      "No valid documents for NUTS region DE23 and period 2\n",
      "No valid documents for NUTS region DE23 and period 3\n"
     ]
    },
    {
     "name": "stderr",
     "output_type": "stream",
     "text": [
      "Batches: 100%|██████████| 61/61 [00:04<00:00, 14.67it/s]\n"
     ]
    },
    {
     "name": "stdout",
     "output_type": "stream",
     "text": [
      "Processed topic information for NUTS region DE23 and period 4\n"
     ]
    },
    {
     "name": "stderr",
     "output_type": "stream",
     "text": [
      "Batches: 100%|██████████| 85/85 [00:07<00:00, 11.57it/s]\n"
     ]
    },
    {
     "name": "stdout",
     "output_type": "stream",
     "text": [
      "Processed topic information for NUTS region DE23 and period 5\n"
     ]
    },
    {
     "name": "stderr",
     "output_type": "stream",
     "text": [
      "Batches: 100%|██████████| 100/100 [00:10<00:00,  9.62it/s]\n",
      "NUTS regions:  28%|██▊       | 57/203 [2:17:35<2:32:43, 62.76s/it]"
     ]
    },
    {
     "name": "stdout",
     "output_type": "stream",
     "text": [
      "Processed topic information for NUTS region DE23 and period 6\n",
      "No valid documents for NUTS region DE23 and period 7\n",
      "No valid documents for NUTS region DE23 and period 8\n",
      "No valid documents for NUTS region AT12 and period 1\n",
      "No valid documents for NUTS region AT12 and period 2\n",
      "No valid documents for NUTS region AT12 and period 3\n"
     ]
    },
    {
     "name": "stderr",
     "output_type": "stream",
     "text": [
      "Batches: 100%|██████████| 28/28 [00:00<00:00, 29.39it/s]\n"
     ]
    },
    {
     "name": "stdout",
     "output_type": "stream",
     "text": [
      "Processed topic information for NUTS region AT12 and period 4\n"
     ]
    },
    {
     "name": "stderr",
     "output_type": "stream",
     "text": [
      "Batches: 100%|██████████| 37/37 [00:03<00:00, 10.19it/s]\n"
     ]
    },
    {
     "name": "stdout",
     "output_type": "stream",
     "text": [
      "Processed topic information for NUTS region AT12 and period 5\n"
     ]
    },
    {
     "name": "stderr",
     "output_type": "stream",
     "text": [
      "Batches: 100%|██████████| 48/48 [00:04<00:00, 11.83it/s]\n",
      "NUTS regions:  29%|██▊       | 58/203 [2:17:55<2:00:07, 49.71s/it]"
     ]
    },
    {
     "name": "stdout",
     "output_type": "stream",
     "text": [
      "Processed topic information for NUTS region AT12 and period 6\n",
      "No valid documents for NUTS region AT12 and period 7\n",
      "No valid documents for NUTS region AT12 and period 8\n",
      "No valid documents for NUTS region DE27 and period 1\n",
      "No valid documents for NUTS region DE27 and period 2\n",
      "No valid documents for NUTS region DE27 and period 3\n"
     ]
    },
    {
     "name": "stderr",
     "output_type": "stream",
     "text": [
      "Batches: 100%|██████████| 81/81 [00:07<00:00, 10.84it/s]\n"
     ]
    },
    {
     "name": "stdout",
     "output_type": "stream",
     "text": [
      "Processed topic information for NUTS region DE27 and period 4\n"
     ]
    },
    {
     "name": "stderr",
     "output_type": "stream",
     "text": [
      "Batches: 100%|██████████| 108/108 [00:05<00:00, 18.01it/s]\n"
     ]
    },
    {
     "name": "stdout",
     "output_type": "stream",
     "text": [
      "Processed topic information for NUTS region DE27 and period 5\n",
      "No valid documents for NUTS region DE27 and period 6\n",
      "No valid documents for NUTS region DE27 and period 7\n"
     ]
    },
    {
     "name": "stderr",
     "output_type": "stream",
     "text": [
      "NUTS regions:  29%|██▉       | 59/203 [2:18:23<1:44:08, 43.39s/it]"
     ]
    },
    {
     "name": "stdout",
     "output_type": "stream",
     "text": [
      "No valid documents for NUTS region DE27 and period 8\n",
      "No valid documents for NUTS region CZ06 and period 1\n",
      "No valid documents for NUTS region CZ06 and period 2\n",
      "No valid documents for NUTS region CZ06 and period 3\n",
      "No valid documents for NUTS region CZ06 and period 4\n",
      "No valid documents for NUTS region CZ06 and period 5\n"
     ]
    },
    {
     "name": "stderr",
     "output_type": "stream",
     "text": [
      "Batches: 100%|██████████| 5/5 [00:00<00:00, 30.25it/s]\n",
      "NUTS regions:  30%|██▉       | 60/203 [2:18:27<1:14:50, 31.40s/it]"
     ]
    },
    {
     "name": "stdout",
     "output_type": "stream",
     "text": [
      "Processed topic information for NUTS region CZ06 and period 6\n",
      "No valid documents for NUTS region CZ06 and period 7\n",
      "No valid documents for NUTS region CZ06 and period 8\n",
      "No valid documents for NUTS region SE23 and period 1\n",
      "No valid documents for NUTS region SE23 and period 2\n",
      "No valid documents for NUTS region SE23 and period 3\n"
     ]
    },
    {
     "name": "stderr",
     "output_type": "stream",
     "text": [
      "Batches: 100%|██████████| 67/67 [00:07<00:00,  9.09it/s]\n"
     ]
    },
    {
     "name": "stdout",
     "output_type": "stream",
     "text": [
      "Processed topic information for NUTS region SE23 and period 4\n"
     ]
    },
    {
     "name": "stderr",
     "output_type": "stream",
     "text": [
      "Batches: 100%|██████████| 96/96 [00:10<00:00,  8.89it/s]\n"
     ]
    },
    {
     "name": "stdout",
     "output_type": "stream",
     "text": [
      "Processed topic information for NUTS region SE23 and period 5\n"
     ]
    },
    {
     "name": "stderr",
     "output_type": "stream",
     "text": [
      "Batches: 100%|██████████| 100/100 [00:10<00:00,  9.17it/s]\n"
     ]
    },
    {
     "name": "stdout",
     "output_type": "stream",
     "text": [
      "Processed topic information for NUTS region SE23 and period 6\n"
     ]
    },
    {
     "name": "stderr",
     "output_type": "stream",
     "text": [
      "Batches: 100%|██████████| 117/117 [00:14<00:00,  8.19it/s]\n",
      "NUTS regions:  30%|███       | 61/203 [2:19:40<1:44:17, 44.07s/it]"
     ]
    },
    {
     "name": "stdout",
     "output_type": "stream",
     "text": [
      "Processed topic information for NUTS region SE23 and period 7\n",
      "No valid documents for NUTS region SE23 and period 8\n",
      "No valid documents for NUTS region AT22 and period 1\n",
      "No valid documents for NUTS region AT22 and period 2\n",
      "No valid documents for NUTS region AT22 and period 3\n"
     ]
    },
    {
     "name": "stderr",
     "output_type": "stream",
     "text": [
      "Batches: 100%|██████████| 21/21 [00:00<00:00, 27.45it/s]\n"
     ]
    },
    {
     "name": "stdout",
     "output_type": "stream",
     "text": [
      "Processed topic information for NUTS region AT22 and period 4\n"
     ]
    },
    {
     "name": "stderr",
     "output_type": "stream",
     "text": [
      "Batches: 100%|██████████| 34/34 [00:03<00:00,  9.35it/s]\n"
     ]
    },
    {
     "name": "stdout",
     "output_type": "stream",
     "text": [
      "Processed topic information for NUTS region AT22 and period 5\n"
     ]
    },
    {
     "name": "stderr",
     "output_type": "stream",
     "text": [
      "Batches: 100%|██████████| 43/43 [00:03<00:00, 11.17it/s]\n"
     ]
    },
    {
     "name": "stdout",
     "output_type": "stream",
     "text": [
      "Processed topic information for NUTS region AT22 and period 6\n"
     ]
    },
    {
     "name": "stderr",
     "output_type": "stream",
     "text": [
      "Batches: 100%|██████████| 58/58 [00:06<00:00,  8.36it/s]\n",
      "NUTS regions:  31%|███       | 62/203 [2:20:10<1:33:14, 39.68s/it]"
     ]
    },
    {
     "name": "stdout",
     "output_type": "stream",
     "text": [
      "Processed topic information for NUTS region AT22 and period 7\n",
      "No valid documents for NUTS region AT22 and period 8\n",
      "No valid documents for NUTS region DEE0 and period 1\n",
      "No valid documents for NUTS region DEE0 and period 2\n",
      "No valid documents for NUTS region DEE0 and period 3\n"
     ]
    },
    {
     "name": "stderr",
     "output_type": "stream",
     "text": [
      "Batches: 100%|██████████| 17/17 [00:00<00:00, 23.77it/s]\n"
     ]
    },
    {
     "name": "stdout",
     "output_type": "stream",
     "text": [
      "Processed topic information for NUTS region DEE0 and period 4\n"
     ]
    },
    {
     "name": "stderr",
     "output_type": "stream",
     "text": [
      "Batches: 100%|██████████| 24/24 [00:01<00:00, 21.93it/s]\n"
     ]
    },
    {
     "name": "stdout",
     "output_type": "stream",
     "text": [
      "Processed topic information for NUTS region DEE0 and period 5\n"
     ]
    },
    {
     "name": "stderr",
     "output_type": "stream",
     "text": [
      "Batches: 100%|██████████| 26/26 [00:00<00:00, 28.86it/s]\n"
     ]
    },
    {
     "name": "stdout",
     "output_type": "stream",
     "text": [
      "Processed topic information for NUTS region DEE0 and period 6\n"
     ]
    },
    {
     "name": "stderr",
     "output_type": "stream",
     "text": [
      "Batches: 100%|██████████| 23/23 [00:00<00:00, 28.14it/s]\n",
      "NUTS regions:  31%|███       | 63/203 [2:20:24<1:15:02, 32.16s/it]"
     ]
    },
    {
     "name": "stdout",
     "output_type": "stream",
     "text": [
      "Processed topic information for NUTS region DEE0 and period 7\n",
      "No valid documents for NUTS region DEE0 and period 8\n",
      "No valid documents for NUTS region DEC0 and period 1\n",
      "No valid documents for NUTS region DEC0 and period 2\n",
      "No valid documents for NUTS region DEC0 and period 3\n"
     ]
    },
    {
     "name": "stderr",
     "output_type": "stream",
     "text": [
      "Batches: 100%|██████████| 26/26 [00:03<00:00,  7.33it/s]\n"
     ]
    },
    {
     "name": "stdout",
     "output_type": "stream",
     "text": [
      "Processed topic information for NUTS region DEC0 and period 4\n"
     ]
    },
    {
     "name": "stderr",
     "output_type": "stream",
     "text": [
      "Batches: 100%|██████████| 36/36 [00:06<00:00,  5.40it/s]\n"
     ]
    },
    {
     "name": "stdout",
     "output_type": "stream",
     "text": [
      "Processed topic information for NUTS region DEC0 and period 5\n"
     ]
    },
    {
     "name": "stderr",
     "output_type": "stream",
     "text": [
      "Batches: 100%|██████████| 43/43 [00:17<00:00,  2.47it/s]\n",
      "NUTS regions:  32%|███▏      | 64/203 [2:21:01<1:17:53, 33.62s/it]"
     ]
    },
    {
     "name": "stdout",
     "output_type": "stream",
     "text": [
      "Processed topic information for NUTS region DEC0 and period 6\n",
      "No valid documents for NUTS region DEC0 and period 7\n",
      "No valid documents for NUTS region DEC0 and period 8\n",
      "No valid documents for NUTS region CH03 and period 1\n",
      "No valid documents for NUTS region CH03 and period 2\n",
      "No valid documents for NUTS region CH03 and period 3\n"
     ]
    },
    {
     "name": "stderr",
     "output_type": "stream",
     "text": [
      "Batches: 100%|██████████| 127/127 [01:10<00:00,  1.81it/s]\n"
     ]
    },
    {
     "name": "stdout",
     "output_type": "stream",
     "text": [
      "Processed topic information for NUTS region CH03 and period 4\n"
     ]
    },
    {
     "name": "stderr",
     "output_type": "stream",
     "text": [
      "Batches: 100%|██████████| 171/171 [00:34<00:00,  4.92it/s]\n"
     ]
    },
    {
     "name": "stdout",
     "output_type": "stream",
     "text": [
      "Processed topic information for NUTS region CH03 and period 5\n"
     ]
    },
    {
     "name": "stderr",
     "output_type": "stream",
     "text": [
      "Batches: 100%|██████████| 220/220 [01:02<00:00,  3.53it/s]\n"
     ]
    },
    {
     "name": "stdout",
     "output_type": "stream",
     "text": [
      "Processed topic information for NUTS region CH03 and period 6\n"
     ]
    },
    {
     "name": "stderr",
     "output_type": "stream",
     "text": [
      "Batches: 100%|██████████| 247/247 [01:29<00:00,  2.75it/s]\n",
      "NUTS regions:  32%|███▏      | 65/203 [2:25:42<4:07:53, 107.78s/it]"
     ]
    },
    {
     "name": "stdout",
     "output_type": "stream",
     "text": [
      "Processed topic information for NUTS region CH03 and period 7\n",
      "No valid documents for NUTS region CH03 and period 8\n",
      "No valid documents for NUTS region DK04 and period 1\n",
      "No valid documents for NUTS region DK04 and period 2\n",
      "No valid documents for NUTS region DK04 and period 3\n"
     ]
    },
    {
     "name": "stderr",
     "output_type": "stream",
     "text": [
      "Batches: 100%|██████████| 15/15 [00:07<00:00,  2.11it/s]\n"
     ]
    },
    {
     "name": "stdout",
     "output_type": "stream",
     "text": [
      "Processed topic information for NUTS region DK04 and period 4\n"
     ]
    },
    {
     "name": "stderr",
     "output_type": "stream",
     "text": [
      "Batches: 100%|██████████| 28/28 [00:13<00:00,  2.02it/s]\n"
     ]
    },
    {
     "name": "stdout",
     "output_type": "stream",
     "text": [
      "Processed topic information for NUTS region DK04 and period 5\n"
     ]
    },
    {
     "name": "stderr",
     "output_type": "stream",
     "text": [
      "Batches: 100%|██████████| 47/47 [00:28<00:00,  1.64it/s]\n"
     ]
    },
    {
     "name": "stdout",
     "output_type": "stream",
     "text": [
      "Processed topic information for NUTS region DK04 and period 6\n"
     ]
    },
    {
     "name": "stderr",
     "output_type": "stream",
     "text": [
      "Batches: 100%|██████████| 70/70 [01:00<00:00,  1.17it/s]\n",
      "NUTS regions:  33%|███▎      | 66/203 [2:27:48<4:18:11, 113.08s/it]"
     ]
    },
    {
     "name": "stdout",
     "output_type": "stream",
     "text": [
      "Processed topic information for NUTS region DK04 and period 7\n",
      "No valid documents for NUTS region DK04 and period 8\n",
      "No valid documents for NUTS region DE80 and period 1\n",
      "No valid documents for NUTS region DE80 and period 2\n",
      "No valid documents for NUTS region DE80 and period 3\n"
     ]
    },
    {
     "name": "stderr",
     "output_type": "stream",
     "text": [
      "Batches: 100%|██████████| 6/6 [00:00<00:00, 25.55it/s]\n"
     ]
    },
    {
     "name": "stdout",
     "output_type": "stream",
     "text": [
      "Processed topic information for NUTS region DE80 and period 4\n"
     ]
    },
    {
     "name": "stderr",
     "output_type": "stream",
     "text": [
      "Batches: 100%|██████████| 13/13 [00:00<00:00, 33.21it/s]\n"
     ]
    },
    {
     "name": "stdout",
     "output_type": "stream",
     "text": [
      "Processed topic information for NUTS region DE80 and period 5\n"
     ]
    },
    {
     "name": "stderr",
     "output_type": "stream",
     "text": [
      "Batches: 100%|██████████| 20/20 [00:00<00:00, 29.67it/s]\n",
      "NUTS regions:  33%|███▎      | 67/203 [2:28:00<3:07:39, 82.79s/it] "
     ]
    },
    {
     "name": "stdout",
     "output_type": "stream",
     "text": [
      "Processed topic information for NUTS region DE80 and period 6\n",
      "No valid documents for NUTS region DE80 and period 7\n",
      "No valid documents for NUTS region DE80 and period 8\n",
      "No valid documents for NUTS region DE73 and period 1\n",
      "No valid documents for NUTS region DE73 and period 2\n",
      "No valid documents for NUTS region DE73 and period 3\n"
     ]
    },
    {
     "name": "stderr",
     "output_type": "stream",
     "text": [
      "Batches: 100%|██████████| 21/21 [00:00<00:00, 34.16it/s]\n"
     ]
    },
    {
     "name": "stdout",
     "output_type": "stream",
     "text": [
      "Processed topic information for NUTS region DE73 and period 4\n"
     ]
    },
    {
     "name": "stderr",
     "output_type": "stream",
     "text": [
      "Batches: 100%|██████████| 30/30 [00:00<00:00, 36.90it/s]\n"
     ]
    },
    {
     "name": "stdout",
     "output_type": "stream",
     "text": [
      "Processed topic information for NUTS region DE73 and period 5\n"
     ]
    },
    {
     "name": "stderr",
     "output_type": "stream",
     "text": [
      "Batches: 100%|██████████| 46/46 [00:03<00:00, 12.18it/s]\n",
      "NUTS regions:  33%|███▎      | 68/203 [2:28:15<2:20:31, 62.45s/it]"
     ]
    },
    {
     "name": "stdout",
     "output_type": "stream",
     "text": [
      "Processed topic information for NUTS region DE73 and period 6\n",
      "No valid documents for NUTS region DE73 and period 7\n",
      "No valid documents for NUTS region DE73 and period 8\n",
      "No valid documents for NUTS region DE72 and period 1\n",
      "No valid documents for NUTS region DE72 and period 2\n",
      "No valid documents for NUTS region DE72 and period 3\n"
     ]
    },
    {
     "name": "stderr",
     "output_type": "stream",
     "text": [
      "Batches: 100%|██████████| 42/42 [00:03<00:00, 11.02it/s]\n"
     ]
    },
    {
     "name": "stdout",
     "output_type": "stream",
     "text": [
      "Processed topic information for NUTS region DE72 and period 4\n"
     ]
    },
    {
     "name": "stderr",
     "output_type": "stream",
     "text": [
      "Batches: 100%|██████████| 52/52 [00:04<00:00, 12.98it/s]\n"
     ]
    },
    {
     "name": "stdout",
     "output_type": "stream",
     "text": [
      "Processed topic information for NUTS region DE72 and period 5\n"
     ]
    },
    {
     "name": "stderr",
     "output_type": "stream",
     "text": [
      "Batches: 100%|██████████| 51/51 [00:04<00:00, 12.49it/s]\n"
     ]
    },
    {
     "name": "stdout",
     "output_type": "stream",
     "text": [
      "Processed topic information for NUTS region DE72 and period 6\n"
     ]
    },
    {
     "name": "stderr",
     "output_type": "stream",
     "text": [
      "Batches: 100%|██████████| 46/46 [00:04<00:00, 11.31it/s]\n",
      "NUTS regions:  34%|███▍      | 69/203 [2:28:46<1:58:14, 52.95s/it]"
     ]
    },
    {
     "name": "stdout",
     "output_type": "stream",
     "text": [
      "Processed topic information for NUTS region DE72 and period 7\n",
      "No valid documents for NUTS region DE72 and period 8\n",
      "No valid documents for NUTS region CZ05 and period 1\n",
      "No valid documents for NUTS region CZ05 and period 2\n",
      "No valid documents for NUTS region CZ05 and period 3\n",
      "No valid documents for NUTS region CZ05 and period 4\n",
      "No valid documents for NUTS region CZ05 and period 5\n"
     ]
    },
    {
     "name": "stderr",
     "output_type": "stream",
     "text": [
      "Batches: 100%|██████████| 5/5 [00:00<00:00, 28.36it/s]\n",
      "NUTS regions:  34%|███▍      | 70/203 [2:28:49<1:24:28, 38.11s/it]"
     ]
    },
    {
     "name": "stdout",
     "output_type": "stream",
     "text": [
      "Processed topic information for NUTS region CZ05 and period 6\n",
      "No valid documents for NUTS region CZ05 and period 7\n",
      "No valid documents for NUTS region CZ05 and period 8\n",
      "No valid documents for NUTS region BE22 and period 1\n",
      "No valid documents for NUTS region BE22 and period 2\n",
      "No valid documents for NUTS region BE22 and period 3\n"
     ]
    },
    {
     "name": "stderr",
     "output_type": "stream",
     "text": [
      "Batches: 100%|██████████| 10/10 [00:00<00:00, 26.71it/s]\n"
     ]
    },
    {
     "name": "stdout",
     "output_type": "stream",
     "text": [
      "Processed topic information for NUTS region BE22 and period 4\n"
     ]
    },
    {
     "name": "stderr",
     "output_type": "stream",
     "text": [
      "Batches: 100%|██████████| 12/12 [00:00<00:00, 28.78it/s]\n"
     ]
    },
    {
     "name": "stdout",
     "output_type": "stream",
     "text": [
      "Processed topic information for NUTS region BE22 and period 5\n"
     ]
    },
    {
     "name": "stderr",
     "output_type": "stream",
     "text": [
      "Batches: 100%|██████████| 20/20 [00:00<00:00, 31.67it/s]\n",
      "NUTS regions:  35%|███▍      | 71/203 [2:29:01<1:06:26, 30.20s/it]"
     ]
    },
    {
     "name": "stdout",
     "output_type": "stream",
     "text": [
      "Processed topic information for NUTS region BE22 and period 6\n",
      "No valid documents for NUTS region BE22 and period 7\n",
      "No valid documents for NUTS region BE22 and period 8\n",
      "No valid documents for NUTS region BE24 and period 1\n",
      "No valid documents for NUTS region BE24 and period 2\n",
      "No valid documents for NUTS region BE24 and period 3\n"
     ]
    },
    {
     "name": "stderr",
     "output_type": "stream",
     "text": [
      "Batches: 100%|██████████| 32/32 [00:03<00:00,  9.32it/s]\n"
     ]
    },
    {
     "name": "stdout",
     "output_type": "stream",
     "text": [
      "Processed topic information for NUTS region BE24 and period 4\n"
     ]
    },
    {
     "name": "stderr",
     "output_type": "stream",
     "text": [
      "Batches: 100%|██████████| 42/42 [00:03<00:00, 11.33it/s]\n"
     ]
    },
    {
     "name": "stdout",
     "output_type": "stream",
     "text": [
      "Processed topic information for NUTS region BE24 and period 5\n"
     ]
    },
    {
     "name": "stderr",
     "output_type": "stream",
     "text": [
      "Batches: 100%|██████████| 56/56 [00:04<00:00, 12.99it/s]\n"
     ]
    },
    {
     "name": "stdout",
     "output_type": "stream",
     "text": [
      "Processed topic information for NUTS region BE24 and period 6\n"
     ]
    },
    {
     "name": "stderr",
     "output_type": "stream",
     "text": [
      "Batches: 100%|██████████| 67/67 [00:07<00:00,  9.36it/s]\n",
      "NUTS regions:  35%|███▌      | 72/203 [2:29:35<1:08:44, 31.48s/it]"
     ]
    },
    {
     "name": "stdout",
     "output_type": "stream",
     "text": [
      "Processed topic information for NUTS region BE24 and period 7\n",
      "No valid documents for NUTS region BE24 and period 8\n",
      "No valid documents for NUTS region ES24 and period 1\n",
      "No valid documents for NUTS region ES24 and period 2\n",
      "No valid documents for NUTS region ES24 and period 3\n",
      "No valid documents for NUTS region ES24 and period 4\n"
     ]
    },
    {
     "name": "stderr",
     "output_type": "stream",
     "text": [
      "Batches: 100%|██████████| 4/4 [00:00<00:00, 30.29it/s]\n"
     ]
    },
    {
     "name": "stdout",
     "output_type": "stream",
     "text": [
      "Processed topic information for NUTS region ES24 and period 5\n"
     ]
    },
    {
     "name": "stderr",
     "output_type": "stream",
     "text": [
      "Batches: 100%|██████████| 8/8 [00:00<00:00, 33.70it/s]\n",
      "NUTS regions:  36%|███▌      | 73/203 [2:29:42<52:11, 24.09s/it]  "
     ]
    },
    {
     "name": "stdout",
     "output_type": "stream",
     "text": [
      "Processed topic information for NUTS region ES24 and period 6\n",
      "No valid documents for NUTS region ES24 and period 7\n",
      "No valid documents for NUTS region ES24 and period 8\n",
      "No valid documents for NUTS region DE24 and period 1\n",
      "No valid documents for NUTS region DE24 and period 2\n",
      "No valid documents for NUTS region DE24 and period 3\n"
     ]
    },
    {
     "name": "stderr",
     "output_type": "stream",
     "text": [
      "Batches: 100%|██████████| 45/45 [00:03<00:00, 11.36it/s]\n"
     ]
    },
    {
     "name": "stdout",
     "output_type": "stream",
     "text": [
      "Processed topic information for NUTS region DE24 and period 4\n"
     ]
    },
    {
     "name": "stderr",
     "output_type": "stream",
     "text": [
      "Batches: 100%|██████████| 56/56 [00:04<00:00, 13.43it/s]\n"
     ]
    },
    {
     "name": "stdout",
     "output_type": "stream",
     "text": [
      "Processed topic information for NUTS region DE24 and period 5\n"
     ]
    },
    {
     "name": "stderr",
     "output_type": "stream",
     "text": [
      "Batches: 100%|██████████| 71/71 [00:07<00:00,  9.83it/s]\n",
      "NUTS regions:  36%|███▋      | 74/203 [2:30:11<55:04, 25.62s/it]"
     ]
    },
    {
     "name": "stdout",
     "output_type": "stream",
     "text": [
      "Processed topic information for NUTS region DE24 and period 6\n",
      "No valid documents for NUTS region DE24 and period 7\n",
      "No valid documents for NUTS region DE24 and period 8\n",
      "No valid documents for NUTS region DED4 and period 1\n",
      "No valid documents for NUTS region DED4 and period 2\n",
      "No valid documents for NUTS region DED4 and period 3\n"
     ]
    },
    {
     "name": "stderr",
     "output_type": "stream",
     "text": [
      "Batches: 100%|██████████| 17/17 [00:00<00:00, 32.07it/s]\n"
     ]
    },
    {
     "name": "stdout",
     "output_type": "stream",
     "text": [
      "Processed topic information for NUTS region DED4 and period 4\n"
     ]
    },
    {
     "name": "stderr",
     "output_type": "stream",
     "text": [
      "Batches: 100%|██████████| 19/19 [00:00<00:00, 30.64it/s]\n"
     ]
    },
    {
     "name": "stdout",
     "output_type": "stream",
     "text": [
      "Processed topic information for NUTS region DED4 and period 5\n"
     ]
    },
    {
     "name": "stderr",
     "output_type": "stream",
     "text": [
      "Batches: 100%|██████████| 26/26 [00:00<00:00, 29.79it/s]\n",
      "NUTS regions:  37%|███▋      | 75/203 [2:30:23<45:39, 21.40s/it]"
     ]
    },
    {
     "name": "stdout",
     "output_type": "stream",
     "text": [
      "Processed topic information for NUTS region DED4 and period 6\n",
      "No valid documents for NUTS region DED4 and period 7\n",
      "No valid documents for NUTS region DED4 and period 8\n",
      "No valid documents for NUTS region DE50 and period 1\n",
      "No valid documents for NUTS region DE50 and period 2\n",
      "No valid documents for NUTS region DE50 and period 3\n"
     ]
    },
    {
     "name": "stderr",
     "output_type": "stream",
     "text": [
      "Batches: 100%|██████████| 9/9 [00:00<00:00, 32.42it/s]\n"
     ]
    },
    {
     "name": "stdout",
     "output_type": "stream",
     "text": [
      "Processed topic information for NUTS region DE50 and period 4\n"
     ]
    },
    {
     "name": "stderr",
     "output_type": "stream",
     "text": [
      "Batches: 100%|██████████| 13/13 [00:00<00:00, 32.50it/s]\n"
     ]
    },
    {
     "name": "stdout",
     "output_type": "stream",
     "text": [
      "Processed topic information for NUTS region DE50 and period 5\n"
     ]
    },
    {
     "name": "stderr",
     "output_type": "stream",
     "text": [
      "Batches: 100%|██████████| 18/18 [00:00<00:00, 27.34it/s]\n",
      "NUTS regions:  37%|███▋      | 76/203 [2:30:34<38:36, 18.24s/it]"
     ]
    },
    {
     "name": "stdout",
     "output_type": "stream",
     "text": [
      "Processed topic information for NUTS region DE50 and period 6\n",
      "No valid documents for NUTS region DE50 and period 7\n",
      "No valid documents for NUTS region DE50 and period 8\n",
      "No valid documents for NUTS region SE22 and period 1\n",
      "No valid documents for NUTS region SE22 and period 2\n",
      "No valid documents for NUTS region SE22 and period 3\n"
     ]
    },
    {
     "name": "stderr",
     "output_type": "stream",
     "text": [
      "Batches: 100%|██████████| 45/45 [00:04<00:00, 11.01it/s]\n"
     ]
    },
    {
     "name": "stdout",
     "output_type": "stream",
     "text": [
      "Processed topic information for NUTS region SE22 and period 4\n"
     ]
    },
    {
     "name": "stderr",
     "output_type": "stream",
     "text": [
      "Batches: 100%|██████████| 64/64 [00:06<00:00,  9.17it/s]\n"
     ]
    },
    {
     "name": "stdout",
     "output_type": "stream",
     "text": [
      "Processed topic information for NUTS region SE22 and period 5\n"
     ]
    },
    {
     "name": "stderr",
     "output_type": "stream",
     "text": [
      "Batches: 100%|██████████| 83/83 [00:10<00:00,  8.11it/s]\n"
     ]
    },
    {
     "name": "stdout",
     "output_type": "stream",
     "text": [
      "Processed topic information for NUTS region SE22 and period 6\n"
     ]
    },
    {
     "name": "stderr",
     "output_type": "stream",
     "text": [
      "Batches: 100%|██████████| 105/105 [00:10<00:00,  9.57it/s]\n",
      "NUTS regions:  38%|███▊      | 77/203 [2:31:30<1:02:06, 29.57s/it]"
     ]
    },
    {
     "name": "stdout",
     "output_type": "stream",
     "text": [
      "Processed topic information for NUTS region SE22 and period 7\n",
      "No valid documents for NUTS region SE22 and period 8\n",
      "No valid documents for NUTS region FR41 and period 1\n",
      "No valid documents for NUTS region FR41 and period 2\n",
      "No valid documents for NUTS region FR41 and period 3\n"
     ]
    },
    {
     "name": "stderr",
     "output_type": "stream",
     "text": [
      "Batches: 100%|██████████| 24/24 [00:00<00:00, 28.46it/s]\n"
     ]
    },
    {
     "name": "stdout",
     "output_type": "stream",
     "text": [
      "Processed topic information for NUTS region FR41 and period 4\n"
     ]
    },
    {
     "name": "stderr",
     "output_type": "stream",
     "text": [
      "Batches: 100%|██████████| 21/21 [00:00<00:00, 29.01it/s]\n"
     ]
    },
    {
     "name": "stdout",
     "output_type": "stream",
     "text": [
      "Processed topic information for NUTS region FR41 and period 5\n"
     ]
    },
    {
     "name": "stderr",
     "output_type": "stream",
     "text": [
      "Batches: 100%|██████████| 24/24 [00:03<00:00,  6.51it/s]\n"
     ]
    },
    {
     "name": "stdout",
     "output_type": "stream",
     "text": [
      "Processed topic information for NUTS region FR41 and period 6\n"
     ]
    },
    {
     "name": "stderr",
     "output_type": "stream",
     "text": [
      "Batches: 100%|██████████| 26/26 [00:10<00:00,  2.39it/s]\n",
      "NUTS regions:  38%|███▊      | 78/203 [2:31:59<1:01:05, 29.33s/it]"
     ]
    },
    {
     "name": "stdout",
     "output_type": "stream",
     "text": [
      "Processed topic information for NUTS region FR41 and period 7\n",
      "No valid documents for NUTS region FR41 and period 8\n",
      "No valid documents for NUTS region CZ02 and period 1\n",
      "No valid documents for NUTS region CZ02 and period 2\n",
      "No valid documents for NUTS region CZ02 and period 3\n",
      "No valid documents for NUTS region CZ02 and period 4\n",
      "No valid documents for NUTS region CZ02 and period 5\n"
     ]
    },
    {
     "name": "stderr",
     "output_type": "stream",
     "text": [
      "Batches: 100%|██████████| 4/4 [00:00<00:00,  7.53it/s]\n",
      "NUTS regions:  39%|███▉      | 79/203 [2:32:02<44:42, 21.64s/it]  "
     ]
    },
    {
     "name": "stdout",
     "output_type": "stream",
     "text": [
      "Processed topic information for NUTS region CZ02 and period 6\n",
      "No valid documents for NUTS region CZ02 and period 7\n",
      "No valid documents for NUTS region CZ02 and period 8\n",
      "No valid documents for NUTS region ITI4 and period 1\n",
      "No valid documents for NUTS region ITI4 and period 2\n",
      "No valid documents for NUTS region ITI4 and period 3\n"
     ]
    },
    {
     "name": "stderr",
     "output_type": "stream",
     "text": [
      "Batches: 100%|██████████| 24/24 [00:06<00:00,  3.44it/s]\n"
     ]
    },
    {
     "name": "stdout",
     "output_type": "stream",
     "text": [
      "Processed topic information for NUTS region ITI4 and period 4\n"
     ]
    },
    {
     "name": "stderr",
     "output_type": "stream",
     "text": [
      "Batches: 100%|██████████| 28/28 [00:14<00:00,  1.93it/s]\n"
     ]
    },
    {
     "name": "stdout",
     "output_type": "stream",
     "text": [
      "Processed topic information for NUTS region ITI4 and period 5\n"
     ]
    },
    {
     "name": "stderr",
     "output_type": "stream",
     "text": [
      "Batches: 100%|██████████| 33/33 [00:10<00:00,  3.14it/s]\n"
     ]
    },
    {
     "name": "stdout",
     "output_type": "stream",
     "text": [
      "Processed topic information for NUTS region ITI4 and period 6\n"
     ]
    },
    {
     "name": "stderr",
     "output_type": "stream",
     "text": [
      "Batches: 100%|██████████| 41/41 [00:14<00:00,  2.83it/s]\n",
      "NUTS regions:  39%|███▉      | 80/203 [2:33:02<1:07:47, 33.07s/it]"
     ]
    },
    {
     "name": "stdout",
     "output_type": "stream",
     "text": [
      "Processed topic information for NUTS region ITI4 and period 7\n",
      "No valid documents for NUTS region ITI4 and period 8\n",
      "No valid documents for NUTS region UKJ2 and period 1\n",
      "No valid documents for NUTS region UKJ2 and period 2\n",
      "No valid documents for NUTS region UKJ2 and period 3\n"
     ]
    },
    {
     "name": "stderr",
     "output_type": "stream",
     "text": [
      "Batches: 100%|██████████| 50/50 [00:20<00:00,  2.40it/s]\n"
     ]
    },
    {
     "name": "stdout",
     "output_type": "stream",
     "text": [
      "Processed topic information for NUTS region UKJ2 and period 4\n"
     ]
    },
    {
     "name": "stderr",
     "output_type": "stream",
     "text": [
      "Batches: 100%|██████████| 61/61 [00:44<00:00,  1.36it/s]\n"
     ]
    },
    {
     "name": "stdout",
     "output_type": "stream",
     "text": [
      "Processed topic information for NUTS region UKJ2 and period 5\n"
     ]
    },
    {
     "name": "stderr",
     "output_type": "stream",
     "text": [
      "Batches: 100%|██████████| 67/67 [00:14<00:00,  4.55it/s]\n"
     ]
    },
    {
     "name": "stdout",
     "output_type": "stream",
     "text": [
      "Processed topic information for NUTS region UKJ2 and period 6\n"
     ]
    },
    {
     "name": "stderr",
     "output_type": "stream",
     "text": [
      "Batches: 100%|██████████| 74/74 [00:07<00:00, 10.11it/s]\n",
      "NUTS regions:  40%|███▉      | 81/203 [2:34:48<1:51:50, 55.00s/it]"
     ]
    },
    {
     "name": "stdout",
     "output_type": "stream",
     "text": [
      "Processed topic information for NUTS region UKJ2 and period 7\n",
      "No valid documents for NUTS region UKJ2 and period 8\n",
      "No valid documents for NUTS region UKJ1 and period 1\n",
      "No valid documents for NUTS region UKJ1 and period 2\n",
      "No valid documents for NUTS region UKJ1 and period 3\n"
     ]
    },
    {
     "name": "stderr",
     "output_type": "stream",
     "text": [
      "Batches: 100%|██████████| 76/76 [00:07<00:00, 10.09it/s]\n"
     ]
    },
    {
     "name": "stdout",
     "output_type": "stream",
     "text": [
      "Processed topic information for NUTS region UKJ1 and period 4\n"
     ]
    },
    {
     "name": "stderr",
     "output_type": "stream",
     "text": [
      "Batches: 100%|██████████| 89/89 [00:10<00:00,  8.68it/s]\n"
     ]
    },
    {
     "name": "stdout",
     "output_type": "stream",
     "text": [
      "Processed topic information for NUTS region UKJ1 and period 5\n"
     ]
    },
    {
     "name": "stderr",
     "output_type": "stream",
     "text": [
      "Batches: 100%|██████████| 102/102 [00:10<00:00,  9.60it/s]\n"
     ]
    },
    {
     "name": "stdout",
     "output_type": "stream",
     "text": [
      "Processed topic information for NUTS region UKJ1 and period 6\n"
     ]
    },
    {
     "name": "stderr",
     "output_type": "stream",
     "text": [
      "Batches: 100%|██████████| 108/108 [00:11<00:00,  9.54it/s]\n",
      "NUTS regions:  40%|████      | 82/203 [2:35:57<1:59:17, 59.15s/it]"
     ]
    },
    {
     "name": "stdout",
     "output_type": "stream",
     "text": [
      "Processed topic information for NUTS region UKJ1 and period 7\n",
      "No valid documents for NUTS region UKJ1 and period 8\n",
      "No valid documents for NUTS region UKH2 and period 1\n",
      "No valid documents for NUTS region UKH2 and period 2\n",
      "No valid documents for NUTS region UKH2 and period 3\n"
     ]
    },
    {
     "name": "stderr",
     "output_type": "stream",
     "text": [
      "Batches: 100%|██████████| 38/38 [00:03<00:00, 10.32it/s]\n"
     ]
    },
    {
     "name": "stdout",
     "output_type": "stream",
     "text": [
      "Processed topic information for NUTS region UKH2 and period 4\n"
     ]
    },
    {
     "name": "stderr",
     "output_type": "stream",
     "text": [
      "Batches: 100%|██████████| 41/41 [00:03<00:00, 11.04it/s]\n"
     ]
    },
    {
     "name": "stdout",
     "output_type": "stream",
     "text": [
      "Processed topic information for NUTS region UKH2 and period 5\n"
     ]
    },
    {
     "name": "stderr",
     "output_type": "stream",
     "text": [
      "Batches: 100%|██████████| 37/37 [00:03<00:00,  9.95it/s]\n",
      "NUTS regions:  41%|████      | 83/203 [2:36:19<1:35:58, 47.99s/it]"
     ]
    },
    {
     "name": "stdout",
     "output_type": "stream",
     "text": [
      "Processed topic information for NUTS region UKH2 and period 6\n",
      "No valid documents for NUTS region UKH2 and period 7\n",
      "No valid documents for NUTS region UKH2 and period 8\n",
      "No valid documents for NUTS region DED5 and period 1\n",
      "No valid documents for NUTS region DED5 and period 2\n",
      "No valid documents for NUTS region DED5 and period 3\n"
     ]
    },
    {
     "name": "stderr",
     "output_type": "stream",
     "text": [
      "Batches: 100%|██████████| 7/7 [00:00<00:00, 26.50it/s]\n"
     ]
    },
    {
     "name": "stdout",
     "output_type": "stream",
     "text": [
      "Processed topic information for NUTS region DED5 and period 4\n"
     ]
    },
    {
     "name": "stderr",
     "output_type": "stream",
     "text": [
      "Batches: 100%|██████████| 11/11 [00:00<00:00, 32.73it/s]\n"
     ]
    },
    {
     "name": "stdout",
     "output_type": "stream",
     "text": [
      "Processed topic information for NUTS region DED5 and period 5\n"
     ]
    },
    {
     "name": "stderr",
     "output_type": "stream",
     "text": [
      "Batches: 100%|██████████| 15/15 [00:00<00:00, 32.03it/s]\n"
     ]
    },
    {
     "name": "stdout",
     "output_type": "stream",
     "text": [
      "Processed topic information for NUTS region DED5 and period 6\n"
     ]
    },
    {
     "name": "stderr",
     "output_type": "stream",
     "text": [
      "Batches: 100%|██████████| 16/16 [00:00<00:00, 26.02it/s]\n",
      "NUTS regions:  41%|████▏     | 84/203 [2:36:33<1:15:00, 37.82s/it]"
     ]
    },
    {
     "name": "stdout",
     "output_type": "stream",
     "text": [
      "Processed topic information for NUTS region DED5 and period 7\n",
      "No valid documents for NUTS region DED5 and period 8\n",
      "No valid documents for NUTS region DK05 and period 1\n",
      "No valid documents for NUTS region DK05 and period 2\n",
      "No valid documents for NUTS region DK05 and period 3\n"
     ]
    },
    {
     "name": "stderr",
     "output_type": "stream",
     "text": [
      "Batches: 100%|██████████| 5/5 [00:00<00:00, 14.82it/s]\n"
     ]
    },
    {
     "name": "stdout",
     "output_type": "stream",
     "text": [
      "Processed topic information for NUTS region DK05 and period 4\n"
     ]
    },
    {
     "name": "stderr",
     "output_type": "stream",
     "text": [
      "Batches: 100%|██████████| 8/8 [00:00<00:00, 25.04it/s]\n"
     ]
    },
    {
     "name": "stdout",
     "output_type": "stream",
     "text": [
      "Processed topic information for NUTS region DK05 and period 5\n"
     ]
    },
    {
     "name": "stderr",
     "output_type": "stream",
     "text": [
      "Batches: 100%|██████████| 10/10 [00:00<00:00, 29.07it/s]\n",
      "NUTS regions:  42%|████▏     | 85/203 [2:36:44<58:30, 29.75s/it]  "
     ]
    },
    {
     "name": "stdout",
     "output_type": "stream",
     "text": [
      "Processed topic information for NUTS region DK05 and period 6\n",
      "No valid documents for NUTS region DK05 and period 7\n",
      "No valid documents for NUTS region DK05 and period 8\n",
      "No valid documents for NUTS region ITH5 and period 1\n",
      "No valid documents for NUTS region ITH5 and period 2\n",
      "No valid documents for NUTS region ITH5 and period 3\n"
     ]
    },
    {
     "name": "stderr",
     "output_type": "stream",
     "text": [
      "Batches: 100%|██████████| 69/69 [00:07<00:00,  9.05it/s]\n"
     ]
    },
    {
     "name": "stdout",
     "output_type": "stream",
     "text": [
      "Processed topic information for NUTS region ITH5 and period 4\n"
     ]
    },
    {
     "name": "stderr",
     "output_type": "stream",
     "text": [
      "Batches: 100%|██████████| 94/94 [00:10<00:00,  8.73it/s]\n"
     ]
    },
    {
     "name": "stdout",
     "output_type": "stream",
     "text": [
      "Processed topic information for NUTS region ITH5 and period 5\n"
     ]
    },
    {
     "name": "stderr",
     "output_type": "stream",
     "text": [
      "Batches: 100%|██████████| 113/113 [00:14<00:00,  7.99it/s]\n"
     ]
    },
    {
     "name": "stdout",
     "output_type": "stream",
     "text": [
      "Processed topic information for NUTS region ITH5 and period 6\n"
     ]
    },
    {
     "name": "stderr",
     "output_type": "stream",
     "text": [
      "Batches: 100%|██████████| 137/137 [00:17<00:00,  7.63it/s]\n",
      "NUTS regions:  42%|████▏     | 86/203 [2:37:59<1:24:34, 43.37s/it]"
     ]
    },
    {
     "name": "stdout",
     "output_type": "stream",
     "text": [
      "Processed topic information for NUTS region ITH5 and period 7\n",
      "No valid documents for NUTS region ITH5 and period 8\n",
      "No valid documents for NUTS region BE23 and period 1\n",
      "No valid documents for NUTS region BE23 and period 2\n",
      "No valid documents for NUTS region BE23 and period 3\n"
     ]
    },
    {
     "name": "stderr",
     "output_type": "stream",
     "text": [
      "Batches: 100%|██████████| 24/24 [00:00<00:00, 28.86it/s]\n"
     ]
    },
    {
     "name": "stdout",
     "output_type": "stream",
     "text": [
      "Processed topic information for NUTS region BE23 and period 4\n"
     ]
    },
    {
     "name": "stderr",
     "output_type": "stream",
     "text": [
      "Batches: 100%|██████████| 32/32 [00:03<00:00,  9.24it/s]\n"
     ]
    },
    {
     "name": "stdout",
     "output_type": "stream",
     "text": [
      "Processed topic information for NUTS region BE23 and period 5\n"
     ]
    },
    {
     "name": "stderr",
     "output_type": "stream",
     "text": [
      "Batches: 100%|██████████| 43/43 [00:03<00:00, 11.21it/s]\n"
     ]
    },
    {
     "name": "stdout",
     "output_type": "stream",
     "text": [
      "Processed topic information for NUTS region BE23 and period 6\n"
     ]
    },
    {
     "name": "stderr",
     "output_type": "stream",
     "text": [
      "Batches: 100%|██████████| 52/52 [00:04<00:00, 12.34it/s]\n",
      "NUTS regions:  43%|████▎     | 87/203 [2:38:25<1:13:52, 38.21s/it]"
     ]
    },
    {
     "name": "stdout",
     "output_type": "stream",
     "text": [
      "Processed topic information for NUTS region BE23 and period 7\n",
      "No valid documents for NUTS region BE23 and period 8\n",
      "No valid documents for NUTS region BE21 and period 1\n",
      "No valid documents for NUTS region BE21 and period 2\n",
      "No valid documents for NUTS region BE21 and period 3\n"
     ]
    },
    {
     "name": "stderr",
     "output_type": "stream",
     "text": [
      "Batches: 100%|██████████| 44/44 [00:04<00:00, 10.66it/s]\n"
     ]
    },
    {
     "name": "stdout",
     "output_type": "stream",
     "text": [
      "Processed topic information for NUTS region BE21 and period 4\n"
     ]
    },
    {
     "name": "stderr",
     "output_type": "stream",
     "text": [
      "Batches: 100%|██████████| 52/52 [00:04<00:00, 12.39it/s]\n"
     ]
    },
    {
     "name": "stdout",
     "output_type": "stream",
     "text": [
      "Processed topic information for NUTS region BE21 and period 5\n"
     ]
    },
    {
     "name": "stderr",
     "output_type": "stream",
     "text": [
      "Batches: 100%|██████████| 61/61 [00:06<00:00,  8.76it/s]\n"
     ]
    },
    {
     "name": "stdout",
     "output_type": "stream",
     "text": [
      "Processed topic information for NUTS region BE21 and period 6\n"
     ]
    },
    {
     "name": "stderr",
     "output_type": "stream",
     "text": [
      "Batches: 100%|██████████| 60/60 [00:02<00:00, 26.60it/s]\n",
      "NUTS regions:  43%|████▎     | 88/203 [2:39:00<1:11:30, 37.31s/it]"
     ]
    },
    {
     "name": "stdout",
     "output_type": "stream",
     "text": [
      "Processed topic information for NUTS region BE21 and period 7\n",
      "No valid documents for NUTS region BE21 and period 8\n",
      "No valid documents for NUTS region NL42 and period 1\n",
      "No valid documents for NUTS region NL42 and period 2\n",
      "No valid documents for NUTS region NL42 and period 3\n"
     ]
    },
    {
     "name": "stderr",
     "output_type": "stream",
     "text": [
      "Batches: 100%|██████████| 34/34 [00:01<00:00, 26.38it/s]\n"
     ]
    },
    {
     "name": "stdout",
     "output_type": "stream",
     "text": [
      "Processed topic information for NUTS region NL42 and period 4\n"
     ]
    },
    {
     "name": "stderr",
     "output_type": "stream",
     "text": [
      "Batches: 100%|██████████| 45/45 [00:03<00:00, 11.33it/s]\n"
     ]
    },
    {
     "name": "stdout",
     "output_type": "stream",
     "text": [
      "Processed topic information for NUTS region NL42 and period 5\n"
     ]
    },
    {
     "name": "stderr",
     "output_type": "stream",
     "text": [
      "Batches: 100%|██████████| 48/48 [00:04<00:00, 11.87it/s]\n"
     ]
    },
    {
     "name": "stdout",
     "output_type": "stream",
     "text": [
      "Processed topic information for NUTS region NL42 and period 6\n"
     ]
    },
    {
     "name": "stderr",
     "output_type": "stream",
     "text": [
      "Batches: 100%|██████████| 62/62 [00:04<00:00, 12.43it/s]\n",
      "NUTS regions:  44%|████▍     | 89/203 [2:39:29<1:05:50, 34.66s/it]"
     ]
    },
    {
     "name": "stdout",
     "output_type": "stream",
     "text": [
      "Processed topic information for NUTS region NL42 and period 7\n",
      "No valid documents for NUTS region NL42 and period 8\n",
      "No valid documents for NUTS region AT34 and period 1\n",
      "No valid documents for NUTS region AT34 and period 2\n",
      "No valid documents for NUTS region AT34 and period 3\n",
      "No valid documents for NUTS region AT34 and period 4\n"
     ]
    },
    {
     "name": "stderr",
     "output_type": "stream",
     "text": [
      "Batches: 100%|██████████| 22/22 [00:00<00:00, 37.01it/s]\n"
     ]
    },
    {
     "name": "stdout",
     "output_type": "stream",
     "text": [
      "Processed topic information for NUTS region AT34 and period 5\n",
      "No valid documents for NUTS region AT34 and period 6\n",
      "No valid documents for NUTS region AT34 and period 7\n"
     ]
    },
    {
     "name": "stderr",
     "output_type": "stream",
     "text": [
      "NUTS regions:  44%|████▍     | 90/203 [2:39:34<48:21, 25.67s/it]  "
     ]
    },
    {
     "name": "stdout",
     "output_type": "stream",
     "text": [
      "No valid documents for NUTS region AT34 and period 8\n",
      "No valid documents for NUTS region DK01 and period 1\n",
      "No valid documents for NUTS region DK01 and period 2\n"
     ]
    },
    {
     "name": "stderr",
     "output_type": "stream",
     "text": [
      "Batches: 100%|██████████| 42/42 [00:03<00:00, 10.64it/s]\n"
     ]
    },
    {
     "name": "stdout",
     "output_type": "stream",
     "text": [
      "Processed topic information for NUTS region DK01 and period 3\n"
     ]
    },
    {
     "name": "stderr",
     "output_type": "stream",
     "text": [
      "Batches: 100%|██████████| 89/89 [00:10<00:00,  8.54it/s]\n"
     ]
    },
    {
     "name": "stdout",
     "output_type": "stream",
     "text": [
      "Processed topic information for NUTS region DK01 and period 4\n"
     ]
    },
    {
     "name": "stderr",
     "output_type": "stream",
     "text": [
      "Batches: 100%|██████████| 119/119 [00:10<00:00, 10.82it/s]\n"
     ]
    },
    {
     "name": "stdout",
     "output_type": "stream",
     "text": [
      "Processed topic information for NUTS region DK01 and period 5\n"
     ]
    },
    {
     "name": "stderr",
     "output_type": "stream",
     "text": [
      "Batches: 100%|██████████| 128/128 [00:13<00:00,  9.36it/s]\n"
     ]
    },
    {
     "name": "stdout",
     "output_type": "stream",
     "text": [
      "Processed topic information for NUTS region DK01 and period 6\n"
     ]
    },
    {
     "name": "stderr",
     "output_type": "stream",
     "text": [
      "Batches: 100%|██████████| 146/146 [00:14<00:00,  9.98it/s]\n",
      "NUTS regions:  45%|████▍     | 91/203 [2:41:02<1:23:00, 44.47s/it]"
     ]
    },
    {
     "name": "stdout",
     "output_type": "stream",
     "text": [
      "Processed topic information for NUTS region DK01 and period 7\n",
      "No valid documents for NUTS region DK01 and period 8\n",
      "No valid documents for NUTS region DK03 and period 1\n",
      "No valid documents for NUTS region DK03 and period 2\n",
      "No valid documents for NUTS region DK03 and period 3\n"
     ]
    },
    {
     "name": "stderr",
     "output_type": "stream",
     "text": [
      "Batches: 100%|██████████| 13/13 [00:00<00:00, 17.56it/s]\n"
     ]
    },
    {
     "name": "stdout",
     "output_type": "stream",
     "text": [
      "Processed topic information for NUTS region DK03 and period 4\n"
     ]
    },
    {
     "name": "stderr",
     "output_type": "stream",
     "text": [
      "Batches: 100%|██████████| 19/19 [00:00<00:00, 20.95it/s]\n"
     ]
    },
    {
     "name": "stdout",
     "output_type": "stream",
     "text": [
      "Processed topic information for NUTS region DK03 and period 5\n"
     ]
    },
    {
     "name": "stderr",
     "output_type": "stream",
     "text": [
      "Batches: 100%|██████████| 29/29 [00:09<00:00,  3.03it/s]\n",
      "NUTS regions:  45%|████▌     | 92/203 [2:41:28<1:12:09, 39.00s/it]"
     ]
    },
    {
     "name": "stdout",
     "output_type": "stream",
     "text": [
      "Processed topic information for NUTS region DK03 and period 6\n",
      "No valid documents for NUTS region DK03 and period 7\n",
      "No valid documents for NUTS region DK03 and period 8\n",
      "No valid documents for NUTS region NO06 and period 1\n",
      "No valid documents for NUTS region NO06 and period 2\n",
      "No valid documents for NUTS region NO06 and period 3\n"
     ]
    },
    {
     "name": "stderr",
     "output_type": "stream",
     "text": [
      "Batches: 100%|██████████| 5/5 [00:01<00:00,  4.48it/s]\n"
     ]
    },
    {
     "name": "stdout",
     "output_type": "stream",
     "text": [
      "Processed topic information for NUTS region NO06 and period 4\n"
     ]
    },
    {
     "name": "stderr",
     "output_type": "stream",
     "text": [
      "Batches: 100%|██████████| 6/6 [00:00<00:00,  8.65it/s]\n"
     ]
    },
    {
     "name": "stdout",
     "output_type": "stream",
     "text": [
      "Processed topic information for NUTS region NO06 and period 5\n"
     ]
    },
    {
     "name": "stderr",
     "output_type": "stream",
     "text": [
      "Batches: 100%|██████████| 7/7 [00:01<00:00,  6.32it/s]\n"
     ]
    },
    {
     "name": "stdout",
     "output_type": "stream",
     "text": [
      "Processed topic information for NUTS region NO06 and period 6\n"
     ]
    },
    {
     "name": "stderr",
     "output_type": "stream",
     "text": [
      "Batches: 100%|██████████| 11/11 [00:03<00:00,  3.44it/s]\n",
      "NUTS regions:  46%|████▌     | 93/203 [2:41:50<1:01:49, 33.72s/it]"
     ]
    },
    {
     "name": "stdout",
     "output_type": "stream",
     "text": [
      "Processed topic information for NUTS region NO06 and period 7\n",
      "No valid documents for NUTS region NO06 and period 8\n",
      "No valid documents for NUTS region ITI1 and period 1\n",
      "No valid documents for NUTS region ITI1 and period 2\n",
      "No valid documents for NUTS region ITI1 and period 3\n"
     ]
    },
    {
     "name": "stderr",
     "output_type": "stream",
     "text": [
      "Batches: 100%|██████████| 22/22 [00:04<00:00,  5.30it/s]\n"
     ]
    },
    {
     "name": "stdout",
     "output_type": "stream",
     "text": [
      "Processed topic information for NUTS region ITI1 and period 4\n"
     ]
    },
    {
     "name": "stderr",
     "output_type": "stream",
     "text": [
      "Batches: 100%|██████████| 39/39 [00:11<00:00,  3.49it/s]\n"
     ]
    },
    {
     "name": "stdout",
     "output_type": "stream",
     "text": [
      "Processed topic information for NUTS region ITI1 and period 5\n"
     ]
    },
    {
     "name": "stderr",
     "output_type": "stream",
     "text": [
      "Batches: 100%|██████████| 45/45 [00:14<00:00,  3.10it/s]\n"
     ]
    },
    {
     "name": "stdout",
     "output_type": "stream",
     "text": [
      "Processed topic information for NUTS region ITI1 and period 6\n"
     ]
    },
    {
     "name": "stderr",
     "output_type": "stream",
     "text": [
      "Batches: 100%|██████████| 59/59 [00:24<00:00,  2.42it/s]\n",
      "NUTS regions:  46%|████▋     | 94/203 [2:43:01<1:21:36, 44.92s/it]"
     ]
    },
    {
     "name": "stdout",
     "output_type": "stream",
     "text": [
      "Processed topic information for NUTS region ITI1 and period 7\n",
      "No valid documents for NUTS region ITI1 and period 8\n",
      "No valid documents for NUTS region EL30 and period 1\n",
      "No valid documents for NUTS region EL30 and period 2\n",
      "No valid documents for NUTS region EL30 and period 3\n"
     ]
    },
    {
     "name": "stderr",
     "output_type": "stream",
     "text": [
      "Batches: 100%|██████████| 4/4 [00:00<00:00,  4.23it/s]\n"
     ]
    },
    {
     "name": "stdout",
     "output_type": "stream",
     "text": [
      "Processed topic information for NUTS region EL30 and period 4\n"
     ]
    },
    {
     "name": "stderr",
     "output_type": "stream",
     "text": [
      "Batches: 100%|██████████| 7/7 [00:00<00:00, 28.83it/s]\n"
     ]
    },
    {
     "name": "stdout",
     "output_type": "stream",
     "text": [
      "Processed topic information for NUTS region EL30 and period 5\n"
     ]
    },
    {
     "name": "stderr",
     "output_type": "stream",
     "text": [
      "Batches: 100%|██████████| 9/9 [00:00<00:00, 32.03it/s]\n"
     ]
    },
    {
     "name": "stdout",
     "output_type": "stream",
     "text": [
      "Processed topic information for NUTS region EL30 and period 6\n"
     ]
    },
    {
     "name": "stderr",
     "output_type": "stream",
     "text": [
      "Batches: 100%|██████████| 13/13 [00:07<00:00,  1.85it/s]\n",
      "NUTS regions:  47%|████▋     | 95/203 [2:43:21<1:07:42, 37.62s/it]"
     ]
    },
    {
     "name": "stdout",
     "output_type": "stream",
     "text": [
      "Processed topic information for NUTS region EL30 and period 7\n",
      "No valid documents for NUTS region EL30 and period 8\n",
      "No valid documents for NUTS region ITC1 and period 1\n",
      "No valid documents for NUTS region ITC1 and period 2\n",
      "No valid documents for NUTS region ITC1 and period 3\n"
     ]
    },
    {
     "name": "stderr",
     "output_type": "stream",
     "text": [
      "Batches: 100%|██████████| 61/61 [00:07<00:00,  8.59it/s]\n"
     ]
    },
    {
     "name": "stdout",
     "output_type": "stream",
     "text": [
      "Processed topic information for NUTS region ITC1 and period 4\n"
     ]
    },
    {
     "name": "stderr",
     "output_type": "stream",
     "text": [
      "Batches: 100%|██████████| 80/80 [00:07<00:00, 10.32it/s]\n"
     ]
    },
    {
     "name": "stdout",
     "output_type": "stream",
     "text": [
      "Processed topic information for NUTS region ITC1 and period 5\n"
     ]
    },
    {
     "name": "stderr",
     "output_type": "stream",
     "text": [
      "Batches: 100%|██████████| 81/81 [00:10<00:00,  7.84it/s]\n"
     ]
    },
    {
     "name": "stdout",
     "output_type": "stream",
     "text": [
      "Processed topic information for NUTS region ITC1 and period 6\n"
     ]
    },
    {
     "name": "stderr",
     "output_type": "stream",
     "text": [
      "Batches: 100%|██████████| 91/91 [00:06<00:00, 14.33it/s]\n",
      "NUTS regions:  47%|████▋     | 96/203 [2:44:16<1:16:22, 42.82s/it]"
     ]
    },
    {
     "name": "stdout",
     "output_type": "stream",
     "text": [
      "Processed topic information for NUTS region ITC1 and period 7\n",
      "No valid documents for NUTS region ITC1 and period 8\n",
      "No valid documents for NUTS region UKC1 and period 1\n",
      "No valid documents for NUTS region UKC1 and period 2\n",
      "No valid documents for NUTS region UKC1 and period 3\n"
     ]
    },
    {
     "name": "stderr",
     "output_type": "stream",
     "text": [
      "Batches: 100%|██████████| 13/13 [00:00<00:00, 31.17it/s]\n"
     ]
    },
    {
     "name": "stdout",
     "output_type": "stream",
     "text": [
      "Processed topic information for NUTS region UKC1 and period 4\n"
     ]
    },
    {
     "name": "stderr",
     "output_type": "stream",
     "text": [
      "Batches: 100%|██████████| 14/14 [00:00<00:00, 32.08it/s]\n"
     ]
    },
    {
     "name": "stdout",
     "output_type": "stream",
     "text": [
      "Processed topic information for NUTS region UKC1 and period 5\n"
     ]
    },
    {
     "name": "stderr",
     "output_type": "stream",
     "text": [
      "Batches: 100%|██████████| 14/14 [00:00<00:00, 29.00it/s]\n",
      "NUTS regions:  48%|████▊     | 97/203 [2:44:27<58:29, 33.11s/it]  "
     ]
    },
    {
     "name": "stdout",
     "output_type": "stream",
     "text": [
      "Processed topic information for NUTS region UKC1 and period 6\n",
      "No valid documents for NUTS region UKC1 and period 7\n",
      "No valid documents for NUTS region UKC1 and period 8\n",
      "No valid documents for NUTS region UKD3 and period 1\n",
      "No valid documents for NUTS region UKD3 and period 2\n",
      "No valid documents for NUTS region UKD3 and period 3\n"
     ]
    },
    {
     "name": "stderr",
     "output_type": "stream",
     "text": [
      "Batches: 100%|██████████| 25/25 [00:00<00:00, 28.93it/s]\n"
     ]
    },
    {
     "name": "stdout",
     "output_type": "stream",
     "text": [
      "Processed topic information for NUTS region UKD3 and period 4\n"
     ]
    },
    {
     "name": "stderr",
     "output_type": "stream",
     "text": [
      "Batches: 100%|██████████| 24/24 [00:00<00:00, 29.69it/s]\n"
     ]
    },
    {
     "name": "stdout",
     "output_type": "stream",
     "text": [
      "Processed topic information for NUTS region UKD3 and period 5\n"
     ]
    },
    {
     "name": "stderr",
     "output_type": "stream",
     "text": [
      "Batches: 100%|██████████| 25/25 [00:00<00:00, 30.45it/s]\n"
     ]
    },
    {
     "name": "stdout",
     "output_type": "stream",
     "text": [
      "Processed topic information for NUTS region UKD3 and period 6\n"
     ]
    },
    {
     "name": "stderr",
     "output_type": "stream",
     "text": [
      "Batches: 100%|██████████| 28/28 [00:00<00:00, 30.71it/s]\n",
      "NUTS regions:  48%|████▊     | 98/203 [2:44:42<48:42, 27.83s/it]"
     ]
    },
    {
     "name": "stdout",
     "output_type": "stream",
     "text": [
      "Processed topic information for NUTS region UKD3 and period 7\n",
      "No valid documents for NUTS region UKD3 and period 8\n",
      "No valid documents for NUTS region FI1D and period 1\n",
      "No valid documents for NUTS region FI1D and period 2\n",
      "No valid documents for NUTS region FI1D and period 3\n"
     ]
    },
    {
     "name": "stderr",
     "output_type": "stream",
     "text": [
      "Batches: 100%|██████████| 18/18 [00:00<00:00, 27.69it/s]\n"
     ]
    },
    {
     "name": "stdout",
     "output_type": "stream",
     "text": [
      "Processed topic information for NUTS region FI1D and period 4\n"
     ]
    },
    {
     "name": "stderr",
     "output_type": "stream",
     "text": [
      "Batches: 100%|██████████| 19/19 [00:00<00:00, 30.00it/s]\n"
     ]
    },
    {
     "name": "stdout",
     "output_type": "stream",
     "text": [
      "Processed topic information for NUTS region FI1D and period 5\n"
     ]
    },
    {
     "name": "stderr",
     "output_type": "stream",
     "text": [
      "Batches: 100%|██████████| 26/26 [00:00<00:00, 33.00it/s]\n"
     ]
    },
    {
     "name": "stdout",
     "output_type": "stream",
     "text": [
      "Processed topic information for NUTS region FI1D and period 6\n"
     ]
    },
    {
     "name": "stderr",
     "output_type": "stream",
     "text": [
      "Batches: 100%|██████████| 32/32 [00:03<00:00,  9.07it/s]\n",
      "NUTS regions:  49%|████▉     | 99/203 [2:45:00<42:52, 24.73s/it]"
     ]
    },
    {
     "name": "stdout",
     "output_type": "stream",
     "text": [
      "Processed topic information for NUTS region FI1D and period 7\n",
      "No valid documents for NUTS region FI1D and period 8\n",
      "No valid documents for NUTS region UKL2 and period 1\n",
      "No valid documents for NUTS region UKL2 and period 2\n",
      "No valid documents for NUTS region UKL2 and period 3\n"
     ]
    },
    {
     "name": "stderr",
     "output_type": "stream",
     "text": [
      "Batches: 100%|██████████| 13/13 [00:00<00:00, 30.45it/s]\n"
     ]
    },
    {
     "name": "stdout",
     "output_type": "stream",
     "text": [
      "Processed topic information for NUTS region UKL2 and period 4\n"
     ]
    },
    {
     "name": "stderr",
     "output_type": "stream",
     "text": [
      "Batches: 100%|██████████| 12/12 [00:00<00:00, 32.35it/s]\n"
     ]
    },
    {
     "name": "stdout",
     "output_type": "stream",
     "text": [
      "Processed topic information for NUTS region UKL2 and period 5\n"
     ]
    },
    {
     "name": "stderr",
     "output_type": "stream",
     "text": [
      "Batches: 100%|██████████| 12/12 [00:00<00:00, 30.70it/s]\n"
     ]
    },
    {
     "name": "stdout",
     "output_type": "stream",
     "text": [
      "Processed topic information for NUTS region UKL2 and period 6\n"
     ]
    },
    {
     "name": "stderr",
     "output_type": "stream",
     "text": [
      "Batches: 100%|██████████| 18/18 [00:00<00:00, 30.01it/s]\n",
      "NUTS regions:  49%|████▉     | 100/203 [2:45:14<36:53, 21.49s/it]"
     ]
    },
    {
     "name": "stdout",
     "output_type": "stream",
     "text": [
      "Processed topic information for NUTS region UKL2 and period 7\n",
      "No valid documents for NUTS region UKL2 and period 8\n",
      "No valid documents for NUTS region ES52 and period 1\n",
      "No valid documents for NUTS region ES52 and period 2\n",
      "No valid documents for NUTS region ES52 and period 3\n"
     ]
    },
    {
     "name": "stderr",
     "output_type": "stream",
     "text": [
      "Batches: 100%|██████████| 6/6 [00:00<00:00, 27.35it/s]\n"
     ]
    },
    {
     "name": "stdout",
     "output_type": "stream",
     "text": [
      "Processed topic information for NUTS region ES52 and period 4\n"
     ]
    },
    {
     "name": "stderr",
     "output_type": "stream",
     "text": [
      "Batches: 100%|██████████| 8/8 [00:00<00:00, 26.43it/s]\n"
     ]
    },
    {
     "name": "stdout",
     "output_type": "stream",
     "text": [
      "Processed topic information for NUTS region ES52 and period 5\n"
     ]
    },
    {
     "name": "stderr",
     "output_type": "stream",
     "text": [
      "Batches: 100%|██████████| 11/11 [00:00<00:00, 31.60it/s]\n"
     ]
    },
    {
     "name": "stdout",
     "output_type": "stream",
     "text": [
      "Processed topic information for NUTS region ES52 and period 6\n"
     ]
    },
    {
     "name": "stderr",
     "output_type": "stream",
     "text": [
      "Batches: 100%|██████████| 15/15 [00:00<00:00, 29.99it/s]\n",
      "NUTS regions:  50%|████▉     | 101/203 [2:45:27<32:36, 19.18s/it]"
     ]
    },
    {
     "name": "stdout",
     "output_type": "stream",
     "text": [
      "Processed topic information for NUTS region ES52 and period 7\n",
      "No valid documents for NUTS region ES52 and period 8\n",
      "No valid documents for NUTS region LU00 and period 1\n",
      "No valid documents for NUTS region LU00 and period 2\n",
      "No valid documents for NUTS region LU00 and period 3\n"
     ]
    },
    {
     "name": "stderr",
     "output_type": "stream",
     "text": [
      "Batches: 100%|██████████| 18/18 [00:00<00:00, 28.46it/s]\n"
     ]
    },
    {
     "name": "stdout",
     "output_type": "stream",
     "text": [
      "Processed topic information for NUTS region LU00 and period 4\n"
     ]
    },
    {
     "name": "stderr",
     "output_type": "stream",
     "text": [
      "Batches: 100%|██████████| 29/29 [00:00<00:00, 30.68it/s]\n"
     ]
    },
    {
     "name": "stdout",
     "output_type": "stream",
     "text": [
      "Processed topic information for NUTS region LU00 and period 5\n",
      "No valid documents for NUTS region LU00 and period 6\n",
      "No valid documents for NUTS region LU00 and period 7\n"
     ]
    },
    {
     "name": "stderr",
     "output_type": "stream",
     "text": [
      "NUTS regions:  50%|█████     | 102/203 [2:45:36<26:44, 15.89s/it]"
     ]
    },
    {
     "name": "stdout",
     "output_type": "stream",
     "text": [
      "No valid documents for NUTS region LU00 and period 8\n",
      "No valid documents for NUTS region UKF1 and period 1\n",
      "No valid documents for NUTS region UKF1 and period 2\n",
      "No valid documents for NUTS region UKF1 and period 3\n"
     ]
    },
    {
     "name": "stderr",
     "output_type": "stream",
     "text": [
      "Batches: 100%|██████████| 26/26 [00:00<00:00, 30.25it/s]\n"
     ]
    },
    {
     "name": "stdout",
     "output_type": "stream",
     "text": [
      "Processed topic information for NUTS region UKF1 and period 4\n"
     ]
    },
    {
     "name": "stderr",
     "output_type": "stream",
     "text": [
      "Batches: 100%|██████████| 29/29 [00:03<00:00,  8.41it/s]\n"
     ]
    },
    {
     "name": "stdout",
     "output_type": "stream",
     "text": [
      "Processed topic information for NUTS region UKF1 and period 5\n"
     ]
    },
    {
     "name": "stderr",
     "output_type": "stream",
     "text": [
      "Batches: 100%|██████████| 36/36 [00:03<00:00,  9.82it/s]\n"
     ]
    },
    {
     "name": "stdout",
     "output_type": "stream",
     "text": [
      "Processed topic information for NUTS region UKF1 and period 6\n"
     ]
    },
    {
     "name": "stderr",
     "output_type": "stream",
     "text": [
      "Batches: 100%|██████████| 47/47 [00:04<00:00, 11.60it/s]\n",
      "NUTS regions:  51%|█████     | 103/203 [2:46:01<31:21, 18.82s/it]"
     ]
    },
    {
     "name": "stdout",
     "output_type": "stream",
     "text": [
      "Processed topic information for NUTS region UKF1 and period 7\n",
      "No valid documents for NUTS region UKF1 and period 8\n",
      "No valid documents for NUTS region UKJ4 and period 1\n",
      "No valid documents for NUTS region UKJ4 and period 2\n",
      "No valid documents for NUTS region UKJ4 and period 3\n"
     ]
    },
    {
     "name": "stderr",
     "output_type": "stream",
     "text": [
      "Batches: 100%|██████████| 20/20 [00:00<00:00, 30.38it/s]\n"
     ]
    },
    {
     "name": "stdout",
     "output_type": "stream",
     "text": [
      "Processed topic information for NUTS region UKJ4 and period 4\n"
     ]
    },
    {
     "name": "stderr",
     "output_type": "stream",
     "text": [
      "Batches: 100%|██████████| 21/21 [00:00<00:00, 29.83it/s]\n"
     ]
    },
    {
     "name": "stdout",
     "output_type": "stream",
     "text": [
      "Processed topic information for NUTS region UKJ4 and period 5\n"
     ]
    },
    {
     "name": "stderr",
     "output_type": "stream",
     "text": [
      "Batches: 100%|██████████| 16/16 [00:00<00:00, 27.41it/s]\n"
     ]
    },
    {
     "name": "stdout",
     "output_type": "stream",
     "text": [
      "Processed topic information for NUTS region UKJ4 and period 6\n"
     ]
    },
    {
     "name": "stderr",
     "output_type": "stream",
     "text": [
      "Batches: 100%|██████████| 15/15 [00:00<00:00, 24.45it/s]\n",
      "NUTS regions:  51%|█████     | 104/203 [2:46:16<29:13, 17.71s/it]"
     ]
    },
    {
     "name": "stdout",
     "output_type": "stream",
     "text": [
      "Processed topic information for NUTS region UKJ4 and period 7\n",
      "No valid documents for NUTS region UKJ4 and period 8\n",
      "No valid documents for NUTS region SE31 and period 1\n",
      "No valid documents for NUTS region SE31 and period 2\n",
      "No valid documents for NUTS region SE31 and period 3\n"
     ]
    },
    {
     "name": "stderr",
     "output_type": "stream",
     "text": [
      "Batches: 100%|██████████| 21/21 [00:10<00:00,  2.01it/s]\n"
     ]
    },
    {
     "name": "stdout",
     "output_type": "stream",
     "text": [
      "Processed topic information for NUTS region SE31 and period 4\n"
     ]
    },
    {
     "name": "stderr",
     "output_type": "stream",
     "text": [
      "Batches: 100%|██████████| 20/20 [00:21<00:00,  1.05s/it]\n"
     ]
    },
    {
     "name": "stdout",
     "output_type": "stream",
     "text": [
      "Processed topic information for NUTS region SE31 and period 5\n"
     ]
    },
    {
     "name": "stderr",
     "output_type": "stream",
     "text": [
      "Batches: 100%|██████████| 19/19 [00:21<00:00,  1.13s/it]\n",
      "NUTS regions:  52%|█████▏    | 105/203 [2:47:19<51:04, 31.27s/it]"
     ]
    },
    {
     "name": "stdout",
     "output_type": "stream",
     "text": [
      "Processed topic information for NUTS region SE31 and period 6\n",
      "No valid documents for NUTS region SE31 and period 7\n",
      "No valid documents for NUTS region SE31 and period 8\n",
      "No valid documents for NUTS region SE32 and period 1\n",
      "No valid documents for NUTS region SE32 and period 2\n",
      "No valid documents for NUTS region SE32 and period 3\n"
     ]
    },
    {
     "name": "stderr",
     "output_type": "stream",
     "text": [
      "Batches: 100%|██████████| 6/6 [00:10<00:00,  1.75s/it]\n"
     ]
    },
    {
     "name": "stdout",
     "output_type": "stream",
     "text": [
      "Processed topic information for NUTS region SE32 and period 4\n"
     ]
    },
    {
     "name": "stderr",
     "output_type": "stream",
     "text": [
      "Batches: 100%|██████████| 5/5 [00:10<00:00,  2.16s/it]\n"
     ]
    },
    {
     "name": "stdout",
     "output_type": "stream",
     "text": [
      "Processed topic information for NUTS region SE32 and period 5\n",
      "No valid documents for NUTS region SE32 and period 6\n",
      "No valid documents for NUTS region SE32 and period 7\n"
     ]
    },
    {
     "name": "stderr",
     "output_type": "stream",
     "text": [
      "NUTS regions:  52%|█████▏    | 106/203 [2:47:47<48:45, 30.16s/it]"
     ]
    },
    {
     "name": "stdout",
     "output_type": "stream",
     "text": [
      "No valid documents for NUTS region SE32 and period 8\n",
      "No valid documents for NUTS region NL22 and period 1\n",
      "No valid documents for NUTS region NL22 and period 2\n",
      "No valid documents for NUTS region NL22 and period 3\n"
     ]
    },
    {
     "name": "stderr",
     "output_type": "stream",
     "text": [
      "Batches: 100%|██████████| 43/43 [01:43<00:00,  2.41s/it]\n"
     ]
    },
    {
     "name": "stdout",
     "output_type": "stream",
     "text": [
      "Processed topic information for NUTS region NL22 and period 4\n"
     ]
    },
    {
     "name": "stderr",
     "output_type": "stream",
     "text": [
      "Batches: 100%|██████████| 46/46 [01:10<00:00,  1.52s/it]\n"
     ]
    },
    {
     "name": "stdout",
     "output_type": "stream",
     "text": [
      "Processed topic information for NUTS region NL22 and period 5\n"
     ]
    },
    {
     "name": "stderr",
     "output_type": "stream",
     "text": [
      "Batches: 100%|██████████| 57/57 [00:30<00:00,  1.86it/s]\n"
     ]
    },
    {
     "name": "stdout",
     "output_type": "stream",
     "text": [
      "Processed topic information for NUTS region NL22 and period 6\n"
     ]
    },
    {
     "name": "stderr",
     "output_type": "stream",
     "text": [
      "Batches: 100%|██████████| 58/58 [00:22<00:00,  2.63it/s]\n",
      "NUTS regions:  53%|█████▎    | 107/203 [2:51:49<2:29:55, 93.70s/it]"
     ]
    },
    {
     "name": "stdout",
     "output_type": "stream",
     "text": [
      "Processed topic information for NUTS region NL22 and period 7\n",
      "No valid documents for NUTS region NL22 and period 8\n",
      "No valid documents for NUTS region NL13 and period 1\n",
      "No valid documents for NUTS region NL13 and period 2\n",
      "No valid documents for NUTS region NL13 and period 3\n"
     ]
    },
    {
     "name": "stderr",
     "output_type": "stream",
     "text": [
      "Batches: 100%|██████████| 6/6 [00:00<00:00, 10.74it/s]\n"
     ]
    },
    {
     "name": "stdout",
     "output_type": "stream",
     "text": [
      "Processed topic information for NUTS region NL13 and period 4\n"
     ]
    },
    {
     "name": "stderr",
     "output_type": "stream",
     "text": [
      "Batches: 100%|██████████| 7/7 [00:00<00:00,  8.93it/s]\n"
     ]
    },
    {
     "name": "stdout",
     "output_type": "stream",
     "text": [
      "Processed topic information for NUTS region NL13 and period 5\n",
      "No valid documents for NUTS region NL13 and period 6\n",
      "No valid documents for NUTS region NL13 and period 7\n"
     ]
    },
    {
     "name": "stderr",
     "output_type": "stream",
     "text": [
      "NUTS regions:  53%|█████▎    | 108/203 [2:51:56<1:47:23, 67.83s/it]"
     ]
    },
    {
     "name": "stdout",
     "output_type": "stream",
     "text": [
      "No valid documents for NUTS region NL13 and period 8\n",
      "No valid documents for NUTS region NL11 and period 1\n",
      "No valid documents for NUTS region NL11 and period 2\n",
      "No valid documents for NUTS region NL11 and period 3\n"
     ]
    },
    {
     "name": "stderr",
     "output_type": "stream",
     "text": [
      "Batches: 100%|██████████| 10/10 [00:07<00:00,  1.26it/s]\n"
     ]
    },
    {
     "name": "stdout",
     "output_type": "stream",
     "text": [
      "Processed topic information for NUTS region NL11 and period 4\n"
     ]
    },
    {
     "name": "stderr",
     "output_type": "stream",
     "text": [
      "Batches: 100%|██████████| 8/8 [00:06<00:00,  1.22it/s]\n"
     ]
    },
    {
     "name": "stdout",
     "output_type": "stream",
     "text": [
      "Processed topic information for NUTS region NL11 and period 5\n"
     ]
    },
    {
     "name": "stderr",
     "output_type": "stream",
     "text": [
      "Batches: 100%|██████████| 9/9 [00:14<00:00,  1.65s/it]\n"
     ]
    },
    {
     "name": "stdout",
     "output_type": "stream",
     "text": [
      "Processed topic information for NUTS region NL11 and period 6\n"
     ]
    },
    {
     "name": "stderr",
     "output_type": "stream",
     "text": [
      "Batches: 100%|██████████| 8/8 [00:11<00:00,  1.39s/it]\n",
      "NUTS regions:  54%|█████▎    | 109/203 [2:52:46<1:37:44, 62.39s/it]"
     ]
    },
    {
     "name": "stdout",
     "output_type": "stream",
     "text": [
      "Processed topic information for NUTS region NL11 and period 7\n",
      "No valid documents for NUTS region NL11 and period 8\n",
      "No valid documents for NUTS region UKD6 and period 1\n",
      "No valid documents for NUTS region UKD6 and period 2\n",
      "No valid documents for NUTS region UKD6 and period 3\n"
     ]
    },
    {
     "name": "stderr",
     "output_type": "stream",
     "text": [
      "Batches: 100%|██████████| 23/23 [00:51<00:00,  2.23s/it]\n"
     ]
    },
    {
     "name": "stdout",
     "output_type": "stream",
     "text": [
      "Processed topic information for NUTS region UKD6 and period 4\n"
     ]
    },
    {
     "name": "stderr",
     "output_type": "stream",
     "text": [
      "Batches: 100%|██████████| 23/23 [00:05<00:00,  4.42it/s]\n"
     ]
    },
    {
     "name": "stdout",
     "output_type": "stream",
     "text": [
      "Processed topic information for NUTS region UKD6 and period 5\n"
     ]
    },
    {
     "name": "stderr",
     "output_type": "stream",
     "text": [
      "Batches: 100%|██████████| 21/21 [00:03<00:00,  5.83it/s]\n",
      "NUTS regions:  54%|█████▍    | 110/203 [2:53:56<1:40:00, 64.53s/it]"
     ]
    },
    {
     "name": "stdout",
     "output_type": "stream",
     "text": [
      "Processed topic information for NUTS region UKD6 and period 6\n",
      "No valid documents for NUTS region UKD6 and period 7\n",
      "No valid documents for NUTS region UKD6 and period 8\n",
      "No valid documents for NUTS region ITG1 and period 1\n",
      "No valid documents for NUTS region ITG1 and period 2\n",
      "No valid documents for NUTS region ITG1 and period 3\n"
     ]
    },
    {
     "name": "stderr",
     "output_type": "stream",
     "text": [
      "Batches: 100%|██████████| 9/9 [00:01<00:00,  6.06it/s]\n"
     ]
    },
    {
     "name": "stdout",
     "output_type": "stream",
     "text": [
      "Processed topic information for NUTS region ITG1 and period 4\n"
     ]
    },
    {
     "name": "stderr",
     "output_type": "stream",
     "text": [
      "Batches: 100%|██████████| 12/12 [00:04<00:00,  2.96it/s]\n"
     ]
    },
    {
     "name": "stdout",
     "output_type": "stream",
     "text": [
      "Processed topic information for NUTS region ITG1 and period 5\n"
     ]
    },
    {
     "name": "stderr",
     "output_type": "stream",
     "text": [
      "Batches: 100%|██████████| 7/7 [00:00<00:00,  7.32it/s]\n"
     ]
    },
    {
     "name": "stdout",
     "output_type": "stream",
     "text": [
      "Processed topic information for NUTS region ITG1 and period 6\n"
     ]
    },
    {
     "name": "stderr",
     "output_type": "stream",
     "text": [
      "Batches: 100%|██████████| 8/8 [00:00<00:00, 14.17it/s]\n",
      "NUTS regions:  55%|█████▍    | 111/203 [2:54:15<1:18:00, 50.88s/it]"
     ]
    },
    {
     "name": "stdout",
     "output_type": "stream",
     "text": [
      "Processed topic information for NUTS region ITG1 and period 7\n",
      "No valid documents for NUTS region ITG1 and period 8\n",
      "No valid documents for NUTS region NO03 and period 1\n",
      "No valid documents for NUTS region NO03 and period 2\n",
      "No valid documents for NUTS region NO03 and period 3\n"
     ]
    },
    {
     "name": "stderr",
     "output_type": "stream",
     "text": [
      "Batches: 100%|██████████| 11/11 [00:01<00:00,  7.81it/s]\n"
     ]
    },
    {
     "name": "stdout",
     "output_type": "stream",
     "text": [
      "Processed topic information for NUTS region NO03 and period 4\n"
     ]
    },
    {
     "name": "stderr",
     "output_type": "stream",
     "text": [
      "Batches: 100%|██████████| 13/13 [00:06<00:00,  1.87it/s]\n"
     ]
    },
    {
     "name": "stdout",
     "output_type": "stream",
     "text": [
      "Processed topic information for NUTS region NO03 and period 5\n",
      "No valid documents for NUTS region NO03 and period 6\n",
      "No valid documents for NUTS region NO03 and period 7\n"
     ]
    },
    {
     "name": "stderr",
     "output_type": "stream",
     "text": [
      "NUTS regions:  55%|█████▌    | 112/203 [2:54:28<1:00:03, 39.59s/it]"
     ]
    },
    {
     "name": "stdout",
     "output_type": "stream",
     "text": [
      "No valid documents for NUTS region NO03 and period 8\n",
      "No valid documents for NUTS region BE33 and period 1\n",
      "No valid documents for NUTS region BE33 and period 2\n",
      "No valid documents for NUTS region BE33 and period 3\n"
     ]
    },
    {
     "name": "stderr",
     "output_type": "stream",
     "text": [
      "Batches: 100%|██████████| 14/14 [00:04<00:00,  3.29it/s]\n"
     ]
    },
    {
     "name": "stdout",
     "output_type": "stream",
     "text": [
      "Processed topic information for NUTS region BE33 and period 4\n"
     ]
    },
    {
     "name": "stderr",
     "output_type": "stream",
     "text": [
      "Batches: 100%|██████████| 19/19 [00:07<00:00,  2.66it/s]\n"
     ]
    },
    {
     "name": "stdout",
     "output_type": "stream",
     "text": [
      "Processed topic information for NUTS region BE33 and period 5\n"
     ]
    },
    {
     "name": "stderr",
     "output_type": "stream",
     "text": [
      "Batches: 100%|██████████| 20/20 [00:16<00:00,  1.22it/s]\n",
      "NUTS regions:  56%|█████▌    | 113/203 [2:55:05<58:14, 38.82s/it]  "
     ]
    },
    {
     "name": "stdout",
     "output_type": "stream",
     "text": [
      "Processed topic information for NUTS region BE33 and period 6\n",
      "No valid documents for NUTS region BE33 and period 7\n",
      "No valid documents for NUTS region BE33 and period 8\n",
      "No valid documents for NUTS region IE01 and period 1\n",
      "No valid documents for NUTS region IE01 and period 2\n",
      "No valid documents for NUTS region IE01 and period 3\n"
     ]
    },
    {
     "name": "stderr",
     "output_type": "stream",
     "text": [
      "Batches: 100%|██████████| 6/6 [00:03<00:00,  1.65it/s]\n"
     ]
    },
    {
     "name": "stdout",
     "output_type": "stream",
     "text": [
      "Processed topic information for NUTS region IE01 and period 4\n"
     ]
    },
    {
     "name": "stderr",
     "output_type": "stream",
     "text": [
      "Batches: 100%|██████████| 11/11 [00:00<00:00, 13.43it/s]\n"
     ]
    },
    {
     "name": "stdout",
     "output_type": "stream",
     "text": [
      "Processed topic information for NUTS region IE01 and period 5\n"
     ]
    },
    {
     "name": "stderr",
     "output_type": "stream",
     "text": [
      "Batches: 100%|██████████| 16/16 [00:13<00:00,  1.16it/s]\n",
      "NUTS regions:  56%|█████▌    | 114/203 [2:55:33<52:59, 35.73s/it]"
     ]
    },
    {
     "name": "stdout",
     "output_type": "stream",
     "text": [
      "Processed topic information for NUTS region IE01 and period 6\n",
      "No valid documents for NUTS region IE01 and period 7\n",
      "No valid documents for NUTS region IE01 and period 8\n",
      "No valid documents for NUTS region ITF3 and period 1\n",
      "No valid documents for NUTS region ITF3 and period 2\n",
      "No valid documents for NUTS region ITF3 and period 3\n"
     ]
    },
    {
     "name": "stderr",
     "output_type": "stream",
     "text": [
      "Batches: 100%|██████████| 6/6 [00:03<00:00,  1.68it/s]\n"
     ]
    },
    {
     "name": "stdout",
     "output_type": "stream",
     "text": [
      "Processed topic information for NUTS region ITF3 and period 4\n"
     ]
    },
    {
     "name": "stderr",
     "output_type": "stream",
     "text": [
      "Batches: 100%|██████████| 10/10 [00:00<00:00, 29.42it/s]\n"
     ]
    },
    {
     "name": "stdout",
     "output_type": "stream",
     "text": [
      "Processed topic information for NUTS region ITF3 and period 5\n"
     ]
    },
    {
     "name": "stderr",
     "output_type": "stream",
     "text": [
      "Batches: 100%|██████████| 16/16 [00:00<00:00, 28.64it/s]\n"
     ]
    },
    {
     "name": "stdout",
     "output_type": "stream",
     "text": [
      "Processed topic information for NUTS region ITF3 and period 6\n"
     ]
    },
    {
     "name": "stderr",
     "output_type": "stream",
     "text": [
      "Batches: 100%|██████████| 15/15 [00:00<00:00, 28.78it/s]\n",
      "NUTS regions:  57%|█████▋    | 115/203 [2:55:51<44:23, 30.26s/it]"
     ]
    },
    {
     "name": "stdout",
     "output_type": "stream",
     "text": [
      "Processed topic information for NUTS region ITF3 and period 7\n",
      "No valid documents for NUTS region ITF3 and period 8\n",
      "No valid documents for NUTS region FR26 and period 1\n",
      "No valid documents for NUTS region FR26 and period 2\n",
      "No valid documents for NUTS region FR26 and period 3\n"
     ]
    },
    {
     "name": "stderr",
     "output_type": "stream",
     "text": [
      "Batches: 100%|██████████| 20/20 [00:00<00:00, 27.48it/s]\n"
     ]
    },
    {
     "name": "stdout",
     "output_type": "stream",
     "text": [
      "Processed topic information for NUTS region FR26 and period 4\n"
     ]
    },
    {
     "name": "stderr",
     "output_type": "stream",
     "text": [
      "Batches: 100%|██████████| 20/20 [00:00<00:00, 31.24it/s]\n"
     ]
    },
    {
     "name": "stdout",
     "output_type": "stream",
     "text": [
      "Processed topic information for NUTS region FR26 and period 5\n"
     ]
    },
    {
     "name": "stderr",
     "output_type": "stream",
     "text": [
      "Batches: 100%|██████████| 20/20 [00:00<00:00, 29.30it/s]\n",
      "NUTS regions:  57%|█████▋    | 116/203 [2:56:02<35:26, 24.45s/it]"
     ]
    },
    {
     "name": "stdout",
     "output_type": "stream",
     "text": [
      "Processed topic information for NUTS region FR26 and period 6\n",
      "No valid documents for NUTS region FR26 and period 7\n",
      "No valid documents for NUTS region FR26 and period 8\n",
      "No valid documents for NUTS region ES51 and period 1\n",
      "No valid documents for NUTS region ES51 and period 2\n",
      "No valid documents for NUTS region ES51 and period 3\n"
     ]
    },
    {
     "name": "stderr",
     "output_type": "stream",
     "text": [
      "Batches: 100%|██████████| 26/26 [00:03<00:00,  7.58it/s]\n"
     ]
    },
    {
     "name": "stdout",
     "output_type": "stream",
     "text": [
      "Processed topic information for NUTS region ES51 and period 4\n"
     ]
    },
    {
     "name": "stderr",
     "output_type": "stream",
     "text": [
      "Batches: 100%|██████████| 41/41 [00:03<00:00, 10.63it/s]\n"
     ]
    },
    {
     "name": "stdout",
     "output_type": "stream",
     "text": [
      "Processed topic information for NUTS region ES51 and period 5\n"
     ]
    },
    {
     "name": "stderr",
     "output_type": "stream",
     "text": [
      "Batches: 100%|██████████| 50/50 [00:01<00:00, 27.14it/s]\n"
     ]
    },
    {
     "name": "stdout",
     "output_type": "stream",
     "text": [
      "Processed topic information for NUTS region ES51 and period 6\n"
     ]
    },
    {
     "name": "stderr",
     "output_type": "stream",
     "text": [
      "Batches: 100%|██████████| 70/70 [00:07<00:00,  9.86it/s]\n",
      "NUTS regions:  58%|█████▊    | 117/203 [2:56:34<38:25, 26.80s/it]"
     ]
    },
    {
     "name": "stdout",
     "output_type": "stream",
     "text": [
      "Processed topic information for NUTS region ES51 and period 7\n",
      "No valid documents for NUTS region ES51 and period 8\n",
      "No valid documents for NUTS region DK02 and period 1\n",
      "No valid documents for NUTS region DK02 and period 2\n",
      "No valid documents for NUTS region DK02 and period 3\n"
     ]
    },
    {
     "name": "stderr",
     "output_type": "stream",
     "text": [
      "Batches: 100%|██████████| 12/12 [00:00<00:00, 27.78it/s]\n"
     ]
    },
    {
     "name": "stdout",
     "output_type": "stream",
     "text": [
      "Processed topic information for NUTS region DK02 and period 4\n"
     ]
    },
    {
     "name": "stderr",
     "output_type": "stream",
     "text": [
      "Batches: 100%|██████████| 17/17 [00:00<00:00, 28.11it/s]\n"
     ]
    },
    {
     "name": "stdout",
     "output_type": "stream",
     "text": [
      "Processed topic information for NUTS region DK02 and period 5\n"
     ]
    },
    {
     "name": "stderr",
     "output_type": "stream",
     "text": [
      "Batches: 100%|██████████| 20/20 [00:00<00:00, 29.38it/s]\n",
      "NUTS regions:  58%|█████▊    | 118/203 [2:56:45<31:12, 22.02s/it]"
     ]
    },
    {
     "name": "stdout",
     "output_type": "stream",
     "text": [
      "Processed topic information for NUTS region DK02 and period 6\n",
      "No valid documents for NUTS region DK02 and period 7\n",
      "No valid documents for NUTS region DK02 and period 8\n",
      "No valid documents for NUTS region UKK2 and period 1\n",
      "No valid documents for NUTS region UKK2 and period 2\n",
      "No valid documents for NUTS region UKK2 and period 3\n"
     ]
    },
    {
     "name": "stderr",
     "output_type": "stream",
     "text": [
      "Batches: 100%|██████████| 11/11 [00:00<00:00, 32.02it/s]\n"
     ]
    },
    {
     "name": "stdout",
     "output_type": "stream",
     "text": [
      "Processed topic information for NUTS region UKK2 and period 4\n"
     ]
    },
    {
     "name": "stderr",
     "output_type": "stream",
     "text": [
      "Batches: 100%|██████████| 15/15 [00:00<00:00, 28.02it/s]\n"
     ]
    },
    {
     "name": "stdout",
     "output_type": "stream",
     "text": [
      "Processed topic information for NUTS region UKK2 and period 5\n"
     ]
    },
    {
     "name": "stderr",
     "output_type": "stream",
     "text": [
      "Batches: 100%|██████████| 17/17 [00:00<00:00, 32.04it/s]\n",
      "NUTS regions:  59%|█████▊    | 119/203 [2:56:55<25:57, 18.54s/it]"
     ]
    },
    {
     "name": "stdout",
     "output_type": "stream",
     "text": [
      "Processed topic information for NUTS region UKK2 and period 6\n",
      "No valid documents for NUTS region UKK2 and period 7\n",
      "No valid documents for NUTS region UKK2 and period 8\n",
      "No valid documents for NUTS region UKG1 and period 1\n",
      "No valid documents for NUTS region UKG1 and period 2\n",
      "No valid documents for NUTS region UKG1 and period 3\n"
     ]
    },
    {
     "name": "stderr",
     "output_type": "stream",
     "text": [
      "Batches: 100%|██████████| 24/24 [00:00<00:00, 26.92it/s]\n"
     ]
    },
    {
     "name": "stdout",
     "output_type": "stream",
     "text": [
      "Processed topic information for NUTS region UKG1 and period 4\n"
     ]
    },
    {
     "name": "stderr",
     "output_type": "stream",
     "text": [
      "Batches: 100%|██████████| 30/30 [00:03<00:00,  8.49it/s]\n"
     ]
    },
    {
     "name": "stdout",
     "output_type": "stream",
     "text": [
      "Processed topic information for NUTS region UKG1 and period 5\n"
     ]
    },
    {
     "name": "stderr",
     "output_type": "stream",
     "text": [
      "Batches: 100%|██████████| 27/27 [00:00<00:00, 28.84it/s]\n",
      "NUTS regions:  59%|█████▉    | 120/203 [2:57:10<24:03, 17.39s/it]"
     ]
    },
    {
     "name": "stdout",
     "output_type": "stream",
     "text": [
      "Processed topic information for NUTS region UKG1 and period 6\n",
      "No valid documents for NUTS region UKG1 and period 7\n",
      "No valid documents for NUTS region UKG1 and period 8\n",
      "No valid documents for NUTS region BE10 and period 1\n",
      "No valid documents for NUTS region BE10 and period 2\n",
      "No valid documents for NUTS region BE10 and period 3\n"
     ]
    },
    {
     "name": "stderr",
     "output_type": "stream",
     "text": [
      "Batches: 100%|██████████| 25/25 [00:00<00:00, 31.58it/s]\n"
     ]
    },
    {
     "name": "stdout",
     "output_type": "stream",
     "text": [
      "Processed topic information for NUTS region BE10 and period 4\n"
     ]
    },
    {
     "name": "stderr",
     "output_type": "stream",
     "text": [
      "Batches: 100%|██████████| 32/32 [00:00<00:00, 32.87it/s]\n"
     ]
    },
    {
     "name": "stdout",
     "output_type": "stream",
     "text": [
      "Processed topic information for NUTS region BE10 and period 5\n"
     ]
    },
    {
     "name": "stderr",
     "output_type": "stream",
     "text": [
      "Batches: 100%|██████████| 47/47 [00:04<00:00, 11.32it/s]\n"
     ]
    },
    {
     "name": "stdout",
     "output_type": "stream",
     "text": [
      "Processed topic information for NUTS region BE10 and period 6\n"
     ]
    },
    {
     "name": "stderr",
     "output_type": "stream",
     "text": [
      "Batches: 100%|██████████| 47/47 [00:04<00:00, 11.27it/s]\n",
      "NUTS regions:  60%|█████▉    | 121/203 [2:57:33<26:15, 19.21s/it]"
     ]
    },
    {
     "name": "stdout",
     "output_type": "stream",
     "text": [
      "Processed topic information for NUTS region BE10 and period 7\n",
      "No valid documents for NUTS region BE10 and period 8\n",
      "No valid documents for NUTS region BE31 and period 1\n",
      "No valid documents for NUTS region BE31 and period 2\n",
      "No valid documents for NUTS region BE31 and period 3\n"
     ]
    },
    {
     "name": "stderr",
     "output_type": "stream",
     "text": [
      "Batches: 100%|██████████| 15/15 [00:00<00:00, 30.14it/s]\n"
     ]
    },
    {
     "name": "stdout",
     "output_type": "stream",
     "text": [
      "Processed topic information for NUTS region BE31 and period 4\n"
     ]
    },
    {
     "name": "stderr",
     "output_type": "stream",
     "text": [
      "Batches: 100%|██████████| 18/18 [00:00<00:00, 33.26it/s]\n"
     ]
    },
    {
     "name": "stdout",
     "output_type": "stream",
     "text": [
      "Processed topic information for NUTS region BE31 and period 5\n"
     ]
    },
    {
     "name": "stderr",
     "output_type": "stream",
     "text": [
      "Batches: 100%|██████████| 23/23 [00:00<00:00, 31.79it/s]\n",
      "NUTS regions:  60%|██████    | 122/203 [2:57:44<22:35, 16.73s/it]"
     ]
    },
    {
     "name": "stdout",
     "output_type": "stream",
     "text": [
      "Processed topic information for NUTS region BE31 and period 6\n",
      "No valid documents for NUTS region BE31 and period 7\n",
      "No valid documents for NUTS region BE31 and period 8\n",
      "No valid documents for NUTS region ITH3 and period 1\n",
      "No valid documents for NUTS region ITH3 and period 2\n",
      "No valid documents for NUTS region ITH3 and period 3\n"
     ]
    },
    {
     "name": "stderr",
     "output_type": "stream",
     "text": [
      "Batches: 100%|██████████| 45/45 [00:04<00:00, 11.17it/s]\n"
     ]
    },
    {
     "name": "stdout",
     "output_type": "stream",
     "text": [
      "Processed topic information for NUTS region ITH3 and period 4\n"
     ]
    },
    {
     "name": "stderr",
     "output_type": "stream",
     "text": [
      "Batches: 100%|██████████| 65/65 [00:07<00:00,  8.95it/s]\n"
     ]
    },
    {
     "name": "stdout",
     "output_type": "stream",
     "text": [
      "Processed topic information for NUTS region ITH3 and period 5\n"
     ]
    },
    {
     "name": "stderr",
     "output_type": "stream",
     "text": [
      "Batches: 100%|██████████| 79/79 [00:03<00:00, 24.93it/s]\n"
     ]
    },
    {
     "name": "stdout",
     "output_type": "stream",
     "text": [
      "Processed topic information for NUTS region ITH3 and period 6\n"
     ]
    },
    {
     "name": "stderr",
     "output_type": "stream",
     "text": [
      "Batches: 100%|██████████| 93/93 [00:06<00:00, 14.13it/s]\n",
      "NUTS regions:  61%|██████    | 123/203 [2:58:26<32:23, 24.29s/it]"
     ]
    },
    {
     "name": "stdout",
     "output_type": "stream",
     "text": [
      "Processed topic information for NUTS region ITH3 and period 7\n",
      "No valid documents for NUTS region ITH3 and period 8\n",
      "No valid documents for NUTS region ITF4 and period 1\n",
      "No valid documents for NUTS region ITF4 and period 2\n",
      "No valid documents for NUTS region ITF4 and period 3\n"
     ]
    },
    {
     "name": "stderr",
     "output_type": "stream",
     "text": [
      "Batches: 100%|██████████| 6/6 [00:00<00:00, 28.78it/s]\n"
     ]
    },
    {
     "name": "stdout",
     "output_type": "stream",
     "text": [
      "Processed topic information for NUTS region ITF4 and period 4\n"
     ]
    },
    {
     "name": "stderr",
     "output_type": "stream",
     "text": [
      "Batches: 100%|██████████| 8/8 [00:00<00:00, 29.66it/s]\n"
     ]
    },
    {
     "name": "stdout",
     "output_type": "stream",
     "text": [
      "Processed topic information for NUTS region ITF4 and period 5\n"
     ]
    },
    {
     "name": "stderr",
     "output_type": "stream",
     "text": [
      "Batches: 100%|██████████| 9/9 [00:00<00:00, 26.21it/s]\n"
     ]
    },
    {
     "name": "stdout",
     "output_type": "stream",
     "text": [
      "Processed topic information for NUTS region ITF4 and period 6\n"
     ]
    },
    {
     "name": "stderr",
     "output_type": "stream",
     "text": [
      "Batches: 100%|██████████| 11/11 [00:00<00:00, 29.77it/s]\n",
      "NUTS regions:  61%|██████    | 124/203 [2:58:40<27:47, 21.11s/it]"
     ]
    },
    {
     "name": "stdout",
     "output_type": "stream",
     "text": [
      "Processed topic information for NUTS region ITF4 and period 7\n",
      "No valid documents for NUTS region ITF4 and period 8\n",
      "No valid documents for NUTS region FR62 and period 1\n",
      "No valid documents for NUTS region FR62 and period 2\n",
      "No valid documents for NUTS region FR62 and period 3\n"
     ]
    },
    {
     "name": "stderr",
     "output_type": "stream",
     "text": [
      "Batches: 100%|██████████| 32/32 [00:03<00:00,  9.27it/s]\n"
     ]
    },
    {
     "name": "stdout",
     "output_type": "stream",
     "text": [
      "Processed topic information for NUTS region FR62 and period 4\n"
     ]
    },
    {
     "name": "stderr",
     "output_type": "stream",
     "text": [
      "Batches: 100%|██████████| 42/42 [00:03<00:00, 10.88it/s]\n"
     ]
    },
    {
     "name": "stdout",
     "output_type": "stream",
     "text": [
      "Processed topic information for NUTS region FR62 and period 5\n"
     ]
    },
    {
     "name": "stderr",
     "output_type": "stream",
     "text": [
      "Batches: 100%|██████████| 58/58 [00:10<00:00,  5.59it/s]\n"
     ]
    },
    {
     "name": "stdout",
     "output_type": "stream",
     "text": [
      "Processed topic information for NUTS region FR62 and period 6\n"
     ]
    },
    {
     "name": "stderr",
     "output_type": "stream",
     "text": [
      "Batches: 100%|██████████| 60/60 [00:24<00:00,  2.48it/s]\n",
      "NUTS regions:  62%|██████▏   | 125/203 [2:59:38<41:38, 32.03s/it]"
     ]
    },
    {
     "name": "stdout",
     "output_type": "stream",
     "text": [
      "Processed topic information for NUTS region FR62 and period 7\n",
      "No valid documents for NUTS region FR62 and period 8\n",
      "No valid documents for NUTS region ITH1 and period 1\n",
      "No valid documents for NUTS region ITH1 and period 2\n",
      "No valid documents for NUTS region ITH1 and period 3\n",
      "No valid documents for NUTS region ITH1 and period 4\n"
     ]
    },
    {
     "name": "stderr",
     "output_type": "stream",
     "text": [
      "Batches: 100%|██████████| 4/4 [00:03<00:00,  1.13it/s]\n"
     ]
    },
    {
     "name": "stdout",
     "output_type": "stream",
     "text": [
      "Processed topic information for NUTS region ITH1 and period 5\n",
      "No valid documents for NUTS region ITH1 and period 6\n",
      "No valid documents for NUTS region ITH1 and period 7\n"
     ]
    },
    {
     "name": "stderr",
     "output_type": "stream",
     "text": [
      "NUTS regions:  62%|██████▏   | 126/203 [2:59:44<31:24, 24.47s/it]"
     ]
    },
    {
     "name": "stdout",
     "output_type": "stream",
     "text": [
      "No valid documents for NUTS region ITH1 and period 8\n",
      "No valid documents for NUTS region SE21 and period 1\n",
      "No valid documents for NUTS region SE21 and period 2\n",
      "No valid documents for NUTS region SE21 and period 3\n"
     ]
    },
    {
     "name": "stderr",
     "output_type": "stream",
     "text": [
      "Batches: 100%|██████████| 11/11 [00:14<00:00,  1.33s/it]\n"
     ]
    },
    {
     "name": "stdout",
     "output_type": "stream",
     "text": [
      "Processed topic information for NUTS region SE21 and period 4\n"
     ]
    },
    {
     "name": "stderr",
     "output_type": "stream",
     "text": [
      "Batches: 100%|██████████| 13/13 [00:31<00:00,  2.44s/it]\n"
     ]
    },
    {
     "name": "stdout",
     "output_type": "stream",
     "text": [
      "Processed topic information for NUTS region SE21 and period 5\n"
     ]
    },
    {
     "name": "stderr",
     "output_type": "stream",
     "text": [
      "Batches: 100%|██████████| 18/18 [00:52<00:00,  2.92s/it]\n",
      "NUTS regions:  63%|██████▎   | 127/203 [3:01:32<1:02:43, 49.52s/it]"
     ]
    },
    {
     "name": "stdout",
     "output_type": "stream",
     "text": [
      "Processed topic information for NUTS region SE21 and period 6\n",
      "No valid documents for NUTS region SE21 and period 7\n",
      "No valid documents for NUTS region SE21 and period 8\n",
      "No valid documents for NUTS region ITI2 and period 1\n",
      "No valid documents for NUTS region ITI2 and period 2\n",
      "No valid documents for NUTS region ITI2 and period 3\n"
     ]
    },
    {
     "name": "stderr",
     "output_type": "stream",
     "text": [
      "Batches: 100%|██████████| 4/4 [00:07<00:00,  1.80s/it]\n"
     ]
    },
    {
     "name": "stdout",
     "output_type": "stream",
     "text": [
      "Processed topic information for NUTS region ITI2 and period 4\n"
     ]
    },
    {
     "name": "stderr",
     "output_type": "stream",
     "text": [
      "Batches: 100%|██████████| 5/5 [00:03<00:00,  1.44it/s]\n"
     ]
    },
    {
     "name": "stdout",
     "output_type": "stream",
     "text": [
      "Processed topic information for NUTS region ITI2 and period 5\n"
     ]
    },
    {
     "name": "stderr",
     "output_type": "stream",
     "text": [
      "Batches: 100%|██████████| 6/6 [00:00<00:00,  6.12it/s]\n",
      "NUTS regions:  63%|██████▎   | 128/203 [3:01:54<51:16, 41.02s/it]  "
     ]
    },
    {
     "name": "stdout",
     "output_type": "stream",
     "text": [
      "Processed topic information for NUTS region ITI2 and period 6\n",
      "No valid documents for NUTS region ITI2 and period 7\n",
      "No valid documents for NUTS region ITI2 and period 8\n",
      "No valid documents for NUTS region UKD7 and period 1\n",
      "No valid documents for NUTS region UKD7 and period 2\n",
      "No valid documents for NUTS region UKD7 and period 3\n"
     ]
    },
    {
     "name": "stderr",
     "output_type": "stream",
     "text": [
      "Batches: 100%|██████████| 17/17 [00:04<00:00,  4.13it/s]\n"
     ]
    },
    {
     "name": "stdout",
     "output_type": "stream",
     "text": [
      "Processed topic information for NUTS region UKD7 and period 4\n"
     ]
    },
    {
     "name": "stderr",
     "output_type": "stream",
     "text": [
      "Batches: 100%|██████████| 17/17 [00:07<00:00,  2.22it/s]\n"
     ]
    },
    {
     "name": "stdout",
     "output_type": "stream",
     "text": [
      "Processed topic information for NUTS region UKD7 and period 5\n"
     ]
    },
    {
     "name": "stderr",
     "output_type": "stream",
     "text": [
      "Batches: 100%|██████████| 18/18 [00:14<00:00,  1.23it/s]\n",
      "NUTS regions:  64%|██████▎   | 129/203 [3:02:29<48:25, 39.26s/it]"
     ]
    },
    {
     "name": "stdout",
     "output_type": "stream",
     "text": [
      "Processed topic information for NUTS region UKD7 and period 6\n",
      "No valid documents for NUTS region UKD7 and period 7\n",
      "No valid documents for NUTS region UKD7 and period 8\n",
      "No valid documents for NUTS region FR42 and period 1\n",
      "No valid documents for NUTS region FR42 and period 2\n",
      "No valid documents for NUTS region FR42 and period 3\n"
     ]
    },
    {
     "name": "stderr",
     "output_type": "stream",
     "text": [
      "Batches: 100%|██████████| 37/37 [00:58<00:00,  1.59s/it]\n"
     ]
    },
    {
     "name": "stdout",
     "output_type": "stream",
     "text": [
      "Processed topic information for NUTS region FR42 and period 4\n"
     ]
    },
    {
     "name": "stderr",
     "output_type": "stream",
     "text": [
      "Batches: 100%|██████████| 53/53 [02:08<00:00,  2.43s/it]\n"
     ]
    },
    {
     "name": "stdout",
     "output_type": "stream",
     "text": [
      "Processed topic information for NUTS region FR42 and period 5\n"
     ]
    },
    {
     "name": "stderr",
     "output_type": "stream",
     "text": [
      "Batches: 100%|██████████| 64/64 [02:32<00:00,  2.38s/it]\n"
     ]
    },
    {
     "name": "stdout",
     "output_type": "stream",
     "text": [
      "Processed topic information for NUTS region FR42 and period 6\n"
     ]
    },
    {
     "name": "stderr",
     "output_type": "stream",
     "text": [
      "Batches: 100%|██████████| 57/57 [02:32<00:00,  2.68s/it]\n",
      "NUTS regions:  64%|██████▍   | 130/203 [3:10:57<3:39:05, 180.07s/it]"
     ]
    },
    {
     "name": "stdout",
     "output_type": "stream",
     "text": [
      "Processed topic information for NUTS region FR42 and period 7\n",
      "No valid documents for NUTS region FR42 and period 8\n",
      "No valid documents for NUTS region ITC3 and period 1\n",
      "No valid documents for NUTS region ITC3 and period 2\n",
      "No valid documents for NUTS region ITC3 and period 3\n"
     ]
    },
    {
     "name": "stderr",
     "output_type": "stream",
     "text": [
      "Batches: 100%|██████████| 11/11 [00:31<00:00,  2.89s/it]\n"
     ]
    },
    {
     "name": "stdout",
     "output_type": "stream",
     "text": [
      "Processed topic information for NUTS region ITC3 and period 4\n"
     ]
    },
    {
     "name": "stderr",
     "output_type": "stream",
     "text": [
      "Batches: 100%|██████████| 12/12 [00:03<00:00,  3.32it/s]\n"
     ]
    },
    {
     "name": "stdout",
     "output_type": "stream",
     "text": [
      "Processed topic information for NUTS region ITC3 and period 5\n"
     ]
    },
    {
     "name": "stderr",
     "output_type": "stream",
     "text": [
      "Batches: 100%|██████████| 15/15 [00:07<00:00,  2.12it/s]\n",
      "NUTS regions:  65%|██████▍   | 131/203 [3:11:49<2:49:57, 141.64s/it]"
     ]
    },
    {
     "name": "stdout",
     "output_type": "stream",
     "text": [
      "Processed topic information for NUTS region ITC3 and period 6\n",
      "No valid documents for NUTS region ITC3 and period 7\n",
      "No valid documents for NUTS region ITC3 and period 8\n",
      "No valid documents for NUTS region UKI4 and period 1\n",
      "No valid documents for NUTS region UKI4 and period 2\n",
      "No valid documents for NUTS region UKI4 and period 3\n"
     ]
    },
    {
     "name": "stderr",
     "output_type": "stream",
     "text": [
      "Batches: 100%|██████████| 33/33 [00:13<00:00,  2.38it/s]\n"
     ]
    },
    {
     "name": "stdout",
     "output_type": "stream",
     "text": [
      "Processed topic information for NUTS region UKI4 and period 4\n"
     ]
    },
    {
     "name": "stderr",
     "output_type": "stream",
     "text": [
      "Batches: 100%|██████████| 30/30 [00:07<00:00,  4.13it/s]\n"
     ]
    },
    {
     "name": "stdout",
     "output_type": "stream",
     "text": [
      "Processed topic information for NUTS region UKI4 and period 5\n"
     ]
    },
    {
     "name": "stderr",
     "output_type": "stream",
     "text": [
      "Batches: 100%|██████████| 17/17 [00:04<00:00,  3.91it/s]\n"
     ]
    },
    {
     "name": "stdout",
     "output_type": "stream",
     "text": [
      "Processed topic information for NUTS region UKI4 and period 6\n"
     ]
    },
    {
     "name": "stderr",
     "output_type": "stream",
     "text": [
      "Batches: 100%|██████████| 18/18 [00:10<00:00,  1.66it/s]\n",
      "NUTS regions:  65%|██████▌   | 132/203 [3:12:38<2:14:32, 113.70s/it]"
     ]
    },
    {
     "name": "stdout",
     "output_type": "stream",
     "text": [
      "Processed topic information for NUTS region UKI4 and period 7\n",
      "No valid documents for NUTS region UKI4 and period 8\n",
      "No valid documents for NUTS region ES30 and period 1\n",
      "No valid documents for NUTS region ES30 and period 2\n",
      "No valid documents for NUTS region ES30 and period 3\n"
     ]
    },
    {
     "name": "stderr",
     "output_type": "stream",
     "text": [
      "Batches: 100%|██████████| 12/12 [00:04<00:00,  2.96it/s]\n"
     ]
    },
    {
     "name": "stdout",
     "output_type": "stream",
     "text": [
      "Processed topic information for NUTS region ES30 and period 4\n"
     ]
    },
    {
     "name": "stderr",
     "output_type": "stream",
     "text": [
      "Batches: 100%|██████████| 22/22 [00:10<00:00,  2.09it/s]\n"
     ]
    },
    {
     "name": "stdout",
     "output_type": "stream",
     "text": [
      "Processed topic information for NUTS region ES30 and period 5\n"
     ]
    },
    {
     "name": "stderr",
     "output_type": "stream",
     "text": [
      "Batches: 100%|██████████| 32/32 [00:18<00:00,  1.78it/s]\n"
     ]
    },
    {
     "name": "stdout",
     "output_type": "stream",
     "text": [
      "Processed topic information for NUTS region ES30 and period 6\n"
     ]
    },
    {
     "name": "stderr",
     "output_type": "stream",
     "text": [
      "Batches: 100%|██████████| 42/42 [00:41<00:00,  1.01it/s]\n",
      "NUTS regions:  66%|██████▌   | 133/203 [3:14:05<2:03:14, 105.64s/it]"
     ]
    },
    {
     "name": "stdout",
     "output_type": "stream",
     "text": [
      "Processed topic information for NUTS region ES30 and period 7\n",
      "No valid documents for NUTS region ES30 and period 8\n",
      "No valid documents for NUTS region ITH4 and period 1\n",
      "No valid documents for NUTS region ITH4 and period 2\n",
      "No valid documents for NUTS region ITH4 and period 3\n"
     ]
    },
    {
     "name": "stderr",
     "output_type": "stream",
     "text": [
      "Batches: 100%|██████████| 17/17 [00:17<00:00,  1.02s/it]\n"
     ]
    },
    {
     "name": "stdout",
     "output_type": "stream",
     "text": [
      "Processed topic information for NUTS region ITH4 and period 4\n"
     ]
    },
    {
     "name": "stderr",
     "output_type": "stream",
     "text": [
      "Batches: 100%|██████████| 18/18 [00:10<00:00,  1.74it/s]\n"
     ]
    },
    {
     "name": "stdout",
     "output_type": "stream",
     "text": [
      "Processed topic information for NUTS region ITH4 and period 5\n"
     ]
    },
    {
     "name": "stderr",
     "output_type": "stream",
     "text": [
      "Batches: 100%|██████████| 30/30 [00:28<00:00,  1.07it/s]\n",
      "NUTS regions:  66%|██████▌   | 134/203 [3:15:11<1:47:48, 93.75s/it] "
     ]
    },
    {
     "name": "stdout",
     "output_type": "stream",
     "text": [
      "Processed topic information for NUTS region ITH4 and period 6\n",
      "No valid documents for NUTS region ITH4 and period 7\n",
      "No valid documents for NUTS region ITH4 and period 8\n",
      "No valid documents for NUTS region UKH3 and period 1\n",
      "No valid documents for NUTS region UKH3 and period 2\n",
      "No valid documents for NUTS region UKH3 and period 3\n"
     ]
    },
    {
     "name": "stderr",
     "output_type": "stream",
     "text": [
      "Batches: 100%|██████████| 32/32 [00:31<00:00,  1.00it/s]\n"
     ]
    },
    {
     "name": "stdout",
     "output_type": "stream",
     "text": [
      "Processed topic information for NUTS region UKH3 and period 4\n"
     ]
    },
    {
     "name": "stderr",
     "output_type": "stream",
     "text": [
      "Batches: 100%|██████████| 29/29 [00:04<00:00,  6.99it/s]\n"
     ]
    },
    {
     "name": "stdout",
     "output_type": "stream",
     "text": [
      "Processed topic information for NUTS region UKH3 and period 5\n"
     ]
    },
    {
     "name": "stderr",
     "output_type": "stream",
     "text": [
      "Batches: 100%|██████████| 21/21 [00:00<00:00, 30.13it/s]\n",
      "NUTS regions:  67%|██████▋   | 135/203 [3:15:57<1:30:14, 79.62s/it]"
     ]
    },
    {
     "name": "stdout",
     "output_type": "stream",
     "text": [
      "Processed topic information for NUTS region UKH3 and period 6\n",
      "No valid documents for NUTS region UKH3 and period 7\n",
      "No valid documents for NUTS region UKH3 and period 8\n",
      "No valid documents for NUTS region UKC2 and period 1\n",
      "No valid documents for NUTS region UKC2 and period 2\n",
      "No valid documents for NUTS region UKC2 and period 3\n"
     ]
    },
    {
     "name": "stderr",
     "output_type": "stream",
     "text": [
      "Batches: 100%|██████████| 14/14 [00:00<00:00, 31.24it/s]\n"
     ]
    },
    {
     "name": "stdout",
     "output_type": "stream",
     "text": [
      "Processed topic information for NUTS region UKC2 and period 4\n"
     ]
    },
    {
     "name": "stderr",
     "output_type": "stream",
     "text": [
      "Batches: 100%|██████████| 13/13 [00:00<00:00, 31.95it/s]\n"
     ]
    },
    {
     "name": "stdout",
     "output_type": "stream",
     "text": [
      "Processed topic information for NUTS region UKC2 and period 5\n"
     ]
    },
    {
     "name": "stderr",
     "output_type": "stream",
     "text": [
      "Batches: 100%|██████████| 16/16 [00:00<00:00, 31.02it/s]\n"
     ]
    },
    {
     "name": "stdout",
     "output_type": "stream",
     "text": [
      "Processed topic information for NUTS region UKC2 and period 6\n"
     ]
    },
    {
     "name": "stderr",
     "output_type": "stream",
     "text": [
      "Batches: 100%|██████████| 19/19 [00:00<00:00, 30.56it/s]\n",
      "NUTS regions:  67%|██████▋   | 136/203 [3:16:11<1:06:58, 59.97s/it]"
     ]
    },
    {
     "name": "stdout",
     "output_type": "stream",
     "text": [
      "Processed topic information for NUTS region UKC2 and period 7\n",
      "No valid documents for NUTS region UKC2 and period 8\n",
      "No valid documents for NUTS region UKI6 and period 1\n",
      "No valid documents for NUTS region UKI6 and period 2\n",
      "No valid documents for NUTS region UKI6 and period 3\n"
     ]
    },
    {
     "name": "stderr",
     "output_type": "stream",
     "text": [
      "Batches: 100%|██████████| 10/10 [00:00<00:00, 29.23it/s]\n"
     ]
    },
    {
     "name": "stdout",
     "output_type": "stream",
     "text": [
      "Processed topic information for NUTS region UKI6 and period 4\n"
     ]
    },
    {
     "name": "stderr",
     "output_type": "stream",
     "text": [
      "Batches: 100%|██████████| 8/8 [00:00<00:00, 28.24it/s]\n"
     ]
    },
    {
     "name": "stdout",
     "output_type": "stream",
     "text": [
      "Processed topic information for NUTS region UKI6 and period 5\n"
     ]
    },
    {
     "name": "stderr",
     "output_type": "stream",
     "text": [
      "Batches: 100%|██████████| 9/9 [00:00<00:00, 28.99it/s]\n",
      "NUTS regions:  67%|██████▋   | 137/203 [3:16:22<49:32, 45.04s/it]  "
     ]
    },
    {
     "name": "stdout",
     "output_type": "stream",
     "text": [
      "Processed topic information for NUTS region UKI6 and period 6\n",
      "No valid documents for NUTS region UKI6 and period 7\n",
      "No valid documents for NUTS region UKI6 and period 8\n",
      "No valid documents for NUTS region UKD4 and period 1\n",
      "No valid documents for NUTS region UKD4 and period 2\n",
      "No valid documents for NUTS region UKD4 and period 3\n"
     ]
    },
    {
     "name": "stderr",
     "output_type": "stream",
     "text": [
      "Batches: 100%|██████████| 12/12 [00:00<00:00, 30.78it/s]\n"
     ]
    },
    {
     "name": "stdout",
     "output_type": "stream",
     "text": [
      "Processed topic information for NUTS region UKD4 and period 4\n"
     ]
    },
    {
     "name": "stderr",
     "output_type": "stream",
     "text": [
      "Batches: 100%|██████████| 11/11 [00:00<00:00, 31.23it/s]\n"
     ]
    },
    {
     "name": "stdout",
     "output_type": "stream",
     "text": [
      "Processed topic information for NUTS region UKD4 and period 5\n"
     ]
    },
    {
     "name": "stderr",
     "output_type": "stream",
     "text": [
      "Batches: 100%|██████████| 13/13 [00:00<00:00, 29.78it/s]\n"
     ]
    },
    {
     "name": "stdout",
     "output_type": "stream",
     "text": [
      "Processed topic information for NUTS region UKD4 and period 6\n"
     ]
    },
    {
     "name": "stderr",
     "output_type": "stream",
     "text": [
      "Batches: 100%|██████████| 15/15 [00:00<00:00, 29.85it/s]\n",
      "NUTS regions:  68%|██████▊   | 138/203 [3:16:35<38:40, 35.69s/it]"
     ]
    },
    {
     "name": "stdout",
     "output_type": "stream",
     "text": [
      "Processed topic information for NUTS region UKD4 and period 7\n",
      "No valid documents for NUTS region UKD4 and period 8\n",
      "No valid documents for NUTS region FR52 and period 1\n",
      "No valid documents for NUTS region FR52 and period 2\n",
      "No valid documents for NUTS region FR52 and period 3\n"
     ]
    },
    {
     "name": "stderr",
     "output_type": "stream",
     "text": [
      "Batches: 100%|██████████| 23/23 [00:00<00:00, 29.77it/s]\n"
     ]
    },
    {
     "name": "stdout",
     "output_type": "stream",
     "text": [
      "Processed topic information for NUTS region FR52 and period 4\n"
     ]
    },
    {
     "name": "stderr",
     "output_type": "stream",
     "text": [
      "Batches: 100%|██████████| 40/40 [00:03<00:00, 10.76it/s]\n"
     ]
    },
    {
     "name": "stdout",
     "output_type": "stream",
     "text": [
      "Processed topic information for NUTS region FR52 and period 5\n"
     ]
    },
    {
     "name": "stderr",
     "output_type": "stream",
     "text": [
      "Batches: 100%|██████████| 51/51 [00:04<00:00, 12.00it/s]\n"
     ]
    },
    {
     "name": "stdout",
     "output_type": "stream",
     "text": [
      "Processed topic information for NUTS region FR52 and period 6\n"
     ]
    },
    {
     "name": "stderr",
     "output_type": "stream",
     "text": [
      "Batches: 100%|██████████| 56/56 [00:06<00:00,  8.02it/s]\n",
      "NUTS regions:  68%|██████▊   | 139/203 [3:17:07<36:41, 34.40s/it]"
     ]
    },
    {
     "name": "stdout",
     "output_type": "stream",
     "text": [
      "Processed topic information for NUTS region FR52 and period 7\n",
      "No valid documents for NUTS region FR52 and period 8\n",
      "No valid documents for NUTS region UKJ3 and period 1\n",
      "No valid documents for NUTS region UKJ3 and period 2\n",
      "No valid documents for NUTS region UKJ3 and period 3\n"
     ]
    },
    {
     "name": "stderr",
     "output_type": "stream",
     "text": [
      "Batches: 100%|██████████| 45/45 [00:04<00:00, 10.92it/s]\n"
     ]
    },
    {
     "name": "stdout",
     "output_type": "stream",
     "text": [
      "Processed topic information for NUTS region UKJ3 and period 4\n"
     ]
    },
    {
     "name": "stderr",
     "output_type": "stream",
     "text": [
      "Batches: 100%|██████████| 55/55 [00:04<00:00, 12.72it/s]\n"
     ]
    },
    {
     "name": "stdout",
     "output_type": "stream",
     "text": [
      "Processed topic information for NUTS region UKJ3 and period 5\n"
     ]
    },
    {
     "name": "stderr",
     "output_type": "stream",
     "text": [
      "Batches: 100%|██████████| 60/60 [00:07<00:00,  8.53it/s]\n"
     ]
    },
    {
     "name": "stdout",
     "output_type": "stream",
     "text": [
      "Processed topic information for NUTS region UKJ3 and period 6\n"
     ]
    },
    {
     "name": "stderr",
     "output_type": "stream",
     "text": [
      "Batches: 100%|██████████| 60/60 [00:06<00:00,  8.71it/s]\n",
      "NUTS regions:  69%|██████▉   | 140/203 [3:17:46<37:33, 35.76s/it]"
     ]
    },
    {
     "name": "stdout",
     "output_type": "stream",
     "text": [
      "Processed topic information for NUTS region UKJ3 and period 7\n",
      "No valid documents for NUTS region UKJ3 and period 8\n",
      "No valid documents for NUTS region UKF2 and period 1\n",
      "No valid documents for NUTS region UKF2 and period 2\n",
      "No valid documents for NUTS region UKF2 and period 3\n"
     ]
    },
    {
     "name": "stderr",
     "output_type": "stream",
     "text": [
      "Batches: 100%|██████████| 20/20 [00:00<00:00, 28.93it/s]\n"
     ]
    },
    {
     "name": "stdout",
     "output_type": "stream",
     "text": [
      "Processed topic information for NUTS region UKF2 and period 4\n"
     ]
    },
    {
     "name": "stderr",
     "output_type": "stream",
     "text": [
      "Batches: 100%|██████████| 22/22 [00:00<00:00, 29.36it/s]\n"
     ]
    },
    {
     "name": "stdout",
     "output_type": "stream",
     "text": [
      "Processed topic information for NUTS region UKF2 and period 5\n"
     ]
    },
    {
     "name": "stderr",
     "output_type": "stream",
     "text": [
      "Batches: 100%|██████████| 22/22 [00:00<00:00, 29.98it/s]\n"
     ]
    },
    {
     "name": "stdout",
     "output_type": "stream",
     "text": [
      "Processed topic information for NUTS region UKF2 and period 6\n"
     ]
    },
    {
     "name": "stderr",
     "output_type": "stream",
     "text": [
      "Batches: 100%|██████████| 22/22 [00:00<00:00, 25.56it/s]\n",
      "NUTS regions:  69%|██████▉   | 141/203 [3:18:00<30:21, 29.38s/it]"
     ]
    },
    {
     "name": "stdout",
     "output_type": "stream",
     "text": [
      "Processed topic information for NUTS region UKF2 and period 7\n",
      "No valid documents for NUTS region UKF2 and period 8\n",
      "No valid documents for NUTS region UKI7 and period 1\n",
      "No valid documents for NUTS region UKI7 and period 2\n",
      "No valid documents for NUTS region UKI7 and period 3\n"
     ]
    },
    {
     "name": "stderr",
     "output_type": "stream",
     "text": [
      "Batches: 100%|██████████| 37/37 [00:03<00:00,  9.94it/s]\n"
     ]
    },
    {
     "name": "stdout",
     "output_type": "stream",
     "text": [
      "Processed topic information for NUTS region UKI7 and period 4\n"
     ]
    },
    {
     "name": "stderr",
     "output_type": "stream",
     "text": [
      "Batches: 100%|██████████| 33/33 [00:03<00:00,  9.54it/s]\n"
     ]
    },
    {
     "name": "stdout",
     "output_type": "stream",
     "text": [
      "Processed topic information for NUTS region UKI7 and period 5\n"
     ]
    },
    {
     "name": "stderr",
     "output_type": "stream",
     "text": [
      "Batches: 100%|██████████| 26/26 [00:00<00:00, 29.33it/s]\n"
     ]
    },
    {
     "name": "stdout",
     "output_type": "stream",
     "text": [
      "Processed topic information for NUTS region UKI7 and period 6\n"
     ]
    },
    {
     "name": "stderr",
     "output_type": "stream",
     "text": [
      "Batches: 100%|██████████| 24/24 [00:00<00:00, 30.37it/s]\n",
      "NUTS regions:  70%|██████▉   | 142/203 [3:18:22<27:24, 26.96s/it]"
     ]
    },
    {
     "name": "stdout",
     "output_type": "stream",
     "text": [
      "Processed topic information for NUTS region UKI7 and period 7\n",
      "No valid documents for NUTS region UKI7 and period 8\n",
      "No valid documents for NUTS region UKK1 and period 1\n",
      "No valid documents for NUTS region UKK1 and period 2\n",
      "No valid documents for NUTS region UKK1 and period 3\n"
     ]
    },
    {
     "name": "stderr",
     "output_type": "stream",
     "text": [
      "Batches: 100%|██████████| 53/53 [00:04<00:00, 12.29it/s]\n"
     ]
    },
    {
     "name": "stdout",
     "output_type": "stream",
     "text": [
      "Processed topic information for NUTS region UKK1 and period 4\n"
     ]
    },
    {
     "name": "stderr",
     "output_type": "stream",
     "text": [
      "Batches: 100%|██████████| 59/59 [00:06<00:00,  8.60it/s]\n"
     ]
    },
    {
     "name": "stdout",
     "output_type": "stream",
     "text": [
      "Processed topic information for NUTS region UKK1 and period 5\n"
     ]
    },
    {
     "name": "stderr",
     "output_type": "stream",
     "text": [
      "Batches: 100%|██████████| 75/75 [00:07<00:00, 10.23it/s]\n"
     ]
    },
    {
     "name": "stdout",
     "output_type": "stream",
     "text": [
      "Processed topic information for NUTS region UKK1 and period 6\n"
     ]
    },
    {
     "name": "stderr",
     "output_type": "stream",
     "text": [
      "Batches: 100%|██████████| 82/82 [00:07<00:00, 10.68it/s]\n",
      "NUTS regions:  70%|███████   | 143/203 [3:19:07<32:32, 32.54s/it]"
     ]
    },
    {
     "name": "stdout",
     "output_type": "stream",
     "text": [
      "Processed topic information for NUTS region UKK1 and period 7\n",
      "No valid documents for NUTS region UKK1 and period 8\n",
      "No valid documents for NUTS region ITH2 and period 1\n",
      "No valid documents for NUTS region ITH2 and period 2\n",
      "No valid documents for NUTS region ITH2 and period 3\n",
      "No valid documents for NUTS region ITH2 and period 4\n"
     ]
    },
    {
     "name": "stderr",
     "output_type": "stream",
     "text": [
      "Batches: 100%|██████████| 5/5 [00:00<00:00, 32.12it/s]\n"
     ]
    },
    {
     "name": "stdout",
     "output_type": "stream",
     "text": [
      "Processed topic information for NUTS region ITH2 and period 5\n"
     ]
    },
    {
     "name": "stderr",
     "output_type": "stream",
     "text": [
      "Batches: 100%|██████████| 5/5 [00:00<00:00, 20.35it/s]\n",
      "NUTS regions:  71%|███████   | 144/203 [3:19:14<24:28, 24.90s/it]"
     ]
    },
    {
     "name": "stdout",
     "output_type": "stream",
     "text": [
      "Processed topic information for NUTS region ITH2 and period 6\n",
      "No valid documents for NUTS region ITH2 and period 7\n",
      "No valid documents for NUTS region ITH2 and period 8\n",
      "No valid documents for NUTS region FR30 and period 1\n",
      "No valid documents for NUTS region FR30 and period 2\n",
      "No valid documents for NUTS region FR30 and period 3\n"
     ]
    },
    {
     "name": "stderr",
     "output_type": "stream",
     "text": [
      "Batches: 100%|██████████| 25/25 [00:03<00:00,  6.49it/s]\n"
     ]
    },
    {
     "name": "stdout",
     "output_type": "stream",
     "text": [
      "Processed topic information for NUTS region FR30 and period 4\n"
     ]
    },
    {
     "name": "stderr",
     "output_type": "stream",
     "text": [
      "Batches: 100%|██████████| 25/25 [00:07<00:00,  3.40it/s]\n"
     ]
    },
    {
     "name": "stdout",
     "output_type": "stream",
     "text": [
      "Processed topic information for NUTS region FR30 and period 5\n"
     ]
    },
    {
     "name": "stderr",
     "output_type": "stream",
     "text": [
      "Batches: 100%|██████████| 33/33 [00:27<00:00,  1.19it/s]\n"
     ]
    },
    {
     "name": "stdout",
     "output_type": "stream",
     "text": [
      "Processed topic information for NUTS region FR30 and period 6\n"
     ]
    },
    {
     "name": "stderr",
     "output_type": "stream",
     "text": [
      "Batches: 100%|██████████| 39/39 [00:45<00:00,  1.16s/it]\n",
      "NUTS regions:  71%|███████▏  | 145/203 [3:20:52<45:05, 46.65s/it]"
     ]
    },
    {
     "name": "stdout",
     "output_type": "stream",
     "text": [
      "Processed topic information for NUTS region FR30 and period 7\n",
      "No valid documents for NUTS region FR30 and period 8\n",
      "No valid documents for NUTS region ES22 and period 1\n",
      "No valid documents for NUTS region ES22 and period 2\n",
      "No valid documents for NUTS region ES22 and period 3\n",
      "No valid documents for NUTS region ES22 and period 4\n"
     ]
    },
    {
     "name": "stderr",
     "output_type": "stream",
     "text": [
      "Batches: 100%|██████████| 5/5 [00:07<00:00,  1.57s/it]\n"
     ]
    },
    {
     "name": "stdout",
     "output_type": "stream",
     "text": [
      "Processed topic information for NUTS region ES22 and period 5\n"
     ]
    },
    {
     "name": "stderr",
     "output_type": "stream",
     "text": [
      "Batches: 100%|██████████| 7/7 [00:14<00:00,  2.09s/it]\n",
      "NUTS regions:  72%|███████▏  | 146/203 [3:21:20<39:01, 41.09s/it]"
     ]
    },
    {
     "name": "stdout",
     "output_type": "stream",
     "text": [
      "Processed topic information for NUTS region ES22 and period 6\n",
      "No valid documents for NUTS region ES22 and period 7\n",
      "No valid documents for NUTS region ES22 and period 8\n",
      "No valid documents for NUTS region HU10 and period 1\n",
      "No valid documents for NUTS region HU10 and period 2\n",
      "No valid documents for NUTS region HU10 and period 3\n"
     ]
    },
    {
     "name": "stderr",
     "output_type": "stream",
     "text": [
      "Batches: 100%|██████████| 10/10 [00:21<00:00,  2.12s/it]\n"
     ]
    },
    {
     "name": "stdout",
     "output_type": "stream",
     "text": [
      "Processed topic information for NUTS region HU10 and period 4\n"
     ]
    },
    {
     "name": "stderr",
     "output_type": "stream",
     "text": [
      "Batches: 100%|██████████| 16/16 [00:28<00:00,  1.79s/it]\n"
     ]
    },
    {
     "name": "stdout",
     "output_type": "stream",
     "text": [
      "Processed topic information for NUTS region HU10 and period 5\n"
     ]
    },
    {
     "name": "stderr",
     "output_type": "stream",
     "text": [
      "Batches: 100%|██████████| 24/24 [00:44<00:00,  1.87s/it]\n"
     ]
    },
    {
     "name": "stdout",
     "output_type": "stream",
     "text": [
      "Processed topic information for NUTS region HU10 and period 6\n"
     ]
    },
    {
     "name": "stderr",
     "output_type": "stream",
     "text": [
      "Batches: 100%|██████████| 27/27 [00:10<00:00,  2.52it/s]\n",
      "NUTS regions:  72%|███████▏  | 147/203 [3:23:18<59:48, 64.08s/it]"
     ]
    },
    {
     "name": "stdout",
     "output_type": "stream",
     "text": [
      "Processed topic information for NUTS region HU10 and period 7\n",
      "No valid documents for NUTS region HU10 and period 8\n",
      "No valid documents for NUTS region IE02 and period 1\n",
      "No valid documents for NUTS region IE02 and period 2\n",
      "No valid documents for NUTS region IE02 and period 3\n"
     ]
    },
    {
     "name": "stderr",
     "output_type": "stream",
     "text": [
      "Batches: 100%|██████████| 24/24 [00:00<00:00, 28.40it/s]\n"
     ]
    },
    {
     "name": "stdout",
     "output_type": "stream",
     "text": [
      "Processed topic information for NUTS region IE02 and period 4\n"
     ]
    },
    {
     "name": "stderr",
     "output_type": "stream",
     "text": [
      "Batches: 100%|██████████| 38/38 [00:10<00:00,  3.77it/s]\n"
     ]
    },
    {
     "name": "stdout",
     "output_type": "stream",
     "text": [
      "Processed topic information for NUTS region IE02 and period 5\n"
     ]
    },
    {
     "name": "stderr",
     "output_type": "stream",
     "text": [
      "Batches: 100%|██████████| 56/56 [00:13<00:00,  4.12it/s]\n"
     ]
    },
    {
     "name": "stdout",
     "output_type": "stream",
     "text": [
      "Processed topic information for NUTS region IE02 and period 6\n"
     ]
    },
    {
     "name": "stderr",
     "output_type": "stream",
     "text": [
      "Batches: 100%|██████████| 80/80 [00:03<00:00, 21.65it/s]\n",
      "NUTS regions:  73%|███████▎  | 148/203 [3:24:02<53:14, 58.08s/it]"
     ]
    },
    {
     "name": "stdout",
     "output_type": "stream",
     "text": [
      "Processed topic information for NUTS region IE02 and period 7\n",
      "No valid documents for NUTS region IE02 and period 8\n",
      "No valid documents for NUTS region FR22 and period 1\n",
      "No valid documents for NUTS region FR22 and period 2\n",
      "No valid documents for NUTS region FR22 and period 3\n"
     ]
    },
    {
     "name": "stderr",
     "output_type": "stream",
     "text": [
      "Batches: 100%|██████████| 27/27 [00:00<00:00, 29.94it/s]\n"
     ]
    },
    {
     "name": "stdout",
     "output_type": "stream",
     "text": [
      "Processed topic information for NUTS region FR22 and period 4\n"
     ]
    },
    {
     "name": "stderr",
     "output_type": "stream",
     "text": [
      "Batches: 100%|██████████| 25/25 [00:07<00:00,  3.35it/s]\n"
     ]
    },
    {
     "name": "stdout",
     "output_type": "stream",
     "text": [
      "Processed topic information for NUTS region FR22 and period 5\n"
     ]
    },
    {
     "name": "stderr",
     "output_type": "stream",
     "text": [
      "Batches: 100%|██████████| 32/32 [00:14<00:00,  2.28it/s]\n",
      "NUTS regions:  73%|███████▎  | 149/203 [3:24:34<45:23, 50.43s/it]"
     ]
    },
    {
     "name": "stdout",
     "output_type": "stream",
     "text": [
      "Processed topic information for NUTS region FR22 and period 6\n",
      "No valid documents for NUTS region FR22 and period 7\n",
      "No valid documents for NUTS region FR22 and period 8\n",
      "No valid documents for NUTS region HU33 and period 1\n",
      "No valid documents for NUTS region HU33 and period 2\n",
      "No valid documents for NUTS region HU33 and period 3\n",
      "No valid documents for NUTS region HU33 and period 4\n",
      "No valid documents for NUTS region HU33 and period 5\n"
     ]
    },
    {
     "name": "stderr",
     "output_type": "stream",
     "text": [
      "Batches: 100%|██████████| 4/4 [00:00<00:00, 22.43it/s]\n",
      "NUTS regions:  74%|███████▍  | 150/203 [3:24:38<32:06, 36.36s/it]"
     ]
    },
    {
     "name": "stdout",
     "output_type": "stream",
     "text": [
      "Processed topic information for NUTS region HU33 and period 6\n",
      "No valid documents for NUTS region HU33 and period 7\n",
      "No valid documents for NUTS region HU33 and period 8\n",
      "No valid documents for NUTS region UKG3 and period 1\n",
      "No valid documents for NUTS region UKG3 and period 2\n",
      "No valid documents for NUTS region UKG3 and period 3\n"
     ]
    },
    {
     "name": "stderr",
     "output_type": "stream",
     "text": [
      "Batches: 100%|██████████| 29/29 [00:03<00:00,  8.15it/s]\n"
     ]
    },
    {
     "name": "stdout",
     "output_type": "stream",
     "text": [
      "Processed topic information for NUTS region UKG3 and period 4\n"
     ]
    },
    {
     "name": "stderr",
     "output_type": "stream",
     "text": [
      "Batches: 100%|██████████| 23/23 [00:04<00:00,  5.37it/s]\n"
     ]
    },
    {
     "name": "stdout",
     "output_type": "stream",
     "text": [
      "Processed topic information for NUTS region UKG3 and period 5\n"
     ]
    },
    {
     "name": "stderr",
     "output_type": "stream",
     "text": [
      "Batches: 100%|██████████| 24/24 [00:07<00:00,  3.17it/s]\n"
     ]
    },
    {
     "name": "stdout",
     "output_type": "stream",
     "text": [
      "Processed topic information for NUTS region UKG3 and period 6\n"
     ]
    },
    {
     "name": "stderr",
     "output_type": "stream",
     "text": [
      "Batches: 100%|██████████| 36/36 [00:14<00:00,  2.57it/s]\n",
      "NUTS regions:  74%|███████▍  | 151/203 [3:25:21<33:16, 38.40s/it]"
     ]
    },
    {
     "name": "stdout",
     "output_type": "stream",
     "text": [
      "Processed topic information for NUTS region UKG3 and period 7\n",
      "No valid documents for NUTS region UKG3 and period 8\n",
      "No valid documents for NUTS region UKL1 and period 1\n",
      "No valid documents for NUTS region UKL1 and period 2\n",
      "No valid documents for NUTS region UKL1 and period 3\n"
     ]
    },
    {
     "name": "stderr",
     "output_type": "stream",
     "text": [
      "Batches: 100%|██████████| 9/9 [00:01<00:00,  4.67it/s]\n"
     ]
    },
    {
     "name": "stdout",
     "output_type": "stream",
     "text": [
      "Processed topic information for NUTS region UKL1 and period 4\n"
     ]
    },
    {
     "name": "stderr",
     "output_type": "stream",
     "text": [
      "Batches: 100%|██████████| 10/10 [00:03<00:00,  2.80it/s]\n"
     ]
    },
    {
     "name": "stdout",
     "output_type": "stream",
     "text": [
      "Processed topic information for NUTS region UKL1 and period 5\n"
     ]
    },
    {
     "name": "stderr",
     "output_type": "stream",
     "text": [
      "Batches: 100%|██████████| 11/11 [00:00<00:00, 28.93it/s]\n"
     ]
    },
    {
     "name": "stdout",
     "output_type": "stream",
     "text": [
      "Processed topic information for NUTS region UKL1 and period 6\n"
     ]
    },
    {
     "name": "stderr",
     "output_type": "stream",
     "text": [
      "Batches: 100%|██████████| 16/16 [00:00<00:00, 25.57it/s]\n",
      "NUTS regions:  75%|███████▍  | 152/203 [3:25:41<28:05, 33.05s/it]"
     ]
    },
    {
     "name": "stdout",
     "output_type": "stream",
     "text": [
      "Processed topic information for NUTS region UKL1 and period 7\n",
      "No valid documents for NUTS region UKL1 and period 8\n",
      "No valid documents for NUTS region SE33 and period 1\n",
      "No valid documents for NUTS region SE33 and period 2\n",
      "No valid documents for NUTS region SE33 and period 3\n"
     ]
    },
    {
     "name": "stderr",
     "output_type": "stream",
     "text": [
      "Batches: 100%|██████████| 8/8 [00:00<00:00, 24.53it/s]\n"
     ]
    },
    {
     "name": "stdout",
     "output_type": "stream",
     "text": [
      "Processed topic information for NUTS region SE33 and period 4\n"
     ]
    },
    {
     "name": "stderr",
     "output_type": "stream",
     "text": [
      "Batches: 100%|██████████| 9/9 [00:00<00:00, 29.31it/s]\n"
     ]
    },
    {
     "name": "stdout",
     "output_type": "stream",
     "text": [
      "Processed topic information for NUTS region SE33 and period 5\n"
     ]
    },
    {
     "name": "stderr",
     "output_type": "stream",
     "text": [
      "Batches: 100%|██████████| 11/11 [00:00<00:00, 27.27it/s]\n"
     ]
    },
    {
     "name": "stdout",
     "output_type": "stream",
     "text": [
      "Processed topic information for NUTS region SE33 and period 6\n"
     ]
    },
    {
     "name": "stderr",
     "output_type": "stream",
     "text": [
      "Batches: 100%|██████████| 14/14 [00:00<00:00, 25.99it/s]\n",
      "NUTS regions:  75%|███████▌  | 153/203 [3:25:56<22:51, 27.42s/it]"
     ]
    },
    {
     "name": "stdout",
     "output_type": "stream",
     "text": [
      "Processed topic information for NUTS region SE33 and period 7\n",
      "No valid documents for NUTS region SE33 and period 8\n",
      "No valid documents for NUTS region PL21 and period 1\n",
      "No valid documents for NUTS region PL21 and period 2\n",
      "No valid documents for NUTS region PL21 and period 3\n",
      "No valid documents for NUTS region PL21 and period 4\n",
      "No valid documents for NUTS region PL21 and period 5\n"
     ]
    },
    {
     "name": "stderr",
     "output_type": "stream",
     "text": [
      "Batches: 100%|██████████| 6/6 [00:00<00:00, 27.23it/s]\n"
     ]
    },
    {
     "name": "stdout",
     "output_type": "stream",
     "text": [
      "Processed topic information for NUTS region PL21 and period 6\n"
     ]
    },
    {
     "name": "stderr",
     "output_type": "stream",
     "text": [
      "Batches: 100%|██████████| 16/16 [00:00<00:00, 25.51it/s]\n",
      "NUTS regions:  76%|███████▌  | 154/203 [3:26:03<17:27, 21.39s/it]"
     ]
    },
    {
     "name": "stdout",
     "output_type": "stream",
     "text": [
      "Processed topic information for NUTS region PL21 and period 7\n",
      "No valid documents for NUTS region PL21 and period 8\n",
      "No valid documents for NUTS region NL21 and period 1\n",
      "No valid documents for NUTS region NL21 and period 2\n",
      "No valid documents for NUTS region NL21 and period 3\n"
     ]
    },
    {
     "name": "stderr",
     "output_type": "stream",
     "text": [
      "Batches: 100%|██████████| 16/16 [00:00<00:00, 27.09it/s]\n"
     ]
    },
    {
     "name": "stdout",
     "output_type": "stream",
     "text": [
      "Processed topic information for NUTS region NL21 and period 4\n"
     ]
    },
    {
     "name": "stderr",
     "output_type": "stream",
     "text": [
      "Batches: 100%|██████████| 17/17 [00:00<00:00, 29.05it/s]\n"
     ]
    },
    {
     "name": "stdout",
     "output_type": "stream",
     "text": [
      "Processed topic information for NUTS region NL21 and period 5\n"
     ]
    },
    {
     "name": "stderr",
     "output_type": "stream",
     "text": [
      "Batches: 100%|██████████| 25/25 [00:00<00:00, 27.46it/s]\n",
      "NUTS regions:  76%|███████▋  | 155/203 [3:26:14<14:38, 18.29s/it]"
     ]
    },
    {
     "name": "stdout",
     "output_type": "stream",
     "text": [
      "Processed topic information for NUTS region NL21 and period 6\n",
      "No valid documents for NUTS region NL21 and period 7\n",
      "No valid documents for NUTS region NL21 and period 8\n",
      "No valid documents for NUTS region UKE4 and period 1\n",
      "No valid documents for NUTS region UKE4 and period 2\n",
      "No valid documents for NUTS region UKE4 and period 3\n"
     ]
    },
    {
     "name": "stderr",
     "output_type": "stream",
     "text": [
      "Batches: 100%|██████████| 22/22 [00:00<00:00, 29.85it/s]\n"
     ]
    },
    {
     "name": "stdout",
     "output_type": "stream",
     "text": [
      "Processed topic information for NUTS region UKE4 and period 4\n"
     ]
    },
    {
     "name": "stderr",
     "output_type": "stream",
     "text": [
      "Batches: 100%|██████████| 21/21 [00:00<00:00, 28.22it/s]\n"
     ]
    },
    {
     "name": "stdout",
     "output_type": "stream",
     "text": [
      "Processed topic information for NUTS region UKE4 and period 5\n"
     ]
    },
    {
     "name": "stderr",
     "output_type": "stream",
     "text": [
      "Batches: 100%|██████████| 20/20 [00:00<00:00, 31.64it/s]\n"
     ]
    },
    {
     "name": "stdout",
     "output_type": "stream",
     "text": [
      "Processed topic information for NUTS region UKE4 and period 6\n"
     ]
    },
    {
     "name": "stderr",
     "output_type": "stream",
     "text": [
      "Batches: 100%|██████████| 20/20 [00:00<00:00, 29.34it/s]\n",
      "NUTS regions:  77%|███████▋  | 156/203 [3:26:28<13:25, 17.13s/it]"
     ]
    },
    {
     "name": "stdout",
     "output_type": "stream",
     "text": [
      "Processed topic information for NUTS region UKE4 and period 7\n",
      "No valid documents for NUTS region UKE4 and period 8\n",
      "No valid documents for NUTS region PL51 and period 1\n",
      "No valid documents for NUTS region PL51 and period 2\n",
      "No valid documents for NUTS region PL51 and period 3\n",
      "No valid documents for NUTS region PL51 and period 4\n",
      "No valid documents for NUTS region PL51 and period 5\n"
     ]
    },
    {
     "name": "stderr",
     "output_type": "stream",
     "text": [
      "Batches: 100%|██████████| 4/4 [00:00<00:00, 28.58it/s]\n",
      "NUTS regions:  77%|███████▋  | 157/203 [3:26:32<09:58, 13.01s/it]"
     ]
    },
    {
     "name": "stdout",
     "output_type": "stream",
     "text": [
      "Processed topic information for NUTS region PL51 and period 6\n",
      "No valid documents for NUTS region PL51 and period 7\n",
      "No valid documents for NUTS region PL51 and period 8\n",
      "No valid documents for NUTS region UKM5 and period 1\n",
      "No valid documents for NUTS region UKM5 and period 2\n",
      "No valid documents for NUTS region UKM5 and period 3\n"
     ]
    },
    {
     "name": "stderr",
     "output_type": "stream",
     "text": [
      "Batches: 100%|██████████| 9/9 [00:00<00:00, 28.18it/s]\n"
     ]
    },
    {
     "name": "stdout",
     "output_type": "stream",
     "text": [
      "Processed topic information for NUTS region UKM5 and period 4\n"
     ]
    },
    {
     "name": "stderr",
     "output_type": "stream",
     "text": [
      "Batches: 100%|██████████| 10/10 [00:00<00:00, 33.45it/s]\n"
     ]
    },
    {
     "name": "stdout",
     "output_type": "stream",
     "text": [
      "Processed topic information for NUTS region UKM5 and period 5\n"
     ]
    },
    {
     "name": "stderr",
     "output_type": "stream",
     "text": [
      "Batches: 100%|██████████| 14/14 [00:00<00:00, 31.44it/s]\n",
      "NUTS regions:  78%|███████▊  | 158/203 [3:26:43<09:16, 12.37s/it]"
     ]
    },
    {
     "name": "stdout",
     "output_type": "stream",
     "text": [
      "Processed topic information for NUTS region UKM5 and period 6\n",
      "No valid documents for NUTS region UKM5 and period 7\n",
      "No valid documents for NUTS region UKM5 and period 8\n",
      "No valid documents for NUTS region FR51 and period 1\n",
      "No valid documents for NUTS region FR51 and period 2\n",
      "No valid documents for NUTS region FR51 and period 3\n"
     ]
    },
    {
     "name": "stderr",
     "output_type": "stream",
     "text": [
      "Batches: 100%|██████████| 22/22 [00:00<00:00, 31.49it/s]\n"
     ]
    },
    {
     "name": "stdout",
     "output_type": "stream",
     "text": [
      "Processed topic information for NUTS region FR51 and period 4\n"
     ]
    },
    {
     "name": "stderr",
     "output_type": "stream",
     "text": [
      "Batches: 100%|██████████| 30/30 [00:00<00:00, 34.38it/s]\n"
     ]
    },
    {
     "name": "stdout",
     "output_type": "stream",
     "text": [
      "Processed topic information for NUTS region FR51 and period 5\n"
     ]
    },
    {
     "name": "stderr",
     "output_type": "stream",
     "text": [
      "Batches: 100%|██████████| 39/39 [00:03<00:00, 10.39it/s]\n"
     ]
    },
    {
     "name": "stdout",
     "output_type": "stream",
     "text": [
      "Processed topic information for NUTS region FR51 and period 6\n"
     ]
    },
    {
     "name": "stderr",
     "output_type": "stream",
     "text": [
      "Batches: 100%|██████████| 46/46 [00:01<00:00, 25.59it/s]\n",
      "NUTS regions:  78%|███████▊  | 159/203 [3:27:03<10:44, 14.64s/it]"
     ]
    },
    {
     "name": "stdout",
     "output_type": "stream",
     "text": [
      "Processed topic information for NUTS region FR51 and period 7\n",
      "No valid documents for NUTS region FR51 and period 8\n",
      "No valid documents for NUTS region ES21 and period 1\n",
      "No valid documents for NUTS region ES21 and period 2\n",
      "No valid documents for NUTS region ES21 and period 3\n"
     ]
    },
    {
     "name": "stderr",
     "output_type": "stream",
     "text": [
      "Batches: 100%|██████████| 7/7 [00:00<00:00, 28.94it/s]\n"
     ]
    },
    {
     "name": "stdout",
     "output_type": "stream",
     "text": [
      "Processed topic information for NUTS region ES21 and period 4\n"
     ]
    },
    {
     "name": "stderr",
     "output_type": "stream",
     "text": [
      "Batches: 100%|██████████| 11/11 [00:00<00:00, 29.71it/s]\n"
     ]
    },
    {
     "name": "stdout",
     "output_type": "stream",
     "text": [
      "Processed topic information for NUTS region ES21 and period 5\n"
     ]
    },
    {
     "name": "stderr",
     "output_type": "stream",
     "text": [
      "Batches: 100%|██████████| 17/17 [00:00<00:00, 27.20it/s]\n"
     ]
    },
    {
     "name": "stdout",
     "output_type": "stream",
     "text": [
      "Processed topic information for NUTS region ES21 and period 6\n"
     ]
    },
    {
     "name": "stderr",
     "output_type": "stream",
     "text": [
      "Batches: 100%|██████████| 23/23 [00:00<00:00, 26.16it/s]\n",
      "NUTS regions:  79%|███████▉  | 160/203 [3:27:18<10:42, 14.94s/it]"
     ]
    },
    {
     "name": "stdout",
     "output_type": "stream",
     "text": [
      "Processed topic information for NUTS region ES21 and period 7\n",
      "No valid documents for NUTS region ES21 and period 8\n",
      "No valid documents for NUTS region UKE2 and period 1\n",
      "No valid documents for NUTS region UKE2 and period 2\n",
      "No valid documents for NUTS region UKE2 and period 3\n"
     ]
    },
    {
     "name": "stderr",
     "output_type": "stream",
     "text": [
      "Batches: 100%|██████████| 13/13 [00:00<00:00, 29.61it/s]\n"
     ]
    },
    {
     "name": "stdout",
     "output_type": "stream",
     "text": [
      "Processed topic information for NUTS region UKE2 and period 4\n"
     ]
    },
    {
     "name": "stderr",
     "output_type": "stream",
     "text": [
      "Batches: 100%|██████████| 11/11 [00:00<00:00, 38.25it/s]\n"
     ]
    },
    {
     "name": "stdout",
     "output_type": "stream",
     "text": [
      "Processed topic information for NUTS region UKE2 and period 5\n"
     ]
    },
    {
     "name": "stderr",
     "output_type": "stream",
     "text": [
      "Batches: 100%|██████████| 11/11 [00:00<00:00, 31.44it/s]\n"
     ]
    },
    {
     "name": "stdout",
     "output_type": "stream",
     "text": [
      "Processed topic information for NUTS region UKE2 and period 6\n"
     ]
    },
    {
     "name": "stderr",
     "output_type": "stream",
     "text": [
      "Batches: 100%|██████████| 11/11 [00:00<00:00, 35.33it/s]\n",
      "NUTS regions:  79%|███████▉  | 161/203 [3:27:33<10:22, 14.82s/it]"
     ]
    },
    {
     "name": "stdout",
     "output_type": "stream",
     "text": [
      "Processed topic information for NUTS region UKE2 and period 7\n",
      "No valid documents for NUTS region UKE2 and period 8\n",
      "No valid documents for NUTS region ITF1 and period 1\n",
      "No valid documents for NUTS region ITF1 and period 2\n",
      "No valid documents for NUTS region ITF1 and period 3\n"
     ]
    },
    {
     "name": "stderr",
     "output_type": "stream",
     "text": [
      "Batches: 100%|██████████| 7/7 [00:00<00:00, 30.01it/s]\n"
     ]
    },
    {
     "name": "stdout",
     "output_type": "stream",
     "text": [
      "Processed topic information for NUTS region ITF1 and period 4\n"
     ]
    },
    {
     "name": "stderr",
     "output_type": "stream",
     "text": [
      "Batches: 100%|██████████| 11/11 [00:00<00:00, 31.72it/s]\n"
     ]
    },
    {
     "name": "stdout",
     "output_type": "stream",
     "text": [
      "Processed topic information for NUTS region ITF1 and period 5\n"
     ]
    },
    {
     "name": "stderr",
     "output_type": "stream",
     "text": [
      "Batches: 100%|██████████| 10/10 [00:00<00:00, 28.77it/s]\n"
     ]
    },
    {
     "name": "stdout",
     "output_type": "stream",
     "text": [
      "Processed topic information for NUTS region ITF1 and period 6\n"
     ]
    },
    {
     "name": "stderr",
     "output_type": "stream",
     "text": [
      "Batches: 100%|██████████| 9/9 [00:00<00:00, 29.07it/s]\n",
      "NUTS regions:  80%|███████▉  | 162/203 [3:27:47<10:00, 14.64s/it]"
     ]
    },
    {
     "name": "stdout",
     "output_type": "stream",
     "text": [
      "Processed topic information for NUTS region ITF1 and period 7\n",
      "No valid documents for NUTS region ITF1 and period 8\n",
      "No valid documents for NUTS region CH07 and period 1\n",
      "No valid documents for NUTS region CH07 and period 2\n",
      "No valid documents for NUTS region CH07 and period 3\n"
     ]
    },
    {
     "name": "stderr",
     "output_type": "stream",
     "text": [
      "Batches: 100%|██████████| 10/10 [00:00<00:00, 27.11it/s]\n"
     ]
    },
    {
     "name": "stdout",
     "output_type": "stream",
     "text": [
      "Processed topic information for NUTS region CH07 and period 4\n"
     ]
    },
    {
     "name": "stderr",
     "output_type": "stream",
     "text": [
      "Batches: 100%|██████████| 12/12 [00:00<00:00, 33.72it/s]\n"
     ]
    },
    {
     "name": "stdout",
     "output_type": "stream",
     "text": [
      "Processed topic information for NUTS region CH07 and period 5\n",
      "No valid documents for NUTS region CH07 and period 6\n",
      "No valid documents for NUTS region CH07 and period 7\n"
     ]
    },
    {
     "name": "stderr",
     "output_type": "stream",
     "text": [
      "NUTS regions:  80%|████████  | 163/203 [3:27:54<08:17, 12.44s/it]"
     ]
    },
    {
     "name": "stdout",
     "output_type": "stream",
     "text": [
      "No valid documents for NUTS region CH07 and period 8\n",
      "No valid documents for NUTS region FR43 and period 1\n",
      "No valid documents for NUTS region FR43 and period 2\n",
      "No valid documents for NUTS region FR43 and period 3\n"
     ]
    },
    {
     "name": "stderr",
     "output_type": "stream",
     "text": [
      "Batches: 100%|██████████| 15/15 [00:00<00:00, 33.47it/s]\n"
     ]
    },
    {
     "name": "stdout",
     "output_type": "stream",
     "text": [
      "Processed topic information for NUTS region FR43 and period 4\n"
     ]
    },
    {
     "name": "stderr",
     "output_type": "stream",
     "text": [
      "Batches: 100%|██████████| 18/18 [00:00<00:00, 28.55it/s]\n"
     ]
    },
    {
     "name": "stdout",
     "output_type": "stream",
     "text": [
      "Processed topic information for NUTS region FR43 and period 5\n"
     ]
    },
    {
     "name": "stderr",
     "output_type": "stream",
     "text": [
      "Batches: 100%|██████████| 25/25 [00:07<00:00,  3.40it/s]\n",
      "NUTS regions:  81%|████████  | 164/203 [3:28:12<09:05, 14.00s/it]"
     ]
    },
    {
     "name": "stdout",
     "output_type": "stream",
     "text": [
      "Processed topic information for NUTS region FR43 and period 6\n",
      "No valid documents for NUTS region FR43 and period 7\n",
      "No valid documents for NUTS region FR43 and period 8\n",
      "No valid documents for NUTS region CY00 and period 1\n",
      "No valid documents for NUTS region CY00 and period 2\n",
      "No valid documents for NUTS region CY00 and period 3\n",
      "No valid documents for NUTS region CY00 and period 4\n"
     ]
    },
    {
     "name": "stderr",
     "output_type": "stream",
     "text": [
      "Batches: 100%|██████████| 4/4 [00:00<00:00,  4.04it/s]\n"
     ]
    },
    {
     "name": "stdout",
     "output_type": "stream",
     "text": [
      "Processed topic information for NUTS region CY00 and period 5\n"
     ]
    },
    {
     "name": "stderr",
     "output_type": "stream",
     "text": [
      "Batches: 100%|██████████| 4/4 [00:03<00:00,  1.08it/s]\n",
      "NUTS regions:  81%|████████▏ | 165/203 [3:28:22<08:10, 12.90s/it]"
     ]
    },
    {
     "name": "stdout",
     "output_type": "stream",
     "text": [
      "Processed topic information for NUTS region CY00 and period 6\n",
      "No valid documents for NUTS region CY00 and period 7\n",
      "No valid documents for NUTS region CY00 and period 8\n",
      "No valid documents for NUTS region UKM2 and period 1\n",
      "No valid documents for NUTS region UKM2 and period 2\n",
      "No valid documents for NUTS region UKM2 and period 3\n"
     ]
    },
    {
     "name": "stderr",
     "output_type": "stream",
     "text": [
      "Batches: 100%|██████████| 21/21 [00:35<00:00,  1.69s/it]\n"
     ]
    },
    {
     "name": "stdout",
     "output_type": "stream",
     "text": [
      "Processed topic information for NUTS region UKM2 and period 4\n"
     ]
    },
    {
     "name": "stderr",
     "output_type": "stream",
     "text": [
      "Batches: 100%|██████████| 26/26 [00:45<00:00,  1.76s/it]\n"
     ]
    },
    {
     "name": "stdout",
     "output_type": "stream",
     "text": [
      "Processed topic information for NUTS region UKM2 and period 5\n"
     ]
    },
    {
     "name": "stderr",
     "output_type": "stream",
     "text": [
      "Batches: 100%|██████████| 31/31 [01:13<00:00,  2.36s/it]\n"
     ]
    },
    {
     "name": "stdout",
     "output_type": "stream",
     "text": [
      "Processed topic information for NUTS region UKM2 and period 6\n"
     ]
    },
    {
     "name": "stderr",
     "output_type": "stream",
     "text": [
      "Batches: 100%|██████████| 30/30 [01:13<00:00,  2.45s/it]\n",
      "NUTS regions:  82%|████████▏ | 166/203 [3:32:24<50:19, 81.62s/it]"
     ]
    },
    {
     "name": "stdout",
     "output_type": "stream",
     "text": [
      "Processed topic information for NUTS region UKM2 and period 7\n",
      "No valid documents for NUTS region UKM2 and period 8\n",
      "No valid documents for NUTS region BE32 and period 1\n",
      "No valid documents for NUTS region BE32 and period 2\n",
      "No valid documents for NUTS region BE32 and period 3\n"
     ]
    },
    {
     "name": "stderr",
     "output_type": "stream",
     "text": [
      "Batches: 100%|██████████| 12/12 [00:24<00:00,  2.07s/it]\n"
     ]
    },
    {
     "name": "stdout",
     "output_type": "stream",
     "text": [
      "Processed topic information for NUTS region BE32 and period 4\n"
     ]
    },
    {
     "name": "stderr",
     "output_type": "stream",
     "text": [
      "Batches: 100%|██████████| 16/16 [00:21<00:00,  1.37s/it]\n"
     ]
    },
    {
     "name": "stdout",
     "output_type": "stream",
     "text": [
      "Processed topic information for NUTS region BE32 and period 5\n"
     ]
    },
    {
     "name": "stderr",
     "output_type": "stream",
     "text": [
      "Batches: 100%|██████████| 18/18 [00:27<00:00,  1.54s/it]\n",
      "NUTS regions:  82%|████████▏ | 167/203 [3:33:48<49:22, 82.29s/it]"
     ]
    },
    {
     "name": "stdout",
     "output_type": "stream",
     "text": [
      "Processed topic information for NUTS region BE32 and period 6\n",
      "No valid documents for NUTS region BE32 and period 7\n",
      "No valid documents for NUTS region BE32 and period 8\n",
      "No valid documents for NUTS region FR23 and period 1\n",
      "No valid documents for NUTS region FR23 and period 2\n",
      "No valid documents for NUTS region FR23 and period 3\n"
     ]
    },
    {
     "name": "stderr",
     "output_type": "stream",
     "text": [
      "Batches: 100%|██████████| 27/27 [00:52<00:00,  1.95s/it]\n"
     ]
    },
    {
     "name": "stdout",
     "output_type": "stream",
     "text": [
      "Processed topic information for NUTS region FR23 and period 4\n"
     ]
    },
    {
     "name": "stderr",
     "output_type": "stream",
     "text": [
      "Batches: 100%|██████████| 31/31 [01:27<00:00,  2.83s/it]\n"
     ]
    },
    {
     "name": "stdout",
     "output_type": "stream",
     "text": [
      "Processed topic information for NUTS region FR23 and period 5\n"
     ]
    },
    {
     "name": "stderr",
     "output_type": "stream",
     "text": [
      "Batches: 100%|██████████| 40/40 [01:53<00:00,  2.85s/it]\n",
      "NUTS regions:  83%|████████▎ | 168/203 [3:38:13<1:19:56, 137.04s/it]"
     ]
    },
    {
     "name": "stdout",
     "output_type": "stream",
     "text": [
      "Processed topic information for NUTS region FR23 and period 6\n",
      "No valid documents for NUTS region FR23 and period 7\n",
      "No valid documents for NUTS region FR23 and period 8\n",
      "No valid documents for NUTS region FR24 and period 1\n",
      "No valid documents for NUTS region FR24 and period 2\n",
      "No valid documents for NUTS region FR24 and period 3\n"
     ]
    },
    {
     "name": "stderr",
     "output_type": "stream",
     "text": [
      "Batches: 100%|██████████| 36/36 [01:15<00:00,  2.09s/it]\n"
     ]
    },
    {
     "name": "stdout",
     "output_type": "stream",
     "text": [
      "Processed topic information for NUTS region FR24 and period 4\n"
     ]
    },
    {
     "name": "stderr",
     "output_type": "stream",
     "text": [
      "Batches: 100%|██████████| 36/36 [01:14<00:00,  2.07s/it]\n"
     ]
    },
    {
     "name": "stdout",
     "output_type": "stream",
     "text": [
      "Processed topic information for NUTS region FR24 and period 5\n"
     ]
    },
    {
     "name": "stderr",
     "output_type": "stream",
     "text": [
      "Batches: 100%|██████████| 42/42 [01:38<00:00,  2.34s/it]\n"
     ]
    },
    {
     "name": "stdout",
     "output_type": "stream",
     "text": [
      "Processed topic information for NUTS region FR24 and period 6\n"
     ]
    },
    {
     "name": "stderr",
     "output_type": "stream",
     "text": [
      "Batches: 100%|██████████| 46/46 [02:03<00:00,  2.69s/it]\n",
      "NUTS regions:  83%|████████▎ | 169/203 [3:44:39<1:59:56, 211.67s/it]"
     ]
    },
    {
     "name": "stdout",
     "output_type": "stream",
     "text": [
      "Processed topic information for NUTS region FR24 and period 7\n",
      "No valid documents for NUTS region FR24 and period 8\n",
      "No valid documents for NUTS region FR53 and period 1\n",
      "No valid documents for NUTS region FR53 and period 2\n",
      "No valid documents for NUTS region FR53 and period 3\n"
     ]
    },
    {
     "name": "stderr",
     "output_type": "stream",
     "text": [
      "Batches: 100%|██████████| 12/12 [00:25<00:00,  2.12s/it]\n"
     ]
    },
    {
     "name": "stdout",
     "output_type": "stream",
     "text": [
      "Processed topic information for NUTS region FR53 and period 4\n"
     ]
    },
    {
     "name": "stderr",
     "output_type": "stream",
     "text": [
      "Batches: 100%|██████████| 15/15 [00:35<00:00,  2.39s/it]\n"
     ]
    },
    {
     "name": "stdout",
     "output_type": "stream",
     "text": [
      "Processed topic information for NUTS region FR53 and period 5\n"
     ]
    },
    {
     "name": "stderr",
     "output_type": "stream",
     "text": [
      "Batches: 100%|██████████| 17/17 [00:43<00:00,  2.55s/it]\n",
      "NUTS regions:  84%|████████▎ | 170/203 [3:46:33<1:40:17, 182.35s/it]"
     ]
    },
    {
     "name": "stdout",
     "output_type": "stream",
     "text": [
      "Processed topic information for NUTS region FR53 and period 6\n",
      "No valid documents for NUTS region FR53 and period 7\n",
      "No valid documents for NUTS region FR53 and period 8\n",
      "No valid documents for NUTS region FR61 and period 1\n",
      "No valid documents for NUTS region FR61 and period 2\n",
      "No valid documents for NUTS region FR61 and period 3\n"
     ]
    },
    {
     "name": "stderr",
     "output_type": "stream",
     "text": [
      "Batches: 100%|██████████| 19/19 [00:57<00:00,  3.03s/it]\n"
     ]
    },
    {
     "name": "stdout",
     "output_type": "stream",
     "text": [
      "Processed topic information for NUTS region FR61 and period 4\n"
     ]
    },
    {
     "name": "stderr",
     "output_type": "stream",
     "text": [
      "Batches: 100%|██████████| 21/21 [00:07<00:00,  2.81it/s]\n"
     ]
    },
    {
     "name": "stdout",
     "output_type": "stream",
     "text": [
      "Processed topic information for NUTS region FR61 and period 5\n"
     ]
    },
    {
     "name": "stderr",
     "output_type": "stream",
     "text": [
      "Batches: 100%|██████████| 32/32 [00:11<00:00,  2.84it/s]\n"
     ]
    },
    {
     "name": "stdout",
     "output_type": "stream",
     "text": [
      "Processed topic information for NUTS region FR61 and period 6\n"
     ]
    },
    {
     "name": "stderr",
     "output_type": "stream",
     "text": [
      "Batches: 100%|██████████| 44/44 [00:21<00:00,  2.09it/s]\n",
      "NUTS regions:  84%|████████▍ | 171/203 [3:48:24<1:25:52, 161.01s/it]"
     ]
    },
    {
     "name": "stdout",
     "output_type": "stream",
     "text": [
      "Processed topic information for NUTS region FR61 and period 7\n",
      "No valid documents for NUTS region FR61 and period 8\n",
      "No valid documents for NUTS region FR63 and period 1\n",
      "No valid documents for NUTS region FR63 and period 2\n",
      "No valid documents for NUTS region FR63 and period 3\n"
     ]
    },
    {
     "name": "stderr",
     "output_type": "stream",
     "text": [
      "Batches: 100%|██████████| 7/7 [00:00<00:00,  8.23it/s]\n"
     ]
    },
    {
     "name": "stdout",
     "output_type": "stream",
     "text": [
      "Processed topic information for NUTS region FR63 and period 4\n"
     ]
    },
    {
     "name": "stderr",
     "output_type": "stream",
     "text": [
      "Batches: 100%|██████████| 8/8 [00:00<00:00,  8.69it/s]\n"
     ]
    },
    {
     "name": "stdout",
     "output_type": "stream",
     "text": [
      "Processed topic information for NUTS region FR63 and period 5\n"
     ]
    },
    {
     "name": "stderr",
     "output_type": "stream",
     "text": [
      "Batches: 100%|██████████| 8/8 [00:00<00:00,  8.60it/s]\n",
      "NUTS regions:  85%|████████▍ | 172/203 [3:48:35<59:55, 115.98s/it]  "
     ]
    },
    {
     "name": "stdout",
     "output_type": "stream",
     "text": [
      "Processed topic information for NUTS region FR63 and period 6\n",
      "No valid documents for NUTS region FR63 and period 7\n",
      "No valid documents for NUTS region FR63 and period 8\n",
      "No valid documents for NUTS region FR81 and period 1\n",
      "No valid documents for NUTS region FR81 and period 2\n",
      "No valid documents for NUTS region FR81 and period 3\n"
     ]
    },
    {
     "name": "stderr",
     "output_type": "stream",
     "text": [
      "Batches: 100%|██████████| 17/17 [00:11<00:00,  1.52it/s]\n"
     ]
    },
    {
     "name": "stdout",
     "output_type": "stream",
     "text": [
      "Processed topic information for NUTS region FR81 and period 4\n"
     ]
    },
    {
     "name": "stderr",
     "output_type": "stream",
     "text": [
      "Batches: 100%|██████████| 20/20 [00:13<00:00,  1.44it/s]\n"
     ]
    },
    {
     "name": "stdout",
     "output_type": "stream",
     "text": [
      "Processed topic information for NUTS region FR81 and period 5\n"
     ]
    },
    {
     "name": "stderr",
     "output_type": "stream",
     "text": [
      "Batches: 100%|██████████| 25/25 [00:10<00:00,  2.39it/s]\n"
     ]
    },
    {
     "name": "stdout",
     "output_type": "stream",
     "text": [
      "Processed topic information for NUTS region FR81 and period 6\n"
     ]
    },
    {
     "name": "stderr",
     "output_type": "stream",
     "text": [
      "Batches: 100%|██████████| 29/29 [00:17<00:00,  1.63it/s]\n",
      "NUTS regions:  85%|████████▌ | 173/203 [3:49:41<50:33, 101.13s/it]"
     ]
    },
    {
     "name": "stdout",
     "output_type": "stream",
     "text": [
      "Processed topic information for NUTS region FR81 and period 7\n",
      "No valid documents for NUTS region FR81 and period 8\n",
      "No valid documents for NUTS region ES61 and period 1\n",
      "No valid documents for NUTS region ES61 and period 2\n",
      "No valid documents for NUTS region ES61 and period 3\n",
      "No valid documents for NUTS region ES61 and period 4\n"
     ]
    },
    {
     "name": "stderr",
     "output_type": "stream",
     "text": [
      "Batches: 100%|██████████| 5/5 [00:03<00:00,  1.27it/s]\n"
     ]
    },
    {
     "name": "stdout",
     "output_type": "stream",
     "text": [
      "Processed topic information for NUTS region ES61 and period 5\n"
     ]
    },
    {
     "name": "stderr",
     "output_type": "stream",
     "text": [
      "Batches: 100%|██████████| 6/6 [00:07<00:00,  1.23s/it]\n"
     ]
    },
    {
     "name": "stdout",
     "output_type": "stream",
     "text": [
      "Processed topic information for NUTS region ES61 and period 6\n"
     ]
    },
    {
     "name": "stderr",
     "output_type": "stream",
     "text": [
      "Batches: 100%|██████████| 10/10 [00:02<00:00,  3.94it/s]\n",
      "NUTS regions:  86%|████████▌ | 174/203 [3:50:05<37:37, 77.85s/it] "
     ]
    },
    {
     "name": "stdout",
     "output_type": "stream",
     "text": [
      "Processed topic information for NUTS region ES61 and period 7\n",
      "No valid documents for NUTS region ES61 and period 8\n",
      "No valid documents for NUTS region FR72 and period 1\n",
      "No valid documents for NUTS region FR72 and period 2\n",
      "No valid documents for NUTS region FR72 and period 3\n"
     ]
    },
    {
     "name": "stderr",
     "output_type": "stream",
     "text": [
      "Batches: 100%|██████████| 16/16 [00:03<00:00,  4.81it/s]\n"
     ]
    },
    {
     "name": "stdout",
     "output_type": "stream",
     "text": [
      "Processed topic information for NUTS region FR72 and period 4\n"
     ]
    },
    {
     "name": "stderr",
     "output_type": "stream",
     "text": [
      "Batches: 100%|██████████| 21/21 [00:01<00:00, 20.89it/s]\n"
     ]
    },
    {
     "name": "stdout",
     "output_type": "stream",
     "text": [
      "Processed topic information for NUTS region FR72 and period 5\n"
     ]
    },
    {
     "name": "stderr",
     "output_type": "stream",
     "text": [
      "Batches: 100%|██████████| 30/30 [00:01<00:00, 19.51it/s]\n",
      "NUTS regions:  86%|████████▌ | 175/203 [3:50:18<27:14, 58.37s/it]"
     ]
    },
    {
     "name": "stdout",
     "output_type": "stream",
     "text": [
      "Processed topic information for NUTS region FR72 and period 6\n",
      "No valid documents for NUTS region FR72 and period 7\n",
      "No valid documents for NUTS region FR72 and period 8\n",
      "No valid documents for NUTS region FR25 and period 1\n",
      "No valid documents for NUTS region FR25 and period 2\n",
      "No valid documents for NUTS region FR25 and period 3\n"
     ]
    },
    {
     "name": "stderr",
     "output_type": "stream",
     "text": [
      "Batches: 100%|██████████| 11/11 [00:00<00:00, 16.74it/s]\n"
     ]
    },
    {
     "name": "stdout",
     "output_type": "stream",
     "text": [
      "Processed topic information for NUTS region FR25 and period 4\n"
     ]
    },
    {
     "name": "stderr",
     "output_type": "stream",
     "text": [
      "Batches: 100%|██████████| 13/13 [00:00<00:00, 19.94it/s]\n"
     ]
    },
    {
     "name": "stdout",
     "output_type": "stream",
     "text": [
      "Processed topic information for NUTS region FR25 and period 5\n"
     ]
    },
    {
     "name": "stderr",
     "output_type": "stream",
     "text": [
      "Batches: 100%|██████████| 15/15 [00:00<00:00, 21.56it/s]\n",
      "NUTS regions:  87%|████████▋ | 176/203 [3:50:26<19:32, 43.44s/it]"
     ]
    },
    {
     "name": "stdout",
     "output_type": "stream",
     "text": [
      "Processed topic information for NUTS region FR25 and period 6\n",
      "No valid documents for NUTS region FR25 and period 7\n",
      "No valid documents for NUTS region FR25 and period 8\n",
      "No valid documents for NUTS region UKI5 and period 1\n",
      "No valid documents for NUTS region UKI5 and period 2\n",
      "No valid documents for NUTS region UKI5 and period 3\n"
     ]
    },
    {
     "name": "stderr",
     "output_type": "stream",
     "text": [
      "Batches: 100%|██████████| 6/6 [00:00<00:00, 14.37it/s]\n"
     ]
    },
    {
     "name": "stdout",
     "output_type": "stream",
     "text": [
      "Processed topic information for NUTS region UKI5 and period 4\n"
     ]
    },
    {
     "name": "stderr",
     "output_type": "stream",
     "text": [
      "Batches: 100%|██████████| 7/7 [00:00<00:00, 25.98it/s]\n"
     ]
    },
    {
     "name": "stdout",
     "output_type": "stream",
     "text": [
      "Processed topic information for NUTS region UKI5 and period 5\n"
     ]
    },
    {
     "name": "stderr",
     "output_type": "stream",
     "text": [
      "Batches: 100%|██████████| 6/6 [00:00<00:00, 25.07it/s]\n",
      "NUTS regions:  87%|████████▋ | 177/203 [3:50:33<13:59, 32.27s/it]"
     ]
    },
    {
     "name": "stdout",
     "output_type": "stream",
     "text": [
      "Processed topic information for NUTS region UKI5 and period 6\n",
      "No valid documents for NUTS region UKI5 and period 7\n",
      "No valid documents for NUTS region UKI5 and period 8\n",
      "No valid documents for NUTS region ES41 and period 1\n",
      "No valid documents for NUTS region ES41 and period 2\n",
      "No valid documents for NUTS region ES41 and period 3\n",
      "No valid documents for NUTS region ES41 and period 4\n"
     ]
    },
    {
     "name": "stderr",
     "output_type": "stream",
     "text": [
      "Batches: 100%|██████████| 6/6 [00:00<00:00, 15.12it/s]\n"
     ]
    },
    {
     "name": "stdout",
     "output_type": "stream",
     "text": [
      "Processed topic information for NUTS region ES41 and period 5\n"
     ]
    },
    {
     "name": "stderr",
     "output_type": "stream",
     "text": [
      "Batches: 100%|██████████| 5/5 [00:00<00:00, 30.77it/s]\n",
      "NUTS regions:  88%|████████▊ | 178/203 [3:50:37<09:59, 23.96s/it]"
     ]
    },
    {
     "name": "stdout",
     "output_type": "stream",
     "text": [
      "Processed topic information for NUTS region ES41 and period 6\n",
      "No valid documents for NUTS region ES41 and period 7\n",
      "No valid documents for NUTS region ES41 and period 8\n",
      "No valid documents for NUTS region PT11 and period 1\n",
      "No valid documents for NUTS region PT11 and period 2\n",
      "No valid documents for NUTS region PT11 and period 3\n",
      "No valid documents for NUTS region PT11 and period 4\n",
      "No valid documents for NUTS region PT11 and period 5\n"
     ]
    },
    {
     "name": "stderr",
     "output_type": "stream",
     "text": [
      "Batches: 100%|██████████| 6/6 [00:00<00:00, 18.70it/s]\n"
     ]
    },
    {
     "name": "stdout",
     "output_type": "stream",
     "text": [
      "Processed topic information for NUTS region PT11 and period 6\n"
     ]
    },
    {
     "name": "stderr",
     "output_type": "stream",
     "text": [
      "Batches: 100%|██████████| 9/9 [00:00<00:00, 22.06it/s]\n",
      "NUTS regions:  88%|████████▊ | 179/203 [3:50:44<07:31, 18.82s/it]"
     ]
    },
    {
     "name": "stdout",
     "output_type": "stream",
     "text": [
      "Processed topic information for NUTS region PT11 and period 7\n",
      "No valid documents for NUTS region PT11 and period 8\n",
      "No valid documents for NUTS region NO05 and period 1\n",
      "No valid documents for NUTS region NO05 and period 2\n",
      "No valid documents for NUTS region NO05 and period 3\n"
     ]
    },
    {
     "name": "stderr",
     "output_type": "stream",
     "text": [
      "Batches: 100%|██████████| 6/6 [00:00<00:00, 23.30it/s]\n"
     ]
    },
    {
     "name": "stdout",
     "output_type": "stream",
     "text": [
      "Processed topic information for NUTS region NO05 and period 4\n"
     ]
    },
    {
     "name": "stderr",
     "output_type": "stream",
     "text": [
      "Batches: 100%|██████████| 7/7 [00:00<00:00, 33.12it/s]\n"
     ]
    },
    {
     "name": "stdout",
     "output_type": "stream",
     "text": [
      "Processed topic information for NUTS region NO05 and period 5\n"
     ]
    },
    {
     "name": "stderr",
     "output_type": "stream",
     "text": [
      "Batches: 100%|██████████| 10/10 [00:00<00:00, 28.11it/s]\n"
     ]
    },
    {
     "name": "stdout",
     "output_type": "stream",
     "text": [
      "Processed topic information for NUTS region NO05 and period 6\n"
     ]
    },
    {
     "name": "stderr",
     "output_type": "stream",
     "text": [
      "Batches: 100%|██████████| 13/13 [00:00<00:00, 26.93it/s]\n",
      "NUTS regions:  89%|████████▊ | 180/203 [3:50:59<06:45, 17.63s/it]"
     ]
    },
    {
     "name": "stdout",
     "output_type": "stream",
     "text": [
      "Processed topic information for NUTS region NO05 and period 7\n",
      "No valid documents for NUTS region NO05 and period 8\n",
      "No valid documents for NUTS region PT17 and period 1\n",
      "No valid documents for NUTS region PT17 and period 2\n",
      "No valid documents for NUTS region PT17 and period 3\n",
      "No valid documents for NUTS region PT17 and period 4\n",
      "No valid documents for NUTS region PT17 and period 5\n"
     ]
    },
    {
     "name": "stderr",
     "output_type": "stream",
     "text": [
      "Batches: 100%|██████████| 5/5 [00:00<00:00, 27.70it/s]\n"
     ]
    },
    {
     "name": "stdout",
     "output_type": "stream",
     "text": [
      "Processed topic information for NUTS region PT17 and period 6\n"
     ]
    },
    {
     "name": "stderr",
     "output_type": "stream",
     "text": [
      "Batches: 100%|██████████| 6/6 [00:00<00:00, 25.00it/s]\n",
      "NUTS regions:  89%|████████▉ | 181/203 [3:51:06<05:16, 14.36s/it]"
     ]
    },
    {
     "name": "stdout",
     "output_type": "stream",
     "text": [
      "Processed topic information for NUTS region PT17 and period 7\n",
      "No valid documents for NUTS region PT17 and period 8\n",
      "No valid documents for NUTS region UKK4 and period 1\n",
      "No valid documents for NUTS region UKK4 and period 2\n",
      "No valid documents for NUTS region UKK4 and period 3\n"
     ]
    },
    {
     "name": "stderr",
     "output_type": "stream",
     "text": [
      "Batches: 100%|██████████| 6/6 [00:00<00:00, 29.29it/s]\n"
     ]
    },
    {
     "name": "stdout",
     "output_type": "stream",
     "text": [
      "Processed topic information for NUTS region UKK4 and period 4\n"
     ]
    },
    {
     "name": "stderr",
     "output_type": "stream",
     "text": [
      "Batches: 100%|██████████| 6/6 [00:00<00:00, 28.79it/s]\n"
     ]
    },
    {
     "name": "stdout",
     "output_type": "stream",
     "text": [
      "Processed topic information for NUTS region UKK4 and period 5\n"
     ]
    },
    {
     "name": "stderr",
     "output_type": "stream",
     "text": [
      "Batches: 100%|██████████| 5/5 [00:00<00:00, 26.07it/s]\n"
     ]
    },
    {
     "name": "stdout",
     "output_type": "stream",
     "text": [
      "Processed topic information for NUTS region UKK4 and period 6\n"
     ]
    },
    {
     "name": "stderr",
     "output_type": "stream",
     "text": [
      "Batches: 100%|██████████| 6/6 [00:00<00:00, 26.86it/s]\n",
      "NUTS regions:  90%|████████▉ | 182/203 [3:51:19<04:58, 14.20s/it]"
     ]
    },
    {
     "name": "stdout",
     "output_type": "stream",
     "text": [
      "Processed topic information for NUTS region UKK4 and period 7\n",
      "No valid documents for NUTS region UKK4 and period 8\n",
      "No valid documents for NUTS region UKM3 and period 1\n",
      "No valid documents for NUTS region UKM3 and period 2\n",
      "No valid documents for NUTS region UKM3 and period 3\n"
     ]
    },
    {
     "name": "stderr",
     "output_type": "stream",
     "text": [
      "Batches: 100%|██████████| 13/13 [00:00<00:00, 30.69it/s]\n"
     ]
    },
    {
     "name": "stdout",
     "output_type": "stream",
     "text": [
      "Processed topic information for NUTS region UKM3 and period 4\n"
     ]
    },
    {
     "name": "stderr",
     "output_type": "stream",
     "text": [
      "Batches: 100%|██████████| 14/14 [00:00<00:00, 34.21it/s]\n"
     ]
    },
    {
     "name": "stdout",
     "output_type": "stream",
     "text": [
      "Processed topic information for NUTS region UKM3 and period 5\n"
     ]
    },
    {
     "name": "stderr",
     "output_type": "stream",
     "text": [
      "Batches: 100%|██████████| 14/14 [00:00<00:00, 31.75it/s]\n"
     ]
    },
    {
     "name": "stdout",
     "output_type": "stream",
     "text": [
      "Processed topic information for NUTS region UKM3 and period 6\n"
     ]
    },
    {
     "name": "stderr",
     "output_type": "stream",
     "text": [
      "Batches: 100%|██████████| 13/13 [00:00<00:00, 30.47it/s]\n",
      "NUTS regions:  90%|█████████ | 183/203 [3:51:33<04:43, 14.17s/it]"
     ]
    },
    {
     "name": "stdout",
     "output_type": "stream",
     "text": [
      "Processed topic information for NUTS region UKM3 and period 7\n",
      "No valid documents for NUTS region UKM3 and period 8\n",
      "No valid documents for NUTS region UKE3 and period 1\n",
      "No valid documents for NUTS region UKE3 and period 2\n",
      "No valid documents for NUTS region UKE3 and period 3\n"
     ]
    },
    {
     "name": "stderr",
     "output_type": "stream",
     "text": [
      "Batches: 100%|██████████| 7/7 [00:00<00:00, 29.66it/s]\n"
     ]
    },
    {
     "name": "stdout",
     "output_type": "stream",
     "text": [
      "Processed topic information for NUTS region UKE3 and period 4\n"
     ]
    },
    {
     "name": "stderr",
     "output_type": "stream",
     "text": [
      "Batches: 100%|██████████| 7/7 [00:00<00:00, 33.35it/s]\n"
     ]
    },
    {
     "name": "stdout",
     "output_type": "stream",
     "text": [
      "Processed topic information for NUTS region UKE3 and period 5\n"
     ]
    },
    {
     "name": "stderr",
     "output_type": "stream",
     "text": [
      "Batches: 100%|██████████| 9/9 [00:00<00:00, 31.00it/s]\n"
     ]
    },
    {
     "name": "stdout",
     "output_type": "stream",
     "text": [
      "Processed topic information for NUTS region UKE3 and period 6\n"
     ]
    },
    {
     "name": "stderr",
     "output_type": "stream",
     "text": [
      "Batches: 100%|██████████| 11/11 [00:00<00:00, 30.05it/s]\n",
      "NUTS regions:  91%|█████████ | 184/203 [3:51:48<04:29, 14.16s/it]"
     ]
    },
    {
     "name": "stdout",
     "output_type": "stream",
     "text": [
      "Processed topic information for NUTS region UKE3 and period 7\n",
      "No valid documents for NUTS region UKE3 and period 8\n",
      "No valid documents for NUTS region ITI3 and period 1\n",
      "No valid documents for NUTS region ITI3 and period 2\n",
      "No valid documents for NUTS region ITI3 and period 3\n"
     ]
    },
    {
     "name": "stderr",
     "output_type": "stream",
     "text": [
      "Batches: 100%|██████████| 8/8 [00:00<00:00, 32.21it/s]\n"
     ]
    },
    {
     "name": "stdout",
     "output_type": "stream",
     "text": [
      "Processed topic information for NUTS region ITI3 and period 4\n"
     ]
    },
    {
     "name": "stderr",
     "output_type": "stream",
     "text": [
      "Batches: 100%|██████████| 10/10 [00:00<00:00, 32.06it/s]\n"
     ]
    },
    {
     "name": "stdout",
     "output_type": "stream",
     "text": [
      "Processed topic information for NUTS region ITI3 and period 5\n"
     ]
    },
    {
     "name": "stderr",
     "output_type": "stream",
     "text": [
      "Batches: 100%|██████████| 18/18 [00:00<00:00, 29.24it/s]\n",
      "NUTS regions:  91%|█████████ | 185/203 [3:51:58<03:56, 13.16s/it]"
     ]
    },
    {
     "name": "stdout",
     "output_type": "stream",
     "text": [
      "Processed topic information for NUTS region ITI3 and period 6\n",
      "No valid documents for NUTS region ITI3 and period 7\n",
      "No valid documents for NUTS region ITI3 and period 8\n",
      "No valid documents for NUTS region UKN0 and period 1\n",
      "No valid documents for NUTS region UKN0 and period 2\n",
      "No valid documents for NUTS region UKN0 and period 3\n"
     ]
    },
    {
     "name": "stderr",
     "output_type": "stream",
     "text": [
      "Batches: 100%|██████████| 6/6 [00:00<00:00, 35.37it/s]\n"
     ]
    },
    {
     "name": "stdout",
     "output_type": "stream",
     "text": [
      "Processed topic information for NUTS region UKN0 and period 4\n"
     ]
    },
    {
     "name": "stderr",
     "output_type": "stream",
     "text": [
      "Batches: 100%|██████████| 7/7 [00:00<00:00, 33.60it/s]\n"
     ]
    },
    {
     "name": "stdout",
     "output_type": "stream",
     "text": [
      "Processed topic information for NUTS region UKN0 and period 5\n"
     ]
    },
    {
     "name": "stderr",
     "output_type": "stream",
     "text": [
      "Batches: 100%|██████████| 11/11 [00:00<00:00, 34.26it/s]\n"
     ]
    },
    {
     "name": "stdout",
     "output_type": "stream",
     "text": [
      "Processed topic information for NUTS region UKN0 and period 6\n"
     ]
    },
    {
     "name": "stderr",
     "output_type": "stream",
     "text": [
      "Batches: 100%|██████████| 16/16 [00:00<00:00, 34.94it/s]\n",
      "NUTS regions:  92%|█████████▏| 186/203 [3:52:13<03:49, 13.49s/it]"
     ]
    },
    {
     "name": "stdout",
     "output_type": "stream",
     "text": [
      "Processed topic information for NUTS region UKN0 and period 7\n",
      "No valid documents for NUTS region UKN0 and period 8\n",
      "No valid documents for NUTS region UKG2 and period 1\n",
      "No valid documents for NUTS region UKG2 and period 2\n",
      "No valid documents for NUTS region UKG2 and period 3\n"
     ]
    },
    {
     "name": "stderr",
     "output_type": "stream",
     "text": [
      "Batches: 100%|██████████| 12/12 [00:00<00:00, 30.09it/s]\n"
     ]
    },
    {
     "name": "stdout",
     "output_type": "stream",
     "text": [
      "Processed topic information for NUTS region UKG2 and period 4\n"
     ]
    },
    {
     "name": "stderr",
     "output_type": "stream",
     "text": [
      "Batches: 100%|██████████| 12/12 [00:00<00:00, 29.82it/s]\n"
     ]
    },
    {
     "name": "stdout",
     "output_type": "stream",
     "text": [
      "Processed topic information for NUTS region UKG2 and period 5\n"
     ]
    },
    {
     "name": "stderr",
     "output_type": "stream",
     "text": [
      "Batches: 100%|██████████| 13/13 [00:00<00:00, 28.96it/s]\n",
      "NUTS regions:  92%|█████████▏| 187/203 [3:52:23<03:21, 12.58s/it]"
     ]
    },
    {
     "name": "stdout",
     "output_type": "stream",
     "text": [
      "Processed topic information for NUTS region UKG2 and period 6\n",
      "No valid documents for NUTS region UKG2 and period 7\n",
      "No valid documents for NUTS region UKG2 and period 8\n",
      "No valid documents for NUTS region CZ01 and period 1\n",
      "No valid documents for NUTS region CZ01 and period 2\n",
      "No valid documents for NUTS region CZ01 and period 3\n",
      "No valid documents for NUTS region CZ01 and period 4\n"
     ]
    },
    {
     "name": "stderr",
     "output_type": "stream",
     "text": [
      "Batches: 100%|██████████| 4/4 [00:00<00:00, 24.87it/s]\n"
     ]
    },
    {
     "name": "stdout",
     "output_type": "stream",
     "text": [
      "Processed topic information for NUTS region CZ01 and period 5\n"
     ]
    },
    {
     "name": "stderr",
     "output_type": "stream",
     "text": [
      "Batches: 100%|██████████| 7/7 [00:00<00:00, 22.10it/s]\n"
     ]
    },
    {
     "name": "stdout",
     "output_type": "stream",
     "text": [
      "Processed topic information for NUTS region CZ01 and period 6\n"
     ]
    },
    {
     "name": "stderr",
     "output_type": "stream",
     "text": [
      "Batches: 100%|██████████| 10/10 [00:00<00:00, 27.17it/s]\n",
      "NUTS regions:  93%|█████████▎| 188/203 [3:52:34<02:58, 11.93s/it]"
     ]
    },
    {
     "name": "stdout",
     "output_type": "stream",
     "text": [
      "Processed topic information for NUTS region CZ01 and period 7\n",
      "No valid documents for NUTS region CZ01 and period 8\n",
      "No valid documents for NUTS region DE22 and period 1\n",
      "No valid documents for NUTS region DE22 and period 2\n",
      "No valid documents for NUTS region DE22 and period 3\n"
     ]
    },
    {
     "name": "stderr",
     "output_type": "stream",
     "text": [
      "Batches: 100%|██████████| 30/30 [00:03<00:00,  7.81it/s]\n"
     ]
    },
    {
     "name": "stdout",
     "output_type": "stream",
     "text": [
      "Processed topic information for NUTS region DE22 and period 4\n"
     ]
    },
    {
     "name": "stderr",
     "output_type": "stream",
     "text": [
      "Batches: 100%|██████████| 39/39 [00:03<00:00, 10.35it/s]\n"
     ]
    },
    {
     "name": "stdout",
     "output_type": "stream",
     "text": [
      "Processed topic information for NUTS region DE22 and period 5\n",
      "No valid documents for NUTS region DE22 and period 6\n",
      "No valid documents for NUTS region DE22 and period 7\n"
     ]
    },
    {
     "name": "stderr",
     "output_type": "stream",
     "text": [
      "NUTS regions:  93%|█████████▎| 189/203 [3:52:48<02:59, 12.80s/it]"
     ]
    },
    {
     "name": "stdout",
     "output_type": "stream",
     "text": [
      "No valid documents for NUTS region DE22 and period 8\n",
      "No valid documents for NUTS region SI03 and period 1\n",
      "No valid documents for NUTS region SI03 and period 2\n",
      "No valid documents for NUTS region SI03 and period 3\n",
      "No valid documents for NUTS region SI03 and period 4\n"
     ]
    },
    {
     "name": "stderr",
     "output_type": "stream",
     "text": [
      "Batches: 100%|██████████| 6/6 [00:00<00:00, 11.45it/s]\n"
     ]
    },
    {
     "name": "stdout",
     "output_type": "stream",
     "text": [
      "Processed topic information for NUTS region SI03 and period 5\n"
     ]
    },
    {
     "name": "stderr",
     "output_type": "stream",
     "text": [
      "Batches: 100%|██████████| 10/10 [00:07<00:00,  1.34it/s]\n",
      "NUTS regions:  94%|█████████▎| 190/203 [3:53:03<02:51, 13.19s/it]"
     ]
    },
    {
     "name": "stdout",
     "output_type": "stream",
     "text": [
      "Processed topic information for NUTS region SI03 and period 6\n",
      "No valid documents for NUTS region SI03 and period 7\n",
      "No valid documents for NUTS region SI03 and period 8\n",
      "No valid documents for NUTS region UKE1 and period 1\n",
      "No valid documents for NUTS region UKE1 and period 2\n",
      "No valid documents for NUTS region UKE1 and period 3\n"
     ]
    },
    {
     "name": "stderr",
     "output_type": "stream",
     "text": [
      "Batches: 100%|██████████| 8/8 [00:06<00:00,  1.17it/s]\n"
     ]
    },
    {
     "name": "stdout",
     "output_type": "stream",
     "text": [
      "Processed topic information for NUTS region UKE1 and period 4\n"
     ]
    },
    {
     "name": "stderr",
     "output_type": "stream",
     "text": [
      "Batches: 100%|██████████| 10/10 [00:07<00:00,  1.42it/s]\n"
     ]
    },
    {
     "name": "stdout",
     "output_type": "stream",
     "text": [
      "Processed topic information for NUTS region UKE1 and period 5\n"
     ]
    },
    {
     "name": "stderr",
     "output_type": "stream",
     "text": [
      "Batches: 100%|██████████| 8/8 [00:10<00:00,  1.35s/it]\n",
      "NUTS regions:  94%|█████████▍| 191/203 [3:53:37<03:55, 19.60s/it]"
     ]
    },
    {
     "name": "stdout",
     "output_type": "stream",
     "text": [
      "Processed topic information for NUTS region UKE1 and period 6\n",
      "No valid documents for NUTS region UKE1 and period 7\n",
      "No valid documents for NUTS region UKE1 and period 8\n",
      "No valid documents for NUTS region BE35 and period 1\n",
      "No valid documents for NUTS region BE35 and period 2\n",
      "No valid documents for NUTS region BE35 and period 3\n"
     ]
    },
    {
     "name": "stderr",
     "output_type": "stream",
     "text": [
      "Batches: 100%|██████████| 5/5 [00:07<00:00,  1.40s/it]\n"
     ]
    },
    {
     "name": "stdout",
     "output_type": "stream",
     "text": [
      "Processed topic information for NUTS region BE35 and period 4\n"
     ]
    },
    {
     "name": "stderr",
     "output_type": "stream",
     "text": [
      "Batches: 100%|██████████| 6/6 [00:11<00:00,  1.85s/it]\n"
     ]
    },
    {
     "name": "stdout",
     "output_type": "stream",
     "text": [
      "Processed topic information for NUTS region BE35 and period 5\n"
     ]
    },
    {
     "name": "stderr",
     "output_type": "stream",
     "text": [
      "Batches: 100%|██████████| 6/6 [00:11<00:00,  1.87s/it]\n",
      "NUTS regions:  95%|█████████▍| 192/203 [3:54:16<04:38, 25.34s/it]"
     ]
    },
    {
     "name": "stdout",
     "output_type": "stream",
     "text": [
      "Processed topic information for NUTS region BE35 and period 6\n",
      "No valid documents for NUTS region BE35 and period 7\n",
      "No valid documents for NUTS region BE35 and period 8\n",
      "No valid documents for NUTS region SI04 and period 1\n",
      "No valid documents for NUTS region SI04 and period 2\n",
      "No valid documents for NUTS region SI04 and period 3\n",
      "No valid documents for NUTS region SI04 and period 4\n"
     ]
    },
    {
     "name": "stderr",
     "output_type": "stream",
     "text": [
      "Batches: 100%|██████████| 6/6 [00:11<00:00,  1.85s/it]\n"
     ]
    },
    {
     "name": "stdout",
     "output_type": "stream",
     "text": [
      "Processed topic information for NUTS region SI04 and period 5\n"
     ]
    },
    {
     "name": "stderr",
     "output_type": "stream",
     "text": [
      "Batches: 100%|██████████| 10/10 [00:17<00:00,  1.77s/it]\n"
     ]
    },
    {
     "name": "stdout",
     "output_type": "stream",
     "text": [
      "Processed topic information for NUTS region SI04 and period 6\n"
     ]
    },
    {
     "name": "stderr",
     "output_type": "stream",
     "text": [
      "Batches: 100%|██████████| 14/14 [00:25<00:00,  1.79s/it]\n",
      "NUTS regions:  95%|█████████▌| 193/203 [3:55:19<06:06, 36.61s/it]"
     ]
    },
    {
     "name": "stdout",
     "output_type": "stream",
     "text": [
      "Processed topic information for NUTS region SI04 and period 7\n",
      "No valid documents for NUTS region SI04 and period 8\n",
      "No valid documents for NUTS region AT21 and period 1\n",
      "No valid documents for NUTS region AT21 and period 2\n",
      "No valid documents for NUTS region AT21 and period 3\n"
     ]
    },
    {
     "name": "stderr",
     "output_type": "stream",
     "text": [
      "Batches: 100%|██████████| 8/8 [00:07<00:00,  1.07it/s]\n"
     ]
    },
    {
     "name": "stdout",
     "output_type": "stream",
     "text": [
      "Processed topic information for NUTS region AT21 and period 4\n"
     ]
    },
    {
     "name": "stderr",
     "output_type": "stream",
     "text": [
      "Batches: 100%|██████████| 9/9 [00:00<00:00,  9.42it/s]\n"
     ]
    },
    {
     "name": "stdout",
     "output_type": "stream",
     "text": [
      "Processed topic information for NUTS region AT21 and period 5\n",
      "No valid documents for NUTS region AT21 and period 6\n",
      "No valid documents for NUTS region AT21 and period 7\n"
     ]
    },
    {
     "name": "stderr",
     "output_type": "stream",
     "text": [
      "NUTS regions:  96%|█████████▌| 194/203 [3:55:33<04:29, 29.97s/it]"
     ]
    },
    {
     "name": "stdout",
     "output_type": "stream",
     "text": [
      "No valid documents for NUTS region AT21 and period 8\n",
      "No valid documents for NUTS region DEB2 and period 1\n",
      "No valid documents for NUTS region DEB2 and period 2\n",
      "No valid documents for NUTS region DEB2 and period 3\n"
     ]
    },
    {
     "name": "stderr",
     "output_type": "stream",
     "text": [
      "Batches: 100%|██████████| 7/7 [00:03<00:00,  2.03it/s]\n"
     ]
    },
    {
     "name": "stdout",
     "output_type": "stream",
     "text": [
      "Processed topic information for NUTS region DEB2 and period 4\n"
     ]
    },
    {
     "name": "stderr",
     "output_type": "stream",
     "text": [
      "Batches: 100%|██████████| 8/8 [00:07<00:00,  1.13it/s]\n"
     ]
    },
    {
     "name": "stdout",
     "output_type": "stream",
     "text": [
      "Processed topic information for NUTS region DEB2 and period 5\n",
      "No valid documents for NUTS region DEB2 and period 6\n",
      "No valid documents for NUTS region DEB2 and period 7\n"
     ]
    },
    {
     "name": "stderr",
     "output_type": "stream",
     "text": [
      "NUTS regions:  96%|█████████▌| 195/203 [3:55:50<03:28, 26.10s/it]"
     ]
    },
    {
     "name": "stdout",
     "output_type": "stream",
     "text": [
      "No valid documents for NUTS region DEB2 and period 8\n",
      "No valid documents for NUTS region PL12 and period 1\n",
      "No valid documents for NUTS region PL12 and period 2\n",
      "No valid documents for NUTS region PL12 and period 3\n",
      "No valid documents for NUTS region PL12 and period 4\n"
     ]
    },
    {
     "name": "stderr",
     "output_type": "stream",
     "text": [
      "Batches: 100%|██████████| 6/6 [00:04<00:00,  1.40it/s]\n"
     ]
    },
    {
     "name": "stdout",
     "output_type": "stream",
     "text": [
      "Processed topic information for NUTS region PL12 and period 5\n"
     ]
    },
    {
     "name": "stderr",
     "output_type": "stream",
     "text": [
      "Batches: 100%|██████████| 9/9 [00:10<00:00,  1.15s/it]\n"
     ]
    },
    {
     "name": "stdout",
     "output_type": "stream",
     "text": [
      "Processed topic information for NUTS region PL12 and period 6\n"
     ]
    },
    {
     "name": "stderr",
     "output_type": "stream",
     "text": [
      "Batches: 100%|██████████| 23/23 [00:35<00:00,  1.55s/it]\n",
      "NUTS regions:  97%|█████████▋| 196/203 [3:56:50<04:13, 36.19s/it]"
     ]
    },
    {
     "name": "stdout",
     "output_type": "stream",
     "text": [
      "Processed topic information for NUTS region PL12 and period 7\n",
      "No valid documents for NUTS region PL12 and period 8\n",
      "No valid documents for NUTS region UKF3 and period 1\n",
      "No valid documents for NUTS region UKF3 and period 2\n",
      "No valid documents for NUTS region UKF3 and period 3\n",
      "No valid documents for NUTS region UKF3 and period 4\n"
     ]
    },
    {
     "name": "stderr",
     "output_type": "stream",
     "text": [
      "Batches: 100%|██████████| 4/4 [00:07<00:00,  1.76s/it]\n"
     ]
    },
    {
     "name": "stdout",
     "output_type": "stream",
     "text": [
      "Processed topic information for NUTS region UKF3 and period 5\n",
      "No valid documents for NUTS region UKF3 and period 6\n",
      "No valid documents for NUTS region UKF3 and period 7\n"
     ]
    },
    {
     "name": "stderr",
     "output_type": "stream",
     "text": [
      "NUTS regions:  97%|█████████▋| 197/203 [3:57:00<02:50, 28.41s/it]"
     ]
    },
    {
     "name": "stdout",
     "output_type": "stream",
     "text": [
      "No valid documents for NUTS region UKF3 and period 8\n",
      "No valid documents for NUTS region UKD1 and period 1\n",
      "No valid documents for NUTS region UKD1 and period 2\n",
      "No valid documents for NUTS region UKD1 and period 3\n"
     ]
    },
    {
     "name": "stderr",
     "output_type": "stream",
     "text": [
      "Batches: 100%|██████████| 5/5 [00:14<00:00,  2.90s/it]\n"
     ]
    },
    {
     "name": "stdout",
     "output_type": "stream",
     "text": [
      "Processed topic information for NUTS region UKD1 and period 4\n"
     ]
    },
    {
     "name": "stderr",
     "output_type": "stream",
     "text": [
      "Batches: 100%|██████████| 4/4 [00:07<00:00,  1.99s/it]\n"
     ]
    },
    {
     "name": "stdout",
     "output_type": "stream",
     "text": [
      "Processed topic information for NUTS region UKD1 and period 5\n",
      "No valid documents for NUTS region UKD1 and period 6\n",
      "No valid documents for NUTS region UKD1 and period 7\n"
     ]
    },
    {
     "name": "stderr",
     "output_type": "stream",
     "text": [
      "NUTS regions:  98%|█████████▊| 198/203 [3:57:29<02:22, 28.50s/it]"
     ]
    },
    {
     "name": "stdout",
     "output_type": "stream",
     "text": [
      "No valid documents for NUTS region UKD1 and period 8\n",
      "No valid documents for NUTS region EE00 and period 1\n",
      "No valid documents for NUTS region EE00 and period 2\n",
      "No valid documents for NUTS region EE00 and period 3\n",
      "No valid documents for NUTS region EE00 and period 4\n",
      "No valid documents for NUTS region EE00 and period 5\n"
     ]
    },
    {
     "name": "stderr",
     "output_type": "stream",
     "text": [
      "Batches: 100%|██████████| 4/4 [00:07<00:00,  1.92s/it]\n",
      "NUTS regions:  98%|█████████▊| 199/203 [3:57:40<01:32, 23.21s/it]"
     ]
    },
    {
     "name": "stdout",
     "output_type": "stream",
     "text": [
      "Processed topic information for NUTS region EE00 and period 6\n",
      "No valid documents for NUTS region EE00 and period 7\n",
      "No valid documents for NUTS region EE00 and period 8\n",
      "No valid documents for NUTS region BE34 and period 1\n",
      "No valid documents for NUTS region BE34 and period 2\n",
      "No valid documents for NUTS region BE34 and period 3\n",
      "No valid documents for NUTS region BE34 and period 4\n"
     ]
    },
    {
     "name": "stderr",
     "output_type": "stream",
     "text": [
      "Batches: 100%|██████████| 7/7 [00:17<00:00,  2.53s/it]\n"
     ]
    },
    {
     "name": "stdout",
     "output_type": "stream",
     "text": [
      "Processed topic information for NUTS region BE34 and period 5\n",
      "No valid documents for NUTS region BE34 and period 6\n",
      "No valid documents for NUTS region BE34 and period 7\n"
     ]
    },
    {
     "name": "stderr",
     "output_type": "stream",
     "text": [
      "NUTS regions:  99%|█████████▊| 200/203 [3:58:01<01:07, 22.51s/it]"
     ]
    },
    {
     "name": "stdout",
     "output_type": "stream",
     "text": [
      "No valid documents for NUTS region BE34 and period 8\n",
      "No valid documents for NUTS region ES11 and period 1\n",
      "No valid documents for NUTS region ES11 and period 2\n",
      "No valid documents for NUTS region ES11 and period 3\n",
      "No valid documents for NUTS region ES11 and period 4\n",
      "No valid documents for NUTS region ES11 and period 5\n",
      "No valid documents for NUTS region ES11 and period 6\n"
     ]
    },
    {
     "name": "stderr",
     "output_type": "stream",
     "text": [
      "Batches: 100%|██████████| 6/6 [00:14<00:00,  2.40s/it]\n",
      "NUTS regions:  99%|█████████▉| 201/203 [3:58:18<00:42, 21.06s/it]"
     ]
    },
    {
     "name": "stdout",
     "output_type": "stream",
     "text": [
      "Processed topic information for NUTS region ES11 and period 7\n",
      "No valid documents for NUTS region ES11 and period 8\n",
      "No valid documents for NUTS region PL41 and period 1\n",
      "No valid documents for NUTS region PL41 and period 2\n",
      "No valid documents for NUTS region PL41 and period 3\n",
      "No valid documents for NUTS region PL41 and period 4\n",
      "No valid documents for NUTS region PL41 and period 5\n",
      "No valid documents for NUTS region PL41 and period 6\n"
     ]
    },
    {
     "name": "stderr",
     "output_type": "stream",
     "text": [
      "Batches: 100%|██████████| 7/7 [00:18<00:00,  2.60s/it]\n",
      "NUTS regions: 100%|█████████▉| 202/203 [3:58:40<00:21, 21.19s/it]"
     ]
    },
    {
     "name": "stdout",
     "output_type": "stream",
     "text": [
      "Processed topic information for NUTS region PL41 and period 7\n",
      "No valid documents for NUTS region PL41 and period 8\n",
      "No valid documents for NUTS region PT16 and period 1\n",
      "No valid documents for NUTS region PT16 and period 2\n",
      "No valid documents for NUTS region PT16 and period 3\n",
      "No valid documents for NUTS region PT16 and period 4\n",
      "No valid documents for NUTS region PT16 and period 5\n",
      "No valid documents for NUTS region PT16 and period 6\n"
     ]
    },
    {
     "name": "stderr",
     "output_type": "stream",
     "text": [
      "Batches: 100%|██████████| 6/6 [00:14<00:00,  2.43s/it]\n",
      "NUTS regions: 100%|██████████| 203/203 [3:58:58<00:00, 70.63s/it]"
     ]
    },
    {
     "name": "stdout",
     "output_type": "stream",
     "text": [
      "Processed topic information for NUTS region PT16 and period 7\n",
      "No valid documents for NUTS region PT16 and period 8\n"
     ]
    },
    {
     "name": "stderr",
     "output_type": "stream",
     "text": [
      "\n"
     ]
    }
   ],
   "source": [
    "import pandas as pd\n",
    "from tqdm import tqdm\n",
    "from bertopic import BERTopic\n",
    "from sentence_transformers import SentenceTransformer\n",
    "from sklearn.feature_extraction.text import CountVectorizer\n",
    "from umap import UMAP\n",
    "from bertopic.vectorizers import ClassTfidfTransformer\n",
    "\n",
    "# Create an empty list to store the results\n",
    "all_results = []\n",
    "\n",
    "# Iterate over each 'nuts' and 'period', showing progress with tqdm\n",
    "for nuts in tqdm(df['nuts'].unique(), desc=\"NUTS regions\"):\n",
    "    for i in range(1, 9):\n",
    "        # Create a filtered copy of the dataset for 'nuts' and 'period'\n",
    "        filtered_df = df[(df['nuts'] == nuts) & (df['period'] == i)].copy()\n",
    "\n",
    "        # Extract the 'appln_abstract' column for BERTopic modeling, and ensure all entries are strings\n",
    "        docs = filtered_df['appln_abstract'].dropna().astype(str).tolist()\n",
    "\n",
    "        if len(docs) == 0:\n",
    "            print(f\"No valid documents for NUTS region {nuts} and period {i}\")\n",
    "            continue\n",
    "\n",
    "        try:\n",
    "            # Term Frequency, Inverse Document Frequency & transform docs into vectors\n",
    "            vectorizer_model = CountVectorizer(stop_words=all_stop_words)\n",
    "            ctfidf_model = ClassTfidfTransformer(reduce_frequent_words=True)\n",
    "            embedding_model = SentenceTransformer(\"all-MiniLM-L6-v2\")\n",
    "            embeddings = embedding_model.encode(docs, show_progress_bar=True)\n",
    "\n",
    "            # Dynamically set the number of neighbors for UMAP based on the number of documents\n",
    "            n_neighbors = min(15, len(docs) - 1)  # Ensures n_neighbors <= number of documents 15 or 30\n",
    "            if n_neighbors <= 2:  # UMAP requires n_neighbors to be at least 2\n",
    "                print(f\"Skipping NUTS region {nuts} and period {i} due to insufficient documents.\")\n",
    "                continue\n",
    "\n",
    "            umap_model = UMAP(n_neighbors=n_neighbors, min_dist=0.1, metric='cosine') # 0.0-0.3, a lower min_dist makes the clusters tighgter, whereas a higher value makes dispersed clusters\n",
    "\n",
    "            # hyper parameter 설정, 최대 10개의 주제를, 최소 min_topic_sizes 보다 큰 클러스터로 생성 \n",
    "            n_gram_ranges = (1, 2)  # n-gram 범위 (1, 1), (1, 2), (2, 2)\n",
    "            min_topic_sizes = max(2, int(len(docs) * 0.03))  # 한 클러스터에 포함되는 최소 문서 수 (1, 1.5, 2, 3%)\n",
    "            nr_topics_options = 20  # 최대 클러스터링 수 (5, 10, 15, 20개)\n",
    "\n",
    "            # 문서별로 할당된 주제 topics와 확률 probs\n",
    "            topic_model = BERTopic(\n",
    "                n_gram_range=n_gram_ranges,\n",
    "                min_topic_size=min_topic_sizes,\n",
    "                nr_topics=nr_topics_options,\n",
    "                embedding_model=embedding_model,\n",
    "                vectorizer_model=vectorizer_model,\n",
    "                calculate_probabilities=True,\n",
    "                ctfidf_model=ctfidf_model,\n",
    "                umap_model=umap_model\n",
    "            )\n",
    "\n",
    "            topics, probs = topic_model.fit_transform(docs, embeddings)\n",
    "\n",
    "            # 결과를 저장\n",
    "            freq = topic_model.get_topic_info()\n",
    "\n",
    "            # Add 'nuts' and 'period' columns to the topic info DataFrame\n",
    "            freq['nuts'] = nuts\n",
    "            freq['period'] = i\n",
    "\n",
    "            # Append the result to the list\n",
    "            all_results.append(freq)\n",
    "\n",
    "            print(f\"Processed topic information for NUTS region {nuts} and period {i}\")\n",
    "\n",
    "        except Exception as e:\n",
    "            print(f\"Error processing NUTS region {nuts} and period {i}: {e}\")\n",
    "\n",
    "# Combine all the results into a single DataFrame\n",
    "final_results = pd.concat(all_results, ignore_index=True)\n",
    "\n",
    "# Save the final combined DataFrame to a single CSV file\n",
    "final_results.to_csv('patent_bertopic.csv', index=False)"
   ]
  },
  {
   "cell_type": "code",
   "execution_count": 2,
   "metadata": {},
   "outputs": [
    {
     "data": {
      "text/html": [
       "<div>\n",
       "<style scoped>\n",
       "    .dataframe tbody tr th:only-of-type {\n",
       "        vertical-align: middle;\n",
       "    }\n",
       "\n",
       "    .dataframe tbody tr th {\n",
       "        vertical-align: top;\n",
       "    }\n",
       "\n",
       "    .dataframe thead th {\n",
       "        text-align: right;\n",
       "    }\n",
       "</style>\n",
       "<table border=\"1\" class=\"dataframe\">\n",
       "  <thead>\n",
       "    <tr style=\"text-align: right;\">\n",
       "      <th></th>\n",
       "      <th>Topic</th>\n",
       "      <th>Count</th>\n",
       "      <th>Name</th>\n",
       "      <th>Representation</th>\n",
       "      <th>Representative_Docs</th>\n",
       "      <th>nuts</th>\n",
       "      <th>period</th>\n",
       "    </tr>\n",
       "  </thead>\n",
       "  <tbody>\n",
       "    <tr>\n",
       "      <th>0</th>\n",
       "      <td>-1</td>\n",
       "      <td>389</td>\n",
       "      <td>-1_speech_image_signal_imaging</td>\n",
       "      <td>['speech', 'image', 'signal', 'imaging', 'ante...</td>\n",
       "      <td>[\"A module (1') adapted for insertion into a d...</td>\n",
       "      <td>FI1B</td>\n",
       "      <td>4</td>\n",
       "    </tr>\n",
       "    <tr>\n",
       "      <th>1</th>\n",
       "      <td>0</td>\n",
       "      <td>1435</td>\n",
       "      <td>0_web_invention_material_roll</td>\n",
       "      <td>['web', 'invention', 'material', 'roll', 'rela...</td>\n",
       "      <td>['A twin-wire gap former in a paper machine in...</td>\n",
       "      <td>FI1B</td>\n",
       "      <td>4</td>\n",
       "    </tr>\n",
       "    <tr>\n",
       "      <th>2</th>\n",
       "      <td>1</td>\n",
       "      <td>100</td>\n",
       "      <td>1_display_housing_user_keys</td>\n",
       "      <td>['display', 'housing', 'user', 'keys', 'handse...</td>\n",
       "      <td>['A radiophone is provided with a user interfa...</td>\n",
       "      <td>FI1B</td>\n",
       "      <td>4</td>\n",
       "    </tr>\n",
       "    <tr>\n",
       "      <th>3</th>\n",
       "      <td>2</td>\n",
       "      <td>1191</td>\n",
       "      <td>2_network_mobile_station_radio</td>\n",
       "      <td>['network', 'mobile', 'station', 'radio', 'inf...</td>\n",
       "      <td>['The present invention proposes a method for ...</td>\n",
       "      <td>FI1B</td>\n",
       "      <td>4</td>\n",
       "    </tr>\n",
       "    <tr>\n",
       "      <th>4</th>\n",
       "      <td>-1</td>\n",
       "      <td>688</td>\n",
       "      <td>-1_elevator_hoisting_rope_ropes</td>\n",
       "      <td>['elevator', 'hoisting', 'rope', 'ropes', 'car...</td>\n",
       "      <td>['The invention relates to a method for modern...</td>\n",
       "      <td>FI1B</td>\n",
       "      <td>5</td>\n",
       "    </tr>\n",
       "  </tbody>\n",
       "</table>\n",
       "</div>"
      ],
      "text/plain": [
       "   Topic  Count                             Name  \\\n",
       "0     -1    389   -1_speech_image_signal_imaging   \n",
       "1      0   1435    0_web_invention_material_roll   \n",
       "2      1    100      1_display_housing_user_keys   \n",
       "3      2   1191   2_network_mobile_station_radio   \n",
       "4     -1    688  -1_elevator_hoisting_rope_ropes   \n",
       "\n",
       "                                      Representation  \\\n",
       "0  ['speech', 'image', 'signal', 'imaging', 'ante...   \n",
       "1  ['web', 'invention', 'material', 'roll', 'rela...   \n",
       "2  ['display', 'housing', 'user', 'keys', 'handse...   \n",
       "3  ['network', 'mobile', 'station', 'radio', 'inf...   \n",
       "4  ['elevator', 'hoisting', 'rope', 'ropes', 'car...   \n",
       "\n",
       "                                 Representative_Docs  nuts  period  \n",
       "0  [\"A module (1') adapted for insertion into a d...  FI1B       4  \n",
       "1  ['A twin-wire gap former in a paper machine in...  FI1B       4  \n",
       "2  ['A radiophone is provided with a user interfa...  FI1B       4  \n",
       "3  ['The present invention proposes a method for ...  FI1B       4  \n",
       "4  ['The invention relates to a method for modern...  FI1B       5  "
      ]
     },
     "execution_count": 2,
     "metadata": {},
     "output_type": "execute_result"
    }
   ],
   "source": [
    "import pandas as pd\n",
    "final_results = pd.read_csv('eu_patent_bertopic_nuts2.csv')\n",
    "final_results.head()"
   ]
  },
  {
   "cell_type": "code",
   "execution_count": 3,
   "metadata": {},
   "outputs": [
    {
     "data": {
      "text/html": [
       "<div>\n",
       "<style scoped>\n",
       "    .dataframe tbody tr th:only-of-type {\n",
       "        vertical-align: middle;\n",
       "    }\n",
       "\n",
       "    .dataframe tbody tr th {\n",
       "        vertical-align: top;\n",
       "    }\n",
       "\n",
       "    .dataframe thead th {\n",
       "        text-align: right;\n",
       "    }\n",
       "</style>\n",
       "<table border=\"1\" class=\"dataframe\">\n",
       "  <thead>\n",
       "    <tr style=\"text-align: right;\">\n",
       "      <th></th>\n",
       "      <th>Topic</th>\n",
       "      <th>Count</th>\n",
       "      <th>Name</th>\n",
       "      <th>Representation</th>\n",
       "      <th>Representative_Docs</th>\n",
       "      <th>nuts</th>\n",
       "      <th>period</th>\n",
       "    </tr>\n",
       "  </thead>\n",
       "  <tbody>\n",
       "    <tr>\n",
       "      <th>0</th>\n",
       "      <td>-1</td>\n",
       "      <td>389</td>\n",
       "      <td>-1_speech_image_signal_imaging</td>\n",
       "      <td>['speech', 'image', 'signal', 'imaging', 'ante...</td>\n",
       "      <td>[\"A module (1') adapted for insertion into a d...</td>\n",
       "      <td>FI1B</td>\n",
       "      <td>4</td>\n",
       "    </tr>\n",
       "    <tr>\n",
       "      <th>4</th>\n",
       "      <td>-1</td>\n",
       "      <td>688</td>\n",
       "      <td>-1_elevator_hoisting_rope_ropes</td>\n",
       "      <td>['elevator', 'hoisting', 'rope', 'ropes', 'car...</td>\n",
       "      <td>['The invention relates to a method for modern...</td>\n",
       "      <td>FI1B</td>\n",
       "      <td>5</td>\n",
       "    </tr>\n",
       "    <tr>\n",
       "      <th>9</th>\n",
       "      <td>-1</td>\n",
       "      <td>538</td>\n",
       "      <td>-1_elevator_said_antenna_comprises</td>\n",
       "      <td>['elevator', 'said', 'antenna', 'comprises', '...</td>\n",
       "      <td>['A multi-layer dental panoramic and transvers...</td>\n",
       "      <td>FI1B</td>\n",
       "      <td>6</td>\n",
       "    </tr>\n",
       "    <tr>\n",
       "      <th>13</th>\n",
       "      <td>-1</td>\n",
       "      <td>506</td>\n",
       "      <td>-1_web_treatment_imaging_winding</td>\n",
       "      <td>['web', 'treatment', 'imaging', 'winding', 'po...</td>\n",
       "      <td>['The invention relates to a medical computed ...</td>\n",
       "      <td>FI1B</td>\n",
       "      <td>7</td>\n",
       "    </tr>\n",
       "    <tr>\n",
       "      <th>19</th>\n",
       "      <td>-1</td>\n",
       "      <td>160</td>\n",
       "      <td>-1_charging_glass_video_switching</td>\n",
       "      <td>['charging', 'glass', 'video', 'switching', 's...</td>\n",
       "      <td>['The invention discloses a method of improvin...</td>\n",
       "      <td>FI19</td>\n",
       "      <td>5</td>\n",
       "    </tr>\n",
       "    <tr>\n",
       "      <th>...</th>\n",
       "      <td>...</td>\n",
       "      <td>...</td>\n",
       "      <td>...</td>\n",
       "      <td>...</td>\n",
       "      <td>...</td>\n",
       "      <td>...</td>\n",
       "      <td>...</td>\n",
       "    </tr>\n",
       "    <tr>\n",
       "      <th>5050</th>\n",
       "      <td>-1</td>\n",
       "      <td>19</td>\n",
       "      <td>-1_sample_modified_rectangular_mastitis</td>\n",
       "      <td>['sample', 'modified', 'rectangular', 'mastiti...</td>\n",
       "      <td>['The invention is provided for detection of H...</td>\n",
       "      <td>EE00</td>\n",
       "      <td>6</td>\n",
       "    </tr>\n",
       "    <tr>\n",
       "      <th>5070</th>\n",
       "      <td>-1</td>\n",
       "      <td>10</td>\n",
       "      <td>-1_pile_nucleotide_sleeve_interlock</td>\n",
       "      <td>['pile', 'nucleotide', 'sleeve', 'interlock', ...</td>\n",
       "      <td>['A vent (10) for a mold having a mold cavity ...</td>\n",
       "      <td>BE34</td>\n",
       "      <td>5</td>\n",
       "    </tr>\n",
       "    <tr>\n",
       "      <th>5083</th>\n",
       "      <td>-1</td>\n",
       "      <td>28</td>\n",
       "      <td>-1_cache_tags_visor_acid</td>\n",
       "      <td>['cache', 'tags', 'visor', 'acid', 'ceramic', ...</td>\n",
       "      <td>['Process for enriching microalgal biomass, in...</td>\n",
       "      <td>ES11</td>\n",
       "      <td>7</td>\n",
       "    </tr>\n",
       "    <tr>\n",
       "      <th>5099</th>\n",
       "      <td>-1</td>\n",
       "      <td>21</td>\n",
       "      <td>-1_test_elevator_car_photoluminescent</td>\n",
       "      <td>['test', 'elevator', 'car', 'photoluminescent'...</td>\n",
       "      <td>['The invention relates to a method for develo...</td>\n",
       "      <td>PL41</td>\n",
       "      <td>7</td>\n",
       "    </tr>\n",
       "    <tr>\n",
       "      <th>5117</th>\n",
       "      <td>-1</td>\n",
       "      <td>36</td>\n",
       "      <td>-1_application_systems_wine_cooling</td>\n",
       "      <td>['application', 'systems', 'wine', 'cooling', ...</td>\n",
       "      <td>['The present invention relates to a sliding e...</td>\n",
       "      <td>PT16</td>\n",
       "      <td>7</td>\n",
       "    </tr>\n",
       "  </tbody>\n",
       "</table>\n",
       "<p>605 rows × 7 columns</p>\n",
       "</div>"
      ],
      "text/plain": [
       "      Topic  Count                                     Name  \\\n",
       "0        -1    389           -1_speech_image_signal_imaging   \n",
       "4        -1    688          -1_elevator_hoisting_rope_ropes   \n",
       "9        -1    538       -1_elevator_said_antenna_comprises   \n",
       "13       -1    506         -1_web_treatment_imaging_winding   \n",
       "19       -1    160        -1_charging_glass_video_switching   \n",
       "...     ...    ...                                      ...   \n",
       "5050     -1     19  -1_sample_modified_rectangular_mastitis   \n",
       "5070     -1     10      -1_pile_nucleotide_sleeve_interlock   \n",
       "5083     -1     28                 -1_cache_tags_visor_acid   \n",
       "5099     -1     21    -1_test_elevator_car_photoluminescent   \n",
       "5117     -1     36      -1_application_systems_wine_cooling   \n",
       "\n",
       "                                         Representation  \\\n",
       "0     ['speech', 'image', 'signal', 'imaging', 'ante...   \n",
       "4     ['elevator', 'hoisting', 'rope', 'ropes', 'car...   \n",
       "9     ['elevator', 'said', 'antenna', 'comprises', '...   \n",
       "13    ['web', 'treatment', 'imaging', 'winding', 'po...   \n",
       "19    ['charging', 'glass', 'video', 'switching', 's...   \n",
       "...                                                 ...   \n",
       "5050  ['sample', 'modified', 'rectangular', 'mastiti...   \n",
       "5070  ['pile', 'nucleotide', 'sleeve', 'interlock', ...   \n",
       "5083  ['cache', 'tags', 'visor', 'acid', 'ceramic', ...   \n",
       "5099  ['test', 'elevator', 'car', 'photoluminescent'...   \n",
       "5117  ['application', 'systems', 'wine', 'cooling', ...   \n",
       "\n",
       "                                    Representative_Docs  nuts  period  \n",
       "0     [\"A module (1') adapted for insertion into a d...  FI1B       4  \n",
       "4     ['The invention relates to a method for modern...  FI1B       5  \n",
       "9     ['A multi-layer dental panoramic and transvers...  FI1B       6  \n",
       "13    ['The invention relates to a medical computed ...  FI1B       7  \n",
       "19    ['The invention discloses a method of improvin...  FI19       5  \n",
       "...                                                 ...   ...     ...  \n",
       "5050  ['The invention is provided for detection of H...  EE00       6  \n",
       "5070  ['A vent (10) for a mold having a mold cavity ...  BE34       5  \n",
       "5083  ['Process for enriching microalgal biomass, in...  ES11       7  \n",
       "5099  ['The invention relates to a method for develo...  PL41       7  \n",
       "5117  ['The present invention relates to a sliding e...  PT16       7  \n",
       "\n",
       "[605 rows x 7 columns]"
      ]
     },
     "execution_count": 3,
     "metadata": {},
     "output_type": "execute_result"
    }
   ],
   "source": [
    "final_results[final_results['Topic'] == -1]"
   ]
  },
  {
   "cell_type": "code",
   "execution_count": 4,
   "metadata": {},
   "outputs": [
    {
     "data": {
      "text/html": [
       "<div>\n",
       "<style scoped>\n",
       "    .dataframe tbody tr th:only-of-type {\n",
       "        vertical-align: middle;\n",
       "    }\n",
       "\n",
       "    .dataframe tbody tr th {\n",
       "        vertical-align: top;\n",
       "    }\n",
       "\n",
       "    .dataframe thead th {\n",
       "        text-align: right;\n",
       "    }\n",
       "</style>\n",
       "<table border=\"1\" class=\"dataframe\">\n",
       "  <thead>\n",
       "    <tr style=\"text-align: right;\">\n",
       "      <th></th>\n",
       "      <th>NUTS</th>\n",
       "      <th>Period</th>\n",
       "      <th>topic_minus_one_ratio</th>\n",
       "    </tr>\n",
       "  </thead>\n",
       "  <tbody>\n",
       "    <tr>\n",
       "      <th>0</th>\n",
       "      <td>AT12</td>\n",
       "      <td>4</td>\n",
       "      <td>0.158659</td>\n",
       "    </tr>\n",
       "    <tr>\n",
       "      <th>1</th>\n",
       "      <td>AT12</td>\n",
       "      <td>5</td>\n",
       "      <td>0.043441</td>\n",
       "    </tr>\n",
       "    <tr>\n",
       "      <th>2</th>\n",
       "      <td>AT12</td>\n",
       "      <td>6</td>\n",
       "      <td>0.057731</td>\n",
       "    </tr>\n",
       "    <tr>\n",
       "      <th>3</th>\n",
       "      <td>AT13</td>\n",
       "      <td>4</td>\n",
       "      <td>0.261905</td>\n",
       "    </tr>\n",
       "    <tr>\n",
       "      <th>4</th>\n",
       "      <td>AT13</td>\n",
       "      <td>5</td>\n",
       "      <td>0.037215</td>\n",
       "    </tr>\n",
       "    <tr>\n",
       "      <th>...</th>\n",
       "      <td>...</td>\n",
       "      <td>...</td>\n",
       "      <td>...</td>\n",
       "    </tr>\n",
       "    <tr>\n",
       "      <th>664</th>\n",
       "      <td>UKM5</td>\n",
       "      <td>6</td>\n",
       "      <td>0.004598</td>\n",
       "    </tr>\n",
       "    <tr>\n",
       "      <th>665</th>\n",
       "      <td>UKN0</td>\n",
       "      <td>4</td>\n",
       "      <td>0.130435</td>\n",
       "    </tr>\n",
       "    <tr>\n",
       "      <th>666</th>\n",
       "      <td>UKN0</td>\n",
       "      <td>5</td>\n",
       "      <td>0.196078</td>\n",
       "    </tr>\n",
       "    <tr>\n",
       "      <th>667</th>\n",
       "      <td>UKN0</td>\n",
       "      <td>6</td>\n",
       "      <td>0.175385</td>\n",
       "    </tr>\n",
       "    <tr>\n",
       "      <th>668</th>\n",
       "      <td>UKN0</td>\n",
       "      <td>7</td>\n",
       "      <td>0.012270</td>\n",
       "    </tr>\n",
       "  </tbody>\n",
       "</table>\n",
       "<p>669 rows × 3 columns</p>\n",
       "</div>"
      ],
      "text/plain": [
       "     NUTS  Period  topic_minus_one_ratio\n",
       "0    AT12       4               0.158659\n",
       "1    AT12       5               0.043441\n",
       "2    AT12       6               0.057731\n",
       "3    AT13       4               0.261905\n",
       "4    AT13       5               0.037215\n",
       "..    ...     ...                    ...\n",
       "664  UKM5       6               0.004598\n",
       "665  UKN0       4               0.130435\n",
       "666  UKN0       5               0.196078\n",
       "667  UKN0       6               0.175385\n",
       "668  UKN0       7               0.012270\n",
       "\n",
       "[669 rows x 3 columns]"
      ]
     },
     "execution_count": 4,
     "metadata": {},
     "output_type": "execute_result"
    }
   ],
   "source": [
    "# Step 1: Total count per nuts and period\n",
    "total_count = final_results.groupby(['nuts', 'period'])['Count'].sum()\n",
    "\n",
    "# Step 2: Count for Topic == -1 per nuts and period\n",
    "minus_one_count = final_results[final_results['Topic'] == -1].groupby(['nuts', 'period'])['Count'].sum()\n",
    "\n",
    "# Step 3: Calculate ratio\n",
    "ratio = (minus_one_count / total_count).reset_index(name='topic_minus_one_ratio')\n",
    "\n",
    "# Optional: rename columns for clarity\n",
    "ratio = ratio.rename(columns={'nuts': 'NUTS', 'period': 'Period'})\n",
    "ratio"
   ]
  },
  {
   "cell_type": "code",
   "execution_count": 5,
   "metadata": {},
   "outputs": [
    {
     "data": {
      "text/plain": [
       "count    605.000000\n",
       "mean       0.175335\n",
       "std        0.121484\n",
       "min        0.001229\n",
       "25%        0.075342\n",
       "50%        0.165217\n",
       "75%        0.256659\n",
       "max        0.604601\n",
       "Name: topic_minus_one_ratio, dtype: float64"
      ]
     },
     "execution_count": 5,
     "metadata": {},
     "output_type": "execute_result"
    }
   ],
   "source": [
    "ratio['topic_minus_one_ratio'].describe()"
   ]
  },
  {
   "cell_type": "markdown",
   "metadata": {},
   "source": [
    "# **ChatGPT를 활용한 Label 생성**"
   ]
  },
  {
   "cell_type": "code",
   "execution_count": null,
   "metadata": {},
   "outputs": [],
   "source": [
    "from openai import OpenAI\n",
    "\n",
    "# client = OpenAI(api_key=\"\")\n",
    "\n",
    "final_results = pd.read_csv('eu_patent_bertopic_nuts2.csv')\n",
    "\n",
    "# List to hold results \n",
    "results = []\n",
    "\n",
    "# Iterate through each row in the DataFrame\n",
    "for index, row in final_results.iterrows():\n",
    "    keywords = row['Representation']\n",
    "\n",
    "    # Prompt for OpenAI\n",
    "    prompt = f'''{keywords}\n",
    "    The list of words are the outcome of the topic modeling from patent publications.\n",
    "    Generate a new label that best describes the topic of the articles as follow: <new science topic>\n",
    "    Provide a specific and detailed label. I want just a single label. I do not want descriptions for the labels.'''\n",
    "\n",
    "    try:\n",
    "        # Call the OpenAI API to generate the new label\n",
    "        response = client.chat.completions.create(\n",
    "            model=\"gpt-4o\",\n",
    "            messages=[\n",
    "                {\"role\": \"system\", \"content\": \"You are an AI assistant that generates labels for topics based on provided keywords.\"},\n",
    "                {\"role\": \"user\", \"content\": prompt}\n",
    "            ]\n",
    "        )\n",
    "\n",
    "        # Get the label from the response \n",
    "        new_label = response.choices[0].message.content.strip()\n",
    "\n",
    "        # Append the result to the list\n",
    "        results.append({\n",
    "            'nuts' : row['nuts'],\n",
    "            'period' : row['period'],\n",
    "            'keyword' : keywords,\n",
    "            'content' : new_label\n",
    "        })\n",
    "    \n",
    "    except Exception as e:\n",
    "        print(f\"Error processing row {index}: {e}\")\n",
    "\n",
    "# Convert the results list to a DataFrame\n",
    "results_df = pd.DataFrame(results)\n",
    "\n",
    "# Save the results to a CSV file\n",
    "results_df.to_csv('eu_patent_bertopic_nuts2_labels.csv', index=False)"
   ]
  },
  {
   "cell_type": "code",
   "execution_count": null,
   "metadata": {},
   "outputs": [],
   "source": []
  }
 ],
 "metadata": {
  "kernelspec": {
   "display_name": "base",
   "language": "python",
   "name": "python3"
  },
  "language_info": {
   "codemirror_mode": {
    "name": "ipython",
    "version": 3
   },
   "file_extension": ".py",
   "mimetype": "text/x-python",
   "name": "python",
   "nbconvert_exporter": "python",
   "pygments_lexer": "ipython3",
   "version": "3.11.7"
  }
 },
 "nbformat": 4,
 "nbformat_minor": 2
}
